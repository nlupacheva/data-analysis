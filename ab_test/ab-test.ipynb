{
 "cells": [
  {
   "cell_type": "markdown",
   "metadata": {},
   "source": [
    "# Исследование гипотез для увеличения выручки интернет-магазина \n",
    "Вместе с отделом маркетинга мы подготовили список гипотез для увеличения выручки.\n",
    "В рамках данного проекта гипотезы будут приоритизированы, будет запущен A/B-тест и проведён анализ результатов. "
   ]
  },
  {
   "cell_type": "markdown",
   "metadata": {},
   "source": [
    "# Часть 1. Приоритизация гипотез.\n",
    "Загрузим гипотезы, расставим приоритеты методами RICE и ICE, сравним результаты. "
   ]
  },
  {
   "cell_type": "code",
   "execution_count": 1,
   "metadata": {},
   "outputs": [],
   "source": [
    "# вынесем импорт нужных модулей отдельно в начало проекта\n",
    "import pandas as pd \n",
    "from matplotlib import pyplot as plt\n",
    "import numpy as np\n",
    "from matplotlib import pyplot as plt\n",
    "%matplotlib inline\n",
    "from pandas.plotting import register_matplotlib_converters\n",
    "import warnings\n",
    "import scipy.stats as stats"
   ]
  },
  {
   "cell_type": "code",
   "execution_count": 2,
   "metadata": {},
   "outputs": [],
   "source": [
    "# настройки отображения данных \n",
    "# снимаем ограничение на ширину столбцов\n",
    "pd.set_option('display.max_colwidth', None)"
   ]
  },
  {
   "cell_type": "code",
   "execution_count": 3,
   "metadata": {},
   "outputs": [
    {
     "data": {
      "text/html": [
       "<div>\n",
       "<style scoped>\n",
       "    .dataframe tbody tr th:only-of-type {\n",
       "        vertical-align: middle;\n",
       "    }\n",
       "\n",
       "    .dataframe tbody tr th {\n",
       "        vertical-align: top;\n",
       "    }\n",
       "\n",
       "    .dataframe thead th {\n",
       "        text-align: right;\n",
       "    }\n",
       "</style>\n",
       "<table border=\"1\" class=\"dataframe\">\n",
       "  <thead>\n",
       "    <tr style=\"text-align: right;\">\n",
       "      <th></th>\n",
       "      <th>Hypothesis</th>\n",
       "      <th>Reach</th>\n",
       "      <th>Impact</th>\n",
       "      <th>Confidence</th>\n",
       "      <th>Efforts</th>\n",
       "    </tr>\n",
       "  </thead>\n",
       "  <tbody>\n",
       "    <tr>\n",
       "      <th>0</th>\n",
       "      <td>Добавить два новых канала привлечения трафика, что позволит привлекать на 30% больше пользователей</td>\n",
       "      <td>3</td>\n",
       "      <td>10</td>\n",
       "      <td>8</td>\n",
       "      <td>6</td>\n",
       "    </tr>\n",
       "    <tr>\n",
       "      <th>1</th>\n",
       "      <td>Запустить собственную службу доставки, что сократит срок доставки заказов</td>\n",
       "      <td>2</td>\n",
       "      <td>5</td>\n",
       "      <td>4</td>\n",
       "      <td>10</td>\n",
       "    </tr>\n",
       "    <tr>\n",
       "      <th>2</th>\n",
       "      <td>Добавить блоки рекомендаций товаров на сайт интернет магазина, чтобы повысить конверсию и средний чек заказа</td>\n",
       "      <td>8</td>\n",
       "      <td>3</td>\n",
       "      <td>7</td>\n",
       "      <td>3</td>\n",
       "    </tr>\n",
       "    <tr>\n",
       "      <th>3</th>\n",
       "      <td>Изменить структура категорий, что увеличит конверсию, т.к. пользователи быстрее найдут нужный товар</td>\n",
       "      <td>8</td>\n",
       "      <td>3</td>\n",
       "      <td>3</td>\n",
       "      <td>8</td>\n",
       "    </tr>\n",
       "    <tr>\n",
       "      <th>4</th>\n",
       "      <td>Изменить цвет фона главной страницы, чтобы увеличить вовлеченность пользователей</td>\n",
       "      <td>3</td>\n",
       "      <td>1</td>\n",
       "      <td>1</td>\n",
       "      <td>1</td>\n",
       "    </tr>\n",
       "    <tr>\n",
       "      <th>5</th>\n",
       "      <td>Добавить страницу отзывов клиентов о магазине, что позволит увеличить количество заказов</td>\n",
       "      <td>3</td>\n",
       "      <td>2</td>\n",
       "      <td>2</td>\n",
       "      <td>3</td>\n",
       "    </tr>\n",
       "    <tr>\n",
       "      <th>6</th>\n",
       "      <td>Показать на главной странице баннеры с актуальными акциями и распродажами, чтобы увеличить конверсию</td>\n",
       "      <td>5</td>\n",
       "      <td>3</td>\n",
       "      <td>8</td>\n",
       "      <td>3</td>\n",
       "    </tr>\n",
       "    <tr>\n",
       "      <th>7</th>\n",
       "      <td>Добавить форму подписки на все основные страницы, чтобы собрать базу клиентов для email-рассылок</td>\n",
       "      <td>10</td>\n",
       "      <td>7</td>\n",
       "      <td>8</td>\n",
       "      <td>5</td>\n",
       "    </tr>\n",
       "    <tr>\n",
       "      <th>8</th>\n",
       "      <td>Запустить акцию, дающую скидку на товар в день рождения</td>\n",
       "      <td>1</td>\n",
       "      <td>9</td>\n",
       "      <td>9</td>\n",
       "      <td>5</td>\n",
       "    </tr>\n",
       "  </tbody>\n",
       "</table>\n",
       "</div>"
      ],
      "text/plain": [
       "                                                                                                     Hypothesis  \\\n",
       "0            Добавить два новых канала привлечения трафика, что позволит привлекать на 30% больше пользователей   \n",
       "1                                     Запустить собственную службу доставки, что сократит срок доставки заказов   \n",
       "2  Добавить блоки рекомендаций товаров на сайт интернет магазина, чтобы повысить конверсию и средний чек заказа   \n",
       "3           Изменить структура категорий, что увеличит конверсию, т.к. пользователи быстрее найдут нужный товар   \n",
       "4                              Изменить цвет фона главной страницы, чтобы увеличить вовлеченность пользователей   \n",
       "5                      Добавить страницу отзывов клиентов о магазине, что позволит увеличить количество заказов   \n",
       "6          Показать на главной странице баннеры с актуальными акциями и распродажами, чтобы увеличить конверсию   \n",
       "7              Добавить форму подписки на все основные страницы, чтобы собрать базу клиентов для email-рассылок   \n",
       "8                                                       Запустить акцию, дающую скидку на товар в день рождения   \n",
       "\n",
       "   Reach  Impact  Confidence  Efforts  \n",
       "0      3      10           8        6  \n",
       "1      2       5           4       10  \n",
       "2      8       3           7        3  \n",
       "3      8       3           3        8  \n",
       "4      3       1           1        1  \n",
       "5      3       2           2        3  \n",
       "6      5       3           8        3  \n",
       "7     10       7           8        5  \n",
       "8      1       9           9        5  "
      ]
     },
     "metadata": {},
     "output_type": "display_data"
    }
   ],
   "source": [
    "hypothesis = pd.read_csv('/datasets/hypothesis.csv')\n",
    "\n",
    "display(hypothesis)"
   ]
  },
  {
   "cell_type": "markdown",
   "metadata": {},
   "source": [
    "Данных не так много, но для удобства работы с ними потребуется некоторая обработка: приведём названия столбцов к нижнему регистру. "
   ]
  },
  {
   "cell_type": "code",
   "execution_count": 4,
   "metadata": {},
   "outputs": [
    {
     "data": {
      "text/html": [
       "<div>\n",
       "<style scoped>\n",
       "    .dataframe tbody tr th:only-of-type {\n",
       "        vertical-align: middle;\n",
       "    }\n",
       "\n",
       "    .dataframe tbody tr th {\n",
       "        vertical-align: top;\n",
       "    }\n",
       "\n",
       "    .dataframe thead th {\n",
       "        text-align: right;\n",
       "    }\n",
       "</style>\n",
       "<table border=\"1\" class=\"dataframe\">\n",
       "  <thead>\n",
       "    <tr style=\"text-align: right;\">\n",
       "      <th></th>\n",
       "      <th>hypothesis</th>\n",
       "      <th>reach</th>\n",
       "      <th>impact</th>\n",
       "      <th>confidence</th>\n",
       "      <th>efforts</th>\n",
       "    </tr>\n",
       "  </thead>\n",
       "  <tbody>\n",
       "    <tr>\n",
       "      <th>0</th>\n",
       "      <td>Добавить два новых канала привлечения трафика, что позволит привлекать на 30% больше пользователей</td>\n",
       "      <td>3</td>\n",
       "      <td>10</td>\n",
       "      <td>8</td>\n",
       "      <td>6</td>\n",
       "    </tr>\n",
       "    <tr>\n",
       "      <th>1</th>\n",
       "      <td>Запустить собственную службу доставки, что сократит срок доставки заказов</td>\n",
       "      <td>2</td>\n",
       "      <td>5</td>\n",
       "      <td>4</td>\n",
       "      <td>10</td>\n",
       "    </tr>\n",
       "    <tr>\n",
       "      <th>2</th>\n",
       "      <td>Добавить блоки рекомендаций товаров на сайт интернет магазина, чтобы повысить конверсию и средний чек заказа</td>\n",
       "      <td>8</td>\n",
       "      <td>3</td>\n",
       "      <td>7</td>\n",
       "      <td>3</td>\n",
       "    </tr>\n",
       "    <tr>\n",
       "      <th>3</th>\n",
       "      <td>Изменить структура категорий, что увеличит конверсию, т.к. пользователи быстрее найдут нужный товар</td>\n",
       "      <td>8</td>\n",
       "      <td>3</td>\n",
       "      <td>3</td>\n",
       "      <td>8</td>\n",
       "    </tr>\n",
       "    <tr>\n",
       "      <th>4</th>\n",
       "      <td>Изменить цвет фона главной страницы, чтобы увеличить вовлеченность пользователей</td>\n",
       "      <td>3</td>\n",
       "      <td>1</td>\n",
       "      <td>1</td>\n",
       "      <td>1</td>\n",
       "    </tr>\n",
       "    <tr>\n",
       "      <th>5</th>\n",
       "      <td>Добавить страницу отзывов клиентов о магазине, что позволит увеличить количество заказов</td>\n",
       "      <td>3</td>\n",
       "      <td>2</td>\n",
       "      <td>2</td>\n",
       "      <td>3</td>\n",
       "    </tr>\n",
       "    <tr>\n",
       "      <th>6</th>\n",
       "      <td>Показать на главной странице баннеры с актуальными акциями и распродажами, чтобы увеличить конверсию</td>\n",
       "      <td>5</td>\n",
       "      <td>3</td>\n",
       "      <td>8</td>\n",
       "      <td>3</td>\n",
       "    </tr>\n",
       "    <tr>\n",
       "      <th>7</th>\n",
       "      <td>Добавить форму подписки на все основные страницы, чтобы собрать базу клиентов для email-рассылок</td>\n",
       "      <td>10</td>\n",
       "      <td>7</td>\n",
       "      <td>8</td>\n",
       "      <td>5</td>\n",
       "    </tr>\n",
       "    <tr>\n",
       "      <th>8</th>\n",
       "      <td>Запустить акцию, дающую скидку на товар в день рождения</td>\n",
       "      <td>1</td>\n",
       "      <td>9</td>\n",
       "      <td>9</td>\n",
       "      <td>5</td>\n",
       "    </tr>\n",
       "  </tbody>\n",
       "</table>\n",
       "</div>"
      ],
      "text/plain": [
       "                                                                                                     hypothesis  \\\n",
       "0            Добавить два новых канала привлечения трафика, что позволит привлекать на 30% больше пользователей   \n",
       "1                                     Запустить собственную службу доставки, что сократит срок доставки заказов   \n",
       "2  Добавить блоки рекомендаций товаров на сайт интернет магазина, чтобы повысить конверсию и средний чек заказа   \n",
       "3           Изменить структура категорий, что увеличит конверсию, т.к. пользователи быстрее найдут нужный товар   \n",
       "4                              Изменить цвет фона главной страницы, чтобы увеличить вовлеченность пользователей   \n",
       "5                      Добавить страницу отзывов клиентов о магазине, что позволит увеличить количество заказов   \n",
       "6          Показать на главной странице баннеры с актуальными акциями и распродажами, чтобы увеличить конверсию   \n",
       "7              Добавить форму подписки на все основные страницы, чтобы собрать базу клиентов для email-рассылок   \n",
       "8                                                       Запустить акцию, дающую скидку на товар в день рождения   \n",
       "\n",
       "   reach  impact  confidence  efforts  \n",
       "0      3      10           8        6  \n",
       "1      2       5           4       10  \n",
       "2      8       3           7        3  \n",
       "3      8       3           3        8  \n",
       "4      3       1           1        1  \n",
       "5      3       2           2        3  \n",
       "6      5       3           8        3  \n",
       "7     10       7           8        5  \n",
       "8      1       9           9        5  "
      ]
     },
     "metadata": {},
     "output_type": "display_data"
    }
   ],
   "source": [
    "hypothesis.columns = hypothesis.columns.str.lower() \n",
    "display(hypothesis)"
   ]
  },
  {
   "cell_type": "markdown",
   "metadata": {},
   "source": [
    "Теперь, когда со столбцами удобно работать, можно приступать к приоритизации гипотез."
   ]
  },
  {
   "cell_type": "markdown",
   "metadata": {},
   "source": [
    "Согласно документации, мы располагаем следующим набором данных: \n",
    "- `Hypothesis` — краткое описание гипотезы;\n",
    "- `Reach` — охват пользователей по 10-балльной шкале;\n",
    "- `Impact` — влияние на пользователей по 10-балльной шкале;\n",
    "- `Confidence` — уверенность в гипотезе по 10-балльной шкале;\n",
    "- `Efforts` — затраты ресурсов на проверку гипотезы по 10-балльной шкале. Чем больше значение Efforts, тем дороже проверка гипотезы."
   ]
  },
  {
   "cell_type": "markdown",
   "metadata": {},
   "source": [
    "Чтобы получить \"вес\" гипотезы по методу RICE, нужно перемножить reach, impact и confidence, и результат поделить на effort. \n",
    "Для получения того же значения по методу ICE из формулы исключаем reach. \n",
    "\n",
    "Добавим значения как отдельные столбцы в наш набор данныx."
   ]
  },
  {
   "cell_type": "code",
   "execution_count": 5,
   "metadata": {},
   "outputs": [
    {
     "name": "stdout",
     "output_type": "stream",
     "text": [
      "<class 'pandas.core.frame.DataFrame'>\n",
      "RangeIndex: 9 entries, 0 to 8\n",
      "Data columns (total 7 columns):\n",
      " #   Column      Non-Null Count  Dtype  \n",
      "---  ------      --------------  -----  \n",
      " 0   hypothesis  9 non-null      object \n",
      " 1   reach       9 non-null      int64  \n",
      " 2   impact      9 non-null      int64  \n",
      " 3   confidence  9 non-null      int64  \n",
      " 4   efforts     9 non-null      int64  \n",
      " 5   rice        9 non-null      float64\n",
      " 6   ice         9 non-null      float64\n",
      "dtypes: float64(2), int64(4), object(1)\n",
      "memory usage: 632.0+ bytes\n"
     ]
    }
   ],
   "source": [
    "hypothesis['rice'] = (hypothesis['reach'] * hypothesis['impact'] * hypothesis['confidence'])/hypothesis['efforts']\n",
    "hypothesis['ice'] = (hypothesis['impact'] * hypothesis['confidence'])/hypothesis['efforts']\n",
    "hypothesis.info()"
   ]
  },
  {
   "cell_type": "code",
   "execution_count": 6,
   "metadata": {},
   "outputs": [
    {
     "data": {
      "text/html": [
       "<div>\n",
       "<style scoped>\n",
       "    .dataframe tbody tr th:only-of-type {\n",
       "        vertical-align: middle;\n",
       "    }\n",
       "\n",
       "    .dataframe tbody tr th {\n",
       "        vertical-align: top;\n",
       "    }\n",
       "\n",
       "    .dataframe thead th {\n",
       "        text-align: right;\n",
       "    }\n",
       "</style>\n",
       "<table border=\"1\" class=\"dataframe\">\n",
       "  <thead>\n",
       "    <tr style=\"text-align: right;\">\n",
       "      <th></th>\n",
       "      <th>hypothesis</th>\n",
       "      <th>reach</th>\n",
       "      <th>impact</th>\n",
       "      <th>confidence</th>\n",
       "      <th>efforts</th>\n",
       "      <th>rice</th>\n",
       "      <th>ice</th>\n",
       "    </tr>\n",
       "  </thead>\n",
       "  <tbody>\n",
       "    <tr>\n",
       "      <th>7</th>\n",
       "      <td>Добавить форму подписки на все основные страницы, чтобы собрать базу клиентов для email-рассылок</td>\n",
       "      <td>10</td>\n",
       "      <td>7</td>\n",
       "      <td>8</td>\n",
       "      <td>5</td>\n",
       "      <td>112.0</td>\n",
       "      <td>11.200000</td>\n",
       "    </tr>\n",
       "    <tr>\n",
       "      <th>2</th>\n",
       "      <td>Добавить блоки рекомендаций товаров на сайт интернет магазина, чтобы повысить конверсию и средний чек заказа</td>\n",
       "      <td>8</td>\n",
       "      <td>3</td>\n",
       "      <td>7</td>\n",
       "      <td>3</td>\n",
       "      <td>56.0</td>\n",
       "      <td>7.000000</td>\n",
       "    </tr>\n",
       "    <tr>\n",
       "      <th>0</th>\n",
       "      <td>Добавить два новых канала привлечения трафика, что позволит привлекать на 30% больше пользователей</td>\n",
       "      <td>3</td>\n",
       "      <td>10</td>\n",
       "      <td>8</td>\n",
       "      <td>6</td>\n",
       "      <td>40.0</td>\n",
       "      <td>13.333333</td>\n",
       "    </tr>\n",
       "    <tr>\n",
       "      <th>6</th>\n",
       "      <td>Показать на главной странице баннеры с актуальными акциями и распродажами, чтобы увеличить конверсию</td>\n",
       "      <td>5</td>\n",
       "      <td>3</td>\n",
       "      <td>8</td>\n",
       "      <td>3</td>\n",
       "      <td>40.0</td>\n",
       "      <td>8.000000</td>\n",
       "    </tr>\n",
       "    <tr>\n",
       "      <th>8</th>\n",
       "      <td>Запустить акцию, дающую скидку на товар в день рождения</td>\n",
       "      <td>1</td>\n",
       "      <td>9</td>\n",
       "      <td>9</td>\n",
       "      <td>5</td>\n",
       "      <td>16.2</td>\n",
       "      <td>16.200000</td>\n",
       "    </tr>\n",
       "    <tr>\n",
       "      <th>3</th>\n",
       "      <td>Изменить структура категорий, что увеличит конверсию, т.к. пользователи быстрее найдут нужный товар</td>\n",
       "      <td>8</td>\n",
       "      <td>3</td>\n",
       "      <td>3</td>\n",
       "      <td>8</td>\n",
       "      <td>9.0</td>\n",
       "      <td>1.125000</td>\n",
       "    </tr>\n",
       "    <tr>\n",
       "      <th>1</th>\n",
       "      <td>Запустить собственную службу доставки, что сократит срок доставки заказов</td>\n",
       "      <td>2</td>\n",
       "      <td>5</td>\n",
       "      <td>4</td>\n",
       "      <td>10</td>\n",
       "      <td>4.0</td>\n",
       "      <td>2.000000</td>\n",
       "    </tr>\n",
       "    <tr>\n",
       "      <th>5</th>\n",
       "      <td>Добавить страницу отзывов клиентов о магазине, что позволит увеличить количество заказов</td>\n",
       "      <td>3</td>\n",
       "      <td>2</td>\n",
       "      <td>2</td>\n",
       "      <td>3</td>\n",
       "      <td>4.0</td>\n",
       "      <td>1.333333</td>\n",
       "    </tr>\n",
       "    <tr>\n",
       "      <th>4</th>\n",
       "      <td>Изменить цвет фона главной страницы, чтобы увеличить вовлеченность пользователей</td>\n",
       "      <td>3</td>\n",
       "      <td>1</td>\n",
       "      <td>1</td>\n",
       "      <td>1</td>\n",
       "      <td>3.0</td>\n",
       "      <td>1.000000</td>\n",
       "    </tr>\n",
       "  </tbody>\n",
       "</table>\n",
       "</div>"
      ],
      "text/plain": [
       "                                                                                                     hypothesis  \\\n",
       "7              Добавить форму подписки на все основные страницы, чтобы собрать базу клиентов для email-рассылок   \n",
       "2  Добавить блоки рекомендаций товаров на сайт интернет магазина, чтобы повысить конверсию и средний чек заказа   \n",
       "0            Добавить два новых канала привлечения трафика, что позволит привлекать на 30% больше пользователей   \n",
       "6          Показать на главной странице баннеры с актуальными акциями и распродажами, чтобы увеличить конверсию   \n",
       "8                                                       Запустить акцию, дающую скидку на товар в день рождения   \n",
       "3           Изменить структура категорий, что увеличит конверсию, т.к. пользователи быстрее найдут нужный товар   \n",
       "1                                     Запустить собственную службу доставки, что сократит срок доставки заказов   \n",
       "5                      Добавить страницу отзывов клиентов о магазине, что позволит увеличить количество заказов   \n",
       "4                              Изменить цвет фона главной страницы, чтобы увеличить вовлеченность пользователей   \n",
       "\n",
       "   reach  impact  confidence  efforts   rice        ice  \n",
       "7     10       7           8        5  112.0  11.200000  \n",
       "2      8       3           7        3   56.0   7.000000  \n",
       "0      3      10           8        6   40.0  13.333333  \n",
       "6      5       3           8        3   40.0   8.000000  \n",
       "8      1       9           9        5   16.2  16.200000  \n",
       "3      8       3           3        8    9.0   1.125000  \n",
       "1      2       5           4       10    4.0   2.000000  \n",
       "5      3       2           2        3    4.0   1.333333  \n",
       "4      3       1           1        1    3.0   1.000000  "
      ]
     },
     "metadata": {},
     "output_type": "display_data"
    }
   ],
   "source": [
    "display(hypothesis.sort_values(by = 'rice', ascending = False))"
   ]
  },
  {
   "cell_type": "code",
   "execution_count": 7,
   "metadata": {
    "scrolled": true
   },
   "outputs": [
    {
     "data": {
      "text/html": [
       "<div>\n",
       "<style scoped>\n",
       "    .dataframe tbody tr th:only-of-type {\n",
       "        vertical-align: middle;\n",
       "    }\n",
       "\n",
       "    .dataframe tbody tr th {\n",
       "        vertical-align: top;\n",
       "    }\n",
       "\n",
       "    .dataframe thead th {\n",
       "        text-align: right;\n",
       "    }\n",
       "</style>\n",
       "<table border=\"1\" class=\"dataframe\">\n",
       "  <thead>\n",
       "    <tr style=\"text-align: right;\">\n",
       "      <th></th>\n",
       "      <th>hypothesis</th>\n",
       "      <th>reach</th>\n",
       "      <th>impact</th>\n",
       "      <th>confidence</th>\n",
       "      <th>efforts</th>\n",
       "      <th>rice</th>\n",
       "      <th>ice</th>\n",
       "    </tr>\n",
       "  </thead>\n",
       "  <tbody>\n",
       "    <tr>\n",
       "      <th>8</th>\n",
       "      <td>Запустить акцию, дающую скидку на товар в день рождения</td>\n",
       "      <td>1</td>\n",
       "      <td>9</td>\n",
       "      <td>9</td>\n",
       "      <td>5</td>\n",
       "      <td>16.2</td>\n",
       "      <td>16.200000</td>\n",
       "    </tr>\n",
       "    <tr>\n",
       "      <th>0</th>\n",
       "      <td>Добавить два новых канала привлечения трафика, что позволит привлекать на 30% больше пользователей</td>\n",
       "      <td>3</td>\n",
       "      <td>10</td>\n",
       "      <td>8</td>\n",
       "      <td>6</td>\n",
       "      <td>40.0</td>\n",
       "      <td>13.333333</td>\n",
       "    </tr>\n",
       "    <tr>\n",
       "      <th>7</th>\n",
       "      <td>Добавить форму подписки на все основные страницы, чтобы собрать базу клиентов для email-рассылок</td>\n",
       "      <td>10</td>\n",
       "      <td>7</td>\n",
       "      <td>8</td>\n",
       "      <td>5</td>\n",
       "      <td>112.0</td>\n",
       "      <td>11.200000</td>\n",
       "    </tr>\n",
       "    <tr>\n",
       "      <th>6</th>\n",
       "      <td>Показать на главной странице баннеры с актуальными акциями и распродажами, чтобы увеличить конверсию</td>\n",
       "      <td>5</td>\n",
       "      <td>3</td>\n",
       "      <td>8</td>\n",
       "      <td>3</td>\n",
       "      <td>40.0</td>\n",
       "      <td>8.000000</td>\n",
       "    </tr>\n",
       "    <tr>\n",
       "      <th>2</th>\n",
       "      <td>Добавить блоки рекомендаций товаров на сайт интернет магазина, чтобы повысить конверсию и средний чек заказа</td>\n",
       "      <td>8</td>\n",
       "      <td>3</td>\n",
       "      <td>7</td>\n",
       "      <td>3</td>\n",
       "      <td>56.0</td>\n",
       "      <td>7.000000</td>\n",
       "    </tr>\n",
       "    <tr>\n",
       "      <th>1</th>\n",
       "      <td>Запустить собственную службу доставки, что сократит срок доставки заказов</td>\n",
       "      <td>2</td>\n",
       "      <td>5</td>\n",
       "      <td>4</td>\n",
       "      <td>10</td>\n",
       "      <td>4.0</td>\n",
       "      <td>2.000000</td>\n",
       "    </tr>\n",
       "    <tr>\n",
       "      <th>5</th>\n",
       "      <td>Добавить страницу отзывов клиентов о магазине, что позволит увеличить количество заказов</td>\n",
       "      <td>3</td>\n",
       "      <td>2</td>\n",
       "      <td>2</td>\n",
       "      <td>3</td>\n",
       "      <td>4.0</td>\n",
       "      <td>1.333333</td>\n",
       "    </tr>\n",
       "    <tr>\n",
       "      <th>3</th>\n",
       "      <td>Изменить структура категорий, что увеличит конверсию, т.к. пользователи быстрее найдут нужный товар</td>\n",
       "      <td>8</td>\n",
       "      <td>3</td>\n",
       "      <td>3</td>\n",
       "      <td>8</td>\n",
       "      <td>9.0</td>\n",
       "      <td>1.125000</td>\n",
       "    </tr>\n",
       "    <tr>\n",
       "      <th>4</th>\n",
       "      <td>Изменить цвет фона главной страницы, чтобы увеличить вовлеченность пользователей</td>\n",
       "      <td>3</td>\n",
       "      <td>1</td>\n",
       "      <td>1</td>\n",
       "      <td>1</td>\n",
       "      <td>3.0</td>\n",
       "      <td>1.000000</td>\n",
       "    </tr>\n",
       "  </tbody>\n",
       "</table>\n",
       "</div>"
      ],
      "text/plain": [
       "                                                                                                     hypothesis  \\\n",
       "8                                                       Запустить акцию, дающую скидку на товар в день рождения   \n",
       "0            Добавить два новых канала привлечения трафика, что позволит привлекать на 30% больше пользователей   \n",
       "7              Добавить форму подписки на все основные страницы, чтобы собрать базу клиентов для email-рассылок   \n",
       "6          Показать на главной странице баннеры с актуальными акциями и распродажами, чтобы увеличить конверсию   \n",
       "2  Добавить блоки рекомендаций товаров на сайт интернет магазина, чтобы повысить конверсию и средний чек заказа   \n",
       "1                                     Запустить собственную службу доставки, что сократит срок доставки заказов   \n",
       "5                      Добавить страницу отзывов клиентов о магазине, что позволит увеличить количество заказов   \n",
       "3           Изменить структура категорий, что увеличит конверсию, т.к. пользователи быстрее найдут нужный товар   \n",
       "4                              Изменить цвет фона главной страницы, чтобы увеличить вовлеченность пользователей   \n",
       "\n",
       "   reach  impact  confidence  efforts   rice        ice  \n",
       "8      1       9           9        5   16.2  16.200000  \n",
       "0      3      10           8        6   40.0  13.333333  \n",
       "7     10       7           8        5  112.0  11.200000  \n",
       "6      5       3           8        3   40.0   8.000000  \n",
       "2      8       3           7        3   56.0   7.000000  \n",
       "1      2       5           4       10    4.0   2.000000  \n",
       "5      3       2           2        3    4.0   1.333333  \n",
       "3      8       3           3        8    9.0   1.125000  \n",
       "4      3       1           1        1    3.0   1.000000  "
      ]
     },
     "metadata": {},
     "output_type": "display_data"
    }
   ],
   "source": [
    "display(hypothesis.sort_values(by = 'ice', ascending = False))"
   ]
  },
  {
   "cell_type": "markdown",
   "metadata": {},
   "source": [
    "Попробуем визуализировать эти данные. Выведу их на графиках с сортировками по rice и ice."
   ]
  },
  {
   "cell_type": "code",
   "execution_count": 8,
   "metadata": {},
   "outputs": [
    {
     "data": {
      "image/png": "[encoded data removed]",
      "text/plain": [
       "<Figure size 720x432 with 1 Axes>"
      ]
     },
     "metadata": {
      "needs_background": "light"
     },
     "output_type": "display_data"
    }
   ],
   "source": [
    "ax = hypothesis[['hypothesis', 'rice', 'ice']].set_index('hypothesis').sort_values(by = 'ice', ascending = True).plot(kind='barh', figsize=(10, 6), color=['skyblue', 'lightgreen'])\n",
    "\n",
    "# Добавляем подписи и заголовок\n",
    "\n",
    "ax.set_title('Сравнение Rice и Ice для каждой строки c сортировкой по ICE')\n",
    "\n",
    "# Показываем график\n",
    "plt.show()"
   ]
  },
  {
   "cell_type": "code",
   "execution_count": 9,
   "metadata": {},
   "outputs": [
    {
     "data": {
      "image/png": "[encoded data removed]",
      "text/plain": [
       "<Figure size 720x432 with 1 Axes>"
      ]
     },
     "metadata": {
      "needs_background": "light"
     },
     "output_type": "display_data"
    }
   ],
   "source": [
    "ax = hypothesis[['hypothesis', 'rice', 'ice']].set_index('hypothesis').sort_values(by = 'rice', ascending = True).plot(kind='barh', figsize=(10, 6), color=['skyblue', 'lightgreen'])\n",
    "\n",
    "# Добавляем подписи и заголовок\n",
    "\n",
    "ax.set_title('Сравнение Rice и Ice для каждой строки c сортировкой по RICE')\n",
    "\n",
    "# Показываем график\n",
    "plt.show()"
   ]
  },
  {
   "cell_type": "markdown",
   "metadata": {},
   "source": [
    "## Вывод по гипотезам \n",
    "\n",
    "По методу **ICE** наиболее приоритетными можно считать следующие гипотезы: \n",
    "- 8 Запустить акцию, дающую скидку на товар в день рождения\t\n",
    "- 0 Добавить два новых канала привлечения трафика, что позволит привлекать на 30% больше пользователей\n",
    "- 7 Добавить форму подписки на все основные страницы, чтобы собрать базу клиентов для email-рассылок\t\n",
    "- 6 Показать на главной странице баннеры с актуальными акциями и распродажами, чтобы увеличить конверсию\n",
    "- 2 Добавить блоки рекомендаций товаров на сайт интернет магазина, чтобы повысить конверсию и средний чек заказа\n",
    "\n",
    "По методу **RICE** наиболее приоритетными можно считать следующие гипотезы: \n",
    "- 7 Добавить форму подписки на все основные страницы, чтобы собрать базу клиентов для email-рассылок\n",
    "- 2 Добавить блоки рекомендаций товаров на сайт интернет магазина, чтобы повысить конверсию и средний чек заказа\n",
    "- 0 Добавить два новых канала привлечения трафика, что позволит привлекать на 30% больше пользователе\n",
    "- 6 Показать на главной странице баннеры с актуальными акциями и распродажами, чтобы увеличить конверсию\n",
    "- 8 Запустить акцию, дающую скидку на товар в день рождения\n",
    "\n",
    "Получается, оба метода выдают одинаковый топ 5, однако, приоритеты среди этих пяти гипотез разные. \n",
    "Разница в подсчитанных результатах объясняется влиянием reach - охватов: для гипотезы 8, дающей скидку в День рождения, охваты минимальны (что объяснимо, День рождения - раз в году), а вот для гипотез 2 и 7 охваты достаточно велики, что естественно влияет на приоритеты данных гипотез. \n",
    "\n",
    "Если у нас есть возможность проверить все 5 высокоприоритетных гипотез, то можно проверить все 5. Если же ресурсов на проведение стольких тестов не хватит, можем выделить три гипотезы для тестирования, стоит взять \"топ\" по RICE: \n",
    "- 7 Добавить форму подписки на все основные страницы, чтобы собрать базу клиентов для email-рассылок\n",
    "- 2 Добавить блоки рекомендаций товаров на сайт интернет магазина, чтобы повысить конверсию и средний чек заказа\n",
    "- 0 Добавить два новых канала привлечения трафика, что позволит привлекать на 30% больше пользователе\n",
    "\n",
    "**Вывод по части 1**: Проанализировав гипотезы, подсчитали их приоритеты по методам RICE и ICE; выделили наиболее приоритетные гипотезы для проверки, разобрались, почему результаты, подсчитанные различными методами, различаются. \n"
   ]
  },
  {
   "cell_type": "markdown",
   "metadata": {},
   "source": [
    "# Часть 2. Анализ A/B-теста \n",
    "Мы провели A/B-тест и получили результаты, которые описаны в файлах `/datasets/orders.csv` и `/datasets/visitors.csv`. \n",
    "\n",
    "Изучим полученные данные и посмотрим, какие выводы можно сделать по этим данным. "
   ]
  },
  {
   "cell_type": "markdown",
   "metadata": {},
   "source": [
    "## Загрузка и предобработка данных "
   ]
  },
  {
   "cell_type": "code",
   "execution_count": 10,
   "metadata": {},
   "outputs": [
    {
     "data": {
      "text/html": [
       "<div>\n",
       "<style scoped>\n",
       "    .dataframe tbody tr th:only-of-type {\n",
       "        vertical-align: middle;\n",
       "    }\n",
       "\n",
       "    .dataframe tbody tr th {\n",
       "        vertical-align: top;\n",
       "    }\n",
       "\n",
       "    .dataframe thead th {\n",
       "        text-align: right;\n",
       "    }\n",
       "</style>\n",
       "<table border=\"1\" class=\"dataframe\">\n",
       "  <thead>\n",
       "    <tr style=\"text-align: right;\">\n",
       "      <th></th>\n",
       "      <th>transactionId</th>\n",
       "      <th>visitorId</th>\n",
       "      <th>date</th>\n",
       "      <th>revenue</th>\n",
       "      <th>group</th>\n",
       "    </tr>\n",
       "  </thead>\n",
       "  <tbody>\n",
       "    <tr>\n",
       "      <th>0</th>\n",
       "      <td>3667963787</td>\n",
       "      <td>3312258926</td>\n",
       "      <td>2019-08-15</td>\n",
       "      <td>1650</td>\n",
       "      <td>B</td>\n",
       "    </tr>\n",
       "    <tr>\n",
       "      <th>1</th>\n",
       "      <td>2804400009</td>\n",
       "      <td>3642806036</td>\n",
       "      <td>2019-08-15</td>\n",
       "      <td>730</td>\n",
       "      <td>B</td>\n",
       "    </tr>\n",
       "    <tr>\n",
       "      <th>2</th>\n",
       "      <td>2961555356</td>\n",
       "      <td>4069496402</td>\n",
       "      <td>2019-08-15</td>\n",
       "      <td>400</td>\n",
       "      <td>A</td>\n",
       "    </tr>\n",
       "    <tr>\n",
       "      <th>3</th>\n",
       "      <td>3797467345</td>\n",
       "      <td>1196621759</td>\n",
       "      <td>2019-08-15</td>\n",
       "      <td>9759</td>\n",
       "      <td>B</td>\n",
       "    </tr>\n",
       "    <tr>\n",
       "      <th>4</th>\n",
       "      <td>2282983706</td>\n",
       "      <td>2322279887</td>\n",
       "      <td>2019-08-15</td>\n",
       "      <td>2308</td>\n",
       "      <td>B</td>\n",
       "    </tr>\n",
       "  </tbody>\n",
       "</table>\n",
       "</div>"
      ],
      "text/plain": [
       "   transactionId   visitorId        date  revenue group\n",
       "0     3667963787  3312258926  2019-08-15     1650     B\n",
       "1     2804400009  3642806036  2019-08-15      730     B\n",
       "2     2961555356  4069496402  2019-08-15      400     A\n",
       "3     3797467345  1196621759  2019-08-15     9759     B\n",
       "4     2282983706  2322279887  2019-08-15     2308     B"
      ]
     },
     "metadata": {},
     "output_type": "display_data"
    },
    {
     "data": {
      "text/html": [
       "<div>\n",
       "<style scoped>\n",
       "    .dataframe tbody tr th:only-of-type {\n",
       "        vertical-align: middle;\n",
       "    }\n",
       "\n",
       "    .dataframe tbody tr th {\n",
       "        vertical-align: top;\n",
       "    }\n",
       "\n",
       "    .dataframe thead th {\n",
       "        text-align: right;\n",
       "    }\n",
       "</style>\n",
       "<table border=\"1\" class=\"dataframe\">\n",
       "  <thead>\n",
       "    <tr style=\"text-align: right;\">\n",
       "      <th></th>\n",
       "      <th>date</th>\n",
       "      <th>group</th>\n",
       "      <th>visitors</th>\n",
       "    </tr>\n",
       "  </thead>\n",
       "  <tbody>\n",
       "    <tr>\n",
       "      <th>0</th>\n",
       "      <td>2019-08-01</td>\n",
       "      <td>A</td>\n",
       "      <td>719</td>\n",
       "    </tr>\n",
       "    <tr>\n",
       "      <th>1</th>\n",
       "      <td>2019-08-02</td>\n",
       "      <td>A</td>\n",
       "      <td>619</td>\n",
       "    </tr>\n",
       "    <tr>\n",
       "      <th>2</th>\n",
       "      <td>2019-08-03</td>\n",
       "      <td>A</td>\n",
       "      <td>507</td>\n",
       "    </tr>\n",
       "    <tr>\n",
       "      <th>3</th>\n",
       "      <td>2019-08-04</td>\n",
       "      <td>A</td>\n",
       "      <td>717</td>\n",
       "    </tr>\n",
       "    <tr>\n",
       "      <th>4</th>\n",
       "      <td>2019-08-05</td>\n",
       "      <td>A</td>\n",
       "      <td>756</td>\n",
       "    </tr>\n",
       "  </tbody>\n",
       "</table>\n",
       "</div>"
      ],
      "text/plain": [
       "         date group  visitors\n",
       "0  2019-08-01     A       719\n",
       "1  2019-08-02     A       619\n",
       "2  2019-08-03     A       507\n",
       "3  2019-08-04     A       717\n",
       "4  2019-08-05     A       756"
      ]
     },
     "metadata": {},
     "output_type": "display_data"
    }
   ],
   "source": [
    "orders = pd.read_csv('/datasets/orders.csv')\n",
    "display(orders.head())\n",
    "\n",
    "visitors = pd.read_csv('/datasets/visitors.csv')\n",
    "display(visitors.head())"
   ]
  },
  {
   "cell_type": "code",
   "execution_count": 11,
   "metadata": {
    "scrolled": true
   },
   "outputs": [
    {
     "name": "stdout",
     "output_type": "stream",
     "text": [
      "<class 'pandas.core.frame.DataFrame'>\n",
      "RangeIndex: 1197 entries, 0 to 1196\n",
      "Data columns (total 5 columns):\n",
      " #   Column          Non-Null Count  Dtype \n",
      "---  ------          --------------  ----- \n",
      " 0   transaction_id  1197 non-null   int64 \n",
      " 1   visitor_id      1197 non-null   int64 \n",
      " 2   date            1197 non-null   object\n",
      " 3   revenue         1197 non-null   int64 \n",
      " 4   group           1197 non-null   object\n",
      "dtypes: int64(3), object(2)\n",
      "memory usage: 46.9+ KB\n"
     ]
    }
   ],
   "source": [
    "# переименуем столбцы: переведём в lower case,  проставим _ между словами \n",
    "\n",
    "orders.columns = [name.replace('Id', '_id') for name in orders.columns]\n",
    "orders.info()\n"
   ]
  },
  {
   "cell_type": "code",
   "execution_count": 12,
   "metadata": {},
   "outputs": [
    {
     "name": "stdout",
     "output_type": "stream",
     "text": [
      "Первые строки датасета orders\n"
     ]
    },
    {
     "data": {
      "text/html": [
       "<div>\n",
       "<style scoped>\n",
       "    .dataframe tbody tr th:only-of-type {\n",
       "        vertical-align: middle;\n",
       "    }\n",
       "\n",
       "    .dataframe tbody tr th {\n",
       "        vertical-align: top;\n",
       "    }\n",
       "\n",
       "    .dataframe thead th {\n",
       "        text-align: right;\n",
       "    }\n",
       "</style>\n",
       "<table border=\"1\" class=\"dataframe\">\n",
       "  <thead>\n",
       "    <tr style=\"text-align: right;\">\n",
       "      <th></th>\n",
       "      <th>transaction_id</th>\n",
       "      <th>visitor_id</th>\n",
       "      <th>date</th>\n",
       "      <th>revenue</th>\n",
       "      <th>group</th>\n",
       "    </tr>\n",
       "  </thead>\n",
       "  <tbody>\n",
       "    <tr>\n",
       "      <th>0</th>\n",
       "      <td>3667963787</td>\n",
       "      <td>3312258926</td>\n",
       "      <td>2019-08-15</td>\n",
       "      <td>1650</td>\n",
       "      <td>B</td>\n",
       "    </tr>\n",
       "    <tr>\n",
       "      <th>1</th>\n",
       "      <td>2804400009</td>\n",
       "      <td>3642806036</td>\n",
       "      <td>2019-08-15</td>\n",
       "      <td>730</td>\n",
       "      <td>B</td>\n",
       "    </tr>\n",
       "    <tr>\n",
       "      <th>2</th>\n",
       "      <td>2961555356</td>\n",
       "      <td>4069496402</td>\n",
       "      <td>2019-08-15</td>\n",
       "      <td>400</td>\n",
       "      <td>A</td>\n",
       "    </tr>\n",
       "    <tr>\n",
       "      <th>3</th>\n",
       "      <td>3797467345</td>\n",
       "      <td>1196621759</td>\n",
       "      <td>2019-08-15</td>\n",
       "      <td>9759</td>\n",
       "      <td>B</td>\n",
       "    </tr>\n",
       "    <tr>\n",
       "      <th>4</th>\n",
       "      <td>2282983706</td>\n",
       "      <td>2322279887</td>\n",
       "      <td>2019-08-15</td>\n",
       "      <td>2308</td>\n",
       "      <td>B</td>\n",
       "    </tr>\n",
       "  </tbody>\n",
       "</table>\n",
       "</div>"
      ],
      "text/plain": [
       "   transaction_id  visitor_id        date  revenue group\n",
       "0      3667963787  3312258926  2019-08-15     1650     B\n",
       "1      2804400009  3642806036  2019-08-15      730     B\n",
       "2      2961555356  4069496402  2019-08-15      400     A\n",
       "3      3797467345  1196621759  2019-08-15     9759     B\n",
       "4      2282983706  2322279887  2019-08-15     2308     B"
      ]
     },
     "metadata": {},
     "output_type": "display_data"
    },
    {
     "name": "stdout",
     "output_type": "stream",
     "text": [
      "\n",
      "Сводная информация по данным датасета orders\n",
      "       transaction_id    visitor_id       revenue\n",
      "count    1.197000e+03  1.197000e+03  1.197000e+03\n",
      "mean     2.155621e+09  2.165960e+09  8.348006e+03\n",
      "std      1.229085e+09  1.236014e+09  3.919113e+04\n",
      "min      1.062393e+06  5.114589e+06  5.000000e+01\n",
      "25%      1.166776e+09  1.111826e+09  1.220000e+03\n",
      "50%      2.145194e+09  2.217985e+09  2.978000e+03\n",
      "75%      3.237740e+09  3.177606e+09  8.290000e+03\n",
      "max      4.293856e+09  4.283872e+09  1.294500e+06\n",
      "\n",
      "Пропуски в  orders\n",
      "transaction_id    0\n",
      "visitor_id        0\n",
      "date              0\n",
      "revenue           0\n",
      "group             0\n",
      "dtype: int64\n",
      "\n",
      "Явные дубликаты в  orders\n",
      "0\n",
      "\n",
      "Сводная информация по  orders\n",
      "<class 'pandas.core.frame.DataFrame'>\n",
      "RangeIndex: 1197 entries, 0 to 1196\n",
      "Data columns (total 5 columns):\n",
      " #   Column          Non-Null Count  Dtype \n",
      "---  ------          --------------  ----- \n",
      " 0   transaction_id  1197 non-null   int64 \n",
      " 1   visitor_id      1197 non-null   int64 \n",
      " 2   date            1197 non-null   object\n",
      " 3   revenue         1197 non-null   int64 \n",
      " 4   group           1197 non-null   object\n",
      "dtypes: int64(3), object(2)\n",
      "memory usage: 46.9+ KB\n",
      "None\n",
      "\n",
      "Первые строки датасета visitors\n"
     ]
    },
    {
     "data": {
      "text/html": [
       "<div>\n",
       "<style scoped>\n",
       "    .dataframe tbody tr th:only-of-type {\n",
       "        vertical-align: middle;\n",
       "    }\n",
       "\n",
       "    .dataframe tbody tr th {\n",
       "        vertical-align: top;\n",
       "    }\n",
       "\n",
       "    .dataframe thead th {\n",
       "        text-align: right;\n",
       "    }\n",
       "</style>\n",
       "<table border=\"1\" class=\"dataframe\">\n",
       "  <thead>\n",
       "    <tr style=\"text-align: right;\">\n",
       "      <th></th>\n",
       "      <th>date</th>\n",
       "      <th>group</th>\n",
       "      <th>visitors</th>\n",
       "    </tr>\n",
       "  </thead>\n",
       "  <tbody>\n",
       "    <tr>\n",
       "      <th>0</th>\n",
       "      <td>2019-08-01</td>\n",
       "      <td>A</td>\n",
       "      <td>719</td>\n",
       "    </tr>\n",
       "    <tr>\n",
       "      <th>1</th>\n",
       "      <td>2019-08-02</td>\n",
       "      <td>A</td>\n",
       "      <td>619</td>\n",
       "    </tr>\n",
       "    <tr>\n",
       "      <th>2</th>\n",
       "      <td>2019-08-03</td>\n",
       "      <td>A</td>\n",
       "      <td>507</td>\n",
       "    </tr>\n",
       "    <tr>\n",
       "      <th>3</th>\n",
       "      <td>2019-08-04</td>\n",
       "      <td>A</td>\n",
       "      <td>717</td>\n",
       "    </tr>\n",
       "    <tr>\n",
       "      <th>4</th>\n",
       "      <td>2019-08-05</td>\n",
       "      <td>A</td>\n",
       "      <td>756</td>\n",
       "    </tr>\n",
       "  </tbody>\n",
       "</table>\n",
       "</div>"
      ],
      "text/plain": [
       "         date group  visitors\n",
       "0  2019-08-01     A       719\n",
       "1  2019-08-02     A       619\n",
       "2  2019-08-03     A       507\n",
       "3  2019-08-04     A       717\n",
       "4  2019-08-05     A       756"
      ]
     },
     "metadata": {},
     "output_type": "display_data"
    },
    {
     "name": "stdout",
     "output_type": "stream",
     "text": [
      "\n",
      "Сводная информация по данным датасета visitors\n",
      "         visitors\n",
      "count   62.000000\n",
      "mean   607.290323\n",
      "std    114.400560\n",
      "min    361.000000\n",
      "25%    534.000000\n",
      "50%    624.500000\n",
      "75%    710.500000\n",
      "max    770.000000\n",
      "\n",
      "Пропуски в  visitors\n",
      "date        0\n",
      "group       0\n",
      "visitors    0\n",
      "dtype: int64\n",
      "\n",
      "Явные дубликаты в  visitors\n",
      "0\n",
      "\n",
      "Сводная информация по  visitors\n",
      "<class 'pandas.core.frame.DataFrame'>\n",
      "RangeIndex: 62 entries, 0 to 61\n",
      "Data columns (total 3 columns):\n",
      " #   Column    Non-Null Count  Dtype \n",
      "---  ------    --------------  ----- \n",
      " 0   date      62 non-null     object\n",
      " 1   group     62 non-null     object\n",
      " 2   visitors  62 non-null     int64 \n",
      "dtypes: int64(1), object(2)\n",
      "memory usage: 1.6+ KB\n",
      "None\n"
     ]
    }
   ],
   "source": [
    "# проверим данные на явные дубликаты и пропуски. Чтобы не повторяться, объявим функцию \n",
    "def check_dataset(data, name):\n",
    "    print('Первые строки датасета', name)\n",
    "    display(data.head())\n",
    "    print()\n",
    "    print('Сводная информация по данным датасета', name)\n",
    "    print(data.describe())\n",
    "    print()\n",
    "    print('Пропуски в ', name)\n",
    "    print(data.isna().sum())\n",
    "    print()\n",
    "    print('Явные дубликаты в ', name)\n",
    "    print(data.duplicated().sum())\n",
    "    print()\n",
    "    print('Сводная информация по ', name)\n",
    "    print(data.info())\n",
    "\n",
    "# вызовем функцию для заказов и посетителей \n",
    "check_dataset(orders, 'orders')\n",
    "print()\n",
    "check_dataset(visitors, 'visitors')"
   ]
  },
  {
   "cell_type": "markdown",
   "metadata": {},
   "source": [
    "Данных у нас не так много - всего 1197 строк в `orders` и 62 строки в `visitors`. \n",
    "Явных дубликатов не обнаружено, пропусков - тоже. \n",
    "Нужно привести дату к типу datetime в обоих датасетах. "
   ]
  },
  {
   "cell_type": "code",
   "execution_count": 13,
   "metadata": {},
   "outputs": [
    {
     "name": "stdout",
     "output_type": "stream",
     "text": [
      "<class 'pandas.core.frame.DataFrame'>\n",
      "RangeIndex: 1197 entries, 0 to 1196\n",
      "Data columns (total 5 columns):\n",
      " #   Column          Non-Null Count  Dtype         \n",
      "---  ------          --------------  -----         \n",
      " 0   transaction_id  1197 non-null   int64         \n",
      " 1   visitor_id      1197 non-null   int64         \n",
      " 2   date            1197 non-null   datetime64[ns]\n",
      " 3   revenue         1197 non-null   int64         \n",
      " 4   group           1197 non-null   object        \n",
      "dtypes: datetime64[ns](1), int64(3), object(1)\n",
      "memory usage: 46.9+ KB\n",
      "<class 'pandas.core.frame.DataFrame'>\n",
      "RangeIndex: 62 entries, 0 to 61\n",
      "Data columns (total 3 columns):\n",
      " #   Column    Non-Null Count  Dtype         \n",
      "---  ------    --------------  -----         \n",
      " 0   date      62 non-null     datetime64[ns]\n",
      " 1   group     62 non-null     object        \n",
      " 2   visitors  62 non-null     int64         \n",
      "dtypes: datetime64[ns](1), int64(1), object(1)\n",
      "memory usage: 1.6+ KB\n"
     ]
    }
   ],
   "source": [
    "orders['date'] = pd.to_datetime(orders['date'])\n",
    "visitors['date'] = pd.to_datetime(visitors['date'])\n",
    "orders.info()\n",
    "visitors.info()"
   ]
  },
  {
   "cell_type": "markdown",
   "metadata": {},
   "source": [
    "Приступим к анализу полученных данных по итогам теста. "
   ]
  },
  {
   "cell_type": "code",
   "execution_count": 14,
   "metadata": {},
   "outputs": [
    {
     "data": {
      "text/plain": [
       "58"
      ]
     },
     "execution_count": 14,
     "metadata": {},
     "output_type": "execute_result"
    }
   ],
   "source": [
    "# проверим, нет ли пользователей, которые попали и в группу A, и в группу B \n",
    "# Отбираем группы из данных с заказами \n",
    "group_a=orders.query('group == \"A\"') \n",
    "group_b=orders.query('group == \"B\"') \n",
    "\n",
    "group_intersections=list(np.intersect1d(group_a['visitor_id'], group_b['visitor_id']))\n",
    "len(group_intersections)"
   ]
  },
  {
   "cell_type": "code",
   "execution_count": 15,
   "metadata": {},
   "outputs": [
    {
     "data": {
      "text/plain": [
       "0"
      ]
     },
     "execution_count": 15,
     "metadata": {},
     "output_type": "execute_result"
    }
   ],
   "source": [
    "# 58 - не так много для наших даннх, удалим заказы этих пользователей из датасета, чтобы получить чистые данные для дальнейшего анализа\n",
    "orders = orders.query('visitor_id not in @group_intersections')\n",
    "# Отбираем группы из данных с заказами \n",
    "group_a=orders.query('group == \"A\"') \n",
    "group_b=orders.query('group == \"B\"') \n",
    "  \n",
    "# Получаем пользователей, попавших в обе группы \n",
    "group_intersections=list(np.intersect1d(group_a['visitor_id'], group_b['visitor_id']))\n",
    "len(group_intersections)"
   ]
  },
  {
   "cell_type": "markdown",
   "metadata": {},
   "source": [
    "## График кумулятивной выручки по группам \n",
    "Построим график кумулятивной выручки по группам пользователей и посмотрим, какие выводы и предположения можно сделать по нему "
   ]
  },
  {
   "cell_type": "code",
   "execution_count": 16,
   "metadata": {},
   "outputs": [
    {
     "data": {
      "text/html": [
       "<div>\n",
       "<style scoped>\n",
       "    .dataframe tbody tr th:only-of-type {\n",
       "        vertical-align: middle;\n",
       "    }\n",
       "\n",
       "    .dataframe tbody tr th {\n",
       "        vertical-align: top;\n",
       "    }\n",
       "\n",
       "    .dataframe thead th {\n",
       "        text-align: right;\n",
       "    }\n",
       "</style>\n",
       "<table border=\"1\" class=\"dataframe\">\n",
       "  <thead>\n",
       "    <tr style=\"text-align: right;\">\n",
       "      <th></th>\n",
       "      <th>date</th>\n",
       "      <th>group</th>\n",
       "      <th>orders</th>\n",
       "      <th>buyers</th>\n",
       "      <th>revenue</th>\n",
       "      <th>visitors</th>\n",
       "    </tr>\n",
       "  </thead>\n",
       "  <tbody>\n",
       "    <tr>\n",
       "      <th>0</th>\n",
       "      <td>2019-08-01</td>\n",
       "      <td>A</td>\n",
       "      <td>23</td>\n",
       "      <td>19</td>\n",
       "      <td>142779</td>\n",
       "      <td>719</td>\n",
       "    </tr>\n",
       "    <tr>\n",
       "      <th>1</th>\n",
       "      <td>2019-08-01</td>\n",
       "      <td>B</td>\n",
       "      <td>17</td>\n",
       "      <td>17</td>\n",
       "      <td>59758</td>\n",
       "      <td>713</td>\n",
       "    </tr>\n",
       "    <tr>\n",
       "      <th>2</th>\n",
       "      <td>2019-08-02</td>\n",
       "      <td>A</td>\n",
       "      <td>42</td>\n",
       "      <td>36</td>\n",
       "      <td>234381</td>\n",
       "      <td>1338</td>\n",
       "    </tr>\n",
       "    <tr>\n",
       "      <th>3</th>\n",
       "      <td>2019-08-02</td>\n",
       "      <td>B</td>\n",
       "      <td>40</td>\n",
       "      <td>39</td>\n",
       "      <td>221801</td>\n",
       "      <td>1294</td>\n",
       "    </tr>\n",
       "    <tr>\n",
       "      <th>4</th>\n",
       "      <td>2019-08-03</td>\n",
       "      <td>A</td>\n",
       "      <td>66</td>\n",
       "      <td>60</td>\n",
       "      <td>346854</td>\n",
       "      <td>1845</td>\n",
       "    </tr>\n",
       "  </tbody>\n",
       "</table>\n",
       "</div>"
      ],
      "text/plain": [
       "        date group  orders  buyers  revenue  visitors\n",
       "0 2019-08-01     A      23      19   142779       719\n",
       "1 2019-08-01     B      17      17    59758       713\n",
       "2 2019-08-02     A      42      36   234381      1338\n",
       "3 2019-08-02     B      40      39   221801      1294\n",
       "4 2019-08-03     A      66      60   346854      1845"
      ]
     },
     "metadata": {},
     "output_type": "display_data"
    }
   ],
   "source": [
    "# создаем массив уникальных пар значений дат и групп теста\n",
    "datesGroups = orders[['date', 'group']].drop_duplicates()\n",
    "\n",
    "# получаем агрегированные кумулятивные по дням данные о заказах \n",
    "ordersAggregated = datesGroups.apply(\n",
    "    lambda x: orders[\n",
    "        np.logical_and(\n",
    "            orders['date'] <= x['date'], orders['group'] == x['group']\n",
    "        )\n",
    "    ].agg(\n",
    "        {\n",
    "            'date': 'max',\n",
    "            'group': 'max',\n",
    "            'transaction_id': 'nunique',\n",
    "            'visitor_id': 'nunique',\n",
    "            'revenue': 'sum',\n",
    "        }\n",
    "    ),\n",
    "    axis=1,\n",
    ").sort_values(by=['date', 'group'])\n",
    "\n",
    "# получаем агрегированные кумулятивные по дням данные о посетителях \n",
    "visitorsAggregated = datesGroups.apply(\n",
    "    lambda x: visitors[\n",
    "        np.logical_and(\n",
    "            visitors['date'] <= x['date'], visitors['group'] == x['group']\n",
    "        )\n",
    "    ].agg({'date': 'max', 'group': 'max', 'visitors': 'sum'}),\n",
    "    axis=1,\n",
    ").sort_values(by=['date', 'group'])\n",
    "\n",
    "# объединяем кумулятивные данные в одной таблице\n",
    "cumulative_data = ordersAggregated.merge(\n",
    "    visitorsAggregated, left_on=['date', 'group'], right_on=['date', 'group']\n",
    ")\n",
    "cumulative_data.columns = [\n",
    "    'date',\n",
    "    'group',\n",
    "    'orders',\n",
    "    'buyers',\n",
    "    'revenue',\n",
    "    'visitors',\n",
    "]\n",
    "\n",
    "display(cumulative_data.head())"
   ]
  },
  {
   "cell_type": "code",
   "execution_count": 17,
   "metadata": {},
   "outputs": [
    {
     "data": {
      "image/png": "[encoded data removed]",
      "text/plain": [
       "<Figure size 1080x720 with 1 Axes>"
      ]
     },
     "metadata": {
      "needs_background": "light"
     },
     "output_type": "display_data"
    }
   ],
   "source": [
    "# датафрейм с кумулятивным количеством заказов и кумулятивной выручкой по дням в группе А\n",
    "cumulative_revenue_a = cumulative_data[cumulative_data['group']=='A'][['date', 'revenue', 'orders', 'visitors']]\n",
    "\n",
    "# датафрейм с кумулятивным количеством заказов и кумулятивной выручкой по дням в группе B\n",
    "cumulative_revenue_b = cumulative_data[cumulative_data['group']=='B'][['date', 'revenue', 'orders']]\n",
    "\n",
    "# задаём размер для графиков\n",
    "plt.figure(figsize=(15, 10))\n",
    "\n",
    "# строим график выручки группы А\n",
    "plt.plot(cumulative_revenue_a['date'], cumulative_revenue_a['revenue'], label='A')\n",
    "\n",
    "# строим график выручки группы B\n",
    "plt.plot(cumulative_revenue_b['date'], cumulative_revenue_b['revenue'], label='B')\n",
    "\n",
    "plt.grid(visible=True)\n",
    "# чуть увеличиваем шрифты по сравнению со стандартными \n",
    "plt.title('Графики кумулятивной выручки по дням и группам A/B-теста', fontsize=16)\n",
    "plt.xlabel('Дата', fontsize=14)\n",
    "plt.ylabel('Выручка', fontsize=14)\n",
    "plt.legend(prop={'size': 16}) \n",
    "plt.show()"
   ]
  },
  {
   "cell_type": "markdown",
   "metadata": {},
   "source": [
    "### Вывод по графику \n",
    "До 17-18 августа выручка в обеих группах увеличивалась равномерно. После этой даты наблюдается некоторый скачок в группе B. Затем, после 20 августа, выручка продолжает расти равномерно в обеих группах. \n",
    "Равномерный рост кумулятивной выручки - это ожидаемое поведение, а резкий скачок 18-20 августа можно объяснить либо резким ростом количества покупок, либо дорогими покупками в эти дни. "
   ]
  },
  {
   "cell_type": "markdown",
   "metadata": {},
   "source": [
    "## График кумулятивного среднего чека по группам \n",
    "Построим график кумулятивного среднего чека по группам и посмотрим, какие выводы можно сделать по этим данным. \n"
   ]
  },
  {
   "cell_type": "code",
   "execution_count": 18,
   "metadata": {},
   "outputs": [
    {
     "data": {
      "image/png": "[encoded data removed]",
      "text/plain": [
       "<Figure size 1080x720 with 1 Axes>"
      ]
     },
     "metadata": {
      "needs_background": "light"
     },
     "output_type": "display_data"
    }
   ],
   "source": [
    "plt.figure(figsize=(15, 10))\n",
    "\n",
    "plt.plot(cumulative_revenue_a['date'], cumulative_revenue_a['revenue']/cumulative_revenue_a['orders'], label='A')\n",
    "plt.plot(cumulative_revenue_b['date'], cumulative_revenue_b['revenue']/cumulative_revenue_b['orders'], label='B')\n",
    "# заводим все те же параметры, что и для предыдущего графика, за исключением лейбла по оси Y - здесь у нас средний чек \n",
    "plt.grid(visible=True)\n",
    "plt.title('Графики кумулятивного среднего чека по дням и группам A/B-тестирования', fontsize=16)\n",
    "plt.xlabel('Дата', fontsize=14)\n",
    "plt.ylabel('Средний чек ', fontsize=14)\n",
    "plt.legend(prop={'size': 16}) \n",
    "plt.show()"
   ]
  },
  {
   "cell_type": "markdown",
   "metadata": {},
   "source": [
    "### Вывод по графику \n",
    "В группе A есть проседание по сумме среднего чека в начале периода, но в целом после 13 августа значение стабилизировалось. В группе B видим скачок суммы среднего чека в районе 18-20 августа, затем сумма идёт на спад. Такой скачок косвенно подтверждает теорию о том, что в этих числах - 18-20 августа - были совершены дорогие покупки. В целом суммы среднего чека для групп A и B - разные. \n",
    "\n",
    "Стоит отметить, что в целом колебания графиков со временем затухают"
   ]
  },
  {
   "cell_type": "markdown",
   "metadata": {},
   "source": [
    "## График относительного изменения кумулятивного среднего чека группы B к группе A\n",
    "Построим график, который покажет относительное изменение кумулятивного среднего чек группы B по сравнению с группой A, и посмотрим, какие выводы сможем получить из этой информации\n"
   ]
  },
  {
   "cell_type": "code",
   "execution_count": 19,
   "metadata": {},
   "outputs": [
    {
     "data": {
      "image/png": "[encoded data removed]",
      "text/plain": [
       "<Figure size 1080x720 with 1 Axes>"
      ]
     },
     "metadata": {
      "needs_background": "light"
     },
     "output_type": "display_data"
    }
   ],
   "source": [
    "# мержим данные в один датафрейм \n",
    "merged_cumulative_revenue = cumulative_revenue_a.merge(\n",
    "    cumulative_revenue_b,\n",
    "    left_on='date',\n",
    "    right_on='date',\n",
    "    how='left',\n",
    "    suffixes=['_a', '_b'])\n",
    "\n",
    "# снова задаём размер для графика\n",
    "plt.figure(figsize=(15, 10))\n",
    "\n",
    "# cтроим отношение средних чеков\n",
    "plt.plot(merged_cumulative_revenue['date'],\n",
    "         (merged_cumulative_revenue['revenue_b']/\n",
    "          merged_cumulative_revenue['orders_b'])/\n",
    "         (merged_cumulative_revenue['revenue_a']/\n",
    "          merged_cumulative_revenue['orders_a'])-1)\n",
    "\n",
    "# добавляем красную ось X по нулю. \n",
    "plt.axhline(y=0, color='red', linestyle='--')\n",
    "\n",
    "plt.grid(visible=True)\n",
    "plt.title('График относительного изменения кумулятивного среднего чека группы B к группе A', fontsize=16)\n",
    "plt.xlabel('Дата', fontsize=14)\n",
    "plt.ylabel('Отношение средних чеков', fontsize=14)\n",
    "plt.show()"
   ]
  },
  {
   "cell_type": "markdown",
   "metadata": {},
   "source": [
    "### Вывод по графику \n",
    "Видим скачки в графике, которые говорят о выбросах - скорее всего, это большие заказы. Поначалу график трижды проходит через точку 0, что говорит о равенстве кумулятивного среднего чека в эти дни в группах, но затем видим большой рост - опять же, в районе 18-20 августа."
   ]
  },
  {
   "cell_type": "markdown",
   "metadata": {},
   "source": [
    "## График кумулятивного среднего количества заказов на посетителя по группам\n",
    "Посмотрим, как меняется это значение в группах A и B и какие выводы мы можем сделать из графика. "
   ]
  },
  {
   "cell_type": "code",
   "execution_count": 20,
   "metadata": {},
   "outputs": [
    {
     "data": {
      "text/html": [
       "<div>\n",
       "<style scoped>\n",
       "    .dataframe tbody tr th:only-of-type {\n",
       "        vertical-align: middle;\n",
       "    }\n",
       "\n",
       "    .dataframe tbody tr th {\n",
       "        vertical-align: top;\n",
       "    }\n",
       "\n",
       "    .dataframe thead th {\n",
       "        text-align: right;\n",
       "    }\n",
       "</style>\n",
       "<table border=\"1\" class=\"dataframe\">\n",
       "  <thead>\n",
       "    <tr style=\"text-align: right;\">\n",
       "      <th></th>\n",
       "      <th>date</th>\n",
       "      <th>group</th>\n",
       "      <th>orders</th>\n",
       "      <th>buyers</th>\n",
       "      <th>revenue</th>\n",
       "      <th>visitors</th>\n",
       "      <th>conversion</th>\n",
       "    </tr>\n",
       "  </thead>\n",
       "  <tbody>\n",
       "    <tr>\n",
       "      <th>0</th>\n",
       "      <td>2019-08-01</td>\n",
       "      <td>A</td>\n",
       "      <td>23</td>\n",
       "      <td>19</td>\n",
       "      <td>142779</td>\n",
       "      <td>719</td>\n",
       "      <td>0.031989</td>\n",
       "    </tr>\n",
       "    <tr>\n",
       "      <th>2</th>\n",
       "      <td>2019-08-02</td>\n",
       "      <td>A</td>\n",
       "      <td>42</td>\n",
       "      <td>36</td>\n",
       "      <td>234381</td>\n",
       "      <td>1338</td>\n",
       "      <td>0.031390</td>\n",
       "    </tr>\n",
       "    <tr>\n",
       "      <th>4</th>\n",
       "      <td>2019-08-03</td>\n",
       "      <td>A</td>\n",
       "      <td>66</td>\n",
       "      <td>60</td>\n",
       "      <td>346854</td>\n",
       "      <td>1845</td>\n",
       "      <td>0.035772</td>\n",
       "    </tr>\n",
       "    <tr>\n",
       "      <th>6</th>\n",
       "      <td>2019-08-04</td>\n",
       "      <td>A</td>\n",
       "      <td>77</td>\n",
       "      <td>71</td>\n",
       "      <td>388030</td>\n",
       "      <td>2562</td>\n",
       "      <td>0.030055</td>\n",
       "    </tr>\n",
       "    <tr>\n",
       "      <th>8</th>\n",
       "      <td>2019-08-05</td>\n",
       "      <td>A</td>\n",
       "      <td>99</td>\n",
       "      <td>92</td>\n",
       "      <td>474413</td>\n",
       "      <td>3318</td>\n",
       "      <td>0.029837</td>\n",
       "    </tr>\n",
       "  </tbody>\n",
       "</table>\n",
       "</div>"
      ],
      "text/plain": [
       "        date group  orders  buyers  revenue  visitors  conversion\n",
       "0 2019-08-01     A      23      19   142779       719    0.031989\n",
       "2 2019-08-02     A      42      36   234381      1338    0.031390\n",
       "4 2019-08-03     A      66      60   346854      1845    0.035772\n",
       "6 2019-08-04     A      77      71   388030      2562    0.030055\n",
       "8 2019-08-05     A      99      92   474413      3318    0.029837"
      ]
     },
     "metadata": {},
     "output_type": "display_data"
    },
    {
     "data": {
      "text/html": [
       "<div>\n",
       "<style scoped>\n",
       "    .dataframe tbody tr th:only-of-type {\n",
       "        vertical-align: middle;\n",
       "    }\n",
       "\n",
       "    .dataframe tbody tr th {\n",
       "        vertical-align: top;\n",
       "    }\n",
       "\n",
       "    .dataframe thead th {\n",
       "        text-align: right;\n",
       "    }\n",
       "</style>\n",
       "<table border=\"1\" class=\"dataframe\">\n",
       "  <thead>\n",
       "    <tr style=\"text-align: right;\">\n",
       "      <th></th>\n",
       "      <th>date</th>\n",
       "      <th>group</th>\n",
       "      <th>orders</th>\n",
       "      <th>buyers</th>\n",
       "      <th>revenue</th>\n",
       "      <th>visitors</th>\n",
       "      <th>conversion</th>\n",
       "    </tr>\n",
       "  </thead>\n",
       "  <tbody>\n",
       "    <tr>\n",
       "      <th>1</th>\n",
       "      <td>2019-08-01</td>\n",
       "      <td>B</td>\n",
       "      <td>17</td>\n",
       "      <td>17</td>\n",
       "      <td>59758</td>\n",
       "      <td>713</td>\n",
       "      <td>0.023843</td>\n",
       "    </tr>\n",
       "    <tr>\n",
       "      <th>3</th>\n",
       "      <td>2019-08-02</td>\n",
       "      <td>B</td>\n",
       "      <td>40</td>\n",
       "      <td>39</td>\n",
       "      <td>221801</td>\n",
       "      <td>1294</td>\n",
       "      <td>0.030912</td>\n",
       "    </tr>\n",
       "    <tr>\n",
       "      <th>5</th>\n",
       "      <td>2019-08-03</td>\n",
       "      <td>B</td>\n",
       "      <td>54</td>\n",
       "      <td>53</td>\n",
       "      <td>288850</td>\n",
       "      <td>1803</td>\n",
       "      <td>0.029950</td>\n",
       "    </tr>\n",
       "    <tr>\n",
       "      <th>7</th>\n",
       "      <td>2019-08-04</td>\n",
       "      <td>B</td>\n",
       "      <td>68</td>\n",
       "      <td>66</td>\n",
       "      <td>385740</td>\n",
       "      <td>2573</td>\n",
       "      <td>0.026428</td>\n",
       "    </tr>\n",
       "    <tr>\n",
       "      <th>9</th>\n",
       "      <td>2019-08-05</td>\n",
       "      <td>B</td>\n",
       "      <td>89</td>\n",
       "      <td>87</td>\n",
       "      <td>475648</td>\n",
       "      <td>3280</td>\n",
       "      <td>0.027134</td>\n",
       "    </tr>\n",
       "  </tbody>\n",
       "</table>\n",
       "</div>"
      ],
      "text/plain": [
       "        date group  orders  buyers  revenue  visitors  conversion\n",
       "1 2019-08-01     B      17      17    59758       713    0.023843\n",
       "3 2019-08-02     B      40      39   221801      1294    0.030912\n",
       "5 2019-08-03     B      54      53   288850      1803    0.029950\n",
       "7 2019-08-04     B      68      66   385740      2573    0.026428\n",
       "9 2019-08-05     B      89      87   475648      3280    0.027134"
      ]
     },
     "metadata": {},
     "output_type": "display_data"
    }
   ],
   "source": [
    "# добавляем в таблицу среднее количество заказов на пользователя \n",
    "cumulative_data['conversion'] = cumulative_data['orders'] / cumulative_data['visitors']\n",
    "# делим датасет на группы \n",
    "cumulative_data_a = cumulative_data[cumulative_data['group']=='A']\n",
    "cumulative_data_b = cumulative_data[cumulative_data['group']=='B']\n",
    "display(cumulative_data_a.head())\n",
    "display(cumulative_data_b.head())"
   ]
  },
  {
   "cell_type": "code",
   "execution_count": 21,
   "metadata": {},
   "outputs": [
    {
     "data": {
      "image/png": "[encoded data removed]",
      "text/plain": [
       "<Figure size 1080x720 with 1 Axes>"
      ]
     },
     "metadata": {
      "needs_background": "light"
     },
     "output_type": "display_data"
    }
   ],
   "source": [
    "plt.figure(figsize=(15, 10))\n",
    "plt.plot(cumulative_data_a['date'], cumulative_data_a['conversion'], label='A')\n",
    "plt.plot(cumulative_data_b['date'], cumulative_data_b['conversion'], label='B')\n",
    "# по оси Y теперь среднее количество заказов  \n",
    "plt.grid(visible=True)\n",
    "plt.title('Графики кумулятивного среднего количества заказов по дням и группам A/B-тестирования', fontsize=16)\n",
    "plt.xlabel('Дата', fontsize=14)\n",
    "plt.ylabel('Количество заказов', fontsize=14)\n",
    "plt.legend(prop={'size': 16}) \n",
    "plt.show()"
   ]
  },
  {
   "cell_type": "markdown",
   "metadata": {},
   "source": [
    "### Вывод по графику \n",
    "Поначалу группа A показывает себя лучше, но затем, к 6-7 августа, группа B всё же её опережает, графики стабилизируются и можно отметить, что группа B \"ведёт себя\" значительно лучше. Колебания графиков затухают.\n"
   ]
  },
  {
   "cell_type": "markdown",
   "metadata": {},
   "source": [
    "## График относительного изменения кумулятивного среднего количества заказов на посетителя группы B к группе A. \n",
    "Как и с анализом кумулятивного среднего чека, построим график относительного изменения кумулятивного среднего количества заказов на посетителя группы B к группе A и посмотрим, какие выводы можно будет сделать.\n",
    "\n",
    "\n"
   ]
  },
  {
   "cell_type": "code",
   "execution_count": 22,
   "metadata": {},
   "outputs": [
    {
     "data": {
      "image/png": "[encoded data removed]",
      "text/plain": [
       "<Figure size 1080x720 with 1 Axes>"
      ]
     },
     "metadata": {
      "needs_background": "light"
     },
     "output_type": "display_data"
    }
   ],
   "source": [
    "# мержим данные в одну таблицу\n",
    "cumulative_conversions_ab = (\n",
    "    cumulative_data_a[['date','conversion']]\n",
    "    .merge(\n",
    "        cumulative_data_b[['date','conversion']], \n",
    "        left_on='date', \n",
    "        right_on='date', \n",
    "        how='left', \n",
    "        suffixes=['_a', '_b']\n",
    "    )\n",
    ")\n",
    "# снова задаём размер для графика\n",
    "plt.figure(figsize=(15, 10))\n",
    "\n",
    "# cтроим отношение изменения кумулятивного среднего количества заказов\n",
    "plt.plot(merged_cumulative_revenue['date'],\n",
    "         ((cumulative_conversions_ab['conversion_b'] / cumulative_conversions_ab['conversion_a'] - 1)))\n",
    "\n",
    "# добавляем красную ось X по нулю. \n",
    "plt.axhline(y=0, color='red', linestyle='--')\n",
    "\n",
    "plt.grid(visible=True)\n",
    "plt.title('График относительного изменения кумулятивного среднего количества заказов на посетителя группы B к группе A', fontsize=16)\n",
    "plt.xlabel('Дата', fontsize=14)\n",
    "plt.ylabel('Отношение средних чеков', fontsize=14)\n",
    "plt.show()"
   ]
  },
  {
   "cell_type": "markdown",
   "metadata": {},
   "source": [
    "### Вывод по графику \n",
    "В начале группа B проигрывала группе A, затем произошёл резкий подъём в группе B и медленный спад. По прошлым графикам помним, что в некоторые дни сильный рост группы B может быть обусловлен крупными заказами. \n",
    "Посмотрим, какие выводы мы сможем сделать дальше"
   ]
  },
  {
   "cell_type": "markdown",
   "metadata": {},
   "source": [
    "## Точечный график количества заказов по пользователям. \n",
    "Посмотрим на точечный график количества заказов по пользователям и определим, какие выводы можно сделать из этого графика \n",
    "\n",
    "\n"
   ]
  },
  {
   "cell_type": "code",
   "execution_count": 23,
   "metadata": {},
   "outputs": [
    {
     "data": {
      "text/html": [
       "<div>\n",
       "<style scoped>\n",
       "    .dataframe tbody tr th:only-of-type {\n",
       "        vertical-align: middle;\n",
       "    }\n",
       "\n",
       "    .dataframe tbody tr th {\n",
       "        vertical-align: top;\n",
       "    }\n",
       "\n",
       "    .dataframe thead th {\n",
       "        text-align: right;\n",
       "    }\n",
       "</style>\n",
       "<table border=\"1\" class=\"dataframe\">\n",
       "  <thead>\n",
       "    <tr style=\"text-align: right;\">\n",
       "      <th></th>\n",
       "      <th>visitor_id</th>\n",
       "      <th>ordnumber</th>\n",
       "    </tr>\n",
       "  </thead>\n",
       "  <tbody>\n",
       "    <tr>\n",
       "      <th>908</th>\n",
       "      <td>3967698036</td>\n",
       "      <td>3</td>\n",
       "    </tr>\n",
       "    <tr>\n",
       "      <th>55</th>\n",
       "      <td>249864742</td>\n",
       "      <td>3</td>\n",
       "    </tr>\n",
       "    <tr>\n",
       "      <th>478</th>\n",
       "      <td>2108163459</td>\n",
       "      <td>3</td>\n",
       "    </tr>\n",
       "    <tr>\n",
       "      <th>687</th>\n",
       "      <td>2988190573</td>\n",
       "      <td>3</td>\n",
       "    </tr>\n",
       "    <tr>\n",
       "      <th>890</th>\n",
       "      <td>3908431265</td>\n",
       "      <td>3</td>\n",
       "    </tr>\n",
       "    <tr>\n",
       "      <th>138</th>\n",
       "      <td>611059232</td>\n",
       "      <td>3</td>\n",
       "    </tr>\n",
       "    <tr>\n",
       "      <th>632</th>\n",
       "      <td>2742574263</td>\n",
       "      <td>3</td>\n",
       "    </tr>\n",
       "    <tr>\n",
       "      <th>157</th>\n",
       "      <td>678354126</td>\n",
       "      <td>2</td>\n",
       "    </tr>\n",
       "    <tr>\n",
       "      <th>323</th>\n",
       "      <td>1404560065</td>\n",
       "      <td>2</td>\n",
       "    </tr>\n",
       "    <tr>\n",
       "      <th>452</th>\n",
       "      <td>1985475298</td>\n",
       "      <td>2</td>\n",
       "    </tr>\n",
       "  </tbody>\n",
       "</table>\n",
       "</div>"
      ],
      "text/plain": [
       "     visitor_id  ordnumber\n",
       "908  3967698036          3\n",
       "55    249864742          3\n",
       "478  2108163459          3\n",
       "687  2988190573          3\n",
       "890  3908431265          3\n",
       "138   611059232          3\n",
       "632  2742574263          3\n",
       "157   678354126          2\n",
       "323  1404560065          2\n",
       "452  1985475298          2"
      ]
     },
     "execution_count": 23,
     "metadata": {},
     "output_type": "execute_result"
    }
   ],
   "source": [
    "# сначала посмотрим на количество заказов по каждому пользователю в целом \n",
    "# выкинем заказы от пользователей, которые находятся в двух группах одновременно \n",
    "\n",
    "orders_by_user = orders.groupby('visitor_id')['transaction_id'].nunique().reset_index()\n",
    "orders_by_user.columns = ['visitor_id', 'ordnumber']\n",
    "orders_by_user.sort_values(by='ordnumber', ascending=False).head(10)"
   ]
  },
  {
   "cell_type": "code",
   "execution_count": 24,
   "metadata": {},
   "outputs": [
    {
     "data": {
      "image/png": "[encoded data removed]",
      "text/plain": [
       "<Figure size 1080x720 with 1 Axes>"
      ]
     },
     "metadata": {
      "needs_background": "light"
     },
     "output_type": "display_data"
    }
   ],
   "source": [
    "# снова задаём размер для графика\n",
    "plt.figure(figsize=(15, 10))\n",
    "plt.scatter(orders_by_user['visitor_id'], orders_by_user['ordnumber'])\n",
    "plt.title('Распределение числа заказов по пользователям')\n",
    "plt.show()"
   ]
  },
  {
   "cell_type": "markdown",
   "metadata": {},
   "source": [
    "### Вывод по графику \n",
    "У подавляющего большинства пользователей всего один заказ, у некоторых - по 2, и у семерых пользователей по 3 заказа. "
   ]
  },
  {
   "cell_type": "markdown",
   "metadata": {},
   "source": [
    "## Считаем 95-й и 99-й перцентили количества заказов на пользователя и выбираем границу для определения аномальных пользователей.\n",
    "\n"
   ]
  },
  {
   "cell_type": "code",
   "execution_count": 25,
   "metadata": {},
   "outputs": [
    {
     "name": "stdout",
     "output_type": "stream",
     "text": [
      "[1. 2.]\n",
      "[1. 1. 1. 2.]\n"
     ]
    }
   ],
   "source": [
    "print(np.percentile(orders_by_user['ordnumber'], [95, 99]))\n",
    "\n",
    "# добавим также для сравнения 50 процентов, 75 процентов \n",
    "print(np.percentile(orders_by_user['ordnumber'], [50, 75, 95, 99]))"
   ]
  },
  {
   "cell_type": "markdown",
   "metadata": {},
   "source": [
    "### Вывод по данным\n",
    "Менее одного процента пользователей сделали больше двух заказов. Менее 5% пользователей сделали больше одного заказа. \n",
    "Можно не учитывать данные по пользователям, сделавшим больше 1 заказа. Исключим их, приняв 1 заказ за границу для определения аномальных пользователей"
   ]
  },
  {
   "cell_type": "markdown",
   "metadata": {},
   "source": [
    "## Точечный график стоимостей заказов. \n",
    "Построим точечный график, посмотрим, какие выводы можно сделать из данных\n",
    "\n"
   ]
  },
  {
   "cell_type": "code",
   "execution_count": 26,
   "metadata": {},
   "outputs": [
    {
     "data": {
      "text/html": [
       "<div>\n",
       "<style scoped>\n",
       "    .dataframe tbody tr th:only-of-type {\n",
       "        vertical-align: middle;\n",
       "    }\n",
       "\n",
       "    .dataframe tbody tr th {\n",
       "        vertical-align: top;\n",
       "    }\n",
       "\n",
       "    .dataframe thead th {\n",
       "        text-align: right;\n",
       "    }\n",
       "</style>\n",
       "<table border=\"1\" class=\"dataframe\">\n",
       "  <thead>\n",
       "    <tr style=\"text-align: right;\">\n",
       "      <th></th>\n",
       "      <th>transaction_id</th>\n",
       "      <th>visitor_id</th>\n",
       "      <th>date</th>\n",
       "      <th>revenue</th>\n",
       "      <th>group</th>\n",
       "    </tr>\n",
       "  </thead>\n",
       "  <tbody>\n",
       "    <tr>\n",
       "      <th>425</th>\n",
       "      <td>590470918</td>\n",
       "      <td>1920142716</td>\n",
       "      <td>2019-08-19</td>\n",
       "      <td>1294500</td>\n",
       "      <td>B</td>\n",
       "    </tr>\n",
       "    <tr>\n",
       "      <th>1196</th>\n",
       "      <td>3936777065</td>\n",
       "      <td>2108080724</td>\n",
       "      <td>2019-08-15</td>\n",
       "      <td>202740</td>\n",
       "      <td>B</td>\n",
       "    </tr>\n",
       "    <tr>\n",
       "      <th>1136</th>\n",
       "      <td>666610489</td>\n",
       "      <td>1307669133</td>\n",
       "      <td>2019-08-13</td>\n",
       "      <td>92550</td>\n",
       "      <td>A</td>\n",
       "    </tr>\n",
       "    <tr>\n",
       "      <th>744</th>\n",
       "      <td>3668308183</td>\n",
       "      <td>888512513</td>\n",
       "      <td>2019-08-27</td>\n",
       "      <td>86620</td>\n",
       "      <td>B</td>\n",
       "    </tr>\n",
       "    <tr>\n",
       "      <th>743</th>\n",
       "      <td>3603576309</td>\n",
       "      <td>4133034833</td>\n",
       "      <td>2019-08-09</td>\n",
       "      <td>67990</td>\n",
       "      <td>A</td>\n",
       "    </tr>\n",
       "  </tbody>\n",
       "</table>\n",
       "</div>"
      ],
      "text/plain": [
       "      transaction_id  visitor_id       date  revenue group\n",
       "425        590470918  1920142716 2019-08-19  1294500     B\n",
       "1196      3936777065  2108080724 2019-08-15   202740     B\n",
       "1136       666610489  1307669133 2019-08-13    92550     A\n",
       "744       3668308183   888512513 2019-08-27    86620     B\n",
       "743       3603576309  4133034833 2019-08-09    67990     A"
      ]
     },
     "metadata": {},
     "output_type": "display_data"
    },
    {
     "data": {
      "text/html": [
       "<div>\n",
       "<style scoped>\n",
       "    .dataframe tbody tr th:only-of-type {\n",
       "        vertical-align: middle;\n",
       "    }\n",
       "\n",
       "    .dataframe tbody tr th {\n",
       "        vertical-align: top;\n",
       "    }\n",
       "\n",
       "    .dataframe thead th {\n",
       "        text-align: right;\n",
       "    }\n",
       "</style>\n",
       "<table border=\"1\" class=\"dataframe\">\n",
       "  <thead>\n",
       "    <tr style=\"text-align: right;\">\n",
       "      <th></th>\n",
       "      <th>transaction_id</th>\n",
       "      <th>visitor_id</th>\n",
       "      <th>date</th>\n",
       "      <th>revenue</th>\n",
       "      <th>group</th>\n",
       "    </tr>\n",
       "  </thead>\n",
       "  <tbody>\n",
       "    <tr>\n",
       "      <th>1136</th>\n",
       "      <td>666610489</td>\n",
       "      <td>1307669133</td>\n",
       "      <td>2019-08-13</td>\n",
       "      <td>92550</td>\n",
       "      <td>A</td>\n",
       "    </tr>\n",
       "    <tr>\n",
       "      <th>743</th>\n",
       "      <td>3603576309</td>\n",
       "      <td>4133034833</td>\n",
       "      <td>2019-08-09</td>\n",
       "      <td>67990</td>\n",
       "      <td>A</td>\n",
       "    </tr>\n",
       "    <tr>\n",
       "      <th>1103</th>\n",
       "      <td>1348774318</td>\n",
       "      <td>1164614297</td>\n",
       "      <td>2019-08-12</td>\n",
       "      <td>66350</td>\n",
       "      <td>A</td>\n",
       "    </tr>\n",
       "    <tr>\n",
       "      <th>1099</th>\n",
       "      <td>316924019</td>\n",
       "      <td>148427295</td>\n",
       "      <td>2019-08-12</td>\n",
       "      <td>65710</td>\n",
       "      <td>A</td>\n",
       "    </tr>\n",
       "    <tr>\n",
       "      <th>949</th>\n",
       "      <td>1347999392</td>\n",
       "      <td>887908475</td>\n",
       "      <td>2019-08-21</td>\n",
       "      <td>60450</td>\n",
       "      <td>A</td>\n",
       "    </tr>\n",
       "  </tbody>\n",
       "</table>\n",
       "</div>"
      ],
      "text/plain": [
       "      transaction_id  visitor_id       date  revenue group\n",
       "1136       666610489  1307669133 2019-08-13    92550     A\n",
       "743       3603576309  4133034833 2019-08-09    67990     A\n",
       "1103      1348774318  1164614297 2019-08-12    66350     A\n",
       "1099       316924019   148427295 2019-08-12    65710     A\n",
       "949       1347999392   887908475 2019-08-21    60450     A"
      ]
     },
     "metadata": {},
     "output_type": "display_data"
    },
    {
     "data": {
      "text/html": [
       "<div>\n",
       "<style scoped>\n",
       "    .dataframe tbody tr th:only-of-type {\n",
       "        vertical-align: middle;\n",
       "    }\n",
       "\n",
       "    .dataframe tbody tr th {\n",
       "        vertical-align: top;\n",
       "    }\n",
       "\n",
       "    .dataframe thead th {\n",
       "        text-align: right;\n",
       "    }\n",
       "</style>\n",
       "<table border=\"1\" class=\"dataframe\">\n",
       "  <thead>\n",
       "    <tr style=\"text-align: right;\">\n",
       "      <th></th>\n",
       "      <th>transaction_id</th>\n",
       "      <th>visitor_id</th>\n",
       "      <th>date</th>\n",
       "      <th>revenue</th>\n",
       "      <th>group</th>\n",
       "    </tr>\n",
       "  </thead>\n",
       "  <tbody>\n",
       "    <tr>\n",
       "      <th>425</th>\n",
       "      <td>590470918</td>\n",
       "      <td>1920142716</td>\n",
       "      <td>2019-08-19</td>\n",
       "      <td>1294500</td>\n",
       "      <td>B</td>\n",
       "    </tr>\n",
       "    <tr>\n",
       "      <th>1196</th>\n",
       "      <td>3936777065</td>\n",
       "      <td>2108080724</td>\n",
       "      <td>2019-08-15</td>\n",
       "      <td>202740</td>\n",
       "      <td>B</td>\n",
       "    </tr>\n",
       "    <tr>\n",
       "      <th>744</th>\n",
       "      <td>3668308183</td>\n",
       "      <td>888512513</td>\n",
       "      <td>2019-08-27</td>\n",
       "      <td>86620</td>\n",
       "      <td>B</td>\n",
       "    </tr>\n",
       "    <tr>\n",
       "      <th>940</th>\n",
       "      <td>2420050534</td>\n",
       "      <td>4003628586</td>\n",
       "      <td>2019-08-08</td>\n",
       "      <td>58550</td>\n",
       "      <td>B</td>\n",
       "    </tr>\n",
       "    <tr>\n",
       "      <th>613</th>\n",
       "      <td>4071177889</td>\n",
       "      <td>3931967268</td>\n",
       "      <td>2019-08-07</td>\n",
       "      <td>53904</td>\n",
       "      <td>B</td>\n",
       "    </tr>\n",
       "  </tbody>\n",
       "</table>\n",
       "</div>"
      ],
      "text/plain": [
       "      transaction_id  visitor_id       date  revenue group\n",
       "425        590470918  1920142716 2019-08-19  1294500     B\n",
       "1196      3936777065  2108080724 2019-08-15   202740     B\n",
       "744       3668308183   888512513 2019-08-27    86620     B\n",
       "940       2420050534  4003628586 2019-08-08    58550     B\n",
       "613       4071177889  3931967268 2019-08-07    53904     B"
      ]
     },
     "metadata": {},
     "output_type": "display_data"
    }
   ],
   "source": [
    "# Посмотрим топ заказов по стоиомости\n",
    "display(orders.sort_values(by='revenue', ascending=False).head(5))\n",
    "# посмотрим на топ заказов по стоимости в разрезе по группам \n",
    "display(orders.query(\"group == 'A'\").sort_values(by='revenue', ascending=False).head(5))\n",
    "display(orders.query(\"group == 'B'\").sort_values(by='revenue', ascending=False).head(5))"
   ]
  },
  {
   "cell_type": "markdown",
   "metadata": {},
   "source": [
    "Видим 2 сравнительно дорогих заказа, явно выбивающихся из топа, в группе B. Построим точечный график"
   ]
  },
  {
   "cell_type": "code",
   "execution_count": 27,
   "metadata": {},
   "outputs": [
    {
     "data": {
      "text/plain": [
       "Text(0, 0.5, 'Стоимость заказа в млн.')"
      ]
     },
     "execution_count": 27,
     "metadata": {},
     "output_type": "execute_result"
    },
    {
     "data": {
      "image/png": "[encoded data removed]",
      "text/plain": [
       "<Figure size 1080x720 with 1 Axes>"
      ]
     },
     "metadata": {
      "needs_background": "light"
     },
     "output_type": "display_data"
    }
   ],
   "source": [
    "# построим точечный график \n",
    "# снова задаём размер для графика\n",
    "plt.figure(figsize=(15, 10))\n",
    "x_values = pd.Series(range(0, len(orders['revenue'])))\n",
    "plt.scatter(x_values, orders['revenue']);\n",
    "plt.title('Точечный график стоимостей заказов')\n",
    "plt.ylabel('Стоимость заказа в млн.')"
   ]
  },
  {
   "cell_type": "code",
   "execution_count": 28,
   "metadata": {},
   "outputs": [
    {
     "data": {
      "text/plain": [
       "Text(0, 0.5, 'Стоимость заказа в млн.')"
      ]
     },
     "execution_count": 28,
     "metadata": {},
     "output_type": "execute_result"
    },
    {
     "data": {
      "image/png": "[encoded data removed]",
      "text/plain": [
       "<Figure size 1080x720 with 1 Axes>"
      ]
     },
     "metadata": {
      "needs_background": "light"
     },
     "output_type": "display_data"
    }
   ],
   "source": [
    "# построим такой же график, исключив выбивающиеся значения \n",
    "# построим точечный график \n",
    "# снова задаём размер для графика\n",
    "plt.figure(figsize=(15, 10))\n",
    "x_values = pd.Series(range(0, len(orders.query(\"revenue < 200000\")['revenue'])))\n",
    "plt.scatter(x_values, orders.query(\"revenue < 200000\")['revenue']);\n",
    "plt.title('Точечный график стоимостей заказов')\n",
    "plt.ylabel('Стоимость заказа в млн.')"
   ]
  },
  {
   "cell_type": "markdown",
   "metadata": {},
   "source": [
    "### Вывод по графику \n",
    "Видим 2 явно выбивающихся из общей массы заказа - это заказы на сумму 1294500 и 202740, которые мы заметили в группе B. Изучим перцентили и определим границу отсечения аномалий "
   ]
  },
  {
   "cell_type": "markdown",
   "metadata": {},
   "source": [
    "## Считаем 95-й и 99-й перцентили стоимости заказов и выбираем границу для определения аномальных заказов.\n",
    "\n"
   ]
  },
  {
   "cell_type": "code",
   "execution_count": 29,
   "metadata": {},
   "outputs": [
    {
     "name": "stdout",
     "output_type": "stream",
     "text": [
      "[26785. 53904.]\n"
     ]
    }
   ],
   "source": [
    "print(np.percentile(orders['revenue'], [95, 99]))"
   ]
  },
  {
   "cell_type": "markdown",
   "metadata": {},
   "source": [
    "###  Вывод по данным \n",
    "Всего 5% заказов были стоимостью больше 26785 и всего 1% заказов был сделан на сумму выше 53904. Границей для определения аномальных заказов по стоимости обозначим сумму 26785."
   ]
  },
  {
   "cell_type": "markdown",
   "metadata": {},
   "source": [
    "## Подсчёт статистической значимости различий в среднем количестве заказов на посетителя между группами по «сырым» данным и по очищенным данным. \n",
    "Мы определили границы аномальных значений, и можем проанализировать сырые и очищенные данные по разным аспектам. Подсчитаем статистическую значимость различий в среднем количестве заказов на посетителя между группами. Начнём с анализа \"сырых\" данных\n",
    "\n"
   ]
  },
  {
   "cell_type": "markdown",
   "metadata": {},
   "source": [
    "### Расчёт по сырым данным\n",
    "Сначала возьмём в работу сырые данные, не отсекая выявленные ранее аномалии"
   ]
  },
  {
   "cell_type": "code",
   "execution_count": 30,
   "metadata": {},
   "outputs": [
    {
     "data": {
      "text/html": [
       "<div>\n",
       "<style scoped>\n",
       "    .dataframe tbody tr th:only-of-type {\n",
       "        vertical-align: middle;\n",
       "    }\n",
       "\n",
       "    .dataframe tbody tr th {\n",
       "        vertical-align: top;\n",
       "    }\n",
       "\n",
       "    .dataframe thead th {\n",
       "        text-align: right;\n",
       "    }\n",
       "</style>\n",
       "<table border=\"1\" class=\"dataframe\">\n",
       "  <thead>\n",
       "    <tr style=\"text-align: right;\">\n",
       "      <th></th>\n",
       "      <th>date</th>\n",
       "      <th>orders_per_date_a</th>\n",
       "      <th>revenue_per_date_a</th>\n",
       "      <th>orders_per_date_b</th>\n",
       "      <th>revenue_per_date_b</th>\n",
       "      <th>orders_cumulative_a</th>\n",
       "      <th>revenue_cumulative_a</th>\n",
       "      <th>orders_cumulative_b</th>\n",
       "      <th>revenue_cumulative_b</th>\n",
       "      <th>visitors_per_date_a</th>\n",
       "      <th>visitors_per_date_b</th>\n",
       "      <th>visitors_cummulative_a</th>\n",
       "      <th>visitors_cummulative_b</th>\n",
       "    </tr>\n",
       "  </thead>\n",
       "  <tbody>\n",
       "    <tr>\n",
       "      <th>0</th>\n",
       "      <td>2019-08-01</td>\n",
       "      <td>23</td>\n",
       "      <td>142779</td>\n",
       "      <td>17</td>\n",
       "      <td>59758</td>\n",
       "      <td>23</td>\n",
       "      <td>142779</td>\n",
       "      <td>17</td>\n",
       "      <td>59758</td>\n",
       "      <td>719</td>\n",
       "      <td>713</td>\n",
       "      <td>719</td>\n",
       "      <td>713</td>\n",
       "    </tr>\n",
       "    <tr>\n",
       "      <th>1</th>\n",
       "      <td>2019-08-02</td>\n",
       "      <td>19</td>\n",
       "      <td>91602</td>\n",
       "      <td>23</td>\n",
       "      <td>162043</td>\n",
       "      <td>42</td>\n",
       "      <td>234381</td>\n",
       "      <td>40</td>\n",
       "      <td>221801</td>\n",
       "      <td>619</td>\n",
       "      <td>581</td>\n",
       "      <td>1338</td>\n",
       "      <td>1294</td>\n",
       "    </tr>\n",
       "    <tr>\n",
       "      <th>2</th>\n",
       "      <td>2019-08-03</td>\n",
       "      <td>24</td>\n",
       "      <td>112473</td>\n",
       "      <td>14</td>\n",
       "      <td>67049</td>\n",
       "      <td>66</td>\n",
       "      <td>346854</td>\n",
       "      <td>54</td>\n",
       "      <td>288850</td>\n",
       "      <td>507</td>\n",
       "      <td>509</td>\n",
       "      <td>1845</td>\n",
       "      <td>1803</td>\n",
       "    </tr>\n",
       "    <tr>\n",
       "      <th>3</th>\n",
       "      <td>2019-08-04</td>\n",
       "      <td>11</td>\n",
       "      <td>41176</td>\n",
       "      <td>14</td>\n",
       "      <td>96890</td>\n",
       "      <td>77</td>\n",
       "      <td>388030</td>\n",
       "      <td>68</td>\n",
       "      <td>385740</td>\n",
       "      <td>717</td>\n",
       "      <td>770</td>\n",
       "      <td>2562</td>\n",
       "      <td>2573</td>\n",
       "    </tr>\n",
       "    <tr>\n",
       "      <th>4</th>\n",
       "      <td>2019-08-05</td>\n",
       "      <td>22</td>\n",
       "      <td>86383</td>\n",
       "      <td>21</td>\n",
       "      <td>89908</td>\n",
       "      <td>99</td>\n",
       "      <td>474413</td>\n",
       "      <td>89</td>\n",
       "      <td>475648</td>\n",
       "      <td>756</td>\n",
       "      <td>707</td>\n",
       "      <td>3318</td>\n",
       "      <td>3280</td>\n",
       "    </tr>\n",
       "  </tbody>\n",
       "</table>\n",
       "</div>"
      ],
      "text/plain": [
       "        date  orders_per_date_a  revenue_per_date_a  orders_per_date_b  \\\n",
       "0 2019-08-01                 23              142779                 17   \n",
       "1 2019-08-02                 19               91602                 23   \n",
       "2 2019-08-03                 24              112473                 14   \n",
       "3 2019-08-04                 11               41176                 14   \n",
       "4 2019-08-05                 22               86383                 21   \n",
       "\n",
       "   revenue_per_date_b  orders_cumulative_a  revenue_cumulative_a  \\\n",
       "0               59758                   23                142779   \n",
       "1              162043                   42                234381   \n",
       "2               67049                   66                346854   \n",
       "3               96890                   77                388030   \n",
       "4               89908                   99                474413   \n",
       "\n",
       "   orders_cumulative_b  revenue_cumulative_b  visitors_per_date_a  \\\n",
       "0                   17                 59758                  719   \n",
       "1                   40                221801                  619   \n",
       "2                   54                288850                  507   \n",
       "3                   68                385740                  717   \n",
       "4                   89                475648                  756   \n",
       "\n",
       "   visitors_per_date_b  visitors_cummulative_a  visitors_cummulative_b  \n",
       "0                  713                     719                     713  \n",
       "1                  581                    1338                    1294  \n",
       "2                  509                    1845                    1803  \n",
       "3                  770                    2562                    2573  \n",
       "4                  707                    3318                    3280  "
      ]
     },
     "execution_count": 30,
     "metadata": {},
     "output_type": "execute_result"
    }
   ],
   "source": [
    "# Для подсчёта возьмём функцию из урока \"Анализ A/B теста шаг за шагом\", немного поменяв стиль названий столбцов.\n",
    "\n",
    "\n",
    "visitorsADaily = visitors[visitors['group']=='A'][['date', 'visitors']]\n",
    "visitorsADaily.columns = ['date', 'visitors_per_date_a']\n",
    "\n",
    "visitorsACummulative = visitorsADaily.apply(lambda x: visitorsADaily[visitorsADaily['date'] <= x['date']]. \\\n",
    "                                            agg({'date' : 'max', 'visitors_per_date_a' : 'sum'}), axis=1)\n",
    "visitorsACummulative.columns = ['date', 'visitors_cummulative_a']\n",
    "\n",
    "visitorsBDaily = visitors[visitors['group']=='B'][['date', 'visitors']]\n",
    "visitorsBDaily.columns = ['date', 'visitors_per_date_b']\n",
    "\n",
    "visitorsBCummulative = visitorsBDaily.apply(lambda x: visitorsBDaily[visitorsBDaily['date'] <= x['date']]. \\\n",
    "                                            agg({'date' : 'max', 'visitors_per_date_b' : 'sum'}), axis=1)\n",
    "visitorsBCummulative.columns = ['date', 'visitors_cummulative_b']\n",
    "\n",
    "\n",
    "ordersADaily = orders[orders['group']=='A'][['date', 'transaction_id', 'visitor_id', 'revenue']]\\\n",
    "    .groupby('date', as_index=False)\\\n",
    "    .agg({'transaction_id' : pd.Series.nunique, 'revenue' : 'sum'})\n",
    "ordersADaily.columns = ['date', 'orders_per_date_a', 'revenue_per_date_a']\n",
    "\n",
    "ordersACummulative = ordersADaily.apply(\n",
    "    lambda x: \\\n",
    "        ordersADaily[ordersADaily['date'] <= x['date']]\\\n",
    "            .agg({\n",
    "                'date' : 'max',\n",
    "                'orders_per_date_a' : 'sum',\n",
    "                'revenue_per_date_a' : 'sum'}), axis=1).sort_values(by=['date'])\n",
    "ordersACummulative.columns = ['date', 'orders_cumulative_a', 'revenue_cumulative_a']\n",
    "\n",
    "ordersBDaily = orders[orders['group']=='B'][['date', 'transaction_id', 'visitor_id', 'revenue']]\\\n",
    "    .groupby('date', as_index=False)\\\n",
    "    .agg({'transaction_id' : pd.Series.nunique, 'revenue' : 'sum'})\n",
    "ordersBDaily.columns = ['date', 'orders_per_date_b', 'revenue_per_date_b']\n",
    "\n",
    "ordersBCummulative = ordersBDaily.apply(\n",
    "    lambda x: \\\n",
    "        ordersBDaily[ordersBDaily['date'] <= x['date']]\\\n",
    "            .agg({\n",
    "                'date' : 'max',\n",
    "                'orders_per_date_b' : 'sum',\n",
    "                'revenue_per_date_b' : 'sum'}), axis=1).sort_values(by=['date'])\n",
    "ordersBCummulative.columns = ['date', 'orders_cumulative_b', 'revenue_cumulative_b']\n",
    "\n",
    "\n",
    "data = ordersADaily.merge(ordersBDaily, left_on='date', right_on='date', how='left')\\\n",
    "    .merge(ordersACummulative, left_on='date', right_on='date', how='left')\\\n",
    "    .merge(ordersBCummulative, left_on='date', right_on='date', how='left')\\\n",
    "    .merge(visitorsADaily, left_on='date', right_on='date', how='left')\\\n",
    "    .merge(visitorsBDaily, left_on='date', right_on='date', how='left')\\\n",
    "    .merge(visitorsACummulative, left_on='date', right_on='date', how='left')\\\n",
    "    .merge(visitorsBCummulative, left_on='date', right_on='date', how='left')\n",
    "\n",
    "data.head(5)"
   ]
  },
  {
   "cell_type": "markdown",
   "metadata": {},
   "source": [
    "Столбцы полученной таблицы: \n",
    "- ```date``` — дата;\n",
    "- ```ordersPerDateA``` — количество заказов в выбранную дату в группе A;\n",
    "- ```revenuePerDateA``` — суммарная выручка в выбранную дату в группе A;\n",
    "- ```ordersPerDateB``` — количество заказов в выбранную дату в группе B;\n",
    "- ```revenuePerDateB``` — суммарная выручка в выбранную дату в группе B;\n",
    "- ```ordersCummulativeA``` — суммарное число заказов до выбранной даты включительно в группе A;\n",
    "- ```revenueCummulativeA``` — суммарная выручка до выбранной даты включительно в группе A;\n",
    "- ```ordersCummulativeB``` — суммарное количество заказов до выбранной даты включительно в группе B;\n",
    "- ```revenueCummulativeB``` — суммарная выручка до выбранной даты включительно в группе B;\n",
    "- ```visitorsPerDateA``` — количество пользователей в выбранную дату в группе A;\n",
    "- ```visitorsPerDateB``` — количество пользователей в выбранную дату в группе B;\n",
    "- ```visitorsCummulativeA``` — количество пользователей до выбранной даты включительно в группе A;\n",
    "- ```visitorsCummulativeB``` — количество пользователей до выбранной даты включительно в группе B."
   ]
  },
  {
   "cell_type": "markdown",
   "metadata": {},
   "source": [
    "Проверим гипотезы о статистической значимости различий. За нулевую гипотезу возьмём отсутствие различий: \n",
    "- H0:Статистически значимых различий в среднем количестве заказов на посетителя между группами нет.\n",
    "- H1:Статистически значимые различия в среднем количестве заказов на посетителя между группами есть.\n",
    "\n",
    "Теперь проверим эти гипотезы по критерию Манна-Уитни"
   ]
  },
  {
   "cell_type": "code",
   "execution_count": 31,
   "metadata": {},
   "outputs": [
    {
     "name": "stdout",
     "output_type": "stream",
     "text": [
      "p-value: 0.011\n",
      "diff:  0.160\n"
     ]
    }
   ],
   "source": [
    "ordersByUsersA = orders[orders['group']=='A'].groupby('visitor_id', as_index=False).agg({'transaction_id' : pd.Series.nunique})\n",
    "ordersByUsersA.columns = ['user_id', 'orders']\n",
    "\n",
    "ordersByUsersB = orders[orders['group']=='B'].groupby('visitor_id', as_index=False).agg({'transaction_id' : pd.Series.nunique})\n",
    "ordersByUsersB.columns = ['user_id', 'orders']\n",
    "\n",
    "sampleA = pd.concat(\n",
    "    [\n",
    "        ordersByUsersA['orders'],\n",
    "        pd.Series(\n",
    "            0,\n",
    "            index=np.arange(\n",
    "                data['visitors_per_date_a'].sum() - len(ordersByUsersA['orders'])\n",
    "            ),\n",
    "            name='orders',\n",
    "        ),\n",
    "    ],\n",
    "    axis=0,\n",
    ")\n",
    " \n",
    "sampleB = pd.concat(\n",
    "    [\n",
    "        ordersByUsersB['orders'],\n",
    "        pd.Series(\n",
    "            0,\n",
    "            index=np.arange(\n",
    "                data['visitors_per_date_b'].sum() - len(ordersByUsersB['orders'])\n",
    "            ),\n",
    "            name='orders',\n",
    "        ),\n",
    "    ],\n",
    "    axis=0,\n",
    ")\n",
    " \n",
    "print('p-value:', \"{0:.3f}\".format(stats.mannwhitneyu(sampleA, sampleB)[1]))\n",
    " \n",
    "print('diff: ',\"{0:.3f}\".format(sampleB.mean() / sampleA.mean() - 1))"
   ]
  },
  {
   "cell_type": "markdown",
   "metadata": {},
   "source": [
    "### Вывод по сырым данным: \n",
    "p-value = 0.011, что меньше уровня статистической значимости 0.05. Это значит, что нулевую гипотезу (об отсутствии разницы) мы можем отвергнуть.    Таким образом, получаем, что разница в количестве заказов между группами есть, и она статистически значима. Полученнная разница - diff - равна 0.16, то есть 16%.    \n",
    "В итоге по сырым данным видим, что в группе B среднее количество заказов больше на 16%, и эта разница статистически значима. "
   ]
  },
  {
   "cell_type": "markdown",
   "metadata": {},
   "source": [
    "### Расчёт по \"очищенным данным\" \n",
    "Ранее мы выявили границы аномалий: более 1 заказа на пользователя, заказы стоимостью более 26785\n",
    "\n",
    "Проведём расчёты, убрав из датасета аномальные данные и посмотри, изменится ли вывод после исключения аномалий."
   ]
  },
  {
   "cell_type": "code",
   "execution_count": 32,
   "metadata": {},
   "outputs": [
    {
     "data": {
      "text/plain": [
       "568     113298937\n",
       "1099    148427295\n",
       "928     204675465\n",
       "33      249864742\n",
       "684     358944393\n",
       "dtype: int64"
      ]
     },
     "metadata": {},
     "output_type": "display_data"
    },
    {
     "name": "stdout",
     "output_type": "stream",
     "text": [
      "86\n"
     ]
    }
   ],
   "source": [
    "# берём за основу данные из теории, но используя snake_case в датасетах\n",
    "usersWithManyOrders = pd.concat(\n",
    "    [\n",
    "        ordersByUsersA[ordersByUsersA['orders'] > 1]['user_id'],\n",
    "        ordersByUsersB[ordersByUsersB['orders'] > 1]['user_id'],\n",
    "    ],\n",
    "    axis=0,\n",
    ")\n",
    "usersWithExpensiveOrders = orders[orders['revenue'] > 26785]['visitor_id']\n",
    "abnormalUsers = (\n",
    "    pd.concat([usersWithManyOrders, usersWithExpensiveOrders], axis=0)\n",
    "    .drop_duplicates()\n",
    "    .sort_values()\n",
    ")\n",
    "display(abnormalUsers.head(5))\n",
    "print(abnormalUsers.shape[0])"
   ]
  },
  {
   "cell_type": "markdown",
   "metadata": {},
   "source": [
    "Получили 86 \"аномальных\" пользователей. Узнаем, как их действия повлияли на результаты теста. Посчитаем статистическую значимость различий в среднем количестве заказов между группами теста по очищенным данным. Сначала подготовим выборки количества заказов по пользователям по группам теста:"
   ]
  },
  {
   "cell_type": "code",
   "execution_count": 33,
   "metadata": {},
   "outputs": [],
   "source": [
    "#  \"сырые\" данные не перезаписываем - они нм ещё пригодятся для расчётов\n",
    "sampleAFiltered = pd.concat(\n",
    "    [\n",
    "        ordersByUsersA[\n",
    "            np.logical_not(ordersByUsersA['user_id'].isin(abnormalUsers))\n",
    "        ]['orders'],\n",
    "        pd.Series(\n",
    "            0,\n",
    "            index=np.arange(\n",
    "                data['visitors_per_date_a'].sum() - len(ordersByUsersA['orders'])\n",
    "            ),\n",
    "            name='orders',\n",
    "        ),\n",
    "    ],\n",
    "    axis=0,\n",
    ")\n",
    "\n",
    "sampleBFiltered = pd.concat(\n",
    "    [\n",
    "        ordersByUsersB[\n",
    "            np.logical_not(ordersByUsersB['user_id'].isin(abnormalUsers))\n",
    "        ]['orders'],\n",
    "        pd.Series(\n",
    "            0,\n",
    "            index=np.arange(\n",
    "                data['visitors_per_date_b'].sum() - len(ordersByUsersB['orders'])\n",
    "            ),\n",
    "            name='orders',\n",
    "        ),\n",
    "    ],\n",
    "    axis=0,\n",
    ")"
   ]
  },
  {
   "cell_type": "markdown",
   "metadata": {},
   "source": [
    "Формулируем гипотезы для проверки - так же, как и при анализе сырых данных. За нулевую гипотезу возьмём отсутствие различий: \n",
    "- H0:Статистически значимых различий в среднем количестве заказов на посетителя между группами нет.\n",
    "- H1:Статистически значимые различия в среднем количестве заказов на посетителя между группами есть."
   ]
  },
  {
   "cell_type": "code",
   "execution_count": 34,
   "metadata": {},
   "outputs": [
    {
     "name": "stdout",
     "output_type": "stream",
     "text": [
      "p-value: 0.016\n",
      "diff:  0.174\n"
     ]
    }
   ],
   "source": [
    "print('p-value:', \"{0:.3f}\".format(stats.mannwhitneyu(sampleAFiltered, sampleBFiltered)[1]))\n",
    " \n",
    "print('diff: ',\"{0:.3f}\".format(sampleBFiltered.mean() / sampleAFiltered.mean() - 1))"
   ]
  },
  {
   "cell_type": "markdown",
   "metadata": {},
   "source": [
    "### Вывод по \"очищенным\" данным: \n",
    "p-value получили равным 0.16, что меньше уровня статистической значимости 0.05, как и при расчёте по сырым данным. Значит, разница статистически значима, и составляет 0.174, то есть 17.4 процента. Стоит отметить, что аномалии глобально не повлияли на анализ среднего количества заказов на пользователя.\n",
    "\n",
    "Группа B лидирует по среднему количеству заказов на посетителя."
   ]
  },
  {
   "cell_type": "markdown",
   "metadata": {},
   "source": [
    "## Расчет статистической значимости различий в среднем чеке заказа между группами по сырым и по очищенным данным. \n",
    "Со средним количеством заказов по группам разобрались, теперь сформируем гипотезы и посчитаем статистическую значимость различий в среднем чеке заказа. Проведём расчёты по сырым и по очищенным данным. \n"
   ]
  },
  {
   "cell_type": "markdown",
   "metadata": {},
   "source": [
    "### Расчёт по сырым данным\n",
    "Формируем гипотезы: \n",
    "- H0: Статистически значимой разницы в среднем чеке заказа между группами нет \n",
    "- H1: Разница в среднем чеке заказа между группами статистически значима \n",
    "\n",
    "Данные у нас уже подготовлены в рамках предыдущего шага, осталось только применить критерий Манна-Уитни по нужному полю \n"
   ]
  },
  {
   "cell_type": "code",
   "execution_count": 35,
   "metadata": {},
   "outputs": [
    {
     "name": "stdout",
     "output_type": "stream",
     "text": [
      "p-value: 0.829\n",
      "diff:  0.287\n"
     ]
    }
   ],
   "source": [
    "print('p-value:', \"{0:.3f}\".format(stats.mannwhitneyu(orders[orders['group']=='A']['revenue'], orders[orders['group']=='B']['revenue'])[1]))\n",
    "print('diff: ',\"{0:.3f}\".format(orders[orders['group']=='B']['revenue'].mean()/orders[orders['group']=='A']['revenue'].mean()-1))"
   ]
  },
  {
   "cell_type": "markdown",
   "metadata": {},
   "source": [
    "### Вывод по сырым данным \n",
    "p-value принимает значение 0.829, что значительно больше уровня статистической значимости в 0.05, отвергнуть нулевую гипотезу об отсутствии разницы мы не можем. \n",
    "\n",
    "Подсчитанная разница - 0.287, то есть 28.7%, достаточно велика, но не является статистически значимой.  Такое большое значение можно объяснить выявленными ранее аномальными заказами с большими суммами, проверим гипотезы на очищенных данных. "
   ]
  },
  {
   "cell_type": "markdown",
   "metadata": {},
   "source": [
    "### Расчёт по \"очищенным\" данным \n",
    "Данные мы уже подготовили на предыдущем шаге, исключив аномально большие суммы и аномальное количество заказов. Сформируем гипотезы: \n",
    "- H0: Статистически значимой разницы в среднем чеке заказа между группами нет\n",
    "- H1: Разница в среднем чеке заказа между группами статистически значима\n"
   ]
  },
  {
   "cell_type": "code",
   "execution_count": 36,
   "metadata": {},
   "outputs": [
    {
     "name": "stdout",
     "output_type": "stream",
     "text": [
      "p-value: 0.727\n",
      "diff:  -0.034\n"
     ]
    }
   ],
   "source": [
    "print(\n",
    "    'p-value:', \"{0:.3f}\".format(\n",
    "        stats.mannwhitneyu(\n",
    "            orders[\n",
    "                np.logical_and(\n",
    "                    orders['group'] == 'A',\n",
    "                    np.logical_not(orders['visitor_id'].isin(abnormalUsers)),\n",
    "                )\n",
    "            ]['revenue'],\n",
    "            orders[\n",
    "                np.logical_and(\n",
    "                    orders['group'] == 'B',\n",
    "                    np.logical_not(orders['visitor_id'].isin(abnormalUsers)),\n",
    "                )\n",
    "            ]['revenue'],\n",
    "        )[1]\n",
    "    )\n",
    ")\n",
    "\n",
    "print(\n",
    "    'diff: ', \"{0:.3f}\".format(\n",
    "        orders[\n",
    "            np.logical_and(\n",
    "                orders['group'] == 'B',\n",
    "                np.logical_not(orders['visitor_id'].isin(abnormalUsers)),\n",
    "            )\n",
    "        ]['revenue'].mean()\n",
    "        / orders[\n",
    "            np.logical_and(\n",
    "                orders['group'] == 'A',\n",
    "                np.logical_not(orders['visitor_id'].isin(abnormalUsers)),\n",
    "            )\n",
    "        ]['revenue'].mean()\n",
    "        - 1\n",
    "    )\n",
    ")"
   ]
  },
  {
   "cell_type": "markdown",
   "metadata": {},
   "source": [
    "### Вывод по \"очищенным\" данным: \n",
    "Значение p-value, равное 0.727, значительно выше уровня статистической значимости в 0.05, поэтому нулевую гипотезу о том, что разницы между группами нет, мы не отвергаем. \n",
    "\n",
    "При этом в сравнении с результатами анализа по сырым данным сильно поменялась разнциа между группами: на сырых данных она составляла 28.7% в пользу группы B, а вот по очищенным данным видим 3.4% в пользу группы A. Учитывая, что в очищенных данных мы избавились от аномально дорогих заказов, получаем, что довольно большая (28.7 процента) разница, полученная по сырым данным, действительно объясняется выбросами. "
   ]
  },
  {
   "cell_type": "markdown",
   "metadata": {},
   "source": [
    "# Общий вывод и решение по результатам теста. \n",
    "\n",
    "В рамках работы над данными от маркетинга проанализировали гипотезы и выявили три приоритетных гипотезы: \n",
    "- Гипотеза 7 Добавить форму подписки на все основные страницы, чтобы собрать базу клиентов для email-рассылок\n",
    "- Гипотеза 2 Добавить блоки рекомендаций товаров на сайт интернет магазина, чтобы повысить конверсию и средний чек заказа\n",
    "- Гипотеза 0 Добавить два новых канала привлечения трафика, что позволит привлекать на 30% больше пользователе\n",
    "\n",
    "Изучили полученные по A/B тесту данные: \n",
    "- выявили потенциально проблемные данные - пользователей, которые попали в обе группы, исключили их из анализа \n",
    "- выявили аномально большие суммы \n",
    "- выявили аномальное количество заказов по пользователю \n",
    "\n",
    "Провели анализ среднего количества заказов на посетителя по группам A и B - как на сырых данных, так и на очищенных, выявили, что **среднее количество заказов на посетителя выше у группы B**, группу B можно признать более успешной, статистически значимая разница между группами есть. \n",
    "\n",
    "Провели анализ средней стоимости заказов на посетителя по группам A и B - как на сырых данных, так и на очищенных, и выявили, что не можем зафиксировать статистически значимую разницу. Можно считать, что средняя стоимость заказов на посетителя по группам не различается. \n",
    "\n",
    "Итого, посетители из группы B покупают на те же суммы, но чаще. \n",
    "\n",
    "При работе с тестом у нас есть следующие варианты решений:\n",
    "- Остановить тест, зафиксировать победу одной из групп.\n",
    "- Остановить тест, зафиксировать отсутствие различий между группами.\n",
    "- Продолжить тест.\n",
    "\n",
    "Учитывая выявленное затухание колебаний графиков по группам (т.е. группы стабилизируются в своём поведении), делаем вывод, что тест можно останавливать. \n",
    "В группе B видим повышенное среднее количество заказов на посетителя; средний чек у групп A и B в среднем одинаков. \n",
    "\n",
    "Итого, считаем, что **тест следует остановить и зафиксировать победу группы B.** "
   ]
  },
  {
   "cell_type": "markdown",
   "metadata": {},
   "source": [
    "<div style=\"border:solid black 2px; padding: 20px\">\n",
    "  \n",
    "    \n",
    "  <b>Чек-лист доработок</b>\n",
    "    \n",
    " \n",
    "  📃 Устранить ошибку: NameError.\n",
    "\n",
    "  📃 Проверить выводы теста среднего чека по сырым и очищенным данным.\n",
    "    \n",
    "\n",
    "Жду твой проект на повторное ревью. Не стесняйся оставлять комментарии и задавать вопросы. Удачи! Все получится.\n",
    "</div>"
   ]
  }
 ],
 "metadata": {
  "ExecuteTimeLog": [
   {
    "duration": 467,
    "start_time": "2025-02-11T19:42:39.210Z"
   },
   {
    "duration": 38,
    "start_time": "2025-02-11T19:42:51.629Z"
   },
   {
    "duration": 69,
    "start_time": "2025-02-11T19:56:49.741Z"
   },
   {
    "duration": 22,
    "start_time": "2025-02-11T19:57:23.489Z"
   },
   {
    "duration": 10,
    "start_time": "2025-02-11T20:00:00.671Z"
   },
   {
    "duration": 9,
    "start_time": "2025-02-11T20:00:04.931Z"
   },
   {
    "duration": 8,
    "start_time": "2025-02-11T20:00:22.238Z"
   },
   {
    "duration": 14,
    "start_time": "2025-02-11T20:00:51.910Z"
   },
   {
    "duration": 14,
    "start_time": "2025-02-11T20:01:15.833Z"
   },
   {
    "duration": 12,
    "start_time": "2025-02-11T20:01:46.485Z"
   },
   {
    "duration": 12,
    "start_time": "2025-02-11T20:01:56.782Z"
   },
   {
    "duration": 12,
    "start_time": "2025-02-11T20:02:00.607Z"
   },
   {
    "duration": 12,
    "start_time": "2025-02-11T20:02:11.723Z"
   },
   {
    "duration": 774,
    "start_time": "2025-02-11T20:07:11.943Z"
   },
   {
    "duration": 2,
    "start_time": "2025-02-11T20:08:11.807Z"
   },
   {
    "duration": 302,
    "start_time": "2025-02-11T20:08:17.342Z"
   },
   {
    "duration": 348,
    "start_time": "2025-02-11T20:12:59.487Z"
   },
   {
    "duration": 187,
    "start_time": "2025-02-11T20:14:26.321Z"
   },
   {
    "duration": 227,
    "start_time": "2025-02-11T20:14:33.843Z"
   },
   {
    "duration": 137,
    "start_time": "2025-02-11T20:15:12.414Z"
   },
   {
    "duration": 11,
    "start_time": "2025-02-11T20:15:32.937Z"
   },
   {
    "duration": 311,
    "start_time": "2025-02-11T20:15:59.228Z"
   },
   {
    "duration": 319,
    "start_time": "2025-02-11T20:16:44.783Z"
   },
   {
    "duration": 314,
    "start_time": "2025-02-11T20:17:00.638Z"
   },
   {
    "duration": 307,
    "start_time": "2025-02-11T20:17:43.087Z"
   },
   {
    "duration": 310,
    "start_time": "2025-02-11T20:18:19.296Z"
   },
   {
    "duration": 306,
    "start_time": "2025-02-11T20:18:28.317Z"
   },
   {
    "duration": 3,
    "start_time": "2025-02-11T20:20:37.662Z"
   },
   {
    "duration": 33,
    "start_time": "2025-02-11T20:20:38.751Z"
   },
   {
    "duration": 8,
    "start_time": "2025-02-11T20:20:42.378Z"
   },
   {
    "duration": 14,
    "start_time": "2025-02-11T20:20:44.553Z"
   },
   {
    "duration": 12,
    "start_time": "2025-02-11T20:20:47.026Z"
   },
   {
    "duration": 11,
    "start_time": "2025-02-11T20:20:47.040Z"
   },
   {
    "duration": 306,
    "start_time": "2025-02-11T20:20:51.091Z"
   },
   {
    "duration": 391,
    "start_time": "2025-02-11T20:20:52.278Z"
   },
   {
    "duration": 52,
    "start_time": "2025-02-11T20:46:43.958Z"
   },
   {
    "duration": 59,
    "start_time": "2025-02-11T20:47:22.366Z"
   },
   {
    "duration": 13,
    "start_time": "2025-02-11T20:48:17.443Z"
   },
   {
    "duration": 18,
    "start_time": "2025-02-11T20:48:28.986Z"
   },
   {
    "duration": 32,
    "start_time": "2025-02-11T20:49:31.564Z"
   },
   {
    "duration": 16,
    "start_time": "2025-02-11T20:51:26.119Z"
   },
   {
    "duration": 26,
    "start_time": "2025-02-11T20:57:07.798Z"
   },
   {
    "duration": 11,
    "start_time": "2025-02-11T20:58:15.183Z"
   },
   {
    "duration": 27,
    "start_time": "2025-02-11T20:58:24.223Z"
   },
   {
    "duration": 45,
    "start_time": "2025-02-11T21:00:33.430Z"
   },
   {
    "duration": 45,
    "start_time": "2025-02-11T21:00:50.815Z"
   },
   {
    "duration": 58,
    "start_time": "2025-02-11T21:01:51.473Z"
   },
   {
    "duration": 53,
    "start_time": "2025-02-11T21:02:41.229Z"
   },
   {
    "duration": 31,
    "start_time": "2025-02-11T21:06:10.354Z"
   },
   {
    "duration": 948,
    "start_time": "2025-02-17T17:56:36.614Z"
   },
   {
    "duration": 4,
    "start_time": "2025-02-17T17:56:37.566Z"
   },
   {
    "duration": 37,
    "start_time": "2025-02-17T17:56:37.573Z"
   },
   {
    "duration": 9,
    "start_time": "2025-02-17T17:56:37.613Z"
   },
   {
    "duration": 17,
    "start_time": "2025-02-17T17:56:37.632Z"
   },
   {
    "duration": 14,
    "start_time": "2025-02-17T17:56:37.650Z"
   },
   {
    "duration": 28,
    "start_time": "2025-02-17T17:56:37.665Z"
   },
   {
    "duration": 384,
    "start_time": "2025-02-17T17:56:37.694Z"
   },
   {
    "duration": 341,
    "start_time": "2025-02-17T17:56:38.080Z"
   },
   {
    "duration": 62,
    "start_time": "2025-02-17T17:56:38.423Z"
   },
   {
    "duration": 12,
    "start_time": "2025-02-17T17:56:38.486Z"
   },
   {
    "duration": 56,
    "start_time": "2025-02-17T17:56:38.500Z"
   },
   {
    "duration": 21,
    "start_time": "2025-02-17T17:56:38.558Z"
   },
   {
    "duration": 93,
    "start_time": "2025-02-17T18:08:22.240Z"
   },
   {
    "duration": 526,
    "start_time": "2025-02-17T18:08:51.494Z"
   },
   {
    "duration": 310,
    "start_time": "2025-02-17T18:08:57.154Z"
   },
   {
    "duration": 403,
    "start_time": "2025-02-17T18:20:07.887Z"
   },
   {
    "duration": 38,
    "start_time": "2025-02-17T18:20:29.575Z"
   },
   {
    "duration": 270,
    "start_time": "2025-02-17T18:22:32.689Z"
   },
   {
    "duration": 270,
    "start_time": "2025-02-17T18:25:19.220Z"
   },
   {
    "duration": 273,
    "start_time": "2025-02-17T18:25:42.456Z"
   },
   {
    "duration": 79,
    "start_time": "2025-02-17T19:03:56.379Z"
   },
   {
    "duration": 281,
    "start_time": "2025-02-17T19:04:04.552Z"
   },
   {
    "duration": 349,
    "start_time": "2025-02-17T19:04:56.683Z"
   },
   {
    "duration": 83,
    "start_time": "2025-02-17T19:05:11.780Z"
   },
   {
    "duration": 519,
    "start_time": "2025-02-17T19:05:17.275Z"
   },
   {
    "duration": 666,
    "start_time": "2025-02-17T19:07:09.896Z"
   },
   {
    "duration": 686,
    "start_time": "2025-02-17T19:07:19.348Z"
   },
   {
    "duration": 272,
    "start_time": "2025-02-17T19:08:04.463Z"
   },
   {
    "duration": 556,
    "start_time": "2025-02-17T19:08:15.907Z"
   },
   {
    "duration": 456,
    "start_time": "2025-02-17T19:10:25.006Z"
   },
   {
    "duration": 477,
    "start_time": "2025-02-17T19:10:54.298Z"
   },
   {
    "duration": 217,
    "start_time": "2025-02-17T19:13:37.006Z"
   },
   {
    "duration": 646,
    "start_time": "2025-02-17T19:13:57.227Z"
   },
   {
    "duration": 216,
    "start_time": "2025-02-17T19:14:08.427Z"
   },
   {
    "duration": 602,
    "start_time": "2025-02-17T19:14:13.528Z"
   },
   {
    "duration": 682,
    "start_time": "2025-02-17T19:14:18.897Z"
   },
   {
    "duration": 224,
    "start_time": "2025-02-17T19:14:25.257Z"
   },
   {
    "duration": 274,
    "start_time": "2025-02-17T19:15:02.064Z"
   },
   {
    "duration": 269,
    "start_time": "2025-02-17T19:19:04.722Z"
   },
   {
    "duration": 357,
    "start_time": "2025-02-17T19:19:22.230Z"
   },
   {
    "duration": 274,
    "start_time": "2025-02-17T19:19:34.589Z"
   },
   {
    "duration": 271,
    "start_time": "2025-02-17T19:19:52.492Z"
   },
   {
    "duration": 287,
    "start_time": "2025-02-17T19:22:22.977Z"
   },
   {
    "duration": 262,
    "start_time": "2025-02-17T19:22:36.896Z"
   },
   {
    "duration": 348,
    "start_time": "2025-02-17T19:23:16.826Z"
   },
   {
    "duration": 486,
    "start_time": "2025-02-17T19:23:22.675Z"
   },
   {
    "duration": 264,
    "start_time": "2025-02-17T19:23:40.388Z"
   },
   {
    "duration": 265,
    "start_time": "2025-02-17T19:23:58.272Z"
   },
   {
    "duration": 244,
    "start_time": "2025-02-17T19:24:10.779Z"
   },
   {
    "duration": 259,
    "start_time": "2025-02-17T19:24:21.804Z"
   },
   {
    "duration": 424,
    "start_time": "2025-02-17T19:37:39.233Z"
   },
   {
    "duration": 358,
    "start_time": "2025-02-17T19:37:44.666Z"
   },
   {
    "duration": 408,
    "start_time": "2025-02-17T19:37:52.118Z"
   },
   {
    "duration": 5,
    "start_time": "2025-02-17T19:37:55.706Z"
   },
   {
    "duration": 371,
    "start_time": "2025-02-17T19:37:59.230Z"
   },
   {
    "duration": 377,
    "start_time": "2025-02-17T19:38:03.826Z"
   },
   {
    "duration": 421,
    "start_time": "2025-02-17T19:39:07.509Z"
   },
   {
    "duration": 470,
    "start_time": "2025-02-17T19:39:13.502Z"
   },
   {
    "duration": 13,
    "start_time": "2025-02-17T19:50:56.191Z"
   },
   {
    "duration": 16,
    "start_time": "2025-02-17T19:51:47.075Z"
   },
   {
    "duration": 1359,
    "start_time": "2025-02-17T19:52:01.602Z"
   },
   {
    "duration": 263,
    "start_time": "2025-02-17T19:53:06.305Z"
   },
   {
    "duration": 1352,
    "start_time": "2025-02-17T19:53:50.328Z"
   },
   {
    "duration": 260,
    "start_time": "2025-02-17T19:56:12.186Z"
   },
   {
    "duration": 337,
    "start_time": "2025-02-17T19:56:15.164Z"
   },
   {
    "duration": 1410,
    "start_time": "2025-02-17T19:56:19.401Z"
   },
   {
    "duration": 13,
    "start_time": "2025-02-17T19:56:24.827Z"
   },
   {
    "duration": 1240,
    "start_time": "2025-03-07T16:20:46.215Z"
   },
   {
    "duration": 3,
    "start_time": "2025-03-07T16:20:47.456Z"
   },
   {
    "duration": 44,
    "start_time": "2025-03-07T16:20:47.460Z"
   },
   {
    "duration": 8,
    "start_time": "2025-03-07T16:20:47.506Z"
   },
   {
    "duration": 13,
    "start_time": "2025-03-07T16:20:47.516Z"
   },
   {
    "duration": 10,
    "start_time": "2025-03-07T16:20:47.530Z"
   },
   {
    "duration": 9,
    "start_time": "2025-03-07T16:20:47.542Z"
   },
   {
    "duration": 302,
    "start_time": "2025-03-07T16:20:47.552Z"
   },
   {
    "duration": 282,
    "start_time": "2025-03-07T16:20:47.855Z"
   },
   {
    "duration": 59,
    "start_time": "2025-03-07T16:20:48.139Z"
   },
   {
    "duration": 10,
    "start_time": "2025-03-07T16:20:48.199Z"
   },
   {
    "duration": 60,
    "start_time": "2025-03-07T16:20:48.211Z"
   },
   {
    "duration": 17,
    "start_time": "2025-03-07T16:20:48.272Z"
   },
   {
    "duration": 308,
    "start_time": "2025-03-07T16:20:48.291Z"
   },
   {
    "duration": 305,
    "start_time": "2025-03-07T16:20:48.601Z"
   },
   {
    "duration": 244,
    "start_time": "2025-03-07T16:20:48.908Z"
   },
   {
    "duration": 388,
    "start_time": "2025-03-07T16:20:49.153Z"
   },
   {
    "duration": 5,
    "start_time": "2025-03-07T16:25:30.167Z"
   },
   {
    "duration": 22,
    "start_time": "2025-03-07T16:25:30.173Z"
   },
   {
    "duration": 26,
    "start_time": "2025-03-07T16:25:30.197Z"
   },
   {
    "duration": 8,
    "start_time": "2025-03-07T16:25:30.224Z"
   },
   {
    "duration": 38,
    "start_time": "2025-03-07T16:25:30.234Z"
   },
   {
    "duration": 73,
    "start_time": "2025-03-07T16:25:30.274Z"
   },
   {
    "duration": 43,
    "start_time": "2025-03-07T16:25:30.349Z"
   },
   {
    "duration": 281,
    "start_time": "2025-03-07T16:25:30.393Z"
   },
   {
    "duration": 365,
    "start_time": "2025-03-07T16:25:30.675Z"
   },
   {
    "duration": 61,
    "start_time": "2025-03-07T16:25:31.042Z"
   },
   {
    "duration": 10,
    "start_time": "2025-03-07T16:25:31.105Z"
   },
   {
    "duration": 63,
    "start_time": "2025-03-07T16:25:31.116Z"
   },
   {
    "duration": 31,
    "start_time": "2025-03-07T16:25:31.181Z"
   },
   {
    "duration": 295,
    "start_time": "2025-03-07T16:25:31.214Z"
   },
   {
    "duration": 246,
    "start_time": "2025-03-07T16:25:31.510Z"
   },
   {
    "duration": 251,
    "start_time": "2025-03-07T16:25:31.758Z"
   },
   {
    "duration": 346,
    "start_time": "2025-03-07T16:25:32.010Z"
   },
   {
    "duration": 7,
    "start_time": "2025-03-07T16:27:12.755Z"
   },
   {
    "duration": 93,
    "start_time": "2025-03-07T16:27:19.800Z"
   },
   {
    "duration": 6,
    "start_time": "2025-03-07T16:27:31.242Z"
   },
   {
    "duration": 4,
    "start_time": "2025-03-07T16:31:05.011Z"
   },
   {
    "duration": 3,
    "start_time": "2025-03-07T16:32:13.773Z"
   },
   {
    "duration": 20,
    "start_time": "2025-03-07T16:33:29.056Z"
   },
   {
    "duration": 14,
    "start_time": "2025-03-07T16:34:00.710Z"
   },
   {
    "duration": 17,
    "start_time": "2025-03-07T16:34:26.064Z"
   },
   {
    "duration": 188,
    "start_time": "2025-03-07T16:35:46.494Z"
   },
   {
    "duration": 203,
    "start_time": "2025-03-07T16:36:25.762Z"
   },
   {
    "duration": 260,
    "start_time": "2025-03-07T16:37:30.547Z"
   },
   {
    "duration": 5,
    "start_time": "2025-03-07T16:45:10.897Z"
   },
   {
    "duration": 11,
    "start_time": "2025-03-07T16:45:10.905Z"
   },
   {
    "duration": 23,
    "start_time": "2025-03-07T16:45:10.918Z"
   },
   {
    "duration": 8,
    "start_time": "2025-03-07T16:45:10.944Z"
   },
   {
    "duration": 14,
    "start_time": "2025-03-07T16:45:10.954Z"
   },
   {
    "duration": 11,
    "start_time": "2025-03-07T16:45:10.969Z"
   },
   {
    "duration": 9,
    "start_time": "2025-03-07T16:45:10.981Z"
   },
   {
    "duration": 278,
    "start_time": "2025-03-07T16:45:11.007Z"
   },
   {
    "duration": 294,
    "start_time": "2025-03-07T16:45:11.287Z"
   },
   {
    "duration": 60,
    "start_time": "2025-03-07T16:45:11.582Z"
   },
   {
    "duration": 10,
    "start_time": "2025-03-07T16:45:11.644Z"
   },
   {
    "duration": 142,
    "start_time": "2025-03-07T16:45:11.656Z"
   },
   {
    "duration": 26,
    "start_time": "2025-03-07T16:45:11.800Z"
   },
   {
    "duration": 279,
    "start_time": "2025-03-07T16:45:11.828Z"
   },
   {
    "duration": 238,
    "start_time": "2025-03-07T16:45:12.109Z"
   },
   {
    "duration": 240,
    "start_time": "2025-03-07T16:45:12.348Z"
   },
   {
    "duration": 363,
    "start_time": "2025-03-07T16:45:12.590Z"
   },
   {
    "duration": 18,
    "start_time": "2025-03-07T16:45:12.955Z"
   },
   {
    "duration": 265,
    "start_time": "2025-03-07T16:45:12.974Z"
   },
   {
    "duration": 348,
    "start_time": "2025-03-07T16:55:02.710Z"
   },
   {
    "duration": 63,
    "start_time": "2025-03-07T16:57:34.230Z"
   },
   {
    "duration": 62,
    "start_time": "2025-03-07T16:57:53.398Z"
   },
   {
    "duration": 327,
    "start_time": "2025-03-07T16:58:03.724Z"
   },
   {
    "duration": 19,
    "start_time": "2025-03-07T17:40:27.041Z"
   },
   {
    "duration": 128,
    "start_time": "2025-03-07T17:40:48.274Z"
   },
   {
    "duration": 124,
    "start_time": "2025-03-07T17:41:16.025Z"
   },
   {
    "duration": 8,
    "start_time": "2025-03-07T17:42:17.830Z"
   },
   {
    "duration": 7,
    "start_time": "2025-03-07T17:42:42.769Z"
   },
   {
    "duration": 8,
    "start_time": "2025-03-07T17:48:00.714Z"
   },
   {
    "duration": 10,
    "start_time": "2025-03-07T17:48:26.851Z"
   },
   {
    "duration": 13,
    "start_time": "2025-03-07T17:50:06.605Z"
   },
   {
    "duration": 258,
    "start_time": "2025-03-07T17:50:14.043Z"
   },
   {
    "duration": 229,
    "start_time": "2025-03-07T17:50:18.280Z"
   },
   {
    "duration": 341,
    "start_time": "2025-03-07T17:50:21.728Z"
   },
   {
    "duration": 255,
    "start_time": "2025-03-07T17:50:25.145Z"
   },
   {
    "duration": 337,
    "start_time": "2025-03-07T17:50:30.426Z"
   },
   {
    "duration": 6,
    "start_time": "2025-03-07T17:50:35.444Z"
   },
   {
    "duration": 244,
    "start_time": "2025-03-07T17:54:58.844Z"
   },
   {
    "duration": 8,
    "start_time": "2025-03-07T19:02:29.067Z"
   },
   {
    "duration": 1150,
    "start_time": "2025-03-07T19:05:35.384Z"
   },
   {
    "duration": 10,
    "start_time": "2025-03-07T19:05:57.484Z"
   },
   {
    "duration": 5,
    "start_time": "2025-03-07T19:06:10.387Z"
   },
   {
    "duration": 7,
    "start_time": "2025-03-07T19:08:16.450Z"
   },
   {
    "duration": 5,
    "start_time": "2025-03-07T19:08:27.009Z"
   },
   {
    "duration": 1187,
    "start_time": "2025-03-07T19:08:36.036Z"
   },
   {
    "duration": 1407,
    "start_time": "2025-03-07T19:14:43.895Z"
   },
   {
    "duration": 10,
    "start_time": "2025-03-07T19:14:54.993Z"
   },
   {
    "duration": 18,
    "start_time": "2025-03-07T19:40:35.548Z"
   },
   {
    "duration": 57,
    "start_time": "2025-03-07T19:41:46.212Z"
   },
   {
    "duration": 13,
    "start_time": "2025-03-07T19:42:05.148Z"
   },
   {
    "duration": 12,
    "start_time": "2025-03-07T19:45:03.787Z"
   },
   {
    "duration": 8,
    "start_time": "2025-03-07T19:45:10.693Z"
   },
   {
    "duration": 156,
    "start_time": "2025-03-07T19:53:34.940Z"
   },
   {
    "duration": 16,
    "start_time": "2025-03-07T19:53:38.017Z"
   },
   {
    "duration": 8,
    "start_time": "2025-03-07T19:55:50.107Z"
   },
   {
    "duration": 6,
    "start_time": "2025-03-07T19:56:25.348Z"
   },
   {
    "duration": 11,
    "start_time": "2025-03-07T19:57:06.089Z"
   },
   {
    "duration": 10,
    "start_time": "2025-03-07T19:57:20.021Z"
   },
   {
    "duration": 7,
    "start_time": "2025-03-07T20:01:09.834Z"
   },
   {
    "duration": 10,
    "start_time": "2025-03-07T20:02:35.310Z"
   },
   {
    "duration": 10,
    "start_time": "2025-03-07T20:02:44.309Z"
   },
   {
    "duration": 137,
    "start_time": "2025-03-07T20:02:48.683Z"
   },
   {
    "duration": 10,
    "start_time": "2025-03-07T20:09:50.631Z"
   },
   {
    "duration": 161,
    "start_time": "2025-03-07T20:11:26.956Z"
   },
   {
    "duration": 9,
    "start_time": "2025-03-07T20:11:38.129Z"
   },
   {
    "duration": 4,
    "start_time": "2025-03-07T20:11:44.771Z"
   },
   {
    "duration": 5,
    "start_time": "2025-03-07T20:15:44.744Z"
   },
   {
    "duration": 13,
    "start_time": "2025-03-09T08:50:56.158Z"
   },
   {
    "duration": 10,
    "start_time": "2025-03-09T08:51:07.371Z"
   },
   {
    "duration": 54,
    "start_time": "2025-03-09T09:03:24.314Z"
   },
   {
    "duration": 24,
    "start_time": "2025-03-09T09:03:29.917Z"
   },
   {
    "duration": 16,
    "start_time": "2025-03-09T09:03:39.394Z"
   },
   {
    "duration": 22,
    "start_time": "2025-03-09T09:03:52.473Z"
   },
   {
    "duration": 23,
    "start_time": "2025-03-09T09:04:04.850Z"
   },
   {
    "duration": 22,
    "start_time": "2025-03-09T09:05:59.048Z"
   },
   {
    "duration": 169,
    "start_time": "2025-03-09T09:06:00.416Z"
   },
   {
    "duration": 163,
    "start_time": "2025-03-09T09:06:48.189Z"
   },
   {
    "duration": 167,
    "start_time": "2025-03-09T09:07:21.893Z"
   },
   {
    "duration": 168,
    "start_time": "2025-03-09T09:07:30.889Z"
   },
   {
    "duration": 24,
    "start_time": "2025-03-09T09:07:34.430Z"
   },
   {
    "duration": 171,
    "start_time": "2025-03-09T09:07:36.021Z"
   },
   {
    "duration": 167,
    "start_time": "2025-03-09T09:13:44.094Z"
   },
   {
    "duration": 5,
    "start_time": "2025-03-09T09:15:01.454Z"
   },
   {
    "duration": 107,
    "start_time": "2025-03-09T09:38:56.801Z"
   },
   {
    "duration": 104,
    "start_time": "2025-03-09T09:43:39.805Z"
   },
   {
    "duration": 214,
    "start_time": "2025-03-09T09:44:14.377Z"
   },
   {
    "duration": 15,
    "start_time": "2025-03-09T09:50:37.545Z"
   },
   {
    "duration": 161,
    "start_time": "2025-03-09T09:50:49.601Z"
   },
   {
    "duration": 61,
    "start_time": "2025-03-09T09:52:46.471Z"
   },
   {
    "duration": 166,
    "start_time": "2025-03-09T09:53:01.269Z"
   },
   {
    "duration": 163,
    "start_time": "2025-03-09T09:55:52.548Z"
   },
   {
    "duration": 1570,
    "start_time": "2025-03-09T09:59:33.131Z"
   },
   {
    "duration": 9,
    "start_time": "2025-03-09T09:59:38.324Z"
   },
   {
    "duration": 9,
    "start_time": "2025-03-09T10:00:01.200Z"
   },
   {
    "duration": 8,
    "start_time": "2025-03-09T10:01:52.641Z"
   },
   {
    "duration": 26,
    "start_time": "2025-03-09T10:03:11.247Z"
   },
   {
    "duration": 29,
    "start_time": "2025-03-09T10:03:44.443Z"
   },
   {
    "duration": 24,
    "start_time": "2025-03-09T10:03:49.068Z"
   },
   {
    "duration": 8,
    "start_time": "2025-03-09T10:05:57.499Z"
   },
   {
    "duration": 25,
    "start_time": "2025-03-09T10:06:00.309Z"
   },
   {
    "duration": 9,
    "start_time": "2025-03-09T10:07:55.649Z"
   },
   {
    "duration": 8,
    "start_time": "2025-03-09T10:07:56.651Z"
   },
   {
    "duration": 24,
    "start_time": "2025-03-09T10:07:58.201Z"
   },
   {
    "duration": 10,
    "start_time": "2025-03-09T10:10:53.639Z"
   },
   {
    "duration": 60,
    "start_time": "2025-03-09T10:12:27.336Z"
   },
   {
    "duration": 13,
    "start_time": "2025-03-09T10:12:32.809Z"
   },
   {
    "duration": 25,
    "start_time": "2025-03-09T10:15:51.079Z"
   },
   {
    "duration": 1502,
    "start_time": "2025-03-09T10:16:57.936Z"
   },
   {
    "duration": 18,
    "start_time": "2025-03-09T10:17:45.272Z"
   },
   {
    "duration": 13,
    "start_time": "2025-03-09T10:18:40.531Z"
   },
   {
    "duration": 14,
    "start_time": "2025-03-09T10:18:51.261Z"
   },
   {
    "duration": 5,
    "start_time": "2025-03-09T10:40:55.045Z"
   },
   {
    "duration": 9,
    "start_time": "2025-03-09T10:40:55.051Z"
   },
   {
    "duration": 22,
    "start_time": "2025-03-09T10:40:55.061Z"
   },
   {
    "duration": 8,
    "start_time": "2025-03-09T10:40:55.084Z"
   },
   {
    "duration": 23,
    "start_time": "2025-03-09T10:40:55.094Z"
   },
   {
    "duration": 11,
    "start_time": "2025-03-09T10:40:55.119Z"
   },
   {
    "duration": 15,
    "start_time": "2025-03-09T10:40:55.131Z"
   },
   {
    "duration": 287,
    "start_time": "2025-03-09T10:40:55.147Z"
   },
   {
    "duration": 284,
    "start_time": "2025-03-09T10:40:55.435Z"
   },
   {
    "duration": 60,
    "start_time": "2025-03-09T10:40:55.721Z"
   },
   {
    "duration": 11,
    "start_time": "2025-03-09T10:40:55.782Z"
   },
   {
    "duration": 75,
    "start_time": "2025-03-09T10:40:55.794Z"
   },
   {
    "duration": 17,
    "start_time": "2025-03-09T10:40:55.871Z"
   },
   {
    "duration": 18,
    "start_time": "2025-03-09T10:40:55.891Z"
   },
   {
    "duration": 104,
    "start_time": "2025-03-09T10:40:55.911Z"
   },
   {
    "duration": 302,
    "start_time": "2025-03-09T10:40:56.016Z"
   },
   {
    "duration": 233,
    "start_time": "2025-03-09T10:40:56.320Z"
   },
   {
    "duration": 247,
    "start_time": "2025-03-09T10:40:56.554Z"
   },
   {
    "duration": 327,
    "start_time": "2025-03-09T10:40:56.806Z"
   },
   {
    "duration": 17,
    "start_time": "2025-03-09T10:40:57.135Z"
   },
   {
    "duration": 287,
    "start_time": "2025-03-09T10:40:57.153Z"
   },
   {
    "duration": 318,
    "start_time": "2025-03-09T10:40:57.442Z"
   },
   {
    "duration": 9,
    "start_time": "2025-03-09T10:40:57.762Z"
   },
   {
    "duration": 168,
    "start_time": "2025-03-09T10:40:57.772Z"
   },
   {
    "duration": 5,
    "start_time": "2025-03-09T10:40:57.941Z"
   },
   {
    "duration": 51,
    "start_time": "2025-03-09T10:40:57.948Z"
   },
   {
    "duration": 235,
    "start_time": "2025-03-09T10:40:58.001Z"
   },
   {
    "duration": 177,
    "start_time": "2025-03-09T10:40:58.238Z"
   },
   {
    "duration": 6,
    "start_time": "2025-03-09T10:40:58.416Z"
   },
   {
    "duration": 213,
    "start_time": "2025-03-09T10:40:58.423Z"
   },
   {
    "duration": 144,
    "start_time": "2025-03-09T10:40:58.638Z"
   },
   {
    "duration": 10,
    "start_time": "2025-03-09T10:40:58.784Z"
   },
   {
    "duration": 15,
    "start_time": "2025-03-09T10:40:58.796Z"
   },
   {
    "duration": 29,
    "start_time": "2025-03-09T10:40:58.812Z"
   },
   {
    "duration": 10,
    "start_time": "2025-03-09T10:40:58.842Z"
   },
   {
    "duration": 13,
    "start_time": "2025-03-09T10:40:58.854Z"
   },
   {
    "duration": 1297,
    "start_time": "2025-03-09T10:52:55.553Z"
   },
   {
    "duration": 3,
    "start_time": "2025-03-09T10:52:56.852Z"
   },
   {
    "duration": 49,
    "start_time": "2025-03-09T10:52:56.856Z"
   },
   {
    "duration": 27,
    "start_time": "2025-03-09T10:52:56.906Z"
   },
   {
    "duration": 15,
    "start_time": "2025-03-09T10:52:56.935Z"
   },
   {
    "duration": 29,
    "start_time": "2025-03-09T10:52:56.951Z"
   },
   {
    "duration": 11,
    "start_time": "2025-03-09T10:52:56.982Z"
   },
   {
    "duration": 319,
    "start_time": "2025-03-09T10:52:56.994Z"
   },
   {
    "duration": 314,
    "start_time": "2025-03-09T10:52:57.314Z"
   },
   {
    "duration": 66,
    "start_time": "2025-03-09T10:52:57.631Z"
   },
   {
    "duration": 10,
    "start_time": "2025-03-09T10:52:57.698Z"
   },
   {
    "duration": 49,
    "start_time": "2025-03-09T10:52:57.710Z"
   },
   {
    "duration": 27,
    "start_time": "2025-03-09T10:52:57.760Z"
   },
   {
    "duration": 25,
    "start_time": "2025-03-09T10:52:57.791Z"
   },
   {
    "duration": 10,
    "start_time": "2025-03-09T10:52:57.818Z"
   },
   {
    "duration": 366,
    "start_time": "2025-03-09T10:52:57.829Z"
   },
   {
    "duration": 0,
    "start_time": "2025-03-09T10:52:58.197Z"
   },
   {
    "duration": 0,
    "start_time": "2025-03-09T10:52:58.198Z"
   },
   {
    "duration": 0,
    "start_time": "2025-03-09T10:52:58.199Z"
   },
   {
    "duration": 0,
    "start_time": "2025-03-09T10:52:58.200Z"
   },
   {
    "duration": 0,
    "start_time": "2025-03-09T10:52:58.201Z"
   },
   {
    "duration": 0,
    "start_time": "2025-03-09T10:52:58.202Z"
   },
   {
    "duration": 0,
    "start_time": "2025-03-09T10:52:58.203Z"
   },
   {
    "duration": 0,
    "start_time": "2025-03-09T10:52:58.204Z"
   },
   {
    "duration": 0,
    "start_time": "2025-03-09T10:52:58.205Z"
   },
   {
    "duration": 0,
    "start_time": "2025-03-09T10:52:58.206Z"
   },
   {
    "duration": 0,
    "start_time": "2025-03-09T10:52:58.207Z"
   },
   {
    "duration": 0,
    "start_time": "2025-03-09T10:52:58.208Z"
   },
   {
    "duration": 0,
    "start_time": "2025-03-09T10:52:58.209Z"
   },
   {
    "duration": 0,
    "start_time": "2025-03-09T10:52:58.210Z"
   },
   {
    "duration": 0,
    "start_time": "2025-03-09T10:52:58.211Z"
   },
   {
    "duration": 0,
    "start_time": "2025-03-09T10:52:58.212Z"
   },
   {
    "duration": 0,
    "start_time": "2025-03-09T10:52:58.213Z"
   },
   {
    "duration": 0,
    "start_time": "2025-03-09T10:52:58.214Z"
   },
   {
    "duration": 0,
    "start_time": "2025-03-09T10:52:58.215Z"
   },
   {
    "duration": 0,
    "start_time": "2025-03-09T10:52:58.216Z"
   },
   {
    "duration": 326,
    "start_time": "2025-03-09T10:54:49.532Z"
   },
   {
    "duration": 252,
    "start_time": "2025-03-09T10:54:54.700Z"
   },
   {
    "duration": 410,
    "start_time": "2025-03-09T10:54:55.940Z"
   },
   {
    "duration": 18,
    "start_time": "2025-03-09T10:54:56.928Z"
   },
   {
    "duration": 305,
    "start_time": "2025-03-09T10:54:57.087Z"
   },
   {
    "duration": 432,
    "start_time": "2025-03-09T10:54:58.011Z"
   },
   {
    "duration": 10,
    "start_time": "2025-03-09T10:54:59.316Z"
   },
   {
    "duration": 172,
    "start_time": "2025-03-09T10:54:59.505Z"
   },
   {
    "duration": 6,
    "start_time": "2025-03-09T10:55:00.252Z"
   },
   {
    "duration": 27,
    "start_time": "2025-03-09T10:55:00.933Z"
   },
   {
    "duration": 181,
    "start_time": "2025-03-09T10:55:01.394Z"
   },
   {
    "duration": 189,
    "start_time": "2025-03-09T10:55:01.631Z"
   },
   {
    "duration": 4,
    "start_time": "2025-03-09T10:55:02.343Z"
   },
   {
    "duration": 233,
    "start_time": "2025-03-09T10:55:03.186Z"
   },
   {
    "duration": 151,
    "start_time": "2025-03-09T10:55:04.229Z"
   },
   {
    "duration": 9,
    "start_time": "2025-03-09T10:55:05.497Z"
   },
   {
    "duration": 8,
    "start_time": "2025-03-09T10:55:06.384Z"
   },
   {
    "duration": 26,
    "start_time": "2025-03-09T10:55:07.087Z"
   },
   {
    "duration": 16,
    "start_time": "2025-03-09T10:55:08.569Z"
   },
   {
    "duration": 13,
    "start_time": "2025-03-09T10:55:09.785Z"
   },
   {
    "duration": 1268,
    "start_time": "2025-03-11T14:55:53.395Z"
   },
   {
    "duration": 3,
    "start_time": "2025-03-11T14:55:54.665Z"
   },
   {
    "duration": 47,
    "start_time": "2025-03-11T14:55:54.669Z"
   },
   {
    "duration": 8,
    "start_time": "2025-03-11T14:55:54.717Z"
   },
   {
    "duration": 75,
    "start_time": "2025-03-11T14:55:54.727Z"
   },
   {
    "duration": 16,
    "start_time": "2025-03-11T14:55:54.803Z"
   },
   {
    "duration": 36,
    "start_time": "2025-03-11T14:55:54.821Z"
   },
   {
    "duration": 297,
    "start_time": "2025-03-11T14:55:54.859Z"
   },
   {
    "duration": 290,
    "start_time": "2025-03-11T14:55:55.158Z"
   },
   {
    "duration": 61,
    "start_time": "2025-03-11T14:55:55.449Z"
   },
   {
    "duration": 10,
    "start_time": "2025-03-11T14:55:55.512Z"
   },
   {
    "duration": 76,
    "start_time": "2025-03-11T14:55:55.523Z"
   },
   {
    "duration": 18,
    "start_time": "2025-03-11T14:55:55.600Z"
   },
   {
    "duration": 22,
    "start_time": "2025-03-11T14:55:55.620Z"
   },
   {
    "duration": 22,
    "start_time": "2025-03-11T14:55:55.643Z"
   },
   {
    "duration": 265,
    "start_time": "2025-03-11T14:56:13.293Z"
   },
   {
    "duration": 5,
    "start_time": "2025-03-11T15:00:04.366Z"
   },
   {
    "duration": 143,
    "start_time": "2025-03-11T15:00:04.372Z"
   },
   {
    "duration": 134,
    "start_time": "2025-03-11T15:00:04.517Z"
   },
   {
    "duration": 9,
    "start_time": "2025-03-11T15:00:04.652Z"
   },
   {
    "duration": 17,
    "start_time": "2025-03-11T15:00:04.663Z"
   },
   {
    "duration": 26,
    "start_time": "2025-03-11T15:00:04.682Z"
   },
   {
    "duration": 118,
    "start_time": "2025-03-11T15:00:04.710Z"
   },
   {
    "duration": 337,
    "start_time": "2025-03-11T15:00:04.829Z"
   },
   {
    "duration": 310,
    "start_time": "2025-03-11T15:00:05.167Z"
   },
   {
    "duration": 60,
    "start_time": "2025-03-11T15:00:05.479Z"
   },
   {
    "duration": 11,
    "start_time": "2025-03-11T15:00:05.540Z"
   },
   {
    "duration": 84,
    "start_time": "2025-03-11T15:00:05.552Z"
   },
   {
    "duration": 19,
    "start_time": "2025-03-11T15:00:05.638Z"
   },
   {
    "duration": 9,
    "start_time": "2025-03-11T15:00:05.660Z"
   },
   {
    "duration": 39,
    "start_time": "2025-03-11T15:00:05.671Z"
   },
   {
    "duration": 296,
    "start_time": "2025-03-11T15:00:05.712Z"
   },
   {
    "duration": 326,
    "start_time": "2025-03-11T15:00:06.009Z"
   },
   {
    "duration": 265,
    "start_time": "2025-03-11T15:00:06.337Z"
   },
   {
    "duration": 498,
    "start_time": "2025-03-11T15:00:06.603Z"
   },
   {
    "duration": 21,
    "start_time": "2025-03-11T15:00:07.103Z"
   },
   {
    "duration": 282,
    "start_time": "2025-03-11T15:00:07.126Z"
   },
   {
    "duration": 352,
    "start_time": "2025-03-11T15:00:07.410Z"
   },
   {
    "duration": 10,
    "start_time": "2025-03-11T15:00:07.764Z"
   },
   {
    "duration": 266,
    "start_time": "2025-03-11T15:00:07.775Z"
   },
   {
    "duration": 5,
    "start_time": "2025-03-11T15:00:08.043Z"
   },
   {
    "duration": 68,
    "start_time": "2025-03-11T15:00:08.050Z"
   },
   {
    "duration": 191,
    "start_time": "2025-03-11T15:00:08.120Z"
   },
   {
    "duration": 199,
    "start_time": "2025-03-11T15:00:08.313Z"
   },
   {
    "duration": 6,
    "start_time": "2025-03-11T15:00:08.514Z"
   },
   {
    "duration": 229,
    "start_time": "2025-03-11T15:00:08.521Z"
   },
   {
    "duration": 165,
    "start_time": "2025-03-11T15:00:08.751Z"
   },
   {
    "duration": 17,
    "start_time": "2025-03-11T15:00:08.918Z"
   },
   {
    "duration": 28,
    "start_time": "2025-03-11T15:00:08.937Z"
   },
   {
    "duration": 41,
    "start_time": "2025-03-11T15:00:08.967Z"
   },
   {
    "duration": 11,
    "start_time": "2025-03-11T15:00:09.010Z"
   },
   {
    "duration": 16,
    "start_time": "2025-03-11T15:00:09.023Z"
   },
   {
    "duration": 1447,
    "start_time": "2025-03-12T06:04:14.293Z"
   },
   {
    "duration": 4,
    "start_time": "2025-03-12T06:04:15.742Z"
   },
   {
    "duration": 29,
    "start_time": "2025-03-12T06:04:15.748Z"
   },
   {
    "duration": 9,
    "start_time": "2025-03-12T06:04:15.781Z"
   },
   {
    "duration": 17,
    "start_time": "2025-03-12T06:04:15.792Z"
   },
   {
    "duration": 12,
    "start_time": "2025-03-12T06:04:15.811Z"
   },
   {
    "duration": 41,
    "start_time": "2025-03-12T06:04:15.825Z"
   },
   {
    "duration": 338,
    "start_time": "2025-03-12T06:04:15.868Z"
   },
   {
    "duration": 328,
    "start_time": "2025-03-12T06:04:16.208Z"
   },
   {
    "duration": 61,
    "start_time": "2025-03-12T06:04:16.538Z"
   },
   {
    "duration": 45,
    "start_time": "2025-03-12T06:04:16.601Z"
   },
   {
    "duration": 54,
    "start_time": "2025-03-12T06:04:16.648Z"
   },
   {
    "duration": 19,
    "start_time": "2025-03-12T06:04:16.704Z"
   },
   {
    "duration": 67,
    "start_time": "2025-03-12T06:04:16.725Z"
   },
   {
    "duration": 12,
    "start_time": "2025-03-12T06:04:16.795Z"
   },
   {
    "duration": 296,
    "start_time": "2025-03-12T06:04:16.808Z"
   },
   {
    "duration": 343,
    "start_time": "2025-03-12T06:04:17.106Z"
   },
   {
    "duration": 283,
    "start_time": "2025-03-12T06:04:17.450Z"
   },
   {
    "duration": 425,
    "start_time": "2025-03-12T06:04:17.735Z"
   },
   {
    "duration": 20,
    "start_time": "2025-03-12T06:04:18.163Z"
   },
   {
    "duration": 320,
    "start_time": "2025-03-12T06:04:18.185Z"
   },
   {
    "duration": 337,
    "start_time": "2025-03-12T06:04:18.507Z"
   },
   {
    "duration": 15,
    "start_time": "2025-03-12T06:04:18.845Z"
   },
   {
    "duration": 267,
    "start_time": "2025-03-12T06:04:18.862Z"
   },
   {
    "duration": 6,
    "start_time": "2025-03-12T06:04:19.131Z"
   },
   {
    "duration": 51,
    "start_time": "2025-03-12T06:04:19.139Z"
   },
   {
    "duration": 196,
    "start_time": "2025-03-12T06:04:19.192Z"
   },
   {
    "duration": 196,
    "start_time": "2025-03-12T06:04:19.392Z"
   },
   {
    "duration": 5,
    "start_time": "2025-03-12T06:04:19.589Z"
   },
   {
    "duration": 259,
    "start_time": "2025-03-12T06:04:19.596Z"
   },
   {
    "duration": 170,
    "start_time": "2025-03-12T06:04:19.857Z"
   },
   {
    "duration": 12,
    "start_time": "2025-03-12T06:04:20.029Z"
   },
   {
    "duration": 56,
    "start_time": "2025-03-12T06:04:20.059Z"
   },
   {
    "duration": 29,
    "start_time": "2025-03-12T06:04:20.117Z"
   },
   {
    "duration": 12,
    "start_time": "2025-03-12T06:04:20.148Z"
   },
   {
    "duration": 14,
    "start_time": "2025-03-12T06:04:20.161Z"
   },
   {
    "duration": 96,
    "start_time": "2025-03-12T06:06:30.431Z"
   }
  ],
  "kernelspec": {
   "display_name": "Python 3 (ipykernel)",
   "language": "python",
   "name": "python3"
  },
  "language_info": {
   "codemirror_mode": {
    "name": "ipython",
    "version": 3
   },
   "file_extension": ".py",
   "mimetype": "text/x-python",
   "name": "python",
   "nbconvert_exporter": "python",
   "pygments_lexer": "ipython3",
   "version": "3.11.9"
  },
  "toc": {
   "base_numbering": 1,
   "nav_menu": {},
   "number_sections": true,
   "sideBar": true,
   "skip_h1_title": false,
   "title_cell": "Table of Contents",
   "title_sidebar": "Contents",
   "toc_cell": false,
   "toc_position": {
    "height": "calc(100% - 180px)",
    "left": "10px",
    "top": "150px",
    "width": "329.587494px"
   },
   "toc_section_display": true,
   "toc_window_display": true
  }
 },
 "nbformat": 4,
 "nbformat_minor": 4
}
