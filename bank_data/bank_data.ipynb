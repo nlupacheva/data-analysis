{
 "cells": [
  {
   "cell_type": "markdown",
   "id": "386f2ae7",
   "metadata": {
    "deletable": false,
    "editable": false,
    "id": "386f2ae7"
   },
   "source": [
    "# Исследование надежности заемщиков\n"
   ]
  },
  {
   "cell_type": "markdown",
   "id": "ffe86f65",
   "metadata": {
    "deletable": false,
    "editable": false,
    "id": "ffe86f65"
   },
   "source": [
    "Во второй части проекта вы выполните шаги 3 и 4. Их вручную проверит ревьюер.\n",
    "Чтобы вам не пришлось писать код заново для шагов 1 и 2, мы добавили авторские решения в ячейки с кодом. \n",
    "\n"
   ]
  },
  {
   "cell_type": "markdown",
   "id": "26613308",
   "metadata": {
    "deletable": false,
    "editable": false,
    "id": "26613308"
   },
   "source": [
    "## Откройте таблицу и изучите общую информацию о данных"
   ]
  },
  {
   "cell_type": "markdown",
   "id": "3c9f838e",
   "metadata": {
    "deletable": false,
    "editable": false,
    "id": "3c9f838e"
   },
   "source": [
    "**Задание 1. Импортируйте библиотеку pandas. Считайте данные из csv-файла в датафрейм и сохраните в переменную `data`. Путь к файлу:**\n",
    "\n",
    "`/datasets/data.csv`"
   ]
  },
  {
   "cell_type": "code",
   "execution_count": 1,
   "id": "77a68a90",
   "metadata": {
    "deletable": false,
    "id": "77a68a90"
   },
   "outputs": [],
   "source": [
    "import pandas as pd\n",
    "\n",
    "try:\n",
    "    data = pd.read_csv('/datasets/data.csv')\n",
    "except:\n",
    "    data = pd.read_csv('https://code.s3.yandex.net/datasets/data.csv')"
   ]
  },
  {
   "cell_type": "markdown",
   "id": "45365635",
   "metadata": {
    "deletable": false,
    "editable": false,
    "id": "45365635"
   },
   "source": [
    "**Задание 2. Выведите первые 20 строчек датафрейма `data` на экран.**"
   ]
  },
  {
   "cell_type": "code",
   "execution_count": 2,
   "id": "b0451a9a",
   "metadata": {
    "deletable": false,
    "id": "b0451a9a",
    "outputId": "1a8f3ef2-d323-4ec2-ddf7-89670b5944c4"
   },
   "outputs": [
    {
     "data": {
      "text/html": [
       "<div>\n",
       "<style scoped>\n",
       "    .dataframe tbody tr th:only-of-type {\n",
       "        vertical-align: middle;\n",
       "    }\n",
       "\n",
       "    .dataframe tbody tr th {\n",
       "        vertical-align: top;\n",
       "    }\n",
       "\n",
       "    .dataframe thead th {\n",
       "        text-align: right;\n",
       "    }\n",
       "</style>\n",
       "<table border=\"1\" class=\"dataframe\">\n",
       "  <thead>\n",
       "    <tr style=\"text-align: right;\">\n",
       "      <th></th>\n",
       "      <th>children</th>\n",
       "      <th>days_employed</th>\n",
       "      <th>dob_years</th>\n",
       "      <th>education</th>\n",
       "      <th>education_id</th>\n",
       "      <th>family_status</th>\n",
       "      <th>family_status_id</th>\n",
       "      <th>gender</th>\n",
       "      <th>income_type</th>\n",
       "      <th>debt</th>\n",
       "      <th>total_income</th>\n",
       "      <th>purpose</th>\n",
       "    </tr>\n",
       "  </thead>\n",
       "  <tbody>\n",
       "    <tr>\n",
       "      <th>0</th>\n",
       "      <td>1</td>\n",
       "      <td>-8437.673028</td>\n",
       "      <td>42</td>\n",
       "      <td>высшее</td>\n",
       "      <td>0</td>\n",
       "      <td>женат / замужем</td>\n",
       "      <td>0</td>\n",
       "      <td>F</td>\n",
       "      <td>сотрудник</td>\n",
       "      <td>0</td>\n",
       "      <td>253875.639453</td>\n",
       "      <td>покупка жилья</td>\n",
       "    </tr>\n",
       "    <tr>\n",
       "      <th>1</th>\n",
       "      <td>1</td>\n",
       "      <td>-4024.803754</td>\n",
       "      <td>36</td>\n",
       "      <td>среднее</td>\n",
       "      <td>1</td>\n",
       "      <td>женат / замужем</td>\n",
       "      <td>0</td>\n",
       "      <td>F</td>\n",
       "      <td>сотрудник</td>\n",
       "      <td>0</td>\n",
       "      <td>112080.014102</td>\n",
       "      <td>приобретение автомобиля</td>\n",
       "    </tr>\n",
       "    <tr>\n",
       "      <th>2</th>\n",
       "      <td>0</td>\n",
       "      <td>-5623.422610</td>\n",
       "      <td>33</td>\n",
       "      <td>Среднее</td>\n",
       "      <td>1</td>\n",
       "      <td>женат / замужем</td>\n",
       "      <td>0</td>\n",
       "      <td>M</td>\n",
       "      <td>сотрудник</td>\n",
       "      <td>0</td>\n",
       "      <td>145885.952297</td>\n",
       "      <td>покупка жилья</td>\n",
       "    </tr>\n",
       "    <tr>\n",
       "      <th>3</th>\n",
       "      <td>3</td>\n",
       "      <td>-4124.747207</td>\n",
       "      <td>32</td>\n",
       "      <td>среднее</td>\n",
       "      <td>1</td>\n",
       "      <td>женат / замужем</td>\n",
       "      <td>0</td>\n",
       "      <td>M</td>\n",
       "      <td>сотрудник</td>\n",
       "      <td>0</td>\n",
       "      <td>267628.550329</td>\n",
       "      <td>дополнительное образование</td>\n",
       "    </tr>\n",
       "    <tr>\n",
       "      <th>4</th>\n",
       "      <td>0</td>\n",
       "      <td>340266.072047</td>\n",
       "      <td>53</td>\n",
       "      <td>среднее</td>\n",
       "      <td>1</td>\n",
       "      <td>гражданский брак</td>\n",
       "      <td>1</td>\n",
       "      <td>F</td>\n",
       "      <td>пенсионер</td>\n",
       "      <td>0</td>\n",
       "      <td>158616.077870</td>\n",
       "      <td>сыграть свадьбу</td>\n",
       "    </tr>\n",
       "    <tr>\n",
       "      <th>5</th>\n",
       "      <td>0</td>\n",
       "      <td>-926.185831</td>\n",
       "      <td>27</td>\n",
       "      <td>высшее</td>\n",
       "      <td>0</td>\n",
       "      <td>гражданский брак</td>\n",
       "      <td>1</td>\n",
       "      <td>M</td>\n",
       "      <td>компаньон</td>\n",
       "      <td>0</td>\n",
       "      <td>255763.565419</td>\n",
       "      <td>покупка жилья</td>\n",
       "    </tr>\n",
       "    <tr>\n",
       "      <th>6</th>\n",
       "      <td>0</td>\n",
       "      <td>-2879.202052</td>\n",
       "      <td>43</td>\n",
       "      <td>высшее</td>\n",
       "      <td>0</td>\n",
       "      <td>женат / замужем</td>\n",
       "      <td>0</td>\n",
       "      <td>F</td>\n",
       "      <td>компаньон</td>\n",
       "      <td>0</td>\n",
       "      <td>240525.971920</td>\n",
       "      <td>операции с жильем</td>\n",
       "    </tr>\n",
       "    <tr>\n",
       "      <th>7</th>\n",
       "      <td>0</td>\n",
       "      <td>-152.779569</td>\n",
       "      <td>50</td>\n",
       "      <td>СРЕДНЕЕ</td>\n",
       "      <td>1</td>\n",
       "      <td>женат / замужем</td>\n",
       "      <td>0</td>\n",
       "      <td>M</td>\n",
       "      <td>сотрудник</td>\n",
       "      <td>0</td>\n",
       "      <td>135823.934197</td>\n",
       "      <td>образование</td>\n",
       "    </tr>\n",
       "    <tr>\n",
       "      <th>8</th>\n",
       "      <td>2</td>\n",
       "      <td>-6929.865299</td>\n",
       "      <td>35</td>\n",
       "      <td>ВЫСШЕЕ</td>\n",
       "      <td>0</td>\n",
       "      <td>гражданский брак</td>\n",
       "      <td>1</td>\n",
       "      <td>F</td>\n",
       "      <td>сотрудник</td>\n",
       "      <td>0</td>\n",
       "      <td>95856.832424</td>\n",
       "      <td>на проведение свадьбы</td>\n",
       "    </tr>\n",
       "    <tr>\n",
       "      <th>9</th>\n",
       "      <td>0</td>\n",
       "      <td>-2188.756445</td>\n",
       "      <td>41</td>\n",
       "      <td>среднее</td>\n",
       "      <td>1</td>\n",
       "      <td>женат / замужем</td>\n",
       "      <td>0</td>\n",
       "      <td>M</td>\n",
       "      <td>сотрудник</td>\n",
       "      <td>0</td>\n",
       "      <td>144425.938277</td>\n",
       "      <td>покупка жилья для семьи</td>\n",
       "    </tr>\n",
       "    <tr>\n",
       "      <th>10</th>\n",
       "      <td>2</td>\n",
       "      <td>-4171.483647</td>\n",
       "      <td>36</td>\n",
       "      <td>высшее</td>\n",
       "      <td>0</td>\n",
       "      <td>женат / замужем</td>\n",
       "      <td>0</td>\n",
       "      <td>M</td>\n",
       "      <td>компаньон</td>\n",
       "      <td>0</td>\n",
       "      <td>113943.491460</td>\n",
       "      <td>покупка недвижимости</td>\n",
       "    </tr>\n",
       "    <tr>\n",
       "      <th>11</th>\n",
       "      <td>0</td>\n",
       "      <td>-792.701887</td>\n",
       "      <td>40</td>\n",
       "      <td>среднее</td>\n",
       "      <td>1</td>\n",
       "      <td>женат / замужем</td>\n",
       "      <td>0</td>\n",
       "      <td>F</td>\n",
       "      <td>сотрудник</td>\n",
       "      <td>0</td>\n",
       "      <td>77069.234271</td>\n",
       "      <td>покупка коммерческой недвижимости</td>\n",
       "    </tr>\n",
       "    <tr>\n",
       "      <th>12</th>\n",
       "      <td>0</td>\n",
       "      <td>NaN</td>\n",
       "      <td>65</td>\n",
       "      <td>среднее</td>\n",
       "      <td>1</td>\n",
       "      <td>гражданский брак</td>\n",
       "      <td>1</td>\n",
       "      <td>M</td>\n",
       "      <td>пенсионер</td>\n",
       "      <td>0</td>\n",
       "      <td>NaN</td>\n",
       "      <td>сыграть свадьбу</td>\n",
       "    </tr>\n",
       "    <tr>\n",
       "      <th>13</th>\n",
       "      <td>0</td>\n",
       "      <td>-1846.641941</td>\n",
       "      <td>54</td>\n",
       "      <td>неоконченное высшее</td>\n",
       "      <td>2</td>\n",
       "      <td>женат / замужем</td>\n",
       "      <td>0</td>\n",
       "      <td>F</td>\n",
       "      <td>сотрудник</td>\n",
       "      <td>0</td>\n",
       "      <td>130458.228857</td>\n",
       "      <td>приобретение автомобиля</td>\n",
       "    </tr>\n",
       "    <tr>\n",
       "      <th>14</th>\n",
       "      <td>0</td>\n",
       "      <td>-1844.956182</td>\n",
       "      <td>56</td>\n",
       "      <td>высшее</td>\n",
       "      <td>0</td>\n",
       "      <td>гражданский брак</td>\n",
       "      <td>1</td>\n",
       "      <td>F</td>\n",
       "      <td>компаньон</td>\n",
       "      <td>1</td>\n",
       "      <td>165127.911772</td>\n",
       "      <td>покупка жилой недвижимости</td>\n",
       "    </tr>\n",
       "    <tr>\n",
       "      <th>15</th>\n",
       "      <td>1</td>\n",
       "      <td>-972.364419</td>\n",
       "      <td>26</td>\n",
       "      <td>среднее</td>\n",
       "      <td>1</td>\n",
       "      <td>женат / замужем</td>\n",
       "      <td>0</td>\n",
       "      <td>F</td>\n",
       "      <td>сотрудник</td>\n",
       "      <td>0</td>\n",
       "      <td>116820.904450</td>\n",
       "      <td>строительство собственной недвижимости</td>\n",
       "    </tr>\n",
       "    <tr>\n",
       "      <th>16</th>\n",
       "      <td>0</td>\n",
       "      <td>-1719.934226</td>\n",
       "      <td>35</td>\n",
       "      <td>среднее</td>\n",
       "      <td>1</td>\n",
       "      <td>женат / замужем</td>\n",
       "      <td>0</td>\n",
       "      <td>F</td>\n",
       "      <td>сотрудник</td>\n",
       "      <td>0</td>\n",
       "      <td>289202.704229</td>\n",
       "      <td>недвижимость</td>\n",
       "    </tr>\n",
       "    <tr>\n",
       "      <th>17</th>\n",
       "      <td>0</td>\n",
       "      <td>-2369.999720</td>\n",
       "      <td>33</td>\n",
       "      <td>высшее</td>\n",
       "      <td>0</td>\n",
       "      <td>гражданский брак</td>\n",
       "      <td>1</td>\n",
       "      <td>M</td>\n",
       "      <td>сотрудник</td>\n",
       "      <td>0</td>\n",
       "      <td>90410.586745</td>\n",
       "      <td>строительство недвижимости</td>\n",
       "    </tr>\n",
       "    <tr>\n",
       "      <th>18</th>\n",
       "      <td>0</td>\n",
       "      <td>400281.136913</td>\n",
       "      <td>53</td>\n",
       "      <td>среднее</td>\n",
       "      <td>1</td>\n",
       "      <td>вдовец / вдова</td>\n",
       "      <td>2</td>\n",
       "      <td>F</td>\n",
       "      <td>пенсионер</td>\n",
       "      <td>0</td>\n",
       "      <td>56823.777243</td>\n",
       "      <td>на покупку подержанного автомобиля</td>\n",
       "    </tr>\n",
       "    <tr>\n",
       "      <th>19</th>\n",
       "      <td>0</td>\n",
       "      <td>-10038.818549</td>\n",
       "      <td>48</td>\n",
       "      <td>СРЕДНЕЕ</td>\n",
       "      <td>1</td>\n",
       "      <td>в разводе</td>\n",
       "      <td>3</td>\n",
       "      <td>F</td>\n",
       "      <td>сотрудник</td>\n",
       "      <td>0</td>\n",
       "      <td>242831.107982</td>\n",
       "      <td>на покупку своего автомобиля</td>\n",
       "    </tr>\n",
       "  </tbody>\n",
       "</table>\n",
       "</div>"
      ],
      "text/plain": [
       "    children  days_employed  dob_years            education  education_id  \\\n",
       "0          1   -8437.673028         42               высшее             0   \n",
       "1          1   -4024.803754         36              среднее             1   \n",
       "2          0   -5623.422610         33              Среднее             1   \n",
       "3          3   -4124.747207         32              среднее             1   \n",
       "4          0  340266.072047         53              среднее             1   \n",
       "5          0    -926.185831         27               высшее             0   \n",
       "6          0   -2879.202052         43               высшее             0   \n",
       "7          0    -152.779569         50              СРЕДНЕЕ             1   \n",
       "8          2   -6929.865299         35               ВЫСШЕЕ             0   \n",
       "9          0   -2188.756445         41              среднее             1   \n",
       "10         2   -4171.483647         36               высшее             0   \n",
       "11         0    -792.701887         40              среднее             1   \n",
       "12         0            NaN         65              среднее             1   \n",
       "13         0   -1846.641941         54  неоконченное высшее             2   \n",
       "14         0   -1844.956182         56               высшее             0   \n",
       "15         1    -972.364419         26              среднее             1   \n",
       "16         0   -1719.934226         35              среднее             1   \n",
       "17         0   -2369.999720         33               высшее             0   \n",
       "18         0  400281.136913         53              среднее             1   \n",
       "19         0  -10038.818549         48              СРЕДНЕЕ             1   \n",
       "\n",
       "       family_status  family_status_id gender income_type  debt  \\\n",
       "0    женат / замужем                 0      F   сотрудник     0   \n",
       "1    женат / замужем                 0      F   сотрудник     0   \n",
       "2    женат / замужем                 0      M   сотрудник     0   \n",
       "3    женат / замужем                 0      M   сотрудник     0   \n",
       "4   гражданский брак                 1      F   пенсионер     0   \n",
       "5   гражданский брак                 1      M   компаньон     0   \n",
       "6    женат / замужем                 0      F   компаньон     0   \n",
       "7    женат / замужем                 0      M   сотрудник     0   \n",
       "8   гражданский брак                 1      F   сотрудник     0   \n",
       "9    женат / замужем                 0      M   сотрудник     0   \n",
       "10   женат / замужем                 0      M   компаньон     0   \n",
       "11   женат / замужем                 0      F   сотрудник     0   \n",
       "12  гражданский брак                 1      M   пенсионер     0   \n",
       "13   женат / замужем                 0      F   сотрудник     0   \n",
       "14  гражданский брак                 1      F   компаньон     1   \n",
       "15   женат / замужем                 0      F   сотрудник     0   \n",
       "16   женат / замужем                 0      F   сотрудник     0   \n",
       "17  гражданский брак                 1      M   сотрудник     0   \n",
       "18    вдовец / вдова                 2      F   пенсионер     0   \n",
       "19         в разводе                 3      F   сотрудник     0   \n",
       "\n",
       "     total_income                                 purpose  \n",
       "0   253875.639453                           покупка жилья  \n",
       "1   112080.014102                 приобретение автомобиля  \n",
       "2   145885.952297                           покупка жилья  \n",
       "3   267628.550329              дополнительное образование  \n",
       "4   158616.077870                         сыграть свадьбу  \n",
       "5   255763.565419                           покупка жилья  \n",
       "6   240525.971920                       операции с жильем  \n",
       "7   135823.934197                             образование  \n",
       "8    95856.832424                   на проведение свадьбы  \n",
       "9   144425.938277                 покупка жилья для семьи  \n",
       "10  113943.491460                    покупка недвижимости  \n",
       "11   77069.234271       покупка коммерческой недвижимости  \n",
       "12            NaN                         сыграть свадьбу  \n",
       "13  130458.228857                 приобретение автомобиля  \n",
       "14  165127.911772              покупка жилой недвижимости  \n",
       "15  116820.904450  строительство собственной недвижимости  \n",
       "16  289202.704229                            недвижимость  \n",
       "17   90410.586745              строительство недвижимости  \n",
       "18   56823.777243      на покупку подержанного автомобиля  \n",
       "19  242831.107982            на покупку своего автомобиля  "
      ]
     },
     "execution_count": 2,
     "metadata": {},
     "output_type": "execute_result"
    }
   ],
   "source": [
    "data.head(20)"
   ]
  },
  {
   "cell_type": "markdown",
   "id": "0ed8f27f",
   "metadata": {
    "deletable": false,
    "editable": false,
    "id": "0ed8f27f"
   },
   "source": [
    "**Задание 3. Выведите основную информацию о датафрейме с помощью метода `info()`.**"
   ]
  },
  {
   "cell_type": "code",
   "execution_count": 3,
   "id": "ab3f863b",
   "metadata": {
    "deletable": false,
    "id": "ab3f863b",
    "outputId": "15376089-8dad-46c9-b520-c05248d43158"
   },
   "outputs": [
    {
     "name": "stdout",
     "output_type": "stream",
     "text": [
      "<class 'pandas.core.frame.DataFrame'>\n",
      "RangeIndex: 21525 entries, 0 to 21524\n",
      "Data columns (total 12 columns):\n",
      " #   Column            Non-Null Count  Dtype  \n",
      "---  ------            --------------  -----  \n",
      " 0   children          21525 non-null  int64  \n",
      " 1   days_employed     19351 non-null  float64\n",
      " 2   dob_years         21525 non-null  int64  \n",
      " 3   education         21525 non-null  object \n",
      " 4   education_id      21525 non-null  int64  \n",
      " 5   family_status     21525 non-null  object \n",
      " 6   family_status_id  21525 non-null  int64  \n",
      " 7   gender            21525 non-null  object \n",
      " 8   income_type       21525 non-null  object \n",
      " 9   debt              21525 non-null  int64  \n",
      " 10  total_income      19351 non-null  float64\n",
      " 11  purpose           21525 non-null  object \n",
      "dtypes: float64(2), int64(5), object(5)\n",
      "memory usage: 2.0+ MB\n"
     ]
    }
   ],
   "source": [
    "data.info()"
   ]
  },
  {
   "cell_type": "markdown",
   "id": "60e3e22d",
   "metadata": {
    "deletable": false,
    "editable": false,
    "id": "60e3e22d"
   },
   "source": [
    "## Предобработка данных"
   ]
  },
  {
   "cell_type": "markdown",
   "id": "03dc170c",
   "metadata": {
    "deletable": false,
    "editable": false,
    "id": "03dc170c"
   },
   "source": [
    "### Удаление пропусков"
   ]
  },
  {
   "cell_type": "markdown",
   "id": "a4f54eef",
   "metadata": {
    "deletable": false,
    "editable": false,
    "id": "a4f54eef"
   },
   "source": [
    "**Задание 4. Выведите количество пропущенных значений для каждого столбца. Используйте комбинацию двух методов.**"
   ]
  },
  {
   "cell_type": "code",
   "execution_count": 4,
   "id": "2dc372b2",
   "metadata": {
    "deletable": false,
    "id": "2dc372b2",
    "outputId": "81f4d817-781c-465c-ed15-91ce4446810d"
   },
   "outputs": [
    {
     "data": {
      "text/plain": [
       "children               0\n",
       "days_employed       2174\n",
       "dob_years              0\n",
       "education              0\n",
       "education_id           0\n",
       "family_status          0\n",
       "family_status_id       0\n",
       "gender                 0\n",
       "income_type            0\n",
       "debt                   0\n",
       "total_income        2174\n",
       "purpose                0\n",
       "dtype: int64"
      ]
     },
     "execution_count": 4,
     "metadata": {},
     "output_type": "execute_result"
    }
   ],
   "source": [
    "data.isna().sum()"
   ]
  },
  {
   "cell_type": "markdown",
   "id": "14f011b1",
   "metadata": {
    "deletable": false,
    "editable": false,
    "id": "14f011b1"
   },
   "source": [
    "**Задание 5. В двух столбцах есть пропущенные значения. Один из них — `days_employed`. Пропуски в этом столбце вы обработаете на следующем этапе. Другой столбец с пропущенными значениями — `total_income` — хранит данные о доходах. На сумму дохода сильнее всего влияет тип занятости, поэтому заполнить пропуски в этом столбце нужно медианным значением по каждому типу из столбца `income_type`. Например, у человека с типом занятости `сотрудник` пропуск в столбце `total_income` должен быть заполнен медианным доходом среди всех записей с тем же типом.**"
   ]
  },
  {
   "cell_type": "code",
   "execution_count": 5,
   "id": "bdabfb6e",
   "metadata": {
    "deletable": false,
    "id": "bdabfb6e"
   },
   "outputs": [],
   "source": [
    "for t in data['income_type'].unique():\n",
    "    data.loc[(data['income_type'] == t) & (data['total_income'].isna()), 'total_income'] = \\\n",
    "    data.loc[(data['income_type'] == t), 'total_income'].median()"
   ]
  },
  {
   "cell_type": "markdown",
   "id": "5be34059",
   "metadata": {
    "deletable": false,
    "editable": false,
    "id": "5be34059"
   },
   "source": [
    "### Обработка аномальных значений"
   ]
  },
  {
   "cell_type": "markdown",
   "id": "a87606cb",
   "metadata": {
    "deletable": false,
    "editable": false,
    "id": "a87606cb"
   },
   "source": [
    "**Задание 6. В данных могут встречаться артефакты (аномалии) — значения, которые не отражают действительность и появились по какой-то ошибке. таким артефактом будет отрицательное количество дней трудового стажа в столбце `days_employed`. Для реальных данных это нормально. Обработайте значения в этом столбце: замените все отрицательные значения положительными с помощью метода `abs()`.**"
   ]
  },
  {
   "cell_type": "code",
   "execution_count": 6,
   "id": "020c46cc",
   "metadata": {
    "deletable": false,
    "id": "020c46cc"
   },
   "outputs": [],
   "source": [
    "data['days_employed'] = data['days_employed'].abs()"
   ]
  },
  {
   "cell_type": "markdown",
   "id": "45538a3a",
   "metadata": {
    "deletable": false,
    "editable": false,
    "id": "45538a3a"
   },
   "source": [
    "**Задание 7. Для каждого типа занятости выведите медианное значение трудового стажа `days_employed` в днях.**"
   ]
  },
  {
   "cell_type": "code",
   "execution_count": 7,
   "id": "cd3e6328",
   "metadata": {
    "deletable": false,
    "id": "cd3e6328",
    "outputId": "801ef80e-522b-4668-f34e-565af7432bcf"
   },
   "outputs": [
    {
     "data": {
      "text/plain": [
       "income_type\n",
       "безработный        366413.652744\n",
       "в декрете            3296.759962\n",
       "госслужащий          2689.368353\n",
       "компаньон            1547.382223\n",
       "пенсионер          365213.306266\n",
       "предприниматель       520.848083\n",
       "сотрудник            1574.202821\n",
       "студент               578.751554\n",
       "Name: days_employed, dtype: float64"
      ]
     },
     "execution_count": 7,
     "metadata": {},
     "output_type": "execute_result"
    }
   ],
   "source": [
    "data.groupby('income_type')['days_employed'].agg('median')"
   ]
  },
  {
   "cell_type": "markdown",
   "id": "90c5f058",
   "metadata": {
    "deletable": false,
    "editable": false,
    "id": "90c5f058"
   },
   "source": [
    "У двух типов (безработные и пенсионеры) получатся аномально большие значения. Исправить такие значения сложно, поэтому оставьте их как есть."
   ]
  },
  {
   "cell_type": "markdown",
   "id": "9652e50d",
   "metadata": {
    "deletable": false,
    "editable": false,
    "id": "9652e50d"
   },
   "source": [
    "**Задание 8. Выведите перечень уникальных значений столбца `children`.**"
   ]
  },
  {
   "cell_type": "code",
   "execution_count": 8,
   "id": "dbb37b8e",
   "metadata": {
    "deletable": false,
    "id": "dbb37b8e",
    "outputId": "6975b15c-7f95-4697-d16d-a0c79b657b03"
   },
   "outputs": [
    {
     "data": {
      "text/plain": [
       "array([ 1,  0,  3,  2, -1,  4, 20,  5])"
      ]
     },
     "execution_count": 8,
     "metadata": {},
     "output_type": "execute_result"
    }
   ],
   "source": [
    "data['children'].unique()"
   ]
  },
  {
   "cell_type": "markdown",
   "id": "2b8b0715",
   "metadata": {
    "deletable": false,
    "editable": false,
    "id": "2b8b0715"
   },
   "source": [
    "**Задание 9. В столбце `children` есть два аномальных значения. Удалите строки, в которых встречаются такие аномальные значения из датафрейма `data`.**"
   ]
  },
  {
   "cell_type": "code",
   "execution_count": 9,
   "id": "20009df8",
   "metadata": {
    "deletable": false,
    "id": "20009df8"
   },
   "outputs": [],
   "source": [
    "data = data[(data['children'] != -1) & (data['children'] != 20)]"
   ]
  },
  {
   "cell_type": "markdown",
   "id": "8c6ac9f1",
   "metadata": {
    "deletable": false,
    "editable": false,
    "id": "8c6ac9f1"
   },
   "source": [
    "**Задание 10. Ещё раз выведите перечень уникальных значений столбца `children`, чтобы убедиться, что артефакты удалены.**"
   ]
  },
  {
   "cell_type": "code",
   "execution_count": 10,
   "id": "07337b81",
   "metadata": {
    "deletable": false,
    "id": "07337b81",
    "outputId": "b2097101-d49d-44d9-901b-32a65c9463d1"
   },
   "outputs": [
    {
     "data": {
      "text/plain": [
       "array([1, 0, 3, 2, 4, 5])"
      ]
     },
     "execution_count": 10,
     "metadata": {},
     "output_type": "execute_result"
    }
   ],
   "source": [
    "data['children'].unique()"
   ]
  },
  {
   "cell_type": "markdown",
   "id": "ee3f52d4",
   "metadata": {
    "deletable": false,
    "editable": false,
    "id": "ee3f52d4"
   },
   "source": [
    "### Удаление пропусков (продолжение)"
   ]
  },
  {
   "cell_type": "markdown",
   "id": "a700b0e4",
   "metadata": {
    "deletable": false,
    "editable": false,
    "id": "a700b0e4"
   },
   "source": [
    "**Задание 11. Заполните пропуски в столбце `days_employed` медианными значениями по каждого типа занятости `income_type`.**"
   ]
  },
  {
   "cell_type": "code",
   "execution_count": 11,
   "id": "61946b83",
   "metadata": {
    "deletable": false,
    "id": "61946b83"
   },
   "outputs": [],
   "source": [
    "for t in data['income_type'].unique():\n",
    "    data.loc[(data['income_type'] == t) & (data['days_employed'].isna()), 'days_employed'] = \\\n",
    "    data.loc[(data['income_type'] == t), 'days_employed'].median()"
   ]
  },
  {
   "cell_type": "markdown",
   "id": "550dcd9b",
   "metadata": {
    "deletable": false,
    "editable": false,
    "id": "550dcd9b"
   },
   "source": [
    "**Задание 12. Убедитесь, что все пропуски заполнены. Проверьте себя и ещё раз выведите количество пропущенных значений для каждого столбца с помощью двух методов.**"
   ]
  },
  {
   "cell_type": "code",
   "execution_count": 12,
   "id": "937c7014",
   "metadata": {
    "deletable": false,
    "id": "937c7014",
    "outputId": "8da1e4e1-358e-4e87-98c9-f261bce0a7b2"
   },
   "outputs": [
    {
     "data": {
      "text/plain": [
       "children            0\n",
       "days_employed       0\n",
       "dob_years           0\n",
       "education           0\n",
       "education_id        0\n",
       "family_status       0\n",
       "family_status_id    0\n",
       "gender              0\n",
       "income_type         0\n",
       "debt                0\n",
       "total_income        0\n",
       "purpose             0\n",
       "dtype: int64"
      ]
     },
     "execution_count": 12,
     "metadata": {},
     "output_type": "execute_result"
    }
   ],
   "source": [
    "data.isna().sum()"
   ]
  },
  {
   "cell_type": "markdown",
   "id": "d522e295",
   "metadata": {
    "deletable": false,
    "editable": false,
    "id": "d522e295"
   },
   "source": [
    "### Изменение типов данных"
   ]
  },
  {
   "cell_type": "markdown",
   "id": "c229c581",
   "metadata": {
    "deletable": false,
    "editable": false,
    "id": "c229c581"
   },
   "source": [
    "**Задание 13. Замените вещественный тип данных в столбце `total_income` на целочисленный с помощью метода `astype()`.**"
   ]
  },
  {
   "cell_type": "code",
   "execution_count": 13,
   "id": "31036462",
   "metadata": {
    "deletable": false,
    "id": "31036462"
   },
   "outputs": [],
   "source": [
    "data['total_income'] = data['total_income'].astype(int)"
   ]
  },
  {
   "cell_type": "markdown",
   "id": "b8e3d1d9",
   "metadata": {
    "deletable": false,
    "editable": false,
    "id": "b8e3d1d9"
   },
   "source": [
    "### Обработка дубликатов"
   ]
  },
  {
   "cell_type": "markdown",
   "id": "9be53c49",
   "metadata": {
    "deletable": false,
    "editable": false,
    "id": "9be53c49"
   },
   "source": [
    "**Задание 14. Обработайте неявные дубликаты в столбце `education`. В этом столбце есть одни и те же значения, но записанные по-разному: с использованием заглавных и строчных букв. Приведите их к нижнему регистру.**"
   ]
  },
  {
   "cell_type": "code",
   "execution_count": 14,
   "id": "d89e73e1",
   "metadata": {
    "deletable": false,
    "id": "d89e73e1"
   },
   "outputs": [],
   "source": [
    "data['education'] = data['education'].str.lower()"
   ]
  },
  {
   "cell_type": "markdown",
   "id": "01d4500e",
   "metadata": {
    "deletable": false,
    "editable": false,
    "id": "01d4500e"
   },
   "source": [
    "**Задание 15. Выведите на экран количество строк-дубликатов в данных. Если такие строки присутствуют, удалите их.**"
   ]
  },
  {
   "cell_type": "code",
   "execution_count": 15,
   "id": "e10efb23",
   "metadata": {
    "deletable": false,
    "id": "e10efb23",
    "outputId": "9684deba-1934-42d1-99e1-cda61740f822"
   },
   "outputs": [
    {
     "data": {
      "text/plain": [
       "71"
      ]
     },
     "execution_count": 15,
     "metadata": {},
     "output_type": "execute_result"
    }
   ],
   "source": [
    "data.duplicated().sum()"
   ]
  },
  {
   "cell_type": "code",
   "execution_count": 16,
   "id": "df853f20",
   "metadata": {
    "deletable": false,
    "id": "df853f20"
   },
   "outputs": [],
   "source": [
    "data = data.drop_duplicates()"
   ]
  },
  {
   "cell_type": "markdown",
   "id": "627be38f",
   "metadata": {
    "deletable": false,
    "editable": false,
    "id": "627be38f"
   },
   "source": [
    "### Категоризация данных"
   ]
  },
  {
   "cell_type": "markdown",
   "id": "4684c3e0",
   "metadata": {
    "deletable": false,
    "editable": false,
    "id": "4684c3e0"
   },
   "source": [
    "**Задание 16. На основании диапазонов, указанных ниже, создайте в датафрейме `data` столбец `total_income_category` с категориями:**\n",
    "\n",
    "- 0–30000 — `'E'`;\n",
    "- 30001–50000 — `'D'`;\n",
    "- 50001–200000 — `'C'`;\n",
    "- 200001–1000000 — `'B'`;\n",
    "- 1000001 и выше — `'A'`.\n",
    "\n",
    "\n",
    "**Например, кредитополучателю с доходом 25000 нужно назначить категорию `'E'`, а клиенту, получающему 235000, — `'B'`. Используйте собственную функцию с именем `categorize_income()` и метод `apply()`.**"
   ]
  },
  {
   "cell_type": "code",
   "execution_count": 17,
   "id": "78965238",
   "metadata": {
    "deletable": false,
    "id": "78965238"
   },
   "outputs": [],
   "source": [
    "def categorize_income(income):\n",
    "    try:\n",
    "        if 0 <= income <= 30000:\n",
    "            return 'E'\n",
    "        elif 30001 <= income <= 50000:\n",
    "            return 'D'\n",
    "        elif 50001 <= income <= 200000:\n",
    "            return 'C'\n",
    "        elif 200001 <= income <= 1000000:\n",
    "            return 'B'\n",
    "        elif income >= 1000001:\n",
    "            return 'A'\n",
    "    except:\n",
    "        pass"
   ]
  },
  {
   "cell_type": "code",
   "execution_count": 18,
   "id": "0980ada1",
   "metadata": {
    "deletable": false,
    "id": "0980ada1"
   },
   "outputs": [],
   "source": [
    "data['total_income_category'] = data['total_income'].apply(categorize_income)"
   ]
  },
  {
   "cell_type": "markdown",
   "id": "9917bba0",
   "metadata": {
    "deletable": false,
    "editable": false,
    "id": "9917bba0"
   },
   "source": [
    "**Задание 17. Выведите на экран перечень уникальных целей взятия кредита из столбца `purpose`.**"
   ]
  },
  {
   "cell_type": "code",
   "execution_count": 19,
   "id": "ee07b65e",
   "metadata": {
    "deletable": false,
    "id": "ee07b65e",
    "outputId": "673c12d9-7d7e-4ae0-9812-c622c89dd244"
   },
   "outputs": [
    {
     "data": {
      "text/plain": [
       "array(['покупка жилья', 'приобретение автомобиля',\n",
       "       'дополнительное образование', 'сыграть свадьбу',\n",
       "       'операции с жильем', 'образование', 'на проведение свадьбы',\n",
       "       'покупка жилья для семьи', 'покупка недвижимости',\n",
       "       'покупка коммерческой недвижимости', 'покупка жилой недвижимости',\n",
       "       'строительство собственной недвижимости', 'недвижимость',\n",
       "       'строительство недвижимости', 'на покупку подержанного автомобиля',\n",
       "       'на покупку своего автомобиля',\n",
       "       'операции с коммерческой недвижимостью',\n",
       "       'строительство жилой недвижимости', 'жилье',\n",
       "       'операции со своей недвижимостью', 'автомобили',\n",
       "       'заняться образованием', 'сделка с подержанным автомобилем',\n",
       "       'получение образования', 'автомобиль', 'свадьба',\n",
       "       'получение дополнительного образования', 'покупка своего жилья',\n",
       "       'операции с недвижимостью', 'получение высшего образования',\n",
       "       'свой автомобиль', 'сделка с автомобилем',\n",
       "       'профильное образование', 'высшее образование',\n",
       "       'покупка жилья для сдачи', 'на покупку автомобиля', 'ремонт жилью',\n",
       "       'заняться высшим образованием'], dtype=object)"
      ]
     },
     "execution_count": 19,
     "metadata": {},
     "output_type": "execute_result"
    }
   ],
   "source": [
    "data['purpose'].unique()"
   ]
  },
  {
   "cell_type": "markdown",
   "id": "52b79d56",
   "metadata": {
    "deletable": false,
    "editable": false,
    "id": "52b79d56"
   },
   "source": [
    "**Задание 18. Создайте функцию, которая на основании данных из столбца `purpose` сформирует новый столбец `purpose_category`, в который войдут следующие категории:**\n",
    "\n",
    "- `'операции с автомобилем'`,\n",
    "- `'операции с недвижимостью'`,\n",
    "- `'проведение свадьбы'`,\n",
    "- `'получение образования'`.\n",
    "\n",
    "**Например, если в столбце `purpose` находится подстрока `'на покупку автомобиля'`, то в столбце `purpose_category` должна появиться строка `'операции с автомобилем'`.**\n",
    "\n",
    "**Используйте собственную функцию с именем `categorize_purpose()` и метод `apply()`. Изучите данные в столбце `purpose` и определите, какие подстроки помогут вам правильно определить категорию.**"
   ]
  },
  {
   "cell_type": "code",
   "execution_count": 20,
   "id": "be41da5d",
   "metadata": {
    "deletable": false,
    "id": "be41da5d"
   },
   "outputs": [],
   "source": [
    "def categorize_purpose(row):\n",
    "    try:\n",
    "        if 'автом' in row:\n",
    "            return 'операции с автомобилем'\n",
    "        elif 'жил' in row or 'недвиж' in row:\n",
    "            return 'операции с недвижимостью'\n",
    "        elif 'свад' in row:\n",
    "            return 'проведение свадьбы'\n",
    "        elif 'образов' in row:\n",
    "            return 'получение образования'\n",
    "    except:\n",
    "        return 'нет категории'"
   ]
  },
  {
   "cell_type": "code",
   "execution_count": 21,
   "id": "94c4a19a",
   "metadata": {
    "deletable": false,
    "id": "94c4a19a"
   },
   "outputs": [],
   "source": [
    "data['purpose_category'] = data['purpose'].apply(categorize_purpose)"
   ]
  },
  {
   "cell_type": "markdown",
   "id": "3d596c34",
   "metadata": {
    "deletable": false,
    "editable": false,
    "id": "3d596c34"
   },
   "source": [
    "### Шаг 3. Исследуйте данные и ответьте на вопросы"
   ]
  },
  {
   "cell_type": "markdown",
   "id": "648db036",
   "metadata": {
    "deletable": false,
    "editable": false,
    "id": "648db036"
   },
   "source": [
    "#### 3.1 Есть ли зависимость между количеством детей и возвратом кредита в срок?"
   ]
  },
  {
   "cell_type": "markdown",
   "id": "73678d6c",
   "metadata": {},
   "source": [
    "Создаём отдельную таблицу с информацией о детях и долгах, выводим её на экран со следующими столбцами: \n",
    "* children: количество детей\n",
    "* count: количество задолженностей для данной категории \n",
    "* sum: количество строк в данной категории\n",
    "\n",
    "sum выводим для понимания, как много строк в каждой категории, чтобы видеть, репрезентативная ли выборка "
   ]
  },
  {
   "cell_type": "code",
   "execution_count": 22,
   "id": "7fcff25e",
   "metadata": {
    "deletable": false,
    "id": "7fcff25e"
   },
   "outputs": [
    {
     "name": "stdout",
     "output_type": "stream",
     "text": [
      "          count   sum\n",
      "children             \n",
      "0         14091  1063\n",
      "1          4808   444\n",
      "2          2052   194\n",
      "3           330    27\n",
      "4            41     4\n",
      "5             9     0\n"
     ]
    }
   ],
   "source": [
    "data_pivot = data.pivot_table(index=['children'], values='debt', aggfunc=('sum', 'count'))\n",
    "print(data_pivot)"
   ]
  },
  {
   "cell_type": "markdown",
   "id": "aec7d728",
   "metadata": {},
   "source": [
    "Переименуем столбцы таблицы, чтобы названия были более понятны интуитивно"
   ]
  },
  {
   "cell_type": "code",
   "execution_count": 23,
   "id": "dbfe7f22",
   "metadata": {},
   "outputs": [
    {
     "name": "stdout",
     "output_type": "stream",
     "text": [
      "          number_of_lines  debt_sum\n",
      "children                           \n",
      "0                   14091      1063\n",
      "1                    4808       444\n",
      "2                    2052       194\n",
      "3                     330        27\n",
      "4                      41         4\n",
      "5                       9         0\n"
     ]
    }
   ],
   "source": [
    "data_pivot = data_pivot.rename(columns={'sum':'debt_sum','count':'number_of_lines'})\n",
    "print(data_pivot)"
   ]
  },
  {
   "cell_type": "markdown",
   "id": "c58792e0",
   "metadata": {},
   "source": [
    "Добавим новый столбец, в котором посчитаем процент \"должников\" по категориям как отношение количества \"должников\" к количеству строк (по сути - количеству заёмщиков в данной категории) "
   ]
  },
  {
   "cell_type": "code",
   "execution_count": 24,
   "id": "cde483ae",
   "metadata": {},
   "outputs": [
    {
     "name": "stdout",
     "output_type": "stream",
     "text": [
      "          number_of_lines  debt_sum  percent\n",
      "children                                    \n",
      "5                       9         0     0.00\n",
      "0                   14091      1063     7.54\n",
      "3                     330        27     8.18\n",
      "1                    4808       444     9.23\n",
      "2                    2052       194     9.45\n",
      "4                      41         4     9.76\n"
     ]
    }
   ],
   "source": [
    "data_pivot['percent'] = round(data_pivot['debt_sum']/data_pivot['number_of_lines'], 4) * 100\n",
    "print(data_pivot.sort_values(by = 'percent'))"
   ]
  },
  {
   "cell_type": "markdown",
   "id": "a81a571d",
   "metadata": {},
   "source": [
    "Видим, что записей о семьях с 5 детьми всего 9, их можно изучить на возможные неявные дубликаты, чтобы понять, репрезентативна ли выборка "
   ]
  },
  {
   "cell_type": "code",
   "execution_count": 25,
   "id": "29be07f8",
   "metadata": {},
   "outputs": [
    {
     "name": "stdout",
     "output_type": "stream",
     "text": [
      "       children  days_employed  dob_years  education  education_id  \\\n",
      "3979          5    1572.328285         42    среднее             1   \n",
      "4397          5    3248.839837         36    среднее             1   \n",
      "7866          5     773.124856         36    среднее             1   \n",
      "15822         5     418.199982         31    среднее             1   \n",
      "15916         5    2286.262752         37    среднее             1   \n",
      "16211         5     387.317579         35    среднее             1   \n",
      "20452         5     268.425464         38  начальное             3   \n",
      "20837         5    2386.600221         35    среднее             1   \n",
      "21156         5    1690.018117         59    среднее             1   \n",
      "\n",
      "          family_status  family_status_id gender  income_type  debt  \\\n",
      "3979   гражданский брак                 1      M    сотрудник     0   \n",
      "4397    женат / замужем                 0      F    компаньон     0   \n",
      "7866    женат / замужем                 0      F    сотрудник     0   \n",
      "15822   женат / замужем                 0      F    сотрудник     0   \n",
      "15916   женат / замужем                 0      F    сотрудник     0   \n",
      "16211  гражданский брак                 1      F  госслужащий     0   \n",
      "20452   женат / замужем                 0      F    сотрудник     0   \n",
      "20837   женат / замужем                 0      F    компаньон     0   \n",
      "21156   женат / замужем                 0      M    сотрудник     0   \n",
      "\n",
      "       total_income                           purpose total_income_category  \\\n",
      "3979         142594      на покупку своего автомобиля                     C   \n",
      "4397         168460          операции с недвижимостью                     C   \n",
      "7866          48772                 операции с жильем                     D   \n",
      "15822         77552  сделка с подержанным автомобилем                     C   \n",
      "15916        256698              покупка недвижимости                     B   \n",
      "16211        126102             на проведение свадьбы                     C   \n",
      "20452        212545      заняться высшим образованием                     B   \n",
      "20837        204241                             жилье                     B   \n",
      "21156        269068   операции со своей недвижимостью                     B   \n",
      "\n",
      "               purpose_category  \n",
      "3979     операции с автомобилем  \n",
      "4397   операции с недвижимостью  \n",
      "7866   операции с недвижимостью  \n",
      "15822    операции с автомобилем  \n",
      "15916  операции с недвижимостью  \n",
      "16211        проведение свадьбы  \n",
      "20452     получение образования  \n",
      "20837  операции с недвижимостью  \n",
      "21156  операции с недвижимостью  \n"
     ]
    }
   ],
   "source": [
    "print(data[data['children'] == 5])"
   ]
  },
  {
   "cell_type": "markdown",
   "id": "1257fd19",
   "metadata": {},
   "source": [
    "Неявных дубликатов в данных о семьях с 5 детьми не выявлено. "
   ]
  },
  {
   "cell_type": "markdown",
   "id": "2eb9088e",
   "metadata": {
    "deletable": false,
    "id": "2eb9088e"
   },
   "source": [
    "**Вывод:** \n",
    "Семьи, в которых нет детей, возвращают кредиты в срок немного чаще остальных - это можно объяснить тем, что в семьях без детей ниже финансовая нагрузка. \n",
    "\n",
    "Семьи, в которых 1-2 ребёнка, имеют практически одинаковые показатели. \n",
    "\n",
    "В целом корелляция есть, но её сложно назвать сильной. "
   ]
  },
  {
   "cell_type": "markdown",
   "id": "74c9b3a7",
   "metadata": {
    "deletable": false,
    "editable": false,
    "id": "74c9b3a7"
   },
   "source": [
    "#### 3.2 Есть ли зависимость между семейным положением и возвратом кредита в срок?"
   ]
  },
  {
   "cell_type": "markdown",
   "id": "b6efb923",
   "metadata": {},
   "source": [
    "Снова создадим отдельную таблицу для анализа информации, выделим семейное положение, количество строк и количество \"должников\" "
   ]
  },
  {
   "cell_type": "code",
   "execution_count": 26,
   "id": "8098ab3b",
   "metadata": {
    "deletable": false,
    "id": "8098ab3b"
   },
   "outputs": [
    {
     "name": "stdout",
     "output_type": "stream",
     "text": [
      "                       count  sum\n",
      "family_status                    \n",
      "Не женат / не замужем   2796  273\n",
      "в разводе               1189   84\n",
      "вдовец / вдова           951   63\n",
      "гражданский брак        4134  385\n",
      "женат / замужем        12261  927\n"
     ]
    }
   ],
   "source": [
    "data_pivot = data.pivot_table(index=['family_status'], values='debt', aggfunc=('sum', 'count'))\n",
    "print(data_pivot)"
   ]
  },
  {
   "cell_type": "markdown",
   "id": "f2fa2a87",
   "metadata": {},
   "source": [
    "Перемменуем столбцы для удобства, создадим новый столбец percent для вывода процента \"должников\" в разрезе по семейному статусу, округлив значение до 2 знаков после запятой и выведем данные в порядке возрастания процента\n"
   ]
  },
  {
   "cell_type": "code",
   "execution_count": 27,
   "id": "0d7cc23e",
   "metadata": {},
   "outputs": [
    {
     "name": "stdout",
     "output_type": "stream",
     "text": [
      "                       number_of_lines  debt_sum  percent\n",
      "family_status                                            \n",
      "вдовец / вдова                     951        63     6.62\n",
      "в разводе                         1189        84     7.06\n",
      "женат / замужем                  12261       927     7.56\n",
      "гражданский брак                  4134       385     9.31\n",
      "Не женат / не замужем             2796       273     9.76\n"
     ]
    }
   ],
   "source": [
    "data_pivot = data_pivot.rename(columns={'sum':'debt_sum','count':'number_of_lines'})\n",
    "data_pivot['percent'] = round(data_pivot['debt_sum']/data_pivot['number_of_lines'], 4) * 100\n",
    "print(data_pivot.sort_values(by = 'percent'))"
   ]
  },
  {
   "cell_type": "markdown",
   "id": "c389ca63",
   "metadata": {
    "deletable": false,
    "id": "c389ca63"
   },
   "source": [
    "**Вывод:** \n",
    "Здесь прослеживается, что чаще всего не возвращают кредиты в срок те, кто ещё ни разу не вступал в брак. Это может быть вызвано молодым возрастом, небольшим доходом. \n",
    "\n",
    "Самые \"надёжные\" заёмщики - те, кто уже вступал в брак, можно предположить, что это вызвано высоким уровнем ответственности, более зрелым возрастом. \n",
    "\n",
    "В целом, зависимость прослеживается. "
   ]
  },
  {
   "cell_type": "markdown",
   "id": "9529de68",
   "metadata": {
    "deletable": false,
    "editable": false,
    "id": "9529de68"
   },
   "source": [
    "#### 3.3 Есть ли зависимость между уровнем дохода и возвратом кредита в срок?"
   ]
  },
  {
   "cell_type": "markdown",
   "id": "b55c5d74",
   "metadata": {},
   "source": [
    "Для расчёта этой информации поможет стоблец total_income_category, который создавался в задании 16, категории такие: \n",
    "    \n",
    "- 0–30000 — 'E';\n",
    "- 30001–50000 — 'D';\n",
    "- 50001–200000 — 'C';\n",
    "- 200001–1000000 — 'B';\n",
    "- 1000001 и выше — 'A'.\n",
    "Снова создадим таблицу для анализа информации по количеству строк, количеству \"должников\" и уровню дохода и сразу переименуем столбцы. "
   ]
  },
  {
   "cell_type": "code",
   "execution_count": 44,
   "id": "8787f44a",
   "metadata": {
    "deletable": false,
    "id": "8787f44a"
   },
   "outputs": [],
   "source": [
    "data_pivot = data.pivot_table(index = [ 'total_income_category'], values = 'debt', aggfunc = {'count','sum'})\n",
    "data_pivot = data_pivot.rename(columns={'count':'number_of_lines','sum':'debt_sum'})"
   ]
  },
  {
   "cell_type": "markdown",
   "id": "ff7eb207",
   "metadata": {},
   "source": [
    "Добавим столбец percent, округлив его значение до 2 знаков после запятой, и выведем полученные данные, отсортировав по возрастанию процента \n"
   ]
  },
  {
   "cell_type": "code",
   "execution_count": 45,
   "id": "35e31ba3",
   "metadata": {},
   "outputs": [
    {
     "name": "stdout",
     "output_type": "stream",
     "text": [
      "                       number_of_lines  debt_sum  percent\n",
      "total_income_category                                    \n",
      "D                                  349        21     6.02\n",
      "B                                 5014       354     7.06\n",
      "A                                   25         2     8.00\n",
      "C                                15921      1353     8.50\n",
      "E                                   22         2     9.09\n"
     ]
    }
   ],
   "source": [
    "data_pivot['percent'] = round(data_pivot['debt_sum']/data_pivot['number_of_lines'], 4) * 100\n",
    "print(data_pivot.sort_values(by = 'percent'))"
   ]
  },
  {
   "cell_type": "markdown",
   "id": "6dd14b57",
   "metadata": {
    "deletable": false,
    "id": "6dd14b57"
   },
   "source": [
    "**Вывод:**\n",
    "Люди с самым низким уровнем дохода имеют наиболее высокую вероятность не вернуть кредит в срок, это ожидаемо и в целом объясняется уровнем дохода. \n",
    "Самые \"надёжные\" заёмщики - это люди с доходом от 30 до 50 тысяч, возможно, это можно объяснить тем, что суммы штрафов по просрочкам могут значительно подорвать бюджет, и копить просрочки очень невыгодно. \n",
    "Также относительно надёжными заёмщиками являются люди с высоким уровнем дохода, от 200 тысяч, можно предположить, что это связано с высоким уровнем ответственности. \n",
    "Довольно высок процент \"должников\" среди заёмщиков со средним уровнем дохода - возможно, это семейные люди с большим уровнем трат и несколькими кредитами. \n",
    "Можно также отметить, что процент должников среди людей с самым высоким уровнем дохода довольно высок. \n",
    "\n",
    "В целом, корреляция есть. "
   ]
  },
  {
   "cell_type": "markdown",
   "id": "1dcc9b12",
   "metadata": {
    "deletable": false,
    "editable": false,
    "id": "1dcc9b12"
   },
   "source": [
    "#### 3.4 Как разные цели кредита влияют на его возврат в срок?"
   ]
  },
  {
   "cell_type": "code",
   "execution_count": 46,
   "id": "c602bc8b",
   "metadata": {
    "deletable": false,
    "id": "c602bc8b"
   },
   "outputs": [
    {
     "name": "stdout",
     "output_type": "stream",
     "text": [
      "                          number_of_lines  debt_sum  percent\n",
      "purpose_category                                            \n",
      "операции с недвижимостью            10751       780     7.26\n",
      "проведение свадьбы                   2313       183     7.91\n",
      "получение образования                3988       369     9.25\n",
      "операции с автомобилем               4279       400     9.35\n"
     ]
    }
   ],
   "source": [
    "data_pivot = data.pivot_table(index = ['purpose_category'], values = 'debt', aggfunc = {'count','sum'})\n",
    "data_pivot = data_pivot.rename(columns={'count':'number_of_lines','sum':'debt_sum'})\n",
    "data_pivot['percent'] = round(data_pivot['debt_sum']/data_pivot['number_of_lines'], 4) * 100\n",
    "print(data_pivot.sort_values(by = 'percent'))\n"
   ]
  },
  {
   "cell_type": "markdown",
   "id": "cf05ed63",
   "metadata": {
    "deletable": false,
    "id": "cf05ed63"
   },
   "source": [
    "**Вывод:** \n",
    "Создав отдельную таблицу и посчитав процент \"должников\" по каждой категории, можно сделать следующие выводы: \n",
    "\n",
    "корреляция точно наблюдается. Примечательно, что наиболее \"дорогая\" категория - операции с недвижимостью - наиболее надёжна для банка, процент возвратов в срок по ней максимален. \n",
    "Кредиты на менее \"дорогие\" цели же наименее надёжны, здесь пользователи допускают просрочку. Это может быть вызвано меньшей суммой кредита и в целом суммой средств, которые участвуют в сделке, для которой брался кредит. \n",
    "\n",
    "Премечательно также большое количество кредитов на свадьбу, можно предположить, что часть кредита возвращается непосредственно после свадьбы, когда молодожёны получили подарки. "
   ]
  },
  {
   "cell_type": "markdown",
   "id": "46c1f10b",
   "metadata": {
    "deletable": false,
    "editable": false,
    "id": "46c1f10b"
   },
   "source": [
    "#### 3.5 Приведите возможные причины появления пропусков в исходных данных."
   ]
  },
  {
   "cell_type": "markdown",
   "id": "3697d2a9",
   "metadata": {
    "deletable": false,
    "id": "3697d2a9"
   },
   "source": [
    "*Ответ:* \n",
    "В исходных данных были пропущены столбцы \n",
    "\n",
    "days_employed и total_income, при этом количество пропусков в этих столбцах одинаково. \n",
    "Можно предположить, что при заполнении данных эти столбцы были необязательны. Пользователи могут не желать указывать общий доход, и если поле не обязательно, его оставляют пустым. \n",
    "Что касается поля days_employed, можно предположить, что его заполнение зависит от заполнения поля total_income (заполнил общий доход - укажи стаж), и пользователи, не указавшие общий доход, не заполняли и стаж.  "
   ]
  },
  {
   "cell_type": "markdown",
   "id": "3137d257",
   "metadata": {
    "deletable": false,
    "editable": false,
    "id": "3137d257"
   },
   "source": [
    "#### 3.6 Объясните, почему заполнить пропуски медианным значением — лучшее решение для количественных переменных."
   ]
  },
  {
   "cell_type": "markdown",
   "id": "cf40012a",
   "metadata": {
    "deletable": false,
    "id": "cf40012a"
   },
   "source": [
    "*Ответ:* \n",
    "В целом при работе с количественными данными у нас есть два варианта - выбрать медиану и среднее арифметическое. Но среднее арифметическое может некорректно отобразить ситуацию, поскольку в данных могут быть большие разбросы. Медиана же как раз подходит для случаев, когда в данных может быть разброс (сверх-высокий доход и сверх-низкий), поэтому проставление медианного значения вместо пропусков - наилучшее решение. "
   ]
  },
  {
   "cell_type": "markdown",
   "id": "57bc304e",
   "metadata": {
    "deletable": false,
    "editable": false,
    "id": "57bc304e"
   },
   "source": [
    "### Шаг 4: общий вывод."
   ]
  },
  {
   "cell_type": "markdown",
   "id": "1ab75d1c",
   "metadata": {
    "deletable": false,
    "id": "1ab75d1c"
   },
   "source": [
    "В целом по выдвинутым гипотезам корреляция прослеживается, но её сложно назвать очень высокой. \n",
    "Можем попробовать составить портрет надёжного и ненадёжного заёмщика. Относительно надёжный заёмщик не будет состоять в браке, но при этом будет иметь опыт брака, у него будет высокий доход и не будет детей. Целью кредита будет операция с недвижимостью. \n",
    "Относительно ненадёжный заёмщик может иметь 4 детей, будет не женат или состоять в гражданском браке, будет иметь низкий доход. Целью кредита будет покупка автомобиля или получение образования. \n",
    "При этом не обязательно эти факторы должны совпасть и не обязательно эти факторы предскажут нам поведение заёмщика, поэтому делать вывод о возможности выдачи кредита пользователю по таким параметрам не стоит, для этого существуют гораздо более подробные скоринговые системы в банках. "
   ]
  }
 ],
 "metadata": {
  "ExecuteTimeLog": [
   {
    "duration": 48,
    "start_time": "2024-04-30T16:37:04.610Z"
   },
   {
    "duration": 426,
    "start_time": "2024-04-30T16:37:19.662Z"
   },
   {
    "duration": 22,
    "start_time": "2024-04-30T16:37:20.090Z"
   },
   {
    "duration": 16,
    "start_time": "2024-04-30T16:37:20.350Z"
   },
   {
    "duration": 12,
    "start_time": "2024-04-30T16:37:21.083Z"
   },
   {
    "duration": 35,
    "start_time": "2024-04-30T16:37:21.488Z"
   },
   {
    "duration": 3,
    "start_time": "2024-04-30T16:37:22.113Z"
   },
   {
    "duration": 8,
    "start_time": "2024-04-30T16:37:22.551Z"
   },
   {
    "duration": 5,
    "start_time": "2024-04-30T16:37:23.981Z"
   },
   {
    "duration": 7,
    "start_time": "2024-04-30T16:37:24.830Z"
   },
   {
    "duration": 4,
    "start_time": "2024-04-30T16:37:25.626Z"
   },
   {
    "duration": 34,
    "start_time": "2024-04-30T16:37:27.065Z"
   },
   {
    "duration": 11,
    "start_time": "2024-04-30T16:37:47.744Z"
   },
   {
    "duration": 4,
    "start_time": "2024-04-30T16:37:52.119Z"
   },
   {
    "duration": 12,
    "start_time": "2024-04-30T16:37:53.729Z"
   },
   {
    "duration": 19,
    "start_time": "2024-04-30T16:37:54.807Z"
   },
   {
    "duration": 16,
    "start_time": "2024-04-30T16:37:55.263Z"
   },
   {
    "duration": 4,
    "start_time": "2024-04-30T16:37:56.859Z"
   },
   {
    "duration": 10,
    "start_time": "2024-04-30T16:37:57.973Z"
   },
   {
    "duration": 6,
    "start_time": "2024-04-30T16:37:58.908Z"
   },
   {
    "duration": 3,
    "start_time": "2024-04-30T16:38:00.051Z"
   },
   {
    "duration": 9,
    "start_time": "2024-04-30T16:38:00.569Z"
   },
   {
    "duration": 30,
    "start_time": "2024-04-30T16:38:02.568Z"
   },
   {
    "duration": 8,
    "start_time": "2024-04-30T16:38:08.672Z"
   },
   {
    "duration": 15,
    "start_time": "2024-04-30T16:43:40.709Z"
   },
   {
    "duration": 69,
    "start_time": "2024-04-30T16:47:30.932Z"
   },
   {
    "duration": 14,
    "start_time": "2024-04-30T16:47:39.373Z"
   },
   {
    "duration": 20,
    "start_time": "2024-04-30T16:48:39.646Z"
   },
   {
    "duration": 2,
    "start_time": "2024-04-30T16:49:22.278Z"
   },
   {
    "duration": 3,
    "start_time": "2024-04-30T16:49:22.282Z"
   },
   {
    "duration": 3,
    "start_time": "2024-04-30T16:49:22.286Z"
   },
   {
    "duration": 5,
    "start_time": "2024-04-30T16:54:40.071Z"
   },
   {
    "duration": 15,
    "start_time": "2024-04-30T16:56:13.683Z"
   },
   {
    "duration": 5,
    "start_time": "2024-04-30T16:56:33.230Z"
   },
   {
    "duration": 10,
    "start_time": "2024-04-30T16:58:10.705Z"
   },
   {
    "duration": 8,
    "start_time": "2024-04-30T16:58:16.704Z"
   },
   {
    "duration": 7,
    "start_time": "2024-04-30T16:58:31.113Z"
   },
   {
    "duration": 7,
    "start_time": "2024-04-30T17:01:10.410Z"
   },
   {
    "duration": 7,
    "start_time": "2024-04-30T17:01:22.442Z"
   },
   {
    "duration": 7,
    "start_time": "2024-04-30T17:01:31.423Z"
   },
   {
    "duration": 8,
    "start_time": "2024-04-30T17:07:02.257Z"
   },
   {
    "duration": 71,
    "start_time": "2024-04-30T17:10:07.520Z"
   },
   {
    "duration": 647,
    "start_time": "2024-05-03T16:34:04.929Z"
   },
   {
    "duration": 24,
    "start_time": "2024-05-03T16:34:06.435Z"
   },
   {
    "duration": 17,
    "start_time": "2024-05-03T16:34:07.410Z"
   },
   {
    "duration": 12,
    "start_time": "2024-05-03T16:34:09.141Z"
   },
   {
    "duration": 39,
    "start_time": "2024-05-03T16:34:10.020Z"
   },
   {
    "duration": 4,
    "start_time": "2024-05-03T16:34:11.153Z"
   },
   {
    "duration": 9,
    "start_time": "2024-05-03T16:34:11.940Z"
   },
   {
    "duration": 4,
    "start_time": "2024-05-03T16:34:13.174Z"
   },
   {
    "duration": 8,
    "start_time": "2024-05-03T16:34:14.034Z"
   },
   {
    "duration": 5,
    "start_time": "2024-05-03T16:34:14.784Z"
   },
   {
    "duration": 48,
    "start_time": "2024-05-03T16:34:15.467Z"
   },
   {
    "duration": 10,
    "start_time": "2024-05-03T16:34:15.981Z"
   },
   {
    "duration": 4,
    "start_time": "2024-05-03T16:34:16.747Z"
   },
   {
    "duration": 12,
    "start_time": "2024-05-03T16:34:17.321Z"
   },
   {
    "duration": 20,
    "start_time": "2024-05-03T16:34:17.758Z"
   },
   {
    "duration": 19,
    "start_time": "2024-05-03T16:34:17.907Z"
   },
   {
    "duration": 3,
    "start_time": "2024-05-03T16:34:18.738Z"
   },
   {
    "duration": 11,
    "start_time": "2024-05-03T16:34:19.102Z"
   },
   {
    "duration": 6,
    "start_time": "2024-05-03T16:34:19.753Z"
   },
   {
    "duration": 4,
    "start_time": "2024-05-03T16:34:20.641Z"
   },
   {
    "duration": 9,
    "start_time": "2024-05-03T16:34:21.029Z"
   },
   {
    "duration": 20,
    "start_time": "2024-05-03T16:34:22.505Z"
   },
   {
    "duration": 6,
    "start_time": "2024-05-03T16:34:23.751Z"
   },
   {
    "duration": 8,
    "start_time": "2024-05-03T16:34:25.103Z"
   },
   {
    "duration": 8,
    "start_time": "2024-05-03T16:34:25.931Z"
   },
   {
    "duration": 17,
    "start_time": "2024-05-03T16:35:44.930Z"
   },
   {
    "duration": 10,
    "start_time": "2024-05-03T16:39:18.974Z"
   },
   {
    "duration": 15,
    "start_time": "2024-05-03T17:02:05.249Z"
   },
   {
    "duration": 9,
    "start_time": "2024-05-03T17:03:27.356Z"
   },
   {
    "duration": 14,
    "start_time": "2024-05-03T17:06:01.362Z"
   },
   {
    "duration": 7,
    "start_time": "2024-05-03T17:06:04.576Z"
   },
   {
    "duration": 14,
    "start_time": "2024-05-03T17:06:34.229Z"
   },
   {
    "duration": 9,
    "start_time": "2024-05-03T17:06:36.129Z"
   },
   {
    "duration": 18,
    "start_time": "2024-05-03T17:30:35.238Z"
   },
   {
    "duration": 19,
    "start_time": "2024-05-03T17:30:44.733Z"
   },
   {
    "duration": 18,
    "start_time": "2024-05-03T17:30:52.508Z"
   },
   {
    "duration": 7,
    "start_time": "2024-05-03T17:31:01.324Z"
   },
   {
    "duration": 17,
    "start_time": "2024-05-03T17:31:07.550Z"
   },
   {
    "duration": 83,
    "start_time": "2024-05-03T17:31:18.781Z"
   },
   {
    "duration": 14,
    "start_time": "2024-05-03T17:31:21.874Z"
   },
   {
    "duration": 24,
    "start_time": "2024-05-03T17:31:26.936Z"
   },
   {
    "duration": 19,
    "start_time": "2024-05-03T17:31:39.056Z"
   },
   {
    "duration": 20,
    "start_time": "2024-05-03T17:31:46.291Z"
   },
   {
    "duration": 14,
    "start_time": "2024-05-03T17:32:10.190Z"
   },
   {
    "duration": 7,
    "start_time": "2024-05-03T17:32:12.573Z"
   },
   {
    "duration": 18,
    "start_time": "2024-05-03T17:32:15.877Z"
   },
   {
    "duration": 18,
    "start_time": "2024-05-03T17:39:16.791Z"
   },
   {
    "duration": 76,
    "start_time": "2024-05-03T18:41:54.041Z"
   },
   {
    "duration": 55,
    "start_time": "2024-05-15T16:23:57.875Z"
   }
  ],
  "colab": {
   "provenance": []
  },
  "kernelspec": {
   "display_name": "Python 3 (ipykernel)",
   "language": "python",
   "name": "python3"
  },
  "language_info": {
   "codemirror_mode": {
    "name": "ipython",
    "version": 3
   },
   "file_extension": ".py",
   "mimetype": "text/x-python",
   "name": "python",
   "nbconvert_exporter": "python",
   "pygments_lexer": "ipython3",
   "version": "3.11.9"
  },
  "toc": {
   "base_numbering": 1,
   "nav_menu": {},
   "number_sections": true,
   "sideBar": true,
   "skip_h1_title": true,
   "title_cell": "Table of Contents",
   "title_sidebar": "Contents",
   "toc_cell": false,
   "toc_position": {},
   "toc_section_display": true,
   "toc_window_display": false
  }
 },
 "nbformat": 4,
 "nbformat_minor": 5
}
