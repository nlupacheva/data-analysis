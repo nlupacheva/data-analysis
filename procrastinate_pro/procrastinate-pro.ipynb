{
 "cells": [
  {
   "cell_type": "markdown",
   "metadata": {
    "id": "r-BO88CnWVwe"
   },
   "source": [
    "### Загрузите данные и подготовьте их к анализу"
   ]
  },
  {
   "cell_type": "markdown",
   "metadata": {
    "id": "LCZi0P80WVwj"
   },
   "source": [
    "Загрузите данные о визитах, заказах и рекламных расходах из CSV-файлов в переменные.\n",
    "\n",
    "**Пути к файлам**\n",
    "\n",
    "- визиты: `/datasets/visits_info_short.csv`. [Скачать датасет](https://code.s3.yandex.net/datasets/visits_info_short.csv);\n",
    "- заказы: `/datasets/orders_info_short.csv`. [Скачать датасет](https://code.s3.yandex.net/datasets/orders_info_short.csv);\n",
    "- расходы: `/datasets/costs_info_short.csv`. [Скачать датасет](https://code.s3.yandex.net/datasets/costs_info_short.csv).\n",
    "\n",
    "Изучите данные и выполните предобработку. Есть ли в данных пропуски и дубликаты? Убедитесь, что типы данных во всех колонках соответствуют сохранённым в них значениям. Обратите внимание на столбцы с датой и временем."
   ]
  },
  {
   "cell_type": "code",
   "execution_count": 2,
   "metadata": {
    "id": "_vsKinGUWVwk"
   },
   "outputs": [
    {
     "ename": "ModuleNotFoundError",
     "evalue": "No module named 'pandas'",
     "output_type": "error",
     "traceback": [
      "\u001b[0;31m---------------------------------------------------------------------------\u001b[0m",
      "\u001b[0;31mModuleNotFoundError\u001b[0m                       Traceback (most recent call last)",
      "Cell \u001b[0;32mIn[2], line 2\u001b[0m\n\u001b[1;32m      1\u001b[0m \u001b[38;5;66;03m# для начала импортируем библиотеки \u001b[39;00m\n\u001b[0;32m----> 2\u001b[0m \u001b[38;5;28;01mimport\u001b[39;00m \u001b[38;5;21;01mpandas\u001b[39;00m \u001b[38;5;28;01mas\u001b[39;00m \u001b[38;5;21;01mpd\u001b[39;00m\n\u001b[1;32m      3\u001b[0m \u001b[38;5;28;01mimport\u001b[39;00m \u001b[38;5;21;01mnumpy\u001b[39;00m \u001b[38;5;28;01mas\u001b[39;00m \u001b[38;5;21;01mnp\u001b[39;00m\n\u001b[1;32m      4\u001b[0m \u001b[38;5;28;01mfrom\u001b[39;00m \u001b[38;5;21;01mdatetime\u001b[39;00m \u001b[38;5;28;01mimport\u001b[39;00m datetime, timedelta\n",
      "\u001b[0;31mModuleNotFoundError\u001b[0m: No module named 'pandas'"
     ]
    }
   ],
   "source": [
    "# для начала импортируем библиотеки \n",
    "import pandas as pd\n",
    "import numpy as np\n",
    "from datetime import datetime, timedelta\n",
    "from matplotlib import pyplot as plt\n",
    "import matplotlib.pyplot as plt "
   ]
  },
  {
   "cell_type": "markdown",
   "metadata": {},
   "source": [
    "Загрузим данные из файлов "
   ]
  },
  {
   "cell_type": "code",
   "execution_count": null,
   "metadata": {},
   "outputs": [],
   "source": [
    "visits = pd.read_csv('/datasets/visits_info_short.csv')\n",
    "orders = pd.read_csv('/datasets/orders_info_short.csv')\n",
    "costs = pd.read_csv('/datasets/costs_info_short.csv')\n",
    "# выведем по 5 строк, чтобы посмотреть на данные\n",
    "print('visits')\n",
    "display(visits.head(5))\n",
    "print('orders')\n",
    "display(orders.head(5))\n",
    "print('costs')\n",
    "display(costs.head(5))"
   ]
  },
  {
   "cell_type": "markdown",
   "metadata": {},
   "source": [
    "Приведём названия столбцов к привычному snake_case - сейчас в названиях есть заглавные буквы и пробелы, это неудобно. "
   ]
  },
  {
   "cell_type": "code",
   "execution_count": null,
   "metadata": {
    "scrolled": true
   },
   "outputs": [],
   "source": [
    "visits.rename(columns = {'User Id' : 'user_id','Region' : 'region','Device' : 'device','Channel' : 'channel'\n",
    "                         ,'Session Start' : 'session_start','Session End' : 'session_end'}, inplace = True )\n",
    "display(visits.head(5))\n",
    "orders.rename(columns = {'User Id':'user_id', 'Event Dt' : 'event_dt', 'Revenue' : 'revenue'}, inplace = True)\n",
    "display(orders.head(5))\n",
    "costs.rename(columns = {'Channel' : 'channel'}, inplace = True)\n",
    "display(costs.head(5))"
   ]
  },
  {
   "cell_type": "markdown",
   "metadata": {},
   "source": [
    "Изучим типы данных и посмотрим, где требуется преобразование. "
   ]
  },
  {
   "cell_type": "code",
   "execution_count": null,
   "metadata": {},
   "outputs": [],
   "source": [
    "visits.info()\n",
    "orders.info()\n",
    "costs.info()"
   ]
  },
  {
   "cell_type": "code",
   "execution_count": null,
   "metadata": {},
   "outputs": [],
   "source": [
    "# приведём данные по датам к datetime сразу для всех трёх таблиц\n",
    "visits['session_start'] = pd.to_datetime(visits['session_start'])\n",
    "visits['session_end'] = pd.to_datetime(visits['session_end'])\n",
    "orders['event_dt'] = pd.to_datetime(orders['event_dt'])\n",
    "costs['dt'] = pd.to_datetime(costs['dt'])\n",
    "# и сразу выведем информацию о таблицах \n",
    "visits.info()\n",
    "orders.info()\n",
    "costs.info()"
   ]
  },
  {
   "cell_type": "markdown",
   "metadata": {},
   "source": [
    "Поменяли тип данных для столбцов, касающихся даты. Для остальных столбцов, похоже, необходимости менять тип данных нет. \n",
    "Проверим наличие явных дубликатов"
   ]
  },
  {
   "cell_type": "code",
   "execution_count": null,
   "metadata": {},
   "outputs": [],
   "source": [
    "print(\"Явных дубликатов в visits\" , visits.duplicated().sum())\n",
    "print(\"Явных дубликатов в orders\" , orders.duplicated().sum())\n",
    "print(\"Явных дубликатов в costs\" , costs.duplicated().sum())"
   ]
  },
  {
   "cell_type": "markdown",
   "metadata": {},
   "source": [
    "Явных дубликатов не нашли, теперь посмотрим на пропуски. "
   ]
  },
  {
   "cell_type": "code",
   "execution_count": null,
   "metadata": {},
   "outputs": [],
   "source": [
    "print('Пропуски в visits')\n",
    "display(visits.isna().sum())\n",
    "print('Пропуски в orders')\n",
    "display(orders.isna().sum())\n",
    "print('Пропуски в costs')\n",
    "display(costs.isna().sum())"
   ]
  },
  {
   "cell_type": "markdown",
   "metadata": {},
   "source": [
    "Пропусков в данных нет ни в одном столбце. Видимо, данные выгрузили из системы, где контролируется заполнение нужных нам полей. "
   ]
  },
  {
   "cell_type": "markdown",
   "metadata": {},
   "source": [
    "**Общий вывод по шагу 1**: загружены данные для анализа, выполнена предобработка: приведены к общему виду названия столбцов, приведены к удобному для расчётов типу datetime столбцы, касающиеся дат. Данные изучены на наличие пропусков и явных дубликатов - пропусков и явных дубликатов не обнаружено. Данные можно брать в дальнейшую работу. "
   ]
  },
  {
   "cell_type": "markdown",
   "metadata": {
    "id": "AS1eCqCpWVwk",
    "jp-MarkdownHeadingCollapsed": true
   },
   "source": [
    "### Задайте функции для расчёта и анализа LTV, ROI, удержания и конверсии.\n",
    "\n",
    "Разрешается использовать функции, с которыми вы познакомились в теоретических уроках.\n",
    "\n",
    "Это функции для вычисления значений метрик:\n",
    "\n",
    "- `get_profiles()` — для создания профилей пользователей,\n",
    "- `get_retention()` — для подсчёта Retention Rate,\n",
    "- `get_conversion()` — для подсчёта конверсии,\n",
    "- `get_ltv()` — для подсчёта LTV.\n",
    "\n",
    "А также функции для построения графиков:\n",
    "\n",
    "- `filter_data()` — для сглаживания данных,\n",
    "- `plot_retention()` — для построения графика Retention Rate,\n",
    "- `plot_conversion()` — для построения графика конверсии,\n",
    "- `plot_ltv_roi` — для визуализации LTV и ROI."
   ]
  },
  {
   "cell_type": "markdown",
   "metadata": {
    "id": "igOfMgBpWVwl"
   },
   "source": [
    "Объявим вышеупомянутые функции для вычисления значений метрик. "
   ]
  },
  {
   "cell_type": "code",
   "execution_count": null,
   "metadata": {},
   "outputs": [],
   "source": [
    "# функция для создания пользовательских профилей\n",
    "\n",
    "def get_profiles(sessions, orders, ad_costs):\n",
    "\n",
    "    # находим параметры первых посещений\n",
    "    profiles = (\n",
    "        sessions.sort_values(by=['user_id', 'session_start'])\n",
    "        .groupby('user_id')\n",
    "        .agg(\n",
    "            {\n",
    "                'session_start': 'first',\n",
    "                'channel': 'first',\n",
    "                'device': 'first',\n",
    "                'region': 'first',\n",
    "            }\n",
    "        )\n",
    "        .rename(columns={'session_start': 'first_ts'})\n",
    "        .reset_index()\n",
    "    )\n",
    "\n",
    "    # для когортного анализа определяем дату первого посещения\n",
    "    # и первый день месяца, в который это посещение произошло\n",
    "    profiles['dt'] = profiles['first_ts'].dt.date\n",
    "    profiles['dt'] = pd.to_datetime(profiles['dt'], format=\"%Y-%m-%d\")\n",
    "    profiles['month'] = profiles['first_ts'].astype('datetime64[M]')\n",
    "\n",
    "    # добавляем признак платящих пользователей\n",
    "    profiles['payer'] = profiles['user_id'].isin(orders['user_id'].unique())\n",
    "\n",
    "    # добавляем флаги для всех событий из event_names\n",
    "    '''for event in event_names:\n",
    "        if event in events['event_name'].unique():\n",
    "            profiles[event] = profiles['user_id'].isin(\n",
    "                events.query('event_name == @event')['user_id'].unique()\n",
    "            )'''\n",
    "\n",
    "    # считаем количество уникальных пользователей\n",
    "    # с одинаковыми источником и датой привлечения\n",
    "    new_users = (\n",
    "        profiles.groupby(['dt', 'channel'])\n",
    "        .agg({'user_id': 'nunique'})\n",
    "        .rename(columns={'user_id': 'unique_users'})\n",
    "        .reset_index()\n",
    "    )\n",
    "\n",
    "    # объединяем траты на рекламу и число привлечённых пользователей\n",
    "    ad_costs = ad_costs.merge(new_users, on=['dt', 'channel'], how='left')\n",
    "\n",
    "    # делим рекламные расходы на число привлечённых пользователей\n",
    "    ad_costs['acquisition_cost'] = ad_costs['costs'] / ad_costs['unique_users']\n",
    "\n",
    "    # добавляем стоимость привлечения в профили\n",
    "    profiles = profiles.merge(\n",
    "        ad_costs[['dt', 'channel', 'acquisition_cost']],\n",
    "        on=['dt', 'channel'],\n",
    "        how='left',\n",
    "    )\n",
    "\n",
    "    # стоимость привлечения органических пользователей равна нулю\n",
    "    profiles['acquisition_cost'] = profiles['acquisition_cost'].fillna(0)\n",
    "\n",
    "    return profiles\n"
   ]
  },
  {
   "cell_type": "code",
   "execution_count": null,
   "metadata": {},
   "outputs": [],
   "source": [
    "# функция для расчёта удержания\n",
    "def get_retention(\n",
    "    profiles,\n",
    "    sessions,\n",
    "    observation_date,\n",
    "    horizon_days,\n",
    "    dimensions=[],\n",
    "    ignore_horizon=False,\n",
    "):\n",
    "\n",
    "    # добавляем столбец payer в передаваемый dimensions список\n",
    "    dimensions = ['payer'] + dimensions\n",
    "\n",
    "    # исключаем пользователей, не «доживших» до горизонта анализа\n",
    "    last_suitable_acquisition_date = observation_date\n",
    "    if not ignore_horizon:\n",
    "        last_suitable_acquisition_date = observation_date - timedelta(\n",
    "            days=horizon_days - 1\n",
    "        )\n",
    "    result_raw = profiles.query('dt <= @last_suitable_acquisition_date')\n",
    "\n",
    "    # собираем «сырые» данные для расчёта удержания\n",
    "    result_raw = result_raw.merge(\n",
    "        sessions[['user_id', 'session_start']], on='user_id', how='left'\n",
    "    )\n",
    "    result_raw['lifetime'] = (\n",
    "        result_raw['session_start'] - result_raw['first_ts']\n",
    "    ).dt.days\n",
    "\n",
    "    # функция для группировки таблицы по желаемым признакам\n",
    "    def group_by_dimensions(df, dims, horizon_days):\n",
    "        result = df.pivot_table(\n",
    "            index=dims, columns='lifetime', values='user_id', aggfunc='nunique'\n",
    "        )\n",
    "        cohort_sizes = (\n",
    "            df.groupby(dims)\n",
    "            .agg({'user_id': 'nunique'})\n",
    "            .rename(columns={'user_id': 'cohort_size'})\n",
    "        )\n",
    "        result = cohort_sizes.merge(result, on=dims, how='left').fillna(0)\n",
    "        result = result.div(result['cohort_size'], axis=0)\n",
    "        result = result[['cohort_size'] + list(range(horizon_days))]\n",
    "        result['cohort_size'] = cohort_sizes\n",
    "        return result\n",
    "\n",
    "    # получаем таблицу удержания\n",
    "    result_grouped = group_by_dimensions(result_raw, dimensions, horizon_days)\n",
    "\n",
    "    # получаем таблицу динамики удержания\n",
    "    result_in_time = group_by_dimensions(\n",
    "        result_raw, dimensions + ['dt'], horizon_days\n",
    "    )\n",
    "\n",
    "    # возвращаем обе таблицы и сырые данные\n",
    "    return result_raw, result_grouped, result_in_time"
   ]
  },
  {
   "cell_type": "code",
   "execution_count": null,
   "metadata": {},
   "outputs": [],
   "source": [
    "# функция для расчёта конверсии\n",
    "def get_conversion(\n",
    "    profiles,\n",
    "    purchases,\n",
    "    observation_date,\n",
    "    horizon_days,\n",
    "    dimensions=[],\n",
    "    ignore_horizon=False,\n",
    "):\n",
    "\n",
    "    # исключаем пользователей, не «доживших» до горизонта анализа\n",
    "    last_suitable_acquisition_date = observation_date\n",
    "    if not ignore_horizon:\n",
    "        last_suitable_acquisition_date = observation_date - timedelta(\n",
    "            days=horizon_days - 1\n",
    "        )\n",
    "    result_raw = profiles.query('dt <= @last_suitable_acquisition_date')\n",
    "\n",
    "    # определяем дату и время первой покупки для каждого пользователя\n",
    "    first_purchases = (\n",
    "        purchases.sort_values(by=['user_id', 'event_dt'])\n",
    "        .groupby('user_id')\n",
    "        .agg({'event_dt': 'first'})\n",
    "        .reset_index()\n",
    "    )\n",
    "\n",
    "    # добавляем данные о покупках в профили\n",
    "    result_raw = result_raw.merge(\n",
    "        first_purchases[['user_id', 'event_dt']], on='user_id', how='left'\n",
    "    )\n",
    "\n",
    "    # рассчитываем лайфтайм для каждой покупки\n",
    "    result_raw['lifetime'] = (\n",
    "        result_raw['event_dt'] - result_raw['first_ts']\n",
    "    ).dt.days\n",
    "\n",
    "    # группируем по cohort, если в dimensions ничего нет\n",
    "    if len(dimensions) == 0:\n",
    "        result_raw['cohort'] = 'All users' \n",
    "        dimensions = dimensions + ['cohort']\n",
    "\n",
    "    # функция для группировки таблицы по желаемым признакам\n",
    "    def group_by_dimensions(df, dims, horizon_days):\n",
    "        result = df.pivot_table(\n",
    "            index=dims, columns='lifetime', values='user_id', aggfunc='nunique'\n",
    "        )\n",
    "        result = result.fillna(0).cumsum(axis = 1)\n",
    "        cohort_sizes = (\n",
    "            df.groupby(dims)\n",
    "            .agg({'user_id': 'nunique'})\n",
    "            .rename(columns={'user_id': 'cohort_size'})\n",
    "        )\n",
    "        result = cohort_sizes.merge(result, on=dims, how='left').fillna(0)\n",
    "        # делим каждую «ячейку» в строке на размер когорты\n",
    "        # и получаем conversion rate\n",
    "        result = result.div(result['cohort_size'], axis=0)\n",
    "        result = result[['cohort_size'] + list(range(horizon_days))]\n",
    "        result['cohort_size'] = cohort_sizes\n",
    "        return result\n",
    "\n",
    "    # получаем таблицу конверсии\n",
    "    result_grouped = group_by_dimensions(result_raw, dimensions, horizon_days)\n",
    "\n",
    "    # для таблицы динамики конверсии убираем 'cohort' из dimensions\n",
    "    if 'cohort' in dimensions: \n",
    "        dimensions = []\n",
    "\n",
    "    # получаем таблицу динамики конверсии\n",
    "    result_in_time = group_by_dimensions(\n",
    "        result_raw, dimensions + ['dt'], horizon_days\n",
    "    )\n",
    "\n",
    "    # возвращаем обе таблицы и сырые данные\n",
    "    return result_raw, result_grouped, result_in_time"
   ]
  },
  {
   "cell_type": "code",
   "execution_count": null,
   "metadata": {},
   "outputs": [],
   "source": [
    "# функция для расчёта LTV и ROI\n",
    "\n",
    "def get_ltv(\n",
    "    profiles,\n",
    "    purchases,\n",
    "    observation_date,\n",
    "    horizon_days,\n",
    "    dimensions=[],\n",
    "    ignore_horizon=False,\n",
    "):\n",
    "\n",
    "    # исключаем пользователей, не «доживших» до горизонта анализа\n",
    "    last_suitable_acquisition_date = observation_date\n",
    "    if not ignore_horizon:\n",
    "        last_suitable_acquisition_date = observation_date - timedelta(\n",
    "            days=horizon_days - 1\n",
    "        )\n",
    "    result_raw = profiles.query('dt <= @last_suitable_acquisition_date')\n",
    "    # добавляем данные о покупках в профили\n",
    "    result_raw = result_raw.merge(\n",
    "        purchases[['user_id', 'event_dt', 'revenue']], on='user_id', how='left'\n",
    "    )\n",
    "    # рассчитываем лайфтайм пользователя для каждой покупки\n",
    "    result_raw['lifetime'] = (\n",
    "        result_raw['event_dt'] - result_raw['first_ts']\n",
    "    ).dt.days\n",
    "    # группируем по cohort, если в dimensions ничего нет\n",
    "    if len(dimensions) == 0:\n",
    "        result_raw['cohort'] = 'All users'\n",
    "        dimensions = dimensions + ['cohort']\n",
    "\n",
    "    # функция группировки по желаемым признакам\n",
    "    def group_by_dimensions(df, dims, horizon_days):\n",
    "        # строим «треугольную» таблицу выручки\n",
    "        result = df.pivot_table(\n",
    "            index=dims, columns='lifetime', values='revenue', aggfunc='sum'\n",
    "        )\n",
    "        # находим сумму выручки с накоплением\n",
    "        result = result.fillna(0).cumsum(axis=1)\n",
    "        # вычисляем размеры когорт\n",
    "        cohort_sizes = (\n",
    "            df.groupby(dims)\n",
    "            .agg({'user_id': 'nunique'})\n",
    "            .rename(columns={'user_id': 'cohort_size'})\n",
    "        )\n",
    "        # объединяем размеры когорт и таблицу выручки\n",
    "        result = cohort_sizes.merge(result, on=dims, how='left').fillna(0)\n",
    "        # считаем LTV: делим каждую «ячейку» в строке на размер когорты\n",
    "        result = result.div(result['cohort_size'], axis=0)\n",
    "        # исключаем все лайфтаймы, превышающие горизонт анализа\n",
    "        result = result[['cohort_size'] + list(range(horizon_days))]\n",
    "        # восстанавливаем размеры когорт\n",
    "        result['cohort_size'] = cohort_sizes\n",
    "\n",
    "        # собираем датафрейм с данными пользователей и значениями CAC, \n",
    "        # добавляя параметры из dimensions\n",
    "        cac = df[['user_id', 'acquisition_cost'] + dims].drop_duplicates()\n",
    "\n",
    "        # считаем средний CAC по параметрам из dimensions\n",
    "        cac = (\n",
    "            cac.groupby(dims)\n",
    "            .agg({'acquisition_cost': 'mean'})\n",
    "            .rename(columns={'acquisition_cost': 'cac'})\n",
    "        )\n",
    "\n",
    "        # считаем ROI: делим LTV на CAC\n",
    "        roi = result.div(cac['cac'], axis=0)\n",
    "\n",
    "        # удаляем строки с бесконечным ROI\n",
    "        roi = roi[~roi['cohort_size'].isin([np.inf])]\n",
    "\n",
    "        # восстанавливаем размеры когорт в таблице ROI\n",
    "        roi['cohort_size'] = cohort_sizes\n",
    "\n",
    "        # добавляем CAC в таблицу ROI\n",
    "        roi['cac'] = cac['cac']\n",
    "\n",
    "        # в финальной таблице оставляем размеры когорт, CAC\n",
    "        # и ROI в лайфтаймы, не превышающие горизонт анализа\n",
    "        roi = roi[['cohort_size', 'cac'] + list(range(horizon_days))]\n",
    "\n",
    "        # возвращаем таблицы LTV и ROI\n",
    "        return result, roi\n",
    "\n",
    "    # получаем таблицы LTV и ROI\n",
    "    result_grouped, roi_grouped = group_by_dimensions(\n",
    "        result_raw, dimensions, horizon_days\n",
    "    )\n",
    "\n",
    "    # для таблиц динамики убираем 'cohort' из dimensions\n",
    "    if 'cohort' in dimensions:\n",
    "        dimensions = []\n",
    "\n",
    "    # получаем таблицы динамики LTV и ROI\n",
    "    result_in_time, roi_in_time = group_by_dimensions(\n",
    "        result_raw, dimensions + ['dt'], horizon_days\n",
    "    )\n",
    "\n",
    "    return (\n",
    "        result_raw,  # сырые данные\n",
    "        result_grouped,  # таблица LTV\n",
    "        result_in_time,  # таблица динамики LTV\n",
    "        roi_grouped,  # таблица ROI\n",
    "        roi_in_time,  # таблица динамики ROI\n",
    "    )"
   ]
  },
  {
   "cell_type": "markdown",
   "metadata": {},
   "source": [
    "Сразу также объявим функции для визуализации метрик "
   ]
  },
  {
   "cell_type": "code",
   "execution_count": null,
   "metadata": {},
   "outputs": [],
   "source": [
    "# функция для сглаживания фрейма\n",
    "\n",
    "def filter_data(df, window):\n",
    "    # для каждого столбца применяем скользящее среднее\n",
    "    for column in df.columns.values:\n",
    "        df[column] = df[column].rolling(window).mean() \n",
    "    return df"
   ]
  },
  {
   "cell_type": "code",
   "execution_count": null,
   "metadata": {},
   "outputs": [],
   "source": [
    "# функция для визуализации удержания\n",
    "\n",
    "def plot_retention(retention, retention_history, horizon, window=7):\n",
    "\n",
    "    # задаём размер сетки для графиков\n",
    "    plt.figure(figsize=(15, 10))\n",
    "\n",
    "    # исключаем размеры когорт и удержание первого дня\n",
    "    retention = retention.drop(columns=['cohort_size', 0])\n",
    "    # в таблице динамики оставляем только нужный лайфтайм\n",
    "    retention_history = retention_history.drop(columns=['cohort_size'])[\n",
    "        [horizon - 1]\n",
    "    ]\n",
    "\n",
    "    # если в индексах таблицы удержания только payer,\n",
    "    # добавляем второй признак — cohort\n",
    "    if retention.index.nlevels == 1:\n",
    "        retention['cohort'] = 'All users'\n",
    "        retention = retention.reset_index().set_index(['cohort', 'payer'])\n",
    "\n",
    "    # в таблице графиков — два столбца и две строки, четыре ячейки\n",
    "    # в первой строим кривые удержания платящих пользователей\n",
    "    ax1 = plt.subplot(2, 2, 1)\n",
    "    retention.query('payer == True').droplevel('payer').T.plot(\n",
    "        grid=True, ax=ax1\n",
    "    )\n",
    "    plt.legend()\n",
    "    plt.xlabel('Лайфтайм')\n",
    "    plt.title('Удержание платящих пользователей')\n",
    "\n",
    "    # во второй ячейке строим кривые удержания неплатящих\n",
    "    # вертикальная ось — от графика из первой ячейки\n",
    "    ax2 = plt.subplot(2, 2, 2, sharey=ax1)\n",
    "    retention.query('payer == False').droplevel('payer').T.plot(\n",
    "        grid=True, ax=ax2\n",
    "    )\n",
    "    plt.legend()\n",
    "    plt.xlabel('Лайфтайм')\n",
    "    plt.title('Удержание неплатящих пользователей')\n",
    "\n",
    "    # в третьей ячейке — динамика удержания платящих\n",
    "    ax3 = plt.subplot(2, 2, 3)\n",
    "    # получаем названия столбцов для сводной таблицы\n",
    "    columns = [\n",
    "        name\n",
    "        for name in retention_history.index.names\n",
    "        if name not in ['dt', 'payer']\n",
    "    ]\n",
    "    # фильтруем данные и строим график\n",
    "    filtered_data = retention_history.query('payer == True').pivot_table(\n",
    "        index='dt', columns=columns, values=horizon - 1, aggfunc='mean'\n",
    "    )\n",
    "    filter_data(filtered_data, window).plot(grid=True, ax=ax3)\n",
    "    plt.xlabel('Дата привлечения')\n",
    "    plt.title(\n",
    "        'Динамика удержания платящих пользователей на {}-й день'.format(\n",
    "            horizon\n",
    "        )\n",
    "    )\n",
    "\n",
    "    # в чётвертой ячейке — динамика удержания неплатящих\n",
    "    ax4 = plt.subplot(2, 2, 4, sharey=ax3)\n",
    "    # фильтруем данные и строим график\n",
    "    filtered_data = retention_history.query('payer == False').pivot_table(\n",
    "        index='dt', columns=columns, values=horizon - 1, aggfunc='mean'\n",
    "    )\n",
    "    filter_data(filtered_data, window).plot(grid=True, ax=ax4)\n",
    "    plt.xlabel('Дата привлечения')\n",
    "    plt.title(\n",
    "        'Динамика удержания неплатящих пользователей на {}-й день'.format(\n",
    "            horizon\n",
    "        )\n",
    "    )\n",
    "    \n",
    "    plt.tight_layout()\n",
    "    plt.show()"
   ]
  },
  {
   "cell_type": "code",
   "execution_count": null,
   "metadata": {},
   "outputs": [],
   "source": [
    "# функция для визуализации конверсии\n",
    "\n",
    "def plot_conversion(conversion, conversion_history, horizon, window=7):\n",
    "\n",
    "    # задаём размер сетки для графиков\n",
    "    plt.figure(figsize=(15, 5))\n",
    "\n",
    "    # исключаем размеры когорт\n",
    "    conversion = conversion.drop(columns=['cohort_size'])\n",
    "    # в таблице динамики оставляем только нужный лайфтайм\n",
    "    conversion_history = conversion_history.drop(columns=['cohort_size'])[\n",
    "        [horizon - 1]\n",
    "    ]\n",
    "\n",
    "    # первый график — кривые конверсии\n",
    "    ax1 = plt.subplot(1, 2, 1)\n",
    "    conversion.T.plot(grid=True, ax=ax1)\n",
    "    plt.legend()\n",
    "    plt.xlabel('Лайфтайм')\n",
    "    plt.title('Конверсия пользователей')\n",
    "\n",
    "    # второй график — динамика конверсии\n",
    "    ax2 = plt.subplot(1, 2, 2, sharey=ax1)\n",
    "    columns = [\n",
    "        # столбцами сводной таблицы станут все столбцы индекса, кроме даты\n",
    "        name for name in conversion_history.index.names if name not in ['dt']\n",
    "    ]\n",
    "    filtered_data = conversion_history.pivot_table(\n",
    "        index='dt', columns=columns, values=horizon - 1, aggfunc='mean'\n",
    "    )\n",
    "    filter_data(filtered_data, window).plot(grid=True, ax=ax2)\n",
    "    plt.xlabel('Дата привлечения')\n",
    "    plt.title('Динамика конверсии пользователей на {}-й день'.format(horizon))\n",
    "\n",
    "    plt.tight_layout()\n",
    "    plt.show()"
   ]
  },
  {
   "cell_type": "code",
   "execution_count": null,
   "metadata": {},
   "outputs": [],
   "source": [
    "# функция для визуализации LTV и ROI\n",
    "\n",
    "def plot_ltv_roi(ltv, ltv_history, roi, roi_history, horizon, window=7):\n",
    "\n",
    "    # задаём сетку отрисовки графиков\n",
    "    plt.figure(figsize=(20, 10))\n",
    "\n",
    "    # из таблицы ltv исключаем размеры когорт\n",
    "    ltv = ltv.drop(columns=['cohort_size'])\n",
    "    # в таблице динамики ltv оставляем только нужный лайфтайм\n",
    "    ltv_history = ltv_history.drop(columns=['cohort_size'])[[horizon - 1]]\n",
    "\n",
    "    # стоимость привлечения запишем в отдельный фрейм\n",
    "    cac_history = roi_history[['cac']]\n",
    "\n",
    "    # из таблицы roi исключаем размеры когорт и cac\n",
    "    roi = roi.drop(columns=['cohort_size', 'cac'])\n",
    "    # в таблице динамики roi оставляем только нужный лайфтайм\n",
    "    roi_history = roi_history.drop(columns=['cohort_size', 'cac'])[\n",
    "        [horizon - 1]\n",
    "    ]\n",
    "\n",
    "    # первый график — кривые ltv\n",
    "    ax1 = plt.subplot(2, 3, 1)\n",
    "    ltv.T.plot(grid=True, ax=ax1)\n",
    "    plt.legend()\n",
    "    plt.xlabel('Лайфтайм')\n",
    "    plt.title('LTV')\n",
    "\n",
    "    # второй график — динамика ltv\n",
    "    ax2 = plt.subplot(2, 3, 2, sharey=ax1)\n",
    "    # столбцами сводной таблицы станут все столбцы индекса, кроме даты\n",
    "    columns = [name for name in ltv_history.index.names if name not in ['dt']]\n",
    "    filtered_data = ltv_history.pivot_table(\n",
    "        index='dt', columns=columns, values=horizon - 1, aggfunc='mean'\n",
    "    )\n",
    "    filter_data(filtered_data, window).plot(grid=True, ax=ax2)\n",
    "    plt.xlabel('Дата привлечения')\n",
    "    plt.title('Динамика LTV пользователей на {}-й день'.format(horizon))\n",
    "\n",
    "    # третий график — динамика cac\n",
    "    ax3 = plt.subplot(2, 3, 3, sharey=ax1)\n",
    "    # столбцами сводной таблицы станут все столбцы индекса, кроме даты\n",
    "    columns = [name for name in cac_history.index.names if name not in ['dt']]\n",
    "    filtered_data = cac_history.pivot_table(\n",
    "        index='dt', columns=columns, values='cac', aggfunc='mean'\n",
    "    )\n",
    "    filter_data(filtered_data, window).plot(grid=True, ax=ax3)\n",
    "    plt.xlabel('Дата привлечения')\n",
    "    plt.title('Динамика стоимости привлечения пользователей')\n",
    "\n",
    "    # четвёртый график — кривые roi\n",
    "    ax4 = plt.subplot(2, 3, 4)\n",
    "    roi.T.plot(grid=True, ax=ax4)\n",
    "    plt.axhline(y=1, color='red', linestyle='--', label='Уровень окупаемости')\n",
    "    plt.legend()\n",
    "    plt.xlabel('Лайфтайм')\n",
    "    plt.title('ROI')\n",
    "\n",
    "    # пятый график — динамика roi\n",
    "    ax5 = plt.subplot(2, 3, 5, sharey=ax4)\n",
    "    # столбцами сводной таблицы станут все столбцы индекса, кроме даты\n",
    "    columns = [name for name in roi_history.index.names if name not in ['dt']]\n",
    "    filtered_data = roi_history.pivot_table(\n",
    "        index='dt', columns=columns, values=horizon - 1, aggfunc='mean'\n",
    "    )\n",
    "    filter_data(filtered_data, window).plot(grid=True, ax=ax5)\n",
    "    plt.axhline(y=1, color='red', linestyle='--', label='Уровень окупаемости')\n",
    "    plt.xlabel('Дата привлечения')\n",
    "    plt.title('Динамика ROI пользователей на {}-й день'.format(horizon))\n",
    "\n",
    "    plt.tight_layout()\n",
    "    plt.show()"
   ]
  },
  {
   "cell_type": "markdown",
   "metadata": {},
   "source": [
    "**Вывод по шагу 2:** задали необходимые для дальнейшего анализа функции. Можно приступать к следующему шагу"
   ]
  },
  {
   "cell_type": "markdown",
   "metadata": {},
   "source": [
    "<div class=\"alert alert-success\">\n",
    "<b>👍 Успех:</b> Все функции готовы!\n",
    "</div>"
   ]
  },
  {
   "cell_type": "markdown",
   "metadata": {
    "id": "V-KBT-KMWVwl"
   },
   "source": [
    "### Исследовательский анализ данных\n",
    "\n",
    "- Составьте профили пользователей. Определите минимальную и максимальную даты привлечения пользователей.\n",
    "- Выясните, из каких стран пользователи приходят в приложение и на какую страну приходится больше всего платящих пользователей. Постройте таблицу, отражающую количество пользователей и долю платящих из каждой страны.\n",
    "- Узнайте, какими устройствами пользуются клиенты и какие устройства предпочитают платящие пользователи. Постройте таблицу, отражающую количество пользователей и долю платящих для каждого устройства.\n",
    "- Изучите рекламные источники привлечения и определите каналы, из которых пришло больше всего платящих пользователей. Постройте таблицу, отражающую количество пользователей и долю платящих для каждого канала привлечения.\n",
    "\n",
    "После каждого пункта сформулируйте выводы."
   ]
  },
  {
   "cell_type": "markdown",
   "metadata": {},
   "source": [
    "Составим профили пользователей и определим минимальную и максимальную дату привлечения пользователей. \n"
   ]
  },
  {
   "cell_type": "code",
   "execution_count": null,
   "metadata": {},
   "outputs": [],
   "source": [
    "# получаем профили пользователей\n",
    "profiles = get_profiles(visits, orders, costs)\n",
    "print(profiles.head(5)) "
   ]
  },
  {
   "cell_type": "markdown",
   "metadata": {},
   "source": [
    "Получили профили, теперь высчитываем даты. Время нам не требуется, будем считать по полю dt"
   ]
  },
  {
   "cell_type": "code",
   "execution_count": null,
   "metadata": {},
   "outputs": [],
   "source": [
    "min_analysis_date = profiles['dt'].min()\n",
    "observation_date = profiles['dt'].max() \n",
    "print('Минимальная дата привлечения пользователей', min_analysis_date)\n",
    "print('Максимальная дата привлечения пользователей', observation_date)"
   ]
  },
  {
   "cell_type": "markdown",
   "metadata": {},
   "source": [
    "**Вывод по шагу исследования**: Составили профили пользователей и посчитали минимальную и максимальную даты привлечения пользователя. \n",
    "Минимальная дата привлечения пользователей - 2019-05-01\n",
    "Максимальная дата привлечения пользователей - 2019-10-27 "
   ]
  },
  {
   "cell_type": "markdown",
   "metadata": {},
   "source": [
    "Теперь выясним,  \n",
    "- из каких стран пользователи приходят в приложение \n",
    "- и на какую страну приходится больше всего платящих пользователей. \n",
    "\n",
    "Построим таблицу, отражающую \n",
    "- количество пользователей \n",
    "- и долю платящих из каждой страны.\n",
    "\n",
    "Для начала посмотрим, сколько вообще пользователей у нас есть из каких стран, и сколько платящих пользователей есть в стране."
   ]
  },
  {
   "cell_type": "code",
   "execution_count": null,
   "metadata": {},
   "outputs": [],
   "source": [
    "display(profiles\n",
    "            .groupby(['region'])\n",
    "            .agg({'user_id':'count'})\n",
    "            .sort_values(['user_id'], ascending=False)\n",
    "            .reset_index())\n",
    "\n",
    "display(profiles.query('payer == True')\n",
    "            .groupby(['region'])\n",
    "            .agg({'user_id':'count'})\n",
    "            .sort_values(['user_id'], ascending=False)\n",
    "            .reset_index())"
   ]
  },
  {
   "cell_type": "markdown",
   "metadata": {},
   "source": [
    "Больше всего пользователей в Штатах - 100002 против \"второго места\", UK, где количество пользователей - 17575. Платящих пользователей больше всего тоже в Штатах - что логично для этой количественной метрики, ведь в Штатах общее количество пользователей больше. Однако, это не говорит ничего о доле платящих пользователей, эту метрику нужно подсчитать. Построим таблицу с количеством и долей платящих пользователей. Для этого можно просто взять aggfunction mean, поскольку в поле payer будет значение 1, если пользователь платящий, и 0 - если нет. Соответственно среднее как раз и покажет нам долю платящих пользователей, можно сделать нужную таблицу одной строкой. "
   ]
  },
  {
   "cell_type": "code",
   "execution_count": null,
   "metadata": {},
   "outputs": [],
   "source": [
    "profiles.groupby('region').agg({'user_id': 'nunique', 'payer': ['sum', 'mean']}\n",
    "                              ).sort_values(by=('payer', 'mean'), ascending=False)\n",
    "\n"
   ]
  },
  {
   "cell_type": "markdown",
   "metadata": {},
   "source": [
    "Получается, что и доля платящих пользователей выше в US. Интересные результаты показывает Германия - при относительно небольшом количестве пользователей доля платящих пользователей - 4.11%, что выше, чем у UK и Франции, в которых общее число пользователей выше. \n",
    "Однако, в целом разброс числа пользователей у этих стран не так высок, поэтому какие-либо выводы делать не стоит. \n",
    "\n",
    "**Вывод по шагу**: наибольшее число пользователей, наибольшее число платящих пользователей и самая высокая доля платящих пользователей - в Штатах. Европейские страны имеют более низкие показатели - как по числу пользователей, так и по числу платящих пользователей. "
   ]
  },
  {
   "cell_type": "markdown",
   "metadata": {},
   "source": [
    "\n",
    "Далее изучим, какими устройствами пользуются клиенту, и какие устройства в фаворе у платящихпользователей. Построим таблицу с количеством пользователей и долей платящих для каждого устройства. \n",
    "\n",
    "Как и на прошлом шаге, посмотрим сначала количество пользователей по каждому девайсу в принципе и количество платящих пользователей с их устройствами"
   ]
  },
  {
   "cell_type": "code",
   "execution_count": null,
   "metadata": {},
   "outputs": [],
   "source": [
    "display(profiles\n",
    "            .groupby(['device'])\n",
    "            .agg({'user_id':'count'})\n",
    "            .sort_values(['user_id'], ascending=False)\n",
    "            .reset_index())\n",
    "\n",
    "display(profiles.query('payer == True')\n",
    "            .groupby(['device'])\n",
    "            .agg({'user_id':'count'})\n",
    "            .sort_values(['user_id'], ascending=False)\n",
    "            .reset_index())"
   ]
  },
  {
   "cell_type": "markdown",
   "metadata": {},
   "source": [
    "Больше всего пользователей - владельцы iphone, для платящих пользователей ситуация в целом почти такая же, только Mac немного опережает PC. Изучим долю платящих пользователей и сразу отсортируем данные по ней. Воспользуемся принципом подсчёта с предыдущего шага"
   ]
  },
  {
   "cell_type": "code",
   "execution_count": null,
   "metadata": {},
   "outputs": [],
   "source": [
    "profiles.groupby('device').agg({'user_id': 'nunique', 'payer': ['sum', 'mean']}\n",
    "                              ).sort_values(by=('payer', 'mean'), ascending=False)\n"
   ]
  },
  {
   "cell_type": "markdown",
   "metadata": {},
   "source": [
    "Самую высокую конверсию показывает Mac - 6.36 процента. На втором месте iphone, далее Андроид и ПК закрывает рейтинг с самым низким результатом - почти 5.05 процента. Пользователи ПК предпочитают прокрастинировать бесплатно. \n",
    "\n",
    "**Вывод по шагу**: больше всего пользователей - владельцы iphone, та же ситуация с платящими пользователеями, количественно среди платящих пользователей больше всего владельцев phone. А вот с конверсией ситуация несколько другая: самый большой процент платящих пользователей - владельцы Mac.\n",
    "\n",
    "\n"
   ]
  },
  {
   "cell_type": "markdown",
   "metadata": {},
   "source": [
    "Теперь изучим источники привлечения, нам потребуется \n",
    "- определить каналы, из которых пришло больше всего платящих пользователей\n",
    "- построить таблицу, отражающую количество пользователей и долю платящих для каждого канала привлечения \n",
    "\n",
    "Как и на предыдущих шагах, построим таблицы по каналам и затем построим сводную таблицу, используя aggfunction"
   ]
  },
  {
   "cell_type": "code",
   "execution_count": null,
   "metadata": {},
   "outputs": [],
   "source": [
    "display(profiles\n",
    "            .groupby(['channel'])\n",
    "            .agg({'user_id':'count'})\n",
    "            .sort_values(['user_id'], ascending=False)\n",
    "            .reset_index())\n",
    "\n",
    "display(profiles.query('payer == True')\n",
    "            .groupby(['channel'])\n",
    "            .agg({'user_id':'count'})\n",
    "            .sort_values(['user_id'], ascending=False)\n",
    "            .reset_index())"
   ]
  },
  {
   "cell_type": "markdown",
   "metadata": {},
   "source": [
    "Больше всего пользователей - это канал organic, \"органические\" пользователи, которые пришли сами и которые для нас считаются \"бесплатными\" (но среди них тоже есть платящие пользователи), второе и третье место со значительным отрывом от первого занимают FaceBoom и TipTop. Количество же платящих пользователей наибольшее у FaceBoom, за ним идёт TipTop, и на третьем месте расположился канал  organic. "
   ]
  },
  {
   "cell_type": "code",
   "execution_count": null,
   "metadata": {
    "scrolled": true
   },
   "outputs": [],
   "source": [
    "profiles.groupby('channel').agg({'user_id': 'nunique', 'payer': ['sum', 'mean']}\n",
    "                              ).sort_values(by=('payer', 'mean'), ascending=False)"
   ]
  },
  {
   "cell_type": "markdown",
   "metadata": {},
   "source": [
    "**Вывод по шагу**: количественно больше всего платящих пользователей пришло по каналам FaceBoom, TipTop, organic. Доля платящих пользователей же самая высокая у FaceBoom - 12.2 процента из 29144 пользователей, а вот 2 и 3 места занимают каналы AdNoSense (11.34 процента из 3880 пользователей) и lambdaMediaAds (10.47 процентов из 2149 пользователей). TipTop с небольшим отставанием (9.6 процента) держится на четвёртом месте, а вот канал organic - лидер по количеству пользователей в принципе - держится на последнем месте с результатом в 2 процента конверсии. В 6 раз меньше, чем у лидера, FaceBoom."
   ]
  },
  {
   "cell_type": "markdown",
   "metadata": {},
   "source": [
    "**Общий вывод по этапу**. Провели исследовательский анализ данных - собрали профили пользователей, изучили количество пользователей и конверсию в платежи в разрезе по регионам, по устройствам и по каналам привлечения. Заметили следующее: \n",
    "* по регионам \n",
    "Наибольшее количество пользователей, платящих пользователей и наибольшая доля платящих пользователей - в US \n",
    "* по устройствам \n",
    "Наибольшее количество пользователей и платящих пользователей - владельцы iPhone, а вот наибольшая доля платящих пользователей - среди пользователей Mac. Впрочем, Iphone по данному показателю не сильно отстаёт, речь о десятых долях процентов. \n",
    "* по каналам привлечения\n",
    "Количественно больше всего пользователей - органические. Платящих пользователей больше всего пришло с канала FaceBoom, наибольшая доля платящих пользователей тоже у данного канала. TipTop тоже неплохо себя показывает, доля платящих пользователе1 9.6 процента при относительно большом количестве пользователей. "
   ]
  },
  {
   "cell_type": "markdown",
   "metadata": {},
   "source": [
    "### Маркетинг \n",
    "- Посчитайте общую сумму расходов на маркетинг.\n",
    "- Выясните, как траты распределены по рекламным источникам, то есть сколько денег потратили на каждый источник.\n",
    "- Постройте график с визуализацией динамики изменения расходов во времени по неделям по каждому источнику. Затем на другом графике визуализируйте динамику изменения расходов во времени по месяцам по каждому источнику.\n",
    "- Узнайте, сколько в среднем стоило привлечение одного пользователя (CAC) из каждого источника. Используйте профили пользователей.\n",
    "Напишите промежуточные выводы."
   ]
  },
  {
   "cell_type": "code",
   "execution_count": null,
   "metadata": {},
   "outputs": [],
   "source": [
    "# выведем общую сумму всех расходов, посчитав её по таблице costs\n",
    "display(costs['costs'].sum())"
   ]
  },
  {
   "cell_type": "code",
   "execution_count": null,
   "metadata": {},
   "outputs": [],
   "source": [
    "# кажется, что 11 знак после запятой нетак важен, округлим значение и выведем округлённое \n",
    "print('Общая сумма расходов на маркетинг: ', round(costs['costs'].sum(), 1))"
   ]
  },
  {
   "cell_type": "markdown",
   "metadata": {},
   "source": [
    "**Промежуточный вывод**: Общая сумма на расходы всех рекламных кампаний - 105497.3. Без оценочных суждений, поскольку окупаемость нам ещё предстоит подсчитать.\n",
    "\n",
    "<div class=\"alert alert-success\">\n",
    "<b>👍 Успех:</b> Общая сумма расходов посчитана!\n",
    "</div>\n",
    "\n",
    "Изучим, как распределены расходы на рекламные кампании в разрезе по каналу. "
   ]
  },
  {
   "cell_type": "code",
   "execution_count": null,
   "metadata": {},
   "outputs": [],
   "source": [
    "costs.groupby('channel').agg({'costs': 'sum'}).sort_values(by='costs', ascending=False)"
   ]
  },
  {
   "cell_type": "markdown",
   "metadata": {},
   "source": [
    "Хорошо показавшие себя в плане доли платящих пользователей сети - TipTop и FaceBoom - забрали на себя большую часть рекламного бюджета, половина всего бюджета ушла на TipTop, FaceBopm забрал треть, и остатки распределены по остальным сетям. \n",
    "\n",
    "**Вывод по шагу**: Больше всего потрачено на рекламную кампанию в TipTop (более половины бюджета), на втором месте FaceBoom (примерно треть бюджета), остальные сети делят между собой остаток бюджета. "
   ]
  },
  {
   "cell_type": "markdown",
   "metadata": {},
   "source": [
    "Постройте график с визуализацией динамики изменения расходов во времени по неделям по каждому источнику. Затем на другом графике визуализируйте динамику изменения расходов во времени по месяцам по каждому источнику.\n",
    "\n",
    "Теперь надо построить график с визуализацией динамики изменения расходов во времени по неделям для каждого канала. \n",
    "\n",
    "Для работы с маркетинговыми кампаниями хотелось бы исключить из анализа органических пользователей - это по определению те пользователи, на привлечение которых не было рекламных кампаний, и соответственно расходов на них нет, и нет смысла обрабатывать лишние данные. На всякий случай проверим, не фигурирует ли данный канал (в связи с ошибкой в данных, неправильным пониманием данного канала и прочими возможными причинами) в данных о расходах\n"
   ]
  },
  {
   "cell_type": "code",
   "execution_count": null,
   "metadata": {},
   "outputs": [],
   "source": [
    "costs.query('channel == \"organic\"').head()"
   ]
  },
  {
   "cell_type": "markdown",
   "metadata": {},
   "source": [
    "Всё в порядке, можем исключить эти данные из анализа, чтобы снизить вычислительную нагрузку. "
   ]
  },
  {
   "cell_type": "code",
   "execution_count": null,
   "metadata": {},
   "outputs": [],
   "source": [
    "# фильтруем данные по каналу, чтобы построение отрабатывало быстрее \n",
    "profiles.query('channel != \"organic\"').pivot_table(\n",
    "    index='dt', \n",
    "    columns='channel', \n",
    "    values='acquisition_cost',\n",
    "    aggfunc='sum', \n",
    ").plot(figsize=(15, 5), grid=True)\n",
    "\n",
    "plt.xlabel('Дата'),\n",
    "plt.ylabel('Расходы'),\n",
    "plt.title('Динамика расходов по датам');"
   ]
  },
  {
   "cell_type": "code",
   "execution_count": null,
   "metadata": {},
   "outputs": [],
   "source": [
    "# проверяем, что график тот же без фильтрации \n",
    "profiles.pivot_table(\n",
    "    index='dt', \n",
    "    columns='channel', \n",
    "    values='acquisition_cost',\n",
    "    aggfunc='sum', \n",
    ").plot(figsize=(15, 5), grid=True)\n",
    "\n",
    "plt.xlabel('Дата'),\n",
    "plt.ylabel('Расходы'),\n",
    "plt.title('Динамика расходов по датам');"
   ]
  },
  {
   "cell_type": "code",
   "execution_count": null,
   "metadata": {},
   "outputs": [],
   "source": [
    "# строим по месяцам\n",
    "profiles.query('channel != \"organic\"').pivot_table(\n",
    "    index='month', \n",
    "    columns='channel', \n",
    "    values='acquisition_cost',\n",
    "    aggfunc='sum', \n",
    ").plot(figsize=(15, 5), grid=True)\n",
    "\n",
    "plt.xlabel('Месяц'),\n",
    "plt.ylabel('Расходы'),\n",
    "plt.title('Динамика расходов по месяцам');"
   ]
  },
  {
   "cell_type": "markdown",
   "metadata": {},
   "source": [
    "В рамках предобработки не было добавлено поле week к профилям, сделаем это сейчас для построения графика по неделям "
   ]
  },
  {
   "cell_type": "code",
   "execution_count": null,
   "metadata": {},
   "outputs": [],
   "source": [
    "costs['week'] = costs['dt'].dt.isocalendar().week\n",
    "profiles['week'] = profiles['dt'].dt.isocalendar().week"
   ]
  },
  {
   "cell_type": "code",
   "execution_count": null,
   "metadata": {},
   "outputs": [],
   "source": [
    "# строим по неделям\n",
    "profiles.query('channel != \"organic\"').pivot_table(\n",
    "    index='week', \n",
    "    columns='channel', \n",
    "    values='acquisition_cost',\n",
    "    aggfunc='sum', \n",
    ").plot(figsize=(15, 5), grid=True)\n",
    "\n",
    "plt.xlabel('Неделя'),\n",
    "plt.ylabel('Расходы'),\n",
    "plt.title('Динамика расходов по неделям');"
   ]
  },
  {
   "cell_type": "markdown",
   "metadata": {},
   "source": [
    "Посмотрим ещё на эти графики без учёта самых популярных сетей faceboom и tiptop. Исключим их из выборки, чтобы масштабировать основные сети\n",
    "\n"
   ]
  },
  {
   "cell_type": "code",
   "execution_count": null,
   "metadata": {},
   "outputs": [],
   "source": [
    "# строим по неделям\n",
    "profiles.query('channel != \"organic\" and channel != \"FaceBoom\" and channel != \"TipTop\"').pivot_table(\n",
    "    index='week', \n",
    "    columns='channel', \n",
    "    values='acquisition_cost',\n",
    "    aggfunc='sum', \n",
    ").plot(figsize=(15, 5), grid=True)\n",
    "\n",
    "plt.xlabel('Неделя'),\n",
    "plt.ylabel('Расходы'),\n",
    "plt.title('Динамика расходов по неделям');"
   ]
  },
  {
   "cell_type": "code",
   "execution_count": null,
   "metadata": {},
   "outputs": [],
   "source": [
    "# строим по месяцам\n",
    "profiles.query('channel != \"organic\" and channel != \"FaceBoom\" and channel != \"TipTop\"').pivot_table(\n",
    "    index='month', \n",
    "    columns='channel', \n",
    "    values='acquisition_cost',\n",
    "    aggfunc='sum', \n",
    ").plot(figsize=(15, 5), grid=True)\n",
    "\n",
    "plt.xlabel('Месяц'),\n",
    "plt.ylabel('Расходы'),\n",
    "plt.title('Динамика расходов по месяцам');"
   ]
  },
  {
   "cell_type": "markdown",
   "metadata": {},
   "source": [
    "**Вывод по шагу**: Построили графики трат на рекламные кампании по неделям и месяцам. Для самых популярных сетей - FaceBoom b TipTop видим стабильный рост вложений в течение года, пик примерно в в сентябре-октябре. Интересно, что на TipTop в начале года вкладывались больше, чем в FaceBoom. \n",
    "\n",
    "Что касается менее \"популярных\" сетей, видим, что к июню сократились затраты на сеть AdNonSense (канал, который может похвастаться вторым местом по доле платящих пользователей), зато выросли затраты на WahooNetBanner. \n",
    "\n"
   ]
  },
  {
   "cell_type": "markdown",
   "metadata": {},
   "source": [
    "Далее нам требуется используя профили пользователей, узнать, сколько стоило привлечение одного пользователя из каждого источника. \n",
    "\n"
   ]
  },
  {
   "cell_type": "code",
   "execution_count": null,
   "metadata": {},
   "outputs": [],
   "source": [
    "# посчитаем среднее\n",
    "user_cost_per_channel = (profiles\n",
    "                        .query('channel != \"organic\"')\n",
    "                        .groupby('channel')\n",
    "                        .agg({'acquisition_cost':'mean'})\n",
    "                        .sort_values('acquisition_cost', ascending=False)\n",
    "                        .reset_index()\n",
    "                        .rename(columns={'acquisition_cost': 'acquisition_cost_mean'})\n",
    "                    )\n",
    "user_cost_per_channel"
   ]
  },
  {
   "cell_type": "code",
   "execution_count": null,
   "metadata": {},
   "outputs": [],
   "source": [
    "# на всякий случай также посчитаем и медиану \n",
    "user_cost_per_channel = (profiles\n",
    "                        .query('channel != \"organic\"')\n",
    "                        .groupby('channel')\n",
    "                        .agg({'acquisition_cost':'median'})\n",
    "                        .sort_values('acquisition_cost', ascending=False)\n",
    "                        .reset_index()\n",
    "                        .rename(columns={'acquisition_cost': 'acquisition_cost_median'})\n",
    "                    )\n",
    "user_cost_per_channel"
   ]
  },
  {
   "cell_type": "code",
   "execution_count": null,
   "metadata": {},
   "outputs": [],
   "source": [
    "# выведем и среднее значение, и медиану\n",
    "user_cost_per_channel = (profiles\n",
    "                        .query('channel != \"organic\"')\n",
    "                        .groupby('channel')\n",
    "                        .agg(\n",
    "                            acquisition_cost_mean=('acquisition_cost', 'mean'),\n",
    "                            acquisition_cost_median=('acquisition_cost', 'median')\n",
    "                        )\n",
    "                        .sort_values('acquisition_cost_mean', ascending=False)\n",
    "                        .reset_index()\n",
    "                    )\n",
    "\n",
    "user_cost_per_channel"
   ]
  },
  {
   "cell_type": "markdown",
   "metadata": {},
   "source": [
    "В целом неважно, среднее мы берём или медиану, - топ одинаков - на первом месте расположился с большим отрывом TipTop, далее FaceBoom и AdNonSense. \n",
    "Нужно было найти среднюю стоимость, поэтому будем смотреть на среднее. \n",
    "\n",
    "**Вывод по шагу**: проанализировали стоимость привлечения пользователя по каждому каналу. Самые \"дорогие\" пользователи - из tiptop, второе и третье место - за сетями FaceBoom b AdNonSense. \n",
    "\n",
    "**Общий вывод по разделу**: Оценили общие затраты на рекламу - чуть более 100 тысяч; проанализировали затрату на рекламу по разным каналам, увидели, что половина бюджета потрачена на TipTop, примерно треть - на FaceBoom, остатки потрачены на все остальные сети. Самый \"дорогой\" пользователь - это пользователь с канала TipTop, второе и третье место по стоимости привлечения пользователя - у каналов FaceBoom и AdNonSense. \n",
    "\n",
    "Стоимость привлечения для канала TipTop, на который потрачена половина бюджета, значительно выше, чем для  остальных каналов. Самое дорогое привлечение соответственно - у канала TipTop - почти в 3 раза выше, чем у второго места. FaceBoom и AdNonSense, расположившиеся соответственно на втором и третьем местах, тоже значительно опережают остальные каналы, хотя здесь разница уже не так велика. Похоже, TipTop обходится очень дорого относительно других каналов, но нужно проверить и окупаемость рекламы. "
   ]
  },
  {
   "cell_type": "markdown",
   "metadata": {},
   "source": [
    "### Оцените окупаемость рекламы\n",
    "\n",
    "Используя графики LTV, ROI и CAC, проанализируйте окупаемость рекламы. Считайте, что на календаре 1 ноября 2019 года, а в бизнес-плане заложено, что пользователи должны окупаться не позднее чем через две недели после привлечения. Необходимость включения в анализ органических пользователей определите самостоятельно.\n",
    "\n",
    "- Проанализируйте окупаемость рекламы c помощью графиков LTV и ROI, а также графики динамики LTV, CAC и ROI.\n",
    "- Проверьте конверсию пользователей и динамику её изменения. То же самое сделайте с удержанием пользователей. Постройте и изучите графики конверсии и удержания.\n",
    "- Проанализируйте окупаемость рекламы с разбивкой по устройствам. Постройте графики LTV и ROI, а также графики динамики LTV, CAC и ROI.\n",
    "- Проанализируйте окупаемость рекламы с разбивкой по странам. Постройте графики LTV и ROI, а также графики динамики LTV, CAC и ROI.\n",
    "- Проанализируйте окупаемость рекламы с разбивкой по рекламным каналам. Постройте графики LTV и ROI, а также графики динамики LTV, CAC и ROI.\n",
    "- Ответьте на такие вопросы:\n",
    "    - Окупается ли реклама, направленная на привлечение пользователей в целом?\n",
    "    - Какие устройства, страны и рекламные каналы могут оказывать негативное влияние на окупаемость рекламы?\n",
    "    - Чем могут быть вызваны проблемы окупаемости?\n",
    "\n",
    "Напишите вывод, опишите возможные причины обнаруженных проблем и промежуточные рекомендации для рекламного отдела."
   ]
  },
  {
   "cell_type": "markdown",
   "metadata": {},
   "source": [
    "Начнём с первого пункта, укажем horizon_days в 2 недели, построим графики - нужные функции определены заранее. Как и ранее, органических пользователей учитывать не будем - они для нас бесплатные, на расчёты не влияют, а вот нагрузку на вычислительную систему мы сможем снизить, убрав эти данные из расчёта.\n",
    "\n",
    "Для всех этапов будем использовать созданные ранее функции для подсчёта и визуализации данных\n",
    "#### Общая окупаемость"
   ]
  },
  {
   "cell_type": "code",
   "execution_count": null,
   "metadata": {},
   "outputs": [],
   "source": [
    "horizon_days = 14\n",
    "# считаем LTV и ROI\n",
    "ltv_raw, ltv_grouped, ltv_history, roi_grouped, roi_history = get_ltv(\n",
    "    profiles.query('channel != \"organic\"'), orders, observation_date, horizon_days\n",
    ")\n",
    "\n",
    "# строим графики\n",
    "plot_ltv_roi(ltv_grouped, ltv_history, roi_grouped, roi_history, horizon_days) "
   ]
  },
  {
   "cell_type": "markdown",
   "metadata": {},
   "source": [
    "**Промежуточные выводы по графикам**: \n",
    "- стоимость привлечения пользователей растёт;\n",
    "- ROI меньше единицы на протяжении всего лайфтайма, т.е. прибыли по сути нет, реклама не окупается \n",
    "- реклама окупалась в мае, но щатем, начиная с июня, начинает работать в убыток \n",
    "Дополнительно заметим, что график LTV выглядит корректно, что подтверждает, что момент и горизонт анализа выбран верно\n",
    "\n",
    "<div class=\"alert alert-success\">\n",
    "<b>👍 Успех:</b> Все верно!\n",
    "</div>\n",
    "\n",
    "\n",
    "Далее проверим конверсию - в разреще по каналам, регионам и устройствам\n",
    "#### Конверсия "
   ]
  },
  {
   "cell_type": "markdown",
   "metadata": {},
   "source": [
    "##### Конверсия по регионам"
   ]
  },
  {
   "cell_type": "code",
   "execution_count": null,
   "metadata": {},
   "outputs": [],
   "source": [
    "dimensions = ['region']\n",
    "conversion_raw, conversion_grouped, conversion_history = get_conversion(\n",
    "    profiles.query('channel != \"organic\"'), orders, observation_date, horizon_days, dimensions=dimensions\n",
    ")\n",
    "\n",
    "plot_conversion(conversion_grouped, conversion_history, horizon_days) "
   ]
  },
  {
   "cell_type": "markdown",
   "metadata": {},
   "source": [
    "**Вывод по этапу**: В US значительно выше и конверсия, и динамика конверсии пользователей. Также можно отметить, что в мае очень высокая конверсия была во Франции и достаточно значительная - в Германии и UK, однако после июня показатели сильно падают"
   ]
  },
  {
   "cell_type": "markdown",
   "metadata": {},
   "source": [
    "##### Конверсия по устройствам"
   ]
  },
  {
   "cell_type": "code",
   "execution_count": null,
   "metadata": {},
   "outputs": [],
   "source": [
    "dimensions = ['device']\n",
    "conversion_raw, conversion_grouped, conversion_history = get_conversion(\n",
    "    profiles.query('channel != \"organic\"'), orders, observation_date, horizon_days, dimensions=dimensions\n",
    ")\n",
    "\n",
    "plot_conversion(conversion_grouped, conversion_history, horizon_days) "
   ]
  },
  {
   "cell_type": "markdown",
   "metadata": {},
   "source": [
    "**Вывод по этапу**: Пользователи Mac имеют самую высокую конверсию в среднем. Худшую конверсию с большим отрывом показывает PC, динамика конверсии тоже даёт самые низкие показатели."
   ]
  },
  {
   "cell_type": "markdown",
   "metadata": {},
   "source": [
    "##### Конверсия по каналам\n"
   ]
  },
  {
   "cell_type": "code",
   "execution_count": null,
   "metadata": {},
   "outputs": [],
   "source": [
    "dimensions = ['channel']\n",
    "conversion_raw, conversion_grouped, conversion_history = get_conversion(\n",
    "    profiles.query('channel != \"organic\"'), orders, observation_date, horizon_days, dimensions=dimensions\n",
    ")\n",
    "\n",
    "plot_conversion(conversion_grouped, conversion_history, horizon_days) "
   ]
  },
  {
   "cell_type": "markdown",
   "metadata": {},
   "source": [
    "**Вывод по этапу**: самая высокая конверсия у FaceBoom, но ещё неплохо себя показывает AdNonSense. Такой дорогой с точки зрения вложений в рекламу TipTop тоже находится достаточно высоко в топе, на 4 месте. \n"
   ]
  },
  {
   "cell_type": "markdown",
   "metadata": {},
   "source": [
    "#### Удержание\n",
    "Проанализируем удержание пользователей и динамику его изменения"
   ]
  },
  {
   "cell_type": "markdown",
   "metadata": {},
   "source": [
    "##### Удержание в разрезе по каналам привлечения "
   ]
  },
  {
   "cell_type": "code",
   "execution_count": null,
   "metadata": {},
   "outputs": [],
   "source": [
    "dimensions = ['channel']\n",
    "retention_raw, retention_grouped, retention_history = get_retention(\n",
    "    profiles.query('channel != \"organic\"'), visits, observation_date, horizon_days, dimensions=dimensions\n",
    ")\n",
    "\n",
    "plot_retention(retention_grouped, retention_history, horizon_days)"
   ]
  },
  {
   "cell_type": "markdown",
   "metadata": {},
   "source": [
    "**Вывод по этапу**: \n",
    "- стабильно ниже всех показатели удержания платящих пользователей у FaceBoom\n",
    "- у AdNonSense тоже удержание не на высоте, предпоследнее место в топе \n",
    "- у TipTop ситуация с удержанием получше, наравне со всеми. Однако помним, что в TipTop вкладывают значительно больше денег, чем в остальные сети. \n",
    "- неплатящие пользователи с точки зрения удержания в целом практически одинаковы везде"
   ]
  },
  {
   "cell_type": "markdown",
   "metadata": {},
   "source": [
    "##### Удержание в разрезе по регионам "
   ]
  },
  {
   "cell_type": "code",
   "execution_count": null,
   "metadata": {},
   "outputs": [],
   "source": [
    "dimensions = ['region']\n",
    "retention_raw, retention_grouped, retention_history = get_retention(\n",
    "    profiles.query('channel != \"organic\"'), visits, observation_date, horizon_days, dimensions=dimensions\n",
    ")\n",
    "\n",
    "plot_retention(retention_grouped, retention_history, horizon_days)"
   ]
  },
  {
   "cell_type": "markdown",
   "metadata": {},
   "source": [
    "**Вывод по этапу**: \n",
    "- неплатящие пользователи примерно одинаковы в любых регионах, их графики удержания сильно похожи друг на друга \n",
    "- ситуация для платящих пользователей несколько отличается от ситуации с неплатящими - US показывает себя хуже всех, остальные примерно одинаковы. \n",
    "- зато динамика удержания у платящих пользователей гораздо более сглаженная, ситуация стабильная "
   ]
  },
  {
   "cell_type": "markdown",
   "metadata": {},
   "source": [
    "##### Удержание в разрезе по устройствам"
   ]
  },
  {
   "cell_type": "code",
   "execution_count": null,
   "metadata": {},
   "outputs": [],
   "source": [
    "dimensions = ['device']\n",
    "retention_raw, retention_grouped, retention_history = get_retention(\n",
    "    profiles.query('channel != \"organic\"'), visits, observation_date, horizon_days, dimensions=dimensions\n",
    ")\n",
    "\n",
    "plot_retention(retention_grouped, retention_history, horizon_days)"
   ]
  },
  {
   "cell_type": "markdown",
   "metadata": {},
   "source": [
    "**Вывод по этапу**: \n",
    "- ситуация по неплатящим пользователям в целом примерно одинакова для всех устройств \n",
    "- самое высокое удержание показывает PC - канал с худшей конверсией \n",
    "- в целом здесь графики устройств близки друг к другу, влияние канала на удержание не так уж велико "
   ]
  },
  {
   "cell_type": "markdown",
   "metadata": {},
   "source": [
    "Проанализируем окупаемость рекламы - с разбивкой по уже известным параметрам, - устройствам, регионам и каналам привлечения \n",
    "#### Окупаемость\n",
    "##### Окупаемость в разрезе по устройствам"
   ]
  },
  {
   "cell_type": "code",
   "execution_count": null,
   "metadata": {
    "scrolled": true
   },
   "outputs": [],
   "source": [
    "dimensions = ['device']\n",
    "\n",
    "ltv_raw, ltv_grouped, ltv_history, roi_grouped, roi_history = get_ltv(\n",
    "    profiles.query('channel != \"organic\"'), orders, observation_date, horizon_days, dimensions=dimensions\n",
    ")\n",
    "\n",
    "plot_ltv_roi(\n",
    "    ltv_grouped, ltv_history, roi_grouped, roi_history, horizon_days, window=7\n",
    ") "
   ]
  },
  {
   "cell_type": "markdown",
   "metadata": {},
   "source": [
    "Выводы по этапу: \n",
    "- LTV для разных устройств в целом близки друг к другу, тут выделяется только PC, где LTV заметно ниже\n",
    "- зато стоимость привлечения пользователей ПК ниже, чем для остальных устройств - сюда вкладывались меньше всего \n",
    "- и не смотря на то, что в целом пользователи ПК приносят меньше денег (судя по LTV), но при этом это единственный канал, по которому выходим на окупаемость. \n",
    "\n",
    "Построим графики в разрезе по странам "
   ]
  },
  {
   "cell_type": "markdown",
   "metadata": {},
   "source": [
    "##### Окупаемость в разрезе по регионам"
   ]
  },
  {
   "cell_type": "code",
   "execution_count": null,
   "metadata": {},
   "outputs": [],
   "source": [
    "dimensions = ['region']\n",
    "\n",
    "ltv_raw, ltv_grouped, ltv_history, roi_grouped, roi_history = get_ltv(\n",
    "    profiles.query('channel != \"organic\"'), orders, observation_date, horizon_days, dimensions=dimensions\n",
    ")\n",
    "\n",
    "plot_ltv_roi(\n",
    "    ltv_grouped, ltv_history, roi_grouped, roi_history, horizon_days, window=7\n",
    ") "
   ]
  },
  {
   "cell_type": "markdown",
   "metadata": {},
   "source": [
    "**Выводы по этапу**: \n",
    "- на окупаемость не выходит только регион US \n",
    "- при этом суммарно US приносит больше всех прибыли - это объяснимо, ведь в US в принципе количественно больше пользователей \n",
    "- интересно, что начиная с июня, затраты на рекламу существенно возросли в US и упали в остальных странах \n",
    "- к пятому дню все регионы уже выходят на окупаемость, кроме US \n",
    "\n",
    "<div class=\"alert alert-success\">\n",
    "<b>👍 Успех:</b> Все верно!\n",
    "</div>\n",
    "\n",
    "Посмотрим окупаемость в разрезе по каналам"
   ]
  },
  {
   "cell_type": "markdown",
   "metadata": {},
   "source": [
    "##### Окупаемость в разрезе по каналам"
   ]
  },
  {
   "cell_type": "code",
   "execution_count": null,
   "metadata": {},
   "outputs": [],
   "source": [
    "dimensions = ['channel']\n",
    "\n",
    "ltv_raw, ltv_grouped, ltv_history, roi_grouped, roi_history = get_ltv(\n",
    "    profiles.query('channel != \"organic\"'), orders, observation_date, horizon_days, dimensions=dimensions\n",
    ")\n",
    "\n",
    "plot_ltv_roi(\n",
    "    ltv_grouped, ltv_history, roi_grouped, roi_history, horizon_days, window=21\n",
    ") "
   ]
  },
  {
   "cell_type": "markdown",
   "metadata": {},
   "source": [
    "Потребовалось увеличить сглаживание в 3 раза, чтобы графики было удобнее смотреть. \n",
    "\n",
    "\n",
    "**Выводы по этапу**: \n",
    "- TipTop \"съедает\" почти весь рекламный бюджет, и при этом не окупается, в отличие от большинства каналов\n",
    "- не окупаются каналы TipTop, FaceBoom и AdNonSense, при этом судя по динамике, AdNonSense иногда поднимается выше уровня окупаемости. FaceBoom и TipTop же стабильно ниже уровня окупаемости. "
   ]
  },
  {
   "cell_type": "markdown",
   "metadata": {},
   "source": [
    "Разберёмся с вопросами\n",
    "- Окупается ли реклама, направленная на привлечение пользователей в целом?\n",
    "- Какие устройства, страны и рекламные каналы могут оказывать негативное влияние на окупаемость рекламы?\n",
    "- Чем могут быть вызваны проблемы окупаемости?"
   ]
  },
  {
   "cell_type": "markdown",
   "metadata": {},
   "source": [
    "#### Окупаемость рекламы в целом "
   ]
  },
  {
   "cell_type": "markdown",
   "metadata": {},
   "source": [
    "Как уже отмечали при исследовании общей окупаемости, в целом реклама не окупается. График ROI растёт, но до уровня окупаемости не поднимается. "
   ]
  },
  {
   "cell_type": "markdown",
   "metadata": {},
   "source": [
    "#### Исследование влияния устройств, стран и каналов на окупаемость"
   ]
  },
  {
   "cell_type": "markdown",
   "metadata": {},
   "source": [
    "- самые \"дорогие\" с точки зрения рекламы пользователи - владельцы Mac и Iphone. При этом на окупаемость они не выходят, окупается только канал ПК \n",
    "- при рассмотрении регионов видим, что значительно большие затраты идут на пользователей из US, при этом затраты не окупаются \n",
    "- с точки зрения каналов, самые дорогие из них - TipTop и FaceBoom. Но при этом TipTop, на который потрачено более половины рекламного бюджета, как уже отмечали в рамках исследования стоимостей, не окупается\n",
    "\n",
    "Получается, основные траты идут на те направления, которые не окупаются, это менее заметно по устройствам, но влияние отчётливо видно для каналов и стран. TipTop - самый неокупаемый канал (хотя FaceBoom с его слабым удержанием тоже не очень хорош), US - самый неокупаемый регион."
   ]
  },
  {
   "cell_type": "markdown",
   "metadata": {},
   "source": [
    "#### Возможные причины проблем окупаемости "
   ]
  },
  {
   "cell_type": "markdown",
   "metadata": {},
   "source": [
    "Основная масса пользователей - это пользователи из US, пришедшие из TipTop, пользователи iphone. Получается, основная масса пользователей по сути привлечена убыточными рекламными кампаниями - теми, которые не окупаются, учитывая регион и канал. \n",
    "Возможно, вложения в данные убыточные категории того не стоят. "
   ]
  },
  {
   "cell_type": "markdown",
   "metadata": {},
   "source": [
    "**Общий вывод по разделу**: \n",
    "Проанализировали конверсию, удержание и окупаемость и сделали выводы по самым убыточным категориям. Разобрались с возможными причинами проблем окупаемости и в целом влиянием различных категорий на окупаемость. "
   ]
  },
  {
   "cell_type": "markdown",
   "metadata": {
    "id": "Jn9XBfZCWVwo"
   },
   "source": [
    "### Напишите выводы\n",
    "\n",
    "- Выделите причины неэффективности привлечения пользователей.\n",
    "- Сформулируйте рекомендации для отдела маркетинга."
   ]
  },
  {
   "cell_type": "markdown",
   "metadata": {
    "id": "Y8A6E79yWVwo"
   },
   "source": [
    "**Общий вывод**\n",
    "Загрузили и обработали данные для дальнейшего анализа. Далее провели исследование данных и получили следующие выводы: \n",
    "\n",
    "* US - лидеры по количеству пользователей, как платных, так и бесплатных. Страны Европы тут сильно отстают.\n",
    "* Расходы на рекламу в US значительно выше остальных регионов, но они не окупаются. \n",
    "* В европейских регионах реклама окупается. При этом удержание пользователей в странах Европы выше, хотя конверсия значительно ниже, чем в US. \n",
    "* TipTop забрал более половины рекламного бюджета на привлечение пользователей, при этом TipTop не окупается. \n",
    "* Самую высокую конверсию показал FaceBoom, но удержание при этом для этой сети значительно ниже остальных. \n",
    "* Рекламные расходы в целом не окупаются. \n",
    "\n",
    "Рекомендации для отдела маркетинга: \n",
    "- обратить внимание на регионы Европы, пользователи в них оказываются лояльнее и в целом европейские регионы хорошо себя показывают в плане окупаемости рекламы. Возможно, стоит вложиться в это направление \n",
    "- обратить внимание на пользователей ПК: они показывают лучшее удержание, а вот с конверсией ситуация хуже всех. Реклама на них окупается, возможно, стоит вложиться в ПК пользователей. \n",
    "- стоит сократить расходы на рекламу в TipTop - потрачено на данный канал более половины бюджета, но показатели по нему не так хороши. Средняя конверсия, удержание не так плохо, но это единственный канал, который не окупается. \n",
    "\n",
    "Анализ вложений и окупаемости стоит повторить спустя время, чтобы проверить, как сработали рекомендации, как изменились тенденции и удалось ли вывести рекламу на окупаемость. "
   ]
  }
 ],
 "metadata": {
  "ExecuteTimeLog": [
   {
    "duration": 768,
    "start_time": "2024-12-14T17:17:55.036Z"
   },
   {
    "duration": 742,
    "start_time": "2024-12-14T17:19:30.581Z"
   },
   {
    "duration": 753,
    "start_time": "2024-12-14T17:20:56.385Z"
   },
   {
    "duration": 697,
    "start_time": "2024-12-14T17:22:31.803Z"
   },
   {
    "duration": 681,
    "start_time": "2024-12-14T17:22:58.297Z"
   },
   {
    "duration": 628,
    "start_time": "2024-12-14T17:23:10.965Z"
   },
   {
    "duration": 681,
    "start_time": "2024-12-14T17:25:28.099Z"
   },
   {
    "duration": 38,
    "start_time": "2024-12-14T17:59:27.343Z"
   },
   {
    "duration": 3,
    "start_time": "2024-12-14T18:03:23.611Z"
   },
   {
    "duration": 639,
    "start_time": "2024-12-14T18:03:23.615Z"
   },
   {
    "duration": 23,
    "start_time": "2024-12-14T18:04:48.295Z"
   },
   {
    "duration": 83,
    "start_time": "2024-12-14T18:06:26.281Z"
   },
   {
    "duration": 20,
    "start_time": "2024-12-14T18:06:32.595Z"
   },
   {
    "duration": 20,
    "start_time": "2024-12-14T18:07:03.028Z"
   },
   {
    "duration": 85,
    "start_time": "2024-12-14T18:10:35.196Z"
   },
   {
    "duration": 792,
    "start_time": "2024-12-18T16:10:36.623Z"
   },
   {
    "duration": 1883,
    "start_time": "2024-12-18T16:10:37.417Z"
   },
   {
    "duration": 19,
    "start_time": "2024-12-18T16:10:39.301Z"
   },
   {
    "duration": 68,
    "start_time": "2024-12-18T16:10:39.321Z"
   },
   {
    "duration": 1008,
    "start_time": "2024-12-18T16:22:49.643Z"
   },
   {
    "duration": 2,
    "start_time": "2024-12-18T16:23:55.710Z"
   },
   {
    "duration": 619,
    "start_time": "2024-12-18T16:23:55.714Z"
   },
   {
    "duration": 17,
    "start_time": "2024-12-18T16:23:56.334Z"
   },
   {
    "duration": 77,
    "start_time": "2024-12-18T16:23:56.353Z"
   },
   {
    "duration": 190,
    "start_time": "2024-12-18T16:24:00.690Z"
   },
   {
    "duration": 69,
    "start_time": "2024-12-18T16:24:51.204Z"
   },
   {
    "duration": 110,
    "start_time": "2024-12-18T16:32:08.830Z"
   },
   {
    "duration": 100,
    "start_time": "2024-12-18T16:32:14.336Z"
   },
   {
    "duration": 103,
    "start_time": "2024-12-18T16:32:37.685Z"
   },
   {
    "duration": 70,
    "start_time": "2024-12-18T16:32:42.574Z"
   },
   {
    "duration": 107,
    "start_time": "2024-12-18T16:32:50.082Z"
   },
   {
    "duration": 103,
    "start_time": "2024-12-18T16:32:54.462Z"
   },
   {
    "duration": 99,
    "start_time": "2024-12-18T16:32:58.416Z"
   },
   {
    "duration": 109,
    "start_time": "2024-12-18T16:33:54.130Z"
   },
   {
    "duration": 36,
    "start_time": "2024-12-18T16:35:02.269Z"
   },
   {
    "duration": 33,
    "start_time": "2024-12-18T16:35:07.279Z"
   },
   {
    "duration": 42,
    "start_time": "2024-12-18T16:35:53.612Z"
   },
   {
    "duration": 41,
    "start_time": "2024-12-18T16:37:00.187Z"
   },
   {
    "duration": 7,
    "start_time": "2024-12-18T16:42:49.124Z"
   },
   {
    "duration": 6,
    "start_time": "2024-12-18T16:43:07.434Z"
   },
   {
    "duration": 6,
    "start_time": "2024-12-18T16:43:51.725Z"
   },
   {
    "duration": 9,
    "start_time": "2024-12-18T16:44:06.029Z"
   },
   {
    "duration": 3,
    "start_time": "2024-12-18T16:44:59.689Z"
   },
   {
    "duration": 9,
    "start_time": "2024-12-18T16:45:12.943Z"
   },
   {
    "duration": 5,
    "start_time": "2024-12-18T16:45:36.681Z"
   },
   {
    "duration": 9,
    "start_time": "2024-12-18T16:45:51.218Z"
   },
   {
    "duration": 7,
    "start_time": "2024-12-18T17:23:38.507Z"
   },
   {
    "duration": 3,
    "start_time": "2024-12-18T17:23:46.479Z"
   },
   {
    "duration": 568,
    "start_time": "2024-12-18T17:23:46.485Z"
   },
   {
    "duration": 17,
    "start_time": "2024-12-18T17:23:47.054Z"
   },
   {
    "duration": 81,
    "start_time": "2024-12-18T17:23:47.073Z"
   },
   {
    "duration": 190,
    "start_time": "2024-12-18T17:23:47.156Z"
   },
   {
    "duration": 111,
    "start_time": "2024-12-18T17:23:47.347Z"
   },
   {
    "duration": 40,
    "start_time": "2024-12-18T17:23:47.460Z"
   },
   {
    "duration": 7,
    "start_time": "2024-12-18T17:23:47.501Z"
   },
   {
    "duration": 21,
    "start_time": "2024-12-18T17:23:47.510Z"
   },
   {
    "duration": 32,
    "start_time": "2024-12-18T17:23:47.533Z"
   },
   {
    "duration": 10,
    "start_time": "2024-12-18T17:23:47.566Z"
   },
   {
    "duration": 8,
    "start_time": "2024-12-18T17:23:47.577Z"
   },
   {
    "duration": 8,
    "start_time": "2024-12-18T17:23:47.586Z"
   },
   {
    "duration": 22,
    "start_time": "2024-12-18T17:23:47.595Z"
   },
   {
    "duration": 10,
    "start_time": "2024-12-18T17:23:47.618Z"
   },
   {
    "duration": 7,
    "start_time": "2024-12-18T17:23:50.124Z"
   },
   {
    "duration": 7,
    "start_time": "2024-12-18T17:23:59.586Z"
   },
   {
    "duration": 6,
    "start_time": "2024-12-18T17:27:15.125Z"
   },
   {
    "duration": 6,
    "start_time": "2024-12-18T17:27:33.597Z"
   },
   {
    "duration": 7,
    "start_time": "2024-12-18T17:27:49.916Z"
   },
   {
    "duration": 384,
    "start_time": "2024-12-18T17:28:30.194Z"
   },
   {
    "duration": 3,
    "start_time": "2024-12-18T17:28:43.587Z"
   },
   {
    "duration": 596,
    "start_time": "2024-12-18T17:28:43.592Z"
   },
   {
    "duration": 19,
    "start_time": "2024-12-18T17:28:44.190Z"
   },
   {
    "duration": 65,
    "start_time": "2024-12-18T17:28:44.211Z"
   },
   {
    "duration": 189,
    "start_time": "2024-12-18T17:28:44.279Z"
   },
   {
    "duration": 118,
    "start_time": "2024-12-18T17:28:44.469Z"
   },
   {
    "duration": 59,
    "start_time": "2024-12-18T17:28:44.589Z"
   },
   {
    "duration": 18,
    "start_time": "2024-12-18T17:28:44.650Z"
   },
   {
    "duration": 7,
    "start_time": "2024-12-18T17:28:44.669Z"
   },
   {
    "duration": 7,
    "start_time": "2024-12-18T17:28:44.678Z"
   },
   {
    "duration": 9,
    "start_time": "2024-12-18T17:28:44.686Z"
   },
   {
    "duration": 3,
    "start_time": "2024-12-18T17:28:44.697Z"
   },
   {
    "duration": 8,
    "start_time": "2024-12-18T17:28:44.702Z"
   },
   {
    "duration": 6,
    "start_time": "2024-12-18T17:28:44.713Z"
   },
   {
    "duration": 11,
    "start_time": "2024-12-18T17:28:44.745Z"
   },
   {
    "duration": 404,
    "start_time": "2024-12-18T17:30:24.562Z"
   },
   {
    "duration": 6,
    "start_time": "2024-12-18T17:34:51.830Z"
   },
   {
    "duration": 446,
    "start_time": "2024-12-18T17:34:57.116Z"
   },
   {
    "duration": 3,
    "start_time": "2024-12-18T17:35:01.770Z"
   },
   {
    "duration": 602,
    "start_time": "2024-12-18T17:35:01.774Z"
   },
   {
    "duration": 19,
    "start_time": "2024-12-18T17:35:02.378Z"
   },
   {
    "duration": 72,
    "start_time": "2024-12-18T17:35:02.398Z"
   },
   {
    "duration": 192,
    "start_time": "2024-12-18T17:35:02.472Z"
   },
   {
    "duration": 150,
    "start_time": "2024-12-18T17:35:02.665Z"
   },
   {
    "duration": 45,
    "start_time": "2024-12-18T17:35:02.816Z"
   },
   {
    "duration": 25,
    "start_time": "2024-12-18T17:35:02.862Z"
   },
   {
    "duration": 20,
    "start_time": "2024-12-18T17:35:02.889Z"
   },
   {
    "duration": 18,
    "start_time": "2024-12-18T17:35:02.911Z"
   },
   {
    "duration": 45,
    "start_time": "2024-12-18T17:35:02.930Z"
   },
   {
    "duration": 5,
    "start_time": "2024-12-18T17:35:02.976Z"
   },
   {
    "duration": 47,
    "start_time": "2024-12-18T17:35:02.983Z"
   },
   {
    "duration": 132,
    "start_time": "2024-12-18T17:35:03.032Z"
   },
   {
    "duration": 10,
    "start_time": "2024-12-18T17:35:03.165Z"
   },
   {
    "duration": 401,
    "start_time": "2024-12-18T17:35:08.786Z"
   },
   {
    "duration": 402,
    "start_time": "2024-12-18T17:36:30.371Z"
   },
   {
    "duration": 5,
    "start_time": "2024-12-18T17:38:26.272Z"
   },
   {
    "duration": 5,
    "start_time": "2024-12-18T17:39:15.799Z"
   },
   {
    "duration": 824,
    "start_time": "2024-12-19T16:41:05.975Z"
   },
   {
    "duration": 2066,
    "start_time": "2024-12-19T16:41:06.801Z"
   },
   {
    "duration": 18,
    "start_time": "2024-12-19T16:41:08.868Z"
   },
   {
    "duration": 72,
    "start_time": "2024-12-19T16:41:08.888Z"
   },
   {
    "duration": 211,
    "start_time": "2024-12-19T16:41:08.961Z"
   },
   {
    "duration": 131,
    "start_time": "2024-12-19T16:41:09.173Z"
   },
   {
    "duration": 40,
    "start_time": "2024-12-19T16:41:09.305Z"
   },
   {
    "duration": 7,
    "start_time": "2024-12-19T16:41:09.346Z"
   },
   {
    "duration": 7,
    "start_time": "2024-12-19T16:41:09.354Z"
   },
   {
    "duration": 7,
    "start_time": "2024-12-19T16:41:09.386Z"
   },
   {
    "duration": 12,
    "start_time": "2024-12-19T16:41:09.394Z"
   },
   {
    "duration": 5,
    "start_time": "2024-12-19T16:41:09.407Z"
   },
   {
    "duration": 10,
    "start_time": "2024-12-19T16:41:09.414Z"
   },
   {
    "duration": 11,
    "start_time": "2024-12-19T16:41:09.428Z"
   },
   {
    "duration": 13,
    "start_time": "2024-12-19T16:41:09.442Z"
   },
   {
    "duration": 470,
    "start_time": "2024-12-19T16:41:09.457Z"
   },
   {
    "duration": 5,
    "start_time": "2024-12-19T16:41:09.929Z"
   },
   {
    "duration": 74,
    "start_time": "2024-12-19T16:43:23.058Z"
   },
   {
    "duration": 8,
    "start_time": "2024-12-19T16:43:37.385Z"
   },
   {
    "duration": 19,
    "start_time": "2024-12-19T16:43:44.719Z"
   },
   {
    "duration": 39,
    "start_time": "2024-12-19T16:44:14.833Z"
   },
   {
    "duration": 29,
    "start_time": "2024-12-19T16:45:24.659Z"
   },
   {
    "duration": 41,
    "start_time": "2024-12-19T16:49:35.727Z"
   },
   {
    "duration": 39,
    "start_time": "2024-12-19T16:49:52.181Z"
   },
   {
    "duration": 37,
    "start_time": "2024-12-19T16:50:00.236Z"
   },
   {
    "duration": 37,
    "start_time": "2024-12-19T16:50:20.209Z"
   },
   {
    "duration": 36,
    "start_time": "2024-12-19T16:50:26.092Z"
   },
   {
    "duration": 34,
    "start_time": "2024-12-19T16:50:37.780Z"
   },
   {
    "duration": 40,
    "start_time": "2024-12-19T16:51:33.484Z"
   },
   {
    "duration": 35,
    "start_time": "2024-12-19T16:51:37.404Z"
   },
   {
    "duration": 35,
    "start_time": "2024-12-19T16:55:41.059Z"
   },
   {
    "duration": 59,
    "start_time": "2024-12-19T16:57:19.485Z"
   },
   {
    "duration": 58,
    "start_time": "2024-12-19T16:57:24.484Z"
   },
   {
    "duration": 36,
    "start_time": "2024-12-19T16:57:28.154Z"
   },
   {
    "duration": 36,
    "start_time": "2024-12-19T16:57:40.737Z"
   },
   {
    "duration": 61,
    "start_time": "2024-12-19T16:57:52.705Z"
   },
   {
    "duration": 69,
    "start_time": "2024-12-19T16:58:14.171Z"
   },
   {
    "duration": 155,
    "start_time": "2024-12-19T16:58:21.805Z"
   },
   {
    "duration": 35,
    "start_time": "2024-12-19T16:58:37.101Z"
   },
   {
    "duration": 36,
    "start_time": "2024-12-19T16:59:17.355Z"
   },
   {
    "duration": 28,
    "start_time": "2024-12-19T17:04:22.626Z"
   },
   {
    "duration": 38,
    "start_time": "2024-12-19T17:05:11.542Z"
   },
   {
    "duration": 37,
    "start_time": "2024-12-19T17:08:02.182Z"
   },
   {
    "duration": 33,
    "start_time": "2024-12-19T17:59:02.405Z"
   },
   {
    "duration": 40,
    "start_time": "2024-12-19T18:02:01.824Z"
   },
   {
    "duration": 3,
    "start_time": "2024-12-19T18:16:52.532Z"
   },
   {
    "duration": 4,
    "start_time": "2024-12-19T18:17:16.019Z"
   },
   {
    "duration": 4,
    "start_time": "2024-12-19T18:17:28.035Z"
   },
   {
    "duration": 3,
    "start_time": "2024-12-19T18:18:35.266Z"
   },
   {
    "duration": 10,
    "start_time": "2024-12-19T18:20:51.843Z"
   },
   {
    "duration": 32,
    "start_time": "2024-12-19T18:29:33.982Z"
   },
   {
    "duration": 7,
    "start_time": "2024-12-19T18:30:14.558Z"
   },
   {
    "duration": 7,
    "start_time": "2024-12-19T18:30:29.367Z"
   },
   {
    "duration": 422,
    "start_time": "2024-12-19T18:34:41.244Z"
   },
   {
    "duration": 419,
    "start_time": "2024-12-19T18:35:04.391Z"
   },
   {
    "duration": 442,
    "start_time": "2024-12-19T18:36:08.629Z"
   },
   {
    "duration": 388,
    "start_time": "2024-12-19T18:36:52.545Z"
   },
   {
    "duration": 318,
    "start_time": "2024-12-19T18:37:10.196Z"
   },
   {
    "duration": 301,
    "start_time": "2024-12-19T18:37:36.345Z"
   },
   {
    "duration": 319,
    "start_time": "2024-12-19T18:37:59.446Z"
   },
   {
    "duration": 293,
    "start_time": "2024-12-19T18:39:32.961Z"
   },
   {
    "duration": 286,
    "start_time": "2024-12-19T18:39:56.130Z"
   },
   {
    "duration": 295,
    "start_time": "2024-12-19T18:40:00.361Z"
   },
   {
    "duration": 26,
    "start_time": "2024-12-19T18:40:12.546Z"
   },
   {
    "duration": 50,
    "start_time": "2024-12-19T18:40:41.886Z"
   },
   {
    "duration": 43,
    "start_time": "2024-12-19T18:41:22.275Z"
   },
   {
    "duration": 33,
    "start_time": "2024-12-19T18:44:11.617Z"
   },
   {
    "duration": 280,
    "start_time": "2024-12-19T18:44:14.111Z"
   },
   {
    "duration": 329,
    "start_time": "2024-12-19T18:44:18.810Z"
   },
   {
    "duration": 276,
    "start_time": "2024-12-19T18:44:22.532Z"
   },
   {
    "duration": 31,
    "start_time": "2024-12-19T18:55:17.390Z"
   },
   {
    "duration": 28,
    "start_time": "2024-12-19T18:55:22.850Z"
   },
   {
    "duration": 29,
    "start_time": "2024-12-19T18:56:09.729Z"
   },
   {
    "duration": 33,
    "start_time": "2024-12-19T19:02:15.513Z"
   },
   {
    "duration": 40,
    "start_time": "2024-12-19T19:02:49.384Z"
   },
   {
    "duration": 30,
    "start_time": "2024-12-19T19:03:36.075Z"
   },
   {
    "duration": 4,
    "start_time": "2024-12-19T19:04:12.078Z"
   },
   {
    "duration": 114,
    "start_time": "2024-12-19T19:04:15.246Z"
   },
   {
    "duration": 29,
    "start_time": "2024-12-19T19:04:19.131Z"
   },
   {
    "duration": 37,
    "start_time": "2024-12-19T19:05:48.509Z"
   },
   {
    "duration": 35,
    "start_time": "2024-12-19T19:06:06.961Z"
   },
   {
    "duration": 48,
    "start_time": "2024-12-19T19:06:13.408Z"
   },
   {
    "duration": 31,
    "start_time": "2024-12-19T19:06:38.968Z"
   },
   {
    "duration": 747,
    "start_time": "2024-12-20T17:15:40.583Z"
   },
   {
    "duration": 1894,
    "start_time": "2024-12-20T17:15:41.332Z"
   },
   {
    "duration": 19,
    "start_time": "2024-12-20T17:15:43.227Z"
   },
   {
    "duration": 70,
    "start_time": "2024-12-20T17:15:43.247Z"
   },
   {
    "duration": 217,
    "start_time": "2024-12-20T17:15:43.318Z"
   },
   {
    "duration": 133,
    "start_time": "2024-12-20T17:15:43.536Z"
   },
   {
    "duration": 42,
    "start_time": "2024-12-20T17:15:43.671Z"
   },
   {
    "duration": 6,
    "start_time": "2024-12-20T17:15:43.715Z"
   },
   {
    "duration": 12,
    "start_time": "2024-12-20T17:15:43.722Z"
   },
   {
    "duration": 8,
    "start_time": "2024-12-20T17:15:43.752Z"
   },
   {
    "duration": 8,
    "start_time": "2024-12-20T17:15:43.761Z"
   },
   {
    "duration": 5,
    "start_time": "2024-12-20T17:15:43.771Z"
   },
   {
    "duration": 7,
    "start_time": "2024-12-20T17:15:43.778Z"
   },
   {
    "duration": 5,
    "start_time": "2024-12-20T17:15:43.787Z"
   },
   {
    "duration": 8,
    "start_time": "2024-12-20T17:15:43.794Z"
   },
   {
    "duration": 486,
    "start_time": "2024-12-20T17:15:43.804Z"
   },
   {
    "duration": 4,
    "start_time": "2024-12-20T17:15:44.292Z"
   },
   {
    "duration": 36,
    "start_time": "2024-12-20T17:15:44.298Z"
   },
   {
    "duration": 41,
    "start_time": "2024-12-20T17:15:44.353Z"
   },
   {
    "duration": 27,
    "start_time": "2024-12-20T17:15:44.395Z"
   },
   {
    "duration": 55,
    "start_time": "2024-12-20T17:15:44.424Z"
   },
   {
    "duration": 27,
    "start_time": "2024-12-20T17:15:44.481Z"
   },
   {
    "duration": 47,
    "start_time": "2024-12-20T17:15:44.510Z"
   },
   {
    "duration": 4,
    "start_time": "2024-12-20T17:15:44.558Z"
   },
   {
    "duration": 3,
    "start_time": "2024-12-20T17:15:44.563Z"
   },
   {
    "duration": 14,
    "start_time": "2024-12-20T17:15:44.568Z"
   },
   {
    "duration": 10,
    "start_time": "2024-12-20T17:15:44.583Z"
   },
   {
    "duration": 395,
    "start_time": "2024-12-20T17:15:44.594Z"
   },
   {
    "duration": 356,
    "start_time": "2024-12-20T17:15:44.991Z"
   },
   {
    "duration": 322,
    "start_time": "2024-12-20T17:15:45.349Z"
   },
   {
    "duration": 19,
    "start_time": "2024-12-20T17:15:45.673Z"
   },
   {
    "duration": 268,
    "start_time": "2024-12-20T17:15:45.693Z"
   },
   {
    "duration": 254,
    "start_time": "2024-12-20T17:15:45.962Z"
   },
   {
    "duration": 273,
    "start_time": "2024-12-20T17:15:46.218Z"
   },
   {
    "duration": 28,
    "start_time": "2024-12-20T17:15:46.493Z"
   },
   {
    "duration": 41,
    "start_time": "2024-12-20T17:15:46.522Z"
   },
   {
    "duration": 35,
    "start_time": "2024-12-20T17:15:46.565Z"
   },
   {
    "duration": 70,
    "start_time": "2024-12-20T17:19:17.933Z"
   },
   {
    "duration": 1337,
    "start_time": "2024-12-20T17:19:58.713Z"
   },
   {
    "duration": 1199,
    "start_time": "2024-12-20T17:24:20.966Z"
   },
   {
    "duration": 1503,
    "start_time": "2024-12-20T17:46:28.080Z"
   },
   {
    "duration": 1451,
    "start_time": "2024-12-20T17:46:57.427Z"
   },
   {
    "duration": 1581,
    "start_time": "2024-12-20T17:47:21.218Z"
   },
   {
    "duration": 1424,
    "start_time": "2024-12-20T17:47:27.755Z"
   },
   {
    "duration": 1528,
    "start_time": "2024-12-20T17:47:35.183Z"
   },
   {
    "duration": 1619,
    "start_time": "2024-12-20T18:01:06.679Z"
   },
   {
    "duration": 1914,
    "start_time": "2024-12-20T18:10:06.083Z"
   },
   {
    "duration": 1892,
    "start_time": "2024-12-20T18:10:25.402Z"
   },
   {
    "duration": 669,
    "start_time": "2024-12-20T18:21:54.115Z"
   },
   {
    "duration": 1518,
    "start_time": "2024-12-20T18:24:32.074Z"
   },
   {
    "duration": 1558,
    "start_time": "2024-12-20T18:24:39.283Z"
   },
   {
    "duration": 682,
    "start_time": "2024-12-20T18:25:36.622Z"
   },
   {
    "duration": 698,
    "start_time": "2024-12-20T18:31:33.144Z"
   },
   {
    "duration": 832,
    "start_time": "2024-12-20T18:33:01.170Z"
   },
   {
    "duration": 1278,
    "start_time": "2024-12-20T18:39:03.449Z"
   },
   {
    "duration": 1655,
    "start_time": "2024-12-20T18:42:30.721Z"
   },
   {
    "duration": 1128,
    "start_time": "2024-12-20T18:46:22.404Z"
   },
   {
    "duration": 2,
    "start_time": "2024-12-20T18:55:02.683Z"
   },
   {
    "duration": 2,
    "start_time": "2024-12-20T18:55:05.502Z"
   },
   {
    "duration": 1584,
    "start_time": "2024-12-20T18:58:59.738Z"
   },
   {
    "duration": 71,
    "start_time": "2024-12-20T19:02:25.659Z"
   },
   {
    "duration": 649,
    "start_time": "2024-12-20T21:01:43.307Z"
   },
   {
    "duration": 901,
    "start_time": "2024-12-20T21:01:43.957Z"
   },
   {
    "duration": 18,
    "start_time": "2024-12-20T21:01:44.860Z"
   },
   {
    "duration": 85,
    "start_time": "2024-12-20T21:01:44.880Z"
   },
   {
    "duration": 227,
    "start_time": "2024-12-20T21:01:44.967Z"
   },
   {
    "duration": 133,
    "start_time": "2024-12-20T21:01:45.195Z"
   },
   {
    "duration": 50,
    "start_time": "2024-12-20T21:01:45.330Z"
   },
   {
    "duration": 24,
    "start_time": "2024-12-20T21:01:45.382Z"
   },
   {
    "duration": 49,
    "start_time": "2024-12-20T21:01:45.407Z"
   },
   {
    "duration": 77,
    "start_time": "2024-12-20T21:01:45.458Z"
   },
   {
    "duration": 28,
    "start_time": "2024-12-20T21:01:45.537Z"
   },
   {
    "duration": 16,
    "start_time": "2024-12-20T21:01:45.566Z"
   },
   {
    "duration": 37,
    "start_time": "2024-12-20T21:01:45.584Z"
   },
   {
    "duration": 19,
    "start_time": "2024-12-20T21:01:45.624Z"
   },
   {
    "duration": 59,
    "start_time": "2024-12-20T21:01:45.644Z"
   },
   {
    "duration": 466,
    "start_time": "2024-12-20T21:01:45.705Z"
   },
   {
    "duration": 5,
    "start_time": "2024-12-20T21:01:46.173Z"
   },
   {
    "duration": 53,
    "start_time": "2024-12-20T21:01:46.179Z"
   },
   {
    "duration": 39,
    "start_time": "2024-12-20T21:01:46.234Z"
   },
   {
    "duration": 27,
    "start_time": "2024-12-20T21:01:46.275Z"
   },
   {
    "duration": 36,
    "start_time": "2024-12-20T21:01:46.322Z"
   },
   {
    "duration": 80,
    "start_time": "2024-12-20T21:01:46.359Z"
   },
   {
    "duration": 38,
    "start_time": "2024-12-20T21:01:46.440Z"
   },
   {
    "duration": 4,
    "start_time": "2024-12-20T21:01:46.479Z"
   },
   {
    "duration": 5,
    "start_time": "2024-12-20T21:01:46.485Z"
   },
   {
    "duration": 34,
    "start_time": "2024-12-20T21:01:46.492Z"
   },
   {
    "duration": 16,
    "start_time": "2024-12-20T21:01:46.527Z"
   },
   {
    "duration": 431,
    "start_time": "2024-12-20T21:01:46.545Z"
   },
   {
    "duration": 384,
    "start_time": "2024-12-20T21:01:46.977Z"
   },
   {
    "duration": 349,
    "start_time": "2024-12-20T21:01:47.363Z"
   },
   {
    "duration": 26,
    "start_time": "2024-12-20T21:01:47.713Z"
   },
   {
    "duration": 274,
    "start_time": "2024-12-20T21:01:47.741Z"
   },
   {
    "duration": 272,
    "start_time": "2024-12-20T21:01:48.021Z"
   },
   {
    "duration": 275,
    "start_time": "2024-12-20T21:01:48.296Z"
   },
   {
    "duration": 26,
    "start_time": "2024-12-20T21:01:48.573Z"
   },
   {
    "duration": 41,
    "start_time": "2024-12-20T21:01:48.601Z"
   },
   {
    "duration": 35,
    "start_time": "2024-12-20T21:01:48.644Z"
   },
   {
    "duration": 1362,
    "start_time": "2024-12-20T21:01:48.681Z"
   },
   {
    "duration": 711,
    "start_time": "2024-12-20T21:01:50.044Z"
   },
   {
    "duration": 768,
    "start_time": "2024-12-20T21:01:50.756Z"
   },
   {
    "duration": 848,
    "start_time": "2024-12-20T21:01:51.528Z"
   },
   {
    "duration": 1526,
    "start_time": "2024-12-20T21:01:52.378Z"
   },
   {
    "duration": 1207,
    "start_time": "2024-12-20T21:01:53.905Z"
   },
   {
    "duration": 1149,
    "start_time": "2024-12-20T21:01:55.121Z"
   },
   {
    "duration": 1525,
    "start_time": "2024-12-20T21:01:56.272Z"
   },
   {
    "duration": 1675,
    "start_time": "2024-12-20T21:01:57.799Z"
   },
   {
    "duration": 1931,
    "start_time": "2024-12-20T21:01:59.475Z"
   },
   {
    "duration": 765,
    "start_time": "2024-12-25T19:30:21.370Z"
   },
   {
    "duration": 941,
    "start_time": "2024-12-25T19:30:22.137Z"
   },
   {
    "duration": 19,
    "start_time": "2024-12-25T19:30:23.080Z"
   },
   {
    "duration": 98,
    "start_time": "2024-12-25T19:30:23.100Z"
   },
   {
    "duration": 226,
    "start_time": "2024-12-25T19:30:23.200Z"
   },
   {
    "duration": 135,
    "start_time": "2024-12-25T19:30:23.427Z"
   },
   {
    "duration": 49,
    "start_time": "2024-12-25T19:30:23.563Z"
   },
   {
    "duration": 12,
    "start_time": "2024-12-25T19:30:23.614Z"
   },
   {
    "duration": 6,
    "start_time": "2024-12-25T19:30:23.627Z"
   },
   {
    "duration": 7,
    "start_time": "2024-12-25T19:30:23.653Z"
   },
   {
    "duration": 14,
    "start_time": "2024-12-25T19:30:23.662Z"
   },
   {
    "duration": 29,
    "start_time": "2024-12-25T19:30:23.678Z"
   },
   {
    "duration": 25,
    "start_time": "2024-12-25T19:30:23.708Z"
   },
   {
    "duration": 12,
    "start_time": "2024-12-25T19:30:23.734Z"
   },
   {
    "duration": 11,
    "start_time": "2024-12-25T19:30:23.747Z"
   },
   {
    "duration": 460,
    "start_time": "2024-12-25T19:30:23.760Z"
   },
   {
    "duration": 5,
    "start_time": "2024-12-25T19:30:24.222Z"
   },
   {
    "duration": 49,
    "start_time": "2024-12-25T19:30:24.229Z"
   },
   {
    "duration": 39,
    "start_time": "2024-12-25T19:30:24.280Z"
   },
   {
    "duration": 45,
    "start_time": "2024-12-25T19:30:24.320Z"
   },
   {
    "duration": 47,
    "start_time": "2024-12-25T19:30:24.366Z"
   },
   {
    "duration": 57,
    "start_time": "2024-12-25T19:30:24.415Z"
   },
   {
    "duration": 39,
    "start_time": "2024-12-25T19:30:24.473Z"
   },
   {
    "duration": 4,
    "start_time": "2024-12-25T19:30:24.513Z"
   },
   {
    "duration": 5,
    "start_time": "2024-12-25T19:30:24.518Z"
   },
   {
    "duration": 32,
    "start_time": "2024-12-25T19:30:24.524Z"
   },
   {
    "duration": 12,
    "start_time": "2024-12-25T19:30:24.558Z"
   },
   {
    "duration": 409,
    "start_time": "2024-12-25T19:30:24.573Z"
   },
   {
    "duration": 380,
    "start_time": "2024-12-25T19:30:24.984Z"
   },
   {
    "duration": 350,
    "start_time": "2024-12-25T19:30:25.365Z"
   },
   {
    "duration": 38,
    "start_time": "2024-12-25T19:30:25.716Z"
   },
   {
    "duration": 275,
    "start_time": "2024-12-25T19:30:25.755Z"
   },
   {
    "duration": 266,
    "start_time": "2024-12-25T19:30:26.031Z"
   },
   {
    "duration": 274,
    "start_time": "2024-12-25T19:30:26.298Z"
   },
   {
    "duration": 27,
    "start_time": "2024-12-25T19:30:26.573Z"
   },
   {
    "duration": 28,
    "start_time": "2024-12-25T19:30:26.602Z"
   },
   {
    "duration": 56,
    "start_time": "2024-12-25T19:30:26.632Z"
   },
   {
    "duration": 1415,
    "start_time": "2024-12-25T19:30:26.690Z"
   },
   {
    "duration": 689,
    "start_time": "2024-12-25T19:30:28.106Z"
   },
   {
    "duration": 800,
    "start_time": "2024-12-25T19:30:28.797Z"
   },
   {
    "duration": 836,
    "start_time": "2024-12-25T19:30:29.598Z"
   },
   {
    "duration": 1522,
    "start_time": "2024-12-25T19:30:30.436Z"
   },
   {
    "duration": 1304,
    "start_time": "2024-12-25T19:30:31.960Z"
   },
   {
    "duration": 1248,
    "start_time": "2024-12-25T19:30:33.265Z"
   },
   {
    "duration": 1605,
    "start_time": "2024-12-25T19:30:34.515Z"
   },
   {
    "duration": 1737,
    "start_time": "2024-12-25T19:30:36.122Z"
   }
  ],
  "colab": {
   "provenance": []
  },
  "kernelspec": {
   "display_name": "Python 3 (ipykernel)",
   "language": "python",
   "name": "python3"
  },
  "language_info": {
   "codemirror_mode": {
    "name": "ipython",
    "version": 3
   },
   "file_extension": ".py",
   "mimetype": "text/x-python",
   "name": "python",
   "nbconvert_exporter": "python",
   "pygments_lexer": "ipython3",
   "version": "3.11.9"
  },
  "toc": {
   "base_numbering": 1,
   "nav_menu": {},
   "number_sections": true,
   "sideBar": true,
   "skip_h1_title": true,
   "title_cell": "Table of Contents",
   "title_sidebar": "Contents",
   "toc_cell": false,
   "toc_position": {
    "height": "calc(100% - 180px)",
    "left": "10px",
    "top": "150px",
    "width": "236px"
   },
   "toc_section_display": true,
   "toc_window_display": true
  }
 },
 "nbformat": 4,
 "nbformat_minor": 4
}
