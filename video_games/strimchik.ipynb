{
 "cells": [
  {
   "cell_type": "markdown",
   "metadata": {},
   "source": [
    "Привет, Наталья!\n",
    "\n",
    "Меня зовут Вячеслав Погорелый, и я буду проводить ревью твоего проекта. \n",
    "\n",
    "Предлагаю перейти на \"ты\", если не против)\n",
    "\n",
    "Но если это не удобно - дай знать, и мы перейдем на \"вы\". Моя главная задача — не находить сделанные тобою ошибки, а передать свой опыт и помочь тебе стать аналитиком данных.\n",
    "\n",
    "Я отметил комментарии и замечания разным цветом далее по тексту markdown:\n",
    "\n",
    "---    \n",
    "<div class=\"alert alert-block alert-danger\">\n",
    "    \n",
    "### Ошибка\n",
    "    \n",
    "Критическое замечание, которые следует исправить.\n",
    "</div> \n",
    "    \n",
    "---\n",
    "    \n",
    "<div class=\"alert alert-block alert-warning\">\n",
    "    \n",
    "### Совет\n",
    "    \n",
    "Замечание\\совет на будущее.\n",
    "</div>\n",
    "    \n",
    "---\n",
    "    \n",
    "<div class=\"alert alert-block alert-success\">\n",
    "    \n",
    "### Успех\n",
    "\n",
    "Все здорово"
   ]
  },
  {
   "cell_type": "markdown",
   "metadata": {},
   "source": [
    "# Сборный проект \"Интернет-магазин компьютерных игр\"\n",
    "## Описание проекта\n",
    "Мы работаем в интернет-магазине «Стримчик», который продаёт по всему миру компьютерные игры. Из открытых источников доступны исторические данные о продажах игр, оценки пользователей и экспертов, жанры и платформы (например, Xbox или PlayStation). \n",
    "Нам нужно выявить определяющие успешность игры закономерности. Это позволит сделать ставку на потенциально популярный продукт и спланировать рекламные кампании.  \n",
    "\n",
    "Перед нами данные до 2016 года. Представим, что сейчас декабрь 2016 г., и мы планируем кампанию на 2017-й. Нужно отработать принцип работы с данными. Неважно, прогнозируем ли мы продажи на 2017 год по данным 2016-го или же 2027-й — по данным 2026 года.  \n",
    "\n",
    "В наборе данных попадается аббревиатура ESRB (Entertainment Software Rating Board) — это ассоциация, определяющая возрастной рейтинг компьютерных игр. ESRB оценивает игровой контент и присваивает ему подходящую возрастную категорию, например, «Для взрослых», «Для детей младшего возраста» или «Для подростков».\n",
    "\n"
   ]
  },
  {
   "cell_type": "markdown",
   "metadata": {},
   "source": [
    "Составим план действий:\n",
    "1. [ ] Загрузить и изучить данные\n",
    "1. [ ] Подготовить данные к обработке: \n",
    "    -  [ ] Обработать названия столбцов \n",
    "    -  [ ] Привести типы данных к нужным \n",
    "    -  [ ] Обработать пропуски \n",
    "    -  [ ] Подсчитать суммарные продажи во всех регионах \n",
    "1. [ ] Провести исследовательский анализ данных:\n",
    "    -  [ ] Изучить, сколько игр выпускалось в разные годы, сделать выводы о том, важны ли данные за все периоды\n",
    "    -  [ ] Изучить данные по платформам\n",
    "    -  [ ] Определить актуальный период для дальнейшего анализа \n",
    "    -  [ ] Убрать из учёта данные за прошлые годы \n",
    "    -  [ ] Выбрать несколько потенциально прибыльных платформ, основываясь на данных о том, какие платформы лидируют по продажам, растут или падают \n",
    "    -  [ ] Построить boxplot по всем продажам и в разрезе по платформам \n",
    "    -  [ ] Изучить корреляцию между отзывами и продажами на примере одной платформы\n",
    "    -  [ ] Соотнести выводы об одной платформе с продажами на других платформах\n",
    "    -  [ ] Изучить распределение игр по жанрам \n",
    "1. [ ] Составить портрет типичного пользователя каждого региона: \n",
    "    -  [ ] Изучить самые популярные платформы (топ-5)\n",
    "    -  [ ] Изучить самые популярные жанры (топ-5)\n",
    "    -  [ ] Изучить влияет ли рейтинг ESRB на продажи в отдельном регионе\n",
    "1. [ ] Проверить гипотезы \n",
    "    -  [ ] Средние пользовательские рейтинги платформ Xbox One и PC одинаковые;\n",
    "    -  [ ] Средние пользовательские рейтинги жанров Action и Sports разные.\n",
    "1. [ ] Сформулировать общий вывод "
   ]
  },
  {
   "cell_type": "markdown",
   "metadata": {},
   "source": [
    "<div class=\"alert alert-block alert-success\">\n",
    " \n",
    "### Комментарий ревьюера\n",
    "    \n",
    "#### Успех\n",
    "    \n",
    "Хвалю за вступление в проект. Есть подробное описание и информация о данных.\n",
    "</div "
   ]
  },
  {
   "cell_type": "markdown",
   "metadata": {},
   "source": [
    "### Шаг 1. Загрузка данных "
   ]
  },
  {
   "cell_type": "code",
   "execution_count": 39,
   "metadata": {},
   "outputs": [],
   "source": [
    "# Импорт библиотек \n",
    "import pandas as pd \n",
    "import matplotlib.pyplot as plt\n",
    "import numpy as np\n",
    "import seaborn as sns\n",
    "from scipy import stats as st"
   ]
  },
  {
   "cell_type": "code",
   "execution_count": 40,
   "metadata": {},
   "outputs": [
    {
     "data": {
      "text/html": [
       "<div>\n",
       "<style scoped>\n",
       "    .dataframe tbody tr th:only-of-type {\n",
       "        vertical-align: middle;\n",
       "    }\n",
       "\n",
       "    .dataframe tbody tr th {\n",
       "        vertical-align: top;\n",
       "    }\n",
       "\n",
       "    .dataframe thead th {\n",
       "        text-align: right;\n",
       "    }\n",
       "</style>\n",
       "<table border=\"1\" class=\"dataframe\">\n",
       "  <thead>\n",
       "    <tr style=\"text-align: right;\">\n",
       "      <th></th>\n",
       "      <th>Name</th>\n",
       "      <th>Platform</th>\n",
       "      <th>Year_of_Release</th>\n",
       "      <th>Genre</th>\n",
       "      <th>NA_sales</th>\n",
       "      <th>EU_sales</th>\n",
       "      <th>JP_sales</th>\n",
       "      <th>Other_sales</th>\n",
       "      <th>Critic_Score</th>\n",
       "      <th>User_Score</th>\n",
       "      <th>Rating</th>\n",
       "    </tr>\n",
       "  </thead>\n",
       "  <tbody>\n",
       "    <tr>\n",
       "      <th>0</th>\n",
       "      <td>Wii Sports</td>\n",
       "      <td>Wii</td>\n",
       "      <td>2006.0</td>\n",
       "      <td>Sports</td>\n",
       "      <td>41.36</td>\n",
       "      <td>28.96</td>\n",
       "      <td>3.77</td>\n",
       "      <td>8.45</td>\n",
       "      <td>76.0</td>\n",
       "      <td>8</td>\n",
       "      <td>E</td>\n",
       "    </tr>\n",
       "    <tr>\n",
       "      <th>1</th>\n",
       "      <td>Super Mario Bros.</td>\n",
       "      <td>NES</td>\n",
       "      <td>1985.0</td>\n",
       "      <td>Platform</td>\n",
       "      <td>29.08</td>\n",
       "      <td>3.58</td>\n",
       "      <td>6.81</td>\n",
       "      <td>0.77</td>\n",
       "      <td>NaN</td>\n",
       "      <td>NaN</td>\n",
       "      <td>NaN</td>\n",
       "    </tr>\n",
       "    <tr>\n",
       "      <th>2</th>\n",
       "      <td>Mario Kart Wii</td>\n",
       "      <td>Wii</td>\n",
       "      <td>2008.0</td>\n",
       "      <td>Racing</td>\n",
       "      <td>15.68</td>\n",
       "      <td>12.76</td>\n",
       "      <td>3.79</td>\n",
       "      <td>3.29</td>\n",
       "      <td>82.0</td>\n",
       "      <td>8.3</td>\n",
       "      <td>E</td>\n",
       "    </tr>\n",
       "    <tr>\n",
       "      <th>3</th>\n",
       "      <td>Wii Sports Resort</td>\n",
       "      <td>Wii</td>\n",
       "      <td>2009.0</td>\n",
       "      <td>Sports</td>\n",
       "      <td>15.61</td>\n",
       "      <td>10.93</td>\n",
       "      <td>3.28</td>\n",
       "      <td>2.95</td>\n",
       "      <td>80.0</td>\n",
       "      <td>8</td>\n",
       "      <td>E</td>\n",
       "    </tr>\n",
       "    <tr>\n",
       "      <th>4</th>\n",
       "      <td>Pokemon Red/Pokemon Blue</td>\n",
       "      <td>GB</td>\n",
       "      <td>1996.0</td>\n",
       "      <td>Role-Playing</td>\n",
       "      <td>11.27</td>\n",
       "      <td>8.89</td>\n",
       "      <td>10.22</td>\n",
       "      <td>1.00</td>\n",
       "      <td>NaN</td>\n",
       "      <td>NaN</td>\n",
       "      <td>NaN</td>\n",
       "    </tr>\n",
       "    <tr>\n",
       "      <th>5</th>\n",
       "      <td>Tetris</td>\n",
       "      <td>GB</td>\n",
       "      <td>1989.0</td>\n",
       "      <td>Puzzle</td>\n",
       "      <td>23.20</td>\n",
       "      <td>2.26</td>\n",
       "      <td>4.22</td>\n",
       "      <td>0.58</td>\n",
       "      <td>NaN</td>\n",
       "      <td>NaN</td>\n",
       "      <td>NaN</td>\n",
       "    </tr>\n",
       "    <tr>\n",
       "      <th>6</th>\n",
       "      <td>New Super Mario Bros.</td>\n",
       "      <td>DS</td>\n",
       "      <td>2006.0</td>\n",
       "      <td>Platform</td>\n",
       "      <td>11.28</td>\n",
       "      <td>9.14</td>\n",
       "      <td>6.50</td>\n",
       "      <td>2.88</td>\n",
       "      <td>89.0</td>\n",
       "      <td>8.5</td>\n",
       "      <td>E</td>\n",
       "    </tr>\n",
       "    <tr>\n",
       "      <th>7</th>\n",
       "      <td>Wii Play</td>\n",
       "      <td>Wii</td>\n",
       "      <td>2006.0</td>\n",
       "      <td>Misc</td>\n",
       "      <td>13.96</td>\n",
       "      <td>9.18</td>\n",
       "      <td>2.93</td>\n",
       "      <td>2.84</td>\n",
       "      <td>58.0</td>\n",
       "      <td>6.6</td>\n",
       "      <td>E</td>\n",
       "    </tr>\n",
       "    <tr>\n",
       "      <th>8</th>\n",
       "      <td>New Super Mario Bros. Wii</td>\n",
       "      <td>Wii</td>\n",
       "      <td>2009.0</td>\n",
       "      <td>Platform</td>\n",
       "      <td>14.44</td>\n",
       "      <td>6.94</td>\n",
       "      <td>4.70</td>\n",
       "      <td>2.24</td>\n",
       "      <td>87.0</td>\n",
       "      <td>8.4</td>\n",
       "      <td>E</td>\n",
       "    </tr>\n",
       "    <tr>\n",
       "      <th>9</th>\n",
       "      <td>Duck Hunt</td>\n",
       "      <td>NES</td>\n",
       "      <td>1984.0</td>\n",
       "      <td>Shooter</td>\n",
       "      <td>26.93</td>\n",
       "      <td>0.63</td>\n",
       "      <td>0.28</td>\n",
       "      <td>0.47</td>\n",
       "      <td>NaN</td>\n",
       "      <td>NaN</td>\n",
       "      <td>NaN</td>\n",
       "    </tr>\n",
       "  </tbody>\n",
       "</table>\n",
       "</div>"
      ],
      "text/plain": [
       "                        Name Platform  Year_of_Release         Genre  \\\n",
       "0                 Wii Sports      Wii           2006.0        Sports   \n",
       "1          Super Mario Bros.      NES           1985.0      Platform   \n",
       "2             Mario Kart Wii      Wii           2008.0        Racing   \n",
       "3          Wii Sports Resort      Wii           2009.0        Sports   \n",
       "4   Pokemon Red/Pokemon Blue       GB           1996.0  Role-Playing   \n",
       "5                     Tetris       GB           1989.0        Puzzle   \n",
       "6      New Super Mario Bros.       DS           2006.0      Platform   \n",
       "7                   Wii Play      Wii           2006.0          Misc   \n",
       "8  New Super Mario Bros. Wii      Wii           2009.0      Platform   \n",
       "9                  Duck Hunt      NES           1984.0       Shooter   \n",
       "\n",
       "   NA_sales  EU_sales  JP_sales  Other_sales  Critic_Score User_Score Rating  \n",
       "0     41.36     28.96      3.77         8.45          76.0          8      E  \n",
       "1     29.08      3.58      6.81         0.77           NaN        NaN    NaN  \n",
       "2     15.68     12.76      3.79         3.29          82.0        8.3      E  \n",
       "3     15.61     10.93      3.28         2.95          80.0          8      E  \n",
       "4     11.27      8.89     10.22         1.00           NaN        NaN    NaN  \n",
       "5     23.20      2.26      4.22         0.58           NaN        NaN    NaN  \n",
       "6     11.28      9.14      6.50         2.88          89.0        8.5      E  \n",
       "7     13.96      9.18      2.93         2.84          58.0        6.6      E  \n",
       "8     14.44      6.94      4.70         2.24          87.0        8.4      E  \n",
       "9     26.93      0.63      0.28         0.47           NaN        NaN    NaN  "
      ]
     },
     "metadata": {},
     "output_type": "display_data"
    },
    {
     "name": "stdout",
     "output_type": "stream",
     "text": [
      "<class 'pandas.core.frame.DataFrame'>\n",
      "RangeIndex: 16715 entries, 0 to 16714\n",
      "Data columns (total 11 columns):\n",
      " #   Column           Non-Null Count  Dtype  \n",
      "---  ------           --------------  -----  \n",
      " 0   Name             16713 non-null  object \n",
      " 1   Platform         16715 non-null  object \n",
      " 2   Year_of_Release  16446 non-null  float64\n",
      " 3   Genre            16713 non-null  object \n",
      " 4   NA_sales         16715 non-null  float64\n",
      " 5   EU_sales         16715 non-null  float64\n",
      " 6   JP_sales         16715 non-null  float64\n",
      " 7   Other_sales      16715 non-null  float64\n",
      " 8   Critic_Score     8137 non-null   float64\n",
      " 9   User_Score       10014 non-null  object \n",
      " 10  Rating           9949 non-null   object \n",
      "dtypes: float64(6), object(5)\n",
      "memory usage: 1.4+ MB\n"
     ]
    }
   ],
   "source": [
    "# Загружаю данные в data \n",
    "data = pd.read_csv('/datasets/games.csv')\n",
    "display(data.head(10))\n",
    "data.info()"
   ]
  },
  {
   "cell_type": "markdown",
   "metadata": {},
   "source": [
    "<div class=\"alert alert-block alert-success\">\n",
    " \n",
    "### Комментарий ревьюера\n",
    "    \n",
    "#### Успех\n",
    "    \n",
    "Первичная информация о данных нами получена. Отлично вышло"
   ]
  },
  {
   "cell_type": "markdown",
   "metadata": {},
   "source": [
    "По данным видим следующее: \n",
    "- есть пропуски: \n",
    "    - есть пара пропусков в колонках Name и Genre \n",
    "    - есть некоторое количество пропусков в release year \n",
    "    - довольно много пропусков в колонках critic_score, user_score, rating. \n",
    "- колонки поименованы не совсем в snake_case, стоит привести их к привычному виду \n",
    "- год выпуска заведён как float, стоит привести к целому \n",
    "- critic score имеет тип данных float, а вот user score - object, попробуем тоже привести его к float. Исходя из описания поля, это должно быть корректно - оценка пользователей (максимум 10) "
   ]
  },
  {
   "cell_type": "markdown",
   "metadata": {},
   "source": [
    "### Шаг 2. Подготовка данных к обработке \n",
    "На данном шаге разберёмся с явными дубликатами, именами столбцов, типами данных, постараемся обработать пропуски, если это будет возможно "
   ]
  },
  {
   "cell_type": "code",
   "execution_count": 41,
   "metadata": {},
   "outputs": [
    {
     "data": {
      "text/plain": [
       "Index(['Name', 'Platform', 'Year_of_Release', 'Genre', 'NA_sales', 'EU_sales',\n",
       "       'JP_sales', 'Other_sales', 'Critic_Score', 'User_Score', 'Rating'],\n",
       "      dtype='object')"
      ]
     },
     "execution_count": 41,
     "metadata": {},
     "output_type": "execute_result"
    }
   ],
   "source": [
    "# ещё раз выведу информацию о столбцах \n",
    "data.columns\n"
   ]
  },
  {
   "cell_type": "code",
   "execution_count": 42,
   "metadata": {},
   "outputs": [
    {
     "data": {
      "text/plain": [
       "Index(['name', 'platform', 'year_of_release', 'genre', 'na_sales', 'eu_sales',\n",
       "       'jp_sales', 'other_sales', 'critic_score', 'user_score', 'rating'],\n",
       "      dtype='object')"
      ]
     },
     "metadata": {},
     "output_type": "display_data"
    }
   ],
   "source": [
    "# и сразу всем скопом переведу в lower case\n",
    "data.columns = data.columns.str.lower()\n",
    "# проверяю итог \n",
    "display(data.columns)"
   ]
  },
  {
   "cell_type": "markdown",
   "metadata": {},
   "source": [
    "<div class=\"alert alert-block alert-success\">\n",
    " \n",
    "### Комментарий ревьюера\n",
    "    \n",
    "#### Успех\n",
    "    \n",
    "Тобой использован отличный метод приведения к нижнему регистру. "
   ]
  },
  {
   "cell_type": "markdown",
   "metadata": {},
   "source": [
    "Разбираемся с дубликатами "
   ]
  },
  {
   "cell_type": "code",
   "execution_count": 43,
   "metadata": {},
   "outputs": [
    {
     "name": "stdout",
     "output_type": "stream",
     "text": [
      "0\n"
     ]
    }
   ],
   "source": [
    "print(data.duplicated().sum())"
   ]
  },
  {
   "cell_type": "markdown",
   "metadata": {},
   "source": [
    "Явных дубликатов не найдено, но можно попробовать поискать дублирующиеся строки с одинаковым именем, годом выпуска и платформой. "
   ]
  },
  {
   "cell_type": "code",
   "execution_count": 44,
   "metadata": {},
   "outputs": [
    {
     "data": {
      "text/plain": [
       "2"
      ]
     },
     "metadata": {},
     "output_type": "display_data"
    },
    {
     "data": {
      "text/html": [
       "<div>\n",
       "<style scoped>\n",
       "    .dataframe tbody tr th:only-of-type {\n",
       "        vertical-align: middle;\n",
       "    }\n",
       "\n",
       "    .dataframe tbody tr th {\n",
       "        vertical-align: top;\n",
       "    }\n",
       "\n",
       "    .dataframe thead th {\n",
       "        text-align: right;\n",
       "    }\n",
       "</style>\n",
       "<table border=\"1\" class=\"dataframe\">\n",
       "  <thead>\n",
       "    <tr style=\"text-align: right;\">\n",
       "      <th></th>\n",
       "      <th>name</th>\n",
       "      <th>platform</th>\n",
       "      <th>year_of_release</th>\n",
       "      <th>genre</th>\n",
       "      <th>na_sales</th>\n",
       "      <th>eu_sales</th>\n",
       "      <th>jp_sales</th>\n",
       "      <th>other_sales</th>\n",
       "      <th>critic_score</th>\n",
       "      <th>user_score</th>\n",
       "      <th>rating</th>\n",
       "    </tr>\n",
       "  </thead>\n",
       "  <tbody>\n",
       "    <tr>\n",
       "      <th>14244</th>\n",
       "      <td>NaN</td>\n",
       "      <td>GEN</td>\n",
       "      <td>1993.0</td>\n",
       "      <td>NaN</td>\n",
       "      <td>0.0</td>\n",
       "      <td>0.00</td>\n",
       "      <td>0.03</td>\n",
       "      <td>0.0</td>\n",
       "      <td>NaN</td>\n",
       "      <td>NaN</td>\n",
       "      <td>NaN</td>\n",
       "    </tr>\n",
       "    <tr>\n",
       "      <th>16230</th>\n",
       "      <td>Madden NFL 13</td>\n",
       "      <td>PS3</td>\n",
       "      <td>2012.0</td>\n",
       "      <td>Sports</td>\n",
       "      <td>0.0</td>\n",
       "      <td>0.01</td>\n",
       "      <td>0.00</td>\n",
       "      <td>0.0</td>\n",
       "      <td>83.0</td>\n",
       "      <td>5.5</td>\n",
       "      <td>E</td>\n",
       "    </tr>\n",
       "  </tbody>\n",
       "</table>\n",
       "</div>"
      ],
      "text/plain": [
       "                name platform  year_of_release   genre  na_sales  eu_sales  \\\n",
       "14244            NaN      GEN           1993.0     NaN       0.0      0.00   \n",
       "16230  Madden NFL 13      PS3           2012.0  Sports       0.0      0.01   \n",
       "\n",
       "       jp_sales  other_sales  critic_score user_score rating  \n",
       "14244      0.03          0.0           NaN        NaN    NaN  \n",
       "16230      0.00          0.0          83.0        5.5      E  "
      ]
     },
     "metadata": {},
     "output_type": "display_data"
    }
   ],
   "source": [
    "display(data.duplicated(['name', 'platform', 'year_of_release']).sum())\n",
    "display(data[data.duplicated(['name', 'platform', 'year_of_release'])])"
   ]
  },
  {
   "cell_type": "markdown",
   "metadata": {},
   "source": [
    "Видим 2 дубликата - безымянная игра 1993 года для платформы GEN и игра Madden NFL 13 для PS3 2012 года. \n",
    "Избавимся от этих строк."
   ]
  },
  {
   "cell_type": "code",
   "execution_count": 45,
   "metadata": {},
   "outputs": [
    {
     "data": {
      "text/plain": [
       "0"
      ]
     },
     "metadata": {},
     "output_type": "display_data"
    },
    {
     "name": "stdout",
     "output_type": "stream",
     "text": [
      "<class 'pandas.core.frame.DataFrame'>\n",
      "Int64Index: 16713 entries, 0 to 16714\n",
      "Data columns (total 11 columns):\n",
      " #   Column           Non-Null Count  Dtype  \n",
      "---  ------           --------------  -----  \n",
      " 0   name             16712 non-null  object \n",
      " 1   platform         16713 non-null  object \n",
      " 2   year_of_release  16444 non-null  float64\n",
      " 3   genre            16712 non-null  object \n",
      " 4   na_sales         16713 non-null  float64\n",
      " 5   eu_sales         16713 non-null  float64\n",
      " 6   jp_sales         16713 non-null  float64\n",
      " 7   other_sales      16713 non-null  float64\n",
      " 8   critic_score     8136 non-null   float64\n",
      " 9   user_score       10013 non-null  object \n",
      " 10  rating           9948 non-null   object \n",
      "dtypes: float64(6), object(5)\n",
      "memory usage: 1.5+ MB\n"
     ]
    },
    {
     "data": {
      "text/plain": [
       "None"
      ]
     },
     "metadata": {},
     "output_type": "display_data"
    }
   ],
   "source": [
    "data = data.drop_duplicates(subset = ['name', 'platform', 'year_of_release'])\n",
    "# проверяем количество пропусков после удаления \n",
    "display(data.duplicated(['name', 'platform', 'year_of_release']).sum())\n",
    "display(data.info())"
   ]
  },
  {
   "cell_type": "markdown",
   "metadata": {},
   "source": [
    "<div class=\"alert alert-block alert-success\">\n",
    " \n",
    "### Комментарий ревьюера\n",
    "    \n",
    "#### Успех\n",
    "    \n",
    "На явные дубли посмотрели и избавились от неявных. "
   ]
  },
  {
   "cell_type": "code",
   "execution_count": 46,
   "metadata": {},
   "outputs": [
    {
     "name": "stdout",
     "output_type": "stream",
     "text": [
      "<class 'pandas.core.frame.DataFrame'>\n",
      "Int64Index: 16713 entries, 0 to 16714\n",
      "Data columns (total 11 columns):\n",
      " #   Column           Non-Null Count  Dtype  \n",
      "---  ------           --------------  -----  \n",
      " 0   name             16712 non-null  object \n",
      " 1   platform         16713 non-null  object \n",
      " 2   year_of_release  16444 non-null  Int64  \n",
      " 3   genre            16712 non-null  object \n",
      " 4   na_sales         16713 non-null  float64\n",
      " 5   eu_sales         16713 non-null  float64\n",
      " 6   jp_sales         16713 non-null  float64\n",
      " 7   other_sales      16713 non-null  float64\n",
      " 8   critic_score     8136 non-null   float64\n",
      " 9   user_score       10013 non-null  object \n",
      " 10  rating           9948 non-null   object \n",
      "dtypes: Int64(1), float64(5), object(5)\n",
      "memory usage: 1.5+ MB\n"
     ]
    },
    {
     "data": {
      "text/html": [
       "<div>\n",
       "<style scoped>\n",
       "    .dataframe tbody tr th:only-of-type {\n",
       "        vertical-align: middle;\n",
       "    }\n",
       "\n",
       "    .dataframe tbody tr th {\n",
       "        vertical-align: top;\n",
       "    }\n",
       "\n",
       "    .dataframe thead th {\n",
       "        text-align: right;\n",
       "    }\n",
       "</style>\n",
       "<table border=\"1\" class=\"dataframe\">\n",
       "  <thead>\n",
       "    <tr style=\"text-align: right;\">\n",
       "      <th></th>\n",
       "      <th>name</th>\n",
       "      <th>platform</th>\n",
       "      <th>year_of_release</th>\n",
       "      <th>genre</th>\n",
       "      <th>na_sales</th>\n",
       "      <th>eu_sales</th>\n",
       "      <th>jp_sales</th>\n",
       "      <th>other_sales</th>\n",
       "      <th>critic_score</th>\n",
       "      <th>user_score</th>\n",
       "      <th>rating</th>\n",
       "    </tr>\n",
       "  </thead>\n",
       "  <tbody>\n",
       "    <tr>\n",
       "      <th>0</th>\n",
       "      <td>Wii Sports</td>\n",
       "      <td>Wii</td>\n",
       "      <td>2006</td>\n",
       "      <td>Sports</td>\n",
       "      <td>41.36</td>\n",
       "      <td>28.96</td>\n",
       "      <td>3.77</td>\n",
       "      <td>8.45</td>\n",
       "      <td>76.0</td>\n",
       "      <td>8</td>\n",
       "      <td>E</td>\n",
       "    </tr>\n",
       "    <tr>\n",
       "      <th>1</th>\n",
       "      <td>Super Mario Bros.</td>\n",
       "      <td>NES</td>\n",
       "      <td>1985</td>\n",
       "      <td>Platform</td>\n",
       "      <td>29.08</td>\n",
       "      <td>3.58</td>\n",
       "      <td>6.81</td>\n",
       "      <td>0.77</td>\n",
       "      <td>NaN</td>\n",
       "      <td>NaN</td>\n",
       "      <td>NaN</td>\n",
       "    </tr>\n",
       "    <tr>\n",
       "      <th>2</th>\n",
       "      <td>Mario Kart Wii</td>\n",
       "      <td>Wii</td>\n",
       "      <td>2008</td>\n",
       "      <td>Racing</td>\n",
       "      <td>15.68</td>\n",
       "      <td>12.76</td>\n",
       "      <td>3.79</td>\n",
       "      <td>3.29</td>\n",
       "      <td>82.0</td>\n",
       "      <td>8.3</td>\n",
       "      <td>E</td>\n",
       "    </tr>\n",
       "    <tr>\n",
       "      <th>3</th>\n",
       "      <td>Wii Sports Resort</td>\n",
       "      <td>Wii</td>\n",
       "      <td>2009</td>\n",
       "      <td>Sports</td>\n",
       "      <td>15.61</td>\n",
       "      <td>10.93</td>\n",
       "      <td>3.28</td>\n",
       "      <td>2.95</td>\n",
       "      <td>80.0</td>\n",
       "      <td>8</td>\n",
       "      <td>E</td>\n",
       "    </tr>\n",
       "    <tr>\n",
       "      <th>4</th>\n",
       "      <td>Pokemon Red/Pokemon Blue</td>\n",
       "      <td>GB</td>\n",
       "      <td>1996</td>\n",
       "      <td>Role-Playing</td>\n",
       "      <td>11.27</td>\n",
       "      <td>8.89</td>\n",
       "      <td>10.22</td>\n",
       "      <td>1.00</td>\n",
       "      <td>NaN</td>\n",
       "      <td>NaN</td>\n",
       "      <td>NaN</td>\n",
       "    </tr>\n",
       "  </tbody>\n",
       "</table>\n",
       "</div>"
      ],
      "text/plain": [
       "                       name platform  year_of_release         genre  na_sales  \\\n",
       "0                Wii Sports      Wii             2006        Sports     41.36   \n",
       "1         Super Mario Bros.      NES             1985      Platform     29.08   \n",
       "2            Mario Kart Wii      Wii             2008        Racing     15.68   \n",
       "3         Wii Sports Resort      Wii             2009        Sports     15.61   \n",
       "4  Pokemon Red/Pokemon Blue       GB             1996  Role-Playing     11.27   \n",
       "\n",
       "   eu_sales  jp_sales  other_sales  critic_score user_score rating  \n",
       "0     28.96      3.77         8.45          76.0          8      E  \n",
       "1      3.58      6.81         0.77           NaN        NaN    NaN  \n",
       "2     12.76      3.79         3.29          82.0        8.3      E  \n",
       "3     10.93      3.28         2.95          80.0          8      E  \n",
       "4      8.89     10.22         1.00           NaN        NaN    NaN  "
      ]
     },
     "metadata": {},
     "output_type": "display_data"
    }
   ],
   "source": [
    "# приводим год к целому \n",
    "data['year_of_release'] = data['year_of_release'].astype('Int64')\n",
    "data.info()\n",
    "display(data.head())"
   ]
  },
  {
   "cell_type": "markdown",
   "metadata": {},
   "source": [
    "<div class=\"alert alert-block alert-warning\">\n",
    " \n",
    "### Комментарий ревьюера\n",
    "    \n",
    "#### Успех\n",
    "    \n",
    "Для экономии вычислительной памяти лучше всего перевести в int32"
   ]
  },
  {
   "cell_type": "code",
   "execution_count": 47,
   "metadata": {},
   "outputs": [],
   "source": [
    "# обрабатываем оценку пользователей. Можно было бы попытаться привести её к целому, \n",
    "# но даже по первым пяти строчкам видим, что значение может быть нецелым \n",
    "# data['user_score'] = data['user_score'].astype('float64')"
   ]
  },
  {
   "cell_type": "markdown",
   "metadata": {},
   "source": [
    "При обработке поля user_score получаем ошибку, вызванную тем, что в поле есть значения 'tbd'. Как правило, это to be done, т.е. оценки в данном случае пока ещё нет. Будет разумно заменить такие поля на NaN, а затем снова попробовать преобразовать тип данных. Код, вызвавший ошибку, пока закомментируем "
   ]
  },
  {
   "cell_type": "code",
   "execution_count": 48,
   "metadata": {},
   "outputs": [
    {
     "name": "stdout",
     "output_type": "stream",
     "text": [
      "<class 'pandas.core.frame.DataFrame'>\n",
      "Int64Index: 16713 entries, 0 to 16714\n",
      "Data columns (total 11 columns):\n",
      " #   Column           Non-Null Count  Dtype  \n",
      "---  ------           --------------  -----  \n",
      " 0   name             16712 non-null  object \n",
      " 1   platform         16713 non-null  object \n",
      " 2   year_of_release  16444 non-null  Int64  \n",
      " 3   genre            16712 non-null  object \n",
      " 4   na_sales         16713 non-null  float64\n",
      " 5   eu_sales         16713 non-null  float64\n",
      " 6   jp_sales         16713 non-null  float64\n",
      " 7   other_sales      16713 non-null  float64\n",
      " 8   critic_score     8136 non-null   float64\n",
      " 9   user_score       7589 non-null   float64\n",
      " 10  rating           9948 non-null   object \n",
      "dtypes: Int64(1), float64(6), object(4)\n",
      "memory usage: 1.5+ MB\n"
     ]
    },
    {
     "data": {
      "text/html": [
       "<div>\n",
       "<style scoped>\n",
       "    .dataframe tbody tr th:only-of-type {\n",
       "        vertical-align: middle;\n",
       "    }\n",
       "\n",
       "    .dataframe tbody tr th {\n",
       "        vertical-align: top;\n",
       "    }\n",
       "\n",
       "    .dataframe thead th {\n",
       "        text-align: right;\n",
       "    }\n",
       "</style>\n",
       "<table border=\"1\" class=\"dataframe\">\n",
       "  <thead>\n",
       "    <tr style=\"text-align: right;\">\n",
       "      <th></th>\n",
       "      <th>name</th>\n",
       "      <th>platform</th>\n",
       "      <th>year_of_release</th>\n",
       "      <th>genre</th>\n",
       "      <th>na_sales</th>\n",
       "      <th>eu_sales</th>\n",
       "      <th>jp_sales</th>\n",
       "      <th>other_sales</th>\n",
       "      <th>critic_score</th>\n",
       "      <th>user_score</th>\n",
       "      <th>rating</th>\n",
       "    </tr>\n",
       "  </thead>\n",
       "  <tbody>\n",
       "    <tr>\n",
       "      <th>0</th>\n",
       "      <td>Wii Sports</td>\n",
       "      <td>Wii</td>\n",
       "      <td>2006</td>\n",
       "      <td>Sports</td>\n",
       "      <td>41.36</td>\n",
       "      <td>28.96</td>\n",
       "      <td>3.77</td>\n",
       "      <td>8.45</td>\n",
       "      <td>76.0</td>\n",
       "      <td>8.0</td>\n",
       "      <td>E</td>\n",
       "    </tr>\n",
       "    <tr>\n",
       "      <th>1</th>\n",
       "      <td>Super Mario Bros.</td>\n",
       "      <td>NES</td>\n",
       "      <td>1985</td>\n",
       "      <td>Platform</td>\n",
       "      <td>29.08</td>\n",
       "      <td>3.58</td>\n",
       "      <td>6.81</td>\n",
       "      <td>0.77</td>\n",
       "      <td>NaN</td>\n",
       "      <td>NaN</td>\n",
       "      <td>NaN</td>\n",
       "    </tr>\n",
       "    <tr>\n",
       "      <th>2</th>\n",
       "      <td>Mario Kart Wii</td>\n",
       "      <td>Wii</td>\n",
       "      <td>2008</td>\n",
       "      <td>Racing</td>\n",
       "      <td>15.68</td>\n",
       "      <td>12.76</td>\n",
       "      <td>3.79</td>\n",
       "      <td>3.29</td>\n",
       "      <td>82.0</td>\n",
       "      <td>8.3</td>\n",
       "      <td>E</td>\n",
       "    </tr>\n",
       "    <tr>\n",
       "      <th>3</th>\n",
       "      <td>Wii Sports Resort</td>\n",
       "      <td>Wii</td>\n",
       "      <td>2009</td>\n",
       "      <td>Sports</td>\n",
       "      <td>15.61</td>\n",
       "      <td>10.93</td>\n",
       "      <td>3.28</td>\n",
       "      <td>2.95</td>\n",
       "      <td>80.0</td>\n",
       "      <td>8.0</td>\n",
       "      <td>E</td>\n",
       "    </tr>\n",
       "    <tr>\n",
       "      <th>4</th>\n",
       "      <td>Pokemon Red/Pokemon Blue</td>\n",
       "      <td>GB</td>\n",
       "      <td>1996</td>\n",
       "      <td>Role-Playing</td>\n",
       "      <td>11.27</td>\n",
       "      <td>8.89</td>\n",
       "      <td>10.22</td>\n",
       "      <td>1.00</td>\n",
       "      <td>NaN</td>\n",
       "      <td>NaN</td>\n",
       "      <td>NaN</td>\n",
       "    </tr>\n",
       "  </tbody>\n",
       "</table>\n",
       "</div>"
      ],
      "text/plain": [
       "                       name platform  year_of_release         genre  na_sales  \\\n",
       "0                Wii Sports      Wii             2006        Sports     41.36   \n",
       "1         Super Mario Bros.      NES             1985      Platform     29.08   \n",
       "2            Mario Kart Wii      Wii             2008        Racing     15.68   \n",
       "3         Wii Sports Resort      Wii             2009        Sports     15.61   \n",
       "4  Pokemon Red/Pokemon Blue       GB             1996  Role-Playing     11.27   \n",
       "\n",
       "   eu_sales  jp_sales  other_sales  critic_score  user_score rating  \n",
       "0     28.96      3.77         8.45          76.0         8.0      E  \n",
       "1      3.58      6.81         0.77           NaN         NaN    NaN  \n",
       "2     12.76      3.79         3.29          82.0         8.3      E  \n",
       "3     10.93      3.28         2.95          80.0         8.0      E  \n",
       "4      8.89     10.22         1.00           NaN         NaN    NaN  "
      ]
     },
     "metadata": {},
     "output_type": "display_data"
    }
   ],
   "source": [
    "data['user_score'] = data['user_score'].replace('tbd', np.NaN)\n",
    "# снова пробуем преобразование \n",
    "data['user_score'] = data['user_score'].astype('float64')\n",
    "# выведем информацию о таблице и первые 5 строк \n",
    "data.info() \n",
    "display(data.head(5))"
   ]
  },
  {
   "cell_type": "markdown",
   "metadata": {},
   "source": [
    "Изучим пропуски. Начнём со строчки с пустым именем и перейдём к обработке остальных пропусков "
   ]
  },
  {
   "cell_type": "code",
   "execution_count": 49,
   "metadata": {},
   "outputs": [
    {
     "data": {
      "text/html": [
       "<div>\n",
       "<style scoped>\n",
       "    .dataframe tbody tr th:only-of-type {\n",
       "        vertical-align: middle;\n",
       "    }\n",
       "\n",
       "    .dataframe tbody tr th {\n",
       "        vertical-align: top;\n",
       "    }\n",
       "\n",
       "    .dataframe thead th {\n",
       "        text-align: right;\n",
       "    }\n",
       "</style>\n",
       "<table border=\"1\" class=\"dataframe\">\n",
       "  <thead>\n",
       "    <tr style=\"text-align: right;\">\n",
       "      <th></th>\n",
       "      <th>name</th>\n",
       "      <th>platform</th>\n",
       "      <th>year_of_release</th>\n",
       "      <th>genre</th>\n",
       "      <th>na_sales</th>\n",
       "      <th>eu_sales</th>\n",
       "      <th>jp_sales</th>\n",
       "      <th>other_sales</th>\n",
       "      <th>critic_score</th>\n",
       "      <th>user_score</th>\n",
       "      <th>rating</th>\n",
       "    </tr>\n",
       "  </thead>\n",
       "  <tbody>\n",
       "    <tr>\n",
       "      <th>659</th>\n",
       "      <td>NaN</td>\n",
       "      <td>GEN</td>\n",
       "      <td>1993</td>\n",
       "      <td>NaN</td>\n",
       "      <td>1.78</td>\n",
       "      <td>0.53</td>\n",
       "      <td>0.0</td>\n",
       "      <td>0.08</td>\n",
       "      <td>NaN</td>\n",
       "      <td>NaN</td>\n",
       "      <td>NaN</td>\n",
       "    </tr>\n",
       "  </tbody>\n",
       "</table>\n",
       "</div>"
      ],
      "text/plain": [
       "    name platform  year_of_release genre  na_sales  eu_sales  jp_sales  \\\n",
       "659  NaN      GEN             1993   NaN      1.78      0.53       0.0   \n",
       "\n",
       "     other_sales  critic_score  user_score rating  \n",
       "659         0.08           NaN         NaN    NaN  "
      ]
     },
     "metadata": {},
     "output_type": "display_data"
    }
   ],
   "source": [
    "display(data[data['name'].isna()])"
   ]
  },
  {
   "cell_type": "markdown",
   "metadata": {},
   "source": [
    "<div class=\"alert alert-block alert-warning\">\n",
    " \n",
    "### Комментарий ревьюера\n",
    "    \n",
    "#### Совет\n",
    "    \n",
    "Для вывода результата необязательно использовать команду diplay() Поскольку код находится в единственной ячейке, то вывод сработает и без нее. "
   ]
  },
  {
   "cell_type": "markdown",
   "metadata": {},
   "source": [
    "Для этой игры в целом довольно мало что заполнено, такая строчка мало что может нам дать. Удалим её "
   ]
  },
  {
   "cell_type": "code",
   "execution_count": 50,
   "metadata": {},
   "outputs": [
    {
     "name": "stdout",
     "output_type": "stream",
     "text": [
      "<class 'pandas.core.frame.DataFrame'>\n",
      "Int64Index: 16712 entries, 0 to 16714\n",
      "Data columns (total 11 columns):\n",
      " #   Column           Non-Null Count  Dtype  \n",
      "---  ------           --------------  -----  \n",
      " 0   name             16712 non-null  object \n",
      " 1   platform         16712 non-null  object \n",
      " 2   year_of_release  16443 non-null  Int64  \n",
      " 3   genre            16712 non-null  object \n",
      " 4   na_sales         16712 non-null  float64\n",
      " 5   eu_sales         16712 non-null  float64\n",
      " 6   jp_sales         16712 non-null  float64\n",
      " 7   other_sales      16712 non-null  float64\n",
      " 8   critic_score     8136 non-null   float64\n",
      " 9   user_score       7589 non-null   float64\n",
      " 10  rating           9948 non-null   object \n",
      "dtypes: Int64(1), float64(6), object(4)\n",
      "memory usage: 1.5+ MB\n"
     ]
    }
   ],
   "source": [
    "data.drop([659],inplace=True)\n",
    "data.info()"
   ]
  },
  {
   "cell_type": "markdown",
   "metadata": {},
   "source": [
    "С пропусками в имени разобрались, заодно и убрали пропуск в жанре - проблема была в одной и той же строчке. Пропуски остались в полях \n",
    "- год выпуска\n",
    "- оценка критиков\n",
    "- оценка пользователей\n",
    "- рейтинг   \n",
    "\n",
    "Перейдём к ним"
   ]
  },
  {
   "cell_type": "code",
   "execution_count": 51,
   "metadata": {},
   "outputs": [
    {
     "data": {
      "text/html": [
       "<div>\n",
       "<style scoped>\n",
       "    .dataframe tbody tr th:only-of-type {\n",
       "        vertical-align: middle;\n",
       "    }\n",
       "\n",
       "    .dataframe tbody tr th {\n",
       "        vertical-align: top;\n",
       "    }\n",
       "\n",
       "    .dataframe thead th {\n",
       "        text-align: right;\n",
       "    }\n",
       "</style>\n",
       "<table border=\"1\" class=\"dataframe\">\n",
       "  <thead>\n",
       "    <tr style=\"text-align: right;\">\n",
       "      <th></th>\n",
       "      <th>name</th>\n",
       "      <th>platform</th>\n",
       "      <th>year_of_release</th>\n",
       "      <th>genre</th>\n",
       "      <th>na_sales</th>\n",
       "      <th>eu_sales</th>\n",
       "      <th>jp_sales</th>\n",
       "      <th>other_sales</th>\n",
       "      <th>critic_score</th>\n",
       "      <th>user_score</th>\n",
       "      <th>rating</th>\n",
       "    </tr>\n",
       "  </thead>\n",
       "  <tbody>\n",
       "    <tr>\n",
       "      <th>183</th>\n",
       "      <td>Madden NFL 2004</td>\n",
       "      <td>PS2</td>\n",
       "      <td>&lt;NA&gt;</td>\n",
       "      <td>Sports</td>\n",
       "      <td>4.26</td>\n",
       "      <td>0.26</td>\n",
       "      <td>0.01</td>\n",
       "      <td>0.71</td>\n",
       "      <td>94.0</td>\n",
       "      <td>8.5</td>\n",
       "      <td>E</td>\n",
       "    </tr>\n",
       "    <tr>\n",
       "      <th>377</th>\n",
       "      <td>FIFA Soccer 2004</td>\n",
       "      <td>PS2</td>\n",
       "      <td>&lt;NA&gt;</td>\n",
       "      <td>Sports</td>\n",
       "      <td>0.59</td>\n",
       "      <td>2.36</td>\n",
       "      <td>0.04</td>\n",
       "      <td>0.51</td>\n",
       "      <td>84.0</td>\n",
       "      <td>6.4</td>\n",
       "      <td>E</td>\n",
       "    </tr>\n",
       "    <tr>\n",
       "      <th>456</th>\n",
       "      <td>LEGO Batman: The Videogame</td>\n",
       "      <td>Wii</td>\n",
       "      <td>&lt;NA&gt;</td>\n",
       "      <td>Action</td>\n",
       "      <td>1.80</td>\n",
       "      <td>0.97</td>\n",
       "      <td>0.00</td>\n",
       "      <td>0.29</td>\n",
       "      <td>74.0</td>\n",
       "      <td>7.9</td>\n",
       "      <td>E10+</td>\n",
       "    </tr>\n",
       "    <tr>\n",
       "      <th>475</th>\n",
       "      <td>wwe Smackdown vs. Raw 2006</td>\n",
       "      <td>PS2</td>\n",
       "      <td>&lt;NA&gt;</td>\n",
       "      <td>Fighting</td>\n",
       "      <td>1.57</td>\n",
       "      <td>1.02</td>\n",
       "      <td>0.00</td>\n",
       "      <td>0.41</td>\n",
       "      <td>NaN</td>\n",
       "      <td>NaN</td>\n",
       "      <td>NaN</td>\n",
       "    </tr>\n",
       "    <tr>\n",
       "      <th>609</th>\n",
       "      <td>Space Invaders</td>\n",
       "      <td>2600</td>\n",
       "      <td>&lt;NA&gt;</td>\n",
       "      <td>Shooter</td>\n",
       "      <td>2.36</td>\n",
       "      <td>0.14</td>\n",
       "      <td>0.00</td>\n",
       "      <td>0.03</td>\n",
       "      <td>NaN</td>\n",
       "      <td>NaN</td>\n",
       "      <td>NaN</td>\n",
       "    </tr>\n",
       "    <tr>\n",
       "      <th>...</th>\n",
       "      <td>...</td>\n",
       "      <td>...</td>\n",
       "      <td>...</td>\n",
       "      <td>...</td>\n",
       "      <td>...</td>\n",
       "      <td>...</td>\n",
       "      <td>...</td>\n",
       "      <td>...</td>\n",
       "      <td>...</td>\n",
       "      <td>...</td>\n",
       "      <td>...</td>\n",
       "    </tr>\n",
       "    <tr>\n",
       "      <th>16373</th>\n",
       "      <td>PDC World Championship Darts 2008</td>\n",
       "      <td>PSP</td>\n",
       "      <td>&lt;NA&gt;</td>\n",
       "      <td>Sports</td>\n",
       "      <td>0.01</td>\n",
       "      <td>0.00</td>\n",
       "      <td>0.00</td>\n",
       "      <td>0.00</td>\n",
       "      <td>43.0</td>\n",
       "      <td>NaN</td>\n",
       "      <td>E10+</td>\n",
       "    </tr>\n",
       "    <tr>\n",
       "      <th>16405</th>\n",
       "      <td>Freaky Flyers</td>\n",
       "      <td>GC</td>\n",
       "      <td>&lt;NA&gt;</td>\n",
       "      <td>Racing</td>\n",
       "      <td>0.01</td>\n",
       "      <td>0.00</td>\n",
       "      <td>0.00</td>\n",
       "      <td>0.00</td>\n",
       "      <td>69.0</td>\n",
       "      <td>6.5</td>\n",
       "      <td>T</td>\n",
       "    </tr>\n",
       "    <tr>\n",
       "      <th>16448</th>\n",
       "      <td>Inversion</td>\n",
       "      <td>PC</td>\n",
       "      <td>&lt;NA&gt;</td>\n",
       "      <td>Shooter</td>\n",
       "      <td>0.01</td>\n",
       "      <td>0.00</td>\n",
       "      <td>0.00</td>\n",
       "      <td>0.00</td>\n",
       "      <td>59.0</td>\n",
       "      <td>6.7</td>\n",
       "      <td>M</td>\n",
       "    </tr>\n",
       "    <tr>\n",
       "      <th>16458</th>\n",
       "      <td>Hakuouki: Shinsengumi Kitan</td>\n",
       "      <td>PS3</td>\n",
       "      <td>&lt;NA&gt;</td>\n",
       "      <td>Adventure</td>\n",
       "      <td>0.01</td>\n",
       "      <td>0.00</td>\n",
       "      <td>0.00</td>\n",
       "      <td>0.00</td>\n",
       "      <td>NaN</td>\n",
       "      <td>NaN</td>\n",
       "      <td>NaN</td>\n",
       "    </tr>\n",
       "    <tr>\n",
       "      <th>16522</th>\n",
       "      <td>Virtua Quest</td>\n",
       "      <td>GC</td>\n",
       "      <td>&lt;NA&gt;</td>\n",
       "      <td>Role-Playing</td>\n",
       "      <td>0.01</td>\n",
       "      <td>0.00</td>\n",
       "      <td>0.00</td>\n",
       "      <td>0.00</td>\n",
       "      <td>55.0</td>\n",
       "      <td>5.5</td>\n",
       "      <td>T</td>\n",
       "    </tr>\n",
       "  </tbody>\n",
       "</table>\n",
       "<p>269 rows × 11 columns</p>\n",
       "</div>"
      ],
      "text/plain": [
       "                                    name platform  year_of_release  \\\n",
       "183                      Madden NFL 2004      PS2             <NA>   \n",
       "377                     FIFA Soccer 2004      PS2             <NA>   \n",
       "456           LEGO Batman: The Videogame      Wii             <NA>   \n",
       "475           wwe Smackdown vs. Raw 2006      PS2             <NA>   \n",
       "609                       Space Invaders     2600             <NA>   \n",
       "...                                  ...      ...              ...   \n",
       "16373  PDC World Championship Darts 2008      PSP             <NA>   \n",
       "16405                      Freaky Flyers       GC             <NA>   \n",
       "16448                          Inversion       PC             <NA>   \n",
       "16458        Hakuouki: Shinsengumi Kitan      PS3             <NA>   \n",
       "16522                       Virtua Quest       GC             <NA>   \n",
       "\n",
       "              genre  na_sales  eu_sales  jp_sales  other_sales  critic_score  \\\n",
       "183          Sports      4.26      0.26      0.01         0.71          94.0   \n",
       "377          Sports      0.59      2.36      0.04         0.51          84.0   \n",
       "456          Action      1.80      0.97      0.00         0.29          74.0   \n",
       "475        Fighting      1.57      1.02      0.00         0.41           NaN   \n",
       "609         Shooter      2.36      0.14      0.00         0.03           NaN   \n",
       "...             ...       ...       ...       ...          ...           ...   \n",
       "16373        Sports      0.01      0.00      0.00         0.00          43.0   \n",
       "16405        Racing      0.01      0.00      0.00         0.00          69.0   \n",
       "16448       Shooter      0.01      0.00      0.00         0.00          59.0   \n",
       "16458     Adventure      0.01      0.00      0.00         0.00           NaN   \n",
       "16522  Role-Playing      0.01      0.00      0.00         0.00          55.0   \n",
       "\n",
       "       user_score rating  \n",
       "183           8.5      E  \n",
       "377           6.4      E  \n",
       "456           7.9   E10+  \n",
       "475           NaN    NaN  \n",
       "609           NaN    NaN  \n",
       "...           ...    ...  \n",
       "16373         NaN   E10+  \n",
       "16405         6.5      T  \n",
       "16448         6.7      M  \n",
       "16458         NaN    NaN  \n",
       "16522         5.5      T  \n",
       "\n",
       "[269 rows x 11 columns]"
      ]
     },
     "metadata": {},
     "output_type": "display_data"
    }
   ],
   "source": [
    "display(data[data['year_of_release'].isna()])"
   ]
  },
  {
   "cell_type": "markdown",
   "metadata": {},
   "source": [
    "269 пропусков. Попробуем восстановить часть - у некоторых игр год выпуска фигурирует в имени, попробуем заполнить год выпуска этим значением. "
   ]
  },
  {
   "cell_type": "code",
   "execution_count": 52,
   "metadata": {},
   "outputs": [
    {
     "data": {
      "text/plain": [
       "183      2004\n",
       "283      2003\n",
       "333      2012\n",
       "359      2014\n",
       "377      2004\n",
       "         ... \n",
       "16528    2010\n",
       "16553    2014\n",
       "16631    2014\n",
       "16638    2014\n",
       "16658    2011\n",
       "Name: year_from_name, Length: 555, dtype: Int64"
      ]
     },
     "metadata": {},
     "output_type": "display_data"
    },
    {
     "data": {
      "text/html": [
       "<div>\n",
       "<style scoped>\n",
       "    .dataframe tbody tr th:only-of-type {\n",
       "        vertical-align: middle;\n",
       "    }\n",
       "\n",
       "    .dataframe tbody tr th {\n",
       "        vertical-align: top;\n",
       "    }\n",
       "\n",
       "    .dataframe thead th {\n",
       "        text-align: right;\n",
       "    }\n",
       "</style>\n",
       "<table border=\"1\" class=\"dataframe\">\n",
       "  <thead>\n",
       "    <tr style=\"text-align: right;\">\n",
       "      <th></th>\n",
       "      <th>name</th>\n",
       "      <th>platform</th>\n",
       "      <th>year_of_release</th>\n",
       "      <th>genre</th>\n",
       "      <th>na_sales</th>\n",
       "      <th>eu_sales</th>\n",
       "      <th>jp_sales</th>\n",
       "      <th>other_sales</th>\n",
       "      <th>critic_score</th>\n",
       "      <th>user_score</th>\n",
       "      <th>rating</th>\n",
       "      <th>year_from_name</th>\n",
       "    </tr>\n",
       "  </thead>\n",
       "  <tbody>\n",
       "    <tr>\n",
       "      <th>456</th>\n",
       "      <td>LEGO Batman: The Videogame</td>\n",
       "      <td>Wii</td>\n",
       "      <td>&lt;NA&gt;</td>\n",
       "      <td>Action</td>\n",
       "      <td>1.80</td>\n",
       "      <td>0.97</td>\n",
       "      <td>0.0</td>\n",
       "      <td>0.29</td>\n",
       "      <td>74.0</td>\n",
       "      <td>7.9</td>\n",
       "      <td>E10+</td>\n",
       "      <td>&lt;NA&gt;</td>\n",
       "    </tr>\n",
       "    <tr>\n",
       "      <th>475</th>\n",
       "      <td>wwe Smackdown vs. Raw 2006</td>\n",
       "      <td>PS2</td>\n",
       "      <td>&lt;NA&gt;</td>\n",
       "      <td>Fighting</td>\n",
       "      <td>1.57</td>\n",
       "      <td>1.02</td>\n",
       "      <td>0.0</td>\n",
       "      <td>0.41</td>\n",
       "      <td>NaN</td>\n",
       "      <td>NaN</td>\n",
       "      <td>NaN</td>\n",
       "      <td>&lt;NA&gt;</td>\n",
       "    </tr>\n",
       "    <tr>\n",
       "      <th>609</th>\n",
       "      <td>Space Invaders</td>\n",
       "      <td>2600</td>\n",
       "      <td>&lt;NA&gt;</td>\n",
       "      <td>Shooter</td>\n",
       "      <td>2.36</td>\n",
       "      <td>0.14</td>\n",
       "      <td>0.0</td>\n",
       "      <td>0.03</td>\n",
       "      <td>NaN</td>\n",
       "      <td>NaN</td>\n",
       "      <td>NaN</td>\n",
       "      <td>&lt;NA&gt;</td>\n",
       "    </tr>\n",
       "    <tr>\n",
       "      <th>627</th>\n",
       "      <td>Rock Band</td>\n",
       "      <td>X360</td>\n",
       "      <td>&lt;NA&gt;</td>\n",
       "      <td>Misc</td>\n",
       "      <td>1.93</td>\n",
       "      <td>0.33</td>\n",
       "      <td>0.0</td>\n",
       "      <td>0.21</td>\n",
       "      <td>92.0</td>\n",
       "      <td>8.2</td>\n",
       "      <td>T</td>\n",
       "      <td>&lt;NA&gt;</td>\n",
       "    </tr>\n",
       "    <tr>\n",
       "      <th>657</th>\n",
       "      <td>Frogger's Adventures: Temple of the Frog</td>\n",
       "      <td>GBA</td>\n",
       "      <td>&lt;NA&gt;</td>\n",
       "      <td>Adventure</td>\n",
       "      <td>2.15</td>\n",
       "      <td>0.18</td>\n",
       "      <td>0.0</td>\n",
       "      <td>0.07</td>\n",
       "      <td>73.0</td>\n",
       "      <td>NaN</td>\n",
       "      <td>E</td>\n",
       "      <td>&lt;NA&gt;</td>\n",
       "    </tr>\n",
       "    <tr>\n",
       "      <th>...</th>\n",
       "      <td>...</td>\n",
       "      <td>...</td>\n",
       "      <td>...</td>\n",
       "      <td>...</td>\n",
       "      <td>...</td>\n",
       "      <td>...</td>\n",
       "      <td>...</td>\n",
       "      <td>...</td>\n",
       "      <td>...</td>\n",
       "      <td>...</td>\n",
       "      <td>...</td>\n",
       "      <td>...</td>\n",
       "    </tr>\n",
       "    <tr>\n",
       "      <th>16373</th>\n",
       "      <td>PDC World Championship Darts 2008</td>\n",
       "      <td>PSP</td>\n",
       "      <td>&lt;NA&gt;</td>\n",
       "      <td>Sports</td>\n",
       "      <td>0.01</td>\n",
       "      <td>0.00</td>\n",
       "      <td>0.0</td>\n",
       "      <td>0.00</td>\n",
       "      <td>43.0</td>\n",
       "      <td>NaN</td>\n",
       "      <td>E10+</td>\n",
       "      <td>&lt;NA&gt;</td>\n",
       "    </tr>\n",
       "    <tr>\n",
       "      <th>16405</th>\n",
       "      <td>Freaky Flyers</td>\n",
       "      <td>GC</td>\n",
       "      <td>&lt;NA&gt;</td>\n",
       "      <td>Racing</td>\n",
       "      <td>0.01</td>\n",
       "      <td>0.00</td>\n",
       "      <td>0.0</td>\n",
       "      <td>0.00</td>\n",
       "      <td>69.0</td>\n",
       "      <td>6.5</td>\n",
       "      <td>T</td>\n",
       "      <td>&lt;NA&gt;</td>\n",
       "    </tr>\n",
       "    <tr>\n",
       "      <th>16448</th>\n",
       "      <td>Inversion</td>\n",
       "      <td>PC</td>\n",
       "      <td>&lt;NA&gt;</td>\n",
       "      <td>Shooter</td>\n",
       "      <td>0.01</td>\n",
       "      <td>0.00</td>\n",
       "      <td>0.0</td>\n",
       "      <td>0.00</td>\n",
       "      <td>59.0</td>\n",
       "      <td>6.7</td>\n",
       "      <td>M</td>\n",
       "      <td>&lt;NA&gt;</td>\n",
       "    </tr>\n",
       "    <tr>\n",
       "      <th>16458</th>\n",
       "      <td>Hakuouki: Shinsengumi Kitan</td>\n",
       "      <td>PS3</td>\n",
       "      <td>&lt;NA&gt;</td>\n",
       "      <td>Adventure</td>\n",
       "      <td>0.01</td>\n",
       "      <td>0.00</td>\n",
       "      <td>0.0</td>\n",
       "      <td>0.00</td>\n",
       "      <td>NaN</td>\n",
       "      <td>NaN</td>\n",
       "      <td>NaN</td>\n",
       "      <td>&lt;NA&gt;</td>\n",
       "    </tr>\n",
       "    <tr>\n",
       "      <th>16522</th>\n",
       "      <td>Virtua Quest</td>\n",
       "      <td>GC</td>\n",
       "      <td>&lt;NA&gt;</td>\n",
       "      <td>Role-Playing</td>\n",
       "      <td>0.01</td>\n",
       "      <td>0.00</td>\n",
       "      <td>0.0</td>\n",
       "      <td>0.00</td>\n",
       "      <td>55.0</td>\n",
       "      <td>5.5</td>\n",
       "      <td>T</td>\n",
       "      <td>&lt;NA&gt;</td>\n",
       "    </tr>\n",
       "  </tbody>\n",
       "</table>\n",
       "<p>260 rows × 12 columns</p>\n",
       "</div>"
      ],
      "text/plain": [
       "                                           name platform  year_of_release  \\\n",
       "456                  LEGO Batman: The Videogame      Wii             <NA>   \n",
       "475                  wwe Smackdown vs. Raw 2006      PS2             <NA>   \n",
       "609                              Space Invaders     2600             <NA>   \n",
       "627                                   Rock Band     X360             <NA>   \n",
       "657    Frogger's Adventures: Temple of the Frog      GBA             <NA>   \n",
       "...                                         ...      ...              ...   \n",
       "16373         PDC World Championship Darts 2008      PSP             <NA>   \n",
       "16405                             Freaky Flyers       GC             <NA>   \n",
       "16448                                 Inversion       PC             <NA>   \n",
       "16458               Hakuouki: Shinsengumi Kitan      PS3             <NA>   \n",
       "16522                              Virtua Quest       GC             <NA>   \n",
       "\n",
       "              genre  na_sales  eu_sales  jp_sales  other_sales  critic_score  \\\n",
       "456          Action      1.80      0.97       0.0         0.29          74.0   \n",
       "475        Fighting      1.57      1.02       0.0         0.41           NaN   \n",
       "609         Shooter      2.36      0.14       0.0         0.03           NaN   \n",
       "627            Misc      1.93      0.33       0.0         0.21          92.0   \n",
       "657       Adventure      2.15      0.18       0.0         0.07          73.0   \n",
       "...             ...       ...       ...       ...          ...           ...   \n",
       "16373        Sports      0.01      0.00       0.0         0.00          43.0   \n",
       "16405        Racing      0.01      0.00       0.0         0.00          69.0   \n",
       "16448       Shooter      0.01      0.00       0.0         0.00          59.0   \n",
       "16458     Adventure      0.01      0.00       0.0         0.00           NaN   \n",
       "16522  Role-Playing      0.01      0.00       0.0         0.00          55.0   \n",
       "\n",
       "       user_score rating  year_from_name  \n",
       "456           7.9   E10+            <NA>  \n",
       "475           NaN    NaN            <NA>  \n",
       "609           NaN    NaN            <NA>  \n",
       "627           8.2      T            <NA>  \n",
       "657           NaN      E            <NA>  \n",
       "...           ...    ...             ...  \n",
       "16373         NaN   E10+            <NA>  \n",
       "16405         6.5      T            <NA>  \n",
       "16448         6.7      M            <NA>  \n",
       "16458         NaN    NaN            <NA>  \n",
       "16522         5.5      T            <NA>  \n",
       "\n",
       "[260 rows x 12 columns]"
      ]
     },
     "metadata": {},
     "output_type": "display_data"
    },
    {
     "data": {
      "text/html": [
       "<div>\n",
       "<style scoped>\n",
       "    .dataframe tbody tr th:only-of-type {\n",
       "        vertical-align: middle;\n",
       "    }\n",
       "\n",
       "    .dataframe tbody tr th {\n",
       "        vertical-align: top;\n",
       "    }\n",
       "\n",
       "    .dataframe thead th {\n",
       "        text-align: right;\n",
       "    }\n",
       "</style>\n",
       "<table border=\"1\" class=\"dataframe\">\n",
       "  <thead>\n",
       "    <tr style=\"text-align: right;\">\n",
       "      <th></th>\n",
       "      <th>name</th>\n",
       "      <th>platform</th>\n",
       "      <th>year_of_release</th>\n",
       "      <th>genre</th>\n",
       "      <th>na_sales</th>\n",
       "      <th>eu_sales</th>\n",
       "      <th>jp_sales</th>\n",
       "      <th>other_sales</th>\n",
       "      <th>critic_score</th>\n",
       "      <th>user_score</th>\n",
       "      <th>rating</th>\n",
       "    </tr>\n",
       "  </thead>\n",
       "  <tbody>\n",
       "    <tr>\n",
       "      <th>0</th>\n",
       "      <td>Wii Sports</td>\n",
       "      <td>Wii</td>\n",
       "      <td>2006</td>\n",
       "      <td>Sports</td>\n",
       "      <td>41.36</td>\n",
       "      <td>28.96</td>\n",
       "      <td>3.77</td>\n",
       "      <td>8.45</td>\n",
       "      <td>76.0</td>\n",
       "      <td>8.0</td>\n",
       "      <td>E</td>\n",
       "    </tr>\n",
       "    <tr>\n",
       "      <th>1</th>\n",
       "      <td>Super Mario Bros.</td>\n",
       "      <td>NES</td>\n",
       "      <td>1985</td>\n",
       "      <td>Platform</td>\n",
       "      <td>29.08</td>\n",
       "      <td>3.58</td>\n",
       "      <td>6.81</td>\n",
       "      <td>0.77</td>\n",
       "      <td>NaN</td>\n",
       "      <td>NaN</td>\n",
       "      <td>NaN</td>\n",
       "    </tr>\n",
       "    <tr>\n",
       "      <th>2</th>\n",
       "      <td>Mario Kart Wii</td>\n",
       "      <td>Wii</td>\n",
       "      <td>2008</td>\n",
       "      <td>Racing</td>\n",
       "      <td>15.68</td>\n",
       "      <td>12.76</td>\n",
       "      <td>3.79</td>\n",
       "      <td>3.29</td>\n",
       "      <td>82.0</td>\n",
       "      <td>8.3</td>\n",
       "      <td>E</td>\n",
       "    </tr>\n",
       "    <tr>\n",
       "      <th>3</th>\n",
       "      <td>Wii Sports Resort</td>\n",
       "      <td>Wii</td>\n",
       "      <td>2009</td>\n",
       "      <td>Sports</td>\n",
       "      <td>15.61</td>\n",
       "      <td>10.93</td>\n",
       "      <td>3.28</td>\n",
       "      <td>2.95</td>\n",
       "      <td>80.0</td>\n",
       "      <td>8.0</td>\n",
       "      <td>E</td>\n",
       "    </tr>\n",
       "    <tr>\n",
       "      <th>4</th>\n",
       "      <td>Pokemon Red/Pokemon Blue</td>\n",
       "      <td>GB</td>\n",
       "      <td>1996</td>\n",
       "      <td>Role-Playing</td>\n",
       "      <td>11.27</td>\n",
       "      <td>8.89</td>\n",
       "      <td>10.22</td>\n",
       "      <td>1.00</td>\n",
       "      <td>NaN</td>\n",
       "      <td>NaN</td>\n",
       "      <td>NaN</td>\n",
       "    </tr>\n",
       "    <tr>\n",
       "      <th>...</th>\n",
       "      <td>...</td>\n",
       "      <td>...</td>\n",
       "      <td>...</td>\n",
       "      <td>...</td>\n",
       "      <td>...</td>\n",
       "      <td>...</td>\n",
       "      <td>...</td>\n",
       "      <td>...</td>\n",
       "      <td>...</td>\n",
       "      <td>...</td>\n",
       "      <td>...</td>\n",
       "    </tr>\n",
       "    <tr>\n",
       "      <th>16710</th>\n",
       "      <td>Samurai Warriors: Sanada Maru</td>\n",
       "      <td>PS3</td>\n",
       "      <td>2016</td>\n",
       "      <td>Action</td>\n",
       "      <td>0.00</td>\n",
       "      <td>0.00</td>\n",
       "      <td>0.01</td>\n",
       "      <td>0.00</td>\n",
       "      <td>NaN</td>\n",
       "      <td>NaN</td>\n",
       "      <td>NaN</td>\n",
       "    </tr>\n",
       "    <tr>\n",
       "      <th>16711</th>\n",
       "      <td>LMA Manager 2007</td>\n",
       "      <td>X360</td>\n",
       "      <td>2006</td>\n",
       "      <td>Sports</td>\n",
       "      <td>0.00</td>\n",
       "      <td>0.01</td>\n",
       "      <td>0.00</td>\n",
       "      <td>0.00</td>\n",
       "      <td>NaN</td>\n",
       "      <td>NaN</td>\n",
       "      <td>NaN</td>\n",
       "    </tr>\n",
       "    <tr>\n",
       "      <th>16712</th>\n",
       "      <td>Haitaka no Psychedelica</td>\n",
       "      <td>PSV</td>\n",
       "      <td>2016</td>\n",
       "      <td>Adventure</td>\n",
       "      <td>0.00</td>\n",
       "      <td>0.00</td>\n",
       "      <td>0.01</td>\n",
       "      <td>0.00</td>\n",
       "      <td>NaN</td>\n",
       "      <td>NaN</td>\n",
       "      <td>NaN</td>\n",
       "    </tr>\n",
       "    <tr>\n",
       "      <th>16713</th>\n",
       "      <td>Spirits &amp; Spells</td>\n",
       "      <td>GBA</td>\n",
       "      <td>2003</td>\n",
       "      <td>Platform</td>\n",
       "      <td>0.01</td>\n",
       "      <td>0.00</td>\n",
       "      <td>0.00</td>\n",
       "      <td>0.00</td>\n",
       "      <td>NaN</td>\n",
       "      <td>NaN</td>\n",
       "      <td>NaN</td>\n",
       "    </tr>\n",
       "    <tr>\n",
       "      <th>16714</th>\n",
       "      <td>Winning Post 8 2016</td>\n",
       "      <td>PSV</td>\n",
       "      <td>2016</td>\n",
       "      <td>Simulation</td>\n",
       "      <td>0.00</td>\n",
       "      <td>0.00</td>\n",
       "      <td>0.01</td>\n",
       "      <td>0.00</td>\n",
       "      <td>NaN</td>\n",
       "      <td>NaN</td>\n",
       "      <td>NaN</td>\n",
       "    </tr>\n",
       "  </tbody>\n",
       "</table>\n",
       "<p>16712 rows × 11 columns</p>\n",
       "</div>"
      ],
      "text/plain": [
       "                                name platform  year_of_release         genre  \\\n",
       "0                         Wii Sports      Wii             2006        Sports   \n",
       "1                  Super Mario Bros.      NES             1985      Platform   \n",
       "2                     Mario Kart Wii      Wii             2008        Racing   \n",
       "3                  Wii Sports Resort      Wii             2009        Sports   \n",
       "4           Pokemon Red/Pokemon Blue       GB             1996  Role-Playing   \n",
       "...                              ...      ...              ...           ...   \n",
       "16710  Samurai Warriors: Sanada Maru      PS3             2016        Action   \n",
       "16711               LMA Manager 2007     X360             2006        Sports   \n",
       "16712        Haitaka no Psychedelica      PSV             2016     Adventure   \n",
       "16713               Spirits & Spells      GBA             2003      Platform   \n",
       "16714            Winning Post 8 2016      PSV             2016    Simulation   \n",
       "\n",
       "       na_sales  eu_sales  jp_sales  other_sales  critic_score  user_score  \\\n",
       "0         41.36     28.96      3.77         8.45          76.0         8.0   \n",
       "1         29.08      3.58      6.81         0.77           NaN         NaN   \n",
       "2         15.68     12.76      3.79         3.29          82.0         8.3   \n",
       "3         15.61     10.93      3.28         2.95          80.0         8.0   \n",
       "4         11.27      8.89     10.22         1.00           NaN         NaN   \n",
       "...         ...       ...       ...          ...           ...         ...   \n",
       "16710      0.00      0.00      0.01         0.00           NaN         NaN   \n",
       "16711      0.00      0.01      0.00         0.00           NaN         NaN   \n",
       "16712      0.00      0.00      0.01         0.00           NaN         NaN   \n",
       "16713      0.01      0.00      0.00         0.00           NaN         NaN   \n",
       "16714      0.00      0.00      0.01         0.00           NaN         NaN   \n",
       "\n",
       "      rating  \n",
       "0          E  \n",
       "1        NaN  \n",
       "2          E  \n",
       "3          E  \n",
       "4        NaN  \n",
       "...      ...  \n",
       "16710    NaN  \n",
       "16711    NaN  \n",
       "16712    NaN  \n",
       "16713    NaN  \n",
       "16714    NaN  \n",
       "\n",
       "[16712 rows x 11 columns]"
      ]
     },
     "metadata": {},
     "output_type": "display_data"
    }
   ],
   "source": [
    "# создадим функцию, которая будет вытягивать год выпуска из названия игры \n",
    "# для этого потребовалось импортировать библиотеку re для работы с регулярными выражениями\n",
    "import re\n",
    "def find_year(name):\n",
    "    match = re.search(r'\\b(19[0-9]{2}|20[0-2][0-4])\\b', name)\n",
    "    if match:\n",
    "        return int(match.group(0))\n",
    "    return None\n",
    "# запишем эти данные в отдельный столбец\n",
    "data['year_from_name'] = data['name'].apply(find_year).astype('Int64')\n",
    "# выведем его, где значения не пустые \n",
    "display(data[data['year_from_name'].notna()]['year_from_name'])\n",
    "# заполним год выпуска для тех строк, где он пустой, но мы смогли выцепить его из названия \n",
    "data['year_of_release'] = data['year_of_release'].fillna(data['year_from_name'])\n",
    "# выведем строки с пустым годом релиза после заполнения \n",
    "display(data[data['year_of_release'].isna()])\n",
    "# удалим дополнительный столбец, который добавляли для проставления года \n",
    "data.drop('year_from_name', axis=1, inplace=True)\n",
    "# на всякий случай выведем данные для проверки \n",
    "display(data)"
   ]
  },
  {
   "cell_type": "markdown",
   "metadata": {},
   "source": [
    "<div class=\"alert alert-block alert-warning\">\n",
    " \n",
    "### Комментарий ревьюера\n",
    "    \n",
    "#### Совет\n",
    "    \n",
    "В целом, тут было изначально мало пропусков и можно было избавиться от них. "
   ]
  },
  {
   "cell_type": "markdown",
   "metadata": {},
   "source": [
    "Получилось немного сократить количество пропусков в годе выпуска, но они всё ещё есть. Эти строки придётся удалить, потому что загуглить и проставить год выпуска для каждой из 260 строк будет довольно трудоёмко, а 260 записей - это не такой уж большой процент пропусков, проще от этих строк избавиться. "
   ]
  },
  {
   "cell_type": "code",
   "execution_count": 53,
   "metadata": {},
   "outputs": [
    {
     "name": "stdout",
     "output_type": "stream",
     "text": [
      "<class 'pandas.core.frame.DataFrame'>\n",
      "Int64Index: 16452 entries, 0 to 16714\n",
      "Data columns (total 11 columns):\n",
      " #   Column           Non-Null Count  Dtype  \n",
      "---  ------           --------------  -----  \n",
      " 0   name             16452 non-null  object \n",
      " 1   platform         16452 non-null  object \n",
      " 2   year_of_release  16452 non-null  Int64  \n",
      " 3   genre            16452 non-null  object \n",
      " 4   na_sales         16452 non-null  float64\n",
      " 5   eu_sales         16452 non-null  float64\n",
      " 6   jp_sales         16452 non-null  float64\n",
      " 7   other_sales      16452 non-null  float64\n",
      " 8   critic_score     7991 non-null   float64\n",
      " 9   user_score       7470 non-null   float64\n",
      " 10  rating           9775 non-null   object \n",
      "dtypes: Int64(1), float64(6), object(4)\n",
      "memory usage: 1.5+ MB\n"
     ]
    },
    {
     "data": {
      "text/plain": [
       "name                  0\n",
       "platform              0\n",
       "year_of_release       0\n",
       "genre                 0\n",
       "na_sales              0\n",
       "eu_sales              0\n",
       "jp_sales              0\n",
       "other_sales           0\n",
       "critic_score       8461\n",
       "user_score         8982\n",
       "rating             6677\n",
       "dtype: int64"
      ]
     },
     "execution_count": 53,
     "metadata": {},
     "output_type": "execute_result"
    }
   ],
   "source": [
    "# удаляем прпуски \n",
    "data = data.dropna(subset=['year_of_release'])\n",
    "# выводим общую информацию о таблице после удаления строк с пустым годом релиза \n",
    "data.info()\n",
    "# проверяем пколичество пропусков в столбцах \n",
    "data.isna().sum()"
   ]
  },
  {
   "cell_type": "markdown",
   "metadata": {},
   "source": [
    "Остальные пропуски заполнить будет не так просто, но и удалить эти строки мы тоже не можем - их слишком много. Проставлять среднее или медиану мы тоже не сможем, учитывая, что речь идёт об оценках игр и о конкретном возрастном рейтинге. \n",
    "Изучим повнимательнее столбец с возрастной категорией, посмотрим, какие там значения вообще встречаются."
   ]
  },
  {
   "cell_type": "code",
   "execution_count": 54,
   "metadata": {},
   "outputs": [
    {
     "data": {
      "text/plain": [
       "E       3927\n",
       "T       2905\n",
       "M       1537\n",
       "E10+    1393\n",
       "EC         8\n",
       "K-A        3\n",
       "AO         1\n",
       "RP         1\n",
       "Name: rating, dtype: int64"
      ]
     },
     "metadata": {},
     "output_type": "display_data"
    }
   ],
   "source": [
    "display(data['rating'].value_counts())"
   ]
  },
  {
   "cell_type": "markdown",
   "metadata": {},
   "source": [
    "Рейтинг ESRB сейчас может содержать такие значения: \n",
    "- EC\n",
    "- E\n",
    "- E10+\n",
    "- T\n",
    "- M\n",
    "- AO \n",
    "- RP\n",
    "- RP 17+\n",
    "В полученном наборе данных видим ещё значение K-A. Согласно вики, это значение использовалось вместо E d 1994-1998 годах, нет причин не верить, поэтому заменим значение K-A в данном столбце на E. "
   ]
  },
  {
   "cell_type": "code",
   "execution_count": 55,
   "metadata": {},
   "outputs": [
    {
     "data": {
      "text/plain": [
       "E       3930\n",
       "T       2905\n",
       "M       1537\n",
       "E10+    1393\n",
       "EC         8\n",
       "AO         1\n",
       "RP         1\n",
       "Name: rating, dtype: int64"
      ]
     },
     "metadata": {},
     "output_type": "display_data"
    }
   ],
   "source": [
    "data['rating'] = data['rating'].replace('K-A', 'E')\n",
    "display(data['rating'].value_counts())"
   ]
  },
  {
   "cell_type": "markdown",
   "metadata": {},
   "source": [
    "Теперь, когда все значения актуализированы, заполним значение столбца TBD-шкой: таким образом мы избавимся от пропусков, но при этом \"искусственно\" поставленные значения можно будет легко отделить от настоящих. "
   ]
  },
  {
   "cell_type": "code",
   "execution_count": 56,
   "metadata": {},
   "outputs": [
    {
     "data": {
      "text/plain": [
       "name                  0\n",
       "platform              0\n",
       "year_of_release       0\n",
       "genre                 0\n",
       "na_sales              0\n",
       "eu_sales              0\n",
       "jp_sales              0\n",
       "other_sales           0\n",
       "critic_score       8461\n",
       "user_score         8982\n",
       "rating                0\n",
       "dtype: int64"
      ]
     },
     "execution_count": 56,
     "metadata": {},
     "output_type": "execute_result"
    }
   ],
   "source": [
    "data['rating'] = data['rating'].fillna('TBD')\n",
    "data.isna().sum()"
   ]
  },
  {
   "cell_type": "markdown",
   "metadata": {},
   "source": [
    "<div class=\"alert alert-block alert-success\">\n",
    " \n",
    "### Комментарий ревьюера\n",
    "    \n",
    "#### Успех\n",
    "    \n",
    "Отлично. Поддерживаю."
   ]
  },
  {
   "cell_type": "markdown",
   "metadata": {},
   "source": [
    "В полях user_score и critic_score проставим значение -1, чтобы не было пропусков, и при этом наши \"искусственные\" значения можно было легко отследить и отфильтровать при подсчёте данных. Каким-то образом заполнить эти данные и подсчитать рейтинг игр самостоятельно, к сожалению, не получится, тут нужны настоящие данные по играм. "
   ]
  },
  {
   "cell_type": "code",
   "execution_count": 57,
   "metadata": {},
   "outputs": [
    {
     "name": "stdout",
     "output_type": "stream",
     "text": [
      "<class 'pandas.core.frame.DataFrame'>\n",
      "Int64Index: 16452 entries, 0 to 16714\n",
      "Data columns (total 11 columns):\n",
      " #   Column           Non-Null Count  Dtype  \n",
      "---  ------           --------------  -----  \n",
      " 0   name             16452 non-null  object \n",
      " 1   platform         16452 non-null  object \n",
      " 2   year_of_release  16452 non-null  Int64  \n",
      " 3   genre            16452 non-null  object \n",
      " 4   na_sales         16452 non-null  float64\n",
      " 5   eu_sales         16452 non-null  float64\n",
      " 6   jp_sales         16452 non-null  float64\n",
      " 7   other_sales      16452 non-null  float64\n",
      " 8   critic_score     16452 non-null  float64\n",
      " 9   user_score       16452 non-null  float64\n",
      " 10  rating           16452 non-null  object \n",
      "dtypes: Int64(1), float64(6), object(4)\n",
      "memory usage: 1.5+ MB\n"
     ]
    },
    {
     "data": {
      "text/plain": [
       "name               0\n",
       "platform           0\n",
       "year_of_release    0\n",
       "genre              0\n",
       "na_sales           0\n",
       "eu_sales           0\n",
       "jp_sales           0\n",
       "other_sales        0\n",
       "critic_score       0\n",
       "user_score         0\n",
       "rating             0\n",
       "dtype: int64"
      ]
     },
     "execution_count": 57,
     "metadata": {},
     "output_type": "execute_result"
    }
   ],
   "source": [
    "data['user_score'] = data['user_score'].fillna(-1)\n",
    "data['critic_score'] = data['critic_score'].fillna(-1)\n",
    "data.info()\n",
    "data.isna().sum()"
   ]
  },
  {
   "cell_type": "markdown",
   "metadata": {},
   "source": [
    "<div class=\"alert alert-block alert-success\">\n",
    " \n",
    "### Комментарий ревьюера\n",
    "    \n",
    "#### Успех\n",
    "    \n",
    "Оптимально пропуски никак не заменить и лучше всего обработать их значением-заглушкой. "
   ]
  },
  {
   "cell_type": "markdown",
   "metadata": {},
   "source": [
    "Отдельно отметим, что под преобразование попали и те строки, в которых user_score содержал значение TBD - ранее мы удаляли это значение для приведения типа поля к числу с плавающей точкой. \n",
    "\n",
    "Избавились от пропусков в данных, и для завершения этапа предобработки добавим столбец с инофрмацией по суммарным продажам. Для этого нам потребуется просуммировать значения по регионам - na_sales. eu_sales, jp_sales и other_sales и сохранить их в отдельный столбец. Размерность у всех столбцов одинаковая, так что можем просто просуммировать данные."
   ]
  },
  {
   "cell_type": "code",
   "execution_count": 58,
   "metadata": {},
   "outputs": [
    {
     "data": {
      "text/html": [
       "<div>\n",
       "<style scoped>\n",
       "    .dataframe tbody tr th:only-of-type {\n",
       "        vertical-align: middle;\n",
       "    }\n",
       "\n",
       "    .dataframe tbody tr th {\n",
       "        vertical-align: top;\n",
       "    }\n",
       "\n",
       "    .dataframe thead th {\n",
       "        text-align: right;\n",
       "    }\n",
       "</style>\n",
       "<table border=\"1\" class=\"dataframe\">\n",
       "  <thead>\n",
       "    <tr style=\"text-align: right;\">\n",
       "      <th></th>\n",
       "      <th>name</th>\n",
       "      <th>platform</th>\n",
       "      <th>year_of_release</th>\n",
       "      <th>genre</th>\n",
       "      <th>na_sales</th>\n",
       "      <th>eu_sales</th>\n",
       "      <th>jp_sales</th>\n",
       "      <th>other_sales</th>\n",
       "      <th>critic_score</th>\n",
       "      <th>user_score</th>\n",
       "      <th>rating</th>\n",
       "      <th>total_sales</th>\n",
       "    </tr>\n",
       "  </thead>\n",
       "  <tbody>\n",
       "    <tr>\n",
       "      <th>0</th>\n",
       "      <td>Wii Sports</td>\n",
       "      <td>Wii</td>\n",
       "      <td>2006</td>\n",
       "      <td>Sports</td>\n",
       "      <td>41.36</td>\n",
       "      <td>28.96</td>\n",
       "      <td>3.77</td>\n",
       "      <td>8.45</td>\n",
       "      <td>76.0</td>\n",
       "      <td>8.0</td>\n",
       "      <td>E</td>\n",
       "      <td>82.54</td>\n",
       "    </tr>\n",
       "    <tr>\n",
       "      <th>1</th>\n",
       "      <td>Super Mario Bros.</td>\n",
       "      <td>NES</td>\n",
       "      <td>1985</td>\n",
       "      <td>Platform</td>\n",
       "      <td>29.08</td>\n",
       "      <td>3.58</td>\n",
       "      <td>6.81</td>\n",
       "      <td>0.77</td>\n",
       "      <td>-1.0</td>\n",
       "      <td>-1.0</td>\n",
       "      <td>TBD</td>\n",
       "      <td>40.24</td>\n",
       "    </tr>\n",
       "    <tr>\n",
       "      <th>2</th>\n",
       "      <td>Mario Kart Wii</td>\n",
       "      <td>Wii</td>\n",
       "      <td>2008</td>\n",
       "      <td>Racing</td>\n",
       "      <td>15.68</td>\n",
       "      <td>12.76</td>\n",
       "      <td>3.79</td>\n",
       "      <td>3.29</td>\n",
       "      <td>82.0</td>\n",
       "      <td>8.3</td>\n",
       "      <td>E</td>\n",
       "      <td>35.52</td>\n",
       "    </tr>\n",
       "    <tr>\n",
       "      <th>3</th>\n",
       "      <td>Wii Sports Resort</td>\n",
       "      <td>Wii</td>\n",
       "      <td>2009</td>\n",
       "      <td>Sports</td>\n",
       "      <td>15.61</td>\n",
       "      <td>10.93</td>\n",
       "      <td>3.28</td>\n",
       "      <td>2.95</td>\n",
       "      <td>80.0</td>\n",
       "      <td>8.0</td>\n",
       "      <td>E</td>\n",
       "      <td>32.77</td>\n",
       "    </tr>\n",
       "    <tr>\n",
       "      <th>4</th>\n",
       "      <td>Pokemon Red/Pokemon Blue</td>\n",
       "      <td>GB</td>\n",
       "      <td>1996</td>\n",
       "      <td>Role-Playing</td>\n",
       "      <td>11.27</td>\n",
       "      <td>8.89</td>\n",
       "      <td>10.22</td>\n",
       "      <td>1.00</td>\n",
       "      <td>-1.0</td>\n",
       "      <td>-1.0</td>\n",
       "      <td>TBD</td>\n",
       "      <td>31.38</td>\n",
       "    </tr>\n",
       "  </tbody>\n",
       "</table>\n",
       "</div>"
      ],
      "text/plain": [
       "                       name platform  year_of_release         genre  na_sales  \\\n",
       "0                Wii Sports      Wii             2006        Sports     41.36   \n",
       "1         Super Mario Bros.      NES             1985      Platform     29.08   \n",
       "2            Mario Kart Wii      Wii             2008        Racing     15.68   \n",
       "3         Wii Sports Resort      Wii             2009        Sports     15.61   \n",
       "4  Pokemon Red/Pokemon Blue       GB             1996  Role-Playing     11.27   \n",
       "\n",
       "   eu_sales  jp_sales  other_sales  critic_score  user_score rating  \\\n",
       "0     28.96      3.77         8.45          76.0         8.0      E   \n",
       "1      3.58      6.81         0.77          -1.0        -1.0    TBD   \n",
       "2     12.76      3.79         3.29          82.0         8.3      E   \n",
       "3     10.93      3.28         2.95          80.0         8.0      E   \n",
       "4      8.89     10.22         1.00          -1.0        -1.0    TBD   \n",
       "\n",
       "   total_sales  \n",
       "0        82.54  \n",
       "1        40.24  \n",
       "2        35.52  \n",
       "3        32.77  \n",
       "4        31.38  "
      ]
     },
     "metadata": {},
     "output_type": "display_data"
    }
   ],
   "source": [
    "data['total_sales'] = data['na_sales'] + data['eu_sales'] + data['jp_sales'] + data['other_sales']\n",
    "display(data.head())"
   ]
  },
  {
   "cell_type": "markdown",
   "metadata": {},
   "source": [
    "<div class=\"alert alert-block alert-warning\">\n",
    " \n",
    "### Комментарий ревьюера\n",
    "    \n",
    "#### Совет\n",
    "    \n",
    "Для суммирования можно использовать такой метод `['x'] = df[['a', 'b', 'c']].sum(axis=1)`"
   ]
  },
  {
   "cell_type": "code",
   "execution_count": 59,
   "metadata": {},
   "outputs": [
    {
     "data": {
      "text/html": [
       "<div>\n",
       "<style scoped>\n",
       "    .dataframe tbody tr th:only-of-type {\n",
       "        vertical-align: middle;\n",
       "    }\n",
       "\n",
       "    .dataframe tbody tr th {\n",
       "        vertical-align: top;\n",
       "    }\n",
       "\n",
       "    .dataframe thead th {\n",
       "        text-align: right;\n",
       "    }\n",
       "</style>\n",
       "<table border=\"1\" class=\"dataframe\">\n",
       "  <thead>\n",
       "    <tr style=\"text-align: right;\">\n",
       "      <th></th>\n",
       "      <th>name</th>\n",
       "      <th>platform</th>\n",
       "      <th>year_of_release</th>\n",
       "      <th>genre</th>\n",
       "      <th>na_sales</th>\n",
       "      <th>eu_sales</th>\n",
       "      <th>jp_sales</th>\n",
       "      <th>other_sales</th>\n",
       "      <th>critic_score</th>\n",
       "      <th>user_score</th>\n",
       "      <th>rating</th>\n",
       "      <th>total_sales</th>\n",
       "    </tr>\n",
       "  </thead>\n",
       "  <tbody>\n",
       "    <tr>\n",
       "      <th>0</th>\n",
       "      <td>Wii Sports</td>\n",
       "      <td>Wii</td>\n",
       "      <td>2006</td>\n",
       "      <td>Sports</td>\n",
       "      <td>41.36</td>\n",
       "      <td>28.96</td>\n",
       "      <td>3.77</td>\n",
       "      <td>8.45</td>\n",
       "      <td>76.0</td>\n",
       "      <td>8.0</td>\n",
       "      <td>E</td>\n",
       "      <td>82.54</td>\n",
       "    </tr>\n",
       "    <tr>\n",
       "      <th>1</th>\n",
       "      <td>Super Mario Bros.</td>\n",
       "      <td>NES</td>\n",
       "      <td>1985</td>\n",
       "      <td>Platform</td>\n",
       "      <td>29.08</td>\n",
       "      <td>3.58</td>\n",
       "      <td>6.81</td>\n",
       "      <td>0.77</td>\n",
       "      <td>-1.0</td>\n",
       "      <td>-1.0</td>\n",
       "      <td>TBD</td>\n",
       "      <td>40.24</td>\n",
       "    </tr>\n",
       "    <tr>\n",
       "      <th>2</th>\n",
       "      <td>Mario Kart Wii</td>\n",
       "      <td>Wii</td>\n",
       "      <td>2008</td>\n",
       "      <td>Racing</td>\n",
       "      <td>15.68</td>\n",
       "      <td>12.76</td>\n",
       "      <td>3.79</td>\n",
       "      <td>3.29</td>\n",
       "      <td>82.0</td>\n",
       "      <td>8.3</td>\n",
       "      <td>E</td>\n",
       "      <td>35.52</td>\n",
       "    </tr>\n",
       "    <tr>\n",
       "      <th>3</th>\n",
       "      <td>Wii Sports Resort</td>\n",
       "      <td>Wii</td>\n",
       "      <td>2009</td>\n",
       "      <td>Sports</td>\n",
       "      <td>15.61</td>\n",
       "      <td>10.93</td>\n",
       "      <td>3.28</td>\n",
       "      <td>2.95</td>\n",
       "      <td>80.0</td>\n",
       "      <td>8.0</td>\n",
       "      <td>E</td>\n",
       "      <td>32.77</td>\n",
       "    </tr>\n",
       "    <tr>\n",
       "      <th>4</th>\n",
       "      <td>Pokemon Red/Pokemon Blue</td>\n",
       "      <td>GB</td>\n",
       "      <td>1996</td>\n",
       "      <td>Role-Playing</td>\n",
       "      <td>11.27</td>\n",
       "      <td>8.89</td>\n",
       "      <td>10.22</td>\n",
       "      <td>1.00</td>\n",
       "      <td>-1.0</td>\n",
       "      <td>-1.0</td>\n",
       "      <td>TBD</td>\n",
       "      <td>31.38</td>\n",
       "    </tr>\n",
       "  </tbody>\n",
       "</table>\n",
       "</div>"
      ],
      "text/plain": [
       "                       name platform  year_of_release         genre  na_sales  \\\n",
       "0                Wii Sports      Wii             2006        Sports     41.36   \n",
       "1         Super Mario Bros.      NES             1985      Platform     29.08   \n",
       "2            Mario Kart Wii      Wii             2008        Racing     15.68   \n",
       "3         Wii Sports Resort      Wii             2009        Sports     15.61   \n",
       "4  Pokemon Red/Pokemon Blue       GB             1996  Role-Playing     11.27   \n",
       "\n",
       "   eu_sales  jp_sales  other_sales  critic_score  user_score rating  \\\n",
       "0     28.96      3.77         8.45          76.0         8.0      E   \n",
       "1      3.58      6.81         0.77          -1.0        -1.0    TBD   \n",
       "2     12.76      3.79         3.29          82.0         8.3      E   \n",
       "3     10.93      3.28         2.95          80.0         8.0      E   \n",
       "4      8.89     10.22         1.00          -1.0        -1.0    TBD   \n",
       "\n",
       "   total_sales  \n",
       "0        82.54  \n",
       "1        40.24  \n",
       "2        35.52  \n",
       "3        32.77  \n",
       "4        31.38  "
      ]
     },
     "metadata": {},
     "output_type": "display_data"
    }
   ],
   "source": [
    "display(data.head())"
   ]
  },
  {
   "cell_type": "markdown",
   "metadata": {},
   "source": [
    "<div class=\"alert alert-block alert-success\">\n",
    " \n",
    "### Комментарий ревьюера\n",
    "    \n",
    "#### Успех\n",
    "    \n",
    "С предобработкой здорово справились. Теперь смело можно идти дальше"
   ]
  },
  {
   "cell_type": "markdown",
   "metadata": {},
   "source": [
    "**Общий вывод по этапу**\n",
    "- Переименовали столбцы, приведя их к более удобному для дальнейшей работы виду. В столбце user_score для этого потребовалось избавиться от значений tbd\n",
    "- Привели данные к более удобным для обработки типам\n",
    "- Удалили \"мусорные\" данные, где нет имени игры и нет возможности восстановить данные\n",
    "- Удалили дублирующиеся данные \n",
    "- Заполнили, где это было возможно, пропуски в year_of_release\n",
    "- Там, где невозможно было восстановить значения, - в полях critic_score, iser_score и rating, - проставили \"технические\" значения, **которые надо будет отфильтровать при анализе значений из этих полей** в дальнейшем. \n",
    "- Добавили отдельный столбец с суммарными продажами для большего удобства дальнейшего анализа.\n",
    "\n",
    "После избавления от пропусков и перевода типов данных к более удобным можно переходить к исследованию. \n",
    "### Шаг 3. Исследовательский анализ данных\n",
    "В рамках данного этапа надо будет \n",
    "- определить актуальный для анализа период \n",
    "- изучить изменение продаж по платформам \n",
    "- сделать выводы по продажам за разные годы. \n",
    "\n",
    "Изучим для начала годы выпуска игр"
   ]
  },
  {
   "cell_type": "code",
   "execution_count": 60,
   "metadata": {},
   "outputs": [
    {
     "data": {
      "text/plain": [
       "2008    1427\n",
       "2009    1426\n",
       "2010    1255\n",
       "2007    1197\n",
       "2011    1137\n",
       "2006    1006\n",
       "2005     939\n",
       "2002     830\n",
       "2003     779\n",
       "2004     764\n",
       "2012     652\n",
       "2015     606\n",
       "2014     581\n",
       "2013     545\n",
       "2016     502\n",
       "2001     482\n",
       "1998     379\n",
       "2000     350\n",
       "1999     338\n",
       "1997     289\n",
       "1996     263\n",
       "1995     219\n",
       "1994     121\n",
       "1993      60\n",
       "1981      46\n",
       "1992      43\n",
       "1991      41\n",
       "1982      36\n",
       "1986      21\n",
       "1983      17\n",
       "1989      17\n",
       "1990      16\n",
       "1987      16\n",
       "1988      15\n",
       "1985      14\n",
       "1984      14\n",
       "1980       9\n",
       "Name: year_of_release, dtype: Int64"
      ]
     },
     "metadata": {},
     "output_type": "display_data"
    }
   ],
   "source": [
    "display(data['year_of_release'].value_counts())"
   ]
  },
  {
   "cell_type": "code",
   "execution_count": 61,
   "metadata": {},
   "outputs": [
    {
     "data": {
      "image/png": "[encoded data removed]",
      "text/plain": [
       "<Figure size 1080x360 with 1 Axes>"
      ]
     },
     "metadata": {
      "needs_background": "light"
     },
     "output_type": "display_data"
    }
   ],
   "source": [
    "# построим гистограмму \n",
    "def draw_hist(dataset, col):\n",
    "    dataset[col].sort_values(ascending=True).hist(bins=100, figsize=(15,5))\n",
    "draw_hist(data, 'year_of_release')\n",
    "plt.title(\"Выпущенные игры по годам\")\n",
    "plt.xlabel(\"Год\")\n",
    "plt.ylabel(\"частота встречаемости\")\n",
    "plt.show()"
   ]
  },
  {
   "cell_type": "markdown",
   "metadata": {},
   "source": [
    "<div class=\"alert alert-block alert-success\">\n",
    " \n",
    "### Комментарий ревьюера\n",
    "    \n",
    "#### Успех\n",
    "    \n",
    "Хороший график получился. По нему мы видим то, как ведет себя выпуск платформ с каждым годом. "
   ]
  },
  {
   "cell_type": "markdown",
   "metadata": {},
   "source": [
    "Видим интересную динамику - с 1980 по 1995 игр выпускалось не так много, затем с 1995 года по 2010 годы видим хороший рост в количестве выпущенных игр (что логично, учитывая, что индустрия развивается). В 2008 году рост останавливается, в 2009 наблюдаем падение, а затем, начиная с 2011 года, видим сильное падение -  это может быть вызвано повышением требований к качеству выпускаемых игр, устареванием каких-то популярных у пользователей платформ и в большой степени кризисом (2008-2012 гг). К сожалению, мировой кризис не мог не сказаться на продажах игр.   \n",
    "Обратим внимание, что рост снова начал наблюдаться после 2013 года.   \n",
    "\n",
    "Также следует учесть, что данные за 2016 год неполные. Количество уже совершённых продаж уменьшиться вряд ли сможет, а вот вырасти - практически наверняка. Можем предположить, что данные за 2016 год будут примерно на уровне 2015 года. \n",
    "При работе над прогнозом на 2017 год будем брать данные за 2013-2016 год, чтобы не захватить в расчёт \"рухнувшую\" из-за кризиса статистику. Итого, **за актуальный период возьмём данные после 2013 года.** \n",
    "\n",
    "Изучим поподробнее информацию о платформах"
   ]
  },
  {
   "cell_type": "code",
   "execution_count": 62,
   "metadata": {},
   "outputs": [
    {
     "data": {
      "text/plain": [
       "PS2     2131\n",
       "DS      2121\n",
       "PS3     1305\n",
       "Wii     1286\n",
       "X360    1233\n",
       "PSP     1193\n",
       "PS      1190\n",
       "PC       958\n",
       "GBA      811\n",
       "XB       805\n",
       "GC       543\n",
       "3DS      512\n",
       "PSV      429\n",
       "PS4      392\n",
       "N64      316\n",
       "XOne     247\n",
       "SNES     239\n",
       "SAT      173\n",
       "WiiU     147\n",
       "2600     116\n",
       "NES       98\n",
       "GB        97\n",
       "DC        52\n",
       "GEN       27\n",
       "NG        12\n",
       "SCD        6\n",
       "WS         6\n",
       "3DO        3\n",
       "TG16       2\n",
       "PCFX       1\n",
       "GG         1\n",
       "Name: platform, dtype: int64"
      ]
     },
     "metadata": {},
     "output_type": "display_data"
    },
    {
     "data": {
      "text/html": [
       "<div>\n",
       "<style scoped>\n",
       "    .dataframe tbody tr th:only-of-type {\n",
       "        vertical-align: middle;\n",
       "    }\n",
       "\n",
       "    .dataframe tbody tr th {\n",
       "        vertical-align: top;\n",
       "    }\n",
       "\n",
       "    .dataframe thead th {\n",
       "        text-align: right;\n",
       "    }\n",
       "</style>\n",
       "<table border=\"1\" class=\"dataframe\">\n",
       "  <thead>\n",
       "    <tr style=\"text-align: right;\">\n",
       "      <th></th>\n",
       "      <th>total_sales</th>\n",
       "    </tr>\n",
       "    <tr>\n",
       "      <th>platform</th>\n",
       "      <th></th>\n",
       "    </tr>\n",
       "  </thead>\n",
       "  <tbody>\n",
       "    <tr>\n",
       "      <th>PS2</th>\n",
       "      <td>1243.92</td>\n",
       "    </tr>\n",
       "    <tr>\n",
       "      <th>X360</th>\n",
       "      <td>961.29</td>\n",
       "    </tr>\n",
       "    <tr>\n",
       "      <th>PS3</th>\n",
       "      <td>931.33</td>\n",
       "    </tr>\n",
       "    <tr>\n",
       "      <th>Wii</th>\n",
       "      <td>891.18</td>\n",
       "    </tr>\n",
       "    <tr>\n",
       "      <th>DS</th>\n",
       "      <td>802.78</td>\n",
       "    </tr>\n",
       "    <tr>\n",
       "      <th>PS</th>\n",
       "      <td>727.58</td>\n",
       "    </tr>\n",
       "    <tr>\n",
       "      <th>PS4</th>\n",
       "      <td>314.14</td>\n",
       "    </tr>\n",
       "    <tr>\n",
       "      <th>GBA</th>\n",
       "      <td>312.88</td>\n",
       "    </tr>\n",
       "    <tr>\n",
       "      <th>PSP</th>\n",
       "      <td>289.53</td>\n",
       "    </tr>\n",
       "    <tr>\n",
       "      <th>3DS</th>\n",
       "      <td>257.81</td>\n",
       "    </tr>\n",
       "    <tr>\n",
       "      <th>PC</th>\n",
       "      <td>256.11</td>\n",
       "    </tr>\n",
       "    <tr>\n",
       "      <th>GB</th>\n",
       "      <td>254.43</td>\n",
       "    </tr>\n",
       "    <tr>\n",
       "      <th>XB</th>\n",
       "      <td>252.51</td>\n",
       "    </tr>\n",
       "    <tr>\n",
       "      <th>NES</th>\n",
       "      <td>251.05</td>\n",
       "    </tr>\n",
       "    <tr>\n",
       "      <th>N64</th>\n",
       "      <td>218.01</td>\n",
       "    </tr>\n",
       "    <tr>\n",
       "      <th>SNES</th>\n",
       "      <td>200.04</td>\n",
       "    </tr>\n",
       "    <tr>\n",
       "      <th>GC</th>\n",
       "      <td>197.03</td>\n",
       "    </tr>\n",
       "    <tr>\n",
       "      <th>XOne</th>\n",
       "      <td>159.32</td>\n",
       "    </tr>\n",
       "    <tr>\n",
       "      <th>2600</th>\n",
       "      <td>86.48</td>\n",
       "    </tr>\n",
       "    <tr>\n",
       "      <th>WiiU</th>\n",
       "      <td>82.19</td>\n",
       "    </tr>\n",
       "    <tr>\n",
       "      <th>PSV</th>\n",
       "      <td>53.81</td>\n",
       "    </tr>\n",
       "    <tr>\n",
       "      <th>SAT</th>\n",
       "      <td>33.59</td>\n",
       "    </tr>\n",
       "    <tr>\n",
       "      <th>GEN</th>\n",
       "      <td>28.35</td>\n",
       "    </tr>\n",
       "    <tr>\n",
       "      <th>DC</th>\n",
       "      <td>15.95</td>\n",
       "    </tr>\n",
       "    <tr>\n",
       "      <th>SCD</th>\n",
       "      <td>1.86</td>\n",
       "    </tr>\n",
       "    <tr>\n",
       "      <th>NG</th>\n",
       "      <td>1.44</td>\n",
       "    </tr>\n",
       "    <tr>\n",
       "      <th>WS</th>\n",
       "      <td>1.42</td>\n",
       "    </tr>\n",
       "    <tr>\n",
       "      <th>TG16</th>\n",
       "      <td>0.16</td>\n",
       "    </tr>\n",
       "    <tr>\n",
       "      <th>3DO</th>\n",
       "      <td>0.10</td>\n",
       "    </tr>\n",
       "    <tr>\n",
       "      <th>GG</th>\n",
       "      <td>0.04</td>\n",
       "    </tr>\n",
       "    <tr>\n",
       "      <th>PCFX</th>\n",
       "      <td>0.03</td>\n",
       "    </tr>\n",
       "  </tbody>\n",
       "</table>\n",
       "</div>"
      ],
      "text/plain": [
       "          total_sales\n",
       "platform             \n",
       "PS2           1243.92\n",
       "X360           961.29\n",
       "PS3            931.33\n",
       "Wii            891.18\n",
       "DS             802.78\n",
       "PS             727.58\n",
       "PS4            314.14\n",
       "GBA            312.88\n",
       "PSP            289.53\n",
       "3DS            257.81\n",
       "PC             256.11\n",
       "GB             254.43\n",
       "XB             252.51\n",
       "NES            251.05\n",
       "N64            218.01\n",
       "SNES           200.04\n",
       "GC             197.03\n",
       "XOne           159.32\n",
       "2600            86.48\n",
       "WiiU            82.19\n",
       "PSV             53.81\n",
       "SAT             33.59\n",
       "GEN             28.35\n",
       "DC              15.95\n",
       "SCD              1.86\n",
       "NG               1.44\n",
       "WS               1.42\n",
       "TG16             0.16\n",
       "3DO              0.10\n",
       "GG               0.04\n",
       "PCFX             0.03"
      ]
     },
     "metadata": {},
     "output_type": "display_data"
    }
   ],
   "source": [
    "# посмотрим данные в целом \n",
    "display(data['platform'].value_counts())\n",
    "# для удобства анализа продаж по каждой платформе соберём информацию в отдельную таблицу: вынесем в неё \n",
    "# имя платформы и суммарные продажи, сразу отсортируем\n",
    "sales_by_platform = data.pivot_table(index='platform', values='total_sales', aggfunc='sum').sort_values(by='total_sales', \n",
    "    ascending=False)\n",
    "display(sales_by_platform)\n"
   ]
  },
  {
   "cell_type": "code",
   "execution_count": 63,
   "metadata": {},
   "outputs": [
    {
     "data": {
      "image/png": "[encoded data removed]",
      "text/plain": [
       "<Figure size 1080x360 with 1 Axes>"
      ]
     },
     "metadata": {
      "needs_background": "light"
     },
     "output_type": "display_data"
    }
   ],
   "source": [
    "# построим диаграмму для визуализации\n",
    "sales_by_platform.plot(kind='bar' , grid=True, figsize=(15, 5))\n",
    "plt.title(\"Продажи по платформам\")\n",
    "plt.xlabel(\"платформа\")\n",
    "plt.ylabel(\"суммарные продажи по всем регионам\")\n",
    "plt.show()"
   ]
  },
  {
   "cell_type": "markdown",
   "metadata": {},
   "source": [
    "<div class=\"alert alert-block alert-success\">\n",
    " \n",
    "### Комментарий ревьюера\n",
    "    \n",
    "#### Успех\n",
    "    \n",
    "Рейтинг по суммарным продажам получен.  "
   ]
  },
  {
   "cell_type": "markdown",
   "metadata": {},
   "source": [
    "Можем выделить однозначных лидеров - Ps2, X360, Wii, DS и PS. При этом PS2 уверенно держится на первом месте.   \n",
    "Далее требуется определить срок жизни, за какое время появляются и исчезают платформы. \n",
    "Для начала отберём топ 10 платформ "
   ]
  },
  {
   "cell_type": "code",
   "execution_count": 64,
   "metadata": {},
   "outputs": [
    {
     "data": {
      "text/plain": [
       "Index(['PS2', 'X360', 'PS3', 'Wii', 'DS', 'PS', 'PS4', 'GBA', 'PSP', '3DS'], dtype='object', name='platform')"
      ]
     },
     "metadata": {},
     "output_type": "display_data"
    }
   ],
   "source": [
    "top_platform = sales_by_platform.sort_values(by='total_sales', ascending=False)[:10].index\n",
    "display(top_platform)"
   ]
  },
  {
   "cell_type": "code",
   "execution_count": 65,
   "metadata": {
    "scrolled": true
   },
   "outputs": [
    {
     "data": {
      "image/png": "[encoded data removed]",
      "text/plain": [
       "<Figure size 1080x1080 with 10 Axes>"
      ]
     },
     "metadata": {
      "needs_background": "light"
     },
     "output_type": "display_data"
    }
   ],
   "source": [
    "# покажем отдельные графики по каждой платформе \n",
    "# поскольку взяли топ 10, графиков много, сделаем вывод их в 2 колонки \n",
    "num_plots = len(top_platform)\n",
    "num_cols = 2\n",
    "num_rows = (num_plots + num_cols - 1) // num_cols\n",
    "\n",
    "fig, axes = plt.subplots(num_rows, num_cols, figsize=(15, 15))\n",
    "\n",
    "for i, platform in enumerate(top_platform):\n",
    "    row = i // num_cols\n",
    "    col = i % num_cols\n",
    "    ax = axes[row][col]\n",
    "    platform_data = data[data['platform'] == platform].pivot_table(index='year_of_release', values='total_sales', aggfunc='sum')\n",
    "    platform_data.plot(kind='bar', ax=ax)\n",
    "    ax.set_title(platform)\n",
    "    ax.set_xlabel(\"Год\")\n",
    "    ax.set_ylabel(\"Количество продаж\")\n",
    "\n",
    "# Убрать пустые графики, если они есть\n",
    "for j in range(i + 1, num_rows * num_cols):\n",
    "    fig.delaxes(axes[j // num_cols][j % num_cols])\n",
    "\n",
    "plt.tight_layout()\n",
    "plt.show()"
   ]
  },
  {
   "cell_type": "markdown",
   "metadata": {},
   "source": [
    "<div class=\"alert alert-block alert-success\">\n",
    " \n",
    "### Комментарий ревьюера\n",
    "    \n",
    "#### Успех\n",
    "    \n",
    "Отдельно хочу выделить автоматизацию вывода графиков. Получилось отлично. "
   ]
  },
  {
   "cell_type": "markdown",
   "metadata": {},
   "source": [
    "Видим следующее: \n",
    "- PS2: продажи с 2000 по 2011 годы, пик - в 2001-2005 годах, \n",
    "- X360: продажи c 2005 по 2016 год, пик - с 2008 по 2011 \n",
    "- PS3: 2006-2013 гг, пик - 2008-2012 \n",
    "- Wii: 2006 - 2016 гг, пик с 2006 по 2010 \n",
    "- DS: 1985-2013 гг, пие с 2005 по 2009 \n",
    "- PS: 1994-2003,  пик - 1996-2000\n",
    "- PS4: 2013-2016, пик - 2014-2016\n",
    "- GBA: 2000-2007, gbr 2001-2005 годы, \n",
    "- PSP: 2004-2015, пик - 2005-2010\n",
    "- 3DS: 2011-2016, пик 2011-2014\n",
    "\n",
    "В среднем получаем, что платформа \"живёт\" в районе 10 лет (некоторые больше, некоторые меньше), наибольшее количество продаж идёт в течение примерно 6-8 лет.   \n",
    "Аномальными кажутся продажи на DS в 1985 году, проверим эти данные - может, закралась какая-то ошибка. \n",
    "   "
   ]
  },
  {
   "cell_type": "code",
   "execution_count": 66,
   "metadata": {},
   "outputs": [
    {
     "data": {
      "text/html": [
       "<div>\n",
       "<style scoped>\n",
       "    .dataframe tbody tr th:only-of-type {\n",
       "        vertical-align: middle;\n",
       "    }\n",
       "\n",
       "    .dataframe tbody tr th {\n",
       "        vertical-align: top;\n",
       "    }\n",
       "\n",
       "    .dataframe thead th {\n",
       "        text-align: right;\n",
       "    }\n",
       "</style>\n",
       "<table border=\"1\" class=\"dataframe\">\n",
       "  <thead>\n",
       "    <tr style=\"text-align: right;\">\n",
       "      <th></th>\n",
       "      <th>name</th>\n",
       "      <th>platform</th>\n",
       "      <th>year_of_release</th>\n",
       "      <th>genre</th>\n",
       "      <th>na_sales</th>\n",
       "      <th>eu_sales</th>\n",
       "      <th>jp_sales</th>\n",
       "      <th>other_sales</th>\n",
       "      <th>critic_score</th>\n",
       "      <th>user_score</th>\n",
       "      <th>rating</th>\n",
       "      <th>total_sales</th>\n",
       "    </tr>\n",
       "  </thead>\n",
       "  <tbody>\n",
       "    <tr>\n",
       "      <th>15957</th>\n",
       "      <td>Strongest Tokyo University Shogi DS</td>\n",
       "      <td>DS</td>\n",
       "      <td>1985</td>\n",
       "      <td>Action</td>\n",
       "      <td>0.0</td>\n",
       "      <td>0.0</td>\n",
       "      <td>0.02</td>\n",
       "      <td>0.0</td>\n",
       "      <td>-1.0</td>\n",
       "      <td>-1.0</td>\n",
       "      <td>TBD</td>\n",
       "      <td>0.02</td>\n",
       "    </tr>\n",
       "  </tbody>\n",
       "</table>\n",
       "</div>"
      ],
      "text/plain": [
       "                                      name platform  year_of_release   genre  \\\n",
       "15957  Strongest Tokyo University Shogi DS       DS             1985  Action   \n",
       "\n",
       "       na_sales  eu_sales  jp_sales  other_sales  critic_score  user_score  \\\n",
       "15957       0.0       0.0      0.02          0.0          -1.0        -1.0   \n",
       "\n",
       "      rating  total_sales  \n",
       "15957    TBD         0.02  "
      ]
     },
     "metadata": {},
     "output_type": "display_data"
    }
   ],
   "source": [
    "display(data.query('platform == \"DS\" and year_of_release < 2004'))"
   ]
  },
  {
   "cell_type": "markdown",
   "metadata": {},
   "source": [
    "Выглядит как ошибка. Тут два основных фактора: \n",
    "- согласно википедии, DS была выпущена в 2004 году \n",
    "- если это была \"пробная\" игра для этой платформы, после которой консоль ушла на доработку на почти 20 лет - даже при таком предположении данная строчка скорее искажает данные, чем помогает их проанализировать и сделать выводы.   \n",
    "\n",
    "Строчка всего одна, поэтому проще всего будет от неё избавиться. "
   ]
  },
  {
   "cell_type": "code",
   "execution_count": 67,
   "metadata": {},
   "outputs": [
    {
     "data": {
      "text/html": [
       "<div>\n",
       "<style scoped>\n",
       "    .dataframe tbody tr th:only-of-type {\n",
       "        vertical-align: middle;\n",
       "    }\n",
       "\n",
       "    .dataframe tbody tr th {\n",
       "        vertical-align: top;\n",
       "    }\n",
       "\n",
       "    .dataframe thead th {\n",
       "        text-align: right;\n",
       "    }\n",
       "</style>\n",
       "<table border=\"1\" class=\"dataframe\">\n",
       "  <thead>\n",
       "    <tr style=\"text-align: right;\">\n",
       "      <th></th>\n",
       "      <th>name</th>\n",
       "      <th>platform</th>\n",
       "      <th>year_of_release</th>\n",
       "      <th>genre</th>\n",
       "      <th>na_sales</th>\n",
       "      <th>eu_sales</th>\n",
       "      <th>jp_sales</th>\n",
       "      <th>other_sales</th>\n",
       "      <th>critic_score</th>\n",
       "      <th>user_score</th>\n",
       "      <th>rating</th>\n",
       "      <th>total_sales</th>\n",
       "    </tr>\n",
       "  </thead>\n",
       "  <tbody>\n",
       "  </tbody>\n",
       "</table>\n",
       "</div>"
      ],
      "text/plain": [
       "Empty DataFrame\n",
       "Columns: [name, platform, year_of_release, genre, na_sales, eu_sales, jp_sales, other_sales, critic_score, user_score, rating, total_sales]\n",
       "Index: []"
      ]
     },
     "metadata": {},
     "output_type": "display_data"
    }
   ],
   "source": [
    "data = data.drop(index=[15957]).reset_index(drop=True)\n",
    "display(data.query('platform == \"DS\" and year_of_release < 2004'))"
   ]
  },
  {
   "cell_type": "markdown",
   "metadata": {},
   "source": [
    "Для более наглядных результатов отобразим ещё все данные на одном графике"
   ]
  },
  {
   "cell_type": "code",
   "execution_count": 68,
   "metadata": {
    "scrolled": true
   },
   "outputs": [
    {
     "data": {
      "image/png": "[encoded data removed]",
      "text/plain": [
       "<Figure size 1080x360 with 1 Axes>"
      ]
     },
     "metadata": {
      "needs_background": "light"
     },
     "output_type": "display_data"
    }
   ],
   "source": [
    "# покажем все данные на одном графике \n",
    "# для этого придётся создать новую таблицу, которая будет содержать не только информацию по платформе и \n",
    "# всем продажам, но и информацию о годах выпуска \n",
    "for platform in top_platform:\n",
    "    (\n",
    "    data.query('platform == @platform')\n",
    "    .pivot_table(index = 'year_of_release', values = 'total_sales', aggfunc = 'sum')\n",
    "    .sort_values('year_of_release', ascending = False)['total_sales']\n",
    "    .plot(figsize = (15, 5), label=platform)\n",
    "    )\n",
    "    plt.title('Жизненный цикл шести платформ с максимальными продажами')\n",
    "    plt.xlabel('Год выпуска')\n",
    "    plt.ylabel('Суммарные продажи')\n",
    "    plt.legend() "
   ]
  },
  {
   "cell_type": "markdown",
   "metadata": {},
   "source": [
    "<div class=\"alert alert-block alert-success\">\n",
    " \n",
    "### Комментарий ревьюера\n",
    "    \n",
    "#### Успех\n",
    "    \n",
    "По графику отчетливо виден цикл жизни плафторм. "
   ]
  },
  {
   "cell_type": "markdown",
   "metadata": {},
   "source": [
    "**Промежуточный вывод** по сроку жизни платформ: \n",
    "В среднем можно сказать, что срок жизни популярных платформ - около 6-8 лет, более \"новые\" живут чуть дольше, чем старые. Для разных поколений консолей (например PS, PS2, PS3, PS4) новое поколение выходит примерно на спадении пика популярности предыдущего: это довольно логично и в целом очень жизненно, в реальности так и происходит. \n",
    "\n",
    "За актуальный период возьмём данные с 2013 года, потому что \n",
    "- это в целом дата выхода и начало развития актуальных на анализируемый период поколений устройств \n",
    "- данные за 2013 год меньше зависят от кризиса 2008-2012 года, который очень сильно повлиял на продажи. \n",
    "\n",
    "Перейдём далее к обработке данных за выбранный актуальный период.    \n",
    "В первую очередь, разберёмся, какие платформы лидируют по продажам, растут или падают, и выберем несколько потенциально прибыльных платформ."
   ]
  },
  {
   "cell_type": "code",
   "execution_count": 69,
   "metadata": {},
   "outputs": [
    {
     "name": "stdout",
     "output_type": "stream",
     "text": [
      "<class 'pandas.core.frame.DataFrame'>\n",
      "Int64Index: 2234 entries, 16 to 16450\n",
      "Data columns (total 12 columns):\n",
      " #   Column           Non-Null Count  Dtype  \n",
      "---  ------           --------------  -----  \n",
      " 0   name             2234 non-null   object \n",
      " 1   platform         2234 non-null   object \n",
      " 2   year_of_release  2234 non-null   Int64  \n",
      " 3   genre            2234 non-null   object \n",
      " 4   na_sales         2234 non-null   float64\n",
      " 5   eu_sales         2234 non-null   float64\n",
      " 6   jp_sales         2234 non-null   float64\n",
      " 7   other_sales      2234 non-null   float64\n",
      " 8   critic_score     2234 non-null   float64\n",
      " 9   user_score       2234 non-null   float64\n",
      " 10  rating           2234 non-null   object \n",
      " 11  total_sales      2234 non-null   float64\n",
      "dtypes: Int64(1), float64(7), object(4)\n",
      "memory usage: 229.1+ KB\n"
     ]
    }
   ],
   "source": [
    "# отрежем актуальные данные \n",
    "actual_data = data.query('year_of_release >= 2013')\n",
    "actual_data.info()"
   ]
  },
  {
   "cell_type": "markdown",
   "metadata": {},
   "source": [
    "<div class=\"alert alert-block alert-success\">\n",
    " \n",
    "### Комментарий ревьюера\n",
    "    \n",
    "#### Успех\n",
    "    \n",
    "С актуальным периодом согласен. Нам незачем обращать внимание на старые данные. "
   ]
  },
  {
   "cell_type": "markdown",
   "metadata": {},
   "source": [
    "Далее будем работать с актуальными данными - actual_data. Снова построим таблицу по продажам, но уже для \"акутальных\" данных. "
   ]
  },
  {
   "cell_type": "code",
   "execution_count": 70,
   "metadata": {},
   "outputs": [
    {
     "data": {
      "text/html": [
       "<style  type=\"text/css\" >\n",
       "#T_84535_row0_col0,#T_84535_row1_col0,#T_84535_row2_col1,#T_84535_row3_col0,#T_84535_row4_col2,#T_84535_row5_col0,#T_84535_row6_col1,#T_84535_row7_col0,#T_84535_row8_col1,#T_84535_row9_col0,#T_84535_row10_col2{\n",
       "            background-color:  lightgreen;\n",
       "        }#T_84535_row0_col3,#T_84535_row1_col1,#T_84535_row1_col2,#T_84535_row1_col3,#T_84535_row2_col3,#T_84535_row3_col3,#T_84535_row4_col0,#T_84535_row5_col3,#T_84535_row6_col3,#T_84535_row7_col3,#T_84535_row8_col3,#T_84535_row9_col3,#T_84535_row10_col0{\n",
       "            background-color:  pink;\n",
       "        }</style><table id=\"T_84535_\" ><thead>    <tr>        <th class=\"index_name level0\" >year_of_release</th>        <th class=\"col_heading level0 col0\" >2013</th>        <th class=\"col_heading level0 col1\" >2014</th>        <th class=\"col_heading level0 col2\" >2015</th>        <th class=\"col_heading level0 col3\" >2016</th>    </tr>    <tr>        <th class=\"index_name level0\" >platform</th>        <th class=\"blank\" ></th>        <th class=\"blank\" ></th>        <th class=\"blank\" ></th>        <th class=\"blank\" ></th>    </tr></thead><tbody>\n",
       "                <tr>\n",
       "                        <th id=\"T_84535_level0_row0\" class=\"row_heading level0 row0\" >3DS</th>\n",
       "                        <td id=\"T_84535_row0_col0\" class=\"data row0 col0\" >56.570000</td>\n",
       "                        <td id=\"T_84535_row0_col1\" class=\"data row0 col1\" >43.760000</td>\n",
       "                        <td id=\"T_84535_row0_col2\" class=\"data row0 col2\" >27.780000</td>\n",
       "                        <td id=\"T_84535_row0_col3\" class=\"data row0 col3\" >15.140000</td>\n",
       "            </tr>\n",
       "            <tr>\n",
       "                        <th id=\"T_84535_level0_row1\" class=\"row_heading level0 row1\" >DS</th>\n",
       "                        <td id=\"T_84535_row1_col0\" class=\"data row1 col0\" >1.540000</td>\n",
       "                        <td id=\"T_84535_row1_col1\" class=\"data row1 col1\" >0.000000</td>\n",
       "                        <td id=\"T_84535_row1_col2\" class=\"data row1 col2\" >0.000000</td>\n",
       "                        <td id=\"T_84535_row1_col3\" class=\"data row1 col3\" >0.000000</td>\n",
       "            </tr>\n",
       "            <tr>\n",
       "                        <th id=\"T_84535_level0_row2\" class=\"row_heading level0 row2\" >PC</th>\n",
       "                        <td id=\"T_84535_row2_col0\" class=\"data row2 col0\" >12.730000</td>\n",
       "                        <td id=\"T_84535_row2_col1\" class=\"data row2 col1\" >13.280000</td>\n",
       "                        <td id=\"T_84535_row2_col2\" class=\"data row2 col2\" >8.520000</td>\n",
       "                        <td id=\"T_84535_row2_col3\" class=\"data row2 col3\" >5.250000</td>\n",
       "            </tr>\n",
       "            <tr>\n",
       "                        <th id=\"T_84535_level0_row3\" class=\"row_heading level0 row3\" >PS3</th>\n",
       "                        <td id=\"T_84535_row3_col0\" class=\"data row3 col0\" >113.250000</td>\n",
       "                        <td id=\"T_84535_row3_col1\" class=\"data row3 col1\" >47.760000</td>\n",
       "                        <td id=\"T_84535_row3_col2\" class=\"data row3 col2\" >16.820000</td>\n",
       "                        <td id=\"T_84535_row3_col3\" class=\"data row3 col3\" >3.600000</td>\n",
       "            </tr>\n",
       "            <tr>\n",
       "                        <th id=\"T_84535_level0_row4\" class=\"row_heading level0 row4\" >PS4</th>\n",
       "                        <td id=\"T_84535_row4_col0\" class=\"data row4 col0\" >25.990000</td>\n",
       "                        <td id=\"T_84535_row4_col1\" class=\"data row4 col1\" >100.000000</td>\n",
       "                        <td id=\"T_84535_row4_col2\" class=\"data row4 col2\" >118.900000</td>\n",
       "                        <td id=\"T_84535_row4_col3\" class=\"data row4 col3\" >69.250000</td>\n",
       "            </tr>\n",
       "            <tr>\n",
       "                        <th id=\"T_84535_level0_row5\" class=\"row_heading level0 row5\" >PSP</th>\n",
       "                        <td id=\"T_84535_row5_col0\" class=\"data row5 col0\" >3.140000</td>\n",
       "                        <td id=\"T_84535_row5_col1\" class=\"data row5 col1\" >0.240000</td>\n",
       "                        <td id=\"T_84535_row5_col2\" class=\"data row5 col2\" >0.120000</td>\n",
       "                        <td id=\"T_84535_row5_col3\" class=\"data row5 col3\" >0.000000</td>\n",
       "            </tr>\n",
       "            <tr>\n",
       "                        <th id=\"T_84535_level0_row6\" class=\"row_heading level0 row6\" >PSV</th>\n",
       "                        <td id=\"T_84535_row6_col0\" class=\"data row6 col0\" >10.590000</td>\n",
       "                        <td id=\"T_84535_row6_col1\" class=\"data row6 col1\" >11.900000</td>\n",
       "                        <td id=\"T_84535_row6_col2\" class=\"data row6 col2\" >6.250000</td>\n",
       "                        <td id=\"T_84535_row6_col3\" class=\"data row6 col3\" >4.250000</td>\n",
       "            </tr>\n",
       "            <tr>\n",
       "                        <th id=\"T_84535_level0_row7\" class=\"row_heading level0 row7\" >Wii</th>\n",
       "                        <td id=\"T_84535_row7_col0\" class=\"data row7 col0\" >8.590000</td>\n",
       "                        <td id=\"T_84535_row7_col1\" class=\"data row7 col1\" >3.750000</td>\n",
       "                        <td id=\"T_84535_row7_col2\" class=\"data row7 col2\" >1.140000</td>\n",
       "                        <td id=\"T_84535_row7_col3\" class=\"data row7 col3\" >0.180000</td>\n",
       "            </tr>\n",
       "            <tr>\n",
       "                        <th id=\"T_84535_level0_row8\" class=\"row_heading level0 row8\" >WiiU</th>\n",
       "                        <td id=\"T_84535_row8_col0\" class=\"data row8 col0\" >21.650000</td>\n",
       "                        <td id=\"T_84535_row8_col1\" class=\"data row8 col1\" >22.030000</td>\n",
       "                        <td id=\"T_84535_row8_col2\" class=\"data row8 col2\" >16.350000</td>\n",
       "                        <td id=\"T_84535_row8_col3\" class=\"data row8 col3\" >4.600000</td>\n",
       "            </tr>\n",
       "            <tr>\n",
       "                        <th id=\"T_84535_level0_row9\" class=\"row_heading level0 row9\" >X360</th>\n",
       "                        <td id=\"T_84535_row9_col0\" class=\"data row9 col0\" >88.580000</td>\n",
       "                        <td id=\"T_84535_row9_col1\" class=\"data row9 col1\" >34.740000</td>\n",
       "                        <td id=\"T_84535_row9_col2\" class=\"data row9 col2\" >11.960000</td>\n",
       "                        <td id=\"T_84535_row9_col3\" class=\"data row9 col3\" >1.520000</td>\n",
       "            </tr>\n",
       "            <tr>\n",
       "                        <th id=\"T_84535_level0_row10\" class=\"row_heading level0 row10\" >XOne</th>\n",
       "                        <td id=\"T_84535_row10_col0\" class=\"data row10 col0\" >18.960000</td>\n",
       "                        <td id=\"T_84535_row10_col1\" class=\"data row10 col1\" >54.070000</td>\n",
       "                        <td id=\"T_84535_row10_col2\" class=\"data row10 col2\" >60.140000</td>\n",
       "                        <td id=\"T_84535_row10_col3\" class=\"data row10 col3\" >26.150000</td>\n",
       "            </tr>\n",
       "    </tbody></table>"
      ],
      "text/plain": [
       "<pandas.io.formats.style.Styler at 0x7ff64c9b1bb0>"
      ]
     },
     "metadata": {},
     "output_type": "display_data"
    },
    {
     "data": {
      "text/plain": [
       "platform\n",
       "PS4     314.14\n",
       "PS3     181.43\n",
       "XOne    159.32\n",
       "3DS     143.25\n",
       "X360    136.80\n",
       "WiiU     64.63\n",
       "PC       39.78\n",
       "PSV      32.99\n",
       "Wii      13.66\n",
       "PSP       3.50\n",
       "DS        1.54\n",
       "dtype: float64"
      ]
     },
     "metadata": {},
     "output_type": "display_data"
    },
    {
     "data": {
      "text/html": [
       "<style  type=\"text/css\" >\n",
       "#T_5fe1f_row0_col0,#T_5fe1f_row1_col3,#T_5fe1f_row2_col0,#T_5fe1f_row3_col3,#T_5fe1f_row4_col3,#T_5fe1f_row5_col3,#T_5fe1f_row6_col3,#T_5fe1f_row7_col3,#T_5fe1f_row8_col3,#T_5fe1f_row9_col3,#T_5fe1f_row10_col1,#T_5fe1f_row10_col2,#T_5fe1f_row10_col3{\n",
       "            background-color:  pink;\n",
       "        }</style><table id=\"T_5fe1f_\" ><thead>    <tr>        <th class=\"index_name level0\" >year_of_release</th>        <th class=\"col_heading level0 col0\" >2013</th>        <th class=\"col_heading level0 col1\" >2014</th>        <th class=\"col_heading level0 col2\" >2015</th>        <th class=\"col_heading level0 col3\" >2016</th>        <th class=\"col_heading level0 col4\" >total</th>    </tr>    <tr>        <th class=\"index_name level0\" >platform</th>        <th class=\"blank\" ></th>        <th class=\"blank\" ></th>        <th class=\"blank\" ></th>        <th class=\"blank\" ></th>        <th class=\"blank\" ></th>    </tr></thead><tbody>\n",
       "                <tr>\n",
       "                        <th id=\"T_5fe1f_level0_row0\" class=\"row_heading level0 row0\" >PS4</th>\n",
       "                        <td id=\"T_5fe1f_row0_col0\" class=\"data row0 col0\" >25.990000</td>\n",
       "                        <td id=\"T_5fe1f_row0_col1\" class=\"data row0 col1\" >100.000000</td>\n",
       "                        <td id=\"T_5fe1f_row0_col2\" class=\"data row0 col2\" >118.900000</td>\n",
       "                        <td id=\"T_5fe1f_row0_col3\" class=\"data row0 col3\" >69.250000</td>\n",
       "                        <td id=\"T_5fe1f_row0_col4\" class=\"data row0 col4\" >314.140000</td>\n",
       "            </tr>\n",
       "            <tr>\n",
       "                        <th id=\"T_5fe1f_level0_row1\" class=\"row_heading level0 row1\" >PS3</th>\n",
       "                        <td id=\"T_5fe1f_row1_col0\" class=\"data row1 col0\" >113.250000</td>\n",
       "                        <td id=\"T_5fe1f_row1_col1\" class=\"data row1 col1\" >47.760000</td>\n",
       "                        <td id=\"T_5fe1f_row1_col2\" class=\"data row1 col2\" >16.820000</td>\n",
       "                        <td id=\"T_5fe1f_row1_col3\" class=\"data row1 col3\" >3.600000</td>\n",
       "                        <td id=\"T_5fe1f_row1_col4\" class=\"data row1 col4\" >181.430000</td>\n",
       "            </tr>\n",
       "            <tr>\n",
       "                        <th id=\"T_5fe1f_level0_row2\" class=\"row_heading level0 row2\" >XOne</th>\n",
       "                        <td id=\"T_5fe1f_row2_col0\" class=\"data row2 col0\" >18.960000</td>\n",
       "                        <td id=\"T_5fe1f_row2_col1\" class=\"data row2 col1\" >54.070000</td>\n",
       "                        <td id=\"T_5fe1f_row2_col2\" class=\"data row2 col2\" >60.140000</td>\n",
       "                        <td id=\"T_5fe1f_row2_col3\" class=\"data row2 col3\" >26.150000</td>\n",
       "                        <td id=\"T_5fe1f_row2_col4\" class=\"data row2 col4\" >159.320000</td>\n",
       "            </tr>\n",
       "            <tr>\n",
       "                        <th id=\"T_5fe1f_level0_row3\" class=\"row_heading level0 row3\" >3DS</th>\n",
       "                        <td id=\"T_5fe1f_row3_col0\" class=\"data row3 col0\" >56.570000</td>\n",
       "                        <td id=\"T_5fe1f_row3_col1\" class=\"data row3 col1\" >43.760000</td>\n",
       "                        <td id=\"T_5fe1f_row3_col2\" class=\"data row3 col2\" >27.780000</td>\n",
       "                        <td id=\"T_5fe1f_row3_col3\" class=\"data row3 col3\" >15.140000</td>\n",
       "                        <td id=\"T_5fe1f_row3_col4\" class=\"data row3 col4\" >143.250000</td>\n",
       "            </tr>\n",
       "            <tr>\n",
       "                        <th id=\"T_5fe1f_level0_row4\" class=\"row_heading level0 row4\" >X360</th>\n",
       "                        <td id=\"T_5fe1f_row4_col0\" class=\"data row4 col0\" >88.580000</td>\n",
       "                        <td id=\"T_5fe1f_row4_col1\" class=\"data row4 col1\" >34.740000</td>\n",
       "                        <td id=\"T_5fe1f_row4_col2\" class=\"data row4 col2\" >11.960000</td>\n",
       "                        <td id=\"T_5fe1f_row4_col3\" class=\"data row4 col3\" >1.520000</td>\n",
       "                        <td id=\"T_5fe1f_row4_col4\" class=\"data row4 col4\" >136.800000</td>\n",
       "            </tr>\n",
       "            <tr>\n",
       "                        <th id=\"T_5fe1f_level0_row5\" class=\"row_heading level0 row5\" >WiiU</th>\n",
       "                        <td id=\"T_5fe1f_row5_col0\" class=\"data row5 col0\" >21.650000</td>\n",
       "                        <td id=\"T_5fe1f_row5_col1\" class=\"data row5 col1\" >22.030000</td>\n",
       "                        <td id=\"T_5fe1f_row5_col2\" class=\"data row5 col2\" >16.350000</td>\n",
       "                        <td id=\"T_5fe1f_row5_col3\" class=\"data row5 col3\" >4.600000</td>\n",
       "                        <td id=\"T_5fe1f_row5_col4\" class=\"data row5 col4\" >64.630000</td>\n",
       "            </tr>\n",
       "            <tr>\n",
       "                        <th id=\"T_5fe1f_level0_row6\" class=\"row_heading level0 row6\" >PC</th>\n",
       "                        <td id=\"T_5fe1f_row6_col0\" class=\"data row6 col0\" >12.730000</td>\n",
       "                        <td id=\"T_5fe1f_row6_col1\" class=\"data row6 col1\" >13.280000</td>\n",
       "                        <td id=\"T_5fe1f_row6_col2\" class=\"data row6 col2\" >8.520000</td>\n",
       "                        <td id=\"T_5fe1f_row6_col3\" class=\"data row6 col3\" >5.250000</td>\n",
       "                        <td id=\"T_5fe1f_row6_col4\" class=\"data row6 col4\" >39.780000</td>\n",
       "            </tr>\n",
       "            <tr>\n",
       "                        <th id=\"T_5fe1f_level0_row7\" class=\"row_heading level0 row7\" >PSV</th>\n",
       "                        <td id=\"T_5fe1f_row7_col0\" class=\"data row7 col0\" >10.590000</td>\n",
       "                        <td id=\"T_5fe1f_row7_col1\" class=\"data row7 col1\" >11.900000</td>\n",
       "                        <td id=\"T_5fe1f_row7_col2\" class=\"data row7 col2\" >6.250000</td>\n",
       "                        <td id=\"T_5fe1f_row7_col3\" class=\"data row7 col3\" >4.250000</td>\n",
       "                        <td id=\"T_5fe1f_row7_col4\" class=\"data row7 col4\" >32.990000</td>\n",
       "            </tr>\n",
       "            <tr>\n",
       "                        <th id=\"T_5fe1f_level0_row8\" class=\"row_heading level0 row8\" >Wii</th>\n",
       "                        <td id=\"T_5fe1f_row8_col0\" class=\"data row8 col0\" >8.590000</td>\n",
       "                        <td id=\"T_5fe1f_row8_col1\" class=\"data row8 col1\" >3.750000</td>\n",
       "                        <td id=\"T_5fe1f_row8_col2\" class=\"data row8 col2\" >1.140000</td>\n",
       "                        <td id=\"T_5fe1f_row8_col3\" class=\"data row8 col3\" >0.180000</td>\n",
       "                        <td id=\"T_5fe1f_row8_col4\" class=\"data row8 col4\" >13.660000</td>\n",
       "            </tr>\n",
       "            <tr>\n",
       "                        <th id=\"T_5fe1f_level0_row9\" class=\"row_heading level0 row9\" >PSP</th>\n",
       "                        <td id=\"T_5fe1f_row9_col0\" class=\"data row9 col0\" >3.140000</td>\n",
       "                        <td id=\"T_5fe1f_row9_col1\" class=\"data row9 col1\" >0.240000</td>\n",
       "                        <td id=\"T_5fe1f_row9_col2\" class=\"data row9 col2\" >0.120000</td>\n",
       "                        <td id=\"T_5fe1f_row9_col3\" class=\"data row9 col3\" >0.000000</td>\n",
       "                        <td id=\"T_5fe1f_row9_col4\" class=\"data row9 col4\" >3.500000</td>\n",
       "            </tr>\n",
       "            <tr>\n",
       "                        <th id=\"T_5fe1f_level0_row10\" class=\"row_heading level0 row10\" >DS</th>\n",
       "                        <td id=\"T_5fe1f_row10_col0\" class=\"data row10 col0\" >1.540000</td>\n",
       "                        <td id=\"T_5fe1f_row10_col1\" class=\"data row10 col1\" >0.000000</td>\n",
       "                        <td id=\"T_5fe1f_row10_col2\" class=\"data row10 col2\" >0.000000</td>\n",
       "                        <td id=\"T_5fe1f_row10_col3\" class=\"data row10 col3\" >0.000000</td>\n",
       "                        <td id=\"T_5fe1f_row10_col4\" class=\"data row10 col4\" >1.540000</td>\n",
       "            </tr>\n",
       "    </tbody></table>"
      ],
      "text/plain": [
       "<pandas.io.formats.style.Styler at 0x7ff64c0f9ca0>"
      ]
     },
     "metadata": {},
     "output_type": "display_data"
    }
   ],
   "source": [
    "actual_sales = (\n",
    "    actual_data.pivot_table(\n",
    "        index='platform',\n",
    "        columns='year_of_release',\n",
    "        values='total_sales',\n",
    "        aggfunc='sum',\n",
    "        fill_value=0)\n",
    ")\n",
    "# для красоты и простоты отслеживания динамики добавим отображение максимального и минимального значения цветом\n",
    "display(actual_sales\n",
    "    .style\n",
    "    .highlight_max(color='lightgreen', axis=1).highlight_min(color='pink', axis=1))\n",
    "\n",
    "# а ещё посчитаем полную сумму за весь период \n",
    "display(actual_sales.sum(axis=1).sort_values(ascending = False))\n",
    "\n",
    "# добавим сумму в таблицу\n",
    "actual_sales['total'] = actual_sales.sum(axis=1)\n",
    "\n",
    "display(actual_sales.sort_values(by = 'total', ascending = False)\n",
    "    .style\n",
    "    .highlight_min(color='pink', axis=1))\n",
    "\n",
    "\n"
   ]
  },
  {
   "cell_type": "markdown",
   "metadata": {},
   "source": [
    "<div class=\"alert alert-block alert-warning\">\n",
    " \n",
    "### Комментарий ревьюера\n",
    "    \n",
    "#### Совет\n",
    "    \n",
    "А тут можно было вывести еще график за актуальный период для наглядности "
   ]
  },
  {
   "cell_type": "markdown",
   "metadata": {},
   "source": [
    "Топ-10 почти не изменился: \n",
    "- \"пробились\" в топ после изменения периода анализируемых данных \n",
    "    - PC \n",
    "    - PSV\n",
    "    - WiiU\n",
    "    - XOne\n",
    "- ушли из топа\n",
    "    - PS2\n",
    "    - PS 1 поколения\n",
    "    - GBA\n",
    "    - DS (тут после 2013 года вообще нет продаж)\n",
    "\n",
    "Учитывая, что данные за 2016 год могут быть неполными, видим, что однозначно растут по продажам PS4 и XOne. По этим платформам и в \"неполном\" 2016 году продажи лучше, чем у остальных - это однозначные лидеры.   \n",
    "*В целом, правильность выбора этих платформ как перспективных подтверждается реальностью, в 2017 году они действительно были очень популярны, и студии выпускали ещё достаточно много эксклюзивов для этих платформ*. \n",
    "Устаревающие платформы - PS3 (на смену которой и пришла PS4), X360, 3DS, WiiU точно не стоит рассматривать как перспективные, поскольку им на смену пришли новые поколения.  \n",
    "Примечательно, что ПК хоть и не растёт в продажах, но и не падает критично - всё же для ПК выходят и новые игры, и всегда есть место ностальгирующим игрокам. \n",
    "\n",
    "**Промежуточный вывод**: перспективными считаем платформы PS4 и XOne.\n",
    "Построим \"ящик с усами\" по глобальным продажам игр в разбивке по платформам."
   ]
  },
  {
   "cell_type": "code",
   "execution_count": 71,
   "metadata": {},
   "outputs": [
    {
     "data": {
      "image/png": "[encoded data removed]",
      "text/plain": [
       "<Figure size 1080x360 with 1 Axes>"
      ]
     },
     "metadata": {
      "needs_background": "light"
     },
     "output_type": "display_data"
    }
   ],
   "source": [
    "# строим по нашей новой таблице, где отрезаны данные за актуальный период и данные \n",
    "# агрегированы по годам \n",
    "# по платформам - выбрали топ 7 из топа, полученного на предыдущем шаге\n",
    "(\n",
    "    actual_data.query('platform in (\"PS4\",\"PS3\",\"XOne\",\"3DS\",\"X360\",\"WiiU\",\"PC\")').pivot_table(\n",
    "        index='year_of_release',\n",
    "        columns='platform',\n",
    "        values='total_sales')\n",
    "    .boxplot(figsize=(15, 5))\n",
    ")\n",
    "plt.title('Размах продаж игр на платформах по годам')\n",
    "plt.xlabel('платформа')\n",
    "plt.ylabel('млн проданных копий')\n",
    "plt.show()"
   ]
  },
  {
   "cell_type": "markdown",
   "metadata": {},
   "source": [
    "<div class=\"alert alert-block alert-danger\">\n",
    " \n",
    "### Комментарий ревьюера\n",
    "    \n",
    "#### Ошибка\n",
    "    \n",
    "А вот здесь правильнее будет оставить штук 5 наиболее перспективных платформ актуального периода. А еще тут надо построить этот график без предварительной агрегации по суммер. "
   ]
  },
  {
   "cell_type": "markdown",
   "metadata": {},
   "source": [
    "<div class=\"alert alert-block alert-info\">\n",
    " \n",
    "### Комментарий студента\n",
    "\n",
    "Спасибо за поправку! Удалила агрегацию, выделила топ 7 (5 субьективно некрасиво смотрятся :)) "
   ]
  },
  {
   "cell_type": "markdown",
   "metadata": {},
   "source": [
    "<div class=\"alert alert-block alert-success\">\n",
    " \n",
    "### Комментарий ревьюера\n",
    "    \n",
    "#### Успех\n",
    "    \n",
    "Здорово вышло в данном случае "
   ]
  },
  {
   "cell_type": "markdown",
   "metadata": {},
   "source": [
    "По графику и, в частности, по медианным значениям, наглядно видим следующее: \n",
    "- PS4 значительно опережает своего предшественника PS3\n",
    "- XOne тоже \"борется\" с предыдущей версией и обгоняет его, хоть разница не так значительна, как для PS \n",
    "- за наш период 3DS выглядит конкурентоспособным, хотя если посмотреть на динамику, видим, что продажи падают. \n",
    "**вывод**: По медианным значениям видим, что наши \"лидеры\" - перспективные платформы - уже значительно опережают своих предшественников, косвенно подтвердили правильность выбора перспективных платформ для дальнейшего исследования и прогнозов.\n",
    "\n",
    "Изучим влияние отзывов на продажи на примере одной платформы. Для анализа выберем PS4 - и из-за того, что она в нашей выборке самая популярная, и из персонального интереса к этой платформе. \n",
    "Построим диаграмму рассеяния и изучим корреляцию отзывов (критиков и пользователей) и продаж"
   ]
  },
  {
   "cell_type": "code",
   "execution_count": 72,
   "metadata": {},
   "outputs": [
    {
     "data": {
      "text/html": [
       "<div>\n",
       "<style scoped>\n",
       "    .dataframe tbody tr th:only-of-type {\n",
       "        vertical-align: middle;\n",
       "    }\n",
       "\n",
       "    .dataframe tbody tr th {\n",
       "        vertical-align: top;\n",
       "    }\n",
       "\n",
       "    .dataframe thead th {\n",
       "        text-align: right;\n",
       "    }\n",
       "</style>\n",
       "<table border=\"1\" class=\"dataframe\">\n",
       "  <thead>\n",
       "    <tr style=\"text-align: right;\">\n",
       "      <th></th>\n",
       "      <th>name</th>\n",
       "      <th>platform</th>\n",
       "      <th>year_of_release</th>\n",
       "      <th>genre</th>\n",
       "      <th>na_sales</th>\n",
       "      <th>eu_sales</th>\n",
       "      <th>jp_sales</th>\n",
       "      <th>other_sales</th>\n",
       "      <th>critic_score</th>\n",
       "      <th>user_score</th>\n",
       "      <th>rating</th>\n",
       "      <th>total_sales</th>\n",
       "    </tr>\n",
       "  </thead>\n",
       "  <tbody>\n",
       "    <tr>\n",
       "      <th>31</th>\n",
       "      <td>Call of Duty: Black Ops 3</td>\n",
       "      <td>PS4</td>\n",
       "      <td>2015</td>\n",
       "      <td>Shooter</td>\n",
       "      <td>6.03</td>\n",
       "      <td>5.86</td>\n",
       "      <td>0.36</td>\n",
       "      <td>2.38</td>\n",
       "      <td>-1.0</td>\n",
       "      <td>-1.0</td>\n",
       "      <td>TBD</td>\n",
       "      <td>14.63</td>\n",
       "    </tr>\n",
       "    <tr>\n",
       "      <th>42</th>\n",
       "      <td>Grand Theft Auto V</td>\n",
       "      <td>PS4</td>\n",
       "      <td>2014</td>\n",
       "      <td>Action</td>\n",
       "      <td>3.96</td>\n",
       "      <td>6.31</td>\n",
       "      <td>0.38</td>\n",
       "      <td>1.97</td>\n",
       "      <td>97.0</td>\n",
       "      <td>8.3</td>\n",
       "      <td>M</td>\n",
       "      <td>12.62</td>\n",
       "    </tr>\n",
       "    <tr>\n",
       "      <th>77</th>\n",
       "      <td>FIFA 16</td>\n",
       "      <td>PS4</td>\n",
       "      <td>2015</td>\n",
       "      <td>Sports</td>\n",
       "      <td>1.12</td>\n",
       "      <td>6.12</td>\n",
       "      <td>0.06</td>\n",
       "      <td>1.28</td>\n",
       "      <td>82.0</td>\n",
       "      <td>4.3</td>\n",
       "      <td>E</td>\n",
       "      <td>8.58</td>\n",
       "    </tr>\n",
       "    <tr>\n",
       "      <th>87</th>\n",
       "      <td>Star Wars Battlefront (2015)</td>\n",
       "      <td>PS4</td>\n",
       "      <td>2015</td>\n",
       "      <td>Shooter</td>\n",
       "      <td>2.99</td>\n",
       "      <td>3.49</td>\n",
       "      <td>0.22</td>\n",
       "      <td>1.28</td>\n",
       "      <td>-1.0</td>\n",
       "      <td>-1.0</td>\n",
       "      <td>TBD</td>\n",
       "      <td>7.98</td>\n",
       "    </tr>\n",
       "    <tr>\n",
       "      <th>92</th>\n",
       "      <td>Call of Duty: Advanced Warfare</td>\n",
       "      <td>PS4</td>\n",
       "      <td>2014</td>\n",
       "      <td>Shooter</td>\n",
       "      <td>2.81</td>\n",
       "      <td>3.48</td>\n",
       "      <td>0.14</td>\n",
       "      <td>1.23</td>\n",
       "      <td>83.0</td>\n",
       "      <td>5.7</td>\n",
       "      <td>M</td>\n",
       "      <td>7.66</td>\n",
       "    </tr>\n",
       "    <tr>\n",
       "      <th>...</th>\n",
       "      <td>...</td>\n",
       "      <td>...</td>\n",
       "      <td>...</td>\n",
       "      <td>...</td>\n",
       "      <td>...</td>\n",
       "      <td>...</td>\n",
       "      <td>...</td>\n",
       "      <td>...</td>\n",
       "      <td>...</td>\n",
       "      <td>...</td>\n",
       "      <td>...</td>\n",
       "      <td>...</td>\n",
       "    </tr>\n",
       "    <tr>\n",
       "      <th>16237</th>\n",
       "      <td>Root Letter</td>\n",
       "      <td>PS4</td>\n",
       "      <td>2016</td>\n",
       "      <td>Adventure</td>\n",
       "      <td>0.00</td>\n",
       "      <td>0.00</td>\n",
       "      <td>0.01</td>\n",
       "      <td>0.00</td>\n",
       "      <td>69.0</td>\n",
       "      <td>7.5</td>\n",
       "      <td>TBD</td>\n",
       "      <td>0.01</td>\n",
       "    </tr>\n",
       "    <tr>\n",
       "      <th>16240</th>\n",
       "      <td>Shin Hayarigami 2</td>\n",
       "      <td>PS4</td>\n",
       "      <td>2016</td>\n",
       "      <td>Adventure</td>\n",
       "      <td>0.00</td>\n",
       "      <td>0.00</td>\n",
       "      <td>0.01</td>\n",
       "      <td>0.00</td>\n",
       "      <td>-1.0</td>\n",
       "      <td>-1.0</td>\n",
       "      <td>TBD</td>\n",
       "      <td>0.01</td>\n",
       "    </tr>\n",
       "    <tr>\n",
       "      <th>16262</th>\n",
       "      <td>Dungeons 2</td>\n",
       "      <td>PS4</td>\n",
       "      <td>2016</td>\n",
       "      <td>Role-Playing</td>\n",
       "      <td>0.01</td>\n",
       "      <td>0.00</td>\n",
       "      <td>0.00</td>\n",
       "      <td>0.00</td>\n",
       "      <td>61.0</td>\n",
       "      <td>7.9</td>\n",
       "      <td>T</td>\n",
       "      <td>0.01</td>\n",
       "    </tr>\n",
       "    <tr>\n",
       "      <th>16266</th>\n",
       "      <td>Carmageddon: Max Damage</td>\n",
       "      <td>PS4</td>\n",
       "      <td>2016</td>\n",
       "      <td>Action</td>\n",
       "      <td>0.01</td>\n",
       "      <td>0.00</td>\n",
       "      <td>0.00</td>\n",
       "      <td>0.00</td>\n",
       "      <td>51.0</td>\n",
       "      <td>5.5</td>\n",
       "      <td>M</td>\n",
       "      <td>0.01</td>\n",
       "    </tr>\n",
       "    <tr>\n",
       "      <th>16321</th>\n",
       "      <td>Farming 2017 - The Simulation</td>\n",
       "      <td>PS4</td>\n",
       "      <td>2016</td>\n",
       "      <td>Simulation</td>\n",
       "      <td>0.00</td>\n",
       "      <td>0.01</td>\n",
       "      <td>0.00</td>\n",
       "      <td>0.00</td>\n",
       "      <td>-1.0</td>\n",
       "      <td>-1.0</td>\n",
       "      <td>TBD</td>\n",
       "      <td>0.01</td>\n",
       "    </tr>\n",
       "  </tbody>\n",
       "</table>\n",
       "<p>392 rows × 12 columns</p>\n",
       "</div>"
      ],
      "text/plain": [
       "                                 name platform  year_of_release         genre  \\\n",
       "31          Call of Duty: Black Ops 3      PS4             2015       Shooter   \n",
       "42                 Grand Theft Auto V      PS4             2014        Action   \n",
       "77                            FIFA 16      PS4             2015        Sports   \n",
       "87       Star Wars Battlefront (2015)      PS4             2015       Shooter   \n",
       "92     Call of Duty: Advanced Warfare      PS4             2014       Shooter   \n",
       "...                               ...      ...              ...           ...   \n",
       "16237                     Root Letter      PS4             2016     Adventure   \n",
       "16240               Shin Hayarigami 2      PS4             2016     Adventure   \n",
       "16262                      Dungeons 2      PS4             2016  Role-Playing   \n",
       "16266         Carmageddon: Max Damage      PS4             2016        Action   \n",
       "16321   Farming 2017 - The Simulation      PS4             2016    Simulation   \n",
       "\n",
       "       na_sales  eu_sales  jp_sales  other_sales  critic_score  user_score  \\\n",
       "31         6.03      5.86      0.36         2.38          -1.0        -1.0   \n",
       "42         3.96      6.31      0.38         1.97          97.0         8.3   \n",
       "77         1.12      6.12      0.06         1.28          82.0         4.3   \n",
       "87         2.99      3.49      0.22         1.28          -1.0        -1.0   \n",
       "92         2.81      3.48      0.14         1.23          83.0         5.7   \n",
       "...         ...       ...       ...          ...           ...         ...   \n",
       "16237      0.00      0.00      0.01         0.00          69.0         7.5   \n",
       "16240      0.00      0.00      0.01         0.00          -1.0        -1.0   \n",
       "16262      0.01      0.00      0.00         0.00          61.0         7.9   \n",
       "16266      0.01      0.00      0.00         0.00          51.0         5.5   \n",
       "16321      0.00      0.01      0.00         0.00          -1.0        -1.0   \n",
       "\n",
       "      rating  total_sales  \n",
       "31       TBD        14.63  \n",
       "42         M        12.62  \n",
       "77         E         8.58  \n",
       "87       TBD         7.98  \n",
       "92         M         7.66  \n",
       "...      ...          ...  \n",
       "16237    TBD         0.01  \n",
       "16240    TBD         0.01  \n",
       "16262      T         0.01  \n",
       "16266      M         0.01  \n",
       "16321    TBD         0.01  \n",
       "\n",
       "[392 rows x 12 columns]"
      ]
     },
     "metadata": {},
     "output_type": "display_data"
    },
    {
     "data": {
      "text/html": [
       "<div>\n",
       "<style scoped>\n",
       "    .dataframe tbody tr th:only-of-type {\n",
       "        vertical-align: middle;\n",
       "    }\n",
       "\n",
       "    .dataframe tbody tr th {\n",
       "        vertical-align: top;\n",
       "    }\n",
       "\n",
       "    .dataframe thead th {\n",
       "        text-align: right;\n",
       "    }\n",
       "</style>\n",
       "<table border=\"1\" class=\"dataframe\">\n",
       "  <thead>\n",
       "    <tr style=\"text-align: right;\">\n",
       "      <th></th>\n",
       "      <th>name</th>\n",
       "      <th>platform</th>\n",
       "      <th>year_of_release</th>\n",
       "      <th>genre</th>\n",
       "      <th>na_sales</th>\n",
       "      <th>eu_sales</th>\n",
       "      <th>jp_sales</th>\n",
       "      <th>other_sales</th>\n",
       "      <th>critic_score</th>\n",
       "      <th>user_score</th>\n",
       "      <th>rating</th>\n",
       "      <th>total_sales</th>\n",
       "    </tr>\n",
       "  </thead>\n",
       "  <tbody>\n",
       "    <tr>\n",
       "      <th>31</th>\n",
       "      <td>Call of Duty: Black Ops 3</td>\n",
       "      <td>PS4</td>\n",
       "      <td>2015</td>\n",
       "      <td>Shooter</td>\n",
       "      <td>6.03</td>\n",
       "      <td>5.86</td>\n",
       "      <td>0.36</td>\n",
       "      <td>2.38</td>\n",
       "      <td>-1.0</td>\n",
       "      <td>-1.0</td>\n",
       "      <td>TBD</td>\n",
       "      <td>14.63</td>\n",
       "    </tr>\n",
       "    <tr>\n",
       "      <th>42</th>\n",
       "      <td>Grand Theft Auto V</td>\n",
       "      <td>PS4</td>\n",
       "      <td>2014</td>\n",
       "      <td>Action</td>\n",
       "      <td>3.96</td>\n",
       "      <td>6.31</td>\n",
       "      <td>0.38</td>\n",
       "      <td>1.97</td>\n",
       "      <td>97.0</td>\n",
       "      <td>8.3</td>\n",
       "      <td>M</td>\n",
       "      <td>12.62</td>\n",
       "    </tr>\n",
       "    <tr>\n",
       "      <th>77</th>\n",
       "      <td>FIFA 16</td>\n",
       "      <td>PS4</td>\n",
       "      <td>2015</td>\n",
       "      <td>Sports</td>\n",
       "      <td>1.12</td>\n",
       "      <td>6.12</td>\n",
       "      <td>0.06</td>\n",
       "      <td>1.28</td>\n",
       "      <td>82.0</td>\n",
       "      <td>4.3</td>\n",
       "      <td>E</td>\n",
       "      <td>8.58</td>\n",
       "    </tr>\n",
       "    <tr>\n",
       "      <th>87</th>\n",
       "      <td>Star Wars Battlefront (2015)</td>\n",
       "      <td>PS4</td>\n",
       "      <td>2015</td>\n",
       "      <td>Shooter</td>\n",
       "      <td>2.99</td>\n",
       "      <td>3.49</td>\n",
       "      <td>0.22</td>\n",
       "      <td>1.28</td>\n",
       "      <td>-1.0</td>\n",
       "      <td>-1.0</td>\n",
       "      <td>TBD</td>\n",
       "      <td>7.98</td>\n",
       "    </tr>\n",
       "    <tr>\n",
       "      <th>92</th>\n",
       "      <td>Call of Duty: Advanced Warfare</td>\n",
       "      <td>PS4</td>\n",
       "      <td>2014</td>\n",
       "      <td>Shooter</td>\n",
       "      <td>2.81</td>\n",
       "      <td>3.48</td>\n",
       "      <td>0.14</td>\n",
       "      <td>1.23</td>\n",
       "      <td>83.0</td>\n",
       "      <td>5.7</td>\n",
       "      <td>M</td>\n",
       "      <td>7.66</td>\n",
       "    </tr>\n",
       "    <tr>\n",
       "      <th>...</th>\n",
       "      <td>...</td>\n",
       "      <td>...</td>\n",
       "      <td>...</td>\n",
       "      <td>...</td>\n",
       "      <td>...</td>\n",
       "      <td>...</td>\n",
       "      <td>...</td>\n",
       "      <td>...</td>\n",
       "      <td>...</td>\n",
       "      <td>...</td>\n",
       "      <td>...</td>\n",
       "      <td>...</td>\n",
       "    </tr>\n",
       "    <tr>\n",
       "      <th>16237</th>\n",
       "      <td>Root Letter</td>\n",
       "      <td>PS4</td>\n",
       "      <td>2016</td>\n",
       "      <td>Adventure</td>\n",
       "      <td>0.00</td>\n",
       "      <td>0.00</td>\n",
       "      <td>0.01</td>\n",
       "      <td>0.00</td>\n",
       "      <td>69.0</td>\n",
       "      <td>7.5</td>\n",
       "      <td>TBD</td>\n",
       "      <td>0.01</td>\n",
       "    </tr>\n",
       "    <tr>\n",
       "      <th>16240</th>\n",
       "      <td>Shin Hayarigami 2</td>\n",
       "      <td>PS4</td>\n",
       "      <td>2016</td>\n",
       "      <td>Adventure</td>\n",
       "      <td>0.00</td>\n",
       "      <td>0.00</td>\n",
       "      <td>0.01</td>\n",
       "      <td>0.00</td>\n",
       "      <td>-1.0</td>\n",
       "      <td>-1.0</td>\n",
       "      <td>TBD</td>\n",
       "      <td>0.01</td>\n",
       "    </tr>\n",
       "    <tr>\n",
       "      <th>16262</th>\n",
       "      <td>Dungeons 2</td>\n",
       "      <td>PS4</td>\n",
       "      <td>2016</td>\n",
       "      <td>Role-Playing</td>\n",
       "      <td>0.01</td>\n",
       "      <td>0.00</td>\n",
       "      <td>0.00</td>\n",
       "      <td>0.00</td>\n",
       "      <td>61.0</td>\n",
       "      <td>7.9</td>\n",
       "      <td>T</td>\n",
       "      <td>0.01</td>\n",
       "    </tr>\n",
       "    <tr>\n",
       "      <th>16266</th>\n",
       "      <td>Carmageddon: Max Damage</td>\n",
       "      <td>PS4</td>\n",
       "      <td>2016</td>\n",
       "      <td>Action</td>\n",
       "      <td>0.01</td>\n",
       "      <td>0.00</td>\n",
       "      <td>0.00</td>\n",
       "      <td>0.00</td>\n",
       "      <td>51.0</td>\n",
       "      <td>5.5</td>\n",
       "      <td>M</td>\n",
       "      <td>0.01</td>\n",
       "    </tr>\n",
       "    <tr>\n",
       "      <th>16321</th>\n",
       "      <td>Farming 2017 - The Simulation</td>\n",
       "      <td>PS4</td>\n",
       "      <td>2016</td>\n",
       "      <td>Simulation</td>\n",
       "      <td>0.00</td>\n",
       "      <td>0.01</td>\n",
       "      <td>0.00</td>\n",
       "      <td>0.00</td>\n",
       "      <td>-1.0</td>\n",
       "      <td>-1.0</td>\n",
       "      <td>TBD</td>\n",
       "      <td>0.01</td>\n",
       "    </tr>\n",
       "  </tbody>\n",
       "</table>\n",
       "<p>392 rows × 12 columns</p>\n",
       "</div>"
      ],
      "text/plain": [
       "                                 name platform  year_of_release         genre  \\\n",
       "31          Call of Duty: Black Ops 3      PS4             2015       Shooter   \n",
       "42                 Grand Theft Auto V      PS4             2014        Action   \n",
       "77                            FIFA 16      PS4             2015        Sports   \n",
       "87       Star Wars Battlefront (2015)      PS4             2015       Shooter   \n",
       "92     Call of Duty: Advanced Warfare      PS4             2014       Shooter   \n",
       "...                               ...      ...              ...           ...   \n",
       "16237                     Root Letter      PS4             2016     Adventure   \n",
       "16240               Shin Hayarigami 2      PS4             2016     Adventure   \n",
       "16262                      Dungeons 2      PS4             2016  Role-Playing   \n",
       "16266         Carmageddon: Max Damage      PS4             2016        Action   \n",
       "16321   Farming 2017 - The Simulation      PS4             2016    Simulation   \n",
       "\n",
       "       na_sales  eu_sales  jp_sales  other_sales  critic_score  user_score  \\\n",
       "31         6.03      5.86      0.36         2.38          -1.0        -1.0   \n",
       "42         3.96      6.31      0.38         1.97          97.0         8.3   \n",
       "77         1.12      6.12      0.06         1.28          82.0         4.3   \n",
       "87         2.99      3.49      0.22         1.28          -1.0        -1.0   \n",
       "92         2.81      3.48      0.14         1.23          83.0         5.7   \n",
       "...         ...       ...       ...          ...           ...         ...   \n",
       "16237      0.00      0.00      0.01         0.00          69.0         7.5   \n",
       "16240      0.00      0.00      0.01         0.00          -1.0        -1.0   \n",
       "16262      0.01      0.00      0.00         0.00          61.0         7.9   \n",
       "16266      0.01      0.00      0.00         0.00          51.0         5.5   \n",
       "16321      0.00      0.01      0.00         0.00          -1.0        -1.0   \n",
       "\n",
       "      rating  total_sales  \n",
       "31       TBD        14.63  \n",
       "42         M        12.62  \n",
       "77         E         8.58  \n",
       "87       TBD         7.98  \n",
       "92         M         7.66  \n",
       "...      ...          ...  \n",
       "16237    TBD         0.01  \n",
       "16240    TBD         0.01  \n",
       "16262      T         0.01  \n",
       "16266      M         0.01  \n",
       "16321    TBD         0.01  \n",
       "\n",
       "[392 rows x 12 columns]"
      ]
     },
     "metadata": {},
     "output_type": "display_data"
    }
   ],
   "source": [
    "# проверим, есть ли смысл рассматривать корреляцию по всему периоду и отдельно только по актуальному\n",
    "display(data.query('platform == \"PS4\"'))\n",
    "display(actual_data.query('platform == \"PS4\"'))\n"
   ]
  },
  {
   "cell_type": "markdown",
   "metadata": {},
   "source": [
    "Можно смотреть данные за весь период: продаж по PS4 до 2013 года не было (что логично, ведь она ещё не вышла). "
   ]
  },
  {
   "cell_type": "markdown",
   "metadata": {},
   "source": [
    "Не забудем указать важный момент: в рамках работы с пропусками мы проставляли -1 вместо пустых значений в оценках. Эти оценки учитывать не будем - отфильтруем данные, убрав из выборки оценки с значением -1."
   ]
  },
  {
   "cell_type": "code",
   "execution_count": 73,
   "metadata": {},
   "outputs": [
    {
     "data": {
      "text/html": [
       "<div>\n",
       "<style scoped>\n",
       "    .dataframe tbody tr th:only-of-type {\n",
       "        vertical-align: middle;\n",
       "    }\n",
       "\n",
       "    .dataframe tbody tr th {\n",
       "        vertical-align: top;\n",
       "    }\n",
       "\n",
       "    .dataframe thead th {\n",
       "        text-align: right;\n",
       "    }\n",
       "</style>\n",
       "<table border=\"1\" class=\"dataframe\">\n",
       "  <thead>\n",
       "    <tr style=\"text-align: right;\">\n",
       "      <th></th>\n",
       "      <th>critic_score</th>\n",
       "      <th>user_score</th>\n",
       "      <th>total_sales</th>\n",
       "    </tr>\n",
       "  </thead>\n",
       "  <tbody>\n",
       "    <tr>\n",
       "      <th>critic_score</th>\n",
       "      <td>1.000000</td>\n",
       "      <td>0.557654</td>\n",
       "      <td>0.405895</td>\n",
       "    </tr>\n",
       "    <tr>\n",
       "      <th>user_score</th>\n",
       "      <td>0.557654</td>\n",
       "      <td>1.000000</td>\n",
       "      <td>-0.033625</td>\n",
       "    </tr>\n",
       "    <tr>\n",
       "      <th>total_sales</th>\n",
       "      <td>0.405895</td>\n",
       "      <td>-0.033625</td>\n",
       "      <td>1.000000</td>\n",
       "    </tr>\n",
       "  </tbody>\n",
       "</table>\n",
       "</div>"
      ],
      "text/plain": [
       "              critic_score  user_score  total_sales\n",
       "critic_score      1.000000    0.557654     0.405895\n",
       "user_score        0.557654    1.000000    -0.033625\n",
       "total_sales       0.405895   -0.033625     1.000000"
      ]
     },
     "execution_count": 73,
     "metadata": {},
     "output_type": "execute_result"
    }
   ],
   "source": [
    "# вынесем данные по выбранной платформе в отдельную таблицу\n",
    "data_ps4 = data.query('platform == \"PS4\" and critic_score > -1 and user_score > -1')\n",
    "# матрица корреляции по всем данным\n",
    "corr_matrix = data_ps4[['critic_score', 'user_score', 'total_sales']].corr()\n",
    "corr_matrix"
   ]
  },
  {
   "cell_type": "markdown",
   "metadata": {},
   "source": [
    "<div class=\"alert alert-block alert-success\">\n",
    " \n",
    "### Комментарий ревьюера\n",
    "    \n",
    "#### Успех\n",
    "    \n",
    "Хороший метод для нахождения зависимости между параметрами"
   ]
  },
  {
   "cell_type": "code",
   "execution_count": 74,
   "metadata": {},
   "outputs": [
    {
     "data": {
      "text/html": [
       "<div>\n",
       "<style scoped>\n",
       "    .dataframe tbody tr th:only-of-type {\n",
       "        vertical-align: middle;\n",
       "    }\n",
       "\n",
       "    .dataframe tbody tr th {\n",
       "        vertical-align: top;\n",
       "    }\n",
       "\n",
       "    .dataframe thead th {\n",
       "        text-align: right;\n",
       "    }\n",
       "</style>\n",
       "<table border=\"1\" class=\"dataframe\">\n",
       "  <thead>\n",
       "    <tr style=\"text-align: right;\">\n",
       "      <th></th>\n",
       "      <th>name</th>\n",
       "      <th>platform</th>\n",
       "      <th>year_of_release</th>\n",
       "      <th>genre</th>\n",
       "      <th>na_sales</th>\n",
       "      <th>eu_sales</th>\n",
       "      <th>jp_sales</th>\n",
       "      <th>other_sales</th>\n",
       "      <th>critic_score</th>\n",
       "      <th>user_score</th>\n",
       "      <th>rating</th>\n",
       "      <th>total_sales</th>\n",
       "    </tr>\n",
       "  </thead>\n",
       "  <tbody>\n",
       "    <tr>\n",
       "      <th>42</th>\n",
       "      <td>Grand Theft Auto V</td>\n",
       "      <td>PS4</td>\n",
       "      <td>2014</td>\n",
       "      <td>Action</td>\n",
       "      <td>3.96</td>\n",
       "      <td>6.31</td>\n",
       "      <td>0.38</td>\n",
       "      <td>1.97</td>\n",
       "      <td>97.0</td>\n",
       "      <td>8.3</td>\n",
       "      <td>M</td>\n",
       "      <td>12.62</td>\n",
       "    </tr>\n",
       "    <tr>\n",
       "      <th>77</th>\n",
       "      <td>FIFA 16</td>\n",
       "      <td>PS4</td>\n",
       "      <td>2015</td>\n",
       "      <td>Sports</td>\n",
       "      <td>1.12</td>\n",
       "      <td>6.12</td>\n",
       "      <td>0.06</td>\n",
       "      <td>1.28</td>\n",
       "      <td>82.0</td>\n",
       "      <td>4.3</td>\n",
       "      <td>E</td>\n",
       "      <td>8.58</td>\n",
       "    </tr>\n",
       "    <tr>\n",
       "      <th>92</th>\n",
       "      <td>Call of Duty: Advanced Warfare</td>\n",
       "      <td>PS4</td>\n",
       "      <td>2014</td>\n",
       "      <td>Shooter</td>\n",
       "      <td>2.81</td>\n",
       "      <td>3.48</td>\n",
       "      <td>0.14</td>\n",
       "      <td>1.23</td>\n",
       "      <td>83.0</td>\n",
       "      <td>5.7</td>\n",
       "      <td>M</td>\n",
       "      <td>7.66</td>\n",
       "    </tr>\n",
       "    <tr>\n",
       "      <th>94</th>\n",
       "      <td>FIFA 17</td>\n",
       "      <td>PS4</td>\n",
       "      <td>2016</td>\n",
       "      <td>Sports</td>\n",
       "      <td>0.66</td>\n",
       "      <td>5.75</td>\n",
       "      <td>0.08</td>\n",
       "      <td>1.11</td>\n",
       "      <td>85.0</td>\n",
       "      <td>5.0</td>\n",
       "      <td>E</td>\n",
       "      <td>7.60</td>\n",
       "    </tr>\n",
       "    <tr>\n",
       "      <th>105</th>\n",
       "      <td>Fallout 4</td>\n",
       "      <td>PS4</td>\n",
       "      <td>2015</td>\n",
       "      <td>Role-Playing</td>\n",
       "      <td>2.53</td>\n",
       "      <td>3.27</td>\n",
       "      <td>0.24</td>\n",
       "      <td>1.13</td>\n",
       "      <td>87.0</td>\n",
       "      <td>6.5</td>\n",
       "      <td>M</td>\n",
       "      <td>7.17</td>\n",
       "    </tr>\n",
       "    <tr>\n",
       "      <th>143</th>\n",
       "      <td>FIFA 15</td>\n",
       "      <td>PS4</td>\n",
       "      <td>2014</td>\n",
       "      <td>Sports</td>\n",
       "      <td>0.80</td>\n",
       "      <td>4.33</td>\n",
       "      <td>0.05</td>\n",
       "      <td>0.90</td>\n",
       "      <td>82.0</td>\n",
       "      <td>5.7</td>\n",
       "      <td>E</td>\n",
       "      <td>6.08</td>\n",
       "    </tr>\n",
       "    <tr>\n",
       "      <th>154</th>\n",
       "      <td>Destiny</td>\n",
       "      <td>PS4</td>\n",
       "      <td>2014</td>\n",
       "      <td>Shooter</td>\n",
       "      <td>2.49</td>\n",
       "      <td>2.07</td>\n",
       "      <td>0.16</td>\n",
       "      <td>0.92</td>\n",
       "      <td>76.0</td>\n",
       "      <td>6.1</td>\n",
       "      <td>T</td>\n",
       "      <td>5.64</td>\n",
       "    </tr>\n",
       "    <tr>\n",
       "      <th>171</th>\n",
       "      <td>Uncharted 4: A Thief's End</td>\n",
       "      <td>PS4</td>\n",
       "      <td>2016</td>\n",
       "      <td>Shooter</td>\n",
       "      <td>1.85</td>\n",
       "      <td>2.50</td>\n",
       "      <td>0.19</td>\n",
       "      <td>0.85</td>\n",
       "      <td>93.0</td>\n",
       "      <td>7.9</td>\n",
       "      <td>T</td>\n",
       "      <td>5.39</td>\n",
       "    </tr>\n",
       "    <tr>\n",
       "      <th>231</th>\n",
       "      <td>Uncharted: The Nathan Drake Collection</td>\n",
       "      <td>PS4</td>\n",
       "      <td>2015</td>\n",
       "      <td>Action</td>\n",
       "      <td>2.07</td>\n",
       "      <td>1.71</td>\n",
       "      <td>0.08</td>\n",
       "      <td>0.76</td>\n",
       "      <td>86.0</td>\n",
       "      <td>8.1</td>\n",
       "      <td>T</td>\n",
       "      <td>4.62</td>\n",
       "    </tr>\n",
       "    <tr>\n",
       "      <th>245</th>\n",
       "      <td>Call of Duty: Infinite Warfare</td>\n",
       "      <td>PS4</td>\n",
       "      <td>2016</td>\n",
       "      <td>Shooter</td>\n",
       "      <td>1.61</td>\n",
       "      <td>2.00</td>\n",
       "      <td>0.15</td>\n",
       "      <td>0.71</td>\n",
       "      <td>77.0</td>\n",
       "      <td>3.4</td>\n",
       "      <td>M</td>\n",
       "      <td>4.47</td>\n",
       "    </tr>\n",
       "    <tr>\n",
       "      <th>289</th>\n",
       "      <td>Battlefield 1</td>\n",
       "      <td>PS4</td>\n",
       "      <td>2016</td>\n",
       "      <td>Shooter</td>\n",
       "      <td>1.10</td>\n",
       "      <td>2.15</td>\n",
       "      <td>0.21</td>\n",
       "      <td>0.61</td>\n",
       "      <td>88.0</td>\n",
       "      <td>8.4</td>\n",
       "      <td>M</td>\n",
       "      <td>4.07</td>\n",
       "    </tr>\n",
       "    <tr>\n",
       "      <th>295</th>\n",
       "      <td>Watch Dogs</td>\n",
       "      <td>PS4</td>\n",
       "      <td>2014</td>\n",
       "      <td>Action</td>\n",
       "      <td>1.40</td>\n",
       "      <td>1.90</td>\n",
       "      <td>0.11</td>\n",
       "      <td>0.64</td>\n",
       "      <td>80.0</td>\n",
       "      <td>6.3</td>\n",
       "      <td>M</td>\n",
       "      <td>4.05</td>\n",
       "    </tr>\n",
       "    <tr>\n",
       "      <th>298</th>\n",
       "      <td>Far Cry 4</td>\n",
       "      <td>PS4</td>\n",
       "      <td>2014</td>\n",
       "      <td>Shooter</td>\n",
       "      <td>1.13</td>\n",
       "      <td>2.18</td>\n",
       "      <td>0.10</td>\n",
       "      <td>0.63</td>\n",
       "      <td>85.0</td>\n",
       "      <td>7.7</td>\n",
       "      <td>M</td>\n",
       "      <td>4.04</td>\n",
       "    </tr>\n",
       "    <tr>\n",
       "      <th>303</th>\n",
       "      <td>The Witcher 3: Wild Hunt</td>\n",
       "      <td>PS4</td>\n",
       "      <td>2015</td>\n",
       "      <td>Role-Playing</td>\n",
       "      <td>1.02</td>\n",
       "      <td>2.13</td>\n",
       "      <td>0.23</td>\n",
       "      <td>0.59</td>\n",
       "      <td>92.0</td>\n",
       "      <td>9.2</td>\n",
       "      <td>M</td>\n",
       "      <td>3.97</td>\n",
       "    </tr>\n",
       "    <tr>\n",
       "      <th>304</th>\n",
       "      <td>Assassin's Creed: Unity</td>\n",
       "      <td>PS4</td>\n",
       "      <td>2014</td>\n",
       "      <td>Action</td>\n",
       "      <td>1.19</td>\n",
       "      <td>2.07</td>\n",
       "      <td>0.08</td>\n",
       "      <td>0.62</td>\n",
       "      <td>70.0</td>\n",
       "      <td>4.9</td>\n",
       "      <td>M</td>\n",
       "      <td>3.96</td>\n",
       "    </tr>\n",
       "    <tr>\n",
       "      <th>305</th>\n",
       "      <td>Batman: Arkham Knight</td>\n",
       "      <td>PS4</td>\n",
       "      <td>2015</td>\n",
       "      <td>Action</td>\n",
       "      <td>1.53</td>\n",
       "      <td>1.69</td>\n",
       "      <td>0.10</td>\n",
       "      <td>0.64</td>\n",
       "      <td>87.0</td>\n",
       "      <td>7.6</td>\n",
       "      <td>M</td>\n",
       "      <td>3.96</td>\n",
       "    </tr>\n",
       "    <tr>\n",
       "      <th>314</th>\n",
       "      <td>NBA 2K16</td>\n",
       "      <td>PS4</td>\n",
       "      <td>2015</td>\n",
       "      <td>Sports</td>\n",
       "      <td>2.49</td>\n",
       "      <td>0.66</td>\n",
       "      <td>0.03</td>\n",
       "      <td>0.69</td>\n",
       "      <td>87.0</td>\n",
       "      <td>6.7</td>\n",
       "      <td>E10+</td>\n",
       "      <td>3.87</td>\n",
       "    </tr>\n",
       "    <tr>\n",
       "      <th>323</th>\n",
       "      <td>Call of Duty: Ghosts</td>\n",
       "      <td>PS4</td>\n",
       "      <td>2013</td>\n",
       "      <td>Shooter</td>\n",
       "      <td>1.78</td>\n",
       "      <td>1.43</td>\n",
       "      <td>0.05</td>\n",
       "      <td>0.57</td>\n",
       "      <td>78.0</td>\n",
       "      <td>3.7</td>\n",
       "      <td>M</td>\n",
       "      <td>3.83</td>\n",
       "    </tr>\n",
       "    <tr>\n",
       "      <th>325</th>\n",
       "      <td>Tom Clancy's The Division</td>\n",
       "      <td>PS4</td>\n",
       "      <td>2016</td>\n",
       "      <td>Shooter</td>\n",
       "      <td>1.35</td>\n",
       "      <td>1.70</td>\n",
       "      <td>0.15</td>\n",
       "      <td>0.60</td>\n",
       "      <td>80.0</td>\n",
       "      <td>7.0</td>\n",
       "      <td>M</td>\n",
       "      <td>3.80</td>\n",
       "    </tr>\n",
       "    <tr>\n",
       "      <th>357</th>\n",
       "      <td>Battlefield 4</td>\n",
       "      <td>PS4</td>\n",
       "      <td>2013</td>\n",
       "      <td>Shooter</td>\n",
       "      <td>1.35</td>\n",
       "      <td>1.55</td>\n",
       "      <td>0.17</td>\n",
       "      <td>0.51</td>\n",
       "      <td>85.0</td>\n",
       "      <td>6.9</td>\n",
       "      <td>M</td>\n",
       "      <td>3.58</td>\n",
       "    </tr>\n",
       "  </tbody>\n",
       "</table>\n",
       "</div>"
      ],
      "text/plain": [
       "                                       name platform  year_of_release  \\\n",
       "42                       Grand Theft Auto V      PS4             2014   \n",
       "77                                  FIFA 16      PS4             2015   \n",
       "92           Call of Duty: Advanced Warfare      PS4             2014   \n",
       "94                                  FIFA 17      PS4             2016   \n",
       "105                               Fallout 4      PS4             2015   \n",
       "143                                 FIFA 15      PS4             2014   \n",
       "154                                 Destiny      PS4             2014   \n",
       "171              Uncharted 4: A Thief's End      PS4             2016   \n",
       "231  Uncharted: The Nathan Drake Collection      PS4             2015   \n",
       "245          Call of Duty: Infinite Warfare      PS4             2016   \n",
       "289                           Battlefield 1      PS4             2016   \n",
       "295                              Watch Dogs      PS4             2014   \n",
       "298                               Far Cry 4      PS4             2014   \n",
       "303                The Witcher 3: Wild Hunt      PS4             2015   \n",
       "304                 Assassin's Creed: Unity      PS4             2014   \n",
       "305                   Batman: Arkham Knight      PS4             2015   \n",
       "314                                NBA 2K16      PS4             2015   \n",
       "323                    Call of Duty: Ghosts      PS4             2013   \n",
       "325               Tom Clancy's The Division      PS4             2016   \n",
       "357                           Battlefield 4      PS4             2013   \n",
       "\n",
       "            genre  na_sales  eu_sales  jp_sales  other_sales  critic_score  \\\n",
       "42         Action      3.96      6.31      0.38         1.97          97.0   \n",
       "77         Sports      1.12      6.12      0.06         1.28          82.0   \n",
       "92        Shooter      2.81      3.48      0.14         1.23          83.0   \n",
       "94         Sports      0.66      5.75      0.08         1.11          85.0   \n",
       "105  Role-Playing      2.53      3.27      0.24         1.13          87.0   \n",
       "143        Sports      0.80      4.33      0.05         0.90          82.0   \n",
       "154       Shooter      2.49      2.07      0.16         0.92          76.0   \n",
       "171       Shooter      1.85      2.50      0.19         0.85          93.0   \n",
       "231        Action      2.07      1.71      0.08         0.76          86.0   \n",
       "245       Shooter      1.61      2.00      0.15         0.71          77.0   \n",
       "289       Shooter      1.10      2.15      0.21         0.61          88.0   \n",
       "295        Action      1.40      1.90      0.11         0.64          80.0   \n",
       "298       Shooter      1.13      2.18      0.10         0.63          85.0   \n",
       "303  Role-Playing      1.02      2.13      0.23         0.59          92.0   \n",
       "304        Action      1.19      2.07      0.08         0.62          70.0   \n",
       "305        Action      1.53      1.69      0.10         0.64          87.0   \n",
       "314        Sports      2.49      0.66      0.03         0.69          87.0   \n",
       "323       Shooter      1.78      1.43      0.05         0.57          78.0   \n",
       "325       Shooter      1.35      1.70      0.15         0.60          80.0   \n",
       "357       Shooter      1.35      1.55      0.17         0.51          85.0   \n",
       "\n",
       "     user_score rating  total_sales  \n",
       "42          8.3      M        12.62  \n",
       "77          4.3      E         8.58  \n",
       "92          5.7      M         7.66  \n",
       "94          5.0      E         7.60  \n",
       "105         6.5      M         7.17  \n",
       "143         5.7      E         6.08  \n",
       "154         6.1      T         5.64  \n",
       "171         7.9      T         5.39  \n",
       "231         8.1      T         4.62  \n",
       "245         3.4      M         4.47  \n",
       "289         8.4      M         4.07  \n",
       "295         6.3      M         4.05  \n",
       "298         7.7      M         4.04  \n",
       "303         9.2      M         3.97  \n",
       "304         4.9      M         3.96  \n",
       "305         7.6      M         3.96  \n",
       "314         6.7   E10+         3.87  \n",
       "323         3.7      M         3.83  \n",
       "325         7.0      M         3.80  \n",
       "357         6.9      M         3.58  "
      ]
     },
     "metadata": {},
     "output_type": "display_data"
    }
   ],
   "source": [
    "# а ещё посмотрим топ 20 игр для плойки \n",
    "display(data_ps4.head(20).sort_values(by='total_sales', ascending = False))"
   ]
  },
  {
   "cell_type": "markdown",
   "metadata": {},
   "source": [
    "Наблюдаем следующее: \n",
    "- есть умеренная корреляция отзывов критиков и продаж \n",
    "- очень слабая корреляция пользовательских рейтингов и продаж \n",
    "\n",
    "То есть отзывы пользователей фактически никакой связи с продажами не имеют.\n",
    "Построим диаграммы рассеяния для PS4 "
   ]
  },
  {
   "cell_type": "code",
   "execution_count": 75,
   "metadata": {},
   "outputs": [
    {
     "data": {
      "text/plain": [
       "Text(0.5, 1.0, 'Корреляция между оценками пользователей и продажами')"
      ]
     },
     "execution_count": 75,
     "metadata": {},
     "output_type": "execute_result"
    },
    {
     "data": {
      "image/png": "[encoded data removed]",
      "text/plain": [
       "<Figure size 1080x360 with 1 Axes>"
      ]
     },
     "metadata": {
      "needs_background": "light"
     },
     "output_type": "display_data"
    }
   ],
   "source": [
    "plt.figure(figsize=(15,5))\n",
    "sns.scatterplot(x='user_score', y='total_sales', data=data_ps4)\n",
    "plt.title('Корреляция между оценками пользователей и продажами')\n",
    "\n"
   ]
  },
  {
   "cell_type": "code",
   "execution_count": 76,
   "metadata": {},
   "outputs": [
    {
     "data": {
      "text/plain": [
       "Text(0.5, 1.0, 'Корреляция между оценками критиков и продажами')"
      ]
     },
     "execution_count": 76,
     "metadata": {},
     "output_type": "execute_result"
    },
    {
     "data": {
      "image/png": "[encoded data removed]",
      "text/plain": [
       "<Figure size 1080x360 with 1 Axes>"
      ]
     },
     "metadata": {
      "needs_background": "light"
     },
     "output_type": "display_data"
    }
   ],
   "source": [
    "plt.figure(figsize=(15,5))\n",
    "sns.scatterplot(x='critic_score', y='total_sales', data=data_ps4)\n",
    "plt.title('Корреляция между оценками критиков и продажами')\n",
    "\n"
   ]
  },
  {
   "cell_type": "markdown",
   "metadata": {},
   "source": [
    "<div class=\"alert alert-block alert-success\">\n",
    " \n",
    "### Комментарий ревьюера\n",
    "    \n",
    "#### Успех\n",
    "    \n",
    "По графику тут хорошо можно определить о зависимости цены от оценок. "
   ]
  },
  {
   "cell_type": "markdown",
   "metadata": {},
   "source": [
    "На основе данных по PS4 можем сделать вывод, что общие продажи умеренно коррелируют с оценкой критиков и в целом не имеют никакой связи с оценкой пользователей. (Кстати, наглядное тому подтверждение - FIFA c большим количеством продаж и относительно низкими оценками пользователей). \n",
    "\n",
    "Проверим этот вывод на примере других платформ. Учитывая, что оценок критиков у нас в данных не так уж много, посмотрим, по каким платформам их больше, чтобы по анализируемой платформе было достаточное количество данных. "
   ]
  },
  {
   "cell_type": "code",
   "execution_count": 77,
   "metadata": {},
   "outputs": [
    {
     "data": {
      "text/plain": [
       "platform\n",
       "PS4     249\n",
       "XOne    165\n",
       "PC      149\n",
       "PS3     120\n",
       "X360     81\n",
       "PSV      76\n",
       "WiiU     69\n",
       "3DS      67\n",
       "PSP       1\n",
       "Name: critic_score, dtype: int64"
      ]
     },
     "metadata": {},
     "output_type": "display_data"
    }
   ],
   "source": [
    "display(actual_data.query('critic_score > -1 and user_score > -1').groupby('platform')['critic_score'].count().sort_values(ascending=False))"
   ]
  },
  {
   "cell_type": "code",
   "execution_count": 78,
   "metadata": {},
   "outputs": [
    {
     "data": {
      "image/png": "[encoded data removed]",
      "text/plain": [
       "<Figure size 1080x360 with 1 Axes>"
      ]
     },
     "metadata": {
      "needs_background": "light"
     },
     "output_type": "display_data"
    },
    {
     "data": {
      "image/png": "[encoded data removed]",
      "text/plain": [
       "<Figure size 1080x360 with 1 Axes>"
      ]
     },
     "metadata": {
      "needs_background": "light"
     },
     "output_type": "display_data"
    },
    {
     "data": {
      "image/png": "[encoded data removed]",
      "text/plain": [
       "<Figure size 1080x360 with 1 Axes>"
      ]
     },
     "metadata": {
      "needs_background": "light"
     },
     "output_type": "display_data"
    },
    {
     "data": {
      "image/png": "[encoded data removed]",
      "text/plain": [
       "<Figure size 1080x360 with 1 Axes>"
      ]
     },
     "metadata": {
      "needs_background": "light"
     },
     "output_type": "display_data"
    }
   ],
   "source": [
    "def create_matrix(platform, criteria):\n",
    "    plt.figure(figsize=(15,5))\n",
    "    filtered_data = data[data['platform'] == platform].query('critic_score > -1 and user_score > -1')\n",
    "    sns.scatterplot(x=criteria, y='total_sales', data=filtered_data)\n",
    "    plt.title('Корреляция продаж и ' + criteria + ' по платформе ' + platform)\n",
    "create_matrix('PC', 'critic_score')\n",
    "create_matrix('PC', 'user_score')\n",
    "create_matrix('XOne', 'critic_score')\n",
    "create_matrix('XOne', 'user_score')"
   ]
  },
  {
   "cell_type": "markdown",
   "metadata": {},
   "source": [
    "<div class=\"alert alert-block alert-success\">\n",
    " \n",
    "### Комментарий ревьюера\n",
    "    \n",
    "#### Успех\n",
    "    \n",
    "По графику тут хорошо можно определить о зависимости цены от оценок. "
   ]
  },
  {
   "cell_type": "markdown",
   "metadata": {},
   "source": [
    "Построили диаграммы для платформ с наибольшим количеством \"честных\" оценок, видим, что вывод по PS4 подтверждается и для них - продажи немного коррелируют с оценкой критиков и по сути не имеют корреляции с оценками пользователей.\n",
    "Посмотрим на корреляцию, не забыв исключить технические оценки \"-1\". \n",
    "\n",
    "Тоже создадим функцию, которая будет принимать на вход название платформы и выдавать матрицу корреляции. Покрасим её для наглядности и применим функцию к рассмотренным выше платформам - PS3, PC, PSV"
   ]
  },
  {
   "cell_type": "code",
   "execution_count": 79,
   "metadata": {},
   "outputs": [
    {
     "data": {
      "image/png": "[encoded data removed]",
      "text/plain": [
       "<Figure size 1080x360 with 2 Axes>"
      ]
     },
     "metadata": {
      "needs_background": "light"
     },
     "output_type": "display_data"
    },
    {
     "data": {
      "image/png": "[encoded data removed]",
      "text/plain": [
       "<Figure size 1080x360 with 2 Axes>"
      ]
     },
     "metadata": {
      "needs_background": "light"
     },
     "output_type": "display_data"
    }
   ],
   "source": [
    "def create_matrix(platform):\n",
    "    # Фильтрация данных по платформе и указанных пользователем критериям\n",
    "    data_filtered = data.query('platform == @platform and user_score > -1 and critic_score > -1')\n",
    "        # Вычисление матрицы корреляций\n",
    "    corr_matrix = data_filtered[['critic_score', 'user_score', 'total_sales']].corr()\n",
    "     # Создание заголовка для матрицы корреляций\n",
    "    title = f'Correlation Matrix for {platform}'  \n",
    "    # Построение матрицы корреляций с заголовком\n",
    "    plt.figure(figsize=(15, 5))\n",
    "    sns.heatmap(corr_matrix, annot=True, cmap='coolwarm', cbar=True, square=True)\n",
    "    plt.title(title)\n",
    "    plt.show()\n",
    "create_matrix('XOne')\n",
    "create_matrix('PC')"
   ]
  },
  {
   "cell_type": "markdown",
   "metadata": {},
   "source": [
    "<div class=\"alert alert-block alert-success\">\n",
    " \n",
    "### Комментарий ревьюера\n",
    "    \n",
    "#### Успех\n",
    "    \n",
    "Выводы на основе данных нескольких платформ выглядят убедительнее"
   ]
  },
  {
   "cell_type": "markdown",
   "metadata": {},
   "source": [
    "**Вывод**: на примере платформ PC и XOne подтвердили вывод, сделанный для PS4: \n",
    "- корреляция продаж с оценкой критиков умеренная или слабая\n",
    "- корреляция продаж с оценкой пользователей практически отсутствует. \n",
    "\n",
    "Прежде, чем перейти к проверке гипотез, изучим распределение игр по жанрам, попробуем выделить самые прибыльные жанры и понять, выделяются ли жанры с самыми высокими и низкими продажами "
   ]
  },
  {
   "cell_type": "code",
   "execution_count": 80,
   "metadata": {},
   "outputs": [
    {
     "data": {
      "image/png": "[encoded data removed]",
      "text/plain": [
       "<Figure size 1080x360 with 1 Axes>"
      ]
     },
     "metadata": {
      "needs_background": "light"
     },
     "output_type": "display_data"
    },
    {
     "data": {
      "image/png": "[encoded data removed]",
      "text/plain": [
       "<Figure size 1080x360 with 1 Axes>"
      ]
     },
     "metadata": {
      "needs_background": "light"
     },
     "output_type": "display_data"
    }
   ],
   "source": [
    "# сразу построим диаграмму по жанрам \n",
    "# Количество игр по жанрам\n",
    "(\n",
    "    data.groupby('genre')['name']\n",
    "    .count()\n",
    "    .sort_values(ascending=True)\n",
    "    .plot(kind='barh', x='genre', figsize=(15, 5))\n",
    ")\n",
    "plt.title('Количество игр по жанрам')\n",
    "plt.xlabel('количество игр')\n",
    "plt.ylabel('жанр')\n",
    "plt.show()\n",
    "# и сделаем то же самое по данным за актуальный период \n",
    "(\n",
    "    actual_data.groupby('genre')['name']\n",
    "    .count()\n",
    "    .sort_values(ascending=True)\n",
    "    .plot(kind='barh', x='genre', figsize=(15, 5))\n",
    ")\n",
    "plt.title('Количество игр по жанрам')\n",
    "plt.xlabel('количество игр')\n",
    "plt.ylabel('жанр')\n",
    "plt.show()"
   ]
  },
  {
   "cell_type": "markdown",
   "metadata": {},
   "source": [
    "Очевидный чемпион по количеству выпущенных игр - Экшн. Причём в актуальном периоде отрыв игр в жанре Экшн от остальных только увеличился. \n",
    "Но количество не всегда будет значить продажи и прибыльность, поищем всё же самый прибыльный жанр. "
   ]
  },
  {
   "cell_type": "code",
   "execution_count": 81,
   "metadata": {},
   "outputs": [
    {
     "data": {
      "text/html": [
       "<div>\n",
       "<style scoped>\n",
       "    .dataframe tbody tr th:only-of-type {\n",
       "        vertical-align: middle;\n",
       "    }\n",
       "\n",
       "    .dataframe tbody tr th {\n",
       "        vertical-align: top;\n",
       "    }\n",
       "\n",
       "    .dataframe thead th {\n",
       "        text-align: right;\n",
       "    }\n",
       "</style>\n",
       "<table border=\"1\" class=\"dataframe\">\n",
       "  <thead>\n",
       "    <tr style=\"text-align: right;\">\n",
       "      <th></th>\n",
       "      <th>genre</th>\n",
       "      <th>total_sales</th>\n",
       "    </tr>\n",
       "  </thead>\n",
       "  <tbody>\n",
       "    <tr>\n",
       "      <th>0</th>\n",
       "      <td>Action</td>\n",
       "      <td>322.22</td>\n",
       "    </tr>\n",
       "    <tr>\n",
       "      <th>1</th>\n",
       "      <td>Shooter</td>\n",
       "      <td>232.98</td>\n",
       "    </tr>\n",
       "    <tr>\n",
       "      <th>2</th>\n",
       "      <td>Sports</td>\n",
       "      <td>150.65</td>\n",
       "    </tr>\n",
       "    <tr>\n",
       "      <th>3</th>\n",
       "      <td>Role-Playing</td>\n",
       "      <td>145.89</td>\n",
       "    </tr>\n",
       "    <tr>\n",
       "      <th>4</th>\n",
       "      <td>Misc</td>\n",
       "      <td>62.82</td>\n",
       "    </tr>\n",
       "    <tr>\n",
       "      <th>5</th>\n",
       "      <td>Platform</td>\n",
       "      <td>42.63</td>\n",
       "    </tr>\n",
       "    <tr>\n",
       "      <th>6</th>\n",
       "      <td>Racing</td>\n",
       "      <td>39.89</td>\n",
       "    </tr>\n",
       "    <tr>\n",
       "      <th>7</th>\n",
       "      <td>Fighting</td>\n",
       "      <td>35.31</td>\n",
       "    </tr>\n",
       "    <tr>\n",
       "      <th>8</th>\n",
       "      <td>Adventure</td>\n",
       "      <td>23.64</td>\n",
       "    </tr>\n",
       "    <tr>\n",
       "      <th>9</th>\n",
       "      <td>Simulation</td>\n",
       "      <td>21.76</td>\n",
       "    </tr>\n",
       "    <tr>\n",
       "      <th>10</th>\n",
       "      <td>Strategy</td>\n",
       "      <td>10.08</td>\n",
       "    </tr>\n",
       "    <tr>\n",
       "      <th>11</th>\n",
       "      <td>Puzzle</td>\n",
       "      <td>3.17</td>\n",
       "    </tr>\n",
       "  </tbody>\n",
       "</table>\n",
       "</div>"
      ],
      "text/plain": [
       "           genre  total_sales\n",
       "0         Action       322.22\n",
       "1        Shooter       232.98\n",
       "2         Sports       150.65\n",
       "3   Role-Playing       145.89\n",
       "4           Misc        62.82\n",
       "5       Platform        42.63\n",
       "6         Racing        39.89\n",
       "7       Fighting        35.31\n",
       "8      Adventure        23.64\n",
       "9     Simulation        21.76\n",
       "10      Strategy        10.08\n",
       "11        Puzzle         3.17"
      ]
     },
     "metadata": {},
     "output_type": "display_data"
    },
    {
     "data": {
      "text/plain": [
       "Text(0, 0.5, 'Продажи')"
      ]
     },
     "execution_count": 81,
     "metadata": {},
     "output_type": "execute_result"
    },
    {
     "data": {
      "image/png": "[encoded data removed]",
      "text/plain": [
       "<Figure size 1080x360 with 1 Axes>"
      ]
     },
     "metadata": {
      "needs_background": "light"
     },
     "output_type": "display_data"
    }
   ],
   "source": [
    "actual_genre_sales = actual_data.pivot_table(index='genre', values='total_sales', aggfunc='sum').sort_values(by='total_sales', ascending=False).reset_index().rename_axis(None, axis=1)\n",
    "display(actual_genre_sales)\n",
    "plt.figure(figsize=(15,5))\n",
    "plt.title('Распределение игр по жанрам за актуальный период ',fontsize=15)\n",
    "sns.barplot(data=actual_genre_sales, x='genre', y='total_sales')\n",
    "plt.xlabel('Жанры игр',fontsize=15)\n",
    "plt.ylabel('Продажи',fontsize=15)"
   ]
  },
  {
   "cell_type": "code",
   "execution_count": 82,
   "metadata": {},
   "outputs": [
    {
     "data": {
      "text/html": [
       "<div>\n",
       "<style scoped>\n",
       "    .dataframe tbody tr th:only-of-type {\n",
       "        vertical-align: middle;\n",
       "    }\n",
       "\n",
       "    .dataframe tbody tr th {\n",
       "        vertical-align: top;\n",
       "    }\n",
       "\n",
       "    .dataframe thead th {\n",
       "        text-align: right;\n",
       "    }\n",
       "</style>\n",
       "<table border=\"1\" class=\"dataframe\">\n",
       "  <thead>\n",
       "    <tr style=\"text-align: right;\">\n",
       "      <th></th>\n",
       "      <th>genre</th>\n",
       "      <th>total_sales</th>\n",
       "    </tr>\n",
       "  </thead>\n",
       "  <tbody>\n",
       "    <tr>\n",
       "      <th>0</th>\n",
       "      <td>Action</td>\n",
       "      <td>1716.85</td>\n",
       "    </tr>\n",
       "    <tr>\n",
       "      <th>1</th>\n",
       "      <td>Sports</td>\n",
       "      <td>1320.04</td>\n",
       "    </tr>\n",
       "    <tr>\n",
       "      <th>2</th>\n",
       "      <td>Shooter</td>\n",
       "      <td>1041.36</td>\n",
       "    </tr>\n",
       "    <tr>\n",
       "      <th>3</th>\n",
       "      <td>Role-Playing</td>\n",
       "      <td>931.08</td>\n",
       "    </tr>\n",
       "    <tr>\n",
       "      <th>4</th>\n",
       "      <td>Platform</td>\n",
       "      <td>825.55</td>\n",
       "    </tr>\n",
       "    <tr>\n",
       "      <th>5</th>\n",
       "      <td>Misc</td>\n",
       "      <td>790.29</td>\n",
       "    </tr>\n",
       "    <tr>\n",
       "      <th>6</th>\n",
       "      <td>Racing</td>\n",
       "      <td>724.76</td>\n",
       "    </tr>\n",
       "    <tr>\n",
       "      <th>7</th>\n",
       "      <td>Fighting</td>\n",
       "      <td>442.66</td>\n",
       "    </tr>\n",
       "    <tr>\n",
       "      <th>8</th>\n",
       "      <td>Simulation</td>\n",
       "      <td>387.96</td>\n",
       "    </tr>\n",
       "    <tr>\n",
       "      <th>9</th>\n",
       "      <td>Puzzle</td>\n",
       "      <td>239.89</td>\n",
       "    </tr>\n",
       "    <tr>\n",
       "      <th>10</th>\n",
       "      <td>Adventure</td>\n",
       "      <td>233.33</td>\n",
       "    </tr>\n",
       "    <tr>\n",
       "      <th>11</th>\n",
       "      <td>Strategy</td>\n",
       "      <td>172.57</td>\n",
       "    </tr>\n",
       "  </tbody>\n",
       "</table>\n",
       "</div>"
      ],
      "text/plain": [
       "           genre  total_sales\n",
       "0         Action      1716.85\n",
       "1         Sports      1320.04\n",
       "2        Shooter      1041.36\n",
       "3   Role-Playing       931.08\n",
       "4       Platform       825.55\n",
       "5           Misc       790.29\n",
       "6         Racing       724.76\n",
       "7       Fighting       442.66\n",
       "8     Simulation       387.96\n",
       "9         Puzzle       239.89\n",
       "10     Adventure       233.33\n",
       "11      Strategy       172.57"
      ]
     },
     "metadata": {},
     "output_type": "display_data"
    },
    {
     "data": {
      "text/plain": [
       "Text(0, 0.5, 'Продажи')"
      ]
     },
     "execution_count": 82,
     "metadata": {},
     "output_type": "execute_result"
    },
    {
     "data": {
      "image/png": "[encoded data removed]",
      "text/plain": [
       "<Figure size 1080x360 with 1 Axes>"
      ]
     },
     "metadata": {
      "needs_background": "light"
     },
     "output_type": "display_data"
    }
   ],
   "source": [
    "# сделаем то же самое за весь период \n",
    "genre_sales = data.pivot_table(index='genre', values='total_sales', aggfunc='sum').sort_values(by='total_sales', ascending=False).reset_index().rename_axis(None, axis=1)\n",
    "display(genre_sales)\n",
    "plt.figure(figsize=(15,5))\n",
    "plt.title('Распределение игр по жанрам за весь период ',fontsize=15)\n",
    "sns.barplot(data=genre_sales, x='genre', y='total_sales')\n",
    "plt.xlabel('Жанры игр',fontsize=15)\n",
    "plt.ylabel('Продажи',fontsize=15)"
   ]
  },
  {
   "cell_type": "markdown",
   "metadata": {},
   "source": [
    "Получаем, что экшн продавался больше всего - как за актуальный период, так и в целом. Построим ещё диаграмму размаха, чтобы обнаружить выбросы и более точно оценить продажи. "
   ]
  },
  {
   "cell_type": "code",
   "execution_count": 83,
   "metadata": {},
   "outputs": [
    {
     "data": {
      "image/png": "[encoded data removed]",
      "text/plain": [
       "<Figure size 1080x360 with 1 Axes>"
      ]
     },
     "metadata": {
      "needs_background": "light"
     },
     "output_type": "display_data"
    }
   ],
   "source": [
    " (actual_data[['total_sales', 'genre']].boxplot(column='total_sales', by='genre', figsize=(15,5))\n",
    ")\n",
    "plt.xlabel('Жанр')\n",
    "plt.ylabel('Количество проданных копий, млн')\n",
    "plt.title('Диаграммы размаха по продажам в разных жанрах')\n",
    "plt.show()"
   ]
  },
  {
   "cell_type": "markdown",
   "metadata": {},
   "source": [
    "<div class=\"alert alert-block alert-success\">\n",
    " \n",
    "### Комментарий ревьюера\n",
    "    \n",
    "#### Успех\n",
    "    \n",
    "Правильно делаешь, что рассматриваешь медианные показатели. Это наиболее справедливая величина для определения самого успешного жанра. "
   ]
  },
  {
   "cell_type": "code",
   "execution_count": 84,
   "metadata": {},
   "outputs": [
    {
     "data": {
      "image/png": "[encoded data removed]",
      "text/plain": [
       "<Figure size 1080x360 with 1 Axes>"
      ]
     },
     "metadata": {
      "needs_background": "light"
     },
     "output_type": "display_data"
    }
   ],
   "source": [
    "# а теперь строим без выбросов \n",
    "(actual_data[['total_sales', 'genre']].boxplot(column='total_sales', by='genre', figsize=(15,5))\n",
    ")\n",
    "plt.xlabel('Жанр')\n",
    "plt.ylabel('Количество проданных копий, млн')\n",
    "plt.title('Диаграммы размаха по продажам в разных жанрах')\n",
    "plt.ylim(0, 4)\n",
    "plt.show()"
   ]
  },
  {
   "cell_type": "markdown",
   "metadata": {},
   "source": [
    "Похоже, если исключить выбросы, более стабильными кажутся жанры Шутер и Спорт, а Экшн со своим невероятным количеством выбросов уходит на третий план. \n",
    "В целом жанр Шутер и Спорт показывают хорошую динамику. Если мы не рассчитываем на бестселлеры в жанре Экшн, более перспективными назовём Шутер и Спорт. \n",
    "\n",
    "Для завершения этапа немного посмотрим на бестселлеры, которые выглядят как выбросы. "
   ]
  },
  {
   "cell_type": "code",
   "execution_count": 85,
   "metadata": {},
   "outputs": [
    {
     "data": {
      "text/html": [
       "<div>\n",
       "<style scoped>\n",
       "    .dataframe tbody tr th:only-of-type {\n",
       "        vertical-align: middle;\n",
       "    }\n",
       "\n",
       "    .dataframe tbody tr th {\n",
       "        vertical-align: top;\n",
       "    }\n",
       "\n",
       "    .dataframe thead th {\n",
       "        text-align: right;\n",
       "    }\n",
       "</style>\n",
       "<table border=\"1\" class=\"dataframe\">\n",
       "  <thead>\n",
       "    <tr style=\"text-align: right;\">\n",
       "      <th></th>\n",
       "      <th>name</th>\n",
       "      <th>platform</th>\n",
       "      <th>year_of_release</th>\n",
       "      <th>genre</th>\n",
       "      <th>na_sales</th>\n",
       "      <th>eu_sales</th>\n",
       "      <th>jp_sales</th>\n",
       "      <th>other_sales</th>\n",
       "      <th>critic_score</th>\n",
       "      <th>user_score</th>\n",
       "      <th>rating</th>\n",
       "      <th>total_sales</th>\n",
       "    </tr>\n",
       "  </thead>\n",
       "  <tbody>\n",
       "    <tr>\n",
       "      <th>16</th>\n",
       "      <td>Grand Theft Auto V</td>\n",
       "      <td>PS3</td>\n",
       "      <td>2013</td>\n",
       "      <td>Action</td>\n",
       "      <td>7.02</td>\n",
       "      <td>9.09</td>\n",
       "      <td>0.98</td>\n",
       "      <td>3.96</td>\n",
       "      <td>97.0</td>\n",
       "      <td>8.2</td>\n",
       "      <td>M</td>\n",
       "      <td>21.05</td>\n",
       "    </tr>\n",
       "    <tr>\n",
       "      <th>23</th>\n",
       "      <td>Grand Theft Auto V</td>\n",
       "      <td>X360</td>\n",
       "      <td>2013</td>\n",
       "      <td>Action</td>\n",
       "      <td>9.66</td>\n",
       "      <td>5.14</td>\n",
       "      <td>0.06</td>\n",
       "      <td>1.41</td>\n",
       "      <td>97.0</td>\n",
       "      <td>8.1</td>\n",
       "      <td>M</td>\n",
       "      <td>16.27</td>\n",
       "    </tr>\n",
       "    <tr>\n",
       "      <th>31</th>\n",
       "      <td>Call of Duty: Black Ops 3</td>\n",
       "      <td>PS4</td>\n",
       "      <td>2015</td>\n",
       "      <td>Shooter</td>\n",
       "      <td>6.03</td>\n",
       "      <td>5.86</td>\n",
       "      <td>0.36</td>\n",
       "      <td>2.38</td>\n",
       "      <td>-1.0</td>\n",
       "      <td>-1.0</td>\n",
       "      <td>TBD</td>\n",
       "      <td>14.63</td>\n",
       "    </tr>\n",
       "    <tr>\n",
       "      <th>33</th>\n",
       "      <td>Pokemon X/Pokemon Y</td>\n",
       "      <td>3DS</td>\n",
       "      <td>2013</td>\n",
       "      <td>Role-Playing</td>\n",
       "      <td>5.28</td>\n",
       "      <td>4.19</td>\n",
       "      <td>4.35</td>\n",
       "      <td>0.78</td>\n",
       "      <td>-1.0</td>\n",
       "      <td>-1.0</td>\n",
       "      <td>TBD</td>\n",
       "      <td>14.60</td>\n",
       "    </tr>\n",
       "    <tr>\n",
       "      <th>42</th>\n",
       "      <td>Grand Theft Auto V</td>\n",
       "      <td>PS4</td>\n",
       "      <td>2014</td>\n",
       "      <td>Action</td>\n",
       "      <td>3.96</td>\n",
       "      <td>6.31</td>\n",
       "      <td>0.38</td>\n",
       "      <td>1.97</td>\n",
       "      <td>97.0</td>\n",
       "      <td>8.3</td>\n",
       "      <td>M</td>\n",
       "      <td>12.62</td>\n",
       "    </tr>\n",
       "    <tr>\n",
       "      <th>47</th>\n",
       "      <td>Pokemon Omega Ruby/Pokemon Alpha Sapphire</td>\n",
       "      <td>3DS</td>\n",
       "      <td>2014</td>\n",
       "      <td>Role-Playing</td>\n",
       "      <td>4.35</td>\n",
       "      <td>3.49</td>\n",
       "      <td>3.10</td>\n",
       "      <td>0.74</td>\n",
       "      <td>-1.0</td>\n",
       "      <td>-1.0</td>\n",
       "      <td>TBD</td>\n",
       "      <td>11.68</td>\n",
       "    </tr>\n",
       "    <tr>\n",
       "      <th>60</th>\n",
       "      <td>Call of Duty: Ghosts</td>\n",
       "      <td>X360</td>\n",
       "      <td>2013</td>\n",
       "      <td>Shooter</td>\n",
       "      <td>6.73</td>\n",
       "      <td>2.56</td>\n",
       "      <td>0.04</td>\n",
       "      <td>0.91</td>\n",
       "      <td>73.0</td>\n",
       "      <td>2.6</td>\n",
       "      <td>M</td>\n",
       "      <td>10.24</td>\n",
       "    </tr>\n",
       "    <tr>\n",
       "      <th>69</th>\n",
       "      <td>Call of Duty: Ghosts</td>\n",
       "      <td>PS3</td>\n",
       "      <td>2013</td>\n",
       "      <td>Shooter</td>\n",
       "      <td>4.10</td>\n",
       "      <td>3.63</td>\n",
       "      <td>0.38</td>\n",
       "      <td>1.25</td>\n",
       "      <td>71.0</td>\n",
       "      <td>2.6</td>\n",
       "      <td>M</td>\n",
       "      <td>9.36</td>\n",
       "    </tr>\n",
       "    <tr>\n",
       "      <th>72</th>\n",
       "      <td>Minecraft</td>\n",
       "      <td>X360</td>\n",
       "      <td>2013</td>\n",
       "      <td>Misc</td>\n",
       "      <td>5.70</td>\n",
       "      <td>2.65</td>\n",
       "      <td>0.02</td>\n",
       "      <td>0.81</td>\n",
       "      <td>-1.0</td>\n",
       "      <td>-1.0</td>\n",
       "      <td>TBD</td>\n",
       "      <td>9.18</td>\n",
       "    </tr>\n",
       "    <tr>\n",
       "      <th>77</th>\n",
       "      <td>FIFA 16</td>\n",
       "      <td>PS4</td>\n",
       "      <td>2015</td>\n",
       "      <td>Sports</td>\n",
       "      <td>1.12</td>\n",
       "      <td>6.12</td>\n",
       "      <td>0.06</td>\n",
       "      <td>1.28</td>\n",
       "      <td>82.0</td>\n",
       "      <td>4.3</td>\n",
       "      <td>E</td>\n",
       "      <td>8.58</td>\n",
       "    </tr>\n",
       "    <tr>\n",
       "      <th>87</th>\n",
       "      <td>Star Wars Battlefront (2015)</td>\n",
       "      <td>PS4</td>\n",
       "      <td>2015</td>\n",
       "      <td>Shooter</td>\n",
       "      <td>2.99</td>\n",
       "      <td>3.49</td>\n",
       "      <td>0.22</td>\n",
       "      <td>1.28</td>\n",
       "      <td>-1.0</td>\n",
       "      <td>-1.0</td>\n",
       "      <td>TBD</td>\n",
       "      <td>7.98</td>\n",
       "    </tr>\n",
       "    <tr>\n",
       "      <th>92</th>\n",
       "      <td>Call of Duty: Advanced Warfare</td>\n",
       "      <td>PS4</td>\n",
       "      <td>2014</td>\n",
       "      <td>Shooter</td>\n",
       "      <td>2.81</td>\n",
       "      <td>3.48</td>\n",
       "      <td>0.14</td>\n",
       "      <td>1.23</td>\n",
       "      <td>83.0</td>\n",
       "      <td>5.7</td>\n",
       "      <td>M</td>\n",
       "      <td>7.66</td>\n",
       "    </tr>\n",
       "    <tr>\n",
       "      <th>94</th>\n",
       "      <td>FIFA 17</td>\n",
       "      <td>PS4</td>\n",
       "      <td>2016</td>\n",
       "      <td>Sports</td>\n",
       "      <td>0.66</td>\n",
       "      <td>5.75</td>\n",
       "      <td>0.08</td>\n",
       "      <td>1.11</td>\n",
       "      <td>85.0</td>\n",
       "      <td>5.0</td>\n",
       "      <td>E</td>\n",
       "      <td>7.60</td>\n",
       "    </tr>\n",
       "    <tr>\n",
       "      <th>96</th>\n",
       "      <td>Super Smash Bros. for Wii U and 3DS</td>\n",
       "      <td>3DS</td>\n",
       "      <td>2014</td>\n",
       "      <td>Fighting</td>\n",
       "      <td>3.27</td>\n",
       "      <td>1.37</td>\n",
       "      <td>2.43</td>\n",
       "      <td>0.48</td>\n",
       "      <td>-1.0</td>\n",
       "      <td>-1.0</td>\n",
       "      <td>TBD</td>\n",
       "      <td>7.55</td>\n",
       "    </tr>\n",
       "    <tr>\n",
       "      <th>99</th>\n",
       "      <td>Call of Duty: Black Ops 3</td>\n",
       "      <td>XOne</td>\n",
       "      <td>2015</td>\n",
       "      <td>Shooter</td>\n",
       "      <td>4.59</td>\n",
       "      <td>2.11</td>\n",
       "      <td>0.01</td>\n",
       "      <td>0.68</td>\n",
       "      <td>-1.0</td>\n",
       "      <td>-1.0</td>\n",
       "      <td>TBD</td>\n",
       "      <td>7.39</td>\n",
       "    </tr>\n",
       "    <tr>\n",
       "      <th>105</th>\n",
       "      <td>Fallout 4</td>\n",
       "      <td>PS4</td>\n",
       "      <td>2015</td>\n",
       "      <td>Role-Playing</td>\n",
       "      <td>2.53</td>\n",
       "      <td>3.27</td>\n",
       "      <td>0.24</td>\n",
       "      <td>1.13</td>\n",
       "      <td>87.0</td>\n",
       "      <td>6.5</td>\n",
       "      <td>M</td>\n",
       "      <td>7.17</td>\n",
       "    </tr>\n",
       "    <tr>\n",
       "      <th>108</th>\n",
       "      <td>Pokemon Sun/Moon</td>\n",
       "      <td>3DS</td>\n",
       "      <td>2016</td>\n",
       "      <td>Role-Playing</td>\n",
       "      <td>2.98</td>\n",
       "      <td>1.45</td>\n",
       "      <td>2.26</td>\n",
       "      <td>0.45</td>\n",
       "      <td>-1.0</td>\n",
       "      <td>-1.0</td>\n",
       "      <td>TBD</td>\n",
       "      <td>7.14</td>\n",
       "    </tr>\n",
       "    <tr>\n",
       "      <th>110</th>\n",
       "      <td>Mario Kart 8</td>\n",
       "      <td>WiiU</td>\n",
       "      <td>2014</td>\n",
       "      <td>Racing</td>\n",
       "      <td>3.15</td>\n",
       "      <td>2.15</td>\n",
       "      <td>1.28</td>\n",
       "      <td>0.51</td>\n",
       "      <td>88.0</td>\n",
       "      <td>9.1</td>\n",
       "      <td>E</td>\n",
       "      <td>7.09</td>\n",
       "    </tr>\n",
       "    <tr>\n",
       "      <th>126</th>\n",
       "      <td>FIFA 14</td>\n",
       "      <td>PS3</td>\n",
       "      <td>2013</td>\n",
       "      <td>Sports</td>\n",
       "      <td>0.78</td>\n",
       "      <td>4.24</td>\n",
       "      <td>0.07</td>\n",
       "      <td>1.37</td>\n",
       "      <td>86.0</td>\n",
       "      <td>4.3</td>\n",
       "      <td>E</td>\n",
       "      <td>6.46</td>\n",
       "    </tr>\n",
       "    <tr>\n",
       "      <th>143</th>\n",
       "      <td>FIFA 15</td>\n",
       "      <td>PS4</td>\n",
       "      <td>2014</td>\n",
       "      <td>Sports</td>\n",
       "      <td>0.80</td>\n",
       "      <td>4.33</td>\n",
       "      <td>0.05</td>\n",
       "      <td>0.90</td>\n",
       "      <td>82.0</td>\n",
       "      <td>5.7</td>\n",
       "      <td>E</td>\n",
       "      <td>6.08</td>\n",
       "    </tr>\n",
       "    <tr>\n",
       "      <th>149</th>\n",
       "      <td>The Last of Us</td>\n",
       "      <td>PS3</td>\n",
       "      <td>2013</td>\n",
       "      <td>Action</td>\n",
       "      <td>2.41</td>\n",
       "      <td>2.18</td>\n",
       "      <td>0.28</td>\n",
       "      <td>0.99</td>\n",
       "      <td>95.0</td>\n",
       "      <td>9.1</td>\n",
       "      <td>M</td>\n",
       "      <td>5.86</td>\n",
       "    </tr>\n",
       "    <tr>\n",
       "      <th>154</th>\n",
       "      <td>Destiny</td>\n",
       "      <td>PS4</td>\n",
       "      <td>2014</td>\n",
       "      <td>Shooter</td>\n",
       "      <td>2.49</td>\n",
       "      <td>2.07</td>\n",
       "      <td>0.16</td>\n",
       "      <td>0.92</td>\n",
       "      <td>76.0</td>\n",
       "      <td>6.1</td>\n",
       "      <td>T</td>\n",
       "      <td>5.64</td>\n",
       "    </tr>\n",
       "    <tr>\n",
       "      <th>165</th>\n",
       "      <td>Grand Theft Auto V</td>\n",
       "      <td>XOne</td>\n",
       "      <td>2014</td>\n",
       "      <td>Action</td>\n",
       "      <td>2.81</td>\n",
       "      <td>2.19</td>\n",
       "      <td>0.00</td>\n",
       "      <td>0.47</td>\n",
       "      <td>97.0</td>\n",
       "      <td>7.9</td>\n",
       "      <td>M</td>\n",
       "      <td>5.47</td>\n",
       "    </tr>\n",
       "    <tr>\n",
       "      <th>171</th>\n",
       "      <td>Uncharted 4: A Thief's End</td>\n",
       "      <td>PS4</td>\n",
       "      <td>2016</td>\n",
       "      <td>Shooter</td>\n",
       "      <td>1.85</td>\n",
       "      <td>2.50</td>\n",
       "      <td>0.19</td>\n",
       "      <td>0.85</td>\n",
       "      <td>93.0</td>\n",
       "      <td>7.9</td>\n",
       "      <td>T</td>\n",
       "      <td>5.39</td>\n",
       "    </tr>\n",
       "    <tr>\n",
       "      <th>180</th>\n",
       "      <td>Minecraft</td>\n",
       "      <td>PS3</td>\n",
       "      <td>2014</td>\n",
       "      <td>Misc</td>\n",
       "      <td>2.03</td>\n",
       "      <td>2.37</td>\n",
       "      <td>0.00</td>\n",
       "      <td>0.87</td>\n",
       "      <td>-1.0</td>\n",
       "      <td>-1.0</td>\n",
       "      <td>TBD</td>\n",
       "      <td>5.27</td>\n",
       "    </tr>\n",
       "    <tr>\n",
       "      <th>179</th>\n",
       "      <td>Call of Duty: Advanced Warfare</td>\n",
       "      <td>XOne</td>\n",
       "      <td>2014</td>\n",
       "      <td>Shooter</td>\n",
       "      <td>3.22</td>\n",
       "      <td>1.55</td>\n",
       "      <td>0.01</td>\n",
       "      <td>0.48</td>\n",
       "      <td>81.0</td>\n",
       "      <td>5.4</td>\n",
       "      <td>M</td>\n",
       "      <td>5.26</td>\n",
       "    </tr>\n",
       "    <tr>\n",
       "      <th>184</th>\n",
       "      <td>Tomodachi Life</td>\n",
       "      <td>3DS</td>\n",
       "      <td>2013</td>\n",
       "      <td>Simulation</td>\n",
       "      <td>0.97</td>\n",
       "      <td>2.11</td>\n",
       "      <td>1.90</td>\n",
       "      <td>0.24</td>\n",
       "      <td>-1.0</td>\n",
       "      <td>-1.0</td>\n",
       "      <td>TBD</td>\n",
       "      <td>5.22</td>\n",
       "    </tr>\n",
       "    <tr>\n",
       "      <th>216</th>\n",
       "      <td>Super Smash Bros. for Wii U and 3DS</td>\n",
       "      <td>WiiU</td>\n",
       "      <td>2014</td>\n",
       "      <td>Fighting</td>\n",
       "      <td>2.60</td>\n",
       "      <td>1.08</td>\n",
       "      <td>0.81</td>\n",
       "      <td>0.38</td>\n",
       "      <td>-1.0</td>\n",
       "      <td>-1.0</td>\n",
       "      <td>TBD</td>\n",
       "      <td>4.87</td>\n",
       "    </tr>\n",
       "    <tr>\n",
       "      <th>225</th>\n",
       "      <td>The Last of Us</td>\n",
       "      <td>PS4</td>\n",
       "      <td>2014</td>\n",
       "      <td>Action</td>\n",
       "      <td>1.88</td>\n",
       "      <td>2.00</td>\n",
       "      <td>0.07</td>\n",
       "      <td>0.77</td>\n",
       "      <td>-1.0</td>\n",
       "      <td>-1.0</td>\n",
       "      <td>TBD</td>\n",
       "      <td>4.72</td>\n",
       "    </tr>\n",
       "    <tr>\n",
       "      <th>231</th>\n",
       "      <td>Uncharted: The Nathan Drake Collection</td>\n",
       "      <td>PS4</td>\n",
       "      <td>2015</td>\n",
       "      <td>Action</td>\n",
       "      <td>2.07</td>\n",
       "      <td>1.71</td>\n",
       "      <td>0.08</td>\n",
       "      <td>0.76</td>\n",
       "      <td>86.0</td>\n",
       "      <td>8.1</td>\n",
       "      <td>T</td>\n",
       "      <td>4.62</td>\n",
       "    </tr>\n",
       "    <tr>\n",
       "      <th>235</th>\n",
       "      <td>Luigi's Mansion: Dark Moon</td>\n",
       "      <td>3DS</td>\n",
       "      <td>2013</td>\n",
       "      <td>Action</td>\n",
       "      <td>1.80</td>\n",
       "      <td>1.39</td>\n",
       "      <td>1.11</td>\n",
       "      <td>0.29</td>\n",
       "      <td>86.0</td>\n",
       "      <td>8.4</td>\n",
       "      <td>E</td>\n",
       "      <td>4.59</td>\n",
       "    </tr>\n",
       "    <tr>\n",
       "      <th>242</th>\n",
       "      <td>Halo 5: Guardians</td>\n",
       "      <td>XOne</td>\n",
       "      <td>2015</td>\n",
       "      <td>Shooter</td>\n",
       "      <td>2.78</td>\n",
       "      <td>1.27</td>\n",
       "      <td>0.03</td>\n",
       "      <td>0.41</td>\n",
       "      <td>84.0</td>\n",
       "      <td>6.4</td>\n",
       "      <td>T</td>\n",
       "      <td>4.49</td>\n",
       "    </tr>\n",
       "    <tr>\n",
       "      <th>245</th>\n",
       "      <td>Call of Duty: Infinite Warfare</td>\n",
       "      <td>PS4</td>\n",
       "      <td>2016</td>\n",
       "      <td>Shooter</td>\n",
       "      <td>1.61</td>\n",
       "      <td>2.00</td>\n",
       "      <td>0.15</td>\n",
       "      <td>0.71</td>\n",
       "      <td>77.0</td>\n",
       "      <td>3.4</td>\n",
       "      <td>M</td>\n",
       "      <td>4.47</td>\n",
       "    </tr>\n",
       "    <tr>\n",
       "      <th>247</th>\n",
       "      <td>Splatoon</td>\n",
       "      <td>WiiU</td>\n",
       "      <td>2015</td>\n",
       "      <td>Shooter</td>\n",
       "      <td>1.54</td>\n",
       "      <td>1.18</td>\n",
       "      <td>1.46</td>\n",
       "      <td>0.26</td>\n",
       "      <td>81.0</td>\n",
       "      <td>8.5</td>\n",
       "      <td>E10+</td>\n",
       "      <td>4.44</td>\n",
       "    </tr>\n",
       "    <tr>\n",
       "      <th>255</th>\n",
       "      <td>Call of Duty: Advanced Warfare</td>\n",
       "      <td>PS3</td>\n",
       "      <td>2014</td>\n",
       "      <td>Shooter</td>\n",
       "      <td>1.56</td>\n",
       "      <td>1.93</td>\n",
       "      <td>0.19</td>\n",
       "      <td>0.68</td>\n",
       "      <td>-1.0</td>\n",
       "      <td>4.8</td>\n",
       "      <td>M</td>\n",
       "      <td>4.36</td>\n",
       "    </tr>\n",
       "    <tr>\n",
       "      <th>261</th>\n",
       "      <td>Minecraft</td>\n",
       "      <td>PS4</td>\n",
       "      <td>2014</td>\n",
       "      <td>Misc</td>\n",
       "      <td>1.48</td>\n",
       "      <td>2.02</td>\n",
       "      <td>0.14</td>\n",
       "      <td>0.68</td>\n",
       "      <td>-1.0</td>\n",
       "      <td>-1.0</td>\n",
       "      <td>TBD</td>\n",
       "      <td>4.32</td>\n",
       "    </tr>\n",
       "    <tr>\n",
       "      <th>260</th>\n",
       "      <td>Super Mario 3D World</td>\n",
       "      <td>WiiU</td>\n",
       "      <td>2013</td>\n",
       "      <td>Platform</td>\n",
       "      <td>2.11</td>\n",
       "      <td>1.16</td>\n",
       "      <td>0.73</td>\n",
       "      <td>0.32</td>\n",
       "      <td>93.0</td>\n",
       "      <td>9.0</td>\n",
       "      <td>E</td>\n",
       "      <td>4.32</td>\n",
       "    </tr>\n",
       "    <tr>\n",
       "      <th>263</th>\n",
       "      <td>Call of Duty: Advanced Warfare</td>\n",
       "      <td>X360</td>\n",
       "      <td>2014</td>\n",
       "      <td>Shooter</td>\n",
       "      <td>2.77</td>\n",
       "      <td>1.11</td>\n",
       "      <td>0.00</td>\n",
       "      <td>0.40</td>\n",
       "      <td>-1.0</td>\n",
       "      <td>4.9</td>\n",
       "      <td>M</td>\n",
       "      <td>4.28</td>\n",
       "    </tr>\n",
       "    <tr>\n",
       "      <th>264</th>\n",
       "      <td>FIFA 15</td>\n",
       "      <td>PS3</td>\n",
       "      <td>2014</td>\n",
       "      <td>Sports</td>\n",
       "      <td>0.58</td>\n",
       "      <td>3.02</td>\n",
       "      <td>0.04</td>\n",
       "      <td>0.64</td>\n",
       "      <td>-1.0</td>\n",
       "      <td>4.5</td>\n",
       "      <td>E</td>\n",
       "      <td>4.28</td>\n",
       "    </tr>\n",
       "    <tr>\n",
       "      <th>270</th>\n",
       "      <td>Fallout 4</td>\n",
       "      <td>XOne</td>\n",
       "      <td>2015</td>\n",
       "      <td>Role-Playing</td>\n",
       "      <td>2.51</td>\n",
       "      <td>1.32</td>\n",
       "      <td>0.01</td>\n",
       "      <td>0.38</td>\n",
       "      <td>88.0</td>\n",
       "      <td>6.2</td>\n",
       "      <td>M</td>\n",
       "      <td>4.22</td>\n",
       "    </tr>\n",
       "    <tr>\n",
       "      <th>271</th>\n",
       "      <td>FIFA 14</td>\n",
       "      <td>X360</td>\n",
       "      <td>2013</td>\n",
       "      <td>Sports</td>\n",
       "      <td>0.92</td>\n",
       "      <td>2.89</td>\n",
       "      <td>0.01</td>\n",
       "      <td>0.40</td>\n",
       "      <td>84.0</td>\n",
       "      <td>4.2</td>\n",
       "      <td>E</td>\n",
       "      <td>4.22</td>\n",
       "    </tr>\n",
       "    <tr>\n",
       "      <th>289</th>\n",
       "      <td>Battlefield 1</td>\n",
       "      <td>PS4</td>\n",
       "      <td>2016</td>\n",
       "      <td>Shooter</td>\n",
       "      <td>1.10</td>\n",
       "      <td>2.15</td>\n",
       "      <td>0.21</td>\n",
       "      <td>0.61</td>\n",
       "      <td>88.0</td>\n",
       "      <td>8.4</td>\n",
       "      <td>M</td>\n",
       "      <td>4.07</td>\n",
       "    </tr>\n",
       "    <tr>\n",
       "      <th>295</th>\n",
       "      <td>Watch Dogs</td>\n",
       "      <td>PS4</td>\n",
       "      <td>2014</td>\n",
       "      <td>Action</td>\n",
       "      <td>1.40</td>\n",
       "      <td>1.90</td>\n",
       "      <td>0.11</td>\n",
       "      <td>0.64</td>\n",
       "      <td>80.0</td>\n",
       "      <td>6.3</td>\n",
       "      <td>M</td>\n",
       "      <td>4.05</td>\n",
       "    </tr>\n",
       "    <tr>\n",
       "      <th>298</th>\n",
       "      <td>Far Cry 4</td>\n",
       "      <td>PS4</td>\n",
       "      <td>2014</td>\n",
       "      <td>Shooter</td>\n",
       "      <td>1.13</td>\n",
       "      <td>2.18</td>\n",
       "      <td>0.10</td>\n",
       "      <td>0.63</td>\n",
       "      <td>85.0</td>\n",
       "      <td>7.7</td>\n",
       "      <td>M</td>\n",
       "      <td>4.04</td>\n",
       "    </tr>\n",
       "  </tbody>\n",
       "</table>\n",
       "</div>"
      ],
      "text/plain": [
       "                                          name platform  year_of_release  \\\n",
       "16                          Grand Theft Auto V      PS3             2013   \n",
       "23                          Grand Theft Auto V     X360             2013   \n",
       "31                   Call of Duty: Black Ops 3      PS4             2015   \n",
       "33                         Pokemon X/Pokemon Y      3DS             2013   \n",
       "42                          Grand Theft Auto V      PS4             2014   \n",
       "47   Pokemon Omega Ruby/Pokemon Alpha Sapphire      3DS             2014   \n",
       "60                        Call of Duty: Ghosts     X360             2013   \n",
       "69                        Call of Duty: Ghosts      PS3             2013   \n",
       "72                                   Minecraft     X360             2013   \n",
       "77                                     FIFA 16      PS4             2015   \n",
       "87                Star Wars Battlefront (2015)      PS4             2015   \n",
       "92              Call of Duty: Advanced Warfare      PS4             2014   \n",
       "94                                     FIFA 17      PS4             2016   \n",
       "96         Super Smash Bros. for Wii U and 3DS      3DS             2014   \n",
       "99                   Call of Duty: Black Ops 3     XOne             2015   \n",
       "105                                  Fallout 4      PS4             2015   \n",
       "108                           Pokemon Sun/Moon      3DS             2016   \n",
       "110                               Mario Kart 8     WiiU             2014   \n",
       "126                                    FIFA 14      PS3             2013   \n",
       "143                                    FIFA 15      PS4             2014   \n",
       "149                             The Last of Us      PS3             2013   \n",
       "154                                    Destiny      PS4             2014   \n",
       "165                         Grand Theft Auto V     XOne             2014   \n",
       "171                 Uncharted 4: A Thief's End      PS4             2016   \n",
       "180                                  Minecraft      PS3             2014   \n",
       "179             Call of Duty: Advanced Warfare     XOne             2014   \n",
       "184                             Tomodachi Life      3DS             2013   \n",
       "216        Super Smash Bros. for Wii U and 3DS     WiiU             2014   \n",
       "225                             The Last of Us      PS4             2014   \n",
       "231     Uncharted: The Nathan Drake Collection      PS4             2015   \n",
       "235                 Luigi's Mansion: Dark Moon      3DS             2013   \n",
       "242                          Halo 5: Guardians     XOne             2015   \n",
       "245             Call of Duty: Infinite Warfare      PS4             2016   \n",
       "247                                   Splatoon     WiiU             2015   \n",
       "255             Call of Duty: Advanced Warfare      PS3             2014   \n",
       "261                                  Minecraft      PS4             2014   \n",
       "260                       Super Mario 3D World     WiiU             2013   \n",
       "263             Call of Duty: Advanced Warfare     X360             2014   \n",
       "264                                    FIFA 15      PS3             2014   \n",
       "270                                  Fallout 4     XOne             2015   \n",
       "271                                    FIFA 14     X360             2013   \n",
       "289                              Battlefield 1      PS4             2016   \n",
       "295                                 Watch Dogs      PS4             2014   \n",
       "298                                  Far Cry 4      PS4             2014   \n",
       "\n",
       "            genre  na_sales  eu_sales  jp_sales  other_sales  critic_score  \\\n",
       "16         Action      7.02      9.09      0.98         3.96          97.0   \n",
       "23         Action      9.66      5.14      0.06         1.41          97.0   \n",
       "31        Shooter      6.03      5.86      0.36         2.38          -1.0   \n",
       "33   Role-Playing      5.28      4.19      4.35         0.78          -1.0   \n",
       "42         Action      3.96      6.31      0.38         1.97          97.0   \n",
       "47   Role-Playing      4.35      3.49      3.10         0.74          -1.0   \n",
       "60        Shooter      6.73      2.56      0.04         0.91          73.0   \n",
       "69        Shooter      4.10      3.63      0.38         1.25          71.0   \n",
       "72           Misc      5.70      2.65      0.02         0.81          -1.0   \n",
       "77         Sports      1.12      6.12      0.06         1.28          82.0   \n",
       "87        Shooter      2.99      3.49      0.22         1.28          -1.0   \n",
       "92        Shooter      2.81      3.48      0.14         1.23          83.0   \n",
       "94         Sports      0.66      5.75      0.08         1.11          85.0   \n",
       "96       Fighting      3.27      1.37      2.43         0.48          -1.0   \n",
       "99        Shooter      4.59      2.11      0.01         0.68          -1.0   \n",
       "105  Role-Playing      2.53      3.27      0.24         1.13          87.0   \n",
       "108  Role-Playing      2.98      1.45      2.26         0.45          -1.0   \n",
       "110        Racing      3.15      2.15      1.28         0.51          88.0   \n",
       "126        Sports      0.78      4.24      0.07         1.37          86.0   \n",
       "143        Sports      0.80      4.33      0.05         0.90          82.0   \n",
       "149        Action      2.41      2.18      0.28         0.99          95.0   \n",
       "154       Shooter      2.49      2.07      0.16         0.92          76.0   \n",
       "165        Action      2.81      2.19      0.00         0.47          97.0   \n",
       "171       Shooter      1.85      2.50      0.19         0.85          93.0   \n",
       "180          Misc      2.03      2.37      0.00         0.87          -1.0   \n",
       "179       Shooter      3.22      1.55      0.01         0.48          81.0   \n",
       "184    Simulation      0.97      2.11      1.90         0.24          -1.0   \n",
       "216      Fighting      2.60      1.08      0.81         0.38          -1.0   \n",
       "225        Action      1.88      2.00      0.07         0.77          -1.0   \n",
       "231        Action      2.07      1.71      0.08         0.76          86.0   \n",
       "235        Action      1.80      1.39      1.11         0.29          86.0   \n",
       "242       Shooter      2.78      1.27      0.03         0.41          84.0   \n",
       "245       Shooter      1.61      2.00      0.15         0.71          77.0   \n",
       "247       Shooter      1.54      1.18      1.46         0.26          81.0   \n",
       "255       Shooter      1.56      1.93      0.19         0.68          -1.0   \n",
       "261          Misc      1.48      2.02      0.14         0.68          -1.0   \n",
       "260      Platform      2.11      1.16      0.73         0.32          93.0   \n",
       "263       Shooter      2.77      1.11      0.00         0.40          -1.0   \n",
       "264        Sports      0.58      3.02      0.04         0.64          -1.0   \n",
       "270  Role-Playing      2.51      1.32      0.01         0.38          88.0   \n",
       "271        Sports      0.92      2.89      0.01         0.40          84.0   \n",
       "289       Shooter      1.10      2.15      0.21         0.61          88.0   \n",
       "295        Action      1.40      1.90      0.11         0.64          80.0   \n",
       "298       Shooter      1.13      2.18      0.10         0.63          85.0   \n",
       "\n",
       "     user_score rating  total_sales  \n",
       "16          8.2      M        21.05  \n",
       "23          8.1      M        16.27  \n",
       "31         -1.0    TBD        14.63  \n",
       "33         -1.0    TBD        14.60  \n",
       "42          8.3      M        12.62  \n",
       "47         -1.0    TBD        11.68  \n",
       "60          2.6      M        10.24  \n",
       "69          2.6      M         9.36  \n",
       "72         -1.0    TBD         9.18  \n",
       "77          4.3      E         8.58  \n",
       "87         -1.0    TBD         7.98  \n",
       "92          5.7      M         7.66  \n",
       "94          5.0      E         7.60  \n",
       "96         -1.0    TBD         7.55  \n",
       "99         -1.0    TBD         7.39  \n",
       "105         6.5      M         7.17  \n",
       "108        -1.0    TBD         7.14  \n",
       "110         9.1      E         7.09  \n",
       "126         4.3      E         6.46  \n",
       "143         5.7      E         6.08  \n",
       "149         9.1      M         5.86  \n",
       "154         6.1      T         5.64  \n",
       "165         7.9      M         5.47  \n",
       "171         7.9      T         5.39  \n",
       "180        -1.0    TBD         5.27  \n",
       "179         5.4      M         5.26  \n",
       "184        -1.0    TBD         5.22  \n",
       "216        -1.0    TBD         4.87  \n",
       "225        -1.0    TBD         4.72  \n",
       "231         8.1      T         4.62  \n",
       "235         8.4      E         4.59  \n",
       "242         6.4      T         4.49  \n",
       "245         3.4      M         4.47  \n",
       "247         8.5   E10+         4.44  \n",
       "255         4.8      M         4.36  \n",
       "261        -1.0    TBD         4.32  \n",
       "260         9.0      E         4.32  \n",
       "263         4.9      M         4.28  \n",
       "264         4.5      E         4.28  \n",
       "270         6.2      M         4.22  \n",
       "271         4.2      E         4.22  \n",
       "289         8.4      M         4.07  \n",
       "295         6.3      M         4.05  \n",
       "298         7.7      M         4.04  "
      ]
     },
     "metadata": {},
     "output_type": "display_data"
    }
   ],
   "source": [
    "display(actual_data.query('total_sales > 4').sort_values(by='total_sales', ascending = False))"
   ]
  },
  {
   "cell_type": "markdown",
   "metadata": {},
   "source": [
    "Топ игр для покупателей магазина Стримчик понятен - это call of duty и  GTA, что в целом объяснимо. \n",
    "\n",
    "**Вывод** - наиболее перспективный жанр - шутеры и спорт. Не смотря на то, что у игр в жанре Экшн больше продаж в целом, они больше зависят от \"выстреливающих\" бестселлеров. Если ориентироваться на медианные продажи - шутеры самые перспективные. "
   ]
  },
  {
   "cell_type": "markdown",
   "metadata": {},
   "source": [
    "<div class=\"alert alert-block alert-success\">\n",
    " \n",
    "### Комментарий ревьюера\n",
    "    \n",
    "#### Успех\n",
    "    \n",
    "Отлично вышло. Даже нечего добавить"
   ]
  },
  {
   "cell_type": "markdown",
   "metadata": {},
   "source": [
    "**Общий вывод по разделу**   \n",
    "\n",
    "Провели исследовательский анализ данных, выявили следующее: \n",
    "- Изучили продажи за разные годы. \n",
    "- Средний срок жизни платформы - 5-8 лет. Более новые платформы \"живут\" чуть дольше, наблюдается небольшой рост \"срока жизни\" платформ. Новые поколения платформ приходят на смену старым примерно на спаде пика популярности \"старых\" поколений \n",
    "- Актуальный период для анализа - с 2013 года. Этот период не так сильно подвержен влиянию кризиса, и к тому же, связан с актуальными на 2017 - год, для которого мы хотим построить прогноз - поколениями платформ. \n",
    "- Потенциально прибыльными платформами признаём PS4 и XOne. Это платформы нового поколения, которые показывают хорошую динамику продаж \n",
    "- По \"ящику с усами\" проанализировали продажи и сделали вывод, что по медианным значениям видим, что наши \"лидеры\" - перспективные платформы - уже значительно опережают своих предшественников, косвенно подтвердили правильность выбора перспективных платформ для дальнейшего исследования и прогнозов.\n",
    "- Построили графики и убедились, что продажи коррелируют с отзывами критиков, но не имеют связи с рейтингом пользователей. Пользователи ставят низкие оценки FIFA и Call of Duty, но продолжают покупать \n",
    "- Самый прибыльный жанр - Экшн, по нему больше всего продаж - как суммарно, так и за актуальный период. Однако самые перспективные данры - Шутер и Спорт - они показывают себя более \"стабильно\", медианные продажи по ним гораздо выше. По сути они не зависят от бестселлеров, а делают выручку без них. "
   ]
  },
  {
   "cell_type": "markdown",
   "metadata": {},
   "source": [
    "### Шаг 4. Портрет пользователя по регионам \n",
    "В рамках данного шага \n",
    "- определим топ-5 платформ для каждого региона \n",
    "- определим топ-5 жанров по каждому региону \n",
    "- изучим корреляцию рейтинга и продаж в каждом регионе по отдельности. \n",
    "\n",
    "Начнём с топ платформ для каждого региона \n",
    "\n",
    "нам предстоит построить довольно много графиков по \"топам\", поэтому сразу определим функцию для удобства "
   ]
  },
  {
   "cell_type": "code",
   "execution_count": 86,
   "metadata": {},
   "outputs": [
    {
     "data": {
      "image/png": "[encoded data removed]",
      "text/plain": [
       "<Figure size 1080x360 with 3 Axes>"
      ]
     },
     "metadata": {
      "needs_background": "light"
     },
     "output_type": "display_data"
    }
   ],
   "source": [
    "def define_top(column):\n",
    "    # Создадим общий список по продажам\n",
    "    region_list = ['na_sales', 'eu_sales', 'jp_sales']\n",
    "    \n",
    "    # Подготовим подграфики\n",
    "    fig, axes = plt.subplots(1, len(region_list), figsize=(15, 5))\n",
    "    \n",
    "    # Пройдемся циклом по регионам и построим графики для них\n",
    "    for i, region in enumerate(region_list):\n",
    "        # в таблицу сохраняю сумму продаж по конкретному параметру для актуального в текущей итерации цикла региону\n",
    "        data_new = actual_data.pivot_table(index=column, values=region, aggfunc='sum').sort_values(by=region, ascending=False)[:5]\n",
    "        data_new.plot(kind='bar', ec='black', title=region, ax=axes[i], fontsize=13, color='skyblue', rot=45)\n",
    "        axes[i].set_xlabel('')\n",
    "        #display(data_new)\n",
    "    \n",
    "    plt.tight_layout()\n",
    "    plt.show()\n",
    "\n",
    "# Вызываю функцию для платформы \n",
    "define_top('platform')"
   ]
  },
  {
   "cell_type": "markdown",
   "metadata": {},
   "source": [
    "Видим следующее: \n",
    "- в Северной Америке и Европе однозначный лидер - свежая PS4, тогда как в Японии PS4 даже не в топ-3, в Японии лидирует 3DS (nintendo switch). Это может быть вызвано ритмом жизни и привычками играть \"на ходу\", нон-стоп в данном регионе. \n",
    "- до Северной Америки быстрее добрался (и распространился) XOne. В Европе же на втором месте пока ещё располагается \"ветеран\", PS3. \n",
    "- в целом PS4 неплохо себя показывает во всех регионах. \n",
    "\n",
    "Разберёмся с топом по жанрам"
   ]
  },
  {
   "cell_type": "markdown",
   "metadata": {},
   "source": [
    "<div class=\"alert alert-block alert-success\">\n",
    " \n",
    "### Комментарий ревьюера\n",
    "    \n",
    "#### Успех\n",
    "    \n",
    "Первичное представление о регионах получено"
   ]
  },
  {
   "cell_type": "code",
   "execution_count": 87,
   "metadata": {},
   "outputs": [
    {
     "data": {
      "image/png": "[encoded data removed]",
      "text/plain": [
       "<Figure size 1080x360 with 3 Axes>"
      ]
     },
     "metadata": {
      "needs_background": "light"
     },
     "output_type": "display_data"
    }
   ],
   "source": [
    "define_top('genre')"
   ]
  },
  {
   "cell_type": "markdown",
   "metadata": {},
   "source": [
    "<div class=\"alert alert-block alert-success\">\n",
    " \n",
    "### Комментарий ревьюера\n",
    "    \n",
    "#### Успех\n",
    "    \n",
    "Тут мы отчетливо видим, что Япония получилась наиболее уникальной среди регионов. "
   ]
  },
  {
   "cell_type": "markdown",
   "metadata": {},
   "source": [
    "Японцы снова выделяются - в Северной Америке и Европе Экшн вышел на первое место, в Японии же на первом месте разместились ролевые игры."
   ]
  },
  {
   "cell_type": "code",
   "execution_count": 88,
   "metadata": {},
   "outputs": [
    {
     "data": {
      "text/html": [
       "<div>\n",
       "<style scoped>\n",
       "    .dataframe tbody tr th:only-of-type {\n",
       "        vertical-align: middle;\n",
       "    }\n",
       "\n",
       "    .dataframe tbody tr th {\n",
       "        vertical-align: top;\n",
       "    }\n",
       "\n",
       "    .dataframe thead th {\n",
       "        text-align: right;\n",
       "    }\n",
       "</style>\n",
       "<table border=\"1\" class=\"dataframe\">\n",
       "  <thead>\n",
       "    <tr style=\"text-align: right;\">\n",
       "      <th></th>\n",
       "      <th>name</th>\n",
       "      <th>platform</th>\n",
       "      <th>year_of_release</th>\n",
       "      <th>genre</th>\n",
       "      <th>na_sales</th>\n",
       "      <th>eu_sales</th>\n",
       "      <th>jp_sales</th>\n",
       "      <th>other_sales</th>\n",
       "      <th>critic_score</th>\n",
       "      <th>user_score</th>\n",
       "      <th>rating</th>\n",
       "      <th>total_sales</th>\n",
       "    </tr>\n",
       "  </thead>\n",
       "  <tbody>\n",
       "    <tr>\n",
       "      <th>33</th>\n",
       "      <td>Pokemon X/Pokemon Y</td>\n",
       "      <td>3DS</td>\n",
       "      <td>2013</td>\n",
       "      <td>Role-Playing</td>\n",
       "      <td>5.28</td>\n",
       "      <td>4.19</td>\n",
       "      <td>4.35</td>\n",
       "      <td>0.78</td>\n",
       "      <td>-1.0</td>\n",
       "      <td>-1.0</td>\n",
       "      <td>TBD</td>\n",
       "      <td>14.60</td>\n",
       "    </tr>\n",
       "    <tr>\n",
       "      <th>385</th>\n",
       "      <td>Monster Hunter 4</td>\n",
       "      <td>3DS</td>\n",
       "      <td>2013</td>\n",
       "      <td>Role-Playing</td>\n",
       "      <td>0.00</td>\n",
       "      <td>0.00</td>\n",
       "      <td>3.44</td>\n",
       "      <td>0.00</td>\n",
       "      <td>-1.0</td>\n",
       "      <td>-1.0</td>\n",
       "      <td>TBD</td>\n",
       "      <td>3.44</td>\n",
       "    </tr>\n",
       "    <tr>\n",
       "      <th>412</th>\n",
       "      <td>Yokai Watch 2 Ganso/Honke</td>\n",
       "      <td>3DS</td>\n",
       "      <td>2014</td>\n",
       "      <td>Role-Playing</td>\n",
       "      <td>0.09</td>\n",
       "      <td>0.00</td>\n",
       "      <td>3.18</td>\n",
       "      <td>0.01</td>\n",
       "      <td>-1.0</td>\n",
       "      <td>-1.0</td>\n",
       "      <td>TBD</td>\n",
       "      <td>3.28</td>\n",
       "    </tr>\n",
       "    <tr>\n",
       "      <th>47</th>\n",
       "      <td>Pokemon Omega Ruby/Pokemon Alpha Sapphire</td>\n",
       "      <td>3DS</td>\n",
       "      <td>2014</td>\n",
       "      <td>Role-Playing</td>\n",
       "      <td>4.35</td>\n",
       "      <td>3.49</td>\n",
       "      <td>3.10</td>\n",
       "      <td>0.74</td>\n",
       "      <td>-1.0</td>\n",
       "      <td>-1.0</td>\n",
       "      <td>TBD</td>\n",
       "      <td>11.68</td>\n",
       "    </tr>\n",
       "    <tr>\n",
       "      <th>561</th>\n",
       "      <td>Yokai Watch 2 Shinuchi</td>\n",
       "      <td>3DS</td>\n",
       "      <td>2014</td>\n",
       "      <td>Role-Playing</td>\n",
       "      <td>0.00</td>\n",
       "      <td>0.00</td>\n",
       "      <td>2.68</td>\n",
       "      <td>0.00</td>\n",
       "      <td>-1.0</td>\n",
       "      <td>-1.0</td>\n",
       "      <td>TBD</td>\n",
       "      <td>2.68</td>\n",
       "    </tr>\n",
       "    <tr>\n",
       "      <th>312</th>\n",
       "      <td>Monster Hunter 4 Ultimate</td>\n",
       "      <td>3DS</td>\n",
       "      <td>2014</td>\n",
       "      <td>Role-Playing</td>\n",
       "      <td>0.68</td>\n",
       "      <td>0.48</td>\n",
       "      <td>2.62</td>\n",
       "      <td>0.11</td>\n",
       "      <td>86.0</td>\n",
       "      <td>8.7</td>\n",
       "      <td>T</td>\n",
       "      <td>3.89</td>\n",
       "    </tr>\n",
       "    <tr>\n",
       "      <th>108</th>\n",
       "      <td>Pokemon Sun/Moon</td>\n",
       "      <td>3DS</td>\n",
       "      <td>2016</td>\n",
       "      <td>Role-Playing</td>\n",
       "      <td>2.98</td>\n",
       "      <td>1.45</td>\n",
       "      <td>2.26</td>\n",
       "      <td>0.45</td>\n",
       "      <td>-1.0</td>\n",
       "      <td>-1.0</td>\n",
       "      <td>TBD</td>\n",
       "      <td>7.14</td>\n",
       "    </tr>\n",
       "    <tr>\n",
       "      <th>1233</th>\n",
       "      <td>Puzzle &amp; Dragons</td>\n",
       "      <td>3DS</td>\n",
       "      <td>2013</td>\n",
       "      <td>Role-Playing</td>\n",
       "      <td>0.00</td>\n",
       "      <td>0.00</td>\n",
       "      <td>1.51</td>\n",
       "      <td>0.00</td>\n",
       "      <td>-1.0</td>\n",
       "      <td>-1.0</td>\n",
       "      <td>TBD</td>\n",
       "      <td>1.51</td>\n",
       "    </tr>\n",
       "    <tr>\n",
       "      <th>790</th>\n",
       "      <td>Yokai Watch</td>\n",
       "      <td>3DS</td>\n",
       "      <td>2013</td>\n",
       "      <td>Role-Playing</td>\n",
       "      <td>0.25</td>\n",
       "      <td>0.45</td>\n",
       "      <td>1.33</td>\n",
       "      <td>0.05</td>\n",
       "      <td>-1.0</td>\n",
       "      <td>-1.0</td>\n",
       "      <td>TBD</td>\n",
       "      <td>2.08</td>\n",
       "    </tr>\n",
       "    <tr>\n",
       "      <th>1290</th>\n",
       "      <td>Dragon Quest VII: Warriors of Eden</td>\n",
       "      <td>3DS</td>\n",
       "      <td>2013</td>\n",
       "      <td>Role-Playing</td>\n",
       "      <td>0.06</td>\n",
       "      <td>0.09</td>\n",
       "      <td>1.30</td>\n",
       "      <td>0.01</td>\n",
       "      <td>-1.0</td>\n",
       "      <td>-1.0</td>\n",
       "      <td>TBD</td>\n",
       "      <td>1.46</td>\n",
       "    </tr>\n",
       "  </tbody>\n",
       "</table>\n",
       "</div>"
      ],
      "text/plain": [
       "                                           name platform  year_of_release  \\\n",
       "33                          Pokemon X/Pokemon Y      3DS             2013   \n",
       "385                            Monster Hunter 4      3DS             2013   \n",
       "412                   Yokai Watch 2 Ganso/Honke      3DS             2014   \n",
       "47    Pokemon Omega Ruby/Pokemon Alpha Sapphire      3DS             2014   \n",
       "561                      Yokai Watch 2 Shinuchi      3DS             2014   \n",
       "312                   Monster Hunter 4 Ultimate      3DS             2014   \n",
       "108                            Pokemon Sun/Moon      3DS             2016   \n",
       "1233                           Puzzle & Dragons      3DS             2013   \n",
       "790                                 Yokai Watch      3DS             2013   \n",
       "1290         Dragon Quest VII: Warriors of Eden      3DS             2013   \n",
       "\n",
       "             genre  na_sales  eu_sales  jp_sales  other_sales  critic_score  \\\n",
       "33    Role-Playing      5.28      4.19      4.35         0.78          -1.0   \n",
       "385   Role-Playing      0.00      0.00      3.44         0.00          -1.0   \n",
       "412   Role-Playing      0.09      0.00      3.18         0.01          -1.0   \n",
       "47    Role-Playing      4.35      3.49      3.10         0.74          -1.0   \n",
       "561   Role-Playing      0.00      0.00      2.68         0.00          -1.0   \n",
       "312   Role-Playing      0.68      0.48      2.62         0.11          86.0   \n",
       "108   Role-Playing      2.98      1.45      2.26         0.45          -1.0   \n",
       "1233  Role-Playing      0.00      0.00      1.51         0.00          -1.0   \n",
       "790   Role-Playing      0.25      0.45      1.33         0.05          -1.0   \n",
       "1290  Role-Playing      0.06      0.09      1.30         0.01          -1.0   \n",
       "\n",
       "      user_score rating  total_sales  \n",
       "33          -1.0    TBD        14.60  \n",
       "385         -1.0    TBD         3.44  \n",
       "412         -1.0    TBD         3.28  \n",
       "47          -1.0    TBD        11.68  \n",
       "561         -1.0    TBD         2.68  \n",
       "312          8.7      T         3.89  \n",
       "108         -1.0    TBD         7.14  \n",
       "1233        -1.0    TBD         1.51  \n",
       "790         -1.0    TBD         2.08  \n",
       "1290        -1.0    TBD         1.46  "
      ]
     },
     "metadata": {},
     "output_type": "display_data"
    },
    {
     "data": {
      "text/html": [
       "<div>\n",
       "<style scoped>\n",
       "    .dataframe tbody tr th:only-of-type {\n",
       "        vertical-align: middle;\n",
       "    }\n",
       "\n",
       "    .dataframe tbody tr th {\n",
       "        vertical-align: top;\n",
       "    }\n",
       "\n",
       "    .dataframe thead th {\n",
       "        text-align: right;\n",
       "    }\n",
       "</style>\n",
       "<table border=\"1\" class=\"dataframe\">\n",
       "  <thead>\n",
       "    <tr style=\"text-align: right;\">\n",
       "      <th></th>\n",
       "      <th>name</th>\n",
       "      <th>platform</th>\n",
       "      <th>year_of_release</th>\n",
       "      <th>genre</th>\n",
       "      <th>na_sales</th>\n",
       "      <th>eu_sales</th>\n",
       "      <th>jp_sales</th>\n",
       "      <th>other_sales</th>\n",
       "      <th>critic_score</th>\n",
       "      <th>user_score</th>\n",
       "      <th>rating</th>\n",
       "      <th>total_sales</th>\n",
       "    </tr>\n",
       "  </thead>\n",
       "  <tbody>\n",
       "    <tr>\n",
       "      <th>33</th>\n",
       "      <td>Pokemon X/Pokemon Y</td>\n",
       "      <td>3DS</td>\n",
       "      <td>2013</td>\n",
       "      <td>Role-Playing</td>\n",
       "      <td>5.28</td>\n",
       "      <td>4.19</td>\n",
       "      <td>4.35</td>\n",
       "      <td>0.78</td>\n",
       "      <td>-1.0</td>\n",
       "      <td>-1.0</td>\n",
       "      <td>TBD</td>\n",
       "      <td>14.60</td>\n",
       "    </tr>\n",
       "    <tr>\n",
       "      <th>385</th>\n",
       "      <td>Monster Hunter 4</td>\n",
       "      <td>3DS</td>\n",
       "      <td>2013</td>\n",
       "      <td>Role-Playing</td>\n",
       "      <td>0.00</td>\n",
       "      <td>0.00</td>\n",
       "      <td>3.44</td>\n",
       "      <td>0.00</td>\n",
       "      <td>-1.0</td>\n",
       "      <td>-1.0</td>\n",
       "      <td>TBD</td>\n",
       "      <td>3.44</td>\n",
       "    </tr>\n",
       "    <tr>\n",
       "      <th>412</th>\n",
       "      <td>Yokai Watch 2 Ganso/Honke</td>\n",
       "      <td>3DS</td>\n",
       "      <td>2014</td>\n",
       "      <td>Role-Playing</td>\n",
       "      <td>0.09</td>\n",
       "      <td>0.00</td>\n",
       "      <td>3.18</td>\n",
       "      <td>0.01</td>\n",
       "      <td>-1.0</td>\n",
       "      <td>-1.0</td>\n",
       "      <td>TBD</td>\n",
       "      <td>3.28</td>\n",
       "    </tr>\n",
       "    <tr>\n",
       "      <th>47</th>\n",
       "      <td>Pokemon Omega Ruby/Pokemon Alpha Sapphire</td>\n",
       "      <td>3DS</td>\n",
       "      <td>2014</td>\n",
       "      <td>Role-Playing</td>\n",
       "      <td>4.35</td>\n",
       "      <td>3.49</td>\n",
       "      <td>3.10</td>\n",
       "      <td>0.74</td>\n",
       "      <td>-1.0</td>\n",
       "      <td>-1.0</td>\n",
       "      <td>TBD</td>\n",
       "      <td>11.68</td>\n",
       "    </tr>\n",
       "    <tr>\n",
       "      <th>406</th>\n",
       "      <td>Monster Hunter X</td>\n",
       "      <td>3DS</td>\n",
       "      <td>2015</td>\n",
       "      <td>Action</td>\n",
       "      <td>0.27</td>\n",
       "      <td>0.21</td>\n",
       "      <td>2.79</td>\n",
       "      <td>0.05</td>\n",
       "      <td>-1.0</td>\n",
       "      <td>-1.0</td>\n",
       "      <td>TBD</td>\n",
       "      <td>3.32</td>\n",
       "    </tr>\n",
       "    <tr>\n",
       "      <th>561</th>\n",
       "      <td>Yokai Watch 2 Shinuchi</td>\n",
       "      <td>3DS</td>\n",
       "      <td>2014</td>\n",
       "      <td>Role-Playing</td>\n",
       "      <td>0.00</td>\n",
       "      <td>0.00</td>\n",
       "      <td>2.68</td>\n",
       "      <td>0.00</td>\n",
       "      <td>-1.0</td>\n",
       "      <td>-1.0</td>\n",
       "      <td>TBD</td>\n",
       "      <td>2.68</td>\n",
       "    </tr>\n",
       "    <tr>\n",
       "      <th>312</th>\n",
       "      <td>Monster Hunter 4 Ultimate</td>\n",
       "      <td>3DS</td>\n",
       "      <td>2014</td>\n",
       "      <td>Role-Playing</td>\n",
       "      <td>0.68</td>\n",
       "      <td>0.48</td>\n",
       "      <td>2.62</td>\n",
       "      <td>0.11</td>\n",
       "      <td>86.0</td>\n",
       "      <td>8.7</td>\n",
       "      <td>T</td>\n",
       "      <td>3.89</td>\n",
       "    </tr>\n",
       "    <tr>\n",
       "      <th>96</th>\n",
       "      <td>Super Smash Bros. for Wii U and 3DS</td>\n",
       "      <td>3DS</td>\n",
       "      <td>2014</td>\n",
       "      <td>Fighting</td>\n",
       "      <td>3.27</td>\n",
       "      <td>1.37</td>\n",
       "      <td>2.43</td>\n",
       "      <td>0.48</td>\n",
       "      <td>-1.0</td>\n",
       "      <td>-1.0</td>\n",
       "      <td>TBD</td>\n",
       "      <td>7.55</td>\n",
       "    </tr>\n",
       "    <tr>\n",
       "      <th>687</th>\n",
       "      <td>Yokai Watch Busters</td>\n",
       "      <td>3DS</td>\n",
       "      <td>2015</td>\n",
       "      <td>Action</td>\n",
       "      <td>0.00</td>\n",
       "      <td>0.00</td>\n",
       "      <td>2.29</td>\n",
       "      <td>0.00</td>\n",
       "      <td>-1.0</td>\n",
       "      <td>-1.0</td>\n",
       "      <td>TBD</td>\n",
       "      <td>2.29</td>\n",
       "    </tr>\n",
       "    <tr>\n",
       "      <th>108</th>\n",
       "      <td>Pokemon Sun/Moon</td>\n",
       "      <td>3DS</td>\n",
       "      <td>2016</td>\n",
       "      <td>Role-Playing</td>\n",
       "      <td>2.98</td>\n",
       "      <td>1.45</td>\n",
       "      <td>2.26</td>\n",
       "      <td>0.45</td>\n",
       "      <td>-1.0</td>\n",
       "      <td>-1.0</td>\n",
       "      <td>TBD</td>\n",
       "      <td>7.14</td>\n",
       "    </tr>\n",
       "  </tbody>\n",
       "</table>\n",
       "</div>"
      ],
      "text/plain": [
       "                                          name platform  year_of_release  \\\n",
       "33                         Pokemon X/Pokemon Y      3DS             2013   \n",
       "385                           Monster Hunter 4      3DS             2013   \n",
       "412                  Yokai Watch 2 Ganso/Honke      3DS             2014   \n",
       "47   Pokemon Omega Ruby/Pokemon Alpha Sapphire      3DS             2014   \n",
       "406                           Monster Hunter X      3DS             2015   \n",
       "561                     Yokai Watch 2 Shinuchi      3DS             2014   \n",
       "312                  Monster Hunter 4 Ultimate      3DS             2014   \n",
       "96         Super Smash Bros. for Wii U and 3DS      3DS             2014   \n",
       "687                        Yokai Watch Busters      3DS             2015   \n",
       "108                           Pokemon Sun/Moon      3DS             2016   \n",
       "\n",
       "            genre  na_sales  eu_sales  jp_sales  other_sales  critic_score  \\\n",
       "33   Role-Playing      5.28      4.19      4.35         0.78          -1.0   \n",
       "385  Role-Playing      0.00      0.00      3.44         0.00          -1.0   \n",
       "412  Role-Playing      0.09      0.00      3.18         0.01          -1.0   \n",
       "47   Role-Playing      4.35      3.49      3.10         0.74          -1.0   \n",
       "406        Action      0.27      0.21      2.79         0.05          -1.0   \n",
       "561  Role-Playing      0.00      0.00      2.68         0.00          -1.0   \n",
       "312  Role-Playing      0.68      0.48      2.62         0.11          86.0   \n",
       "96       Fighting      3.27      1.37      2.43         0.48          -1.0   \n",
       "687        Action      0.00      0.00      2.29         0.00          -1.0   \n",
       "108  Role-Playing      2.98      1.45      2.26         0.45          -1.0   \n",
       "\n",
       "     user_score rating  total_sales  \n",
       "33         -1.0    TBD        14.60  \n",
       "385        -1.0    TBD         3.44  \n",
       "412        -1.0    TBD         3.28  \n",
       "47         -1.0    TBD        11.68  \n",
       "406        -1.0    TBD         3.32  \n",
       "561        -1.0    TBD         2.68  \n",
       "312         8.7      T         3.89  \n",
       "96         -1.0    TBD         7.55  \n",
       "687        -1.0    TBD         2.29  \n",
       "108        -1.0    TBD         7.14  "
      ]
     },
     "metadata": {},
     "output_type": "display_data"
    }
   ],
   "source": [
    "# посмотрим, что же это за игры, пользующиеся такой бещеной популярностью в Японии\n",
    "display(actual_data.query('genre == \"Role-Playing\"').sort_values(by = 'jp_sales', ascending = False).head(10))\n",
    "\n",
    "# посмотрим топ по Японии в целом \n",
    "display(actual_data.sort_values(by = 'jp_sales', ascending = False).head(10))"
   ]
  },
  {
   "cell_type": "markdown",
   "metadata": {},
   "source": [
    "Итого, в Северной Америке и Европе наибольшей популярностью пользуются игры в жанре Экшн, а также довольно популярны шутеры и спорт. Японцы же в наибольшей степени увлекаются играми в жанре ROle-Playing, в частности, бешеной популярностью пользуются покемоны. Скорее всего, такие различия вызваны в том числе привычным ритмом жизни и культурными различиями - в Японии действительно многие играют \"на ходу\". \n",
    "\n",
    "Изучим влияние рейтинга на продажи"
   ]
  },
  {
   "cell_type": "code",
   "execution_count": 89,
   "metadata": {},
   "outputs": [
    {
     "data": {
      "image/png": "[encoded data removed]",
      "text/plain": [
       "<Figure size 1080x360 with 3 Axes>"
      ]
     },
     "metadata": {
      "needs_background": "light"
     },
     "output_type": "display_data"
    }
   ],
   "source": [
    "define_top('rating')"
   ]
  },
  {
   "cell_type": "markdown",
   "metadata": {},
   "source": [
    "В Северной Америке и Европе наибольшей популярностью пользуются игры для взрослых. В Японии абсолютное большинство играет в игры без рейтинга (в частности, мы посмотрели топ игр по продажам в Японии - почти у всех наиболее популярных игр рейтинга нет). \n",
    "\n",
    "**Общий вывод по шагу**: \n",
    "- В Северной Америке пользователи играют преимущественно на PS4 или - с меньшей вероятностью - XOne,  самые любимые игры - Экшн, Шутер и спорт, и как правило, это игры для взрослых \n",
    "- в Евроме пользователи играют на PS4 или - реже - на PS3, XOne пока не так популярен. Играют в Экшн игры, а также в шутеры и спортивные игры. Как правило, это игры для взрослых \n",
    "- Японцы чаще выбирают портативную 3DS и играют в игры в жанре Role-Play без рейтинга. Остальные платформы и жанры у них тоже присутствуют, но пользуются меньшей популярностью."
   ]
  },
  {
   "cell_type": "markdown",
   "metadata": {},
   "source": [
    "<div class=\"alert alert-block alert-success\">\n",
    " \n",
    "### Комментарий ревьюера\n",
    "    \n",
    "#### Успех\n",
    "    \n",
    "Рассмотрев каждый из регионов мы пришли к выводу, что они имеют свою специфику. "
   ]
  },
  {
   "cell_type": "markdown",
   "metadata": {},
   "source": [
    "### Шаг 5. Проверка гипотез \n",
    "В рамках данного шага проверим гипотезы по продажам:\n",
    "- Средние пользовательские рейтинги платформ Xbox One и PC одинаковые;\n",
    "- Средние пользовательские рейтинги жанров Action (англ. «действие», экшен-игры) и Sports (англ. «спортивные соревнования») разные.\n",
    "\n",
    "Начнём с первой гипотезы"
   ]
  },
  {
   "cell_type": "markdown",
   "metadata": {},
   "source": [
    "Проверяем следующую гипотезу: \n",
    "\"Средние пользовательские рейтинги платформ Xbox One и PC одинаковые\". \n",
    "\n",
    "Сформулируем нулевую и альтернативную гипотезы. В качестве нулевой гипотезы правильнее будет взять равенство, альтернативной - неравенство. Получаем:   \n",
    "H0: Средний пользовательский рейтинг по Xbox One **равен** среднему пользовательскому рейтингу по PC   \n",
    "H1: Средний пользовательский рейтинг по Xbox One **не равен** среднему пользовательскому рейтингу по PC \n",
    "\n"
   ]
  },
  {
   "cell_type": "code",
   "execution_count": 90,
   "metadata": {},
   "outputs": [
    {
     "name": "stdout",
     "output_type": "stream",
     "text": [
      "Медианный рейтинг пользователей для XBoxOne 4.542105263157895\n",
      "Медианный рейтинг пользователей для PC 4.980526315789473\n"
     ]
    }
   ],
   "source": [
    "# для начала посчитаем эти средние пользовательские рейтинги для платформ Xone и PC \n",
    "xone_rating = actual_data.query('platform == \"XOne\"')['user_score']\n",
    "pc_rating = actual_data.query('platform == \"PC\"')['user_score']\n",
    "\n",
    "#Выведем средний рейтинг\n",
    "print('Медианный рейтинг пользователей для XBoxOne', xone_rating.mean())\n",
    "print('Медианный рейтинг пользователей для PC', pc_rating.mean())"
   ]
  },
  {
   "cell_type": "code",
   "execution_count": 91,
   "metadata": {},
   "outputs": [
    {
     "name": "stdout",
     "output_type": "stream",
     "text": [
      "p-значение: 0.17611040432542738\n",
      "Не получилось отвергнуть нулевую гипотезу\n"
     ]
    }
   ],
   "source": [
    "alpha = 0.05\n",
    "\n",
    "results = st.ttest_ind(xone_rating.dropna(), pc_rating.dropna(), equal_var=False)\n",
    "\n",
    "print('p-значение:', results.pvalue)\n",
    "\n",
    "\n",
    "if (results.pvalue < alpha):\n",
    "    print(\"Отвергаем нулевую гипотезу\")\n",
    "else:\n",
    "    print(\"Не получилось отвергнуть нулевую гипотезу\")"
   ]
  },
  {
   "cell_type": "markdown",
   "metadata": {},
   "source": [
    "При уровне статистической значимости 0.05 нулевую гипотезу опровергнуть не получилось. Средние рейтинги действительно довольно-таки близки. \n",
    "\n",
    "Таким образом, не можем опровергнуть гипотезу о равенстве среднего рейтинга пользователей для платформ XOne и PC. "
   ]
  },
  {
   "cell_type": "markdown",
   "metadata": {},
   "source": [
    "<div class=\"alert alert-block alert-success\">\n",
    " \n",
    "### Комментарий ревьюера\n",
    "    \n",
    "#### Успех\n",
    "    \n",
    "Гипотезы сформулированы и верно определен метод проверки. С выводами согласен. "
   ]
  },
  {
   "cell_type": "markdown",
   "metadata": {},
   "source": [
    "Проверяем следующую гипотезу:   \n",
    "Средние пользовательские рейтинги жанров Action (англ. «действие», экшен-игры) и Sports (англ. «спортивные соревнования») разные.\n",
    "\n",
    "Сформулируем нулевую и альтернативную гипотезы. В качестве нулевой гипотезы берём равенство, и таким образом получаем: \n",
    "\n",
    "H0: Средний пользовательский рейтинг по жанру Action **равен** среднему пользовательскому рейтингу по жанру Sports.   \n",
    "H1: Средний пользовательский рейтинг по жанру Action **не равен** среднему пользовательскому рейтингу по жанру Sports. \n",
    "\n",
    "\n",
    "Персональный опыт и данные по топам игр из нашей выборки, которые мы просматривали раньше, подсказывают, что стоит ожидать неравенства средних. Проверим это математически. \n",
    "Выделим средний рейтинг по жанрам в нашей выборке и проверим гипотезы через p-value. "
   ]
  },
  {
   "cell_type": "code",
   "execution_count": 92,
   "metadata": {},
   "outputs": [
    {
     "name": "stdout",
     "output_type": "stream",
     "text": [
      "Медианный рейтинг пользователей для Action 2.98735332464146\n",
      "Медианный рейтинг пользователей для Sports 3.6640186915887845\n"
     ]
    }
   ],
   "source": [
    "action_rating = actual_data.query('genre == \"Action\"')['user_score']\n",
    "sports_rating = actual_data.query('genre == \"Sports\"')['user_score']\n",
    "\n",
    "print('Медианный рейтинг пользователей для Action', action_rating.mean())\n",
    "print('Медианный рейтинг пользователей для Sports', sports_rating.mean())"
   ]
  },
  {
   "cell_type": "code",
   "execution_count": 93,
   "metadata": {},
   "outputs": [
    {
     "name": "stdout",
     "output_type": "stream",
     "text": [
      "p-значение: 0.009152847746143628\n",
      "Отвергаем нулевую гипотезу\n"
     ]
    }
   ],
   "source": [
    "#проверяем гипотезы\n",
    "alpha = 0.01\n",
    "\n",
    "# выкинем ешё пустые значения, чтобы они не портили картину, с dropna\n",
    "results = st.ttest_ind(action_rating.dropna(), sports_rating.dropna(), equal_var=False)\n",
    "\n",
    "print('p-значение:', results.pvalue)\n",
    "\n",
    "\n",
    "if (results.pvalue < alpha):\n",
    "    print(\"Отвергаем нулевую гипотезу\")\n",
    "else:\n",
    "    print(\"Не получилось отвергнуть нулевую гипотезу\")"
   ]
  },
  {
   "cell_type": "markdown",
   "metadata": {},
   "source": [
    "При таком маленьком p-value нулевую гипотезу отвергаем. \n",
    "Итого, получаем следующий вывод: Гипотезу о равенстве рейтингов для жанров Экшн и Спорт можно опровергнуть. Пользовательские рейтинги для данных жанров не равны. \n",
    "\n",
    "**Общий вывод по разделу**: Проверили гипотезы, пришли к следующим выводам: \n",
    "- гипотещу о равенстве средних пользовательских рейтингов для платформ XOne и ПК опровергнуть нельзя; рейтинги очень блики \n",
    "- гипотезу о равенстве средних пользовательских рейтингов для жанров Экшн и Спорт опровергли - средние рейтинги не равны (и далеки от равенства). "
   ]
  },
  {
   "cell_type": "markdown",
   "metadata": {},
   "source": [
    "<div class=\"alert alert-block alert-success\">\n",
    " \n",
    "### Комментарий ревьюера\n",
    "    \n",
    "#### Успех\n",
    "    \n",
    "Аналогично вышло"
   ]
  },
  {
   "cell_type": "markdown",
   "metadata": {},
   "source": [
    "### Общий вывод \n",
    "В рамках данного проекта собрали и проанализировали данные магазина видеоигр для выбора перспективной платформы и успешных жанров видеоигр. Проверили гипотезы по пользовательским оценкам игр на разных платформах и в разных жанрах. \n",
    "- Обработали датасе, переименовав столбцы и приведя их к более удобному формату\n",
    "- избавились от пропусков \n",
    "- посчитали суммарные продажи по играм для всех регионов \n",
    "- изучили продажи игр за разные годы\n",
    "- изучили срок жизни платформ и увидели, как новые поколения консолей приходят на смену старым. \n",
    "- нашли интересную игру 1985 года, выпущенную для консоли, которой тогда ещё не существовало, избавились от этих данных как мешающих анализу, но в целом было бы интересно узнать, как эта запись попала в наш датасет;\n",
    "- определили актуальный период, данные за который будут наиболее значимы для анализа и построения прогнозов на 2017 год \n",
    "- увидели однозначный рост популярности платформ PS4 и XOne. Выделили эти платформы как потенциально прибыльные \n",
    "- увидели, что рейтинг критиков гораздо больше связан с продажами: есть умеренная корреляция между этими величинами, тогда как от пользовательского рейтинга практически ничего не зависит. Люди ставят \"двойки\" FIFA и продолжают в неё играть, и это в целом нормально \n",
    "- увидели интересную динамику по жанрам: игр в жанре Экшн продано больше всего, однако, этот успех вызван продажами бестселлеров, тогда как наибольшую стабильность показывают игры в жанре Шутер и Спорт. Эти жанры показывают стабильно хорошие результаты, и медианные значения продаж у них в топе. \n",
    "- составили портрет типичного пользователя для каждого региона, заметили, что в Японии предпочтения игроков сильно отличаются от Северной Америки и Европы \n",
    "- Проверили гипотезы и выявили, что отвергнуть гипотезу о равенстве средних пользовательских рейтингов по платформам XOne и PC нельзя, а гипотезу о равенстве средних пользовательских рейтингов по жанром Экшн и Спорт отвергли. \n",
    "\n",
    "В 2017 году будем ожидать высоких продаж по платформе PS4 и жанрам Шутер, Спорт и Экшн. Магазин Стримчик точно будет держаться на плаву. "
   ]
  },
  {
   "cell_type": "markdown",
   "metadata": {},
   "source": [
    "<div class=\"alert alert-block alert-success\">\n",
    " \n",
    "### Комментарий ревьюера\n",
    "    \n",
    "#### Успех\n",
    "    \n",
    "Итоговый вывод стал отличным дополнением к проекту. С такими данными мы точно сможем составить прогноз продаж на 2017 год. Я уверен, нам хватит для этого данных. "
   ]
  },
  {
   "cell_type": "markdown",
   "metadata": {},
   "source": [
    "<div class=\"alert alert-block alert-info\">\n",
    " \n",
    "### Итоговый Комментарий ревьюера\n",
    "    \n",
    "#### Успех\n",
    "    \n",
    "Благодарю тебя за выполнение работы. Мне понравился твой проект за структурность и последовательность. Во многих местах ты подбираешь оптимальный код и автоматизируешь свою работу, а это очень пригодится в будущем. Выделить бы хотел Предобработку данных. На мой взгляд она получилась особенно удачно. Очень насыщенный итоговый вывод вышел. Старайся такие выводы делать и в будущем. \n",
    "    \n",
    "    \n",
    "Однако, в проекте есть одно важное замечание, которое надо исправить:\n",
    "\n",
    "* Ящик с усами доработать. \n",
    "       \n",
    "Еще я оставил рекомендации. Очень надеюсь, что ты учтешь их в этом и последующих проектах.\n",
    "       \n",
    "Жду проект после доработки. Уверен, ты справишься.\n",
    "</div>"
   ]
  },
  {
   "cell_type": "markdown",
   "metadata": {},
   "source": [
    "<div class=\"alert alert-block alert-info\">\n",
    "\n",
    "**Комментарий студента**\n",
    "\n",
    "\n",
    "Спасибо за проверку! Замечания учту в следующем проекте, boxplot поправила \n",
    "</div>"
   ]
  },
  {
   "cell_type": "markdown",
   "metadata": {},
   "source": [
    "<div class=\"alert alert-block alert-success\">\n",
    " \n",
    "### Итоговый Комментарий ревьюера ver.2\n",
    "    \n",
    "#### Успех\n",
    "\n",
    "Спасибо тебе большое за доработку проекта. А вот теперь я его готов принять. От себя я хочу пожелать успехов в дальнейшей учебе. Ты точно справишься и дальше, я уверен в этом. "
   ]
  },
  {
   "cell_type": "code",
   "execution_count": null,
   "metadata": {},
   "outputs": [],
   "source": []
  }
 ],
 "metadata": {
  "ExecuteTimeLog": [
   {
    "duration": 1284,
    "start_time": "2024-08-26T20:30:44.354Z"
   },
   {
    "duration": 256,
    "start_time": "2024-08-26T20:31:38.362Z"
   },
   {
    "duration": 87,
    "start_time": "2024-08-26T20:31:52.964Z"
   },
   {
    "duration": 1387,
    "start_time": "2024-08-29T16:36:48.251Z"
   },
   {
    "duration": 225,
    "start_time": "2024-08-29T16:36:49.640Z"
   },
   {
    "duration": 23,
    "start_time": "2024-08-29T16:41:04.505Z"
   },
   {
    "duration": 114,
    "start_time": "2024-08-29T16:41:11.916Z"
   },
   {
    "duration": 5,
    "start_time": "2024-08-29T16:41:27.496Z"
   },
   {
    "duration": 9,
    "start_time": "2024-08-29T16:42:20.673Z"
   },
   {
    "duration": 5,
    "start_time": "2024-08-29T16:42:37.470Z"
   },
   {
    "duration": 4,
    "start_time": "2024-08-29T16:43:06.780Z"
   },
   {
    "duration": 5,
    "start_time": "2024-08-29T16:43:09.328Z"
   },
   {
    "duration": 5,
    "start_time": "2024-08-29T16:43:16.491Z"
   },
   {
    "duration": 14,
    "start_time": "2024-08-29T16:44:38.718Z"
   },
   {
    "duration": 8,
    "start_time": "2024-08-29T16:44:52.683Z"
   },
   {
    "duration": 123,
    "start_time": "2024-08-29T16:45:11.825Z"
   },
   {
    "duration": 12,
    "start_time": "2024-08-29T16:45:28.036Z"
   },
   {
    "duration": 271,
    "start_time": "2024-08-29T16:45:54.810Z"
   },
   {
    "duration": 14,
    "start_time": "2024-08-29T16:46:03.810Z"
   },
   {
    "duration": 55,
    "start_time": "2024-08-29T16:47:15.084Z"
   },
   {
    "duration": 15,
    "start_time": "2024-08-29T16:48:05.401Z"
   },
   {
    "duration": 27,
    "start_time": "2024-08-29T16:48:13.706Z"
   },
   {
    "duration": 11,
    "start_time": "2024-08-29T16:49:40.530Z"
   },
   {
    "duration": 14,
    "start_time": "2024-08-29T16:49:49.975Z"
   },
   {
    "duration": 3,
    "start_time": "2024-08-29T16:49:53.490Z"
   },
   {
    "duration": 109,
    "start_time": "2024-08-29T16:49:53.495Z"
   },
   {
    "duration": 4,
    "start_time": "2024-08-29T16:49:53.605Z"
   },
   {
    "duration": 19,
    "start_time": "2024-08-29T16:49:53.611Z"
   },
   {
    "duration": 15,
    "start_time": "2024-08-29T16:50:09.356Z"
   },
   {
    "duration": 4,
    "start_time": "2024-08-29T19:01:29.770Z"
   },
   {
    "duration": 107,
    "start_time": "2024-08-29T19:01:29.776Z"
   },
   {
    "duration": 4,
    "start_time": "2024-08-29T19:01:29.885Z"
   },
   {
    "duration": 6,
    "start_time": "2024-08-29T19:01:29.891Z"
   },
   {
    "duration": 16,
    "start_time": "2024-08-29T19:01:29.899Z"
   },
   {
    "duration": 14,
    "start_time": "2024-08-29T19:02:13.107Z"
   },
   {
    "duration": 5,
    "start_time": "2024-08-29T19:27:25.521Z"
   },
   {
    "duration": 27,
    "start_time": "2024-08-29T19:27:40.443Z"
   },
   {
    "duration": 28,
    "start_time": "2024-08-29T19:30:50.209Z"
   },
   {
    "duration": 21,
    "start_time": "2024-08-29T19:34:23.903Z"
   },
   {
    "duration": 31,
    "start_time": "2024-08-29T19:38:02.405Z"
   },
   {
    "duration": 61,
    "start_time": "2024-08-29T19:44:16.678Z"
   },
   {
    "duration": 66,
    "start_time": "2024-08-29T19:44:20.914Z"
   },
   {
    "duration": 12,
    "start_time": "2024-08-29T19:44:26.646Z"
   },
   {
    "duration": 10,
    "start_time": "2024-08-29T19:44:34.670Z"
   },
   {
    "duration": 26,
    "start_time": "2024-08-29T19:45:06.833Z"
   },
   {
    "duration": 28,
    "start_time": "2024-08-29T19:47:28.998Z"
   },
   {
    "duration": 4,
    "start_time": "2024-08-29T19:48:11.644Z"
   },
   {
    "duration": 116,
    "start_time": "2024-08-29T19:48:11.650Z"
   },
   {
    "duration": 4,
    "start_time": "2024-08-29T19:48:11.769Z"
   },
   {
    "duration": 19,
    "start_time": "2024-08-29T19:48:11.776Z"
   },
   {
    "duration": 18,
    "start_time": "2024-08-29T19:48:11.796Z"
   },
   {
    "duration": 37,
    "start_time": "2024-08-29T19:48:11.816Z"
   },
   {
    "duration": 39,
    "start_time": "2024-08-29T19:48:11.856Z"
   },
   {
    "duration": 27,
    "start_time": "2024-08-29T19:48:11.897Z"
   },
   {
    "duration": 47,
    "start_time": "2024-08-29T19:48:11.925Z"
   },
   {
    "duration": 31,
    "start_time": "2024-08-29T19:51:24.329Z"
   },
   {
    "duration": 6,
    "start_time": "2024-08-29T19:55:32.764Z"
   },
   {
    "duration": 10,
    "start_time": "2024-08-29T19:55:41.487Z"
   },
   {
    "duration": 12,
    "start_time": "2024-08-29T19:55:47.643Z"
   },
   {
    "duration": 8,
    "start_time": "2024-08-29T19:55:50.831Z"
   },
   {
    "duration": 14,
    "start_time": "2024-08-29T19:56:20.448Z"
   },
   {
    "duration": 17,
    "start_time": "2024-08-29T19:58:06.320Z"
   },
   {
    "duration": 11,
    "start_time": "2024-08-29T20:04:45.512Z"
   },
   {
    "duration": 23,
    "start_time": "2024-08-29T20:04:50.916Z"
   },
   {
    "duration": 1276,
    "start_time": "2024-09-01T08:30:24.196Z"
   },
   {
    "duration": 208,
    "start_time": "2024-09-01T08:30:25.474Z"
   },
   {
    "duration": 4,
    "start_time": "2024-09-01T08:30:25.683Z"
   },
   {
    "duration": 6,
    "start_time": "2024-09-01T08:30:25.689Z"
   },
   {
    "duration": 16,
    "start_time": "2024-09-01T08:30:25.697Z"
   },
   {
    "duration": 28,
    "start_time": "2024-09-01T08:30:25.714Z"
   },
   {
    "duration": 36,
    "start_time": "2024-09-01T08:30:25.764Z"
   },
   {
    "duration": 25,
    "start_time": "2024-09-01T08:30:25.802Z"
   },
   {
    "duration": 2,
    "start_time": "2024-09-01T08:30:25.829Z"
   },
   {
    "duration": 62,
    "start_time": "2024-09-01T08:30:25.833Z"
   },
   {
    "duration": 14,
    "start_time": "2024-09-01T08:30:25.897Z"
   },
   {
    "duration": 15,
    "start_time": "2024-09-01T08:30:25.913Z"
   },
   {
    "duration": 22,
    "start_time": "2024-09-01T08:31:51.364Z"
   },
   {
    "duration": 355,
    "start_time": "2024-09-01T08:57:43.484Z"
   },
   {
    "duration": 29,
    "start_time": "2024-09-01T08:58:05.104Z"
   },
   {
    "duration": 34,
    "start_time": "2024-09-01T08:58:43.206Z"
   },
   {
    "duration": 14,
    "start_time": "2024-09-01T09:27:00.646Z"
   },
   {
    "duration": 38,
    "start_time": "2024-09-01T09:27:26.187Z"
   },
   {
    "duration": 29,
    "start_time": "2024-09-01T09:27:40.094Z"
   },
   {
    "duration": 28,
    "start_time": "2024-09-01T09:34:52.832Z"
   },
   {
    "duration": 46,
    "start_time": "2024-09-01T09:36:22.390Z"
   },
   {
    "duration": 69,
    "start_time": "2024-09-01T09:37:43.098Z"
   },
   {
    "duration": 12,
    "start_time": "2024-09-01T09:39:40.706Z"
   },
   {
    "duration": 20,
    "start_time": "2024-09-01T09:40:20.073Z"
   },
   {
    "duration": 24,
    "start_time": "2024-09-01T09:40:42.696Z"
   },
   {
    "duration": 12,
    "start_time": "2024-09-01T09:54:59.303Z"
   },
   {
    "duration": 9,
    "start_time": "2024-09-01T09:56:56.116Z"
   },
   {
    "duration": 9,
    "start_time": "2024-09-01T10:05:01.770Z"
   },
   {
    "duration": 45,
    "start_time": "2024-09-01T12:31:01.076Z"
   },
   {
    "duration": 1454,
    "start_time": "2024-09-01T12:31:05.314Z"
   },
   {
    "duration": 220,
    "start_time": "2024-09-01T12:31:06.771Z"
   },
   {
    "duration": 5,
    "start_time": "2024-09-01T12:31:06.993Z"
   },
   {
    "duration": 9,
    "start_time": "2024-09-01T12:31:07.000Z"
   },
   {
    "duration": 18,
    "start_time": "2024-09-01T12:31:07.011Z"
   },
   {
    "duration": 49,
    "start_time": "2024-09-01T12:31:07.031Z"
   },
   {
    "duration": 28,
    "start_time": "2024-09-01T12:31:07.082Z"
   },
   {
    "duration": 50,
    "start_time": "2024-09-01T12:31:07.112Z"
   },
   {
    "duration": 3,
    "start_time": "2024-09-01T12:31:07.164Z"
   },
   {
    "duration": 48,
    "start_time": "2024-09-01T12:31:07.169Z"
   },
   {
    "duration": 19,
    "start_time": "2024-09-01T12:31:07.219Z"
   },
   {
    "duration": 41,
    "start_time": "2024-09-01T12:31:07.240Z"
   },
   {
    "duration": 31,
    "start_time": "2024-09-01T12:31:07.283Z"
   },
   {
    "duration": 89,
    "start_time": "2024-09-01T12:31:07.317Z"
   },
   {
    "duration": 53,
    "start_time": "2024-09-01T12:31:07.409Z"
   },
   {
    "duration": 8,
    "start_time": "2024-09-01T12:31:07.464Z"
   },
   {
    "duration": 11,
    "start_time": "2024-09-01T12:31:24.388Z"
   },
   {
    "duration": 79,
    "start_time": "2024-09-01T12:32:06.767Z"
   },
   {
    "duration": 16,
    "start_time": "2024-09-01T12:32:14.527Z"
   },
   {
    "duration": 25,
    "start_time": "2024-09-01T12:34:49.715Z"
   },
   {
    "duration": 30,
    "start_time": "2024-09-01T12:34:50.750Z"
   },
   {
    "duration": 14,
    "start_time": "2024-09-01T13:06:58.226Z"
   },
   {
    "duration": 3,
    "start_time": "2024-09-01T13:07:13.636Z"
   },
   {
    "duration": 82,
    "start_time": "2024-09-01T13:07:13.641Z"
   },
   {
    "duration": 4,
    "start_time": "2024-09-01T13:07:13.725Z"
   },
   {
    "duration": 12,
    "start_time": "2024-09-01T13:07:13.730Z"
   },
   {
    "duration": 16,
    "start_time": "2024-09-01T13:07:13.744Z"
   },
   {
    "duration": 31,
    "start_time": "2024-09-01T13:07:13.771Z"
   },
   {
    "duration": 25,
    "start_time": "2024-09-01T13:07:13.804Z"
   },
   {
    "duration": 52,
    "start_time": "2024-09-01T13:07:13.831Z"
   },
   {
    "duration": 2,
    "start_time": "2024-09-01T13:07:13.885Z"
   },
   {
    "duration": 56,
    "start_time": "2024-09-01T13:07:13.889Z"
   },
   {
    "duration": 22,
    "start_time": "2024-09-01T13:07:13.947Z"
   },
   {
    "duration": 22,
    "start_time": "2024-09-01T13:07:13.974Z"
   },
   {
    "duration": 25,
    "start_time": "2024-09-01T13:07:13.997Z"
   },
   {
    "duration": 83,
    "start_time": "2024-09-01T13:07:14.024Z"
   },
   {
    "duration": 31,
    "start_time": "2024-09-01T13:07:14.109Z"
   },
   {
    "duration": 27,
    "start_time": "2024-09-01T13:07:14.142Z"
   },
   {
    "duration": 11,
    "start_time": "2024-09-01T13:07:14.171Z"
   },
   {
    "duration": 13,
    "start_time": "2024-09-01T13:07:14.183Z"
   },
   {
    "duration": 26,
    "start_time": "2024-09-01T13:07:14.198Z"
   },
   {
    "duration": 16,
    "start_time": "2024-09-01T13:07:14.225Z"
   },
   {
    "duration": 15,
    "start_time": "2024-09-01T13:07:58.916Z"
   },
   {
    "duration": 19,
    "start_time": "2024-09-01T13:08:03.246Z"
   },
   {
    "duration": 8,
    "start_time": "2024-09-01T13:28:03.325Z"
   },
   {
    "duration": 18,
    "start_time": "2024-09-01T13:50:44.049Z"
   },
   {
    "duration": 306,
    "start_time": "2024-09-01T13:50:56.570Z"
   },
   {
    "duration": 18,
    "start_time": "2024-09-01T15:20:58.845Z"
   },
   {
    "duration": 229,
    "start_time": "2024-09-01T15:21:38.926Z"
   },
   {
    "duration": 13,
    "start_time": "2024-09-01T15:22:14.614Z"
   },
   {
    "duration": 6,
    "start_time": "2024-09-01T15:22:24.359Z"
   },
   {
    "duration": 329,
    "start_time": "2024-09-01T15:25:35.175Z"
   },
   {
    "duration": 282,
    "start_time": "2024-09-01T15:27:06.637Z"
   },
   {
    "duration": 345,
    "start_time": "2024-09-01T15:27:41.081Z"
   },
   {
    "duration": 19,
    "start_time": "2024-09-01T15:28:09.282Z"
   },
   {
    "duration": 19,
    "start_time": "2024-09-01T15:29:40.334Z"
   },
   {
    "duration": 27,
    "start_time": "2024-09-01T15:29:46.184Z"
   },
   {
    "duration": 287,
    "start_time": "2024-09-01T15:32:48.322Z"
   },
   {
    "duration": 278,
    "start_time": "2024-09-01T15:33:47.033Z"
   },
   {
    "duration": 281,
    "start_time": "2024-09-01T15:35:02.452Z"
   },
   {
    "duration": 137,
    "start_time": "2024-09-01T15:35:27.741Z"
   },
   {
    "duration": 285,
    "start_time": "2024-09-01T15:37:00.608Z"
   },
   {
    "duration": 5,
    "start_time": "2024-09-01T15:54:25.018Z"
   },
   {
    "duration": 4,
    "start_time": "2024-09-01T15:59:08.313Z"
   },
   {
    "duration": 9,
    "start_time": "2024-09-01T16:01:25.183Z"
   },
   {
    "duration": 20,
    "start_time": "2024-09-01T16:01:31.309Z"
   },
   {
    "duration": 460,
    "start_time": "2024-09-01T16:01:39.906Z"
   },
   {
    "duration": 480,
    "start_time": "2024-09-01T16:03:31.092Z"
   },
   {
    "duration": 29,
    "start_time": "2024-09-01T16:03:48.840Z"
   },
   {
    "duration": 529,
    "start_time": "2024-09-01T16:03:54.077Z"
   },
   {
    "duration": 1784,
    "start_time": "2024-09-01T16:05:20.555Z"
   },
   {
    "duration": 1649,
    "start_time": "2024-09-01T16:08:38.216Z"
   },
   {
    "duration": 45,
    "start_time": "2024-09-02T16:26:11.528Z"
   },
   {
    "duration": 1304,
    "start_time": "2024-09-02T16:26:15.567Z"
   },
   {
    "duration": 210,
    "start_time": "2024-09-02T16:26:16.873Z"
   },
   {
    "duration": 4,
    "start_time": "2024-09-02T16:26:17.085Z"
   },
   {
    "duration": 4,
    "start_time": "2024-09-02T16:26:17.091Z"
   },
   {
    "duration": 15,
    "start_time": "2024-09-02T16:26:17.096Z"
   },
   {
    "duration": 44,
    "start_time": "2024-09-02T16:26:17.113Z"
   },
   {
    "duration": 27,
    "start_time": "2024-09-02T16:26:17.158Z"
   },
   {
    "duration": 34,
    "start_time": "2024-09-02T16:26:17.187Z"
   },
   {
    "duration": 2,
    "start_time": "2024-09-02T16:26:17.223Z"
   },
   {
    "duration": 38,
    "start_time": "2024-09-02T16:26:17.255Z"
   },
   {
    "duration": 12,
    "start_time": "2024-09-02T16:26:17.295Z"
   },
   {
    "duration": 13,
    "start_time": "2024-09-02T16:26:17.309Z"
   },
   {
    "duration": 47,
    "start_time": "2024-09-02T16:26:17.323Z"
   },
   {
    "duration": 63,
    "start_time": "2024-09-02T16:26:17.372Z"
   },
   {
    "duration": 35,
    "start_time": "2024-09-02T16:26:17.436Z"
   },
   {
    "duration": 6,
    "start_time": "2024-09-02T16:26:17.473Z"
   },
   {
    "duration": 10,
    "start_time": "2024-09-02T16:26:17.481Z"
   },
   {
    "duration": 11,
    "start_time": "2024-09-02T16:26:17.492Z"
   },
   {
    "duration": 18,
    "start_time": "2024-09-02T16:26:17.504Z"
   },
   {
    "duration": 44,
    "start_time": "2024-09-02T16:26:17.523Z"
   },
   {
    "duration": 15,
    "start_time": "2024-09-02T16:26:17.568Z"
   },
   {
    "duration": 13,
    "start_time": "2024-09-02T16:26:17.585Z"
   },
   {
    "duration": 291,
    "start_time": "2024-09-02T16:26:17.600Z"
   },
   {
    "duration": 20,
    "start_time": "2024-09-02T16:26:17.894Z"
   },
   {
    "duration": 310,
    "start_time": "2024-09-02T16:26:17.915Z"
   },
   {
    "duration": 5,
    "start_time": "2024-09-02T16:26:18.227Z"
   },
   {
    "duration": 1592,
    "start_time": "2024-09-02T16:26:18.234Z"
   },
   {
    "duration": 1649,
    "start_time": "2024-09-02T16:27:51.780Z"
   },
   {
    "duration": 73,
    "start_time": "2024-09-02T16:30:57.859Z"
   },
   {
    "duration": 1531,
    "start_time": "2024-09-02T16:31:03.252Z"
   },
   {
    "duration": 2214,
    "start_time": "2024-09-02T16:34:39.357Z"
   },
   {
    "duration": 2140,
    "start_time": "2024-09-02T16:35:48.153Z"
   },
   {
    "duration": 2008,
    "start_time": "2024-09-02T16:44:02.380Z"
   },
   {
    "duration": 1729,
    "start_time": "2024-09-02T16:44:10.804Z"
   },
   {
    "duration": 1734,
    "start_time": "2024-09-02T16:44:21.938Z"
   },
   {
    "duration": 1993,
    "start_time": "2024-09-02T16:44:32.611Z"
   },
   {
    "duration": 1809,
    "start_time": "2024-09-02T16:45:53.991Z"
   },
   {
    "duration": 604,
    "start_time": "2024-09-02T16:45:59.608Z"
   },
   {
    "duration": 1952,
    "start_time": "2024-09-02T16:46:05.227Z"
   },
   {
    "duration": 423,
    "start_time": "2024-09-02T16:47:20.786Z"
   },
   {
    "duration": 37,
    "start_time": "2024-09-02T17:02:41.722Z"
   },
   {
    "duration": 17,
    "start_time": "2024-09-02T17:02:54.508Z"
   },
   {
    "duration": 23,
    "start_time": "2024-09-02T17:03:04.351Z"
   },
   {
    "duration": 1404,
    "start_time": "2024-09-03T13:05:28.785Z"
   },
   {
    "duration": 219,
    "start_time": "2024-09-03T13:05:30.191Z"
   },
   {
    "duration": 3,
    "start_time": "2024-09-03T13:05:30.412Z"
   },
   {
    "duration": 34,
    "start_time": "2024-09-03T13:05:30.417Z"
   },
   {
    "duration": 28,
    "start_time": "2024-09-03T13:05:30.453Z"
   },
   {
    "duration": 38,
    "start_time": "2024-09-03T13:05:30.483Z"
   },
   {
    "duration": 40,
    "start_time": "2024-09-03T13:05:30.523Z"
   },
   {
    "duration": 44,
    "start_time": "2024-09-03T13:05:30.565Z"
   },
   {
    "duration": 2,
    "start_time": "2024-09-03T13:05:30.611Z"
   },
   {
    "duration": 53,
    "start_time": "2024-09-03T13:05:30.615Z"
   },
   {
    "duration": 23,
    "start_time": "2024-09-03T13:05:30.670Z"
   },
   {
    "duration": 16,
    "start_time": "2024-09-03T13:05:30.695Z"
   },
   {
    "duration": 64,
    "start_time": "2024-09-03T13:05:30.713Z"
   },
   {
    "duration": 74,
    "start_time": "2024-09-03T13:05:30.780Z"
   },
   {
    "duration": 27,
    "start_time": "2024-09-03T13:05:30.856Z"
   },
   {
    "duration": 6,
    "start_time": "2024-09-03T13:05:30.885Z"
   },
   {
    "duration": 13,
    "start_time": "2024-09-03T13:05:30.892Z"
   },
   {
    "duration": 15,
    "start_time": "2024-09-03T13:05:30.906Z"
   },
   {
    "duration": 21,
    "start_time": "2024-09-03T13:05:30.923Z"
   },
   {
    "duration": 35,
    "start_time": "2024-09-03T13:05:30.945Z"
   },
   {
    "duration": 20,
    "start_time": "2024-09-03T13:05:30.982Z"
   },
   {
    "duration": 70,
    "start_time": "2024-09-03T13:05:31.004Z"
   },
   {
    "duration": 3,
    "start_time": "2024-09-03T13:05:34.418Z"
   },
   {
    "duration": 91,
    "start_time": "2024-09-03T13:05:34.423Z"
   },
   {
    "duration": 4,
    "start_time": "2024-09-03T13:05:34.516Z"
   },
   {
    "duration": 86,
    "start_time": "2024-09-03T13:05:34.522Z"
   },
   {
    "duration": 55,
    "start_time": "2024-09-03T13:05:34.610Z"
   },
   {
    "duration": 22,
    "start_time": "2024-09-03T13:05:34.667Z"
   },
   {
    "duration": 26,
    "start_time": "2024-09-03T13:05:34.690Z"
   },
   {
    "duration": 61,
    "start_time": "2024-09-03T13:05:34.717Z"
   },
   {
    "duration": 3,
    "start_time": "2024-09-03T13:05:34.780Z"
   },
   {
    "duration": 30,
    "start_time": "2024-09-03T13:05:34.784Z"
   },
   {
    "duration": 12,
    "start_time": "2024-09-03T13:05:34.816Z"
   },
   {
    "duration": 42,
    "start_time": "2024-09-03T13:05:34.829Z"
   },
   {
    "duration": 20,
    "start_time": "2024-09-03T13:05:34.872Z"
   },
   {
    "duration": 87,
    "start_time": "2024-09-03T13:05:34.893Z"
   },
   {
    "duration": 23,
    "start_time": "2024-09-03T13:05:34.982Z"
   },
   {
    "duration": 6,
    "start_time": "2024-09-03T13:05:35.007Z"
   },
   {
    "duration": 82,
    "start_time": "2024-09-03T13:05:35.014Z"
   },
   {
    "duration": 13,
    "start_time": "2024-09-03T13:05:35.098Z"
   },
   {
    "duration": 24,
    "start_time": "2024-09-03T13:05:35.113Z"
   },
   {
    "duration": 15,
    "start_time": "2024-09-03T13:05:35.139Z"
   },
   {
    "duration": 15,
    "start_time": "2024-09-03T13:05:35.155Z"
   },
   {
    "duration": 13,
    "start_time": "2024-09-03T13:05:35.172Z"
   },
   {
    "duration": 275,
    "start_time": "2024-09-03T13:05:35.187Z"
   },
   {
    "duration": 19,
    "start_time": "2024-09-03T13:05:35.465Z"
   },
   {
    "duration": 316,
    "start_time": "2024-09-03T13:05:35.485Z"
   },
   {
    "duration": 6,
    "start_time": "2024-09-03T13:05:35.803Z"
   },
   {
    "duration": 2144,
    "start_time": "2024-09-03T13:05:35.811Z"
   },
   {
    "duration": 19,
    "start_time": "2024-09-03T13:05:37.957Z"
   },
   {
    "duration": 470,
    "start_time": "2024-09-03T13:05:37.978Z"
   },
   {
    "duration": 11,
    "start_time": "2024-09-03T13:12:26.332Z"
   },
   {
    "duration": 22,
    "start_time": "2024-09-03T13:12:33.993Z"
   },
   {
    "duration": 6,
    "start_time": "2024-09-03T13:14:34.391Z"
   },
   {
    "duration": 15,
    "start_time": "2024-09-03T13:14:40.619Z"
   },
   {
    "duration": 397,
    "start_time": "2024-09-03T13:15:16.155Z"
   },
   {
    "duration": 21,
    "start_time": "2024-09-03T13:44:15.981Z"
   },
   {
    "duration": 108,
    "start_time": "2024-09-03T13:50:34.351Z"
   },
   {
    "duration": 20,
    "start_time": "2024-09-03T13:50:46.770Z"
   },
   {
    "duration": 27,
    "start_time": "2024-09-03T13:51:52.978Z"
   },
   {
    "duration": 29,
    "start_time": "2024-09-03T13:52:05.415Z"
   },
   {
    "duration": 75,
    "start_time": "2024-09-03T13:52:42.770Z"
   },
   {
    "duration": 21,
    "start_time": "2024-09-03T13:54:18.868Z"
   },
   {
    "duration": 19,
    "start_time": "2024-09-03T13:54:36.225Z"
   },
   {
    "duration": 21,
    "start_time": "2024-09-03T13:54:44.166Z"
   },
   {
    "duration": 21,
    "start_time": "2024-09-03T13:54:56.100Z"
   },
   {
    "duration": 26,
    "start_time": "2024-09-03T13:55:04.526Z"
   },
   {
    "duration": 35,
    "start_time": "2024-09-03T13:55:51.291Z"
   },
   {
    "duration": 35,
    "start_time": "2024-09-03T13:55:59.601Z"
   },
   {
    "duration": 34,
    "start_time": "2024-09-03T13:56:03.577Z"
   },
   {
    "duration": 2345,
    "start_time": "2024-09-03T14:06:19.571Z"
   },
   {
    "duration": 1124,
    "start_time": "2024-09-03T14:06:39.890Z"
   },
   {
    "duration": 1241,
    "start_time": "2024-09-03T14:06:55.404Z"
   },
   {
    "duration": 1068,
    "start_time": "2024-09-03T14:07:19.366Z"
   },
   {
    "duration": 3997,
    "start_time": "2024-09-03T14:12:04.955Z"
   },
   {
    "duration": 47,
    "start_time": "2024-09-03T14:12:28.251Z"
   },
   {
    "duration": 62,
    "start_time": "2024-09-03T14:13:23.403Z"
   },
   {
    "duration": 45,
    "start_time": "2024-09-03T14:13:37.984Z"
   },
   {
    "duration": 98,
    "start_time": "2024-09-03T14:13:58.335Z"
   },
   {
    "duration": 44,
    "start_time": "2024-09-03T14:14:03.619Z"
   },
   {
    "duration": 69,
    "start_time": "2024-09-03T14:14:10.918Z"
   },
   {
    "duration": 55,
    "start_time": "2024-09-03T14:14:25.073Z"
   },
   {
    "duration": 68,
    "start_time": "2024-09-03T14:20:48.783Z"
   },
   {
    "duration": 59,
    "start_time": "2024-09-03T14:21:40.459Z"
   },
   {
    "duration": 52,
    "start_time": "2024-09-03T14:21:48.232Z"
   },
   {
    "duration": 23,
    "start_time": "2024-09-03T14:22:06.950Z"
   },
   {
    "duration": 56,
    "start_time": "2024-09-03T14:22:18.022Z"
   },
   {
    "duration": 69,
    "start_time": "2024-09-03T14:23:02.450Z"
   },
   {
    "duration": 56,
    "start_time": "2024-09-03T14:23:52.955Z"
   },
   {
    "duration": 187,
    "start_time": "2024-09-03T14:39:24.423Z"
   },
   {
    "duration": 269,
    "start_time": "2024-09-03T14:40:32.264Z"
   },
   {
    "duration": 1493,
    "start_time": "2024-09-04T07:13:31.023Z"
   },
   {
    "duration": 229,
    "start_time": "2024-09-04T07:13:32.518Z"
   },
   {
    "duration": 5,
    "start_time": "2024-09-04T07:13:32.748Z"
   },
   {
    "duration": 46,
    "start_time": "2024-09-04T07:13:32.755Z"
   },
   {
    "duration": 19,
    "start_time": "2024-09-04T07:13:32.802Z"
   },
   {
    "duration": 34,
    "start_time": "2024-09-04T07:13:32.823Z"
   },
   {
    "duration": 60,
    "start_time": "2024-09-04T07:13:32.858Z"
   },
   {
    "duration": 27,
    "start_time": "2024-09-04T07:13:32.920Z"
   },
   {
    "duration": 3,
    "start_time": "2024-09-04T07:13:32.949Z"
   },
   {
    "duration": 75,
    "start_time": "2024-09-04T07:13:32.955Z"
   },
   {
    "duration": 17,
    "start_time": "2024-09-04T07:13:33.032Z"
   },
   {
    "duration": 28,
    "start_time": "2024-09-04T07:13:33.050Z"
   },
   {
    "duration": 38,
    "start_time": "2024-09-04T07:13:33.080Z"
   },
   {
    "duration": 108,
    "start_time": "2024-09-04T07:13:33.120Z"
   },
   {
    "duration": 23,
    "start_time": "2024-09-04T07:13:33.230Z"
   },
   {
    "duration": 21,
    "start_time": "2024-09-04T07:13:33.270Z"
   },
   {
    "duration": 13,
    "start_time": "2024-09-04T07:13:33.293Z"
   },
   {
    "duration": 11,
    "start_time": "2024-09-04T07:13:33.307Z"
   },
   {
    "duration": 56,
    "start_time": "2024-09-04T07:13:33.320Z"
   },
   {
    "duration": 24,
    "start_time": "2024-09-04T07:13:33.378Z"
   },
   {
    "duration": 56,
    "start_time": "2024-09-04T07:13:33.405Z"
   },
   {
    "duration": 30,
    "start_time": "2024-09-04T07:13:33.462Z"
   },
   {
    "duration": 389,
    "start_time": "2024-09-04T07:13:33.499Z"
   },
   {
    "duration": 30,
    "start_time": "2024-09-04T07:13:33.890Z"
   },
   {
    "duration": 399,
    "start_time": "2024-09-04T07:13:33.922Z"
   },
   {
    "duration": 6,
    "start_time": "2024-09-04T07:13:34.322Z"
   },
   {
    "duration": 2519,
    "start_time": "2024-09-04T07:13:34.329Z"
   },
   {
    "duration": 33,
    "start_time": "2024-09-04T07:13:36.852Z"
   },
   {
    "duration": 29,
    "start_time": "2024-09-04T07:13:36.887Z"
   },
   {
    "duration": 516,
    "start_time": "2024-09-04T07:13:36.918Z"
   },
   {
    "duration": 14,
    "start_time": "2024-09-04T07:13:37.436Z"
   },
   {
    "duration": 129,
    "start_time": "2024-09-04T07:13:37.451Z"
   },
   {
    "duration": 329,
    "start_time": "2024-09-04T07:13:37.583Z"
   },
   {
    "duration": 6,
    "start_time": "2024-09-04T07:17:25.526Z"
   },
   {
    "duration": 17,
    "start_time": "2024-09-04T07:17:39.475Z"
   },
   {
    "duration": 14,
    "start_time": "2024-09-04T07:18:09.890Z"
   },
   {
    "duration": 19,
    "start_time": "2024-09-04T07:18:22.072Z"
   },
   {
    "duration": 122,
    "start_time": "2024-09-04T07:18:28.210Z"
   },
   {
    "duration": 10,
    "start_time": "2024-09-04T07:18:36.400Z"
   },
   {
    "duration": 28,
    "start_time": "2024-09-04T07:18:44.577Z"
   },
   {
    "duration": 8,
    "start_time": "2024-09-04T07:19:07.744Z"
   },
   {
    "duration": 13,
    "start_time": "2024-09-04T07:19:35.886Z"
   },
   {
    "duration": 70,
    "start_time": "2024-09-04T07:20:31.076Z"
   },
   {
    "duration": 11,
    "start_time": "2024-09-04T07:20:43.355Z"
   },
   {
    "duration": 18,
    "start_time": "2024-09-04T07:21:02.181Z"
   },
   {
    "duration": 12,
    "start_time": "2024-09-04T07:21:15.116Z"
   },
   {
    "duration": 42,
    "start_time": "2024-09-04T07:21:37.758Z"
   },
   {
    "duration": 15,
    "start_time": "2024-09-04T07:24:10.114Z"
   },
   {
    "duration": 16,
    "start_time": "2024-09-04T07:24:29.044Z"
   },
   {
    "duration": 39,
    "start_time": "2024-09-04T07:24:42.361Z"
   },
   {
    "duration": 67,
    "start_time": "2024-09-04T07:25:08.572Z"
   },
   {
    "duration": 32,
    "start_time": "2024-09-04T07:25:12.561Z"
   },
   {
    "duration": 16,
    "start_time": "2024-09-04T07:29:13.112Z"
   },
   {
    "duration": 20,
    "start_time": "2024-09-04T07:29:48.665Z"
   },
   {
    "duration": 11,
    "start_time": "2024-09-04T07:30:10.713Z"
   },
   {
    "duration": 20,
    "start_time": "2024-09-04T07:30:33.878Z"
   },
   {
    "duration": 31,
    "start_time": "2024-09-04T07:30:49.938Z"
   },
   {
    "duration": 24,
    "start_time": "2024-09-04T07:31:08.256Z"
   },
   {
    "duration": 13,
    "start_time": "2024-09-04T07:31:16.194Z"
   },
   {
    "duration": 25,
    "start_time": "2024-09-04T07:31:49.031Z"
   },
   {
    "duration": 81,
    "start_time": "2024-09-04T07:33:59.340Z"
   },
   {
    "duration": 16,
    "start_time": "2024-09-04T07:36:16.144Z"
   },
   {
    "duration": 13,
    "start_time": "2024-09-04T07:39:12.795Z"
   },
   {
    "duration": 196,
    "start_time": "2024-09-04T07:42:22.835Z"
   },
   {
    "duration": 201,
    "start_time": "2024-09-04T07:42:34.841Z"
   },
   {
    "duration": 30,
    "start_time": "2024-09-04T07:42:50.692Z"
   },
   {
    "duration": 20,
    "start_time": "2024-09-04T07:42:54.451Z"
   },
   {
    "duration": 197,
    "start_time": "2024-09-04T07:42:57.399Z"
   },
   {
    "duration": 88,
    "start_time": "2024-09-04T07:44:56.254Z"
   },
   {
    "duration": 50,
    "start_time": "2024-09-04T07:45:33.329Z"
   },
   {
    "duration": 10,
    "start_time": "2024-09-04T07:46:06.077Z"
   },
   {
    "duration": 59,
    "start_time": "2024-09-04T07:46:17.369Z"
   },
   {
    "duration": 79,
    "start_time": "2024-09-04T07:46:25.170Z"
   },
   {
    "duration": 24,
    "start_time": "2024-09-04T07:46:29.120Z"
   },
   {
    "duration": 19,
    "start_time": "2024-09-04T07:46:43.203Z"
   },
   {
    "duration": 21,
    "start_time": "2024-09-04T07:46:53.537Z"
   },
   {
    "duration": 76,
    "start_time": "2024-09-04T07:51:18.218Z"
   },
   {
    "duration": 7,
    "start_time": "2024-09-04T07:51:24.009Z"
   },
   {
    "duration": 66,
    "start_time": "2024-09-04T07:58:39.335Z"
   },
   {
    "duration": 68,
    "start_time": "2024-09-04T07:58:45.648Z"
   },
   {
    "duration": 76,
    "start_time": "2024-09-04T08:00:58.947Z"
   },
   {
    "duration": 66,
    "start_time": "2024-09-04T08:01:21.848Z"
   },
   {
    "duration": 178,
    "start_time": "2024-09-04T08:01:26.528Z"
   },
   {
    "duration": 208,
    "start_time": "2024-09-04T08:01:42.761Z"
   },
   {
    "duration": 173,
    "start_time": "2024-09-04T08:02:12.377Z"
   },
   {
    "duration": 188,
    "start_time": "2024-09-04T08:03:04.519Z"
   },
   {
    "duration": 390,
    "start_time": "2024-09-04T08:03:17.527Z"
   },
   {
    "duration": 208,
    "start_time": "2024-09-04T08:03:31.809Z"
   },
   {
    "duration": 321,
    "start_time": "2024-09-04T08:03:39.211Z"
   },
   {
    "duration": 376,
    "start_time": "2024-09-04T08:04:17.728Z"
   },
   {
    "duration": 347,
    "start_time": "2024-09-04T08:04:21.476Z"
   },
   {
    "duration": 1059,
    "start_time": "2024-09-04T08:08:12.998Z"
   },
   {
    "duration": 8,
    "start_time": "2024-09-04T08:10:37.231Z"
   },
   {
    "duration": 13,
    "start_time": "2024-09-04T08:11:05.591Z"
   },
   {
    "duration": 84,
    "start_time": "2024-09-04T08:11:09.595Z"
   },
   {
    "duration": 283,
    "start_time": "2024-09-04T08:11:11.957Z"
   },
   {
    "duration": 82,
    "start_time": "2024-09-04T08:11:32.440Z"
   },
   {
    "duration": 11,
    "start_time": "2024-09-04T08:11:41.605Z"
   },
   {
    "duration": 1059,
    "start_time": "2024-09-04T08:12:08.192Z"
   },
   {
    "duration": 33,
    "start_time": "2024-09-04T08:15:02.886Z"
   },
   {
    "duration": 19,
    "start_time": "2024-09-04T08:16:43.711Z"
   },
   {
    "duration": 502,
    "start_time": "2024-09-04T08:17:51.580Z"
   },
   {
    "duration": 772,
    "start_time": "2024-09-04T08:20:35.226Z"
   },
   {
    "duration": 582,
    "start_time": "2024-09-04T08:20:59.208Z"
   },
   {
    "duration": 335,
    "start_time": "2024-09-04T08:25:29.263Z"
   },
   {
    "duration": 596,
    "start_time": "2024-09-04T08:26:12.860Z"
   },
   {
    "duration": 11,
    "start_time": "2024-09-04T08:26:49.494Z"
   },
   {
    "duration": 492,
    "start_time": "2024-09-04T08:27:33.771Z"
   },
   {
    "duration": 11,
    "start_time": "2024-09-04T08:27:48.677Z"
   },
   {
    "duration": 631,
    "start_time": "2024-09-04T08:28:00.829Z"
   },
   {
    "duration": 638,
    "start_time": "2024-09-04T08:28:11.299Z"
   },
   {
    "duration": 18,
    "start_time": "2024-09-04T08:33:49.064Z"
   },
   {
    "duration": 418,
    "start_time": "2024-09-04T08:34:58.455Z"
   },
   {
    "duration": 179,
    "start_time": "2024-09-04T08:35:29.536Z"
   },
   {
    "duration": 561,
    "start_time": "2024-09-04T08:36:57.230Z"
   },
   {
    "duration": 79,
    "start_time": "2024-09-04T08:42:16.053Z"
   },
   {
    "duration": 3,
    "start_time": "2024-09-04T08:42:21.181Z"
   },
   {
    "duration": 65,
    "start_time": "2024-09-04T08:42:25.842Z"
   },
   {
    "duration": 16,
    "start_time": "2024-09-04T08:42:39.278Z"
   },
   {
    "duration": 15,
    "start_time": "2024-09-04T08:42:53.883Z"
   },
   {
    "duration": 23,
    "start_time": "2024-09-04T08:43:16.052Z"
   },
   {
    "duration": 242,
    "start_time": "2024-09-04T08:44:14.887Z"
   },
   {
    "duration": 270,
    "start_time": "2024-09-04T08:44:49.267Z"
   },
   {
    "duration": 219,
    "start_time": "2024-09-04T08:48:33.291Z"
   },
   {
    "duration": 264,
    "start_time": "2024-09-04T08:48:57.075Z"
   },
   {
    "duration": 89,
    "start_time": "2024-09-04T08:49:53.839Z"
   },
   {
    "duration": 118,
    "start_time": "2024-09-04T08:50:35.387Z"
   },
   {
    "duration": 243,
    "start_time": "2024-09-04T08:50:39.621Z"
   },
   {
    "duration": 269,
    "start_time": "2024-09-04T08:51:07.285Z"
   },
   {
    "duration": 263,
    "start_time": "2024-09-04T08:51:18.699Z"
   },
   {
    "duration": 277,
    "start_time": "2024-09-04T08:52:44.206Z"
   },
   {
    "duration": 434,
    "start_time": "2024-09-04T08:53:07.214Z"
   },
   {
    "duration": 281,
    "start_time": "2024-09-04T08:53:26.749Z"
   },
   {
    "duration": 305,
    "start_time": "2024-09-04T08:56:32.421Z"
   },
   {
    "duration": 326,
    "start_time": "2024-09-04T08:56:39.171Z"
   },
   {
    "duration": 1456,
    "start_time": "2024-09-04T18:36:00.904Z"
   },
   {
    "duration": 245,
    "start_time": "2024-09-04T18:36:02.364Z"
   },
   {
    "duration": 4,
    "start_time": "2024-09-04T18:36:02.611Z"
   },
   {
    "duration": 32,
    "start_time": "2024-09-04T18:36:02.616Z"
   },
   {
    "duration": 31,
    "start_time": "2024-09-04T18:36:02.650Z"
   },
   {
    "duration": 26,
    "start_time": "2024-09-04T18:36:02.683Z"
   },
   {
    "duration": 27,
    "start_time": "2024-09-04T18:36:02.711Z"
   },
   {
    "duration": 36,
    "start_time": "2024-09-04T18:36:02.753Z"
   },
   {
    "duration": 2,
    "start_time": "2024-09-04T18:36:02.790Z"
   },
   {
    "duration": 34,
    "start_time": "2024-09-04T18:36:02.794Z"
   },
   {
    "duration": 44,
    "start_time": "2024-09-04T18:36:02.829Z"
   },
   {
    "duration": 15,
    "start_time": "2024-09-04T18:36:02.875Z"
   },
   {
    "duration": 21,
    "start_time": "2024-09-04T18:36:02.892Z"
   },
   {
    "duration": 115,
    "start_time": "2024-09-04T18:36:02.916Z"
   },
   {
    "duration": 48,
    "start_time": "2024-09-04T18:36:03.032Z"
   },
   {
    "duration": 6,
    "start_time": "2024-09-04T18:36:03.082Z"
   },
   {
    "duration": 9,
    "start_time": "2024-09-04T18:36:03.089Z"
   },
   {
    "duration": 11,
    "start_time": "2024-09-04T18:36:03.100Z"
   },
   {
    "duration": 66,
    "start_time": "2024-09-04T18:36:03.112Z"
   },
   {
    "duration": 16,
    "start_time": "2024-09-04T18:36:03.180Z"
   },
   {
    "duration": 16,
    "start_time": "2024-09-04T18:36:03.197Z"
   },
   {
    "duration": 8,
    "start_time": "2024-09-04T18:36:03.214Z"
   },
   {
    "duration": 380,
    "start_time": "2024-09-04T18:36:03.224Z"
   },
   {
    "duration": 20,
    "start_time": "2024-09-04T18:36:03.605Z"
   },
   {
    "duration": 427,
    "start_time": "2024-09-04T18:36:03.626Z"
   },
   {
    "duration": 7,
    "start_time": "2024-09-04T18:36:04.056Z"
   },
   {
    "duration": 2475,
    "start_time": "2024-09-04T18:36:04.066Z"
   },
   {
    "duration": 29,
    "start_time": "2024-09-04T18:36:06.542Z"
   },
   {
    "duration": 15,
    "start_time": "2024-09-04T18:36:06.573Z"
   },
   {
    "duration": 518,
    "start_time": "2024-09-04T18:36:06.590Z"
   },
   {
    "duration": 12,
    "start_time": "2024-09-04T18:36:07.110Z"
   },
   {
    "duration": 112,
    "start_time": "2024-09-04T18:36:07.124Z"
   },
   {
    "duration": 308,
    "start_time": "2024-09-04T18:36:07.238Z"
   },
   {
    "duration": 50,
    "start_time": "2024-09-04T18:36:07.551Z"
   },
   {
    "duration": 13,
    "start_time": "2024-09-04T18:36:07.603Z"
   },
   {
    "duration": 46,
    "start_time": "2024-09-04T18:36:07.617Z"
   },
   {
    "duration": 202,
    "start_time": "2024-09-04T18:36:07.665Z"
   },
   {
    "duration": 212,
    "start_time": "2024-09-04T18:36:07.870Z"
   },
   {
    "duration": 11,
    "start_time": "2024-09-04T18:36:08.084Z"
   },
   {
    "duration": 819,
    "start_time": "2024-09-04T18:36:08.096Z"
   },
   {
    "duration": 645,
    "start_time": "2024-09-04T18:36:08.919Z"
   },
   {
    "duration": 420,
    "start_time": "2024-09-04T18:36:09.566Z"
   },
   {
    "duration": 246,
    "start_time": "2024-09-04T18:36:09.988Z"
   },
   {
    "duration": 237,
    "start_time": "2024-09-04T18:36:10.235Z"
   },
   {
    "duration": 294,
    "start_time": "2024-09-04T18:36:10.474Z"
   },
   {
    "duration": 317,
    "start_time": "2024-09-04T18:52:42.237Z"
   },
   {
    "duration": 33,
    "start_time": "2024-09-04T18:56:27.764Z"
   },
   {
    "duration": 25,
    "start_time": "2024-09-04T18:56:52.190Z"
   },
   {
    "duration": 34,
    "start_time": "2024-09-04T18:57:18.850Z"
   },
   {
    "duration": 36,
    "start_time": "2024-09-04T19:00:16.562Z"
   },
   {
    "duration": 104,
    "start_time": "2024-09-04T19:01:16.069Z"
   },
   {
    "duration": 24,
    "start_time": "2024-09-04T19:01:37.006Z"
   },
   {
    "duration": 20,
    "start_time": "2024-09-04T19:01:47.324Z"
   },
   {
    "duration": 26,
    "start_time": "2024-09-04T19:02:42.252Z"
   },
   {
    "duration": 52,
    "start_time": "2024-09-04T19:04:04.021Z"
   },
   {
    "duration": 36,
    "start_time": "2024-09-04T19:04:12.788Z"
   },
   {
    "duration": 48,
    "start_time": "2024-09-04T19:04:16.723Z"
   },
   {
    "duration": 128,
    "start_time": "2024-09-04T19:57:31.215Z"
   },
   {
    "duration": 5,
    "start_time": "2024-09-04T19:58:40.837Z"
   },
   {
    "duration": 15,
    "start_time": "2024-09-04T19:59:05.589Z"
   },
   {
    "duration": 137,
    "start_time": "2024-09-04T19:59:28.705Z"
   },
   {
    "duration": 33,
    "start_time": "2024-09-04T19:59:44.732Z"
   },
   {
    "duration": 24,
    "start_time": "2024-09-04T20:01:07.709Z"
   },
   {
    "duration": 57,
    "start_time": "2024-09-04T20:01:18.734Z"
   },
   {
    "duration": 26,
    "start_time": "2024-09-04T20:01:25.537Z"
   },
   {
    "duration": 25,
    "start_time": "2024-09-04T20:01:30.726Z"
   },
   {
    "duration": 513,
    "start_time": "2024-09-04T20:03:36.257Z"
   },
   {
    "duration": 370,
    "start_time": "2024-09-04T20:04:18.793Z"
   },
   {
    "duration": 533,
    "start_time": "2024-09-04T20:04:24.329Z"
   },
   {
    "duration": 517,
    "start_time": "2024-09-04T20:05:36.789Z"
   },
   {
    "duration": 502,
    "start_time": "2024-09-04T20:07:02.708Z"
   },
   {
    "duration": 611,
    "start_time": "2024-09-04T20:13:08.745Z"
   },
   {
    "duration": 18,
    "start_time": "2024-09-04T20:15:46.095Z"
   },
   {
    "duration": 18,
    "start_time": "2024-09-04T20:16:07.682Z"
   },
   {
    "duration": 17,
    "start_time": "2024-09-04T20:16:13.986Z"
   },
   {
    "duration": 50,
    "start_time": "2024-09-04T20:16:26.150Z"
   },
   {
    "duration": 27,
    "start_time": "2024-09-04T20:16:32.914Z"
   },
   {
    "duration": 28,
    "start_time": "2024-09-04T20:16:51.938Z"
   },
   {
    "duration": 35,
    "start_time": "2024-09-04T20:17:28.840Z"
   },
   {
    "duration": 569,
    "start_time": "2024-09-04T20:21:56.092Z"
   },
   {
    "duration": 49,
    "start_time": "2024-09-04T20:36:44.964Z"
   },
   {
    "duration": 4,
    "start_time": "2024-09-04T20:37:13.801Z"
   },
   {
    "duration": 16,
    "start_time": "2024-09-04T20:37:39.784Z"
   },
   {
    "duration": 8,
    "start_time": "2024-09-04T20:37:49.460Z"
   },
   {
    "duration": 6,
    "start_time": "2024-09-04T20:38:26.116Z"
   },
   {
    "duration": 5,
    "start_time": "2024-09-04T20:38:31.234Z"
   },
   {
    "duration": 5,
    "start_time": "2024-09-04T20:39:47.076Z"
   },
   {
    "duration": 6,
    "start_time": "2024-09-04T20:39:51.065Z"
   },
   {
    "duration": 5,
    "start_time": "2024-09-04T20:39:53.532Z"
   },
   {
    "duration": 5,
    "start_time": "2024-09-04T20:39:57.108Z"
   },
   {
    "duration": 5,
    "start_time": "2024-09-04T20:40:05.876Z"
   },
   {
    "duration": 9,
    "start_time": "2024-09-04T20:45:53.367Z"
   },
   {
    "duration": 6,
    "start_time": "2024-09-04T20:47:11.471Z"
   },
   {
    "duration": 4,
    "start_time": "2024-09-04T21:02:06.060Z"
   },
   {
    "duration": 603,
    "start_time": "2024-09-04T21:02:29.315Z"
   },
   {
    "duration": 294,
    "start_time": "2024-09-04T21:02:51.804Z"
   },
   {
    "duration": 1397,
    "start_time": "2024-09-05T13:41:24.946Z"
   },
   {
    "duration": 237,
    "start_time": "2024-09-05T13:41:26.345Z"
   },
   {
    "duration": 4,
    "start_time": "2024-09-05T13:41:26.584Z"
   },
   {
    "duration": 9,
    "start_time": "2024-09-05T13:41:26.590Z"
   },
   {
    "duration": 19,
    "start_time": "2024-09-05T13:41:26.601Z"
   },
   {
    "duration": 25,
    "start_time": "2024-09-05T13:41:26.622Z"
   },
   {
    "duration": 28,
    "start_time": "2024-09-05T13:41:26.649Z"
   },
   {
    "duration": 51,
    "start_time": "2024-09-05T13:41:26.678Z"
   },
   {
    "duration": 22,
    "start_time": "2024-09-05T13:41:26.731Z"
   },
   {
    "duration": 30,
    "start_time": "2024-09-05T13:41:26.756Z"
   },
   {
    "duration": 23,
    "start_time": "2024-09-05T13:41:26.787Z"
   },
   {
    "duration": 25,
    "start_time": "2024-09-05T13:41:26.812Z"
   },
   {
    "duration": 22,
    "start_time": "2024-09-05T13:41:26.839Z"
   },
   {
    "duration": 85,
    "start_time": "2024-09-05T13:41:26.863Z"
   },
   {
    "duration": 24,
    "start_time": "2024-09-05T13:41:26.950Z"
   },
   {
    "duration": 6,
    "start_time": "2024-09-05T13:41:26.976Z"
   },
   {
    "duration": 8,
    "start_time": "2024-09-05T13:41:27.006Z"
   },
   {
    "duration": 16,
    "start_time": "2024-09-05T13:41:27.016Z"
   },
   {
    "duration": 22,
    "start_time": "2024-09-05T13:41:27.033Z"
   },
   {
    "duration": 17,
    "start_time": "2024-09-05T13:41:27.056Z"
   },
   {
    "duration": 44,
    "start_time": "2024-09-05T13:41:27.075Z"
   },
   {
    "duration": 7,
    "start_time": "2024-09-05T13:41:27.120Z"
   },
   {
    "duration": 341,
    "start_time": "2024-09-05T13:41:27.129Z"
   },
   {
    "duration": 34,
    "start_time": "2024-09-05T13:41:27.472Z"
   },
   {
    "duration": 334,
    "start_time": "2024-09-05T13:41:27.508Z"
   },
   {
    "duration": 6,
    "start_time": "2024-09-05T13:41:27.843Z"
   },
   {
    "duration": 2256,
    "start_time": "2024-09-05T13:41:27.850Z"
   },
   {
    "duration": 19,
    "start_time": "2024-09-05T13:41:30.111Z"
   },
   {
    "duration": 41,
    "start_time": "2024-09-05T13:41:30.132Z"
   },
   {
    "duration": 441,
    "start_time": "2024-09-05T13:41:30.175Z"
   },
   {
    "duration": 14,
    "start_time": "2024-09-05T13:41:30.618Z"
   },
   {
    "duration": 115,
    "start_time": "2024-09-05T13:41:30.633Z"
   },
   {
    "duration": 280,
    "start_time": "2024-09-05T13:46:21.861Z"
   },
   {
    "duration": 161,
    "start_time": "2024-09-05T13:47:39.814Z"
   },
   {
    "duration": 277,
    "start_time": "2024-09-05T13:49:18.305Z"
   },
   {
    "duration": 351,
    "start_time": "2024-09-05T13:49:34.442Z"
   },
   {
    "duration": 220,
    "start_time": "2024-09-05T13:49:42.224Z"
   },
   {
    "duration": 218,
    "start_time": "2024-09-05T13:51:10.842Z"
   },
   {
    "duration": 3,
    "start_time": "2024-09-05T13:54:53.111Z"
   },
   {
    "duration": 93,
    "start_time": "2024-09-05T13:54:53.115Z"
   },
   {
    "duration": 4,
    "start_time": "2024-09-05T13:54:53.210Z"
   },
   {
    "duration": 36,
    "start_time": "2024-09-05T13:54:53.216Z"
   },
   {
    "duration": 21,
    "start_time": "2024-09-05T13:54:53.254Z"
   },
   {
    "duration": 24,
    "start_time": "2024-09-05T13:54:53.277Z"
   },
   {
    "duration": 27,
    "start_time": "2024-09-05T13:54:53.304Z"
   },
   {
    "duration": 36,
    "start_time": "2024-09-05T13:54:53.333Z"
   },
   {
    "duration": 2,
    "start_time": "2024-09-05T13:54:53.371Z"
   },
   {
    "duration": 65,
    "start_time": "2024-09-05T13:54:53.375Z"
   },
   {
    "duration": 14,
    "start_time": "2024-09-05T13:54:53.443Z"
   },
   {
    "duration": 16,
    "start_time": "2024-09-05T13:54:53.458Z"
   },
   {
    "duration": 34,
    "start_time": "2024-09-05T13:54:53.476Z"
   },
   {
    "duration": 82,
    "start_time": "2024-09-05T13:54:53.511Z"
   },
   {
    "duration": 27,
    "start_time": "2024-09-05T13:54:53.594Z"
   },
   {
    "duration": 22,
    "start_time": "2024-09-05T13:54:53.623Z"
   },
   {
    "duration": 18,
    "start_time": "2024-09-05T13:54:53.646Z"
   },
   {
    "duration": 86,
    "start_time": "2024-09-05T13:54:53.666Z"
   },
   {
    "duration": 31,
    "start_time": "2024-09-05T13:54:53.754Z"
   },
   {
    "duration": 17,
    "start_time": "2024-09-05T13:54:53.787Z"
   },
   {
    "duration": 126,
    "start_time": "2024-09-05T13:54:53.806Z"
   },
   {
    "duration": 9,
    "start_time": "2024-09-05T13:54:53.933Z"
   },
   {
    "duration": 310,
    "start_time": "2024-09-05T13:54:53.944Z"
   },
   {
    "duration": 22,
    "start_time": "2024-09-05T13:54:54.257Z"
   },
   {
    "duration": 339,
    "start_time": "2024-09-05T13:54:54.281Z"
   },
   {
    "duration": 6,
    "start_time": "2024-09-05T13:54:54.622Z"
   },
   {
    "duration": 2153,
    "start_time": "2024-09-05T13:54:54.630Z"
   },
   {
    "duration": 25,
    "start_time": "2024-09-05T13:54:56.785Z"
   },
   {
    "duration": 36,
    "start_time": "2024-09-05T13:54:56.813Z"
   },
   {
    "duration": 438,
    "start_time": "2024-09-05T13:54:56.850Z"
   },
   {
    "duration": 23,
    "start_time": "2024-09-05T13:54:57.290Z"
   },
   {
    "duration": 57,
    "start_time": "2024-09-05T13:54:57.314Z"
   },
   {
    "duration": 246,
    "start_time": "2024-09-05T13:54:57.372Z"
   },
   {
    "duration": 45,
    "start_time": "2024-09-05T13:54:57.620Z"
   },
   {
    "duration": 14,
    "start_time": "2024-09-05T13:54:57.667Z"
   },
   {
    "duration": 83,
    "start_time": "2024-09-05T13:54:57.704Z"
   },
   {
    "duration": 237,
    "start_time": "2024-09-05T13:54:57.789Z"
   },
   {
    "duration": 309,
    "start_time": "2024-09-05T13:54:58.028Z"
   },
   {
    "duration": 10,
    "start_time": "2024-09-05T13:54:58.339Z"
   },
   {
    "duration": 715,
    "start_time": "2024-09-05T13:54:58.351Z"
   },
   {
    "duration": 614,
    "start_time": "2024-09-05T13:54:59.068Z"
   },
   {
    "duration": 393,
    "start_time": "2024-09-05T13:54:59.683Z"
   },
   {
    "duration": 267,
    "start_time": "2024-09-05T13:55:00.078Z"
   },
   {
    "duration": 237,
    "start_time": "2024-09-05T13:55:00.346Z"
   },
   {
    "duration": 285,
    "start_time": "2024-09-05T13:55:00.584Z"
   },
   {
    "duration": 418,
    "start_time": "2024-09-05T13:55:00.871Z"
   },
   {
    "duration": 47,
    "start_time": "2024-09-05T13:55:01.290Z"
   },
   {
    "duration": 540,
    "start_time": "2024-09-05T13:55:01.338Z"
   },
   {
    "duration": 551,
    "start_time": "2024-09-05T13:55:01.880Z"
   },
   {
    "duration": 44,
    "start_time": "2024-09-05T13:55:02.432Z"
   },
   {
    "duration": 590,
    "start_time": "2024-09-05T13:55:02.478Z"
   },
   {
    "duration": 10,
    "start_time": "2024-09-05T13:55:03.069Z"
   },
   {
    "duration": 27,
    "start_time": "2024-09-05T13:55:03.080Z"
   },
   {
    "duration": 13,
    "start_time": "2024-09-05T13:55:03.108Z"
   },
   {
    "duration": 5,
    "start_time": "2024-09-05T13:55:03.123Z"
   }
  ],
  "kernelspec": {
   "display_name": "Python 3 (ipykernel)",
   "language": "python",
   "name": "python3"
  },
  "language_info": {
   "codemirror_mode": {
    "name": "ipython",
    "version": 3
   },
   "file_extension": ".py",
   "mimetype": "text/x-python",
   "name": "python",
   "nbconvert_exporter": "python",
   "pygments_lexer": "ipython3",
   "version": "3.9.5"
  },
  "toc": {
   "base_numbering": 1,
   "nav_menu": {},
   "number_sections": true,
   "sideBar": true,
   "skip_h1_title": true,
   "title_cell": "Table of Contents",
   "title_sidebar": "Contents",
   "toc_cell": false,
   "toc_position": {},
   "toc_section_display": true,
   "toc_window_display": false
  }
 },
 "nbformat": 4,
 "nbformat_minor": 2
}
