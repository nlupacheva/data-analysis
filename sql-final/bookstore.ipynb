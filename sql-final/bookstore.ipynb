{
 "cells": [
  {
   "cell_type": "markdown",
   "id": "e32a2e31-18f2-449a-a01f-ccad4d46a0ce",
   "metadata": {},
   "source": [
    "# Проект "
   ]
  },
  {
   "cell_type": "markdown",
   "id": "37d17ea3-b9dc-4db4-86c1-a12749851f31",
   "metadata": {},
   "source": [
    "# Описание проекта\n",
    "\n"
   ]
  },
  {
   "cell_type": "markdown",
   "id": "527d4083-21d0-4c25-8579-65e6404745fb",
   "metadata": {},
   "source": [
    "# Цели исследования"
   ]
  },
  {
   "cell_type": "markdown",
   "id": "c59aed73-1158-40f4-8cf4-bb274171ac56",
   "metadata": {},
   "source": [
    "## Решаемые задачи\n",
    "1. Посчитать, сколько книг вышло после 1 января 2000 года;\n",
    "1. Для каждой книги посчитать количество обзоров и среднюю оценку;\n",
    "1. Определите издательство, которое выпустило наибольшее число книг толще 50 страниц — так мы исключим из анализа брошюры;\n",
    "1. Определить автора с самой высокой средней оценкой книг, учитывая только книги с 50 и более оценками;\n",
    "1. Посчитать среднее количество обзоров от пользователей, которые поставили больше 48 оценок."
   ]
  },
  {
   "cell_type": "markdown",
   "id": "d5712560-b975-46f9-8eef-32df641c3321",
   "metadata": {},
   "source": [
    "# Описание данных "
   ]
  },
  {
   "cell_type": "markdown",
   "id": "287ba8f1-69bc-44ac-85b1-f6f9ed8226f0",
   "metadata": {},
   "source": [
    "### `books`  \n",
    "Содержит данные о книгах:\n",
    "\n",
    "- `book_id` — идентификатор книги\n",
    "- `author_id` — идентификатор автора\n",
    "- `title` — название книги\n",
    "- `num_pages` — количество страниц\n",
    "- `publication_date` — дата публикации книги\n",
    "- `publisher_id` — идентификатор издателя\n",
    "\n",
    "### `authors`  \n",
    "Содержит данные об авторах:\n",
    "\n",
    "- `author_id` — идентификатор автора\n",
    "- `author` — имя автора\n",
    "\n",
    "### `publishers`  \n",
    "Содержит данные об издательствах:\n",
    "\n",
    "- `publisher_id` — идентификатор издательства\n",
    "- `publisher` — название издательства\n",
    "\n",
    "### `ratings`  \n",
    "Содержит данные о пользовательских оценках книг:\n",
    "\n",
    "- `rating_id` — идентификатор оценки\n",
    "- `book_id` — идентификатор книги\n",
    "- `username` — имя пользователя, оставившего оценку\n",
    "- `rating` — оценка книги\n",
    "\n",
    "### `reviews`  \n",
    "Содержит данные о пользовательских обзорах на книги:\n",
    "\n",
    "- `review_id` — идентификатор обзора\n",
    "- `book_id` — идентификатор книги\n",
    "- `username` — имя пользователя, написавшего обзор\n",
    "- `text` — текст обзора"
   ]
  },
  {
   "cell_type": "markdown",
   "id": "a582d34f-375a-4582-895f-9829fcf707ed",
   "metadata": {},
   "source": [
    "# Исследование "
   ]
  },
  {
   "cell_type": "markdown",
   "id": "564e9d9b-4faa-4820-9535-331cb61793f3",
   "metadata": {},
   "source": [
    "## Подключение к базе данных"
   ]
  },
  {
   "cell_type": "code",
   "execution_count": 8,
   "id": "e29c1587-32f0-4b33-9b7b-53daec123b1f",
   "metadata": {},
   "outputs": [],
   "source": [
    "# импортируем библиотеки\n",
    "import pandas as pd\n",
    "import sqlalchemy as sa\n",
    "# устанавливаем параметры\n",
    "db_config = {\n",
    "'user': 'praktikum_student', # имя пользователя\n",
    "'pwd': 'Sdf4$2;d-d30pp', # пароль\n",
    "'host': 'rc1b-wcoijxj3yxfsf3fs.mdb.yandexcloud.net',\n",
    "'port': 6432, # порт подключения\n",
    "'db': 'data-analyst-final-project-db' # название базы данных\n",
    "}\n",
    "connection_string = 'postgresql://{user}:{pwd}@{host}:{port}/{db}'.format(**db_config)\n",
    "# сохраняем коннектор\n",
    "engine = sa.create_engine(connection_string, connect_args={'sslmode':'require'})\n"
   ]
  },
  {
   "cell_type": "markdown",
   "id": "c2bd59aa-a409-489a-b26f-f4ed10b2dd4a",
   "metadata": {},
   "source": [
    "Изучим содержание таблицы books"
   ]
  },
  {
   "cell_type": "code",
   "execution_count": 9,
   "id": "9f6ee4fb-7194-4c04-a191-f2f560aad626",
   "metadata": {},
   "outputs": [
    {
     "data": {
      "text/html": [
       "<div>\n",
       "<style scoped>\n",
       "    .dataframe tbody tr th:only-of-type {\n",
       "        vertical-align: middle;\n",
       "    }\n",
       "\n",
       "    .dataframe tbody tr th {\n",
       "        vertical-align: top;\n",
       "    }\n",
       "\n",
       "    .dataframe thead th {\n",
       "        text-align: right;\n",
       "    }\n",
       "</style>\n",
       "<table border=\"1\" class=\"dataframe\">\n",
       "  <thead>\n",
       "    <tr style=\"text-align: right;\">\n",
       "      <th></th>\n",
       "      <th>book_id</th>\n",
       "      <th>author_id</th>\n",
       "      <th>title</th>\n",
       "      <th>num_pages</th>\n",
       "      <th>publication_date</th>\n",
       "      <th>publisher_id</th>\n",
       "    </tr>\n",
       "  </thead>\n",
       "  <tbody>\n",
       "    <tr>\n",
       "      <th>0</th>\n",
       "      <td>1</td>\n",
       "      <td>546</td>\n",
       "      <td>'Salem's Lot</td>\n",
       "      <td>594</td>\n",
       "      <td>2005-11-01</td>\n",
       "      <td>93</td>\n",
       "    </tr>\n",
       "    <tr>\n",
       "      <th>1</th>\n",
       "      <td>2</td>\n",
       "      <td>465</td>\n",
       "      <td>1 000 Places to See Before You Die</td>\n",
       "      <td>992</td>\n",
       "      <td>2003-05-22</td>\n",
       "      <td>336</td>\n",
       "    </tr>\n",
       "    <tr>\n",
       "      <th>2</th>\n",
       "      <td>3</td>\n",
       "      <td>407</td>\n",
       "      <td>13 Little Blue Envelopes (Little Blue Envelope...</td>\n",
       "      <td>322</td>\n",
       "      <td>2010-12-21</td>\n",
       "      <td>135</td>\n",
       "    </tr>\n",
       "    <tr>\n",
       "      <th>3</th>\n",
       "      <td>4</td>\n",
       "      <td>82</td>\n",
       "      <td>1491: New Revelations of the Americas Before C...</td>\n",
       "      <td>541</td>\n",
       "      <td>2006-10-10</td>\n",
       "      <td>309</td>\n",
       "    </tr>\n",
       "    <tr>\n",
       "      <th>4</th>\n",
       "      <td>5</td>\n",
       "      <td>125</td>\n",
       "      <td>1776</td>\n",
       "      <td>386</td>\n",
       "      <td>2006-07-04</td>\n",
       "      <td>268</td>\n",
       "    </tr>\n",
       "  </tbody>\n",
       "</table>\n",
       "</div>"
      ],
      "text/plain": [
       "   book_id  author_id                                              title  \\\n",
       "0        1        546                                       'Salem's Lot   \n",
       "1        2        465                 1 000 Places to See Before You Die   \n",
       "2        3        407  13 Little Blue Envelopes (Little Blue Envelope...   \n",
       "3        4         82  1491: New Revelations of the Americas Before C...   \n",
       "4        5        125                                               1776   \n",
       "\n",
       "   num_pages publication_date  publisher_id  \n",
       "0        594       2005-11-01            93  \n",
       "1        992       2003-05-22           336  \n",
       "2        322       2010-12-21           135  \n",
       "3        541       2006-10-10           309  \n",
       "4        386       2006-07-04           268  "
      ]
     },
     "execution_count": 9,
     "metadata": {},
     "output_type": "execute_result"
    }
   ],
   "source": [
    "query = \"\"\"\n",
    "SELECT *\n",
    "FROM books\n",
    "LIMIT 5;\n",
    "\"\"\"\n",
    "response = pd.io.sql.read_sql(query, con = engine)\n",
    "response"
   ]
  },
  {
   "cell_type": "markdown",
   "id": "375d69ca-c966-4f11-b609-7718a7795d09",
   "metadata": {},
   "source": [
    "## Количество книг, вышедших после 1 января 2000 года \n",
    "Отберём книги, вышедшие после 1 января 2000 года, и посчитаем их количество."
   ]
  },
  {
   "cell_type": "code",
   "execution_count": 10,
   "id": "4a46b98a-9103-479b-af70-b4b33c7b7fc5",
   "metadata": {},
   "outputs": [
    {
     "data": {
      "text/html": [
       "<div>\n",
       "<style scoped>\n",
       "    .dataframe tbody tr th:only-of-type {\n",
       "        vertical-align: middle;\n",
       "    }\n",
       "\n",
       "    .dataframe tbody tr th {\n",
       "        vertical-align: top;\n",
       "    }\n",
       "\n",
       "    .dataframe thead th {\n",
       "        text-align: right;\n",
       "    }\n",
       "</style>\n",
       "<table border=\"1\" class=\"dataframe\">\n",
       "  <thead>\n",
       "    <tr style=\"text-align: right;\">\n",
       "      <th></th>\n",
       "      <th>count</th>\n",
       "    </tr>\n",
       "  </thead>\n",
       "  <tbody>\n",
       "    <tr>\n",
       "      <th>0</th>\n",
       "      <td>819</td>\n",
       "    </tr>\n",
       "  </tbody>\n",
       "</table>\n",
       "</div>"
      ],
      "text/plain": [
       "   count\n",
       "0    819"
      ]
     },
     "execution_count": 10,
     "metadata": {},
     "output_type": "execute_result"
    }
   ],
   "source": [
    "query = \"\"\"\n",
    "SELECT count(book_id) \n",
    "FROM books \n",
    "WHERE publication_date > '2000-01-01';\n",
    "\"\"\"\n",
    "\n",
    "response = pd.io.sql.read_sql(query, con = engine)\n",
    "response"
   ]
  },
  {
   "cell_type": "markdown",
   "id": "52561c76-d385-4140-8d4f-0df71cd2557a",
   "metadata": {},
   "source": [
    "## Вывод \n",
    "После 1 января 2020 года вышло 819 книг. "
   ]
  },
  {
   "cell_type": "markdown",
   "id": "94468f25-c8fc-4b26-b2f7-8e169c5e6b40",
   "metadata": {},
   "source": [
    "## Количество обзоров и средняя оценка для каждой книги \n",
    "Для запроса возьмём таблицы books, reviews и ratings "
   ]
  },
  {
   "cell_type": "code",
   "execution_count": 11,
   "id": "0ca2930b-ac6d-4667-bbf0-9e135582beb5",
   "metadata": {
    "scrolled": true
   },
   "outputs": [
    {
     "data": {
      "text/html": [
       "<div>\n",
       "<style scoped>\n",
       "    .dataframe tbody tr th:only-of-type {\n",
       "        vertical-align: middle;\n",
       "    }\n",
       "\n",
       "    .dataframe tbody tr th {\n",
       "        vertical-align: top;\n",
       "    }\n",
       "\n",
       "    .dataframe thead th {\n",
       "        text-align: right;\n",
       "    }\n",
       "</style>\n",
       "<table border=\"1\" class=\"dataframe\">\n",
       "  <thead>\n",
       "    <tr style=\"text-align: right;\">\n",
       "      <th></th>\n",
       "      <th>title</th>\n",
       "      <th>review_cnt</th>\n",
       "      <th>rating_avg</th>\n",
       "    </tr>\n",
       "  </thead>\n",
       "  <tbody>\n",
       "    <tr>\n",
       "      <th>0</th>\n",
       "      <td>A Dirty Job (Grim Reaper  #1)</td>\n",
       "      <td>4</td>\n",
       "      <td>5.00</td>\n",
       "    </tr>\n",
       "    <tr>\n",
       "      <th>1</th>\n",
       "      <td>School's Out—Forever (Maximum Ride  #2)</td>\n",
       "      <td>3</td>\n",
       "      <td>5.00</td>\n",
       "    </tr>\n",
       "    <tr>\n",
       "      <th>2</th>\n",
       "      <td>Moneyball: The Art of Winning an Unfair Game</td>\n",
       "      <td>3</td>\n",
       "      <td>5.00</td>\n",
       "    </tr>\n",
       "    <tr>\n",
       "      <th>3</th>\n",
       "      <td>The Big Bad Wolf  (Alex Cross  #9)</td>\n",
       "      <td>2</td>\n",
       "      <td>5.00</td>\n",
       "    </tr>\n",
       "    <tr>\n",
       "      <th>4</th>\n",
       "      <td>Welcome to Temptation (Dempseys  #1)</td>\n",
       "      <td>2</td>\n",
       "      <td>5.00</td>\n",
       "    </tr>\n",
       "    <tr>\n",
       "      <th>...</th>\n",
       "      <td>...</td>\n",
       "      <td>...</td>\n",
       "      <td>...</td>\n",
       "    </tr>\n",
       "    <tr>\n",
       "      <th>995</th>\n",
       "      <td>The World Is Flat: A Brief History of the Twen...</td>\n",
       "      <td>3</td>\n",
       "      <td>2.25</td>\n",
       "    </tr>\n",
       "    <tr>\n",
       "      <th>996</th>\n",
       "      <td>Drowning Ruth</td>\n",
       "      <td>3</td>\n",
       "      <td>2.00</td>\n",
       "    </tr>\n",
       "    <tr>\n",
       "      <th>997</th>\n",
       "      <td>His Excellency: George Washington</td>\n",
       "      <td>2</td>\n",
       "      <td>2.00</td>\n",
       "    </tr>\n",
       "    <tr>\n",
       "      <th>998</th>\n",
       "      <td>Junky</td>\n",
       "      <td>2</td>\n",
       "      <td>2.00</td>\n",
       "    </tr>\n",
       "    <tr>\n",
       "      <th>999</th>\n",
       "      <td>Harvesting the Heart</td>\n",
       "      <td>2</td>\n",
       "      <td>1.50</td>\n",
       "    </tr>\n",
       "  </tbody>\n",
       "</table>\n",
       "<p>1000 rows × 3 columns</p>\n",
       "</div>"
      ],
      "text/plain": [
       "                                                 title  review_cnt  rating_avg\n",
       "0                        A Dirty Job (Grim Reaper  #1)           4        5.00\n",
       "1              School's Out—Forever (Maximum Ride  #2)           3        5.00\n",
       "2         Moneyball: The Art of Winning an Unfair Game           3        5.00\n",
       "3                   The Big Bad Wolf  (Alex Cross  #9)           2        5.00\n",
       "4                 Welcome to Temptation (Dempseys  #1)           2        5.00\n",
       "..                                                 ...         ...         ...\n",
       "995  The World Is Flat: A Brief History of the Twen...           3        2.25\n",
       "996                                      Drowning Ruth           3        2.00\n",
       "997                  His Excellency: George Washington           2        2.00\n",
       "998                                              Junky           2        2.00\n",
       "999                               Harvesting the Heart           2        1.50\n",
       "\n",
       "[1000 rows x 3 columns]"
      ]
     },
     "execution_count": 11,
     "metadata": {},
     "output_type": "execute_result"
    }
   ],
   "source": [
    "query = \"\"\"\n",
    "SELECT title,\n",
    "       COUNT(DISTINCT review_id) AS review_cnt,\n",
    "       ROUND(AVG(rating), 2) AS rating_avg\n",
    "FROM books AS b \n",
    "     LEFT JOIN ratings AS r \n",
    "     ON b.book_id = r.book_id\n",
    "     LEFT JOIN reviews AS rv \n",
    "     ON b.book_id = rv.book_id\n",
    "GROUP BY b.book_id\n",
    "ORDER BY rating_avg DESC, \n",
    "         review_cnt DESC\n",
    "\n",
    "\"\"\"\n",
    "response = pd.io.sql.read_sql(query, con = engine)\n",
    "response"
   ]
  },
  {
   "cell_type": "markdown",
   "id": "64503c9c-b22d-47f8-a52c-9438cab81e83",
   "metadata": {},
   "source": [
    "## Вывод \n",
    "Посчитали количество обзоров и средний рейтинг для каждой книги. Вывели информацию по количеству обзоров и рейтингу - по убыванию. "
   ]
  },
  {
   "cell_type": "markdown",
   "id": "93fe425c-9b06-48d3-8494-ea72b7fc971f",
   "metadata": {},
   "source": [
    "## Издательство, выпустившее наибольшее количество книг толщиной более 50 страниц "
   ]
  },
  {
   "cell_type": "code",
   "execution_count": 12,
   "id": "ba13e1d4-7dcc-4f26-9b46-01eec7bbaa43",
   "metadata": {},
   "outputs": [
    {
     "data": {
      "text/html": [
       "<div>\n",
       "<style scoped>\n",
       "    .dataframe tbody tr th:only-of-type {\n",
       "        vertical-align: middle;\n",
       "    }\n",
       "\n",
       "    .dataframe tbody tr th {\n",
       "        vertical-align: top;\n",
       "    }\n",
       "\n",
       "    .dataframe thead th {\n",
       "        text-align: right;\n",
       "    }\n",
       "</style>\n",
       "<table border=\"1\" class=\"dataframe\">\n",
       "  <thead>\n",
       "    <tr style=\"text-align: right;\">\n",
       "      <th></th>\n",
       "      <th>publisher</th>\n",
       "      <th>books_count</th>\n",
       "    </tr>\n",
       "  </thead>\n",
       "  <tbody>\n",
       "    <tr>\n",
       "      <th>0</th>\n",
       "      <td>Penguin Books</td>\n",
       "      <td>42</td>\n",
       "    </tr>\n",
       "  </tbody>\n",
       "</table>\n",
       "</div>"
      ],
      "text/plain": [
       "       publisher  books_count\n",
       "0  Penguin Books           42"
      ]
     },
     "execution_count": 12,
     "metadata": {},
     "output_type": "execute_result"
    }
   ],
   "source": [
    "query = \"\"\"\n",
    "SELECT \n",
    "    p.publisher,\n",
    "    COUNT(b.book_id) AS books_count\n",
    "FROM \n",
    "    publishers p\n",
    "JOIN \n",
    "    books b ON p.publisher_id = b.publisher_id\n",
    "WHERE \n",
    "    b.num_pages > 50\n",
    "GROUP BY \n",
    "    p.publisher_id, p.publisher\n",
    "ORDER BY \n",
    "    books_count DESC\n",
    "LIMIT 1;\n",
    "\n",
    "\"\"\"\n",
    "response = pd.io.sql.read_sql(query, con = engine)\n",
    "response"
   ]
  },
  {
   "cell_type": "markdown",
   "id": "1a04572b-ce2f-4260-b76f-9468b5799f2a",
   "metadata": {},
   "source": [
    "## Вывод \n",
    "Больше всего книг толщиной больше 50 страниц выпустило издательство Penguin Books - 42 книги. "
   ]
  },
  {
   "cell_type": "markdown",
   "id": "ded9d3c1-609f-4ca4-9261-f65f1990a3a9",
   "metadata": {},
   "source": [
    "##  Автор с самой высокой средней оценкой книг \n",
    "Будем учитывать только книги, собравшие больше 50 оценок "
   ]
  },
  {
   "cell_type": "code",
   "execution_count": 13,
   "id": "dd8f04b8-1597-4b4d-b40b-eb361ee18238",
   "metadata": {},
   "outputs": [
    {
     "data": {
      "text/html": [
       "<div>\n",
       "<style scoped>\n",
       "    .dataframe tbody tr th:only-of-type {\n",
       "        vertical-align: middle;\n",
       "    }\n",
       "\n",
       "    .dataframe tbody tr th {\n",
       "        vertical-align: top;\n",
       "    }\n",
       "\n",
       "    .dataframe thead th {\n",
       "        text-align: right;\n",
       "    }\n",
       "</style>\n",
       "<table border=\"1\" class=\"dataframe\">\n",
       "  <thead>\n",
       "    <tr style=\"text-align: right;\">\n",
       "      <th></th>\n",
       "      <th>author</th>\n",
       "      <th>avg_author_rating</th>\n",
       "      <th>qualified_books_count</th>\n",
       "    </tr>\n",
       "  </thead>\n",
       "  <tbody>\n",
       "    <tr>\n",
       "      <th>0</th>\n",
       "      <td>J.K. Rowling/Mary GrandPré</td>\n",
       "      <td>4.28</td>\n",
       "      <td>4</td>\n",
       "    </tr>\n",
       "  </tbody>\n",
       "</table>\n",
       "</div>"
      ],
      "text/plain": [
       "                       author  avg_author_rating  qualified_books_count\n",
       "0  J.K. Rowling/Mary GrandPré               4.28                      4"
      ]
     },
     "execution_count": 13,
     "metadata": {},
     "output_type": "execute_result"
    }
   ],
   "source": [
    "query = \"\"\"\n",
    "WITH rated_books AS (\n",
    "    SELECT \n",
    "        b.book_id,\n",
    "        b.author_id,\n",
    "        b.title,\n",
    "        COUNT(r.rating_id) AS ratings_count,\n",
    "        AVG(r.rating) AS avg_rating\n",
    "    FROM \n",
    "        books b\n",
    "    JOIN \n",
    "        ratings r ON b.book_id = r.book_id\n",
    "    GROUP BY \n",
    "        b.book_id, b.author_id, b.title\n",
    "    HAVING \n",
    "        COUNT(r.rating_id) > 50\n",
    ")\n",
    "SELECT \n",
    "    a.author,\n",
    "    ROUND(AVG(rb.avg_rating), 2) AS avg_author_rating,\n",
    "    COUNT(rb.book_id) AS qualified_books_count\n",
    "FROM \n",
    "    rated_books rb\n",
    "JOIN \n",
    "    authors a ON rb.author_id = a.author_id\n",
    "GROUP BY \n",
    "    a.author_id, a.author\n",
    "ORDER BY \n",
    "    avg_author_rating DESC\n",
    "LIMIT 1;\n",
    "\"\"\"\n",
    "\n",
    "response = pd.io.sql.read_sql(query, con = engine)\n",
    "response"
   ]
  },
  {
   "cell_type": "markdown",
   "id": "58199946-ebc9-4f24-8874-a9f57e6fbc09",
   "metadata": {},
   "source": [
    "## Вывод\n",
    "При учёте книг, собравших больше 50 оценок, самый высокий рейтинг у J.K. Rowling/Mary GrandPré. В подсчёте участвовало 4 книги. "
   ]
  },
  {
   "cell_type": "markdown",
   "id": "982aec3e-8fdf-44fb-a843-8bb4972132d4",
   "metadata": {},
   "source": [
    "## Среднее количество обзоров от пользователей \n",
    "Учитывать будем только пользователей, которые поставили больше 48 оценок. "
   ]
  },
  {
   "cell_type": "code",
   "execution_count": 14,
   "id": "daff4698-9e4a-44b4-b9ae-3ab9034d5049",
   "metadata": {},
   "outputs": [
    {
     "data": {
      "text/html": [
       "<div>\n",
       "<style scoped>\n",
       "    .dataframe tbody tr th:only-of-type {\n",
       "        vertical-align: middle;\n",
       "    }\n",
       "\n",
       "    .dataframe tbody tr th {\n",
       "        vertical-align: top;\n",
       "    }\n",
       "\n",
       "    .dataframe thead th {\n",
       "        text-align: right;\n",
       "    }\n",
       "</style>\n",
       "<table border=\"1\" class=\"dataframe\">\n",
       "  <thead>\n",
       "    <tr style=\"text-align: right;\">\n",
       "      <th></th>\n",
       "      <th>avg_reviews_per_active_user</th>\n",
       "    </tr>\n",
       "  </thead>\n",
       "  <tbody>\n",
       "    <tr>\n",
       "      <th>0</th>\n",
       "      <td>24.0</td>\n",
       "    </tr>\n",
       "  </tbody>\n",
       "</table>\n",
       "</div>"
      ],
      "text/plain": [
       "   avg_reviews_per_active_user\n",
       "0                         24.0"
      ]
     },
     "execution_count": 14,
     "metadata": {},
     "output_type": "execute_result"
    }
   ],
   "source": [
    "query = \"\"\"\n",
    "WITH active_users AS (\n",
    "    SELECT \n",
    "        username,\n",
    "        COUNT(rating_id) AS ratings_count\n",
    "    FROM \n",
    "        ratings\n",
    "    GROUP BY \n",
    "        username\n",
    "    HAVING \n",
    "        COUNT(rating_id) > 48\n",
    "),\n",
    "user_reviews AS (\n",
    "    SELECT \n",
    "        r.username,\n",
    "        COUNT(r.review_id) AS reviews_count\n",
    "    FROM \n",
    "        reviews r\n",
    "    WHERE \n",
    "        r.username IN (SELECT username FROM active_users)\n",
    "    GROUP BY \n",
    "        r.username\n",
    ")\n",
    "SELECT \n",
    "    ROUND(AVG(reviews_count), 2) AS avg_reviews_per_active_user\n",
    "FROM \n",
    "    user_reviews;\n",
    "\"\"\"\n",
    "\n",
    "response = pd.io.sql.read_sql(query, con = engine)\n",
    "response"
   ]
  },
  {
   "cell_type": "markdown",
   "id": "ff89c0bc-3ffd-4aae-ba54-6152ccf6b53b",
   "metadata": {},
   "source": [
    "## Вывод \n",
    "Пользователи, оставившие больше 48 оценок, в среднем пишут по 24 отзыва. "
   ]
  },
  {
   "cell_type": "markdown",
   "id": "fb0dc9b6-cc28-4f3b-b87b-61ebffabf184",
   "metadata": {},
   "source": [
    "# Выводы \n",
    "Собрали необходимую информацию по всем запросам для дальнейшего анализа. "
   ]
  },
  {
   "cell_type": "code",
   "execution_count": null,
   "id": "6e593a94",
   "metadata": {},
   "outputs": [],
   "source": []
  }
 ],
 "metadata": {
  "ExecuteTimeLog": [
   {
    "duration": 238,
    "start_time": "2025-06-03T11:14:59.813Z"
   },
   {
    "duration": 69,
    "start_time": "2025-06-03T11:15:00.053Z"
   },
   {
    "duration": 252,
    "start_time": "2025-06-03T11:15:00.124Z"
   },
   {
    "duration": 71,
    "start_time": "2025-06-03T11:15:00.378Z"
   },
   {
    "duration": 105,
    "start_time": "2025-06-03T11:15:00.451Z"
   },
   {
    "duration": 72,
    "start_time": "2025-06-03T11:15:00.558Z"
   },
   {
    "duration": 5,
    "start_time": "2025-06-03T11:15:00.632Z"
   },
   {
    "duration": 229,
    "start_time": "2025-06-03T11:15:00.639Z"
   },
   {
    "duration": 67,
    "start_time": "2025-06-03T11:15:08.278Z"
   },
   {
    "duration": 103,
    "start_time": "2025-06-03T11:15:09.750Z"
   },
   {
    "duration": 70,
    "start_time": "2025-06-03T11:15:11.102Z"
   },
   {
    "duration": 73,
    "start_time": "2025-06-03T11:15:13.189Z"
   },
   {
    "duration": 70,
    "start_time": "2025-06-03T11:15:14.651Z"
   }
  ],
  "kernelspec": {
   "display_name": "Python 3 (ipykernel)",
   "language": "python",
   "name": "python3"
  },
  "language_info": {
   "codemirror_mode": {
    "name": "ipython",
    "version": 3
   },
   "file_extension": ".py",
   "mimetype": "text/x-python",
   "name": "python",
   "nbconvert_exporter": "python",
   "pygments_lexer": "ipython3",
   "version": "3.9.5"
  },
  "toc": {
   "base_numbering": 1,
   "nav_menu": {},
   "number_sections": true,
   "sideBar": true,
   "skip_h1_title": true,
   "title_cell": "Table of Contents",
   "title_sidebar": "Contents",
   "toc_cell": false,
   "toc_position": {},
   "toc_section_display": true,
   "toc_window_display": false
  }
 },
 "nbformat": 4,
 "nbformat_minor": 5
}
