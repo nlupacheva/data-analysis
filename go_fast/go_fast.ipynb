{
 "cells": [
  {
   "cell_type": "markdown",
   "id": "16f3c4b9",
   "metadata": {},
   "source": [
    "# Проект: Статистический анализ данных\n",
    "В качестве аналитика сервиса аренды самокатов GoFast необходимо исследоватьданные о некоторых пользователях из нескольких городов, а также об их поездках. Необходимо проанализировать данные и проверить некоторые гипотезы, которые могут помочь бизнесу вырасти.    \n",
    "Чтобы совершать поездки по городу, пользователи сервиса GoFast пользуются мобильным приложением. Сервисом можно пользоваться:\n",
    "- без подписки\n",
    "    - абонентская плата отсутствует;\n",
    "    - стоимость одной минуты поездки — 8 рублей;\n",
    "    - стоимость старта (начала поездки) — 50 рублей;\n",
    "- с подпиской Ultra\n",
    "    - абонентская плата — 199 рублей в месяц;\n",
    "    - стоимость одной минуты поездки — 6 рублей;\n",
    "    - стоимость старта — бесплатно.\n",
    "    \n",
    "Продакт-менеджеры сервиса хотят увеличить количество пользователей с подпиской. Для этого они будут проводить различные акции, но сначала нужно выяснить несколько важных моментов.\n",
    "\n",
    "## Описание данных\n",
    "В основных данных есть информация о пользователях, их поездках и подписках, данные представлены разными файлами в формате csv. \n",
    "\n",
    "## План работы \n",
    "В рамках проекта анализа необходимо сделать следующее: загрузить данные, осуществить предобработку и исследовательский анализ данных, подсчитать выручку и отработать гипотезы.\n",
    "1. [x] импортировать данные \n",
    "2. [x] выполнить предобработку данных: привести столбец date к формату pandas, а также добавить столбец date с номером месяца и обработать пропуски и дубликаты \n",
    "3. [x] описать и исследовать следующую информацию: \n",
    "    - [x] частота встречаемости городов;\n",
    "    - [x] соотношение пользователей с подпиской и без подписки;\n",
    "    - [x] возраст пользователей;\n",
    "    - [x] расстояние, которое пользователь преодолел за одну поездку;\n",
    "    - [x] продолжительность поездок.\n",
    "4. [x] объединить данные: \n",
    "    - [x] собрать данные о пользователях, поездках и подписках в один датафрейм\n",
    "    - [x] создать 2 новых датафрейма: \n",
    "        - [x] c данными о пользователях без подписки;\n",
    "        - [x] с данными о пользователях с подпиской.\n",
    "     - [x] визуализировать информацию о расстоянии и времени поездок для пользователей обеих категорий.\n",
    "5. [x] подсчитать выручку: \n",
    "    - [x] создать датафрейм с агрегированными данными о поездках на основе датафрейма с объединёнными данными из шага 4: найти суммарное расстояние, количество поездок и суммарное время для каждого пользователя за каждый месяц.\n",
    "    - [x] В этот же датафрейм добавить столбец с помесячной выручкой, которую принёс каждый пользователь. Для этого нужно обратиться к информации об условиях оплаты для подписчиков и тех, у кого нет подписки. Продолжительность каждой поездки в каждой строке исходного датафрейма для подсчёта стоимости округляется до следующего целого числа: например, значения 25.3, 25.5 и  26.0 должны быть преобразованы к 26.\n",
    "6. [x] Проверить гипотезы\n",
    "    - [x] Важно понять, тратят ли пользователи с подпиской больше времени на поездки? Если да, то пользователи с подпиской могут быть «выгоднее» для компании. Проверьте гипотезу. Используйте исходные данные о продолжительности каждой сессии — отдельно для подписчиков и тех, у кого нет подписки.\n",
    "    - [x]  Расстояние одной поездки в 3130 метров — оптимальное с точки зрения износа самоката. Можно ли сказать, что среднее расстояние, которое проезжают пользователи с подпиской за одну поездку, не превышает 3130 метров? Проверьте гипотезу и сделайте выводы.\n",
    "    - [x] Проверьте гипотезу о том, будет ли помесячная выручка от пользователей с подпиской по месяцам выше, чем выручка от пользователей без подписки. Сделайте вывод.\n",
    "    - [x] Представьте такую ситуацию: техническая команда сервиса обновила сервера, с которыми взаимодействует мобильное приложение. Она надеется, что из-за этого количество обращений в техподдержку значимо снизилось. Некоторый файл содержит для каждого пользователя данные о количестве обращений до обновления и после него. Какой тест вам понадобился бы для проверки этой гипотезы?\n",
    "    \n",
    "Для начала импортируем библиотеки и загрузим данные. "
   ]
  },
  {
   "cell_type": "markdown",
   "id": "5c51c67c",
   "metadata": {},
   "source": []
  },
  {
   "cell_type": "code",
   "execution_count": 19,
   "id": "72576667",
   "metadata": {},
   "outputs": [],
   "source": [
    "import pandas as pd\n",
    "import matplotlib.pyplot as plt\n",
    "import numpy as np\n",
    "from scipy import stats as st\n",
    "from scipy.stats import binom"
   ]
  },
  {
   "cell_type": "markdown",
   "id": "c42cbe00",
   "metadata": {},
   "source": [
    "#### Шаг 1. Загрузка данных"
   ]
  },
  {
   "cell_type": "code",
   "execution_count": 20,
   "id": "eff9f206",
   "metadata": {},
   "outputs": [
    {
     "name": "stdout",
     "output_type": "stream",
     "text": [
      "Информация о пользователях: \n",
      "\n"
     ]
    },
    {
     "data": {
      "text/html": [
       "<div>\n",
       "<style scoped>\n",
       "    .dataframe tbody tr th:only-of-type {\n",
       "        vertical-align: middle;\n",
       "    }\n",
       "\n",
       "    .dataframe tbody tr th {\n",
       "        vertical-align: top;\n",
       "    }\n",
       "\n",
       "    .dataframe thead th {\n",
       "        text-align: right;\n",
       "    }\n",
       "</style>\n",
       "<table border=\"1\" class=\"dataframe\">\n",
       "  <thead>\n",
       "    <tr style=\"text-align: right;\">\n",
       "      <th></th>\n",
       "      <th>user_id</th>\n",
       "      <th>name</th>\n",
       "      <th>age</th>\n",
       "      <th>city</th>\n",
       "      <th>subscription_type</th>\n",
       "    </tr>\n",
       "  </thead>\n",
       "  <tbody>\n",
       "    <tr>\n",
       "      <th>0</th>\n",
       "      <td>1</td>\n",
       "      <td>Кира</td>\n",
       "      <td>22</td>\n",
       "      <td>Тюмень</td>\n",
       "      <td>ultra</td>\n",
       "    </tr>\n",
       "    <tr>\n",
       "      <th>1</th>\n",
       "      <td>2</td>\n",
       "      <td>Станислав</td>\n",
       "      <td>31</td>\n",
       "      <td>Омск</td>\n",
       "      <td>ultra</td>\n",
       "    </tr>\n",
       "    <tr>\n",
       "      <th>2</th>\n",
       "      <td>3</td>\n",
       "      <td>Алексей</td>\n",
       "      <td>20</td>\n",
       "      <td>Москва</td>\n",
       "      <td>ultra</td>\n",
       "    </tr>\n",
       "    <tr>\n",
       "      <th>3</th>\n",
       "      <td>4</td>\n",
       "      <td>Константин</td>\n",
       "      <td>26</td>\n",
       "      <td>Ростов-на-Дону</td>\n",
       "      <td>ultra</td>\n",
       "    </tr>\n",
       "    <tr>\n",
       "      <th>4</th>\n",
       "      <td>5</td>\n",
       "      <td>Адель</td>\n",
       "      <td>28</td>\n",
       "      <td>Омск</td>\n",
       "      <td>ultra</td>\n",
       "    </tr>\n",
       "  </tbody>\n",
       "</table>\n",
       "</div>"
      ],
      "text/plain": [
       "   user_id        name  age            city subscription_type\n",
       "0        1        Кира   22          Тюмень             ultra\n",
       "1        2   Станислав   31            Омск             ultra\n",
       "2        3     Алексей   20          Москва             ultra\n",
       "3        4  Константин   26  Ростов-на-Дону             ultra\n",
       "4        5       Адель   28            Омск             ultra"
      ]
     },
     "metadata": {},
     "output_type": "display_data"
    },
    {
     "name": "stdout",
     "output_type": "stream",
     "text": [
      "\n",
      "\n",
      "Информация о поездках: \n",
      "\n"
     ]
    },
    {
     "data": {
      "text/html": [
       "<div>\n",
       "<style scoped>\n",
       "    .dataframe tbody tr th:only-of-type {\n",
       "        vertical-align: middle;\n",
       "    }\n",
       "\n",
       "    .dataframe tbody tr th {\n",
       "        vertical-align: top;\n",
       "    }\n",
       "\n",
       "    .dataframe thead th {\n",
       "        text-align: right;\n",
       "    }\n",
       "</style>\n",
       "<table border=\"1\" class=\"dataframe\">\n",
       "  <thead>\n",
       "    <tr style=\"text-align: right;\">\n",
       "      <th></th>\n",
       "      <th>user_id</th>\n",
       "      <th>distance</th>\n",
       "      <th>duration</th>\n",
       "      <th>date</th>\n",
       "    </tr>\n",
       "  </thead>\n",
       "  <tbody>\n",
       "    <tr>\n",
       "      <th>0</th>\n",
       "      <td>1</td>\n",
       "      <td>4409.919140</td>\n",
       "      <td>25.599769</td>\n",
       "      <td>2021-01-01</td>\n",
       "    </tr>\n",
       "    <tr>\n",
       "      <th>1</th>\n",
       "      <td>1</td>\n",
       "      <td>2617.592153</td>\n",
       "      <td>15.816871</td>\n",
       "      <td>2021-01-18</td>\n",
       "    </tr>\n",
       "    <tr>\n",
       "      <th>2</th>\n",
       "      <td>1</td>\n",
       "      <td>754.159807</td>\n",
       "      <td>6.232113</td>\n",
       "      <td>2021-04-20</td>\n",
       "    </tr>\n",
       "    <tr>\n",
       "      <th>3</th>\n",
       "      <td>1</td>\n",
       "      <td>2694.783254</td>\n",
       "      <td>18.511000</td>\n",
       "      <td>2021-08-11</td>\n",
       "    </tr>\n",
       "    <tr>\n",
       "      <th>4</th>\n",
       "      <td>1</td>\n",
       "      <td>4028.687306</td>\n",
       "      <td>26.265803</td>\n",
       "      <td>2021-08-28</td>\n",
       "    </tr>\n",
       "  </tbody>\n",
       "</table>\n",
       "</div>"
      ],
      "text/plain": [
       "   user_id     distance   duration        date\n",
       "0        1  4409.919140  25.599769  2021-01-01\n",
       "1        1  2617.592153  15.816871  2021-01-18\n",
       "2        1   754.159807   6.232113  2021-04-20\n",
       "3        1  2694.783254  18.511000  2021-08-11\n",
       "4        1  4028.687306  26.265803  2021-08-28"
      ]
     },
     "metadata": {},
     "output_type": "display_data"
    },
    {
     "name": "stdout",
     "output_type": "stream",
     "text": [
      "\n",
      "\n",
      "Информация о подписках:\n"
     ]
    },
    {
     "data": {
      "text/html": [
       "<div>\n",
       "<style scoped>\n",
       "    .dataframe tbody tr th:only-of-type {\n",
       "        vertical-align: middle;\n",
       "    }\n",
       "\n",
       "    .dataframe tbody tr th {\n",
       "        vertical-align: top;\n",
       "    }\n",
       "\n",
       "    .dataframe thead th {\n",
       "        text-align: right;\n",
       "    }\n",
       "</style>\n",
       "<table border=\"1\" class=\"dataframe\">\n",
       "  <thead>\n",
       "    <tr style=\"text-align: right;\">\n",
       "      <th></th>\n",
       "      <th>subscription_type</th>\n",
       "      <th>minute_price</th>\n",
       "      <th>start_ride_price</th>\n",
       "      <th>subscription_fee</th>\n",
       "    </tr>\n",
       "  </thead>\n",
       "  <tbody>\n",
       "    <tr>\n",
       "      <th>0</th>\n",
       "      <td>free</td>\n",
       "      <td>8</td>\n",
       "      <td>50</td>\n",
       "      <td>0</td>\n",
       "    </tr>\n",
       "    <tr>\n",
       "      <th>1</th>\n",
       "      <td>ultra</td>\n",
       "      <td>6</td>\n",
       "      <td>0</td>\n",
       "      <td>199</td>\n",
       "    </tr>\n",
       "  </tbody>\n",
       "</table>\n",
       "</div>"
      ],
      "text/plain": [
       "  subscription_type  minute_price  start_ride_price  subscription_fee\n",
       "0              free             8                50                 0\n",
       "1             ultra             6                 0               199"
      ]
     },
     "metadata": {},
     "output_type": "display_data"
    }
   ],
   "source": [
    "users_go = pd.read_csv('/datasets/users_go.csv')\n",
    "print('Информация о пользователях: \\n')\n",
    "display(users_go.head(5))\n",
    "rides_go = pd.read_csv('/datasets/rides_go.csv')\n",
    "print('\\n\\nИнформация о поездках: \\n')\n",
    "display(rides_go.head(5))\n",
    "subscriptions_go = pd.read_csv('/datasets/subscriptions_go.csv')\n",
    "print('\\n\\nИнформация о подписках:')\n",
    "display(subscriptions_go.head(5))"
   ]
  },
  {
   "cell_type": "code",
   "execution_count": 21,
   "id": "2e5c9574",
   "metadata": {},
   "outputs": [
    {
     "name": "stdout",
     "output_type": "stream",
     "text": [
      "Информация о пользователях: \n",
      "\n",
      "<class 'pandas.core.frame.DataFrame'>\n",
      "RangeIndex: 1565 entries, 0 to 1564\n",
      "Data columns (total 5 columns):\n",
      " #   Column             Non-Null Count  Dtype \n",
      "---  ------             --------------  ----- \n",
      " 0   user_id            1565 non-null   int64 \n",
      " 1   name               1565 non-null   object\n",
      " 2   age                1565 non-null   int64 \n",
      " 3   city               1565 non-null   object\n",
      " 4   subscription_type  1565 non-null   object\n",
      "dtypes: int64(2), object(3)\n",
      "memory usage: 61.3+ KB\n",
      "\n",
      "\n",
      "Информация о поездках: \n",
      "\n",
      "<class 'pandas.core.frame.DataFrame'>\n",
      "RangeIndex: 18068 entries, 0 to 18067\n",
      "Data columns (total 4 columns):\n",
      " #   Column    Non-Null Count  Dtype  \n",
      "---  ------    --------------  -----  \n",
      " 0   user_id   18068 non-null  int64  \n",
      " 1   distance  18068 non-null  float64\n",
      " 2   duration  18068 non-null  float64\n",
      " 3   date      18068 non-null  object \n",
      "dtypes: float64(2), int64(1), object(1)\n",
      "memory usage: 564.8+ KB\n"
     ]
    }
   ],
   "source": [
    "# выведем также общую информацию о данных пользователей и поездок. \n",
    "# В таблице подписок всего две строки, поэтому без сводной информации о ней можем обойтись\n",
    "print('Информация о пользователях: \\n')\n",
    "users_go.info()\n",
    "print('\\n\\nИнформация о поездках: \\n')\n",
    "rides_go.info()"
   ]
  },
  {
   "cell_type": "markdown",
   "id": "1d016dba",
   "metadata": {},
   "source": [
    "**Общий вывод по этапу**: Загрузили данные, видим, что нет явных проблем с наименованием столбцов, их преобразование не требуется.  Также видим, что в данных нет пропусков, у нас есть 1565 строк с информацией о пользователях и 18068 строк с информацией о поездках.  \n",
    "Можем переходить к следующему этапу."
   ]
  },
  {
   "cell_type": "markdown",
   "id": "e95ebca7",
   "metadata": {},
   "source": [
    "#### Шаг 2. Предобработка данных\n",
    "На данном этапе необходимо сделать следующее: привести столбец date к формату pandas, а также добавить столбец date с номером месяца и обработать пропуски и дубликаты.    \n",
    "Начнём с обработки дат."
   ]
  },
  {
   "cell_type": "code",
   "execution_count": 22,
   "id": "af6d202c",
   "metadata": {},
   "outputs": [
    {
     "data": {
      "text/html": [
       "<div>\n",
       "<style scoped>\n",
       "    .dataframe tbody tr th:only-of-type {\n",
       "        vertical-align: middle;\n",
       "    }\n",
       "\n",
       "    .dataframe tbody tr th {\n",
       "        vertical-align: top;\n",
       "    }\n",
       "\n",
       "    .dataframe thead th {\n",
       "        text-align: right;\n",
       "    }\n",
       "</style>\n",
       "<table border=\"1\" class=\"dataframe\">\n",
       "  <thead>\n",
       "    <tr style=\"text-align: right;\">\n",
       "      <th></th>\n",
       "      <th>user_id</th>\n",
       "      <th>distance</th>\n",
       "      <th>duration</th>\n",
       "      <th>date</th>\n",
       "      <th>month</th>\n",
       "    </tr>\n",
       "  </thead>\n",
       "  <tbody>\n",
       "    <tr>\n",
       "      <th>0</th>\n",
       "      <td>1</td>\n",
       "      <td>4409.919140</td>\n",
       "      <td>25.599769</td>\n",
       "      <td>2021-01-01</td>\n",
       "      <td>1</td>\n",
       "    </tr>\n",
       "    <tr>\n",
       "      <th>1</th>\n",
       "      <td>1</td>\n",
       "      <td>2617.592153</td>\n",
       "      <td>15.816871</td>\n",
       "      <td>2021-01-18</td>\n",
       "      <td>1</td>\n",
       "    </tr>\n",
       "    <tr>\n",
       "      <th>2</th>\n",
       "      <td>1</td>\n",
       "      <td>754.159807</td>\n",
       "      <td>6.232113</td>\n",
       "      <td>2021-04-20</td>\n",
       "      <td>4</td>\n",
       "    </tr>\n",
       "    <tr>\n",
       "      <th>3</th>\n",
       "      <td>1</td>\n",
       "      <td>2694.783254</td>\n",
       "      <td>18.511000</td>\n",
       "      <td>2021-08-11</td>\n",
       "      <td>8</td>\n",
       "    </tr>\n",
       "    <tr>\n",
       "      <th>4</th>\n",
       "      <td>1</td>\n",
       "      <td>4028.687306</td>\n",
       "      <td>26.265803</td>\n",
       "      <td>2021-08-28</td>\n",
       "      <td>8</td>\n",
       "    </tr>\n",
       "  </tbody>\n",
       "</table>\n",
       "</div>"
      ],
      "text/plain": [
       "   user_id     distance   duration       date  month\n",
       "0        1  4409.919140  25.599769 2021-01-01      1\n",
       "1        1  2617.592153  15.816871 2021-01-18      1\n",
       "2        1   754.159807   6.232113 2021-04-20      4\n",
       "3        1  2694.783254  18.511000 2021-08-11      8\n",
       "4        1  4028.687306  26.265803 2021-08-28      8"
      ]
     },
     "metadata": {},
     "output_type": "display_data"
    }
   ],
   "source": [
    "# преобразуем дату в таблице поездок \n",
    "rides_go['date'] = pd.to_datetime(rides_go['date'], format = '%Y-%m-%d')\n",
    "# добавляем номер месяца в таблицу\n",
    "rides_go['month'] = rides_go['date'].dt.month\n",
    "display(rides_go.head(5))"
   ]
  },
  {
   "cell_type": "markdown",
   "id": "d8114c52",
   "metadata": {},
   "source": []
  },
  {
   "cell_type": "markdown",
   "id": "76fbc76b",
   "metadata": {},
   "source": [
    "C форматом даты разобрались, теперь изучим явные дубликаты и пропуски. "
   ]
  },
  {
   "cell_type": "code",
   "execution_count": 23,
   "id": "fde0c072",
   "metadata": {},
   "outputs": [
    {
     "name": "stdout",
     "output_type": "stream",
     "text": [
      "Дубликаты в users_go - 31\n",
      "Дубликаты rides_go - 0\n"
     ]
    }
   ],
   "source": [
    "print('Дубликаты в users_go -', users_go.duplicated().sum())\n",
    "print('Дубликаты rides_go -', rides_go.duplicated().sum())"
   ]
  },
  {
   "cell_type": "markdown",
   "id": "fa46abf0",
   "metadata": {},
   "source": [
    "Нет явных дубликатов в rides_go, а в users_go 31 дубликат. Удалим их: "
   ]
  },
  {
   "cell_type": "code",
   "execution_count": 24,
   "id": "4b80c49c",
   "metadata": {},
   "outputs": [
    {
     "name": "stdout",
     "output_type": "stream",
     "text": [
      "Дубликаты в users_go - 0\n"
     ]
    }
   ],
   "source": [
    "users_go = users_go.drop_duplicates().reset_index(drop = True)\n",
    "# проверим, что дубликатов больше нет \n",
    "print('Дубликаты в users_go -', users_go.duplicated().sum())"
   ]
  },
  {
   "cell_type": "markdown",
   "id": "2bc745a5",
   "metadata": {},
   "source": [
    "**Общий вывод по этапу**: Провели предобработку данных: привели столбец date к нужному формату, для удобства дальнейшего анализа добавили столбец с номером месяца в информацию о поездках. Избавились от явных дубликатов в таблице с информацией о пользователях. Можно приступать к исследовательскому анализу данных."
   ]
  },
  {
   "cell_type": "markdown",
   "id": "212593c7",
   "metadata": {},
   "source": [
    "#### Шаг 3. Исследовательский анализ данных\n",
    "Выведем информацию о частоте встречаемости городов, в которых живут пользователи сервиса. "
   ]
  },
  {
   "cell_type": "code",
   "execution_count": 25,
   "id": "5d6507e8",
   "metadata": {},
   "outputs": [
    {
     "data": {
      "image/png": "[encoded data removed]",
      "text/plain": [
       "<Figure size 1080x360 with 1 Axes>"
      ]
     },
     "metadata": {
      "needs_background": "light"
     },
     "output_type": "display_data"
    }
   ],
   "source": [
    "# как во всех предыдущих проектах, завожу функцию для отрисовки гистограммы,\n",
    "# чтобы не указывать размер каждый раз\n",
    "def draw_hist(dataset, col):\n",
    "    dataset[col].hist(bins=100, figsize=(15,5))\n",
    "draw_hist(users_go, 'city')\n",
    "plt.title(\"частота встречаемости городов\")\n",
    "plt.xlabel(\"название города\")\n",
    "plt.ylabel(\"частота встречаемости\")\n",
    "plt.show()"
   ]
  },
  {
   "cell_type": "code",
   "execution_count": 26,
   "id": "04e2618c",
   "metadata": {},
   "outputs": [
    {
     "name": "stdout",
     "output_type": "stream",
     "text": [
      "city\n",
      "Пятигорск         219\n",
      "Екатеринбург      204\n",
      "Ростов-на-Дону    198\n",
      "Краснодар         193\n",
      "Сочи              189\n",
      "Омск              183\n",
      "Тюмень            180\n",
      "Москва            168\n",
      "Name: city, dtype: int64\n"
     ]
    }
   ],
   "source": [
    "# вижу, что городов немного, на всякий случай выведу ещё конкретные числовые значения \n",
    "print(users_go.groupby('city')['city'].count().sort_values(ascending = False))"
   ]
  },
  {
   "cell_type": "markdown",
   "id": "60cd7458",
   "metadata": {},
   "source": [
    "**Вывод по полю:** самый часто встречающийся в данных город - Пятигорск. Оттуда больше всего самокатчиков. Удивительно, что заваленная самокатами Москва находится на последнем месте, а Санкт-Петербург в выборку вообще не попал. Возможно, это связано с тем, как ведёт бизнес данный сервис - возможно, в Петербург он ещё не пробрался, а в Москве только развивается. \n",
    "\n",
    "Изучим соотношение количества пользователей с подпиской и без подписки. Данные о типе подписки пользователя мы тоже можем почерпнуть из таблицы users_go."
   ]
  },
  {
   "cell_type": "code",
   "execution_count": 27,
   "id": "fda8640c",
   "metadata": {},
   "outputs": [
    {
     "name": "stdout",
     "output_type": "stream",
     "text": [
      "subscription_type\n",
      "free     835\n",
      "ultra    699\n",
      "Name: subscription_type, dtype: int64\n"
     ]
    }
   ],
   "source": [
    "# выведем информацию по количеству пользователей с подпиской и без\n",
    "print(users_go.groupby('subscription_type')['subscription_type'].count().sort_values(ascending = False))"
   ]
  },
  {
   "cell_type": "code",
   "execution_count": 28,
   "id": "951649c9",
   "metadata": {},
   "outputs": [
    {
     "data": {
      "image/png": "[encoded data removed]",
      "text/plain": [
       "<Figure size 1080x360 with 1 Axes>"
      ]
     },
     "metadata": {
      "needs_background": "light"
     },
     "output_type": "display_data"
    },
    {
     "data": {
      "image/png": "[encoded data removed]",
      "text/plain": [
       "<Figure size 432x288 with 1 Axes>"
      ]
     },
     "metadata": {},
     "output_type": "display_data"
    }
   ],
   "source": [
    "# выведем это гистограммой и красивым пайчартом \n",
    "draw_hist(users_go, 'subscription_type')\n",
    "plt.title(\"пользователи с подпиской и без\")\n",
    "plt.xlabel(\"тип подписки\")\n",
    "plt.ylabel(\"количество пользователей\")\n",
    "plt.show()\n",
    "# для пайчарта использую полученные ранее числа, поскольку типов подписки всего 2. Добавлю процент \n",
    "plt.pie([835, 699], labels = ['free', 'ultra'], autopct='%.2f')\n",
    "plt.show()"
   ]
  },
  {
   "cell_type": "markdown",
   "id": "dd4ed150",
   "metadata": {},
   "source": [
    "**Обший вывод по полю**: сложно сказать, что пользователей с подпиской значительно больше, но разница в количестве пользователей с подпиской и без точно ощутимая. почти 55 процентов пользователей взаимодействуют с сервисом без подписки \n",
    "\n",
    "Изучим возраст пользователей. Делать мы это будем снова по таблице users_go"
   ]
  },
  {
   "cell_type": "code",
   "execution_count": 29,
   "id": "4f48f3c6",
   "metadata": {},
   "outputs": [
    {
     "data": {
      "image/png": "[encoded data removed]",
      "text/plain": [
       "<Figure size 1080x360 with 1 Axes>"
      ]
     },
     "metadata": {
      "needs_background": "light"
     },
     "output_type": "display_data"
    },
    {
     "name": "stdout",
     "output_type": "stream",
     "text": [
      "Количество несовершеннолетних пользователей -  79\n"
     ]
    }
   ],
   "source": [
    "draw_hist(users_go, 'age')\n",
    "plt.title(\"Возраст пользователей\")\n",
    "plt.xlabel(\"Возраст\")\n",
    "plt.ylabel(\"количество пользователей\")\n",
    "plt.show()\n",
    "print('Количество несовершеннолетних пользователей - ', len(users_go.query('age < 18')))"
   ]
  },
  {
   "cell_type": "markdown",
   "id": "a7584c78",
   "metadata": {},
   "source": [
    "**Общий вывод по полю**: Самые часто встречающиеся в выборке клиенты сервиса - пользователи в возрасте около 25 лет. \n",
    "Дополнительно отметим, что, судя по данным, сервис позволяет пользоваться своими услугами несовершеннолетним или не требует обязательной верификации пользователей.   \n",
    "Далее изучим расстояние, которое пользователь преодолел за одну поездку - делать это будем по таблице rides_go. "
   ]
  },
  {
   "cell_type": "markdown",
   "id": "eb60faaf",
   "metadata": {},
   "source": []
  },
  {
   "cell_type": "code",
   "execution_count": 30,
   "id": "c78945d1",
   "metadata": {},
   "outputs": [
    {
     "data": {
      "image/png": "[encoded data removed]",
      "text/plain": [
       "<Figure size 1080x360 with 1 Axes>"
      ]
     },
     "metadata": {
      "needs_background": "light"
     },
     "output_type": "display_data"
    }
   ],
   "source": [
    "draw_hist(rides_go, 'distance')\n",
    "plt.title(\"Расстояние одной поездки\")\n",
    "plt.xlabel(\"Расстояние\")\n",
    "plt.ylabel(\"частота встречаемости\")\n",
    "plt.show()"
   ]
  },
  {
   "cell_type": "markdown",
   "id": "3f61d789",
   "metadata": {},
   "source": [
    "**Общий вывод по полю**: в основном пользователи совершают поездки на расстояние, близкое к 3 километрам. Также есть небольшой пик в распределении по расстоянию до километра - похоже, это может быть вызвано тем, что пользователи арендовали самокат просто попробовать покататься на коротком расстоянии, либо арендовали самокат и передумали, либо самокат оказался неисправен/разряжен, и пользователь не поехал.   \n",
    "Изучим продолжительность поездок. "
   ]
  },
  {
   "cell_type": "markdown",
   "id": "45867279",
   "metadata": {},
   "source": []
  },
  {
   "cell_type": "code",
   "execution_count": 31,
   "id": "7807a5b4",
   "metadata": {},
   "outputs": [
    {
     "data": {
      "image/png": "[encoded data removed]",
      "text/plain": [
       "<Figure size 1080x360 with 1 Axes>"
      ]
     },
     "metadata": {
      "needs_background": "light"
     },
     "output_type": "display_data"
    }
   ],
   "source": [
    "draw_hist(rides_go, 'duration')\n",
    "plt.title(\"Длительность одной поездки\")\n",
    "plt.xlabel(\"Длительность\")\n",
    "plt.ylabel(\"частота встречаемости\")\n",
    "plt.show()"
   ]
  },
  {
   "cell_type": "markdown",
   "id": "974313f1",
   "metadata": {},
   "source": [
    "**Общий вывод по полю**: Чаще всего пользователи совершают поездки длиной 13-20 минут. Есть небольшой пик в районе нулевой длительности, он может быть связан с тем, что пользователь арендовал самокат, нашёл какую-то сложность с ним (разряжен, грязный, и тд) и отменил поездку. \n",
    "\n",
    "**Общий вывод по разделу**: Изучили тенденции в данных, обнаружили следующие закономерности: \n",
    "- Наибольшее количество пользователей находится в Пятигорске и Екатеринбурге. В Москве находится наименьшее количество пользователей.\n",
    "- Пользователей без подписки больше, чем тех, кто платит за подписку на самокаты - почти 55% против 45% пользователей. \n",
    "- Средний возраст пользователей - в районе 25 лет \n",
    "- Сервисом пользуются несовершеннолетние \n",
    "- В основном пользователи проезжают на самокате около 3 километров \n",
    "- В основном поездка занимает 13-20 минут. "
   ]
  },
  {
   "cell_type": "markdown",
   "id": "290c3b75",
   "metadata": {},
   "source": []
  },
  {
   "cell_type": "markdown",
   "id": "4ef51331",
   "metadata": {},
   "source": [
    "#### Шаг 4. Объединение данных\n",
    "В рамках данного раздела нам предстоит объединить данные в один датафрейм методом merge(), а затем разбить полученный датафрейм на 2 - по типу пользователей, с подпиской и без. В конце этапа визуализируем информацию о времени и расстоянии поездок для пользователей обеих категорий. "
   ]
  },
  {
   "cell_type": "code",
   "execution_count": 32,
   "id": "3066ba72",
   "metadata": {},
   "outputs": [
    {
     "name": "stdout",
     "output_type": "stream",
     "text": [
      "<class 'pandas.core.frame.DataFrame'>\n",
      "RangeIndex: 18068 entries, 0 to 18067\n",
      "Data columns (total 5 columns):\n",
      " #   Column    Non-Null Count  Dtype         \n",
      "---  ------    --------------  -----         \n",
      " 0   user_id   18068 non-null  int64         \n",
      " 1   distance  18068 non-null  float64       \n",
      " 2   duration  18068 non-null  float64       \n",
      " 3   date      18068 non-null  datetime64[ns]\n",
      " 4   month     18068 non-null  int64         \n",
      "dtypes: datetime64[ns](1), float64(2), int64(2)\n",
      "memory usage: 705.9 KB\n"
     ]
    },
    {
     "data": {
      "text/plain": [
       "None"
      ]
     },
     "metadata": {},
     "output_type": "display_data"
    },
    {
     "name": "stdout",
     "output_type": "stream",
     "text": [
      "<class 'pandas.core.frame.DataFrame'>\n",
      "RangeIndex: 1534 entries, 0 to 1533\n",
      "Data columns (total 5 columns):\n",
      " #   Column             Non-Null Count  Dtype \n",
      "---  ------             --------------  ----- \n",
      " 0   user_id            1534 non-null   int64 \n",
      " 1   name               1534 non-null   object\n",
      " 2   age                1534 non-null   int64 \n",
      " 3   city               1534 non-null   object\n",
      " 4   subscription_type  1534 non-null   object\n",
      "dtypes: int64(2), object(3)\n",
      "memory usage: 60.0+ KB\n"
     ]
    },
    {
     "data": {
      "text/plain": [
       "None"
      ]
     },
     "metadata": {},
     "output_type": "display_data"
    },
    {
     "name": "stdout",
     "output_type": "stream",
     "text": [
      "<class 'pandas.core.frame.DataFrame'>\n",
      "RangeIndex: 2 entries, 0 to 1\n",
      "Data columns (total 4 columns):\n",
      " #   Column             Non-Null Count  Dtype \n",
      "---  ------             --------------  ----- \n",
      " 0   subscription_type  2 non-null      object\n",
      " 1   minute_price       2 non-null      int64 \n",
      " 2   start_ride_price   2 non-null      int64 \n",
      " 3   subscription_fee   2 non-null      int64 \n",
      "dtypes: int64(3), object(1)\n",
      "memory usage: 192.0+ bytes\n"
     ]
    },
    {
     "data": {
      "text/plain": [
       "None"
      ]
     },
     "metadata": {},
     "output_type": "display_data"
    }
   ],
   "source": [
    "# ещё раз выведем информацию о количестве строк в таблицах, которые собираемся объединить\n",
    "display(rides_go.info())\n",
    "display(users_go.info())\n",
    "display(subscriptions_go.info())"
   ]
  },
  {
   "cell_type": "markdown",
   "id": "26dbfdea",
   "metadata": {},
   "source": [
    "<font color=#3CB371>Видим 18068 строк в таблице поездок, 1534 пользователей и 2 строки в таблице с тарифами. Ожидаем, что при объединении количество строк в итоговом датасете будет равно максимальному количеству среди всех объединяемых таблиц, т.е. по количеству поездок. Это логично, в итоге мы должны получить информацию о поездках, и каждая поездка будет обогащена деталями о пользователе и его подписке, по сути денормализуем нашу маленькую базу данных.</font> "
   ]
  },
  {
   "cell_type": "code",
   "execution_count": 33,
   "id": "6bf288b5",
   "metadata": {},
   "outputs": [
    {
     "data": {
      "text/html": [
       "<div>\n",
       "<style scoped>\n",
       "    .dataframe tbody tr th:only-of-type {\n",
       "        vertical-align: middle;\n",
       "    }\n",
       "\n",
       "    .dataframe tbody tr th {\n",
       "        vertical-align: top;\n",
       "    }\n",
       "\n",
       "    .dataframe thead th {\n",
       "        text-align: right;\n",
       "    }\n",
       "</style>\n",
       "<table border=\"1\" class=\"dataframe\">\n",
       "  <thead>\n",
       "    <tr style=\"text-align: right;\">\n",
       "      <th></th>\n",
       "      <th>user_id</th>\n",
       "      <th>name</th>\n",
       "      <th>age</th>\n",
       "      <th>city</th>\n",
       "      <th>subscription_type</th>\n",
       "      <th>distance</th>\n",
       "      <th>duration</th>\n",
       "      <th>date</th>\n",
       "      <th>month</th>\n",
       "    </tr>\n",
       "  </thead>\n",
       "  <tbody>\n",
       "    <tr>\n",
       "      <th>0</th>\n",
       "      <td>1</td>\n",
       "      <td>Кира</td>\n",
       "      <td>22</td>\n",
       "      <td>Тюмень</td>\n",
       "      <td>ultra</td>\n",
       "      <td>4409.919140</td>\n",
       "      <td>25.599769</td>\n",
       "      <td>2021-01-01</td>\n",
       "      <td>1</td>\n",
       "    </tr>\n",
       "    <tr>\n",
       "      <th>1</th>\n",
       "      <td>1</td>\n",
       "      <td>Кира</td>\n",
       "      <td>22</td>\n",
       "      <td>Тюмень</td>\n",
       "      <td>ultra</td>\n",
       "      <td>2617.592153</td>\n",
       "      <td>15.816871</td>\n",
       "      <td>2021-01-18</td>\n",
       "      <td>1</td>\n",
       "    </tr>\n",
       "    <tr>\n",
       "      <th>2</th>\n",
       "      <td>1</td>\n",
       "      <td>Кира</td>\n",
       "      <td>22</td>\n",
       "      <td>Тюмень</td>\n",
       "      <td>ultra</td>\n",
       "      <td>754.159807</td>\n",
       "      <td>6.232113</td>\n",
       "      <td>2021-04-20</td>\n",
       "      <td>4</td>\n",
       "    </tr>\n",
       "    <tr>\n",
       "      <th>3</th>\n",
       "      <td>1</td>\n",
       "      <td>Кира</td>\n",
       "      <td>22</td>\n",
       "      <td>Тюмень</td>\n",
       "      <td>ultra</td>\n",
       "      <td>2694.783254</td>\n",
       "      <td>18.511000</td>\n",
       "      <td>2021-08-11</td>\n",
       "      <td>8</td>\n",
       "    </tr>\n",
       "    <tr>\n",
       "      <th>4</th>\n",
       "      <td>1</td>\n",
       "      <td>Кира</td>\n",
       "      <td>22</td>\n",
       "      <td>Тюмень</td>\n",
       "      <td>ultra</td>\n",
       "      <td>4028.687306</td>\n",
       "      <td>26.265803</td>\n",
       "      <td>2021-08-28</td>\n",
       "      <td>8</td>\n",
       "    </tr>\n",
       "  </tbody>\n",
       "</table>\n",
       "</div>"
      ],
      "text/plain": [
       "   user_id  name  age    city subscription_type     distance   duration  \\\n",
       "0        1  Кира   22  Тюмень             ultra  4409.919140  25.599769   \n",
       "1        1  Кира   22  Тюмень             ultra  2617.592153  15.816871   \n",
       "2        1  Кира   22  Тюмень             ultra   754.159807   6.232113   \n",
       "3        1  Кира   22  Тюмень             ultra  2694.783254  18.511000   \n",
       "4        1  Кира   22  Тюмень             ultra  4028.687306  26.265803   \n",
       "\n",
       "        date  month  \n",
       "0 2021-01-01      1  \n",
       "1 2021-01-18      1  \n",
       "2 2021-04-20      4  \n",
       "3 2021-08-11      8  \n",
       "4 2021-08-28      8  "
      ]
     },
     "metadata": {},
     "output_type": "display_data"
    },
    {
     "name": "stdout",
     "output_type": "stream",
     "text": [
      "<class 'pandas.core.frame.DataFrame'>\n",
      "Int64Index: 18068 entries, 0 to 18067\n",
      "Data columns (total 9 columns):\n",
      " #   Column             Non-Null Count  Dtype         \n",
      "---  ------             --------------  -----         \n",
      " 0   user_id            18068 non-null  int64         \n",
      " 1   name               18068 non-null  object        \n",
      " 2   age                18068 non-null  int64         \n",
      " 3   city               18068 non-null  object        \n",
      " 4   subscription_type  18068 non-null  object        \n",
      " 5   distance           18068 non-null  float64       \n",
      " 6   duration           18068 non-null  float64       \n",
      " 7   date               18068 non-null  datetime64[ns]\n",
      " 8   month              18068 non-null  int64         \n",
      "dtypes: datetime64[ns](1), float64(2), int64(3), object(3)\n",
      "memory usage: 1.4+ MB\n"
     ]
    },
    {
     "data": {
      "text/html": [
       "<div>\n",
       "<style scoped>\n",
       "    .dataframe tbody tr th:only-of-type {\n",
       "        vertical-align: middle;\n",
       "    }\n",
       "\n",
       "    .dataframe tbody tr th {\n",
       "        vertical-align: top;\n",
       "    }\n",
       "\n",
       "    .dataframe thead th {\n",
       "        text-align: right;\n",
       "    }\n",
       "</style>\n",
       "<table border=\"1\" class=\"dataframe\">\n",
       "  <thead>\n",
       "    <tr style=\"text-align: right;\">\n",
       "      <th></th>\n",
       "      <th>user_id</th>\n",
       "      <th>name</th>\n",
       "      <th>age</th>\n",
       "      <th>city</th>\n",
       "      <th>subscription_type</th>\n",
       "      <th>distance</th>\n",
       "      <th>duration</th>\n",
       "      <th>date</th>\n",
       "      <th>month</th>\n",
       "      <th>minute_price</th>\n",
       "      <th>start_ride_price</th>\n",
       "      <th>subscription_fee</th>\n",
       "    </tr>\n",
       "  </thead>\n",
       "  <tbody>\n",
       "    <tr>\n",
       "      <th>0</th>\n",
       "      <td>1</td>\n",
       "      <td>Кира</td>\n",
       "      <td>22</td>\n",
       "      <td>Тюмень</td>\n",
       "      <td>ultra</td>\n",
       "      <td>4409.919140</td>\n",
       "      <td>25.599769</td>\n",
       "      <td>2021-01-01</td>\n",
       "      <td>1</td>\n",
       "      <td>6</td>\n",
       "      <td>0</td>\n",
       "      <td>199</td>\n",
       "    </tr>\n",
       "    <tr>\n",
       "      <th>1</th>\n",
       "      <td>1</td>\n",
       "      <td>Кира</td>\n",
       "      <td>22</td>\n",
       "      <td>Тюмень</td>\n",
       "      <td>ultra</td>\n",
       "      <td>2617.592153</td>\n",
       "      <td>15.816871</td>\n",
       "      <td>2021-01-18</td>\n",
       "      <td>1</td>\n",
       "      <td>6</td>\n",
       "      <td>0</td>\n",
       "      <td>199</td>\n",
       "    </tr>\n",
       "    <tr>\n",
       "      <th>2</th>\n",
       "      <td>1</td>\n",
       "      <td>Кира</td>\n",
       "      <td>22</td>\n",
       "      <td>Тюмень</td>\n",
       "      <td>ultra</td>\n",
       "      <td>754.159807</td>\n",
       "      <td>6.232113</td>\n",
       "      <td>2021-04-20</td>\n",
       "      <td>4</td>\n",
       "      <td>6</td>\n",
       "      <td>0</td>\n",
       "      <td>199</td>\n",
       "    </tr>\n",
       "    <tr>\n",
       "      <th>3</th>\n",
       "      <td>1</td>\n",
       "      <td>Кира</td>\n",
       "      <td>22</td>\n",
       "      <td>Тюмень</td>\n",
       "      <td>ultra</td>\n",
       "      <td>2694.783254</td>\n",
       "      <td>18.511000</td>\n",
       "      <td>2021-08-11</td>\n",
       "      <td>8</td>\n",
       "      <td>6</td>\n",
       "      <td>0</td>\n",
       "      <td>199</td>\n",
       "    </tr>\n",
       "    <tr>\n",
       "      <th>4</th>\n",
       "      <td>1</td>\n",
       "      <td>Кира</td>\n",
       "      <td>22</td>\n",
       "      <td>Тюмень</td>\n",
       "      <td>ultra</td>\n",
       "      <td>4028.687306</td>\n",
       "      <td>26.265803</td>\n",
       "      <td>2021-08-28</td>\n",
       "      <td>8</td>\n",
       "      <td>6</td>\n",
       "      <td>0</td>\n",
       "      <td>199</td>\n",
       "    </tr>\n",
       "    <tr>\n",
       "      <th>5</th>\n",
       "      <td>1</td>\n",
       "      <td>Кира</td>\n",
       "      <td>22</td>\n",
       "      <td>Тюмень</td>\n",
       "      <td>ultra</td>\n",
       "      <td>2770.890808</td>\n",
       "      <td>16.650138</td>\n",
       "      <td>2021-10-09</td>\n",
       "      <td>10</td>\n",
       "      <td>6</td>\n",
       "      <td>0</td>\n",
       "      <td>199</td>\n",
       "    </tr>\n",
       "    <tr>\n",
       "      <th>6</th>\n",
       "      <td>1</td>\n",
       "      <td>Кира</td>\n",
       "      <td>22</td>\n",
       "      <td>Тюмень</td>\n",
       "      <td>ultra</td>\n",
       "      <td>3039.020292</td>\n",
       "      <td>14.927879</td>\n",
       "      <td>2021-10-19</td>\n",
       "      <td>10</td>\n",
       "      <td>6</td>\n",
       "      <td>0</td>\n",
       "      <td>199</td>\n",
       "    </tr>\n",
       "    <tr>\n",
       "      <th>7</th>\n",
       "      <td>1</td>\n",
       "      <td>Кира</td>\n",
       "      <td>22</td>\n",
       "      <td>Тюмень</td>\n",
       "      <td>ultra</td>\n",
       "      <td>2842.118050</td>\n",
       "      <td>23.117468</td>\n",
       "      <td>2021-11-06</td>\n",
       "      <td>11</td>\n",
       "      <td>6</td>\n",
       "      <td>0</td>\n",
       "      <td>199</td>\n",
       "    </tr>\n",
       "    <tr>\n",
       "      <th>8</th>\n",
       "      <td>1</td>\n",
       "      <td>Кира</td>\n",
       "      <td>22</td>\n",
       "      <td>Тюмень</td>\n",
       "      <td>ultra</td>\n",
       "      <td>3412.690668</td>\n",
       "      <td>15.238072</td>\n",
       "      <td>2021-11-14</td>\n",
       "      <td>11</td>\n",
       "      <td>6</td>\n",
       "      <td>0</td>\n",
       "      <td>199</td>\n",
       "    </tr>\n",
       "    <tr>\n",
       "      <th>9</th>\n",
       "      <td>1</td>\n",
       "      <td>Кира</td>\n",
       "      <td>22</td>\n",
       "      <td>Тюмень</td>\n",
       "      <td>ultra</td>\n",
       "      <td>748.690645</td>\n",
       "      <td>15.041884</td>\n",
       "      <td>2021-11-22</td>\n",
       "      <td>11</td>\n",
       "      <td>6</td>\n",
       "      <td>0</td>\n",
       "      <td>199</td>\n",
       "    </tr>\n",
       "  </tbody>\n",
       "</table>\n",
       "</div>"
      ],
      "text/plain": [
       "   user_id  name  age    city subscription_type     distance   duration  \\\n",
       "0        1  Кира   22  Тюмень             ultra  4409.919140  25.599769   \n",
       "1        1  Кира   22  Тюмень             ultra  2617.592153  15.816871   \n",
       "2        1  Кира   22  Тюмень             ultra   754.159807   6.232113   \n",
       "3        1  Кира   22  Тюмень             ultra  2694.783254  18.511000   \n",
       "4        1  Кира   22  Тюмень             ultra  4028.687306  26.265803   \n",
       "5        1  Кира   22  Тюмень             ultra  2770.890808  16.650138   \n",
       "6        1  Кира   22  Тюмень             ultra  3039.020292  14.927879   \n",
       "7        1  Кира   22  Тюмень             ultra  2842.118050  23.117468   \n",
       "8        1  Кира   22  Тюмень             ultra  3412.690668  15.238072   \n",
       "9        1  Кира   22  Тюмень             ultra   748.690645  15.041884   \n",
       "\n",
       "        date  month  minute_price  start_ride_price  subscription_fee  \n",
       "0 2021-01-01      1             6                 0               199  \n",
       "1 2021-01-18      1             6                 0               199  \n",
       "2 2021-04-20      4             6                 0               199  \n",
       "3 2021-08-11      8             6                 0               199  \n",
       "4 2021-08-28      8             6                 0               199  \n",
       "5 2021-10-09     10             6                 0               199  \n",
       "6 2021-10-19     10             6                 0               199  \n",
       "7 2021-11-06     11             6                 0               199  \n",
       "8 2021-11-14     11             6                 0               199  \n",
       "9 2021-11-22     11             6                 0               199  "
      ]
     },
     "metadata": {},
     "output_type": "display_data"
    },
    {
     "name": "stdout",
     "output_type": "stream",
     "text": [
      "<class 'pandas.core.frame.DataFrame'>\n",
      "Int64Index: 18068 entries, 0 to 18067\n",
      "Data columns (total 12 columns):\n",
      " #   Column             Non-Null Count  Dtype         \n",
      "---  ------             --------------  -----         \n",
      " 0   user_id            18068 non-null  int64         \n",
      " 1   name               18068 non-null  object        \n",
      " 2   age                18068 non-null  int64         \n",
      " 3   city               18068 non-null  object        \n",
      " 4   subscription_type  18068 non-null  object        \n",
      " 5   distance           18068 non-null  float64       \n",
      " 6   duration           18068 non-null  float64       \n",
      " 7   date               18068 non-null  datetime64[ns]\n",
      " 8   month              18068 non-null  int64         \n",
      " 9   minute_price       18068 non-null  int64         \n",
      " 10  start_ride_price   18068 non-null  int64         \n",
      " 11  subscription_fee   18068 non-null  int64         \n",
      "dtypes: datetime64[ns](1), float64(2), int64(6), object(3)\n",
      "memory usage: 1.8+ MB\n"
     ]
    }
   ],
   "source": [
    "# сначала соединим таблицы пользователей и поездок \n",
    "users_rides_go = users_go.merge(rides_go)\n",
    "display(users_rides_go.head(5))\n",
    "# проверим информацию о таблице, чтобы посмотреть как минимум количество строк\n",
    "users_rides_go.info()\n",
    "# теперь соединяем эту информацию с подписками \n",
    "data = users_rides_go.merge(subscriptions_go)\n",
    "display(data.head(10))\n",
    "data.info()"
   ]
  },
  {
   "cell_type": "markdown",
   "id": "3e1ded7d",
   "metadata": {},
   "source": [
    "<font color=#3CB371>Видим, что в итоговом датасете 18068 строк, то есть ровно тот размер, который мы и ожидали. И кроме того, в итоговом датасете присутствуют все колонки, которые были \"разбросаны\" до слияния по разным таблицам</font>"
   ]
  },
  {
   "cell_type": "markdown",
   "id": "701891c0",
   "metadata": {},
   "source": [
    "**Промежуточный итог**: объединили данные в общую таблицу, количество строк осталось равным количеству строк в информации о поездках, что было ожидаемо.   \n",
    "А ещё Кира из Тюмени часто катается на самокате. \n",
    "\n",
    "Разобьём полученный датасет на два по типу подписки пользователя. "
   ]
  },
  {
   "cell_type": "code",
   "execution_count": 34,
   "id": "8a9d487f",
   "metadata": {},
   "outputs": [
    {
     "data": {
      "text/html": [
       "<div>\n",
       "<style scoped>\n",
       "    .dataframe tbody tr th:only-of-type {\n",
       "        vertical-align: middle;\n",
       "    }\n",
       "\n",
       "    .dataframe tbody tr th {\n",
       "        vertical-align: top;\n",
       "    }\n",
       "\n",
       "    .dataframe thead th {\n",
       "        text-align: right;\n",
       "    }\n",
       "</style>\n",
       "<table border=\"1\" class=\"dataframe\">\n",
       "  <thead>\n",
       "    <tr style=\"text-align: right;\">\n",
       "      <th></th>\n",
       "      <th>user_id</th>\n",
       "      <th>name</th>\n",
       "      <th>age</th>\n",
       "      <th>city</th>\n",
       "      <th>subscription_type</th>\n",
       "      <th>distance</th>\n",
       "      <th>duration</th>\n",
       "      <th>date</th>\n",
       "      <th>month</th>\n",
       "      <th>minute_price</th>\n",
       "      <th>start_ride_price</th>\n",
       "      <th>subscription_fee</th>\n",
       "    </tr>\n",
       "  </thead>\n",
       "  <tbody>\n",
       "    <tr>\n",
       "      <th>0</th>\n",
       "      <td>1</td>\n",
       "      <td>Кира</td>\n",
       "      <td>22</td>\n",
       "      <td>Тюмень</td>\n",
       "      <td>ultra</td>\n",
       "      <td>4409.919140</td>\n",
       "      <td>25.599769</td>\n",
       "      <td>2021-01-01</td>\n",
       "      <td>1</td>\n",
       "      <td>6</td>\n",
       "      <td>0</td>\n",
       "      <td>199</td>\n",
       "    </tr>\n",
       "    <tr>\n",
       "      <th>1</th>\n",
       "      <td>1</td>\n",
       "      <td>Кира</td>\n",
       "      <td>22</td>\n",
       "      <td>Тюмень</td>\n",
       "      <td>ultra</td>\n",
       "      <td>2617.592153</td>\n",
       "      <td>15.816871</td>\n",
       "      <td>2021-01-18</td>\n",
       "      <td>1</td>\n",
       "      <td>6</td>\n",
       "      <td>0</td>\n",
       "      <td>199</td>\n",
       "    </tr>\n",
       "    <tr>\n",
       "      <th>2</th>\n",
       "      <td>1</td>\n",
       "      <td>Кира</td>\n",
       "      <td>22</td>\n",
       "      <td>Тюмень</td>\n",
       "      <td>ultra</td>\n",
       "      <td>754.159807</td>\n",
       "      <td>6.232113</td>\n",
       "      <td>2021-04-20</td>\n",
       "      <td>4</td>\n",
       "      <td>6</td>\n",
       "      <td>0</td>\n",
       "      <td>199</td>\n",
       "    </tr>\n",
       "    <tr>\n",
       "      <th>3</th>\n",
       "      <td>1</td>\n",
       "      <td>Кира</td>\n",
       "      <td>22</td>\n",
       "      <td>Тюмень</td>\n",
       "      <td>ultra</td>\n",
       "      <td>2694.783254</td>\n",
       "      <td>18.511000</td>\n",
       "      <td>2021-08-11</td>\n",
       "      <td>8</td>\n",
       "      <td>6</td>\n",
       "      <td>0</td>\n",
       "      <td>199</td>\n",
       "    </tr>\n",
       "    <tr>\n",
       "      <th>4</th>\n",
       "      <td>1</td>\n",
       "      <td>Кира</td>\n",
       "      <td>22</td>\n",
       "      <td>Тюмень</td>\n",
       "      <td>ultra</td>\n",
       "      <td>4028.687306</td>\n",
       "      <td>26.265803</td>\n",
       "      <td>2021-08-28</td>\n",
       "      <td>8</td>\n",
       "      <td>6</td>\n",
       "      <td>0</td>\n",
       "      <td>199</td>\n",
       "    </tr>\n",
       "    <tr>\n",
       "      <th>5</th>\n",
       "      <td>1</td>\n",
       "      <td>Кира</td>\n",
       "      <td>22</td>\n",
       "      <td>Тюмень</td>\n",
       "      <td>ultra</td>\n",
       "      <td>2770.890808</td>\n",
       "      <td>16.650138</td>\n",
       "      <td>2021-10-09</td>\n",
       "      <td>10</td>\n",
       "      <td>6</td>\n",
       "      <td>0</td>\n",
       "      <td>199</td>\n",
       "    </tr>\n",
       "    <tr>\n",
       "      <th>6</th>\n",
       "      <td>1</td>\n",
       "      <td>Кира</td>\n",
       "      <td>22</td>\n",
       "      <td>Тюмень</td>\n",
       "      <td>ultra</td>\n",
       "      <td>3039.020292</td>\n",
       "      <td>14.927879</td>\n",
       "      <td>2021-10-19</td>\n",
       "      <td>10</td>\n",
       "      <td>6</td>\n",
       "      <td>0</td>\n",
       "      <td>199</td>\n",
       "    </tr>\n",
       "    <tr>\n",
       "      <th>7</th>\n",
       "      <td>1</td>\n",
       "      <td>Кира</td>\n",
       "      <td>22</td>\n",
       "      <td>Тюмень</td>\n",
       "      <td>ultra</td>\n",
       "      <td>2842.118050</td>\n",
       "      <td>23.117468</td>\n",
       "      <td>2021-11-06</td>\n",
       "      <td>11</td>\n",
       "      <td>6</td>\n",
       "      <td>0</td>\n",
       "      <td>199</td>\n",
       "    </tr>\n",
       "    <tr>\n",
       "      <th>8</th>\n",
       "      <td>1</td>\n",
       "      <td>Кира</td>\n",
       "      <td>22</td>\n",
       "      <td>Тюмень</td>\n",
       "      <td>ultra</td>\n",
       "      <td>3412.690668</td>\n",
       "      <td>15.238072</td>\n",
       "      <td>2021-11-14</td>\n",
       "      <td>11</td>\n",
       "      <td>6</td>\n",
       "      <td>0</td>\n",
       "      <td>199</td>\n",
       "    </tr>\n",
       "    <tr>\n",
       "      <th>9</th>\n",
       "      <td>1</td>\n",
       "      <td>Кира</td>\n",
       "      <td>22</td>\n",
       "      <td>Тюмень</td>\n",
       "      <td>ultra</td>\n",
       "      <td>748.690645</td>\n",
       "      <td>15.041884</td>\n",
       "      <td>2021-11-22</td>\n",
       "      <td>11</td>\n",
       "      <td>6</td>\n",
       "      <td>0</td>\n",
       "      <td>199</td>\n",
       "    </tr>\n",
       "  </tbody>\n",
       "</table>\n",
       "</div>"
      ],
      "text/plain": [
       "   user_id  name  age    city subscription_type     distance   duration  \\\n",
       "0        1  Кира   22  Тюмень             ultra  4409.919140  25.599769   \n",
       "1        1  Кира   22  Тюмень             ultra  2617.592153  15.816871   \n",
       "2        1  Кира   22  Тюмень             ultra   754.159807   6.232113   \n",
       "3        1  Кира   22  Тюмень             ultra  2694.783254  18.511000   \n",
       "4        1  Кира   22  Тюмень             ultra  4028.687306  26.265803   \n",
       "5        1  Кира   22  Тюмень             ultra  2770.890808  16.650138   \n",
       "6        1  Кира   22  Тюмень             ultra  3039.020292  14.927879   \n",
       "7        1  Кира   22  Тюмень             ultra  2842.118050  23.117468   \n",
       "8        1  Кира   22  Тюмень             ultra  3412.690668  15.238072   \n",
       "9        1  Кира   22  Тюмень             ultra   748.690645  15.041884   \n",
       "\n",
       "        date  month  minute_price  start_ride_price  subscription_fee  \n",
       "0 2021-01-01      1             6                 0               199  \n",
       "1 2021-01-18      1             6                 0               199  \n",
       "2 2021-04-20      4             6                 0               199  \n",
       "3 2021-08-11      8             6                 0               199  \n",
       "4 2021-08-28      8             6                 0               199  \n",
       "5 2021-10-09     10             6                 0               199  \n",
       "6 2021-10-19     10             6                 0               199  \n",
       "7 2021-11-06     11             6                 0               199  \n",
       "8 2021-11-14     11             6                 0               199  \n",
       "9 2021-11-22     11             6                 0               199  "
      ]
     },
     "metadata": {},
     "output_type": "display_data"
    }
   ],
   "source": [
    "data_ultra = data.query('subscription_type == \"ultra\"')\n",
    "display(data_ultra.head(10))"
   ]
  },
  {
   "cell_type": "code",
   "execution_count": 35,
   "id": "b0b2cca5",
   "metadata": {},
   "outputs": [
    {
     "data": {
      "text/html": [
       "<div>\n",
       "<style scoped>\n",
       "    .dataframe tbody tr th:only-of-type {\n",
       "        vertical-align: middle;\n",
       "    }\n",
       "\n",
       "    .dataframe tbody tr th {\n",
       "        vertical-align: top;\n",
       "    }\n",
       "\n",
       "    .dataframe thead th {\n",
       "        text-align: right;\n",
       "    }\n",
       "</style>\n",
       "<table border=\"1\" class=\"dataframe\">\n",
       "  <thead>\n",
       "    <tr style=\"text-align: right;\">\n",
       "      <th></th>\n",
       "      <th>user_id</th>\n",
       "      <th>name</th>\n",
       "      <th>age</th>\n",
       "      <th>city</th>\n",
       "      <th>subscription_type</th>\n",
       "      <th>distance</th>\n",
       "      <th>duration</th>\n",
       "      <th>date</th>\n",
       "      <th>month</th>\n",
       "      <th>minute_price</th>\n",
       "      <th>start_ride_price</th>\n",
       "      <th>subscription_fee</th>\n",
       "    </tr>\n",
       "  </thead>\n",
       "  <tbody>\n",
       "    <tr>\n",
       "      <th>6500</th>\n",
       "      <td>700</td>\n",
       "      <td>Айдар</td>\n",
       "      <td>22</td>\n",
       "      <td>Омск</td>\n",
       "      <td>free</td>\n",
       "      <td>2515.690719</td>\n",
       "      <td>14.944286</td>\n",
       "      <td>2021-01-02</td>\n",
       "      <td>1</td>\n",
       "      <td>8</td>\n",
       "      <td>50</td>\n",
       "      <td>0</td>\n",
       "    </tr>\n",
       "    <tr>\n",
       "      <th>6501</th>\n",
       "      <td>700</td>\n",
       "      <td>Айдар</td>\n",
       "      <td>22</td>\n",
       "      <td>Омск</td>\n",
       "      <td>free</td>\n",
       "      <td>846.932642</td>\n",
       "      <td>16.234663</td>\n",
       "      <td>2021-02-01</td>\n",
       "      <td>2</td>\n",
       "      <td>8</td>\n",
       "      <td>50</td>\n",
       "      <td>0</td>\n",
       "    </tr>\n",
       "    <tr>\n",
       "      <th>6502</th>\n",
       "      <td>700</td>\n",
       "      <td>Айдар</td>\n",
       "      <td>22</td>\n",
       "      <td>Омск</td>\n",
       "      <td>free</td>\n",
       "      <td>4004.434142</td>\n",
       "      <td>20.016628</td>\n",
       "      <td>2021-02-04</td>\n",
       "      <td>2</td>\n",
       "      <td>8</td>\n",
       "      <td>50</td>\n",
       "      <td>0</td>\n",
       "    </tr>\n",
       "    <tr>\n",
       "      <th>6503</th>\n",
       "      <td>700</td>\n",
       "      <td>Айдар</td>\n",
       "      <td>22</td>\n",
       "      <td>Омск</td>\n",
       "      <td>free</td>\n",
       "      <td>1205.911290</td>\n",
       "      <td>9.782872</td>\n",
       "      <td>2021-02-10</td>\n",
       "      <td>2</td>\n",
       "      <td>8</td>\n",
       "      <td>50</td>\n",
       "      <td>0</td>\n",
       "    </tr>\n",
       "    <tr>\n",
       "      <th>6504</th>\n",
       "      <td>700</td>\n",
       "      <td>Айдар</td>\n",
       "      <td>22</td>\n",
       "      <td>Омск</td>\n",
       "      <td>free</td>\n",
       "      <td>3047.379435</td>\n",
       "      <td>17.427673</td>\n",
       "      <td>2021-02-14</td>\n",
       "      <td>2</td>\n",
       "      <td>8</td>\n",
       "      <td>50</td>\n",
       "      <td>0</td>\n",
       "    </tr>\n",
       "    <tr>\n",
       "      <th>6505</th>\n",
       "      <td>700</td>\n",
       "      <td>Айдар</td>\n",
       "      <td>22</td>\n",
       "      <td>Омск</td>\n",
       "      <td>free</td>\n",
       "      <td>4342.002254</td>\n",
       "      <td>22.368009</td>\n",
       "      <td>2021-02-23</td>\n",
       "      <td>2</td>\n",
       "      <td>8</td>\n",
       "      <td>50</td>\n",
       "      <td>0</td>\n",
       "    </tr>\n",
       "    <tr>\n",
       "      <th>6506</th>\n",
       "      <td>700</td>\n",
       "      <td>Айдар</td>\n",
       "      <td>22</td>\n",
       "      <td>Омск</td>\n",
       "      <td>free</td>\n",
       "      <td>3798.334905</td>\n",
       "      <td>18.243756</td>\n",
       "      <td>2021-03-03</td>\n",
       "      <td>3</td>\n",
       "      <td>8</td>\n",
       "      <td>50</td>\n",
       "      <td>0</td>\n",
       "    </tr>\n",
       "    <tr>\n",
       "      <th>6507</th>\n",
       "      <td>700</td>\n",
       "      <td>Айдар</td>\n",
       "      <td>22</td>\n",
       "      <td>Омск</td>\n",
       "      <td>free</td>\n",
       "      <td>2984.551206</td>\n",
       "      <td>15.424899</td>\n",
       "      <td>2021-04-09</td>\n",
       "      <td>4</td>\n",
       "      <td>8</td>\n",
       "      <td>50</td>\n",
       "      <td>0</td>\n",
       "    </tr>\n",
       "    <tr>\n",
       "      <th>6508</th>\n",
       "      <td>700</td>\n",
       "      <td>Айдар</td>\n",
       "      <td>22</td>\n",
       "      <td>Омск</td>\n",
       "      <td>free</td>\n",
       "      <td>3360.107141</td>\n",
       "      <td>16.765497</td>\n",
       "      <td>2021-06-12</td>\n",
       "      <td>6</td>\n",
       "      <td>8</td>\n",
       "      <td>50</td>\n",
       "      <td>0</td>\n",
       "    </tr>\n",
       "    <tr>\n",
       "      <th>6509</th>\n",
       "      <td>700</td>\n",
       "      <td>Айдар</td>\n",
       "      <td>22</td>\n",
       "      <td>Омск</td>\n",
       "      <td>free</td>\n",
       "      <td>2567.543847</td>\n",
       "      <td>11.312160</td>\n",
       "      <td>2021-06-23</td>\n",
       "      <td>6</td>\n",
       "      <td>8</td>\n",
       "      <td>50</td>\n",
       "      <td>0</td>\n",
       "    </tr>\n",
       "  </tbody>\n",
       "</table>\n",
       "</div>"
      ],
      "text/plain": [
       "      user_id   name  age  city subscription_type     distance   duration  \\\n",
       "6500      700  Айдар   22  Омск              free  2515.690719  14.944286   \n",
       "6501      700  Айдар   22  Омск              free   846.932642  16.234663   \n",
       "6502      700  Айдар   22  Омск              free  4004.434142  20.016628   \n",
       "6503      700  Айдар   22  Омск              free  1205.911290   9.782872   \n",
       "6504      700  Айдар   22  Омск              free  3047.379435  17.427673   \n",
       "6505      700  Айдар   22  Омск              free  4342.002254  22.368009   \n",
       "6506      700  Айдар   22  Омск              free  3798.334905  18.243756   \n",
       "6507      700  Айдар   22  Омск              free  2984.551206  15.424899   \n",
       "6508      700  Айдар   22  Омск              free  3360.107141  16.765497   \n",
       "6509      700  Айдар   22  Омск              free  2567.543847  11.312160   \n",
       "\n",
       "           date  month  minute_price  start_ride_price  subscription_fee  \n",
       "6500 2021-01-02      1             8                50                 0  \n",
       "6501 2021-02-01      2             8                50                 0  \n",
       "6502 2021-02-04      2             8                50                 0  \n",
       "6503 2021-02-10      2             8                50                 0  \n",
       "6504 2021-02-14      2             8                50                 0  \n",
       "6505 2021-02-23      2             8                50                 0  \n",
       "6506 2021-03-03      3             8                50                 0  \n",
       "6507 2021-04-09      4             8                50                 0  \n",
       "6508 2021-06-12      6             8                50                 0  \n",
       "6509 2021-06-23      6             8                50                 0  "
      ]
     },
     "metadata": {},
     "output_type": "display_data"
    }
   ],
   "source": [
    "data_free = data.query('subscription_type == \"free\"')\n",
    "display(data_free.head(10))"
   ]
  },
  {
   "cell_type": "code",
   "execution_count": 36,
   "id": "82a55176",
   "metadata": {},
   "outputs": [
    {
     "data": {
      "image/png": "[encoded data removed]",
      "text/plain": [
       "<Figure size 1080x360 with 1 Axes>"
      ]
     },
     "metadata": {
      "needs_background": "light"
     },
     "output_type": "display_data"
    },
    {
     "data": {
      "image/png": "[encoded data removed]",
      "text/plain": [
       "<Figure size 1080x360 with 1 Axes>"
      ]
     },
     "metadata": {
      "needs_background": "light"
     },
     "output_type": "display_data"
    },
    {
     "data": {
      "image/png": "[encoded data removed]",
      "text/plain": [
       "<Figure size 1080x360 with 1 Axes>"
      ]
     },
     "metadata": {
      "needs_background": "light"
     },
     "output_type": "display_data"
    },
    {
     "data": {
      "image/png": "[encoded data removed]",
      "text/plain": [
       "<Figure size 1080x360 with 1 Axes>"
      ]
     },
     "metadata": {
      "needs_background": "light"
     },
     "output_type": "display_data"
    }
   ],
   "source": [
    "draw_hist(data_ultra, 'duration')\n",
    "plt.title(\"Длительность поездки для пользователей с подпиской\")\n",
    "plt.xlabel(\"Длительность\")\n",
    "plt.ylabel(\"частота встречаемости\")\n",
    "plt.show()\n",
    "draw_hist(data_free, 'duration')\n",
    "plt.title(\"Длительность поездки для пользователей без подписки\")\n",
    "plt.xlabel(\"Длительность\")\n",
    "plt.ylabel(\"частота встречаемости\")\n",
    "plt.show()\n",
    "draw_hist(data_ultra, 'distance')\n",
    "plt.title(\"Расстояние поездки для пользователей с подпиской\")\n",
    "plt.xlabel(\"Расстояние\")\n",
    "plt.ylabel(\"частота встречаемости\")\n",
    "plt.show()\n",
    "draw_hist(data_free, 'distance')\n",
    "plt.title(\"Расстояние поездки для пользователей без подписки\")\n",
    "plt.xlabel(\"Расстояние\")\n",
    "plt.ylabel(\"частота встречаемости\")\n",
    "plt.show()"
   ]
  },
  {
   "cell_type": "markdown",
   "id": "b56a43ea",
   "metadata": {},
   "source": [
    "**Общий вывод**: Среднее время поездки составляет 15-20 минут для пользователей с подпиской и без подписки.   \n",
    "Среднее расстояние поездки - \n",
    "- для пользователей с подпиской - около 3 километров \n",
    "- для пользователей без подписки чаще всего - 2.5 километра. \n",
    "Также можем увидеть, что для пользователей без подписки чаще встречаются очень короткие поездки, близкие по длительности к нулю - возможно, это может быть связано с более высокой стоимостью поездки для пользователей без подписки и с бОльшим количеством \"случайных\" пользователей, которые берут самокат \"попробовать\" и больше к этому не возвращаются.   \n",
    "\n",
    "В среднем пользователи с подпиской за поездку проезжают бОльшее расстояние, чем пользователи без подписки. \n"
   ]
  },
  {
   "cell_type": "markdown",
   "id": "402d620f",
   "metadata": {},
   "source": [
    "#### Шаг 5. Подсчёт выручки\n",
    "В рамках данного этапа потребуется создать датафрейм с агрегированными данными о поездках на основе датафрейма с объединёнными данными из шага 4: найти суммарное расстояние, количество поездок и суммарное время для каждого пользователя за каждый месяц, а затем добавить в этот датафрейм столбец с общей выручки с пользователя. "
   ]
  },
  {
   "cell_type": "markdown",
   "id": "83d7fa67",
   "metadata": {},
   "source": [
    "<font color=#3CB371>Перед агрегацией данных округлим длительность поездки в минутах до целого числа с округлением в бОльшую сторону</font>"
   ]
  },
  {
   "cell_type": "code",
   "execution_count": 46,
   "id": "f9f473ad",
   "metadata": {},
   "outputs": [
    {
     "data": {
      "text/plain": [
       "0    26.0\n",
       "1    16.0\n",
       "2     7.0\n",
       "3    19.0\n",
       "4    27.0\n",
       "5    17.0\n",
       "6    15.0\n",
       "7    24.0\n",
       "8    16.0\n",
       "9    16.0\n",
       "Name: duration, dtype: float64"
      ]
     },
     "metadata": {},
     "output_type": "display_data"
    }
   ],
   "source": [
    "data['duration'] = np.ceil(data['duration'])\n",
    "display(data['duration'].head(10))"
   ]
  },
  {
   "cell_type": "markdown",
   "id": "b8ca7b59",
   "metadata": {},
   "source": [
    "<font color=#3CB371>После округления переходим к объединению таблиц</font>"
   ]
  },
  {
   "cell_type": "code",
   "execution_count": 47,
   "id": "3f39203d",
   "metadata": {},
   "outputs": [
    {
     "data": {
      "text/html": [
       "<div>\n",
       "<style scoped>\n",
       "    .dataframe tbody tr th:only-of-type {\n",
       "        vertical-align: middle;\n",
       "    }\n",
       "\n",
       "    .dataframe tbody tr th {\n",
       "        vertical-align: top;\n",
       "    }\n",
       "\n",
       "    .dataframe thead th {\n",
       "        text-align: right;\n",
       "    }\n",
       "</style>\n",
       "<table border=\"1\" class=\"dataframe\">\n",
       "  <thead>\n",
       "    <tr style=\"text-align: right;\">\n",
       "      <th></th>\n",
       "      <th></th>\n",
       "      <th>total_distance</th>\n",
       "      <th>total_duration</th>\n",
       "      <th>rides_count</th>\n",
       "      <th>subscription_type</th>\n",
       "    </tr>\n",
       "    <tr>\n",
       "      <th>user_id</th>\n",
       "      <th>month</th>\n",
       "      <th></th>\n",
       "      <th></th>\n",
       "      <th></th>\n",
       "      <th></th>\n",
       "    </tr>\n",
       "  </thead>\n",
       "  <tbody>\n",
       "    <tr>\n",
       "      <th rowspan=\"6\" valign=\"top\">1</th>\n",
       "      <th>1</th>\n",
       "      <td>7027.511294</td>\n",
       "      <td>42.0</td>\n",
       "      <td>2</td>\n",
       "      <td>ultra</td>\n",
       "    </tr>\n",
       "    <tr>\n",
       "      <th>4</th>\n",
       "      <td>754.159807</td>\n",
       "      <td>7.0</td>\n",
       "      <td>1</td>\n",
       "      <td>ultra</td>\n",
       "    </tr>\n",
       "    <tr>\n",
       "      <th>8</th>\n",
       "      <td>6723.470560</td>\n",
       "      <td>46.0</td>\n",
       "      <td>2</td>\n",
       "      <td>ultra</td>\n",
       "    </tr>\n",
       "    <tr>\n",
       "      <th>10</th>\n",
       "      <td>5809.911100</td>\n",
       "      <td>32.0</td>\n",
       "      <td>2</td>\n",
       "      <td>ultra</td>\n",
       "    </tr>\n",
       "    <tr>\n",
       "      <th>11</th>\n",
       "      <td>7003.499363</td>\n",
       "      <td>56.0</td>\n",
       "      <td>3</td>\n",
       "      <td>ultra</td>\n",
       "    </tr>\n",
       "    <tr>\n",
       "      <th>12</th>\n",
       "      <td>6751.629942</td>\n",
       "      <td>28.0</td>\n",
       "      <td>2</td>\n",
       "      <td>ultra</td>\n",
       "    </tr>\n",
       "    <tr>\n",
       "      <th rowspan=\"4\" valign=\"top\">2</th>\n",
       "      <th>3</th>\n",
       "      <td>10187.723006</td>\n",
       "      <td>63.0</td>\n",
       "      <td>3</td>\n",
       "      <td>ultra</td>\n",
       "    </tr>\n",
       "    <tr>\n",
       "      <th>4</th>\n",
       "      <td>6164.381824</td>\n",
       "      <td>40.0</td>\n",
       "      <td>2</td>\n",
       "      <td>ultra</td>\n",
       "    </tr>\n",
       "    <tr>\n",
       "      <th>6</th>\n",
       "      <td>3255.338202</td>\n",
       "      <td>14.0</td>\n",
       "      <td>1</td>\n",
       "      <td>ultra</td>\n",
       "    </tr>\n",
       "    <tr>\n",
       "      <th>7</th>\n",
       "      <td>6780.722964</td>\n",
       "      <td>48.0</td>\n",
       "      <td>2</td>\n",
       "      <td>ultra</td>\n",
       "    </tr>\n",
       "  </tbody>\n",
       "</table>\n",
       "</div>"
      ],
      "text/plain": [
       "               total_distance  total_duration  rides_count subscription_type\n",
       "user_id month                                                               \n",
       "1       1         7027.511294            42.0            2             ultra\n",
       "        4          754.159807             7.0            1             ultra\n",
       "        8         6723.470560            46.0            2             ultra\n",
       "        10        5809.911100            32.0            2             ultra\n",
       "        11        7003.499363            56.0            3             ultra\n",
       "        12        6751.629942            28.0            2             ultra\n",
       "2       3        10187.723006            63.0            3             ultra\n",
       "        4         6164.381824            40.0            2             ultra\n",
       "        6         3255.338202            14.0            1             ultra\n",
       "        7         6780.722964            48.0            2             ultra"
      ]
     },
     "metadata": {},
     "output_type": "display_data"
    }
   ],
   "source": [
    "#создаю датафрейм с агрегированными данными. В index указываю не только user_id, но и месяц, поскольку \n",
    "# нужно разбить данные по месяцам. \n",
    "data_summary = data.pivot_table(index=['user_id', 'month'], values = ['distance', 'duration', 'name', 'subscription_type'], aggfunc={'distance':'sum', 'duration':'sum', 'name':'count', 'subscription_type': 'min'})\n",
    "# сразу переименуем столбцы \n",
    "data_summary.columns = ['total_distance', 'total_duration', 'rides_count', 'subscription_type']\n",
    "display(data_summary.head(10))"
   ]
  },
  {
   "cell_type": "code",
   "execution_count": 19,
   "id": "e092bfb3",
   "metadata": {},
   "outputs": [
    {
     "data": {
      "image/png": "[encoded data removed]",
      "text/plain": [
       "<Figure size 1080x360 with 1 Axes>"
      ]
     },
     "metadata": {
      "needs_background": "light"
     },
     "output_type": "display_data"
    }
   ],
   "source": [
    "# выведем информацию о количестве поездок в собранных данных\n",
    "draw_hist(data_summary, 'rides_count')\n",
    "plt.title(\"Количество поездок в месяц\")\n",
    "plt.xlabel(\"Количество поездок\")\n",
    "plt.ylabel(\"частота встречаемости\")\n",
    "plt.show()"
   ]
  },
  {
   "cell_type": "markdown",
   "id": "d841c24e",
   "metadata": {},
   "source": [
    "Здесь можно отметить, что по каждому пользователю мы видим только текущее состояние подписки. Возможно, та же Кира из Тюмени могла ездить в январе без подписки, а под конец года - с подпиской. Искать данные и пытаться их объединить будет неправильно (мы не знаем, сколько ещё Кир одинакового возраста из Тюмени пользуются сервисом). Возможно, сервису стоит задуматься над доработкой сервиса хранения данных и сохранять информацию об истории подписок пользователя, чтобы у нас было понимание, когда у пользователя была подписка.    \n",
    "\n",
    "Далее добавим информацию с помесячной выручкой с каждого пользователя. Для этого объединим полученый удобный датасет с тарифами и получим размер выручки: \n",
    "- количество поездок в месяце умножим на стоимость старта \n",
    "- стоимость минуты умножим на длительность поездки \n",
    "- сложим полученные результаты и добавим к ним стоимость подписки (нулевую для пользователей без подписки)"
   ]
  },
  {
   "cell_type": "code",
   "execution_count": 24,
   "id": "7312edce",
   "metadata": {},
   "outputs": [
    {
     "data": {
      "text/html": [
       "<div>\n",
       "<style scoped>\n",
       "    .dataframe tbody tr th:only-of-type {\n",
       "        vertical-align: middle;\n",
       "    }\n",
       "\n",
       "    .dataframe tbody tr th {\n",
       "        vertical-align: top;\n",
       "    }\n",
       "\n",
       "    .dataframe thead th {\n",
       "        text-align: right;\n",
       "    }\n",
       "</style>\n",
       "<table border=\"1\" class=\"dataframe\">\n",
       "  <thead>\n",
       "    <tr style=\"text-align: right;\">\n",
       "      <th></th>\n",
       "      <th>total_distance</th>\n",
       "      <th>total_duration</th>\n",
       "      <th>rides_count</th>\n",
       "      <th>subscription_type</th>\n",
       "      <th>minute_price</th>\n",
       "      <th>start_ride_price</th>\n",
       "      <th>subscription_fee</th>\n",
       "      <th>month</th>\n",
       "      <th>income</th>\n",
       "    </tr>\n",
       "  </thead>\n",
       "  <tbody>\n",
       "    <tr>\n",
       "      <th>10791</th>\n",
       "      <td>23098.193122</td>\n",
       "      <td>140.264426</td>\n",
       "      <td>6</td>\n",
       "      <td>free</td>\n",
       "      <td>8</td>\n",
       "      <td>50</td>\n",
       "      <td>0</td>\n",
       "      <td>1</td>\n",
       "      <td>1422.115405</td>\n",
       "    </tr>\n",
       "    <tr>\n",
       "      <th>7621</th>\n",
       "      <td>23429.487786</td>\n",
       "      <td>124.916782</td>\n",
       "      <td>7</td>\n",
       "      <td>free</td>\n",
       "      <td>8</td>\n",
       "      <td>50</td>\n",
       "      <td>0</td>\n",
       "      <td>3</td>\n",
       "      <td>1349.334253</td>\n",
       "    </tr>\n",
       "    <tr>\n",
       "      <th>4661</th>\n",
       "      <td>22712.450389</td>\n",
       "      <td>127.195642</td>\n",
       "      <td>6</td>\n",
       "      <td>free</td>\n",
       "      <td>8</td>\n",
       "      <td>50</td>\n",
       "      <td>0</td>\n",
       "      <td>11</td>\n",
       "      <td>1317.565134</td>\n",
       "    </tr>\n",
       "    <tr>\n",
       "      <th>10413</th>\n",
       "      <td>21527.849820</td>\n",
       "      <td>120.269714</td>\n",
       "      <td>7</td>\n",
       "      <td>free</td>\n",
       "      <td>8</td>\n",
       "      <td>50</td>\n",
       "      <td>0</td>\n",
       "      <td>7</td>\n",
       "      <td>1312.157715</td>\n",
       "    </tr>\n",
       "    <tr>\n",
       "      <th>10071</th>\n",
       "      <td>20653.334199</td>\n",
       "      <td>119.673964</td>\n",
       "      <td>6</td>\n",
       "      <td>free</td>\n",
       "      <td>8</td>\n",
       "      <td>50</td>\n",
       "      <td>0</td>\n",
       "      <td>12</td>\n",
       "      <td>1257.391711</td>\n",
       "    </tr>\n",
       "    <tr>\n",
       "      <th>8540</th>\n",
       "      <td>17991.776785</td>\n",
       "      <td>118.567466</td>\n",
       "      <td>6</td>\n",
       "      <td>free</td>\n",
       "      <td>8</td>\n",
       "      <td>50</td>\n",
       "      <td>0</td>\n",
       "      <td>7</td>\n",
       "      <td>1248.539731</td>\n",
       "    </tr>\n",
       "    <tr>\n",
       "      <th>6420</th>\n",
       "      <td>19061.395847</td>\n",
       "      <td>107.705211</td>\n",
       "      <td>6</td>\n",
       "      <td>free</td>\n",
       "      <td>8</td>\n",
       "      <td>50</td>\n",
       "      <td>0</td>\n",
       "      <td>10</td>\n",
       "      <td>1161.641689</td>\n",
       "    </tr>\n",
       "    <tr>\n",
       "      <th>8161</th>\n",
       "      <td>18449.375290</td>\n",
       "      <td>113.873896</td>\n",
       "      <td>5</td>\n",
       "      <td>free</td>\n",
       "      <td>8</td>\n",
       "      <td>50</td>\n",
       "      <td>0</td>\n",
       "      <td>8</td>\n",
       "      <td>1160.991170</td>\n",
       "    </tr>\n",
       "    <tr>\n",
       "      <th>6865</th>\n",
       "      <td>18244.387063</td>\n",
       "      <td>110.293073</td>\n",
       "      <td>5</td>\n",
       "      <td>free</td>\n",
       "      <td>8</td>\n",
       "      <td>50</td>\n",
       "      <td>0</td>\n",
       "      <td>3</td>\n",
       "      <td>1132.344581</td>\n",
       "    </tr>\n",
       "    <tr>\n",
       "      <th>8971</th>\n",
       "      <td>17670.402934</td>\n",
       "      <td>102.899348</td>\n",
       "      <td>6</td>\n",
       "      <td>free</td>\n",
       "      <td>8</td>\n",
       "      <td>50</td>\n",
       "      <td>0</td>\n",
       "      <td>4</td>\n",
       "      <td>1123.194784</td>\n",
       "    </tr>\n",
       "  </tbody>\n",
       "</table>\n",
       "</div>"
      ],
      "text/plain": [
       "       total_distance  total_duration  rides_count subscription_type  \\\n",
       "10791    23098.193122      140.264426            6              free   \n",
       "7621     23429.487786      124.916782            7              free   \n",
       "4661     22712.450389      127.195642            6              free   \n",
       "10413    21527.849820      120.269714            7              free   \n",
       "10071    20653.334199      119.673964            6              free   \n",
       "8540     17991.776785      118.567466            6              free   \n",
       "6420     19061.395847      107.705211            6              free   \n",
       "8161     18449.375290      113.873896            5              free   \n",
       "6865     18244.387063      110.293073            5              free   \n",
       "8971     17670.402934      102.899348            6              free   \n",
       "\n",
       "       minute_price  start_ride_price  subscription_fee  month       income  \n",
       "10791             8                50                 0      1  1422.115405  \n",
       "7621              8                50                 0      3  1349.334253  \n",
       "4661              8                50                 0     11  1317.565134  \n",
       "10413             8                50                 0      7  1312.157715  \n",
       "10071             8                50                 0     12  1257.391711  \n",
       "8540              8                50                 0      7  1248.539731  \n",
       "6420              8                50                 0     10  1161.641689  \n",
       "8161              8                50                 0      8  1160.991170  \n",
       "6865              8                50                 0      3  1132.344581  \n",
       "8971              8                50                 0      4  1123.194784  "
      ]
     },
     "metadata": {},
     "output_type": "display_data"
    }
   ],
   "source": [
    "revenue_data = data_summary.merge(subscriptions_go , on = 'subscription_type')\n",
    "revenue_data['month'] = rides_go['date'].dt.month\n",
    "revenue_data['income'] = (revenue_data['start_ride_price'] * revenue_data['rides_count']) + (revenue_data['minute_price'] * revenue_data['total_duration']) + revenue_data['subscription_fee']\n",
    "# выведу данные для проверки, чтобы увидеть максимальную выручку за месяц с пользователя \n",
    "display(revenue_data.sort_values(by = 'income', ascending = False).head(10))"
   ]
  },
  {
   "cell_type": "markdown",
   "id": "a0cf8216",
   "metadata": {},
   "source": [
    "**Общий вывод по разделу**: обработали датасет, добавили информацию об общей выручке с пользователя за месяц.    \n",
    "\n",
    "Интересное наблюдение - в наш топ 10 по выручке за месяц попали только пользователи без подписки, у которх за месяц было 5-7 поездок. "
   ]
  },
  {
   "cell_type": "markdown",
   "id": "41545ac0",
   "metadata": {},
   "source": [
    "#### Шаг 6. Проверка гипотез\n",
    "Проверим гипотезы для продакт менеджеров по порядку, начнём с первой. \n",
    "Тратят ли пользователи с подпиской больше времени на поездки? Если да, то пользователи с подпиской могут быть «выгоднее» для компании. Проверим гипотезу - отдельно для разных страт. \n",
    "Для этого мы уже создали отдельные датафреймы - data_ultra и data_free. \n",
    "\n",
    "**Нулевая гипотеза** будет говорить о равенстве - длительность поездки для пользователей с подпиской равна длительности поездки для \"бесплатных\" пользователей. **Альтернативная** - пользователи с подпиской ездят дольше. "
   ]
  },
  {
   "cell_type": "code",
   "execution_count": 25,
   "id": "23ea867b",
   "metadata": {},
   "outputs": [
    {
     "name": "stdout",
     "output_type": "stream",
     "text": [
      "p-value: 1.2804098316645618e-34\n",
      "Отвергаем нулевую гипотезу\n",
      "Среднее время поездки пользователей с подпиской: 18.54198516280583\n",
      "Среднее время поездки пользователей без подписки: 17.39090929866399\n"
     ]
    }
   ],
   "source": [
    "# возьмём информацию о длительности поездок из двух датасетов и запишем их в разные массивы \n",
    "distr_ultra = data_ultra['duration']\n",
    "distr_free = data_free['duration']\n",
    "# берём уровень значимости 0.05 \n",
    "alpha = 0.05\n",
    "\n",
    "results = st.ttest_ind(distr_ultra, distr_free, alternative = 'greater')\n",
    "print('p-value:', results.pvalue)\n",
    "if results.pvalue < alpha:\n",
    "    print('Отвергаем нулевую гипотезу')\n",
    "else:\n",
    "    print('Не получилось отвергнуть нулевую гипотезу') \n",
    "# выведем среднее\n",
    "print('Среднее время поездки пользователей с подпиской:', data_ultra['duration'].mean())\n",
    "print('Среднее время поездки пользователей без подписки:', data_free['duration'].mean())"
   ]
  },
  {
   "cell_type": "markdown",
   "id": "c8168c9a",
   "metadata": {},
   "source": [
    "**Общий вывод по гипотезе**: Гипотезу о равенстве среднего времени отвергаем, p-value очень маленький. И действительно, судя по среднему, пользователи с подпиской катаются дольше, чем пользователи без подписки. \n",
    "\n",
    "Переходим к следующей гипотезе. \n",
    "Расстояние одной поездки в 3130 метров — оптимальное с точки зрения износа самоката. Можно ли сказать, что среднее расстояние, которое проезжают пользователи с подпиской за одну поездку, не превышает 3130 метров? \n",
    "\n",
    "В качестве **нулевой гипотезы** укажем равенство расстояния данному значению. **Альтернативная гипотеза** - пользователи проезжают за одну поездку в среднем более 3130 метров. \n",
    "\n",
    "Здесь берём только датасет с пользователями с подпиской, data_ultra, поскольку гипотеза включает только их. "
   ]
  },
  {
   "cell_type": "code",
   "execution_count": 26,
   "id": "6be80563",
   "metadata": {},
   "outputs": [
    {
     "name": "stdout",
     "output_type": "stream",
     "text": [
      "p-value: 0.9195368847849785\n",
      "Не получилось отвергнуть нулевую гипотезу\n"
     ]
    }
   ],
   "source": [
    "interested_value = 3130\n",
    "alpha = 0.05\n",
    "results = st.ttest_1samp(data_ultra['distance'], interested_value, alternative = 'greater')\n",
    "print('p-value:', results.pvalue)\n",
    "if results.pvalue < alpha:\n",
    "    print('Отвергаем нулевую гипотезу')\n",
    "else:\n",
    "    print('Не получилось отвергнуть нулевую гипотезу')"
   ]
  },
  {
   "cell_type": "markdown",
   "id": "27d75e5e",
   "metadata": {},
   "source": [
    "**Вывод по гипотезе**: Отвергнуть нулевую гипотезу не получилось, p-value не просто слишком велико, оно близко к единице. Значит, отвергнуть гипотезу о том, что в среднем \"Платные\" пользователи проезжают 3130 метров, нельзя.   \n",
    "\n",
    "Переходим к следующей гипотезе:  будет ли помесячная выручка от пользователей с подпиской по месяцам выше, чем выручка от пользователей без подписки.  \n",
    "\n",
    "**Нулевая гипотеза** - помесячная выручка от пользователей с подпиской равна помесячной выручке от пользователей без подписки. **Альтернативная** - выручка с \"платных\" пользователей выше, чем с \"бесплатных\". \n",
    "\n",
    "Помесячную выручку мы добавляли в датасет revenue_data, общий для разных пользователей, будем работать с ним, отфильтровав данные, чтобы сравнить два массива. "
   ]
  },
  {
   "cell_type": "code",
   "execution_count": 27,
   "id": "955a1759",
   "metadata": {
    "scrolled": true
   },
   "outputs": [
    {
     "name": "stdout",
     "output_type": "stream",
     "text": [
      "p-value: 2.899911210580282e-37\n",
      "Отвергаем нулевую гипотезу\n",
      "Средний доход в месяц от пользователей с подпиской: 358.52733760190324\n",
      "Среднее доход в месяц от пользователей без подписки: 321.8335260570109\n"
     ]
    }
   ],
   "source": [
    "revenue_free = revenue_data.query('subscription_type == \"free\"')['income']\n",
    "revenue_ultra = revenue_data.query('subscription_type == \"ultra\"')['income']\n",
    "# берём уровень значимости 0.05 \n",
    "alpha = 0.05\n",
    "\n",
    "results = st.ttest_ind(revenue_ultra, revenue_free, alternative = 'greater')\n",
    "print('p-value:', results.pvalue)\n",
    "if results.pvalue < alpha:\n",
    "    print('Отвергаем нулевую гипотезу')\n",
    "else:\n",
    "    print('Не получилось отвергнуть нулевую гипотезу') \n",
    "# выведем среднее\n",
    "print('Средний доход в месяц от пользователей с подпиской:', revenue_ultra.mean())\n",
    "print('Среднее доход в месяц от пользователей без подписки:', revenue_free.mean())"
   ]
  },
  {
   "cell_type": "markdown",
   "id": "57f2e801",
   "metadata": {},
   "source": [
    "**Вывод по гипотезе**: Нулевую гипотезу отвергли. Действительно, можно считать, что в среднем пользователи с подпиской приносят больше дохода, чем пользователи без подписки.   \n",
    "\n",
    "Переходим к следующей гипотезе, она теоретическая. \n",
    "Представьте такую ситуацию: техническая команда сервиса обновила сервера, с которыми взаимодействует мобильное приложение. Она надеется, что из-за этого количество обращений в техподдержку значимо снизилось. Некоторый файл содержит для каждого пользователя данные о количестве обращений до обновления и после него. Какой тест вам понадобился бы для проверки этой гипотезы?\n",
    "\n",
    "В данном случае мы сравниваем зависимые наборы данных - это обращения конкретных пользователей до и после обновления. Соответственно в качестве нулевой гипотезы скажем, что количество обращений не изменилось, а в качестве альтернативной  гипотезы - количество обращений снизилось. Т.е. используем метод \n",
    "\n",
    "> st.ttest_rel (массив до обращения, массив после обращения, alternative = 'less') "
   ]
  },
  {
   "cell_type": "markdown",
   "id": "61213c5e",
   "metadata": {},
   "source": [
    "# Общий вывод \n",
    "В рамках данного проекта были проанализированы данные о поездках пользователей из разных городов на самокатах сервиса Go. \n",
    "\n",
    "Были загружены и проанализированы исходные данные, устранены явные дубликаты, столбец date приведён к более удобному виду. Визуализирована информация об основных полях набора, построены графики. Были выявлены следующие тенденции: \n",
    "- больше всего пользователей в Пятигорске \n",
    "- пользователей без подписки несколько больше - почти 55 процентов против 45 \n",
    "- средний возраст пользователей - около 25 лет \n",
    "- среднее расстояние поездки - около 3 километров \n",
    "- средняя длительность поездки - 15-20 мминут. \n",
    "\n",
    "Далее были проведены преобразования в данныз для более удобных подсчётов, выявлен доход с каждого пользователя в разрезе по месяцам, а также исследованы длительность и дальность поездок для пользователей с подпиской и без подписки. \n",
    "\n",
    "Были проверены гипотезы продакт менеджеров, общий вывод по которым таков: \n",
    "- пользователи с подпиской  в среднем ездят дольше, чем пользователи без подписки. \n",
    "- пользователи с подпиской проезжают за поездку в среднем примерно 3130 метров, что является оптимальным для износа самокатов  \n",
    "- пользователи с подпиской приносят в среднем больший доход, чем пользователи без подписки.\n",
    "\n",
    "А ещё сервис самокатов позволяет пользоваться им несовершеннолетним. "
   ]
  }
 ],
 "metadata": {
  "ExecuteTimeLog": [
   {
    "duration": 443,
    "start_time": "2024-08-21T15:22:22.122Z"
   },
   {
    "duration": 77,
    "start_time": "2024-08-21T15:55:28.862Z"
   },
   {
    "duration": 68,
    "start_time": "2024-08-21T15:55:38.308Z"
   },
   {
    "duration": 30,
    "start_time": "2024-08-21T15:55:43.869Z"
   },
   {
    "duration": 31,
    "start_time": "2024-08-21T15:55:52.505Z"
   },
   {
    "duration": 255,
    "start_time": "2024-08-21T15:57:46.400Z"
   },
   {
    "duration": 74,
    "start_time": "2024-08-21T15:58:04.396Z"
   },
   {
    "duration": 78,
    "start_time": "2024-08-21T15:59:04.155Z"
   },
   {
    "duration": 90,
    "start_time": "2024-08-21T16:28:08.199Z"
   },
   {
    "duration": 88,
    "start_time": "2024-08-21T16:28:32.868Z"
   },
   {
    "duration": 69,
    "start_time": "2024-08-21T16:34:03.940Z"
   },
   {
    "duration": 55,
    "start_time": "2024-08-21T16:34:26.969Z"
   },
   {
    "duration": 28,
    "start_time": "2024-08-21T16:34:44.339Z"
   },
   {
    "duration": 19,
    "start_time": "2024-08-21T16:36:20.967Z"
   },
   {
    "duration": 881,
    "start_time": "2024-08-21T16:36:48.369Z"
   },
   {
    "duration": 86,
    "start_time": "2024-08-21T16:36:55.725Z"
   },
   {
    "duration": 16,
    "start_time": "2024-08-21T16:37:08.488Z"
   },
   {
    "duration": 33,
    "start_time": "2024-08-21T16:37:10.989Z"
   },
   {
    "duration": 10,
    "start_time": "2024-08-21T16:37:26.821Z"
   },
   {
    "duration": 15,
    "start_time": "2024-08-21T16:39:44.127Z"
   },
   {
    "duration": 10,
    "start_time": "2024-08-21T16:40:23.983Z"
   },
   {
    "duration": 22,
    "start_time": "2024-08-21T16:43:34.714Z"
   },
   {
    "duration": 22,
    "start_time": "2024-08-21T16:46:12.293Z"
   },
   {
    "duration": 19,
    "start_time": "2024-08-21T16:46:30.579Z"
   },
   {
    "duration": 9,
    "start_time": "2024-08-21T16:50:26.450Z"
   },
   {
    "duration": 8,
    "start_time": "2024-08-21T16:50:32.957Z"
   },
   {
    "duration": 8,
    "start_time": "2024-08-21T16:51:29.720Z"
   },
   {
    "duration": 518,
    "start_time": "2024-08-21T16:56:07.507Z"
   },
   {
    "duration": 226,
    "start_time": "2024-08-21T16:56:31.683Z"
   },
   {
    "duration": 339,
    "start_time": "2024-08-21T16:56:40.725Z"
   },
   {
    "duration": 223,
    "start_time": "2024-08-21T17:01:40.118Z"
   },
   {
    "duration": 249,
    "start_time": "2024-08-21T17:16:05.165Z"
   },
   {
    "duration": 267,
    "start_time": "2024-08-21T17:16:45.517Z"
   },
   {
    "duration": 5,
    "start_time": "2024-08-21T17:18:08.464Z"
   },
   {
    "duration": 6,
    "start_time": "2024-08-21T17:18:55.482Z"
   },
   {
    "duration": 10,
    "start_time": "2024-08-21T17:19:17.522Z"
   },
   {
    "duration": 6,
    "start_time": "2024-08-21T17:19:51.244Z"
   },
   {
    "duration": 6,
    "start_time": "2024-08-21T17:19:55.023Z"
   },
   {
    "duration": 12,
    "start_time": "2024-08-21T17:26:34.436Z"
   },
   {
    "duration": 292,
    "start_time": "2024-08-21T17:27:21.665Z"
   },
   {
    "duration": 6,
    "start_time": "2024-08-21T17:31:33.212Z"
   },
   {
    "duration": 5,
    "start_time": "2024-08-21T17:31:52.666Z"
   },
   {
    "duration": 134,
    "start_time": "2024-08-21T17:32:34.994Z"
   },
   {
    "duration": 4,
    "start_time": "2024-08-21T17:34:01.407Z"
   },
   {
    "duration": 10,
    "start_time": "2024-08-21T17:34:46.559Z"
   },
   {
    "duration": 12,
    "start_time": "2024-08-21T17:35:13.512Z"
   },
   {
    "duration": 239,
    "start_time": "2024-08-21T17:35:25.288Z"
   },
   {
    "duration": 367,
    "start_time": "2024-08-21T17:36:05.460Z"
   },
   {
    "duration": 5,
    "start_time": "2024-08-21T17:36:17.573Z"
   },
   {
    "duration": 251,
    "start_time": "2024-08-21T17:36:34.212Z"
   },
   {
    "duration": 227,
    "start_time": "2024-08-21T17:36:40.873Z"
   },
   {
    "duration": 236,
    "start_time": "2024-08-21T17:38:46.638Z"
   },
   {
    "duration": 265,
    "start_time": "2024-08-21T17:40:00.874Z"
   },
   {
    "duration": 179,
    "start_time": "2024-08-21T17:40:08.839Z"
   },
   {
    "duration": 396,
    "start_time": "2024-08-21T17:40:47.694Z"
   },
   {
    "duration": 298,
    "start_time": "2024-08-21T17:41:28.796Z"
   },
   {
    "duration": 326,
    "start_time": "2024-08-21T17:41:35.541Z"
   },
   {
    "duration": 413,
    "start_time": "2024-08-21T17:41:45.627Z"
   },
   {
    "duration": 331,
    "start_time": "2024-08-21T17:42:07.246Z"
   },
   {
    "duration": 318,
    "start_time": "2024-08-21T17:42:38.947Z"
   },
   {
    "duration": 294,
    "start_time": "2024-08-21T17:43:19.185Z"
   },
   {
    "duration": 348,
    "start_time": "2024-08-21T17:47:45.907Z"
   },
   {
    "duration": 261,
    "start_time": "2024-08-21T17:48:14.647Z"
   },
   {
    "duration": 280,
    "start_time": "2024-08-21T17:53:01.011Z"
   },
   {
    "duration": 287,
    "start_time": "2024-08-21T17:53:14.579Z"
   },
   {
    "duration": 288,
    "start_time": "2024-08-21T17:53:43.312Z"
   },
   {
    "duration": 261,
    "start_time": "2024-08-21T17:53:46.436Z"
   },
   {
    "duration": 363,
    "start_time": "2024-08-21T17:53:47.450Z"
   },
   {
    "duration": 298,
    "start_time": "2024-08-21T17:53:50.030Z"
   },
   {
    "duration": 6,
    "start_time": "2024-08-21T17:53:50.878Z"
   },
   {
    "duration": 4,
    "start_time": "2024-08-21T17:53:52.572Z"
   },
   {
    "duration": 302,
    "start_time": "2024-08-21T17:53:53.264Z"
   },
   {
    "duration": 265,
    "start_time": "2024-08-21T17:53:54.817Z"
   },
   {
    "duration": 266,
    "start_time": "2024-08-21T17:54:00.120Z"
   },
   {
    "duration": 68,
    "start_time": "2024-08-21T17:56:03.979Z"
   },
   {
    "duration": 384,
    "start_time": "2024-08-21T17:56:09.529Z"
   },
   {
    "duration": 253,
    "start_time": "2024-08-21T17:59:20.000Z"
   },
   {
    "duration": 306,
    "start_time": "2024-08-21T17:59:45.019Z"
   },
   {
    "duration": 33,
    "start_time": "2024-08-21T18:10:32.637Z"
   },
   {
    "duration": 52,
    "start_time": "2024-08-21T18:12:03.847Z"
   },
   {
    "duration": 55,
    "start_time": "2024-08-21T18:12:48.640Z"
   },
   {
    "duration": 18,
    "start_time": "2024-08-21T18:16:34.581Z"
   },
   {
    "duration": 16,
    "start_time": "2024-08-21T18:16:41.894Z"
   },
   {
    "duration": 17,
    "start_time": "2024-08-21T18:17:47.670Z"
   },
   {
    "duration": 17,
    "start_time": "2024-08-21T18:18:21.190Z"
   },
   {
    "duration": 383,
    "start_time": "2024-08-21T18:20:43.419Z"
   },
   {
    "duration": 269,
    "start_time": "2024-08-21T18:20:52.032Z"
   },
   {
    "duration": 265,
    "start_time": "2024-08-21T18:21:23.709Z"
   },
   {
    "duration": 311,
    "start_time": "2024-08-21T18:21:41.168Z"
   },
   {
    "duration": 289,
    "start_time": "2024-08-21T18:21:52.851Z"
   },
   {
    "duration": 428,
    "start_time": "2024-08-21T18:22:09.967Z"
   },
   {
    "duration": 255,
    "start_time": "2024-08-21T18:22:17.825Z"
   },
   {
    "duration": 238,
    "start_time": "2024-08-21T18:22:28.538Z"
   },
   {
    "duration": 3,
    "start_time": "2024-08-21T18:22:33.662Z"
   },
   {
    "duration": 99,
    "start_time": "2024-08-21T18:22:33.666Z"
   },
   {
    "duration": 19,
    "start_time": "2024-08-21T18:22:33.766Z"
   },
   {
    "duration": 25,
    "start_time": "2024-08-21T18:22:33.786Z"
   },
   {
    "duration": 10,
    "start_time": "2024-08-21T18:22:33.813Z"
   },
   {
    "duration": 13,
    "start_time": "2024-08-21T18:22:33.824Z"
   },
   {
    "duration": 272,
    "start_time": "2024-08-21T18:22:33.838Z"
   },
   {
    "duration": 6,
    "start_time": "2024-08-21T18:22:34.111Z"
   },
   {
    "duration": 6,
    "start_time": "2024-08-21T18:22:34.119Z"
   },
   {
    "duration": 333,
    "start_time": "2024-08-21T18:22:34.127Z"
   },
   {
    "duration": 423,
    "start_time": "2024-08-21T18:22:34.462Z"
   },
   {
    "duration": 314,
    "start_time": "2024-08-21T18:22:34.887Z"
   },
   {
    "duration": 276,
    "start_time": "2024-08-21T18:22:35.203Z"
   },
   {
    "duration": 68,
    "start_time": "2024-08-21T18:22:35.482Z"
   },
   {
    "duration": 17,
    "start_time": "2024-08-21T18:22:35.552Z"
   },
   {
    "duration": 16,
    "start_time": "2024-08-21T18:22:35.571Z"
   },
   {
    "duration": 1284,
    "start_time": "2024-08-21T18:26:17.787Z"
   },
   {
    "duration": 822,
    "start_time": "2024-08-21T18:37:06.392Z"
   },
   {
    "duration": 894,
    "start_time": "2024-08-21T18:37:14.367Z"
   },
   {
    "duration": 848,
    "start_time": "2024-08-21T18:37:23.411Z"
   },
   {
    "duration": 792,
    "start_time": "2024-08-21T18:37:28.033Z"
   },
   {
    "duration": 825,
    "start_time": "2024-08-21T18:38:53.010Z"
   },
   {
    "duration": 1041,
    "start_time": "2024-08-21T18:49:07.740Z"
   },
   {
    "duration": 24,
    "start_time": "2024-08-21T18:49:20.066Z"
   },
   {
    "duration": 19,
    "start_time": "2024-08-21T18:49:34.354Z"
   },
   {
    "duration": 18,
    "start_time": "2024-08-21T18:50:04.088Z"
   },
   {
    "duration": 28,
    "start_time": "2024-08-21T18:50:10.737Z"
   },
   {
    "duration": 23,
    "start_time": "2024-08-21T18:50:33.067Z"
   },
   {
    "duration": 840,
    "start_time": "2024-08-21T18:50:45.874Z"
   },
   {
    "duration": 267,
    "start_time": "2024-08-21T18:54:06.649Z"
   },
   {
    "duration": 255,
    "start_time": "2024-08-21T18:54:28.805Z"
   },
   {
    "duration": 8,
    "start_time": "2024-08-21T19:00:04.454Z"
   },
   {
    "duration": 6,
    "start_time": "2024-08-21T19:00:36.019Z"
   },
   {
    "duration": 8,
    "start_time": "2024-08-21T19:00:41.879Z"
   },
   {
    "duration": 8,
    "start_time": "2024-08-21T19:00:45.366Z"
   },
   {
    "duration": 7,
    "start_time": "2024-08-21T19:00:50.210Z"
   },
   {
    "duration": 7,
    "start_time": "2024-08-21T19:00:53.508Z"
   },
   {
    "duration": 7,
    "start_time": "2024-08-21T19:01:03.709Z"
   },
   {
    "duration": 7,
    "start_time": "2024-08-21T19:01:09.312Z"
   },
   {
    "duration": 5,
    "start_time": "2024-08-21T19:06:42.675Z"
   },
   {
    "duration": 11,
    "start_time": "2024-08-21T19:12:18.951Z"
   },
   {
    "duration": 13,
    "start_time": "2024-08-21T19:12:29.394Z"
   },
   {
    "duration": 10,
    "start_time": "2024-08-21T19:12:32.100Z"
   },
   {
    "duration": 787,
    "start_time": "2024-08-21T19:13:28.702Z"
   },
   {
    "duration": 12,
    "start_time": "2024-08-21T19:13:47.370Z"
   },
   {
    "duration": 1253,
    "start_time": "2024-08-21T19:37:07.640Z"
   },
   {
    "duration": 317,
    "start_time": "2024-08-21T19:37:08.895Z"
   },
   {
    "duration": 1,
    "start_time": "2024-08-21T19:37:09.213Z"
   },
   {
    "duration": 0,
    "start_time": "2024-08-21T19:37:09.215Z"
   },
   {
    "duration": 0,
    "start_time": "2024-08-21T19:37:09.216Z"
   },
   {
    "duration": 0,
    "start_time": "2024-08-21T19:37:09.217Z"
   },
   {
    "duration": 0,
    "start_time": "2024-08-21T19:37:09.218Z"
   },
   {
    "duration": 0,
    "start_time": "2024-08-21T19:37:09.219Z"
   },
   {
    "duration": 1,
    "start_time": "2024-08-21T19:37:09.219Z"
   },
   {
    "duration": 0,
    "start_time": "2024-08-21T19:37:09.221Z"
   },
   {
    "duration": 0,
    "start_time": "2024-08-21T19:37:09.222Z"
   },
   {
    "duration": 0,
    "start_time": "2024-08-21T19:37:09.223Z"
   },
   {
    "duration": 0,
    "start_time": "2024-08-21T19:37:09.224Z"
   },
   {
    "duration": 0,
    "start_time": "2024-08-21T19:37:09.225Z"
   },
   {
    "duration": 0,
    "start_time": "2024-08-21T19:37:09.226Z"
   },
   {
    "duration": 0,
    "start_time": "2024-08-21T19:37:09.228Z"
   },
   {
    "duration": 0,
    "start_time": "2024-08-21T19:37:09.253Z"
   },
   {
    "duration": 0,
    "start_time": "2024-08-21T19:37:09.254Z"
   },
   {
    "duration": 0,
    "start_time": "2024-08-21T19:37:09.255Z"
   },
   {
    "duration": 0,
    "start_time": "2024-08-21T19:37:09.256Z"
   },
   {
    "duration": 0,
    "start_time": "2024-08-21T19:37:09.257Z"
   },
   {
    "duration": 0,
    "start_time": "2024-08-21T19:37:09.259Z"
   },
   {
    "duration": 0,
    "start_time": "2024-08-21T19:37:09.260Z"
   },
   {
    "duration": 1066,
    "start_time": "2024-08-21T19:38:12.419Z"
   },
   {
    "duration": 136,
    "start_time": "2024-08-21T19:38:13.487Z"
   },
   {
    "duration": 19,
    "start_time": "2024-08-21T19:38:13.624Z"
   },
   {
    "duration": 113,
    "start_time": "2024-08-21T19:38:13.644Z"
   },
   {
    "duration": 0,
    "start_time": "2024-08-21T19:38:13.759Z"
   },
   {
    "duration": 0,
    "start_time": "2024-08-21T19:38:13.760Z"
   },
   {
    "duration": 0,
    "start_time": "2024-08-21T19:38:13.761Z"
   },
   {
    "duration": 0,
    "start_time": "2024-08-21T19:38:13.762Z"
   },
   {
    "duration": 0,
    "start_time": "2024-08-21T19:38:13.763Z"
   },
   {
    "duration": 0,
    "start_time": "2024-08-21T19:38:13.764Z"
   },
   {
    "duration": 0,
    "start_time": "2024-08-21T19:38:13.765Z"
   },
   {
    "duration": 0,
    "start_time": "2024-08-21T19:38:13.766Z"
   },
   {
    "duration": 0,
    "start_time": "2024-08-21T19:38:13.766Z"
   },
   {
    "duration": 0,
    "start_time": "2024-08-21T19:38:13.767Z"
   },
   {
    "duration": 0,
    "start_time": "2024-08-21T19:38:13.768Z"
   },
   {
    "duration": 0,
    "start_time": "2024-08-21T19:38:13.769Z"
   },
   {
    "duration": 0,
    "start_time": "2024-08-21T19:38:13.770Z"
   },
   {
    "duration": 0,
    "start_time": "2024-08-21T19:38:13.771Z"
   },
   {
    "duration": 0,
    "start_time": "2024-08-21T19:38:13.772Z"
   },
   {
    "duration": 0,
    "start_time": "2024-08-21T19:38:13.773Z"
   },
   {
    "duration": 0,
    "start_time": "2024-08-21T19:38:13.774Z"
   },
   {
    "duration": 0,
    "start_time": "2024-08-21T19:38:13.775Z"
   },
   {
    "duration": 0,
    "start_time": "2024-08-21T19:38:13.776Z"
   },
   {
    "duration": 1101,
    "start_time": "2024-08-21T19:38:36.990Z"
   },
   {
    "duration": 88,
    "start_time": "2024-08-21T19:38:38.093Z"
   },
   {
    "duration": 18,
    "start_time": "2024-08-21T19:38:38.182Z"
   },
   {
    "duration": 14,
    "start_time": "2024-08-21T19:38:38.201Z"
   },
   {
    "duration": 12,
    "start_time": "2024-08-21T19:38:38.217Z"
   },
   {
    "duration": 23,
    "start_time": "2024-08-21T19:38:38.230Z"
   },
   {
    "duration": 277,
    "start_time": "2024-08-21T19:38:38.254Z"
   },
   {
    "duration": 6,
    "start_time": "2024-08-21T19:38:38.533Z"
   },
   {
    "duration": 16,
    "start_time": "2024-08-21T19:38:38.540Z"
   },
   {
    "duration": 321,
    "start_time": "2024-08-21T19:38:38.558Z"
   },
   {
    "duration": 297,
    "start_time": "2024-08-21T19:38:38.881Z"
   },
   {
    "duration": 298,
    "start_time": "2024-08-21T19:38:39.179Z"
   },
   {
    "duration": 368,
    "start_time": "2024-08-21T19:38:39.478Z"
   },
   {
    "duration": 55,
    "start_time": "2024-08-21T19:38:39.852Z"
   },
   {
    "duration": 17,
    "start_time": "2024-08-21T19:38:39.909Z"
   },
   {
    "duration": 37,
    "start_time": "2024-08-21T19:38:39.928Z"
   },
   {
    "duration": 1125,
    "start_time": "2024-08-21T19:38:39.966Z"
   },
   {
    "duration": 794,
    "start_time": "2024-08-21T19:38:41.092Z"
   },
   {
    "duration": 354,
    "start_time": "2024-08-21T19:38:41.888Z"
   },
   {
    "duration": 110,
    "start_time": "2024-08-21T19:38:42.244Z"
   },
   {
    "duration": 0,
    "start_time": "2024-08-21T19:38:42.355Z"
   },
   {
    "duration": 0,
    "start_time": "2024-08-21T19:38:42.357Z"
   },
   {
    "duration": 0,
    "start_time": "2024-08-21T19:38:42.358Z"
   },
   {
    "duration": 19,
    "start_time": "2024-08-21T19:38:51.542Z"
   },
   {
    "duration": 13,
    "start_time": "2024-08-21T19:38:53.955Z"
   },
   {
    "duration": 13,
    "start_time": "2024-08-21T19:38:57.822Z"
   },
   {
    "duration": 24,
    "start_time": "2024-08-21T19:39:17.976Z"
   },
   {
    "duration": 7,
    "start_time": "2024-08-21T19:39:19.235Z"
   },
   {
    "duration": 5,
    "start_time": "2024-08-21T19:39:20.533Z"
   },
   {
    "duration": 15,
    "start_time": "2024-08-21T19:39:21.469Z"
   },
   {
    "duration": 18,
    "start_time": "2024-08-21T19:40:57.361Z"
   },
   {
    "duration": 1271,
    "start_time": "2024-08-22T13:30:16.373Z"
   },
   {
    "duration": 325,
    "start_time": "2024-08-22T13:30:17.646Z"
   },
   {
    "duration": 18,
    "start_time": "2024-08-22T13:30:17.973Z"
   },
   {
    "duration": 15,
    "start_time": "2024-08-22T13:30:17.993Z"
   },
   {
    "duration": 17,
    "start_time": "2024-08-22T13:30:18.009Z"
   },
   {
    "duration": 7,
    "start_time": "2024-08-22T13:30:18.028Z"
   },
   {
    "duration": 339,
    "start_time": "2024-08-22T13:30:18.036Z"
   },
   {
    "duration": 7,
    "start_time": "2024-08-22T13:30:18.376Z"
   },
   {
    "duration": 21,
    "start_time": "2024-08-22T13:30:18.385Z"
   },
   {
    "duration": 319,
    "start_time": "2024-08-22T13:30:18.408Z"
   },
   {
    "duration": 285,
    "start_time": "2024-08-22T13:30:18.728Z"
   },
   {
    "duration": 288,
    "start_time": "2024-08-22T13:30:19.014Z"
   },
   {
    "duration": 354,
    "start_time": "2024-08-22T13:30:19.304Z"
   },
   {
    "duration": 30,
    "start_time": "2024-08-22T13:33:24.933Z"
   },
   {
    "duration": 58,
    "start_time": "2024-08-22T13:36:47.885Z"
   },
   {
    "duration": 58,
    "start_time": "2024-08-22T13:40:37.295Z"
   },
   {
    "duration": 28,
    "start_time": "2024-08-22T13:48:58.244Z"
   },
   {
    "duration": 74,
    "start_time": "2024-08-22T13:48:59.767Z"
   },
   {
    "duration": 3,
    "start_time": "2024-08-22T13:49:39.802Z"
   },
   {
    "duration": 100,
    "start_time": "2024-08-22T13:49:39.807Z"
   },
   {
    "duration": 19,
    "start_time": "2024-08-22T13:49:39.908Z"
   },
   {
    "duration": 15,
    "start_time": "2024-08-22T13:49:39.929Z"
   },
   {
    "duration": 16,
    "start_time": "2024-08-22T13:49:39.945Z"
   },
   {
    "duration": 7,
    "start_time": "2024-08-22T13:49:39.963Z"
   },
   {
    "duration": 285,
    "start_time": "2024-08-22T13:49:39.972Z"
   },
   {
    "duration": 9,
    "start_time": "2024-08-22T13:49:40.259Z"
   },
   {
    "duration": 30,
    "start_time": "2024-08-22T13:49:40.270Z"
   },
   {
    "duration": 310,
    "start_time": "2024-08-22T13:49:40.301Z"
   },
   {
    "duration": 290,
    "start_time": "2024-08-22T13:49:40.613Z"
   },
   {
    "duration": 293,
    "start_time": "2024-08-22T13:49:40.905Z"
   },
   {
    "duration": 387,
    "start_time": "2024-08-22T13:49:41.200Z"
   },
   {
    "duration": 31,
    "start_time": "2024-08-22T13:49:41.590Z"
   },
   {
    "duration": 85,
    "start_time": "2024-08-22T13:49:41.623Z"
   },
   {
    "duration": 19,
    "start_time": "2024-08-22T13:49:41.710Z"
   },
   {
    "duration": 40,
    "start_time": "2024-08-22T13:49:41.731Z"
   },
   {
    "duration": 1138,
    "start_time": "2024-08-22T13:49:41.773Z"
   },
   {
    "duration": 5,
    "start_time": "2024-08-22T13:52:00.546Z"
   },
   {
    "duration": 6,
    "start_time": "2024-08-22T13:52:09.783Z"
   },
   {
    "duration": 4,
    "start_time": "2024-08-22T13:52:15.421Z"
   },
   {
    "duration": 7,
    "start_time": "2024-08-22T13:52:22.468Z"
   },
   {
    "duration": 4,
    "start_time": "2024-08-22T13:52:27.604Z"
   },
   {
    "duration": 5,
    "start_time": "2024-08-22T13:52:33.730Z"
   },
   {
    "duration": 103,
    "start_time": "2024-08-22T13:53:47.606Z"
   },
   {
    "duration": 5,
    "start_time": "2024-08-22T13:54:41.511Z"
   },
   {
    "duration": 6,
    "start_time": "2024-08-22T13:55:11.987Z"
   },
   {
    "duration": 6,
    "start_time": "2024-08-22T13:55:23.971Z"
   },
   {
    "duration": 893,
    "start_time": "2024-08-22T13:56:20.989Z"
   }
  ],
  "kernelspec": {
   "display_name": "Python 3 (ipykernel)",
   "language": "python",
   "name": "python3"
  },
  "language_info": {
   "codemirror_mode": {
    "name": "ipython",
    "version": 3
   },
   "file_extension": ".py",
   "mimetype": "text/x-python",
   "name": "python",
   "nbconvert_exporter": "python",
   "pygments_lexer": "ipython3",
   "version": "3.11.9"
  },
  "toc": {
   "base_numbering": 1,
   "nav_menu": {},
   "number_sections": true,
   "sideBar": true,
   "skip_h1_title": true,
   "title_cell": "Table of Contents",
   "title_sidebar": "Contents",
   "toc_cell": false,
   "toc_position": {
    "height": "calc(100% - 180px)",
    "left": "10px",
    "top": "150px",
    "width": "165px"
   },
   "toc_section_display": true,
   "toc_window_display": true
  }
 },
 "nbformat": 4,
 "nbformat_minor": 5
}
