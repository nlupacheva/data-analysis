{
 "cells": [
  {
   "cell_type": "markdown",
   "metadata": {},
   "source": [
    "# Описание проекта\n",
    "Я работаю в стартапе, который продаёт продукты питания. Нужно разобраться, как ведут себя пользователи мобильного приложения. В рамках проекта требуется: \n",
    "- Изучить воронку продаж, узнать, \n",
    "    - как пользователи доходят до покупки, \n",
    "    - сколько пользователей доходит до покупки, а сколько - застревает на предыдущих шагах \n",
    "    - на каких именно шагах застревают пользователи \n",
    "- Исследовать результаты A/A/B эксперимента по смене шрифтов во всём приложении, выяснить, какой шрифт лучше. \n",
    "\n",
    "Для анализа доступны следующие данные: \n",
    "- Файл с логами `/datasets/logs_exp.csv`, где \n",
    "    - `EventName` - название события;\n",
    "    - `DeviceIDHash` — уникальный идентификатор пользователя;\n",
    "    - `EventTimestamp` — время события;\n",
    "    - `ExpId` — номер эксперимента: 246 и 247 — контрольные группы, а 248 — экспериментальная."
   ]
  },
  {
   "cell_type": "markdown",
   "metadata": {},
   "source": [
    "# Шаг 1. Загрузка данных \n",
    "Загрузим файл с логами для дальнейшего анализа. "
   ]
  },
  {
   "cell_type": "code",
   "execution_count": 1,
   "metadata": {},
   "outputs": [],
   "source": [
    "# Отдельно наверх вынесен импорт библиотек, набор импортируемых библиотек расширяется по ходу проекта. \n",
    "import pandas as pd\n",
    "import matplotlib.pyplot as plt\n",
    "from plotly import graph_objects as go\n",
    "import seaborn as sns\n",
    "import math\n",
    "from statsmodels.stats.proportion import proportions_ztest\n",
    "from scipy import stats "
   ]
  },
  {
   "cell_type": "code",
   "execution_count": 2,
   "metadata": {},
   "outputs": [
    {
     "data": {
      "text/html": [
       "<div>\n",
       "<style scoped>\n",
       "    .dataframe tbody tr th:only-of-type {\n",
       "        vertical-align: middle;\n",
       "    }\n",
       "\n",
       "    .dataframe tbody tr th {\n",
       "        vertical-align: top;\n",
       "    }\n",
       "\n",
       "    .dataframe thead th {\n",
       "        text-align: right;\n",
       "    }\n",
       "</style>\n",
       "<table border=\"1\" class=\"dataframe\">\n",
       "  <thead>\n",
       "    <tr style=\"text-align: right;\">\n",
       "      <th></th>\n",
       "      <th>EventName\\tDeviceIDHash\\tEventTimestamp\\tExpId</th>\n",
       "    </tr>\n",
       "  </thead>\n",
       "  <tbody>\n",
       "    <tr>\n",
       "      <th>0</th>\n",
       "      <td>MainScreenAppear\\t4575588528974610257\\t1564029...</td>\n",
       "    </tr>\n",
       "    <tr>\n",
       "      <th>1</th>\n",
       "      <td>MainScreenAppear\\t7416695313311560658\\t1564053...</td>\n",
       "    </tr>\n",
       "    <tr>\n",
       "      <th>2</th>\n",
       "      <td>PaymentScreenSuccessful\\t3518123091307005509\\t...</td>\n",
       "    </tr>\n",
       "    <tr>\n",
       "      <th>3</th>\n",
       "      <td>CartScreenAppear\\t3518123091307005509\\t1564054...</td>\n",
       "    </tr>\n",
       "    <tr>\n",
       "      <th>4</th>\n",
       "      <td>PaymentScreenSuccessful\\t6217807653094995999\\t...</td>\n",
       "    </tr>\n",
       "  </tbody>\n",
       "</table>\n",
       "</div>"
      ],
      "text/plain": [
       "      EventName\\tDeviceIDHash\\tEventTimestamp\\tExpId\n",
       "0  MainScreenAppear\\t4575588528974610257\\t1564029...\n",
       "1  MainScreenAppear\\t7416695313311560658\\t1564053...\n",
       "2  PaymentScreenSuccessful\\t3518123091307005509\\t...\n",
       "3  CartScreenAppear\\t3518123091307005509\\t1564054...\n",
       "4  PaymentScreenSuccessful\\t6217807653094995999\\t..."
      ]
     },
     "metadata": {},
     "output_type": "display_data"
    }
   ],
   "source": [
    "data = pd.read_csv('/datasets/logs_exp.csv')\n",
    "display(data.head())"
   ]
  },
  {
   "cell_type": "code",
   "execution_count": 3,
   "metadata": {},
   "outputs": [
    {
     "data": {
      "text/html": [
       "<div>\n",
       "<style scoped>\n",
       "    .dataframe tbody tr th:only-of-type {\n",
       "        vertical-align: middle;\n",
       "    }\n",
       "\n",
       "    .dataframe tbody tr th {\n",
       "        vertical-align: top;\n",
       "    }\n",
       "\n",
       "    .dataframe thead th {\n",
       "        text-align: right;\n",
       "    }\n",
       "</style>\n",
       "<table border=\"1\" class=\"dataframe\">\n",
       "  <thead>\n",
       "    <tr style=\"text-align: right;\">\n",
       "      <th></th>\n",
       "      <th>EventName</th>\n",
       "      <th>DeviceIDHash</th>\n",
       "      <th>EventTimestamp</th>\n",
       "      <th>ExpId</th>\n",
       "    </tr>\n",
       "  </thead>\n",
       "  <tbody>\n",
       "    <tr>\n",
       "      <th>0</th>\n",
       "      <td>MainScreenAppear</td>\n",
       "      <td>4575588528974610257</td>\n",
       "      <td>1564029816</td>\n",
       "      <td>246</td>\n",
       "    </tr>\n",
       "    <tr>\n",
       "      <th>1</th>\n",
       "      <td>MainScreenAppear</td>\n",
       "      <td>7416695313311560658</td>\n",
       "      <td>1564053102</td>\n",
       "      <td>246</td>\n",
       "    </tr>\n",
       "    <tr>\n",
       "      <th>2</th>\n",
       "      <td>PaymentScreenSuccessful</td>\n",
       "      <td>3518123091307005509</td>\n",
       "      <td>1564054127</td>\n",
       "      <td>248</td>\n",
       "    </tr>\n",
       "    <tr>\n",
       "      <th>3</th>\n",
       "      <td>CartScreenAppear</td>\n",
       "      <td>3518123091307005509</td>\n",
       "      <td>1564054127</td>\n",
       "      <td>248</td>\n",
       "    </tr>\n",
       "    <tr>\n",
       "      <th>4</th>\n",
       "      <td>PaymentScreenSuccessful</td>\n",
       "      <td>6217807653094995999</td>\n",
       "      <td>1564055322</td>\n",
       "      <td>248</td>\n",
       "    </tr>\n",
       "  </tbody>\n",
       "</table>\n",
       "</div>"
      ],
      "text/plain": [
       "                 EventName         DeviceIDHash  EventTimestamp  ExpId\n",
       "0         MainScreenAppear  4575588528974610257      1564029816    246\n",
       "1         MainScreenAppear  7416695313311560658      1564053102    246\n",
       "2  PaymentScreenSuccessful  3518123091307005509      1564054127    248\n",
       "3         CartScreenAppear  3518123091307005509      1564054127    248\n",
       "4  PaymentScreenSuccessful  6217807653094995999      1564055322    248"
      ]
     },
     "metadata": {},
     "output_type": "display_data"
    }
   ],
   "source": [
    "# видим, что данные разделены сепаратором \\t, считаем этот формат \n",
    "data = pd.read_csv('/datasets/logs_exp.csv',sep='\\t')\n",
    "display(data.head())"
   ]
  },
  {
   "cell_type": "code",
   "execution_count": 4,
   "metadata": {},
   "outputs": [
    {
     "data": {
      "text/html": [
       "<div>\n",
       "<style scoped>\n",
       "    .dataframe tbody tr th:only-of-type {\n",
       "        vertical-align: middle;\n",
       "    }\n",
       "\n",
       "    .dataframe tbody tr th {\n",
       "        vertical-align: top;\n",
       "    }\n",
       "\n",
       "    .dataframe thead th {\n",
       "        text-align: right;\n",
       "    }\n",
       "</style>\n",
       "<table border=\"1\" class=\"dataframe\">\n",
       "  <thead>\n",
       "    <tr style=\"text-align: right;\">\n",
       "      <th></th>\n",
       "      <th>DeviceIDHash</th>\n",
       "      <th>EventTimestamp</th>\n",
       "      <th>ExpId</th>\n",
       "    </tr>\n",
       "  </thead>\n",
       "  <tbody>\n",
       "    <tr>\n",
       "      <th>count</th>\n",
       "      <td>2.441260e+05</td>\n",
       "      <td>2.441260e+05</td>\n",
       "      <td>244126.000000</td>\n",
       "    </tr>\n",
       "    <tr>\n",
       "      <th>mean</th>\n",
       "      <td>4.627568e+18</td>\n",
       "      <td>1.564914e+09</td>\n",
       "      <td>247.022296</td>\n",
       "    </tr>\n",
       "    <tr>\n",
       "      <th>std</th>\n",
       "      <td>2.642425e+18</td>\n",
       "      <td>1.771343e+05</td>\n",
       "      <td>0.824434</td>\n",
       "    </tr>\n",
       "    <tr>\n",
       "      <th>min</th>\n",
       "      <td>6.888747e+15</td>\n",
       "      <td>1.564030e+09</td>\n",
       "      <td>246.000000</td>\n",
       "    </tr>\n",
       "    <tr>\n",
       "      <th>25%</th>\n",
       "      <td>2.372212e+18</td>\n",
       "      <td>1.564757e+09</td>\n",
       "      <td>246.000000</td>\n",
       "    </tr>\n",
       "    <tr>\n",
       "      <th>50%</th>\n",
       "      <td>4.623192e+18</td>\n",
       "      <td>1.564919e+09</td>\n",
       "      <td>247.000000</td>\n",
       "    </tr>\n",
       "    <tr>\n",
       "      <th>75%</th>\n",
       "      <td>6.932517e+18</td>\n",
       "      <td>1.565075e+09</td>\n",
       "      <td>248.000000</td>\n",
       "    </tr>\n",
       "    <tr>\n",
       "      <th>max</th>\n",
       "      <td>9.222603e+18</td>\n",
       "      <td>1.565213e+09</td>\n",
       "      <td>248.000000</td>\n",
       "    </tr>\n",
       "  </tbody>\n",
       "</table>\n",
       "</div>"
      ],
      "text/plain": [
       "       DeviceIDHash  EventTimestamp          ExpId\n",
       "count  2.441260e+05    2.441260e+05  244126.000000\n",
       "mean   4.627568e+18    1.564914e+09     247.022296\n",
       "std    2.642425e+18    1.771343e+05       0.824434\n",
       "min    6.888747e+15    1.564030e+09     246.000000\n",
       "25%    2.372212e+18    1.564757e+09     246.000000\n",
       "50%    4.623192e+18    1.564919e+09     247.000000\n",
       "75%    6.932517e+18    1.565075e+09     248.000000\n",
       "max    9.222603e+18    1.565213e+09     248.000000"
      ]
     },
     "metadata": {},
     "output_type": "display_data"
    },
    {
     "name": "stdout",
     "output_type": "stream",
     "text": [
      "<class 'pandas.core.frame.DataFrame'>\n",
      "RangeIndex: 244126 entries, 0 to 244125\n",
      "Data columns (total 4 columns):\n",
      " #   Column          Non-Null Count   Dtype \n",
      "---  ------          --------------   ----- \n",
      " 0   EventName       244126 non-null  object\n",
      " 1   DeviceIDHash    244126 non-null  int64 \n",
      " 2   EventTimestamp  244126 non-null  int64 \n",
      " 3   ExpId           244126 non-null  int64 \n",
      "dtypes: int64(3), object(1)\n",
      "memory usage: 7.5+ MB\n"
     ]
    },
    {
     "data": {
      "text/plain": [
       "None"
      ]
     },
     "metadata": {},
     "output_type": "display_data"
    }
   ],
   "source": [
    "# сразу верхнеуровнево посмотрим информацию о датасете \n",
    "display(data.describe())\n",
    "display(data.info())"
   ]
  },
  {
   "cell_type": "markdown",
   "metadata": {},
   "source": [
    "## Вывод по шагу 1\n",
    "Загрузили данные, обработав используемый в датасете сепаратор. \n",
    "\n",
    "В датасете 244126 записей. Можно переходить к предобработке данных. "
   ]
  },
  {
   "cell_type": "markdown",
   "metadata": {},
   "source": [
    "# Шаг 2. Предобработка данных \n",
    "В рамках предобработки данных для дальнейшего анализа сделаем следующее: \n",
    "- заменим названия столбцов на более удобные, с snake_case \n",
    "- проверим данные на наличие явных дубликатов и избавимся от них, если такие есть \n",
    "- выделим дату и время в отдельный столбец "
   ]
  },
  {
   "cell_type": "code",
   "execution_count": 5,
   "metadata": {},
   "outputs": [
    {
     "data": {
      "text/html": [
       "<div>\n",
       "<style scoped>\n",
       "    .dataframe tbody tr th:only-of-type {\n",
       "        vertical-align: middle;\n",
       "    }\n",
       "\n",
       "    .dataframe tbody tr th {\n",
       "        vertical-align: top;\n",
       "    }\n",
       "\n",
       "    .dataframe thead th {\n",
       "        text-align: right;\n",
       "    }\n",
       "</style>\n",
       "<table border=\"1\" class=\"dataframe\">\n",
       "  <thead>\n",
       "    <tr style=\"text-align: right;\">\n",
       "      <th></th>\n",
       "      <th>event_name</th>\n",
       "      <th>device_id</th>\n",
       "      <th>event_time</th>\n",
       "      <th>exp_id</th>\n",
       "    </tr>\n",
       "  </thead>\n",
       "  <tbody>\n",
       "    <tr>\n",
       "      <th>0</th>\n",
       "      <td>MainScreenAppear</td>\n",
       "      <td>4575588528974610257</td>\n",
       "      <td>1564029816</td>\n",
       "      <td>246</td>\n",
       "    </tr>\n",
       "    <tr>\n",
       "      <th>1</th>\n",
       "      <td>MainScreenAppear</td>\n",
       "      <td>7416695313311560658</td>\n",
       "      <td>1564053102</td>\n",
       "      <td>246</td>\n",
       "    </tr>\n",
       "    <tr>\n",
       "      <th>2</th>\n",
       "      <td>PaymentScreenSuccessful</td>\n",
       "      <td>3518123091307005509</td>\n",
       "      <td>1564054127</td>\n",
       "      <td>248</td>\n",
       "    </tr>\n",
       "    <tr>\n",
       "      <th>3</th>\n",
       "      <td>CartScreenAppear</td>\n",
       "      <td>3518123091307005509</td>\n",
       "      <td>1564054127</td>\n",
       "      <td>248</td>\n",
       "    </tr>\n",
       "    <tr>\n",
       "      <th>4</th>\n",
       "      <td>PaymentScreenSuccessful</td>\n",
       "      <td>6217807653094995999</td>\n",
       "      <td>1564055322</td>\n",
       "      <td>248</td>\n",
       "    </tr>\n",
       "  </tbody>\n",
       "</table>\n",
       "</div>"
      ],
      "text/plain": [
       "                event_name            device_id  event_time  exp_id\n",
       "0         MainScreenAppear  4575588528974610257  1564029816     246\n",
       "1         MainScreenAppear  7416695313311560658  1564053102     246\n",
       "2  PaymentScreenSuccessful  3518123091307005509  1564054127     248\n",
       "3         CartScreenAppear  3518123091307005509  1564054127     248\n",
       "4  PaymentScreenSuccessful  6217807653094995999  1564055322     248"
      ]
     },
     "metadata": {},
     "output_type": "display_data"
    }
   ],
   "source": [
    "# переименовываем столбцы \n",
    "data.columns = ['event_name', 'device_id', 'event_time', 'exp_id']\n",
    "display(data.head())"
   ]
  },
  {
   "cell_type": "code",
   "execution_count": 6,
   "metadata": {},
   "outputs": [
    {
     "name": "stdout",
     "output_type": "stream",
     "text": [
      "Количество явных дубликатов в датасете:  413\n"
     ]
    }
   ],
   "source": [
    "# количество дубликатов в датасете\n",
    "print('Количество явных дубликатов в датасете: ', data.duplicated().sum())\n"
   ]
  },
  {
   "cell_type": "code",
   "execution_count": 7,
   "metadata": {},
   "outputs": [
    {
     "name": "stdout",
     "output_type": "stream",
     "text": [
      "Количество явных дубликатов в датасете после удаления:  0\n"
     ]
    }
   ],
   "source": [
    "# удаляем дубликаты \n",
    "data = data.drop_duplicates().reset_index(drop=True)\n",
    "print('Количество явных дубликатов в датасете после удаления: ', data.duplicated().sum())"
   ]
  },
  {
   "cell_type": "code",
   "execution_count": 8,
   "metadata": {},
   "outputs": [
    {
     "name": "stdout",
     "output_type": "stream",
     "text": [
      "Количество пропусков: \n"
     ]
    },
    {
     "data": {
      "text/plain": [
       "event_name    0\n",
       "device_id     0\n",
       "event_time    0\n",
       "exp_id        0\n",
       "dtype: int64"
      ]
     },
     "execution_count": 8,
     "metadata": {},
     "output_type": "execute_result"
    }
   ],
   "source": [
    "# теперь проверим количество пропусков \n",
    "print('Количество пропусков: ')\n",
    "data.isna().sum()"
   ]
  },
  {
   "cell_type": "code",
   "execution_count": 9,
   "metadata": {},
   "outputs": [
    {
     "data": {
      "text/html": [
       "<div>\n",
       "<style scoped>\n",
       "    .dataframe tbody tr th:only-of-type {\n",
       "        vertical-align: middle;\n",
       "    }\n",
       "\n",
       "    .dataframe tbody tr th {\n",
       "        vertical-align: top;\n",
       "    }\n",
       "\n",
       "    .dataframe thead th {\n",
       "        text-align: right;\n",
       "    }\n",
       "</style>\n",
       "<table border=\"1\" class=\"dataframe\">\n",
       "  <thead>\n",
       "    <tr style=\"text-align: right;\">\n",
       "      <th></th>\n",
       "      <th>event_name</th>\n",
       "      <th>device_id</th>\n",
       "      <th>event_time</th>\n",
       "      <th>exp_id</th>\n",
       "      <th>date</th>\n",
       "    </tr>\n",
       "  </thead>\n",
       "  <tbody>\n",
       "    <tr>\n",
       "      <th>0</th>\n",
       "      <td>MainScreenAppear</td>\n",
       "      <td>4575588528974610257</td>\n",
       "      <td>2019-07-25 04:43:36</td>\n",
       "      <td>246</td>\n",
       "      <td>2019-07-25</td>\n",
       "    </tr>\n",
       "    <tr>\n",
       "      <th>1</th>\n",
       "      <td>MainScreenAppear</td>\n",
       "      <td>7416695313311560658</td>\n",
       "      <td>2019-07-25 11:11:42</td>\n",
       "      <td>246</td>\n",
       "      <td>2019-07-25</td>\n",
       "    </tr>\n",
       "    <tr>\n",
       "      <th>2</th>\n",
       "      <td>PaymentScreenSuccessful</td>\n",
       "      <td>3518123091307005509</td>\n",
       "      <td>2019-07-25 11:28:47</td>\n",
       "      <td>248</td>\n",
       "      <td>2019-07-25</td>\n",
       "    </tr>\n",
       "    <tr>\n",
       "      <th>3</th>\n",
       "      <td>CartScreenAppear</td>\n",
       "      <td>3518123091307005509</td>\n",
       "      <td>2019-07-25 11:28:47</td>\n",
       "      <td>248</td>\n",
       "      <td>2019-07-25</td>\n",
       "    </tr>\n",
       "    <tr>\n",
       "      <th>4</th>\n",
       "      <td>PaymentScreenSuccessful</td>\n",
       "      <td>6217807653094995999</td>\n",
       "      <td>2019-07-25 11:48:42</td>\n",
       "      <td>248</td>\n",
       "      <td>2019-07-25</td>\n",
       "    </tr>\n",
       "  </tbody>\n",
       "</table>\n",
       "</div>"
      ],
      "text/plain": [
       "                event_name            device_id          event_time  exp_id  \\\n",
       "0         MainScreenAppear  4575588528974610257 2019-07-25 04:43:36     246   \n",
       "1         MainScreenAppear  7416695313311560658 2019-07-25 11:11:42     246   \n",
       "2  PaymentScreenSuccessful  3518123091307005509 2019-07-25 11:28:47     248   \n",
       "3         CartScreenAppear  3518123091307005509 2019-07-25 11:28:47     248   \n",
       "4  PaymentScreenSuccessful  6217807653094995999 2019-07-25 11:48:42     248   \n",
       "\n",
       "        date  \n",
       "0 2019-07-25  \n",
       "1 2019-07-25  \n",
       "2 2019-07-25  \n",
       "3 2019-07-25  \n",
       "4 2019-07-25  "
      ]
     },
     "metadata": {},
     "output_type": "display_data"
    },
    {
     "name": "stdout",
     "output_type": "stream",
     "text": [
      "<class 'pandas.core.frame.DataFrame'>\n",
      "RangeIndex: 243713 entries, 0 to 243712\n",
      "Data columns (total 5 columns):\n",
      " #   Column      Non-Null Count   Dtype         \n",
      "---  ------      --------------   -----         \n",
      " 0   event_name  243713 non-null  object        \n",
      " 1   device_id   243713 non-null  int64         \n",
      " 2   event_time  243713 non-null  datetime64[ns]\n",
      " 3   exp_id      243713 non-null  int64         \n",
      " 4   date        243713 non-null  datetime64[ns]\n",
      "dtypes: datetime64[ns](2), int64(2), object(1)\n",
      "memory usage: 9.3+ MB\n"
     ]
    }
   ],
   "source": [
    "# нужно добавить столбец даты и времени и отдельный столбец дат\n",
    "# вместо добавления нового столбца просто поменяем тип данных в столбце event_time\n",
    "data['event_time'] = pd.to_datetime(data['event_time'], unit='s')\n",
    "data['date']=data['event_time'].dt.strftime('%Y-%m-%d')\n",
    "data['date'] = pd.to_datetime(data['date'])\n",
    "display(data.head())\n",
    "data.info()"
   ]
  },
  {
   "cell_type": "markdown",
   "metadata": {},
   "source": [
    "## Вывод по шагу 2\n",
    "Удалили 413 явных дубликата из датасета, переименовали столбцы в удобный для работы snake_case. Проверили, что в датасете нет пропусков. Отформатировали столбец с датой и временем, вывели дату в отдельный столбец для удобства дальнейшего анализа. На этом подготовку можно считать сделанной, можно приступать к изучению данных. "
   ]
  },
  {
   "cell_type": "markdown",
   "metadata": {},
   "source": [
    "# Шаг 3. Изучение и проверка данных\n",
    "На этом шаге изучим и очистим данные, ответив на вопросы: \n",
    "- Сколько всего событий в логе?\n",
    "- Сколько всего пользователей в логе?\n",
    "- Сколько в среднем событий приходится на пользователя?\n",
    "- Данными за какой период мы располагаем? \n",
    "- Найдём максимальную и минимальную дату. \n",
    "- Изучим, как меняется количество данных: построим столбчатую диаграмму, которая отобразит количество событий в зависимости от времени в разрезе групп. Узнаем, можно ли быть уверенным, что у нас одинаково полные данные за весь период? Технически в логи новых дней по некоторым пользователям могут «доезжать» события из прошлого — это может «перекашивать данные». Определим, с какого момента данные полные и отбросим более старые. \n",
    "- Данными за какой период времени мы располагаем на самом деле?\n",
    "- Много ли событий и пользователей мы потеряем, отбросив старые данные?\n",
    "- Проверим, что у нас есть пользователи из всех трёх экспериментальных групп."
   ]
  },
  {
   "cell_type": "code",
   "execution_count": 10,
   "metadata": {},
   "outputs": [
    {
     "name": "stdout",
     "output_type": "stream",
     "text": [
      "Количество событий в логе:  243713\n"
     ]
    }
   ],
   "source": [
    "# Количество событий в логе = количеству записей после удаления явных дубликатов \n",
    "print('Количество событий в логе: ', len(data))"
   ]
  },
  {
   "cell_type": "code",
   "execution_count": 11,
   "metadata": {},
   "outputs": [
    {
     "name": "stdout",
     "output_type": "stream",
     "text": [
      "Количество пользователей, фигурирующих в логе: 7551\n"
     ]
    }
   ],
   "source": [
    "# Под пользователями в логе понимается device id, посчитаем их количество \n",
    "print('Количество пользователей, фигурирующих в логе:', len(data['device_id'].unique()))"
   ]
  },
  {
   "cell_type": "code",
   "execution_count": 12,
   "metadata": {},
   "outputs": [
    {
     "data": {
      "text/plain": [
       "count    7551.000000\n",
       "mean       32.275593\n",
       "std        65.154219\n",
       "min         1.000000\n",
       "25%         9.000000\n",
       "50%        20.000000\n",
       "75%        37.000000\n",
       "max      2307.000000\n",
       "Name: device_id, dtype: float64"
      ]
     },
     "execution_count": 12,
     "metadata": {},
     "output_type": "execute_result"
    }
   ],
   "source": [
    "# среднее количество событий на пользователя - посмотрим медиану, среднее и перцентили \n",
    "data['device_id'].value_counts().describe()\n"
   ]
  },
  {
   "cell_type": "code",
   "execution_count": 13,
   "metadata": {},
   "outputs": [
    {
     "data": {
      "image/png": "[encoded data removed]",
      "text/plain": [
       "<Figure size 1080x360 with 1 Axes>"
      ]
     },
     "metadata": {
      "needs_background": "light"
     },
     "output_type": "display_data"
    },
    {
     "data": {
      "image/png": "[encoded data removed]",
      "text/plain": [
       "<Figure size 1080x360 with 1 Axes>"
      ]
     },
     "metadata": {
      "needs_background": "light"
     },
     "output_type": "display_data"
    },
    {
     "data": {
      "image/png": "[encoded data removed]",
      "text/plain": [
       "<Figure size 1080x360 with 1 Axes>"
      ]
     },
     "metadata": {
      "needs_background": "light"
     },
     "output_type": "display_data"
    }
   ],
   "source": [
    "# визуализируем  и масштабируем \n",
    "plt.figure(figsize=(15, 5))\n",
    "data['device_id'].value_counts().hist(bins=50)\n",
    "plt.title('Распределение записей по устройствам (все записи)')\n",
    "plt.xlabel('Количество записей на устройство')\n",
    "plt.ylabel('Частота')\n",
    "plt.show()\n",
    "\n",
    "# Визуализация с ограничением по оси X\n",
    "plt.figure(figsize=(15, 5))\n",
    "data['device_id'].value_counts().hist(bins=50)\n",
    "plt.xlim(0, 500)  # Ограничиваем диапазон по X\n",
    "plt.title('Распределение записей по устройствам (до 500 записей на пользователя)')\n",
    "plt.xlabel('Количество записей на устройство')\n",
    "plt.ylabel('Частота')\n",
    "plt.show()\n",
    "\n",
    "\n",
    "plt.figure(figsize=(15, 5))\n",
    "data['device_id'].value_counts().hist(bins=50)\n",
    "plt.xlim(0, 100)  # Ограничиваем диапазон по X\n",
    "plt.title('Распределение записей по устройствам (до 100 записей на пользователя)')\n",
    "plt.xlabel('Количество записей на устройство')\n",
    "plt.ylabel('Частота')\n",
    "plt.show()\n",
    "\n"
   ]
  },
  {
   "cell_type": "markdown",
   "metadata": {},
   "source": [
    "Получили среднее значение количества записей в логе на пользователя - 32. \n",
    "Для 50% пользователей в логе есть по 20 записей, максимальное значение - 2307 записей. \n",
    "Далее оценим, данными за какой срок мы располагаем "
   ]
  },
  {
   "cell_type": "code",
   "execution_count": 14,
   "metadata": {},
   "outputs": [
    {
     "name": "stdout",
     "output_type": "stream",
     "text": [
      "Данные в датасете - от 2019-07-25 00:00:00 до 2019-08-07 00:00:00\n"
     ]
    }
   ],
   "source": [
    "print('Данные в датасете - от', data['date'].min(), 'до', data['date'].max())"
   ]
  },
  {
   "cell_type": "markdown",
   "metadata": {},
   "source": [
    "Итак, мы располагаем данными за период от 25 июля 2019 до 7 августа 2019 года. Визуализируем график и посмотрим, сколько событий у нас есть по дням. "
   ]
  },
  {
   "cell_type": "code",
   "execution_count": 15,
   "metadata": {},
   "outputs": [
    {
     "data": {
      "image/png": "[encoded data removed]",
      "text/plain": [
       "<Figure size 1080x360 with 1 Axes>"
      ]
     },
     "metadata": {
      "needs_background": "light"
     },
     "output_type": "display_data"
    }
   ],
   "source": [
    "# Визуализируем \n",
    "# Группируем данные по дате и считаем количество записей\n",
    "daily_records = data.groupby('date')['event_name'].count().reset_index(name='records_count')\n",
    "# Сортируем по дате \n",
    "daily_records = daily_records.sort_values('date')\n",
    "# уберём время \n",
    "daily_records['date'] = daily_records['date'].dt.strftime('%Y-%m-%d')\n",
    "\n",
    "plt.figure(figsize=(15, 5))\n",
    "ax = sns.barplot(x='date', y='records_count', data=daily_records, \n",
    "                palette='crest', saturation=0.8)\n",
    "\n",
    "# Добавляем подписи внутри столбцов, чтобы было нагляднее\n",
    "for i, v in enumerate(daily_records['records_count']):\n",
    "    ax.text(i, v/2, str(v),\n",
    "            ha='center', va='center', \n",
    "            color='white', fontweight='bold')\n",
    "\n",
    "plt.title('Количество записей в логе по дням', pad=20)\n",
    "plt.xlabel('Дата')\n",
    "plt.ylabel('Количество записей')\n",
    "plt.xticks(rotation=45)\n",
    "plt.grid(axis='y', linestyle='--', alpha=1)\n",
    "plt.tight_layout()\n",
    "plt.show()\n"
   ]
  },
  {
   "cell_type": "markdown",
   "metadata": {},
   "source": [
    "Видим, что до 1 августа сообщений в логах относительно мало. Мы имеем дело с логами, поэтому такой рост может быть вызван не только ростом активности пользователей с 1 августа, но и тем, чтов системе, например, могли включить нужный уровень логирования. В любом случае, корректно будет взять данные по дням, в которые было сравнительно одинаковое количество событий. Поэтому ограничимся данными за 01.08-07.08. "
   ]
  },
  {
   "cell_type": "code",
   "execution_count": 16,
   "metadata": {},
   "outputs": [
    {
     "name": "stdout",
     "output_type": "stream",
     "text": [
      "<class 'pandas.core.frame.DataFrame'>\n",
      "Int64Index: 240887 entries, 2826 to 243712\n",
      "Data columns (total 5 columns):\n",
      " #   Column      Non-Null Count   Dtype         \n",
      "---  ------      --------------   -----         \n",
      " 0   event_name  240887 non-null  object        \n",
      " 1   device_id   240887 non-null  int64         \n",
      " 2   event_time  240887 non-null  datetime64[ns]\n",
      " 3   exp_id      240887 non-null  int64         \n",
      " 4   date        240887 non-null  datetime64[ns]\n",
      "dtypes: datetime64[ns](2), int64(2), object(1)\n",
      "memory usage: 11.0+ MB\n"
     ]
    }
   ],
   "source": [
    "# не будем перезаписывать имеющийся датасет, запишем в новую переменную отфильтрованные данные \n",
    "start_date = pd.to_datetime('2019-08-01')\n",
    "data_filtered = data.query(f\"date >= '{start_date}'\")  \n",
    "data_filtered.info()"
   ]
  },
  {
   "cell_type": "markdown",
   "metadata": {},
   "source": [
    "После фильтрации из 244126 осталось 240887 записей в датасете, т.е. мы отфильтровали небольшой процент. Посчитаем, какой именно процент отфильтровали"
   ]
  },
  {
   "cell_type": "code",
   "execution_count": 17,
   "metadata": {},
   "outputs": [
    {
     "name": "stdout",
     "output_type": "stream",
     "text": [
      "Количество данных в логе до фильтрации:                    243713\n",
      "Количество данных в логе после фильтрации:                 240887\n",
      "Количество уникальных пользователей до фильтрации:         7551\n",
      "Количество уникальных пользователей после фильтрации:      7534\n",
      "Убрано пользователей после фильтрации:                     17\n",
      "Процент пользователей, данные по которым отбрасываем:      0.22513574361011787\n",
      "Среднее количество событий на пользователя до фильтрации:  32.27559263673685\n",
      "Среднее количество событий на пользователя до фильтрации:  31.97332094504911\n"
     ]
    }
   ],
   "source": [
    "users = data['device_id'].nunique()\n",
    "users_filtered = data_filtered['device_id'].nunique()\n",
    "print('Количество данных в логе до фильтрации:                   ', len(data))\n",
    "print('Количество данных в логе после фильтрации:                ', len(data_filtered))\n",
    "print('Количество уникальных пользователей до фильтрации:        ', users)\n",
    "print('Количество уникальных пользователей после фильтрации:     ', users_filtered)\n",
    "print('Убрано пользователей после фильтрации:                    ', (users - users_filtered))\n",
    "print('Процент пользователей, данные по которым отбрасываем:     ', (100*(users - users_filtered)/users))\n",
    "print('Среднее количество событий на пользователя до фильтрации: ', len(data['device_id'])/users)\n",
    "print('Среднее количество событий на пользователя до фильтрации: ', len(data_filtered['device_id'])/users_filtered)"
   ]
  },
  {
   "cell_type": "markdown",
   "metadata": {},
   "source": [
    "Получается, мы удалим данные всего по 17 пользователям, избавившись от данных до 1 августа, и это 0.23 процента от всей массы пользователей. Среднее количество событий на пользователя при этом не поменяется, это 32 - объяснимо, объём данных, которые мы отбрасываем, несравнимо мал. \n",
    "\n",
    "\n",
    "\n",
    "Для завершения шага осталось проверить, что у нас есть пользователи из всех трёх групп. Принадлежность к группе мы можем проверить по полю exp_id"
   ]
  },
  {
   "cell_type": "code",
   "execution_count": 18,
   "metadata": {},
   "outputs": [
    {
     "data": {
      "text/html": [
       "<div>\n",
       "<style scoped>\n",
       "    .dataframe tbody tr th:only-of-type {\n",
       "        vertical-align: middle;\n",
       "    }\n",
       "\n",
       "    .dataframe tbody tr th {\n",
       "        vertical-align: top;\n",
       "    }\n",
       "\n",
       "    .dataframe thead th {\n",
       "        text-align: right;\n",
       "    }\n",
       "</style>\n",
       "<table border=\"1\" class=\"dataframe\">\n",
       "  <thead>\n",
       "    <tr style=\"text-align: right;\">\n",
       "      <th></th>\n",
       "      <th>device_id</th>\n",
       "    </tr>\n",
       "    <tr>\n",
       "      <th>exp_id</th>\n",
       "      <th></th>\n",
       "    </tr>\n",
       "  </thead>\n",
       "  <tbody>\n",
       "    <tr>\n",
       "      <th>246</th>\n",
       "      <td>2484</td>\n",
       "    </tr>\n",
       "    <tr>\n",
       "      <th>247</th>\n",
       "      <td>2513</td>\n",
       "    </tr>\n",
       "    <tr>\n",
       "      <th>248</th>\n",
       "      <td>2537</td>\n",
       "    </tr>\n",
       "  </tbody>\n",
       "</table>\n",
       "</div>"
      ],
      "text/plain": [
       "        device_id\n",
       "exp_id           \n",
       "246          2484\n",
       "247          2513\n",
       "248          2537"
      ]
     },
     "metadata": {},
     "output_type": "display_data"
    }
   ],
   "source": [
    "\n",
    "display(data_filtered.groupby('exp_id').agg({'device_id': 'nunique'}))"
   ]
  },
  {
   "cell_type": "markdown",
   "metadata": {},
   "source": [
    "Данные по всем трём группам есть, и их примерно одинаковое количество. \n",
    "## Вывод по шагу 3\n",
    "Изучили данные, узнали, что \n",
    "- изначально в логе было 243713 записи;\n",
    "- в записях фигурирует информация по 7551 уникальному пользователю;\n",
    "- в среднем на пользователя приходится 32 записи в логе; \n",
    "- в логе представлены данные за период 25.07-07.08.2019.\n",
    "Отбросили данные до 01.08, поскольку их несравнимо мало, и они могут повлиять на корректность результатов анализа. \n",
    "После фильтрации мы отбросили данные по 17 пользователям, это 0.22 процента от общей массы. Кроме того, фильтрация данных не оказала существенного влияния на количество записей на каждого пользователя. \n",
    "Также в рамках шага проверили, что мы располагаем данными из всех трёх экспериментальных групп, и количество пользователей в группах примерно одинаково. \n",
    "\n",
    "Дальше будем работать с отфильтрованными данными. \n",
    "\n"
   ]
  },
  {
   "cell_type": "markdown",
   "metadata": {},
   "source": [
    "# Шаг 4. Изучение воронки событий\n",
    "\n",
    "В рамках шага нам предстоит: \n",
    "- Посмотреть, какие события есть в логах, как часто они встречаются. Отсортировать события по частоте.\n",
    "- Посчитать, сколько пользователей совершали каждое из этих событий. Отсортировать события по числу пользователей. \n",
    "- Посчитать долю пользователей, которые хоть раз совершали событие.\n",
    "- Предположить, в каком порядке происходят события. Все ли они выстраиваются в последовательную цепочку? Их не нужно учитывать при расчёте воронки.\n",
    "- По воронке событий посчитать, какая доля пользователей проходит на следующий шаг воронки (от числа пользователей на предыдущем). То есть для последовательности событий A → B → C посчитать отношение числа пользователей с событием B к количеству пользователей с событием A, а также отношение числа пользователей с событием C к количеству пользователей с событием B.\n",
    "- Узнать, на каком шаге мы теряем больше всего пользователей. \n",
    "- Выяснить, какая доля пользователей доходит от первого события до оплаты. \n",
    "\n",
    "\n",
    "\n"
   ]
  },
  {
   "cell_type": "code",
   "execution_count": 19,
   "metadata": {},
   "outputs": [
    {
     "data": {
      "text/plain": [
       "event_name\n",
       "MainScreenAppear           117328\n",
       "OffersScreenAppear          46333\n",
       "CartScreenAppear            42303\n",
       "PaymentScreenSuccessful     33918\n",
       "Tutorial                     1005\n",
       "Name: device_id, dtype: int64"
      ]
     },
     "metadata": {},
     "output_type": "display_data"
    }
   ],
   "source": [
    "# выведем сгруппированные по имени события, отсортируем их по частоте фигурирования в логах\n",
    "display(data_filtered\n",
    "        .groupby('event_name')['device_id']\n",
    "        .count()\n",
    "        .sort_values(ascending=False))\n"
   ]
  },
  {
   "cell_type": "markdown",
   "metadata": {},
   "source": [
    "Самое частое событие - MainScreenAppear, затем идут OffersScreenAppear и CartsScreenAppear, затем PaymentScreentSuccessful, и наименее часто встречающееся событие по логам - Tutorial. Описание событий не приложено к данным, но похоже, что \n",
    "- ```MainScreenAppear``` - это появление главного экрана\n",
    "- `OffersScreenAppear` - появление экрана с предложениями\n",
    "- `CartScreenAppear` - экран корзины\n",
    "- `PaymentScreenSuccessful` - успешная оплата\n",
    "- `Tutorial` - мануал по использованию приложения\n"
   ]
  },
  {
   "cell_type": "code",
   "execution_count": 20,
   "metadata": {},
   "outputs": [
    {
     "data": {
      "text/html": [
       "<div>\n",
       "<style scoped>\n",
       "    .dataframe tbody tr th:only-of-type {\n",
       "        vertical-align: middle;\n",
       "    }\n",
       "\n",
       "    .dataframe tbody tr th {\n",
       "        vertical-align: top;\n",
       "    }\n",
       "\n",
       "    .dataframe thead th {\n",
       "        text-align: right;\n",
       "    }\n",
       "</style>\n",
       "<table border=\"1\" class=\"dataframe\">\n",
       "  <thead>\n",
       "    <tr style=\"text-align: right;\">\n",
       "      <th></th>\n",
       "      <th>event_name</th>\n",
       "      <th>total_users</th>\n",
       "      <th>percent</th>\n",
       "    </tr>\n",
       "  </thead>\n",
       "  <tbody>\n",
       "    <tr>\n",
       "      <th>0</th>\n",
       "      <td>MainScreenAppear</td>\n",
       "      <td>7419</td>\n",
       "      <td>98.25</td>\n",
       "    </tr>\n",
       "    <tr>\n",
       "      <th>1</th>\n",
       "      <td>OffersScreenAppear</td>\n",
       "      <td>4593</td>\n",
       "      <td>60.83</td>\n",
       "    </tr>\n",
       "    <tr>\n",
       "      <th>2</th>\n",
       "      <td>CartScreenAppear</td>\n",
       "      <td>3734</td>\n",
       "      <td>49.45</td>\n",
       "    </tr>\n",
       "    <tr>\n",
       "      <th>3</th>\n",
       "      <td>PaymentScreenSuccessful</td>\n",
       "      <td>3539</td>\n",
       "      <td>46.87</td>\n",
       "    </tr>\n",
       "    <tr>\n",
       "      <th>4</th>\n",
       "      <td>Tutorial</td>\n",
       "      <td>840</td>\n",
       "      <td>11.12</td>\n",
       "    </tr>\n",
       "  </tbody>\n",
       "</table>\n",
       "</div>"
      ],
      "text/plain": [
       "                event_name  total_users  percent\n",
       "0         MainScreenAppear         7419    98.25\n",
       "1       OffersScreenAppear         4593    60.83\n",
       "2         CartScreenAppear         3734    49.45\n",
       "3  PaymentScreenSuccessful         3539    46.87\n",
       "4                 Tutorial          840    11.12"
      ]
     },
     "metadata": {},
     "output_type": "display_data"
    }
   ],
   "source": [
    "# Количество пользователей, совершивших каждое событие - группируем данные, сортируем по убыванию \n",
    "users_count = (data_filtered\n",
    "               .groupby('event_name')['device_id']\n",
    "               .nunique()\n",
    "               .sort_values(ascending=False)\n",
    "               .reset_index()\n",
    "               .rename(columns={'device_id': 'total_users'})\n",
    "              )\n",
    "# добавим процент \n",
    "users_count['percent'] = (users_count['total_users'] / data['device_id'].nunique() * 100).round(2)\n",
    "display(users_count)"
   ]
  },
  {
   "cell_type": "code",
   "execution_count": 21,
   "metadata": {},
   "outputs": [
    {
     "data": {
      "image/png": "[encoded data removed]",
      "text/plain": [
       "<Figure size 1080x504 with 1 Axes>"
      ]
     },
     "metadata": {
      "needs_background": "light"
     },
     "output_type": "display_data"
    }
   ],
   "source": [
    "# визуализируем столбчатой диаграммой\n",
    "plt.figure(figsize=(15, 7))\n",
    "sns.barplot(data=users_count.loc[0:4], x='event_name', y='total_users', palette='crest')\n",
    "plt.title('Движение пользователей по приложению')\n",
    "plt.xlabel('События')\n",
    "plt.ylabel('Количество пользователей')\n",
    "plt.show()"
   ]
  },
  {
   "cell_type": "markdown",
   "metadata": {},
   "source": [
    "Судя по всему, воронка выстраивается следующим образом: \n",
    "`MainScreenAppear` -> `OffersScreenAppear` -> `CartScreenAppear` -> `PaymentScreenSuccessful` \n",
    "\n",
    "Экран `Tutorial` - мануал по использованию приложения - скорее всего, необязательный и может быть вызван из любого шага, он не входит в последовательную цепочку действий пользователя. Его мы можем исключить из дальнейшей работы. "
   ]
  },
  {
   "cell_type": "code",
   "execution_count": 22,
   "metadata": {},
   "outputs": [
    {
     "data": {
      "text/html": [
       "<div>\n",
       "<style scoped>\n",
       "    .dataframe tbody tr th:only-of-type {\n",
       "        vertical-align: middle;\n",
       "    }\n",
       "\n",
       "    .dataframe tbody tr th {\n",
       "        vertical-align: top;\n",
       "    }\n",
       "\n",
       "    .dataframe thead th {\n",
       "        text-align: right;\n",
       "    }\n",
       "</style>\n",
       "<table border=\"1\" class=\"dataframe\">\n",
       "  <thead>\n",
       "    <tr style=\"text-align: right;\">\n",
       "      <th></th>\n",
       "      <th>event_name</th>\n",
       "      <th>device_id</th>\n",
       "      <th>percent</th>\n",
       "    </tr>\n",
       "  </thead>\n",
       "  <tbody>\n",
       "    <tr>\n",
       "      <th>0</th>\n",
       "      <td>MainScreenAppear</td>\n",
       "      <td>7419</td>\n",
       "      <td>98.47</td>\n",
       "    </tr>\n",
       "    <tr>\n",
       "      <th>1</th>\n",
       "      <td>OffersScreenAppear</td>\n",
       "      <td>4593</td>\n",
       "      <td>60.96</td>\n",
       "    </tr>\n",
       "    <tr>\n",
       "      <th>2</th>\n",
       "      <td>CartScreenAppear</td>\n",
       "      <td>3734</td>\n",
       "      <td>49.56</td>\n",
       "    </tr>\n",
       "    <tr>\n",
       "      <th>3</th>\n",
       "      <td>PaymentScreenSuccessful</td>\n",
       "      <td>3539</td>\n",
       "      <td>46.97</td>\n",
       "    </tr>\n",
       "    <tr>\n",
       "      <th>4</th>\n",
       "      <td>Tutorial</td>\n",
       "      <td>840</td>\n",
       "      <td>11.15</td>\n",
       "    </tr>\n",
       "  </tbody>\n",
       "</table>\n",
       "</div>"
      ],
      "text/plain": [
       "                event_name  device_id  percent\n",
       "0         MainScreenAppear       7419    98.47\n",
       "1       OffersScreenAppear       4593    60.96\n",
       "2         CartScreenAppear       3734    49.56\n",
       "3  PaymentScreenSuccessful       3539    46.97\n",
       "4                 Tutorial        840    11.15"
      ]
     },
     "metadata": {},
     "output_type": "display_data"
    }
   ],
   "source": [
    "# посчитаем долю пользователей, которые хоть раз совершали событие - для каждого события в логе\n",
    "number_of_events_by_users = (\n",
    "    data_filtered\n",
    "    .groupby('event_name')\n",
    "    .agg({'device_id': 'nunique'})\n",
    "    .sort_values(by='device_id', ascending=False)\n",
    "    .reset_index()\n",
    ")\n",
    "number_of_events_by_users['percent'] = round(\n",
    "    100 * number_of_events_by_users['device_id']\n",
    "    / data_filtered['device_id']\n",
    "    .nunique(), 2\n",
    ")\n",
    "display(number_of_events_by_users)"
   ]
  },
  {
   "cell_type": "markdown",
   "metadata": {},
   "source": [
    "Видим, что до первого шага дошло 98.47 процента пользователей, - это может быть обусловлено тем, что мы взяли логи за конкретные даты, и часть логов - это пользовательские пути, которые начались раньше, чем начался период, за который мы берём срез. Эта часть незначительна, чуть больше полутора процентов, поэтому можем продолжать работать с данными. \n",
    "До второго шага дошло почти 61% пользователей, далее - 49.56 и 46.97 процентов на 3 и 4 шаги соответственно. "
   ]
  },
  {
   "cell_type": "code",
   "execution_count": 23,
   "metadata": {},
   "outputs": [
    {
     "data": {
      "text/html": [
       "<div>\n",
       "<style scoped>\n",
       "    .dataframe tbody tr th:only-of-type {\n",
       "        vertical-align: middle;\n",
       "    }\n",
       "\n",
       "    .dataframe tbody tr th {\n",
       "        vertical-align: top;\n",
       "    }\n",
       "\n",
       "    .dataframe thead th {\n",
       "        text-align: right;\n",
       "    }\n",
       "</style>\n",
       "<table border=\"1\" class=\"dataframe\">\n",
       "  <thead>\n",
       "    <tr style=\"text-align: right;\">\n",
       "      <th></th>\n",
       "      <th>event_name</th>\n",
       "      <th>total_users</th>\n",
       "      <th>percent</th>\n",
       "    </tr>\n",
       "  </thead>\n",
       "  <tbody>\n",
       "    <tr>\n",
       "      <th>0</th>\n",
       "      <td>MainScreenAppear</td>\n",
       "      <td>7419</td>\n",
       "      <td>98.25</td>\n",
       "    </tr>\n",
       "    <tr>\n",
       "      <th>1</th>\n",
       "      <td>OffersScreenAppear</td>\n",
       "      <td>4593</td>\n",
       "      <td>60.83</td>\n",
       "    </tr>\n",
       "    <tr>\n",
       "      <th>2</th>\n",
       "      <td>CartScreenAppear</td>\n",
       "      <td>3734</td>\n",
       "      <td>49.45</td>\n",
       "    </tr>\n",
       "    <tr>\n",
       "      <th>3</th>\n",
       "      <td>PaymentScreenSuccessful</td>\n",
       "      <td>3539</td>\n",
       "      <td>46.87</td>\n",
       "    </tr>\n",
       "  </tbody>\n",
       "</table>\n",
       "</div>"
      ],
      "text/plain": [
       "                event_name  total_users  percent\n",
       "0         MainScreenAppear         7419    98.25\n",
       "1       OffersScreenAppear         4593    60.83\n",
       "2         CartScreenAppear         3734    49.45\n",
       "3  PaymentScreenSuccessful         3539    46.87"
      ]
     },
     "metadata": {},
     "output_type": "display_data"
    },
    {
     "data": {
      "text/html": [
       "<div>\n",
       "<style scoped>\n",
       "    .dataframe tbody tr th:only-of-type {\n",
       "        vertical-align: middle;\n",
       "    }\n",
       "\n",
       "    .dataframe tbody tr th {\n",
       "        vertical-align: top;\n",
       "    }\n",
       "\n",
       "    .dataframe thead th {\n",
       "        text-align: right;\n",
       "    }\n",
       "</style>\n",
       "<table border=\"1\" class=\"dataframe\">\n",
       "  <thead>\n",
       "    <tr style=\"text-align: right;\">\n",
       "      <th></th>\n",
       "      <th>event_name</th>\n",
       "      <th>total_users</th>\n",
       "      <th>percent</th>\n",
       "      <th>total_users_int</th>\n",
       "      <th>users_next_step</th>\n",
       "    </tr>\n",
       "  </thead>\n",
       "  <tbody>\n",
       "    <tr>\n",
       "      <th>0</th>\n",
       "      <td>MainScreenAppear</td>\n",
       "      <td>7419</td>\n",
       "      <td>98.25</td>\n",
       "      <td>NaN</td>\n",
       "      <td>nan%</td>\n",
       "    </tr>\n",
       "    <tr>\n",
       "      <th>1</th>\n",
       "      <td>OffersScreenAppear</td>\n",
       "      <td>4593</td>\n",
       "      <td>60.83</td>\n",
       "      <td>7419.0</td>\n",
       "      <td>62.0%</td>\n",
       "    </tr>\n",
       "    <tr>\n",
       "      <th>2</th>\n",
       "      <td>CartScreenAppear</td>\n",
       "      <td>3734</td>\n",
       "      <td>49.45</td>\n",
       "      <td>4593.0</td>\n",
       "      <td>81.0%</td>\n",
       "    </tr>\n",
       "    <tr>\n",
       "      <th>3</th>\n",
       "      <td>PaymentScreenSuccessful</td>\n",
       "      <td>3539</td>\n",
       "      <td>46.87</td>\n",
       "      <td>3734.0</td>\n",
       "      <td>95.0%</td>\n",
       "    </tr>\n",
       "  </tbody>\n",
       "</table>\n",
       "</div>"
      ],
      "text/plain": [
       "                event_name  total_users  percent  total_users_int  \\\n",
       "0         MainScreenAppear         7419    98.25              NaN   \n",
       "1       OffersScreenAppear         4593    60.83           7419.0   \n",
       "2         CartScreenAppear         3734    49.45           4593.0   \n",
       "3  PaymentScreenSuccessful         3539    46.87           3734.0   \n",
       "\n",
       "  users_next_step  \n",
       "0            nan%  \n",
       "1           62.0%  \n",
       "2           81.0%  \n",
       "3           95.0%  "
      ]
     },
     "metadata": {},
     "output_type": "display_data"
    }
   ],
   "source": [
    "# теперь посчитаем, какая доля пользователей переходит на следующий шаг - для каждого шага воронки \n",
    "# для простоты расчётов добавим столбец с количеством пользователей на предыдущем шаге, сделаем это с помощью shift \n",
    "# отрежем столбец с экраном tutorial, поскольку он не вписывается в последовательность\n",
    "# Создаем копию DataFrame явно\n",
    "users_events = users_count.query('event_name != \"Tutorial\"').copy()\n",
    "\n",
    "display(users_events)\n",
    "\n",
    "users_events['total_users_int'] = users_events['total_users']\n",
    "users_events['total_users_int'] = users_events['total_users_int'].shift(periods=1)\n",
    "\n",
    "# Добавляем в таблицу столбец с долей пользователей, проходящих на каждый следующий шаг воронки\n",
    "users_events['users_next_step'] = (((users_events['total_users']/users_events['total_users_int']).round(2))\n",
    "                                      .apply(lambda x: f\"{x:1.1%}\"))\n",
    "\n",
    "display(users_events)"
   ]
  },
  {
   "cell_type": "markdown",
   "metadata": {},
   "source": [
    "Итого, с главного экрана перешло 62% пользователей, далее к корзине перешёл 81% пользователей, и после захода в корзину к оплате перешло 95% пользователей с предыдущего шага. \n",
    "Здесь легко посчитать, что на первом шаге мы теряем больше всего пользователей - 48%, на переходе к корзине потеряли 19 % пользователей, а на шаге от корзины к оплате переходят почти все, теряется только 5% пользователей. \n",
    "\n",
    "\n",
    "\n",
    "Но мы можем визуализировать воронку для наглядности: "
   ]
  },
  {
   "cell_type": "code",
   "execution_count": 24,
   "metadata": {},
   "outputs": [
    {
     "data": {
      "text/html": [
       "        <script type=\"text/javascript\">\n",
       "        window.PlotlyConfig = {MathJaxConfig: 'local'};\n",
       "        if (window.MathJax) {MathJax.Hub.Config({SVG: {font: \"STIX-Web\"}});}\n",
       "        if (typeof require !== 'undefined') {\n",
       "        require.undef(\"plotly\");\n",
       "        requirejs.config({\n",
       "            paths: {\n",
       "                'plotly': ['https://cdn.plot.ly/plotly-2.6.3.min']\n",
       "            }\n",
       "        });\n",
       "        require(['plotly'], function(Plotly) {\n",
       "            window._Plotly = Plotly;\n",
       "        });\n",
       "        }\n",
       "        </script>\n",
       "        "
      ]
     },
     "metadata": {},
     "output_type": "display_data"
    },
    {
     "data": {
      "application/vnd.plotly.v1+json": {
       "config": {
        "plotlyServerURL": "https://plot.ly"
       },
       "data": [
        {
         "textinfo": "value+percent previous+percent initial",
         "textposition": "inside",
         "type": "funnel",
         "x": [
          7419,
          4593,
          3734,
          3539
         ],
         "y": [
          "MainScreenAppear",
          "OffersScreenAppear",
          "CartScreenAppear",
          "PaymentScreenSuccessful"
         ]
        }
       ],
       "layout": {
        "template": {
         "data": {
          "bar": [
           {
            "error_x": {
             "color": "#2a3f5f"
            },
            "error_y": {
             "color": "#2a3f5f"
            },
            "marker": {
             "line": {
              "color": "#E5ECF6",
              "width": 0.5
             },
             "pattern": {
              "fillmode": "overlay",
              "size": 10,
              "solidity": 0.2
             }
            },
            "type": "bar"
           }
          ],
          "barpolar": [
           {
            "marker": {
             "line": {
              "color": "#E5ECF6",
              "width": 0.5
             },
             "pattern": {
              "fillmode": "overlay",
              "size": 10,
              "solidity": 0.2
             }
            },
            "type": "barpolar"
           }
          ],
          "carpet": [
           {
            "aaxis": {
             "endlinecolor": "#2a3f5f",
             "gridcolor": "white",
             "linecolor": "white",
             "minorgridcolor": "white",
             "startlinecolor": "#2a3f5f"
            },
            "baxis": {
             "endlinecolor": "#2a3f5f",
             "gridcolor": "white",
             "linecolor": "white",
             "minorgridcolor": "white",
             "startlinecolor": "#2a3f5f"
            },
            "type": "carpet"
           }
          ],
          "choropleth": [
           {
            "colorbar": {
             "outlinewidth": 0,
             "ticks": ""
            },
            "type": "choropleth"
           }
          ],
          "contour": [
           {
            "colorbar": {
             "outlinewidth": 0,
             "ticks": ""
            },
            "colorscale": [
             [
              0,
              "#0d0887"
             ],
             [
              0.1111111111111111,
              "#46039f"
             ],
             [
              0.2222222222222222,
              "#7201a8"
             ],
             [
              0.3333333333333333,
              "#9c179e"
             ],
             [
              0.4444444444444444,
              "#bd3786"
             ],
             [
              0.5555555555555556,
              "#d8576b"
             ],
             [
              0.6666666666666666,
              "#ed7953"
             ],
             [
              0.7777777777777778,
              "#fb9f3a"
             ],
             [
              0.8888888888888888,
              "#fdca26"
             ],
             [
              1,
              "#f0f921"
             ]
            ],
            "type": "contour"
           }
          ],
          "contourcarpet": [
           {
            "colorbar": {
             "outlinewidth": 0,
             "ticks": ""
            },
            "type": "contourcarpet"
           }
          ],
          "heatmap": [
           {
            "colorbar": {
             "outlinewidth": 0,
             "ticks": ""
            },
            "colorscale": [
             [
              0,
              "#0d0887"
             ],
             [
              0.1111111111111111,
              "#46039f"
             ],
             [
              0.2222222222222222,
              "#7201a8"
             ],
             [
              0.3333333333333333,
              "#9c179e"
             ],
             [
              0.4444444444444444,
              "#bd3786"
             ],
             [
              0.5555555555555556,
              "#d8576b"
             ],
             [
              0.6666666666666666,
              "#ed7953"
             ],
             [
              0.7777777777777778,
              "#fb9f3a"
             ],
             [
              0.8888888888888888,
              "#fdca26"
             ],
             [
              1,
              "#f0f921"
             ]
            ],
            "type": "heatmap"
           }
          ],
          "heatmapgl": [
           {
            "colorbar": {
             "outlinewidth": 0,
             "ticks": ""
            },
            "colorscale": [
             [
              0,
              "#0d0887"
             ],
             [
              0.1111111111111111,
              "#46039f"
             ],
             [
              0.2222222222222222,
              "#7201a8"
             ],
             [
              0.3333333333333333,
              "#9c179e"
             ],
             [
              0.4444444444444444,
              "#bd3786"
             ],
             [
              0.5555555555555556,
              "#d8576b"
             ],
             [
              0.6666666666666666,
              "#ed7953"
             ],
             [
              0.7777777777777778,
              "#fb9f3a"
             ],
             [
              0.8888888888888888,
              "#fdca26"
             ],
             [
              1,
              "#f0f921"
             ]
            ],
            "type": "heatmapgl"
           }
          ],
          "histogram": [
           {
            "marker": {
             "pattern": {
              "fillmode": "overlay",
              "size": 10,
              "solidity": 0.2
             }
            },
            "type": "histogram"
           }
          ],
          "histogram2d": [
           {
            "colorbar": {
             "outlinewidth": 0,
             "ticks": ""
            },
            "colorscale": [
             [
              0,
              "#0d0887"
             ],
             [
              0.1111111111111111,
              "#46039f"
             ],
             [
              0.2222222222222222,
              "#7201a8"
             ],
             [
              0.3333333333333333,
              "#9c179e"
             ],
             [
              0.4444444444444444,
              "#bd3786"
             ],
             [
              0.5555555555555556,
              "#d8576b"
             ],
             [
              0.6666666666666666,
              "#ed7953"
             ],
             [
              0.7777777777777778,
              "#fb9f3a"
             ],
             [
              0.8888888888888888,
              "#fdca26"
             ],
             [
              1,
              "#f0f921"
             ]
            ],
            "type": "histogram2d"
           }
          ],
          "histogram2dcontour": [
           {
            "colorbar": {
             "outlinewidth": 0,
             "ticks": ""
            },
            "colorscale": [
             [
              0,
              "#0d0887"
             ],
             [
              0.1111111111111111,
              "#46039f"
             ],
             [
              0.2222222222222222,
              "#7201a8"
             ],
             [
              0.3333333333333333,
              "#9c179e"
             ],
             [
              0.4444444444444444,
              "#bd3786"
             ],
             [
              0.5555555555555556,
              "#d8576b"
             ],
             [
              0.6666666666666666,
              "#ed7953"
             ],
             [
              0.7777777777777778,
              "#fb9f3a"
             ],
             [
              0.8888888888888888,
              "#fdca26"
             ],
             [
              1,
              "#f0f921"
             ]
            ],
            "type": "histogram2dcontour"
           }
          ],
          "mesh3d": [
           {
            "colorbar": {
             "outlinewidth": 0,
             "ticks": ""
            },
            "type": "mesh3d"
           }
          ],
          "parcoords": [
           {
            "line": {
             "colorbar": {
              "outlinewidth": 0,
              "ticks": ""
             }
            },
            "type": "parcoords"
           }
          ],
          "pie": [
           {
            "automargin": true,
            "type": "pie"
           }
          ],
          "scatter": [
           {
            "marker": {
             "colorbar": {
              "outlinewidth": 0,
              "ticks": ""
             }
            },
            "type": "scatter"
           }
          ],
          "scatter3d": [
           {
            "line": {
             "colorbar": {
              "outlinewidth": 0,
              "ticks": ""
             }
            },
            "marker": {
             "colorbar": {
              "outlinewidth": 0,
              "ticks": ""
             }
            },
            "type": "scatter3d"
           }
          ],
          "scattercarpet": [
           {
            "marker": {
             "colorbar": {
              "outlinewidth": 0,
              "ticks": ""
             }
            },
            "type": "scattercarpet"
           }
          ],
          "scattergeo": [
           {
            "marker": {
             "colorbar": {
              "outlinewidth": 0,
              "ticks": ""
             }
            },
            "type": "scattergeo"
           }
          ],
          "scattergl": [
           {
            "marker": {
             "colorbar": {
              "outlinewidth": 0,
              "ticks": ""
             }
            },
            "type": "scattergl"
           }
          ],
          "scattermapbox": [
           {
            "marker": {
             "colorbar": {
              "outlinewidth": 0,
              "ticks": ""
             }
            },
            "type": "scattermapbox"
           }
          ],
          "scatterpolar": [
           {
            "marker": {
             "colorbar": {
              "outlinewidth": 0,
              "ticks": ""
             }
            },
            "type": "scatterpolar"
           }
          ],
          "scatterpolargl": [
           {
            "marker": {
             "colorbar": {
              "outlinewidth": 0,
              "ticks": ""
             }
            },
            "type": "scatterpolargl"
           }
          ],
          "scatterternary": [
           {
            "marker": {
             "colorbar": {
              "outlinewidth": 0,
              "ticks": ""
             }
            },
            "type": "scatterternary"
           }
          ],
          "surface": [
           {
            "colorbar": {
             "outlinewidth": 0,
             "ticks": ""
            },
            "colorscale": [
             [
              0,
              "#0d0887"
             ],
             [
              0.1111111111111111,
              "#46039f"
             ],
             [
              0.2222222222222222,
              "#7201a8"
             ],
             [
              0.3333333333333333,
              "#9c179e"
             ],
             [
              0.4444444444444444,
              "#bd3786"
             ],
             [
              0.5555555555555556,
              "#d8576b"
             ],
             [
              0.6666666666666666,
              "#ed7953"
             ],
             [
              0.7777777777777778,
              "#fb9f3a"
             ],
             [
              0.8888888888888888,
              "#fdca26"
             ],
             [
              1,
              "#f0f921"
             ]
            ],
            "type": "surface"
           }
          ],
          "table": [
           {
            "cells": {
             "fill": {
              "color": "#EBF0F8"
             },
             "line": {
              "color": "white"
             }
            },
            "header": {
             "fill": {
              "color": "#C8D4E3"
             },
             "line": {
              "color": "white"
             }
            },
            "type": "table"
           }
          ]
         },
         "layout": {
          "annotationdefaults": {
           "arrowcolor": "#2a3f5f",
           "arrowhead": 0,
           "arrowwidth": 1
          },
          "autotypenumbers": "strict",
          "coloraxis": {
           "colorbar": {
            "outlinewidth": 0,
            "ticks": ""
           }
          },
          "colorscale": {
           "diverging": [
            [
             0,
             "#8e0152"
            ],
            [
             0.1,
             "#c51b7d"
            ],
            [
             0.2,
             "#de77ae"
            ],
            [
             0.3,
             "#f1b6da"
            ],
            [
             0.4,
             "#fde0ef"
            ],
            [
             0.5,
             "#f7f7f7"
            ],
            [
             0.6,
             "#e6f5d0"
            ],
            [
             0.7,
             "#b8e186"
            ],
            [
             0.8,
             "#7fbc41"
            ],
            [
             0.9,
             "#4d9221"
            ],
            [
             1,
             "#276419"
            ]
           ],
           "sequential": [
            [
             0,
             "#0d0887"
            ],
            [
             0.1111111111111111,
             "#46039f"
            ],
            [
             0.2222222222222222,
             "#7201a8"
            ],
            [
             0.3333333333333333,
             "#9c179e"
            ],
            [
             0.4444444444444444,
             "#bd3786"
            ],
            [
             0.5555555555555556,
             "#d8576b"
            ],
            [
             0.6666666666666666,
             "#ed7953"
            ],
            [
             0.7777777777777778,
             "#fb9f3a"
            ],
            [
             0.8888888888888888,
             "#fdca26"
            ],
            [
             1,
             "#f0f921"
            ]
           ],
           "sequentialminus": [
            [
             0,
             "#0d0887"
            ],
            [
             0.1111111111111111,
             "#46039f"
            ],
            [
             0.2222222222222222,
             "#7201a8"
            ],
            [
             0.3333333333333333,
             "#9c179e"
            ],
            [
             0.4444444444444444,
             "#bd3786"
            ],
            [
             0.5555555555555556,
             "#d8576b"
            ],
            [
             0.6666666666666666,
             "#ed7953"
            ],
            [
             0.7777777777777778,
             "#fb9f3a"
            ],
            [
             0.8888888888888888,
             "#fdca26"
            ],
            [
             1,
             "#f0f921"
            ]
           ]
          },
          "colorway": [
           "#636efa",
           "#EF553B",
           "#00cc96",
           "#ab63fa",
           "#FFA15A",
           "#19d3f3",
           "#FF6692",
           "#B6E880",
           "#FF97FF",
           "#FECB52"
          ],
          "font": {
           "color": "#2a3f5f"
          },
          "geo": {
           "bgcolor": "white",
           "lakecolor": "white",
           "landcolor": "#E5ECF6",
           "showlakes": true,
           "showland": true,
           "subunitcolor": "white"
          },
          "hoverlabel": {
           "align": "left"
          },
          "hovermode": "closest",
          "mapbox": {
           "style": "light"
          },
          "paper_bgcolor": "white",
          "plot_bgcolor": "#E5ECF6",
          "polar": {
           "angularaxis": {
            "gridcolor": "white",
            "linecolor": "white",
            "ticks": ""
           },
           "bgcolor": "#E5ECF6",
           "radialaxis": {
            "gridcolor": "white",
            "linecolor": "white",
            "ticks": ""
           }
          },
          "scene": {
           "xaxis": {
            "backgroundcolor": "#E5ECF6",
            "gridcolor": "white",
            "gridwidth": 2,
            "linecolor": "white",
            "showbackground": true,
            "ticks": "",
            "zerolinecolor": "white"
           },
           "yaxis": {
            "backgroundcolor": "#E5ECF6",
            "gridcolor": "white",
            "gridwidth": 2,
            "linecolor": "white",
            "showbackground": true,
            "ticks": "",
            "zerolinecolor": "white"
           },
           "zaxis": {
            "backgroundcolor": "#E5ECF6",
            "gridcolor": "white",
            "gridwidth": 2,
            "linecolor": "white",
            "showbackground": true,
            "ticks": "",
            "zerolinecolor": "white"
           }
          },
          "shapedefaults": {
           "line": {
            "color": "#2a3f5f"
           }
          },
          "ternary": {
           "aaxis": {
            "gridcolor": "white",
            "linecolor": "white",
            "ticks": ""
           },
           "baxis": {
            "gridcolor": "white",
            "linecolor": "white",
            "ticks": ""
           },
           "bgcolor": "#E5ECF6",
           "caxis": {
            "gridcolor": "white",
            "linecolor": "white",
            "ticks": ""
           }
          },
          "title": {
           "x": 0.05
          },
          "xaxis": {
           "automargin": true,
           "gridcolor": "white",
           "linecolor": "white",
           "ticks": "",
           "title": {
            "standoff": 15
           },
           "zerolinecolor": "white",
           "zerolinewidth": 2
          },
          "yaxis": {
           "automargin": true,
           "gridcolor": "white",
           "linecolor": "white",
           "ticks": "",
           "title": {
            "standoff": 15
           },
           "zerolinecolor": "white",
           "zerolinewidth": 2
          }
         }
        },
        "title": {
         "font": {
          "size": 18
         },
         "text": "Воронка событий"
        },
        "yaxis": {
         "title": {
          "text": "События"
         }
        }
       }
      },
      "text/html": [
       "<div>                            <div id=\"b67a3e0e-7a7d-400c-b0a1-d8e212a19b83\" class=\"plotly-graph-div\" style=\"height:525px; width:100%;\"></div>            <script type=\"text/javascript\">                require([\"plotly\"], function(Plotly) {                    window.PLOTLYENV=window.PLOTLYENV || {};                                    if (document.getElementById(\"b67a3e0e-7a7d-400c-b0a1-d8e212a19b83\")) {                    Plotly.newPlot(                        \"b67a3e0e-7a7d-400c-b0a1-d8e212a19b83\",                        [{\"textinfo\":\"value+percent previous+percent initial\",\"textposition\":\"inside\",\"x\":[7419,4593,3734,3539],\"y\":[\"MainScreenAppear\",\"OffersScreenAppear\",\"CartScreenAppear\",\"PaymentScreenSuccessful\"],\"type\":\"funnel\"}],                        {\"template\":{\"data\":{\"bar\":[{\"error_x\":{\"color\":\"#2a3f5f\"},\"error_y\":{\"color\":\"#2a3f5f\"},\"marker\":{\"line\":{\"color\":\"#E5ECF6\",\"width\":0.5},\"pattern\":{\"fillmode\":\"overlay\",\"size\":10,\"solidity\":0.2}},\"type\":\"bar\"}],\"barpolar\":[{\"marker\":{\"line\":{\"color\":\"#E5ECF6\",\"width\":0.5},\"pattern\":{\"fillmode\":\"overlay\",\"size\":10,\"solidity\":0.2}},\"type\":\"barpolar\"}],\"carpet\":[{\"aaxis\":{\"endlinecolor\":\"#2a3f5f\",\"gridcolor\":\"white\",\"linecolor\":\"white\",\"minorgridcolor\":\"white\",\"startlinecolor\":\"#2a3f5f\"},\"baxis\":{\"endlinecolor\":\"#2a3f5f\",\"gridcolor\":\"white\",\"linecolor\":\"white\",\"minorgridcolor\":\"white\",\"startlinecolor\":\"#2a3f5f\"},\"type\":\"carpet\"}],\"choropleth\":[{\"colorbar\":{\"outlinewidth\":0,\"ticks\":\"\"},\"type\":\"choropleth\"}],\"contour\":[{\"colorbar\":{\"outlinewidth\":0,\"ticks\":\"\"},\"colorscale\":[[0.0,\"#0d0887\"],[0.1111111111111111,\"#46039f\"],[0.2222222222222222,\"#7201a8\"],[0.3333333333333333,\"#9c179e\"],[0.4444444444444444,\"#bd3786\"],[0.5555555555555556,\"#d8576b\"],[0.6666666666666666,\"#ed7953\"],[0.7777777777777778,\"#fb9f3a\"],[0.8888888888888888,\"#fdca26\"],[1.0,\"#f0f921\"]],\"type\":\"contour\"}],\"contourcarpet\":[{\"colorbar\":{\"outlinewidth\":0,\"ticks\":\"\"},\"type\":\"contourcarpet\"}],\"heatmap\":[{\"colorbar\":{\"outlinewidth\":0,\"ticks\":\"\"},\"colorscale\":[[0.0,\"#0d0887\"],[0.1111111111111111,\"#46039f\"],[0.2222222222222222,\"#7201a8\"],[0.3333333333333333,\"#9c179e\"],[0.4444444444444444,\"#bd3786\"],[0.5555555555555556,\"#d8576b\"],[0.6666666666666666,\"#ed7953\"],[0.7777777777777778,\"#fb9f3a\"],[0.8888888888888888,\"#fdca26\"],[1.0,\"#f0f921\"]],\"type\":\"heatmap\"}],\"heatmapgl\":[{\"colorbar\":{\"outlinewidth\":0,\"ticks\":\"\"},\"colorscale\":[[0.0,\"#0d0887\"],[0.1111111111111111,\"#46039f\"],[0.2222222222222222,\"#7201a8\"],[0.3333333333333333,\"#9c179e\"],[0.4444444444444444,\"#bd3786\"],[0.5555555555555556,\"#d8576b\"],[0.6666666666666666,\"#ed7953\"],[0.7777777777777778,\"#fb9f3a\"],[0.8888888888888888,\"#fdca26\"],[1.0,\"#f0f921\"]],\"type\":\"heatmapgl\"}],\"histogram\":[{\"marker\":{\"pattern\":{\"fillmode\":\"overlay\",\"size\":10,\"solidity\":0.2}},\"type\":\"histogram\"}],\"histogram2d\":[{\"colorbar\":{\"outlinewidth\":0,\"ticks\":\"\"},\"colorscale\":[[0.0,\"#0d0887\"],[0.1111111111111111,\"#46039f\"],[0.2222222222222222,\"#7201a8\"],[0.3333333333333333,\"#9c179e\"],[0.4444444444444444,\"#bd3786\"],[0.5555555555555556,\"#d8576b\"],[0.6666666666666666,\"#ed7953\"],[0.7777777777777778,\"#fb9f3a\"],[0.8888888888888888,\"#fdca26\"],[1.0,\"#f0f921\"]],\"type\":\"histogram2d\"}],\"histogram2dcontour\":[{\"colorbar\":{\"outlinewidth\":0,\"ticks\":\"\"},\"colorscale\":[[0.0,\"#0d0887\"],[0.1111111111111111,\"#46039f\"],[0.2222222222222222,\"#7201a8\"],[0.3333333333333333,\"#9c179e\"],[0.4444444444444444,\"#bd3786\"],[0.5555555555555556,\"#d8576b\"],[0.6666666666666666,\"#ed7953\"],[0.7777777777777778,\"#fb9f3a\"],[0.8888888888888888,\"#fdca26\"],[1.0,\"#f0f921\"]],\"type\":\"histogram2dcontour\"}],\"mesh3d\":[{\"colorbar\":{\"outlinewidth\":0,\"ticks\":\"\"},\"type\":\"mesh3d\"}],\"parcoords\":[{\"line\":{\"colorbar\":{\"outlinewidth\":0,\"ticks\":\"\"}},\"type\":\"parcoords\"}],\"pie\":[{\"automargin\":true,\"type\":\"pie\"}],\"scatter\":[{\"marker\":{\"colorbar\":{\"outlinewidth\":0,\"ticks\":\"\"}},\"type\":\"scatter\"}],\"scatter3d\":[{\"line\":{\"colorbar\":{\"outlinewidth\":0,\"ticks\":\"\"}},\"marker\":{\"colorbar\":{\"outlinewidth\":0,\"ticks\":\"\"}},\"type\":\"scatter3d\"}],\"scattercarpet\":[{\"marker\":{\"colorbar\":{\"outlinewidth\":0,\"ticks\":\"\"}},\"type\":\"scattercarpet\"}],\"scattergeo\":[{\"marker\":{\"colorbar\":{\"outlinewidth\":0,\"ticks\":\"\"}},\"type\":\"scattergeo\"}],\"scattergl\":[{\"marker\":{\"colorbar\":{\"outlinewidth\":0,\"ticks\":\"\"}},\"type\":\"scattergl\"}],\"scattermapbox\":[{\"marker\":{\"colorbar\":{\"outlinewidth\":0,\"ticks\":\"\"}},\"type\":\"scattermapbox\"}],\"scatterpolar\":[{\"marker\":{\"colorbar\":{\"outlinewidth\":0,\"ticks\":\"\"}},\"type\":\"scatterpolar\"}],\"scatterpolargl\":[{\"marker\":{\"colorbar\":{\"outlinewidth\":0,\"ticks\":\"\"}},\"type\":\"scatterpolargl\"}],\"scatterternary\":[{\"marker\":{\"colorbar\":{\"outlinewidth\":0,\"ticks\":\"\"}},\"type\":\"scatterternary\"}],\"surface\":[{\"colorbar\":{\"outlinewidth\":0,\"ticks\":\"\"},\"colorscale\":[[0.0,\"#0d0887\"],[0.1111111111111111,\"#46039f\"],[0.2222222222222222,\"#7201a8\"],[0.3333333333333333,\"#9c179e\"],[0.4444444444444444,\"#bd3786\"],[0.5555555555555556,\"#d8576b\"],[0.6666666666666666,\"#ed7953\"],[0.7777777777777778,\"#fb9f3a\"],[0.8888888888888888,\"#fdca26\"],[1.0,\"#f0f921\"]],\"type\":\"surface\"}],\"table\":[{\"cells\":{\"fill\":{\"color\":\"#EBF0F8\"},\"line\":{\"color\":\"white\"}},\"header\":{\"fill\":{\"color\":\"#C8D4E3\"},\"line\":{\"color\":\"white\"}},\"type\":\"table\"}]},\"layout\":{\"annotationdefaults\":{\"arrowcolor\":\"#2a3f5f\",\"arrowhead\":0,\"arrowwidth\":1},\"autotypenumbers\":\"strict\",\"coloraxis\":{\"colorbar\":{\"outlinewidth\":0,\"ticks\":\"\"}},\"colorscale\":{\"diverging\":[[0,\"#8e0152\"],[0.1,\"#c51b7d\"],[0.2,\"#de77ae\"],[0.3,\"#f1b6da\"],[0.4,\"#fde0ef\"],[0.5,\"#f7f7f7\"],[0.6,\"#e6f5d0\"],[0.7,\"#b8e186\"],[0.8,\"#7fbc41\"],[0.9,\"#4d9221\"],[1,\"#276419\"]],\"sequential\":[[0.0,\"#0d0887\"],[0.1111111111111111,\"#46039f\"],[0.2222222222222222,\"#7201a8\"],[0.3333333333333333,\"#9c179e\"],[0.4444444444444444,\"#bd3786\"],[0.5555555555555556,\"#d8576b\"],[0.6666666666666666,\"#ed7953\"],[0.7777777777777778,\"#fb9f3a\"],[0.8888888888888888,\"#fdca26\"],[1.0,\"#f0f921\"]],\"sequentialminus\":[[0.0,\"#0d0887\"],[0.1111111111111111,\"#46039f\"],[0.2222222222222222,\"#7201a8\"],[0.3333333333333333,\"#9c179e\"],[0.4444444444444444,\"#bd3786\"],[0.5555555555555556,\"#d8576b\"],[0.6666666666666666,\"#ed7953\"],[0.7777777777777778,\"#fb9f3a\"],[0.8888888888888888,\"#fdca26\"],[1.0,\"#f0f921\"]]},\"colorway\":[\"#636efa\",\"#EF553B\",\"#00cc96\",\"#ab63fa\",\"#FFA15A\",\"#19d3f3\",\"#FF6692\",\"#B6E880\",\"#FF97FF\",\"#FECB52\"],\"font\":{\"color\":\"#2a3f5f\"},\"geo\":{\"bgcolor\":\"white\",\"lakecolor\":\"white\",\"landcolor\":\"#E5ECF6\",\"showlakes\":true,\"showland\":true,\"subunitcolor\":\"white\"},\"hoverlabel\":{\"align\":\"left\"},\"hovermode\":\"closest\",\"mapbox\":{\"style\":\"light\"},\"paper_bgcolor\":\"white\",\"plot_bgcolor\":\"#E5ECF6\",\"polar\":{\"angularaxis\":{\"gridcolor\":\"white\",\"linecolor\":\"white\",\"ticks\":\"\"},\"bgcolor\":\"#E5ECF6\",\"radialaxis\":{\"gridcolor\":\"white\",\"linecolor\":\"white\",\"ticks\":\"\"}},\"scene\":{\"xaxis\":{\"backgroundcolor\":\"#E5ECF6\",\"gridcolor\":\"white\",\"gridwidth\":2,\"linecolor\":\"white\",\"showbackground\":true,\"ticks\":\"\",\"zerolinecolor\":\"white\"},\"yaxis\":{\"backgroundcolor\":\"#E5ECF6\",\"gridcolor\":\"white\",\"gridwidth\":2,\"linecolor\":\"white\",\"showbackground\":true,\"ticks\":\"\",\"zerolinecolor\":\"white\"},\"zaxis\":{\"backgroundcolor\":\"#E5ECF6\",\"gridcolor\":\"white\",\"gridwidth\":2,\"linecolor\":\"white\",\"showbackground\":true,\"ticks\":\"\",\"zerolinecolor\":\"white\"}},\"shapedefaults\":{\"line\":{\"color\":\"#2a3f5f\"}},\"ternary\":{\"aaxis\":{\"gridcolor\":\"white\",\"linecolor\":\"white\",\"ticks\":\"\"},\"baxis\":{\"gridcolor\":\"white\",\"linecolor\":\"white\",\"ticks\":\"\"},\"bgcolor\":\"#E5ECF6\",\"caxis\":{\"gridcolor\":\"white\",\"linecolor\":\"white\",\"ticks\":\"\"}},\"title\":{\"x\":0.05},\"xaxis\":{\"automargin\":true,\"gridcolor\":\"white\",\"linecolor\":\"white\",\"ticks\":\"\",\"title\":{\"standoff\":15},\"zerolinecolor\":\"white\",\"zerolinewidth\":2},\"yaxis\":{\"automargin\":true,\"gridcolor\":\"white\",\"linecolor\":\"white\",\"ticks\":\"\",\"title\":{\"standoff\":15},\"zerolinecolor\":\"white\",\"zerolinewidth\":2}}},\"title\":{\"font\":{\"size\":18},\"text\":\"\\u0412\\u043e\\u0440\\u043e\\u043d\\u043a\\u0430 \\u0441\\u043e\\u0431\\u044b\\u0442\\u0438\\u0439\"},\"yaxis\":{\"title\":{\"text\":\"\\u0421\\u043e\\u0431\\u044b\\u0442\\u0438\\u044f\"}}},                        {\"responsive\": true}                    ).then(function(){\n",
       "                            \n",
       "var gd = document.getElementById('b67a3e0e-7a7d-400c-b0a1-d8e212a19b83');\n",
       "var x = new MutationObserver(function (mutations, observer) {{\n",
       "        var display = window.getComputedStyle(gd).display;\n",
       "        if (!display || display === 'none') {{\n",
       "            console.log([gd, 'removed!']);\n",
       "            Plotly.purge(gd);\n",
       "            observer.disconnect();\n",
       "        }}\n",
       "}});\n",
       "\n",
       "// Listen for the removal of the full notebook cells\n",
       "var notebookContainer = gd.closest('#notebook-container');\n",
       "if (notebookContainer) {{\n",
       "    x.observe(notebookContainer, {childList: true});\n",
       "}}\n",
       "\n",
       "// Listen for the clearing of the current output cell\n",
       "var outputEl = gd.closest('.output');\n",
       "if (outputEl) {{\n",
       "    x.observe(outputEl, {childList: true});\n",
       "}}\n",
       "\n",
       "                        })                };                });            </script>        </div>"
      ]
     },
     "metadata": {},
     "output_type": "display_data"
    }
   ],
   "source": [
    "# посчитаем, на каком шаге теряется больше всего пользователей \n",
    "from plotly.offline import init_notebook_mode\n",
    "init_notebook_mode(connected=True)  # для Jupyter Notebook\n",
    "# Строим воронку\n",
    "fig = go.Figure(go.Funnel(\n",
    "    y = users_events['event_name'].to_list(),\n",
    "    x = users_events['total_users'].to_list() ,\n",
    "    textposition = \"inside\",\n",
    "    textinfo = \"value+percent previous+percent initial\",\n",
    "    )) \n",
    "fig.update_layout(title_text='Воронка событий', titlefont_size=18)\n",
    "fig.update_layout(yaxis_title = 'События', titlefont_size=18)\n",
    "fig.show()"
   ]
  },
  {
   "cell_type": "markdown",
   "metadata": {},
   "source": [
    "По графику видим, что до оплаты доходит 48% пользователей, это 3539. "
   ]
  },
  {
   "cell_type": "markdown",
   "metadata": {},
   "source": [
    "## Вывод по шагу 4\n",
    "\n",
    "- изучили события в логах, отсортировали их по частоте. \n",
    "- выявили, какой процент пользователей дошёл до каждого конкретного шага \n",
    "- построили последовательную цепочку событий, - `MainScreenAppear` -> `OffersScreenAppear` -> `CartScreenAppear` -> `PaymentScreenSuccessful` \n",
    "- посчитали, какой процент пользователей дошёл до каждого шага воронки. \n",
    "- изучили по воронке событий, сколько пользователей дошло до каждого конкретного шага \n",
    "- узнали, что теряем больше всего пользователей на шаге OffersScreenAppear - до него доходит 62% пользователей с предыдущего шага. А меньше всех пользователей \"теряется\" между корзиной и оплатой. \n",
    "- узнали, что до оплаты доходит 48% пользователей. \n",
    "\n",
    "Перейдём к анализу результатов эксперимента "
   ]
  },
  {
   "cell_type": "markdown",
   "metadata": {},
   "source": [
    "# Шаг 5. Изучение результатов эксперимента \n",
    "В рамках анализа изучим: \n",
    "- сколько пользователей попало в каждую экспериментальную группу \n",
    "- находят ли статистические критерии разницу между выборками 246 и 247\n",
    "- для групп 246 и 247 для каждого события посчитаем число и долю пользователей в каждой группе, совершивших это событие. Изучим различие между группами по этим числам, поймём, будет ли разница статистически достоверной \n",
    "- проведём то же самое для группы B \n",
    "- посчитаем, сколько проверок статистических гипотез мы сделали. При уровне значимости 0.1 в 10% случаев можно ошибочно отклонить нулевую гипотезу при условии, что она верна. уточним, какой уровень значимости стоит применить. "
   ]
  },
  {
   "cell_type": "code",
   "execution_count": 25,
   "metadata": {},
   "outputs": [
    {
     "data": {
      "text/html": [
       "<div>\n",
       "<style scoped>\n",
       "    .dataframe tbody tr th:only-of-type {\n",
       "        vertical-align: middle;\n",
       "    }\n",
       "\n",
       "    .dataframe tbody tr th {\n",
       "        vertical-align: top;\n",
       "    }\n",
       "\n",
       "    .dataframe thead th {\n",
       "        text-align: right;\n",
       "    }\n",
       "</style>\n",
       "<table border=\"1\" class=\"dataframe\">\n",
       "  <thead>\n",
       "    <tr style=\"text-align: right;\">\n",
       "      <th></th>\n",
       "      <th>event_name</th>\n",
       "      <th>device_id</th>\n",
       "      <th>event_time</th>\n",
       "      <th>exp_id</th>\n",
       "      <th>date</th>\n",
       "    </tr>\n",
       "  </thead>\n",
       "  <tbody>\n",
       "    <tr>\n",
       "      <th>2827</th>\n",
       "      <td>MainScreenAppear</td>\n",
       "      <td>3737462046622621720</td>\n",
       "      <td>2019-08-01 00:08:00</td>\n",
       "      <td>246</td>\n",
       "      <td>2019-08-01</td>\n",
       "    </tr>\n",
       "    <tr>\n",
       "      <th>2828</th>\n",
       "      <td>MainScreenAppear</td>\n",
       "      <td>3737462046622621720</td>\n",
       "      <td>2019-08-01 00:08:55</td>\n",
       "      <td>246</td>\n",
       "      <td>2019-08-01</td>\n",
       "    </tr>\n",
       "    <tr>\n",
       "      <th>2829</th>\n",
       "      <td>OffersScreenAppear</td>\n",
       "      <td>3737462046622621720</td>\n",
       "      <td>2019-08-01 00:08:58</td>\n",
       "      <td>246</td>\n",
       "      <td>2019-08-01</td>\n",
       "    </tr>\n",
       "    <tr>\n",
       "      <th>2830</th>\n",
       "      <td>MainScreenAppear</td>\n",
       "      <td>1433840883824088890</td>\n",
       "      <td>2019-08-01 00:08:59</td>\n",
       "      <td>247</td>\n",
       "      <td>2019-08-01</td>\n",
       "    </tr>\n",
       "    <tr>\n",
       "      <th>2831</th>\n",
       "      <td>MainScreenAppear</td>\n",
       "      <td>4899590676214355127</td>\n",
       "      <td>2019-08-01 00:10:15</td>\n",
       "      <td>247</td>\n",
       "      <td>2019-08-01</td>\n",
       "    </tr>\n",
       "    <tr>\n",
       "      <th>...</th>\n",
       "      <td>...</td>\n",
       "      <td>...</td>\n",
       "      <td>...</td>\n",
       "      <td>...</td>\n",
       "      <td>...</td>\n",
       "    </tr>\n",
       "    <tr>\n",
       "      <th>243708</th>\n",
       "      <td>MainScreenAppear</td>\n",
       "      <td>4599628364049201812</td>\n",
       "      <td>2019-08-07 21:12:25</td>\n",
       "      <td>247</td>\n",
       "      <td>2019-08-07</td>\n",
       "    </tr>\n",
       "    <tr>\n",
       "      <th>243709</th>\n",
       "      <td>MainScreenAppear</td>\n",
       "      <td>5849806612437486590</td>\n",
       "      <td>2019-08-07 21:13:59</td>\n",
       "      <td>246</td>\n",
       "      <td>2019-08-07</td>\n",
       "    </tr>\n",
       "    <tr>\n",
       "      <th>243710</th>\n",
       "      <td>MainScreenAppear</td>\n",
       "      <td>5746969938801999050</td>\n",
       "      <td>2019-08-07 21:14:43</td>\n",
       "      <td>246</td>\n",
       "      <td>2019-08-07</td>\n",
       "    </tr>\n",
       "    <tr>\n",
       "      <th>243711</th>\n",
       "      <td>MainScreenAppear</td>\n",
       "      <td>5746969938801999050</td>\n",
       "      <td>2019-08-07 21:14:58</td>\n",
       "      <td>246</td>\n",
       "      <td>2019-08-07</td>\n",
       "    </tr>\n",
       "    <tr>\n",
       "      <th>243712</th>\n",
       "      <td>OffersScreenAppear</td>\n",
       "      <td>5746969938801999050</td>\n",
       "      <td>2019-08-07 21:15:17</td>\n",
       "      <td>246</td>\n",
       "      <td>2019-08-07</td>\n",
       "    </tr>\n",
       "  </tbody>\n",
       "</table>\n",
       "<p>239882 rows × 5 columns</p>\n",
       "</div>"
      ],
      "text/plain": [
       "                event_name            device_id          event_time  exp_id  \\\n",
       "2827      MainScreenAppear  3737462046622621720 2019-08-01 00:08:00     246   \n",
       "2828      MainScreenAppear  3737462046622621720 2019-08-01 00:08:55     246   \n",
       "2829    OffersScreenAppear  3737462046622621720 2019-08-01 00:08:58     246   \n",
       "2830      MainScreenAppear  1433840883824088890 2019-08-01 00:08:59     247   \n",
       "2831      MainScreenAppear  4899590676214355127 2019-08-01 00:10:15     247   \n",
       "...                    ...                  ...                 ...     ...   \n",
       "243708    MainScreenAppear  4599628364049201812 2019-08-07 21:12:25     247   \n",
       "243709    MainScreenAppear  5849806612437486590 2019-08-07 21:13:59     246   \n",
       "243710    MainScreenAppear  5746969938801999050 2019-08-07 21:14:43     246   \n",
       "243711    MainScreenAppear  5746969938801999050 2019-08-07 21:14:58     246   \n",
       "243712  OffersScreenAppear  5746969938801999050 2019-08-07 21:15:17     246   \n",
       "\n",
       "             date  \n",
       "2827   2019-08-01  \n",
       "2828   2019-08-01  \n",
       "2829   2019-08-01  \n",
       "2830   2019-08-01  \n",
       "2831   2019-08-01  \n",
       "...           ...  \n",
       "243708 2019-08-07  \n",
       "243709 2019-08-07  \n",
       "243710 2019-08-07  \n",
       "243711 2019-08-07  \n",
       "243712 2019-08-07  \n",
       "\n",
       "[239882 rows x 5 columns]"
      ]
     },
     "metadata": {},
     "output_type": "display_data"
    },
    {
     "name": "stdout",
     "output_type": "stream",
     "text": [
      "<class 'pandas.core.frame.DataFrame'>\n",
      "Int64Index: 239882 entries, 2827 to 243712\n",
      "Data columns (total 5 columns):\n",
      " #   Column      Non-Null Count   Dtype         \n",
      "---  ------      --------------   -----         \n",
      " 0   event_name  239882 non-null  object        \n",
      " 1   device_id   239882 non-null  int64         \n",
      " 2   event_time  239882 non-null  datetime64[ns]\n",
      " 3   exp_id      239882 non-null  int64         \n",
      " 4   date        239882 non-null  datetime64[ns]\n",
      "dtypes: datetime64[ns](2), int64(2), object(1)\n",
      "memory usage: 11.0+ MB\n"
     ]
    }
   ],
   "source": [
    "# для начала сделаем отдельный датафрейм без события Tutorial. Работаем с данными, которые уже отфильтровали по датам \n",
    "data_filtered_main = data_filtered[data_filtered['event_name'] != 'Tutorial']\n",
    "display(data_filtered_main)\n",
    "data_filtered_main.info()"
   ]
  },
  {
   "cell_type": "code",
   "execution_count": 26,
   "metadata": {},
   "outputs": [
    {
     "data": {
      "text/html": [
       "<div>\n",
       "<style scoped>\n",
       "    .dataframe tbody tr th:only-of-type {\n",
       "        vertical-align: middle;\n",
       "    }\n",
       "\n",
       "    .dataframe tbody tr th {\n",
       "        vertical-align: top;\n",
       "    }\n",
       "\n",
       "    .dataframe thead th {\n",
       "        text-align: right;\n",
       "    }\n",
       "</style>\n",
       "<table border=\"1\" class=\"dataframe\">\n",
       "  <thead>\n",
       "    <tr style=\"text-align: right;\">\n",
       "      <th></th>\n",
       "      <th>exp_id</th>\n",
       "      <th>number_of_users</th>\n",
       "    </tr>\n",
       "  </thead>\n",
       "  <tbody>\n",
       "    <tr>\n",
       "      <th>0</th>\n",
       "      <td>246</td>\n",
       "      <td>2483</td>\n",
       "    </tr>\n",
       "    <tr>\n",
       "      <th>1</th>\n",
       "      <td>247</td>\n",
       "      <td>2512</td>\n",
       "    </tr>\n",
       "    <tr>\n",
       "      <th>2</th>\n",
       "      <td>248</td>\n",
       "      <td>2535</td>\n",
       "    </tr>\n",
       "  </tbody>\n",
       "</table>\n",
       "</div>"
      ],
      "text/plain": [
       "   exp_id  number_of_users\n",
       "0     246             2483\n",
       "1     247             2512\n",
       "2     248             2535"
      ]
     },
     "metadata": {},
     "output_type": "display_data"
    }
   ],
   "source": [
    "# Выводим количество пользователей в каждой из групп\n",
    "users_by_group =   (data_filtered_main\n",
    "    .groupby('exp_id')\n",
    "    .agg({'device_id': 'nunique'})\n",
    "    .reset_index()\n",
    "    .rename(columns={'device_id':'number_of_users'})\n",
    ")\n",
    "display(users_by_group)"
   ]
  },
  {
   "cell_type": "markdown",
   "metadata": {},
   "source": [
    "Получили примерно равное количество пользователей в каждой из групп. \n",
    "\n",
    "Проверим, попали ли какие-то пользователи сразу в несколько групп "
   ]
  },
  {
   "cell_type": "code",
   "execution_count": 27,
   "metadata": {},
   "outputs": [
    {
     "name": "stdout",
     "output_type": "stream",
     "text": [
      "Количество пользователей, попавших в несколько групп теста:  0\n"
     ]
    },
    {
     "data": {
      "text/html": [
       "<div>\n",
       "<style scoped>\n",
       "    .dataframe tbody tr th:only-of-type {\n",
       "        vertical-align: middle;\n",
       "    }\n",
       "\n",
       "    .dataframe tbody tr th {\n",
       "        vertical-align: top;\n",
       "    }\n",
       "\n",
       "    .dataframe thead th {\n",
       "        text-align: right;\n",
       "    }\n",
       "</style>\n",
       "<table border=\"1\" class=\"dataframe\">\n",
       "  <thead>\n",
       "    <tr style=\"text-align: right;\">\n",
       "      <th></th>\n",
       "      <th>event_name</th>\n",
       "      <th>device_id</th>\n",
       "      <th>event_time</th>\n",
       "      <th>exp_id</th>\n",
       "      <th>date</th>\n",
       "      <th>nunique_exp_id</th>\n",
       "    </tr>\n",
       "  </thead>\n",
       "  <tbody>\n",
       "    <tr>\n",
       "      <th>0</th>\n",
       "      <td>MainScreenAppear</td>\n",
       "      <td>3737462046622621720</td>\n",
       "      <td>2019-08-01 00:08:00</td>\n",
       "      <td>246</td>\n",
       "      <td>2019-08-01</td>\n",
       "      <td>1</td>\n",
       "    </tr>\n",
       "    <tr>\n",
       "      <th>1</th>\n",
       "      <td>MainScreenAppear</td>\n",
       "      <td>3737462046622621720</td>\n",
       "      <td>2019-08-01 00:08:55</td>\n",
       "      <td>246</td>\n",
       "      <td>2019-08-01</td>\n",
       "      <td>1</td>\n",
       "    </tr>\n",
       "    <tr>\n",
       "      <th>2</th>\n",
       "      <td>OffersScreenAppear</td>\n",
       "      <td>3737462046622621720</td>\n",
       "      <td>2019-08-01 00:08:58</td>\n",
       "      <td>246</td>\n",
       "      <td>2019-08-01</td>\n",
       "      <td>1</td>\n",
       "    </tr>\n",
       "    <tr>\n",
       "      <th>3</th>\n",
       "      <td>OffersScreenAppear</td>\n",
       "      <td>3737462046622621720</td>\n",
       "      <td>2019-08-01 00:10:26</td>\n",
       "      <td>246</td>\n",
       "      <td>2019-08-01</td>\n",
       "      <td>1</td>\n",
       "    </tr>\n",
       "    <tr>\n",
       "      <th>4</th>\n",
       "      <td>MainScreenAppear</td>\n",
       "      <td>3737462046622621720</td>\n",
       "      <td>2019-08-01 00:10:47</td>\n",
       "      <td>246</td>\n",
       "      <td>2019-08-01</td>\n",
       "      <td>1</td>\n",
       "    </tr>\n",
       "  </tbody>\n",
       "</table>\n",
       "</div>"
      ],
      "text/plain": [
       "           event_name            device_id          event_time  exp_id  \\\n",
       "0    MainScreenAppear  3737462046622621720 2019-08-01 00:08:00     246   \n",
       "1    MainScreenAppear  3737462046622621720 2019-08-01 00:08:55     246   \n",
       "2  OffersScreenAppear  3737462046622621720 2019-08-01 00:08:58     246   \n",
       "3  OffersScreenAppear  3737462046622621720 2019-08-01 00:10:26     246   \n",
       "4    MainScreenAppear  3737462046622621720 2019-08-01 00:10:47     246   \n",
       "\n",
       "        date  nunique_exp_id  \n",
       "0 2019-08-01               1  \n",
       "1 2019-08-01               1  \n",
       "2 2019-08-01               1  \n",
       "3 2019-08-01               1  \n",
       "4 2019-08-01               1  "
      ]
     },
     "metadata": {},
     "output_type": "display_data"
    }
   ],
   "source": [
    "# посчитаем количество групп для каждого device_id и выведем, у каких пользователей оказалось больше одной группы \n",
    "count_groups = data_filtered_main.groupby('device_id')['exp_id'].nunique()\n",
    "data_by_group = data_filtered_main.merge(count_groups, on=['device_id', 'device_id'])\n",
    "data_by_group.columns = ['event_name', 'device_id', 'event_time', 'exp_id', 'date', 'nunique_exp_id']\n",
    "#display(data_by_group)\n",
    "data_by_group_double = data_by_group[data_by_group['nunique_exp_id'] != 1]\n",
    "print('Количество пользователей, попавших в несколько групп теста: ', len(data_by_group_double))\n",
    "display(data_by_group.head())"
   ]
  },
  {
   "cell_type": "markdown",
   "metadata": {},
   "source": [
    "Получается, каждый пользователь фигурирует только в одной группе. \n"
   ]
  },
  {
   "cell_type": "markdown",
   "metadata": {},
   "source": [
    "Далее для групп A/A проверим, находят ли статистические критерии разницу между выборками 246 и 247"
   ]
  },
  {
   "cell_type": "code",
   "execution_count": 28,
   "metadata": {},
   "outputs": [
    {
     "data": {
      "text/html": [
       "<div>\n",
       "<style scoped>\n",
       "    .dataframe tbody tr th:only-of-type {\n",
       "        vertical-align: middle;\n",
       "    }\n",
       "\n",
       "    .dataframe tbody tr th {\n",
       "        vertical-align: top;\n",
       "    }\n",
       "\n",
       "    .dataframe thead th {\n",
       "        text-align: right;\n",
       "    }\n",
       "</style>\n",
       "<table border=\"1\" class=\"dataframe\">\n",
       "  <thead>\n",
       "    <tr style=\"text-align: right;\">\n",
       "      <th>event_name</th>\n",
       "      <th>exp_id</th>\n",
       "      <th>CartScreenAppear</th>\n",
       "      <th>MainScreenAppear</th>\n",
       "      <th>OffersScreenAppear</th>\n",
       "      <th>PaymentScreenSuccessful</th>\n",
       "      <th>Tutorial</th>\n",
       "    </tr>\n",
       "  </thead>\n",
       "  <tbody>\n",
       "    <tr>\n",
       "      <th>0</th>\n",
       "      <td>246</td>\n",
       "      <td>1266</td>\n",
       "      <td>2450</td>\n",
       "      <td>1542</td>\n",
       "      <td>1200</td>\n",
       "      <td>278</td>\n",
       "    </tr>\n",
       "    <tr>\n",
       "      <th>1</th>\n",
       "      <td>247</td>\n",
       "      <td>1238</td>\n",
       "      <td>2476</td>\n",
       "      <td>1520</td>\n",
       "      <td>1158</td>\n",
       "      <td>283</td>\n",
       "    </tr>\n",
       "    <tr>\n",
       "      <th>2</th>\n",
       "      <td>248</td>\n",
       "      <td>1230</td>\n",
       "      <td>2493</td>\n",
       "      <td>1531</td>\n",
       "      <td>1181</td>\n",
       "      <td>279</td>\n",
       "    </tr>\n",
       "  </tbody>\n",
       "</table>\n",
       "</div>"
      ],
      "text/plain": [
       "event_name  exp_id  CartScreenAppear  MainScreenAppear  OffersScreenAppear  \\\n",
       "0              246              1266              2450                1542   \n",
       "1              247              1238              2476                1520   \n",
       "2              248              1230              2493                1531   \n",
       "\n",
       "event_name  PaymentScreenSuccessful  Tutorial  \n",
       "0                              1200       278  \n",
       "1                              1158       283  \n",
       "2                              1181       279  "
      ]
     },
     "metadata": {},
     "output_type": "display_data"
    },
    {
     "data": {
      "text/html": [
       "<div>\n",
       "<style scoped>\n",
       "    .dataframe tbody tr th:only-of-type {\n",
       "        vertical-align: middle;\n",
       "    }\n",
       "\n",
       "    .dataframe tbody tr th {\n",
       "        vertical-align: top;\n",
       "    }\n",
       "\n",
       "    .dataframe thead th {\n",
       "        text-align: right;\n",
       "    }\n",
       "</style>\n",
       "<table border=\"1\" class=\"dataframe\">\n",
       "  <thead>\n",
       "    <tr style=\"text-align: right;\">\n",
       "      <th>event_name</th>\n",
       "      <th>exp_id</th>\n",
       "      <th>CartScreenAppear</th>\n",
       "      <th>MainScreenAppear</th>\n",
       "      <th>OffersScreenAppear</th>\n",
       "      <th>PaymentScreenSuccessful</th>\n",
       "      <th>Tutorial</th>\n",
       "      <th>number_of_users</th>\n",
       "    </tr>\n",
       "  </thead>\n",
       "  <tbody>\n",
       "    <tr>\n",
       "      <th>0</th>\n",
       "      <td>246</td>\n",
       "      <td>1266</td>\n",
       "      <td>2450</td>\n",
       "      <td>1542</td>\n",
       "      <td>1200</td>\n",
       "      <td>278</td>\n",
       "      <td>2483</td>\n",
       "    </tr>\n",
       "    <tr>\n",
       "      <th>1</th>\n",
       "      <td>247</td>\n",
       "      <td>1238</td>\n",
       "      <td>2476</td>\n",
       "      <td>1520</td>\n",
       "      <td>1158</td>\n",
       "      <td>283</td>\n",
       "      <td>2512</td>\n",
       "    </tr>\n",
       "    <tr>\n",
       "      <th>2</th>\n",
       "      <td>248</td>\n",
       "      <td>1230</td>\n",
       "      <td>2493</td>\n",
       "      <td>1531</td>\n",
       "      <td>1181</td>\n",
       "      <td>279</td>\n",
       "      <td>2535</td>\n",
       "    </tr>\n",
       "  </tbody>\n",
       "</table>\n",
       "</div>"
      ],
      "text/plain": [
       "event_name  exp_id  CartScreenAppear  MainScreenAppear  OffersScreenAppear  \\\n",
       "0              246              1266              2450                1542   \n",
       "1              247              1238              2476                1520   \n",
       "2              248              1230              2493                1531   \n",
       "\n",
       "event_name  PaymentScreenSuccessful  Tutorial  number_of_users  \n",
       "0                              1200       278             2483  \n",
       "1                              1158       283             2512  \n",
       "2                              1181       279             2535  "
      ]
     },
     "metadata": {},
     "output_type": "display_data"
    }
   ],
   "source": [
    "# разбиваем таблицу по группам, чтобы посмотреть количество пользователей по каждому событию \n",
    "#users_by_events = data_filtered_main.pivot_table(index='exp_id',columns='event_name', values='device_id', aggfunc='nunique').reset_index()\n",
    "users_by_events = data_filtered.pivot_table(index='exp_id',columns='event_name', values='device_id', aggfunc='nunique').reset_index()\n",
    "\n",
    "display(users_by_events)\n",
    "#display(data_filtered.head())\n",
    "# добавляем столбец с общим количеством пользователей в группе - для этого возьмём ранее созданную таблицу users_by_group\n",
    "users_by_events['number_of_users'] = users_by_group['number_of_users']\n",
    "display(users_by_events)"
   ]
  },
  {
   "cell_type": "markdown",
   "metadata": {},
   "source": [
    "Сравним группы 246 и 247. "
   ]
  },
  {
   "cell_type": "code",
   "execution_count": 29,
   "metadata": {},
   "outputs": [],
   "source": [
    "# сразу заведём функцию для вывода результатов теста \n",
    "def test_result(value_1, value_2):\n",
    "    if value_1 < value_2:\n",
    "        print('Отвергаем нулевую гипотезу: разница значимая. P_value:', value_1)\n",
    "    else:\n",
    "        print('Не получилось отвергнуть нулевую гипотезу, нет оснований считать разницу значимой. P_value:', value_1)\n",
    "\n",
    "# заведём функцию для проверки \n",
    "def hypo_test (trials_1, trials_2, successes_1, successes_2):\n",
    "    \n",
    "    # пропорция успехов в первой группе\n",
    "    p1 = successes_1/trials_1   \n",
    "    # пропорция успехов во второй группе\n",
    "    p2 = successes_2/trials_2\n",
    "    # пропорция успехов в комбинированном датасете\n",
    "    p_combined = (successes_1 + \n",
    "                  successes_2) / (trials_1 + \n",
    "                                 trials_2)\n",
    "    # разница пропорций в датасетах\n",
    "    difference = p1 - p2 \n",
    "    # статистика в отклонениях стандартного нормального распределения\n",
    "    z_value = difference / math.sqrt(p_combined * \n",
    "                                    (1 - p_combined) * \n",
    "                                    (1 / trials_1 + 1 / trials_2))\n",
    "    # задаем стандартное нормальное распределение (среднее 0, ст.отклонение 1)\n",
    "    distr = stats.norm(0, 1)\n",
    "    p_value = (1 - distr.cdf(abs(z_value))) * 2\n",
    "    #pr_1 = print('p-значение: ', p_value)   \n",
    "    #pr_2 = test_result(p_value, alpha)   \n",
    "    return  p_value"
   ]
  },
  {
   "cell_type": "code",
   "execution_count": 30,
   "metadata": {},
   "outputs": [],
   "source": [
    "# пользователей всего в А группе 1\n",
    "# display(users_by_events.iloc[0,6])\n",
    "# пользователей всего в A группе 2\n",
    "# display(users_by_events.iloc[1,6])\n",
    "# дошло до оплаты из первой группы - считаем успехами\n",
    "# display(users_by_events.iloc[0,4])\n",
    "# дошло до оплаты из второй группы - считаем успехами\n",
    "# display(users_by_events.iloc[1,4])"
   ]
  },
  {
   "cell_type": "code",
   "execution_count": 31,
   "metadata": {},
   "outputs": [
    {
     "name": "stdout",
     "output_type": "stream",
     "text": [
      "Проверка гипотезы о различиях в долях клиентов по событию PaymentScreenSuccessful в группах 246 и 247:\n",
      "Не получилось отвергнуть нулевую гипотезу, нет оснований считать разницу значимой. P_value: 0.11446627829276612\n"
     ]
    }
   ],
   "source": [
    "\n",
    "print('Проверка гипотезы о различиях в долях клиентов по событию', \n",
    "      users_by_events.columns[4], 'в группах 246 и 247:')\n",
    "test_result(hypo_test (users_by_events.iloc[0,6],\n",
    "           users_by_events.iloc[1,6],\n",
    "           users_by_events.iloc[0,4],\n",
    "           users_by_events.iloc[1,4]), 0.05)\n"
   ]
  },
  {
   "cell_type": "markdown",
   "metadata": {},
   "source": [
    "Мы проверили, что нет существенной разницы в конверсии для первой и второй группы. При уровне статистической значимости в 0.05 отвергнуть гипотезу о том, что нет разницы между группами, не получилось. Считаем группы подобранными верно.\n",
    "\n",
    "Теперь будем проверять для разных событий."
   ]
  },
  {
   "cell_type": "code",
   "execution_count": 32,
   "metadata": {},
   "outputs": [
    {
     "data": {
      "text/html": [
       "<div>\n",
       "<style scoped>\n",
       "    .dataframe tbody tr th:only-of-type {\n",
       "        vertical-align: middle;\n",
       "    }\n",
       "\n",
       "    .dataframe tbody tr th {\n",
       "        vertical-align: top;\n",
       "    }\n",
       "\n",
       "    .dataframe thead th {\n",
       "        text-align: right;\n",
       "    }\n",
       "</style>\n",
       "<table border=\"1\" class=\"dataframe\">\n",
       "  <thead>\n",
       "    <tr style=\"text-align: right;\">\n",
       "      <th>exp_id</th>\n",
       "      <th>event_name</th>\n",
       "      <th>246</th>\n",
       "      <th>247</th>\n",
       "      <th>248</th>\n",
       "      <th>All</th>\n",
       "    </tr>\n",
       "  </thead>\n",
       "  <tbody>\n",
       "    <tr>\n",
       "      <th>0</th>\n",
       "      <td>MainScreenAppear</td>\n",
       "      <td>2450</td>\n",
       "      <td>2476</td>\n",
       "      <td>2493</td>\n",
       "      <td>7419</td>\n",
       "    </tr>\n",
       "    <tr>\n",
       "      <th>1</th>\n",
       "      <td>OffersScreenAppear</td>\n",
       "      <td>1542</td>\n",
       "      <td>1520</td>\n",
       "      <td>1531</td>\n",
       "      <td>4593</td>\n",
       "    </tr>\n",
       "    <tr>\n",
       "      <th>2</th>\n",
       "      <td>CartScreenAppear</td>\n",
       "      <td>1266</td>\n",
       "      <td>1238</td>\n",
       "      <td>1230</td>\n",
       "      <td>3734</td>\n",
       "    </tr>\n",
       "    <tr>\n",
       "      <th>3</th>\n",
       "      <td>PaymentScreenSuccessful</td>\n",
       "      <td>1200</td>\n",
       "      <td>1158</td>\n",
       "      <td>1181</td>\n",
       "      <td>3539</td>\n",
       "    </tr>\n",
       "    <tr>\n",
       "      <th>4</th>\n",
       "      <td>Tutorial</td>\n",
       "      <td>278</td>\n",
       "      <td>283</td>\n",
       "      <td>279</td>\n",
       "      <td>840</td>\n",
       "    </tr>\n",
       "    <tr>\n",
       "      <th>5</th>\n",
       "      <td>All</td>\n",
       "      <td>2484</td>\n",
       "      <td>2513</td>\n",
       "      <td>2537</td>\n",
       "      <td>7534</td>\n",
       "    </tr>\n",
       "  </tbody>\n",
       "</table>\n",
       "</div>"
      ],
      "text/plain": [
       "exp_id               event_name   246   247   248   All\n",
       "0              MainScreenAppear  2450  2476  2493  7419\n",
       "1            OffersScreenAppear  1542  1520  1531  4593\n",
       "2              CartScreenAppear  1266  1238  1230  3734\n",
       "3       PaymentScreenSuccessful  1200  1158  1181  3539\n",
       "4                      Tutorial   278   283   279   840\n",
       "5                           All  2484  2513  2537  7534"
      ]
     },
     "execution_count": 32,
     "metadata": {},
     "output_type": "execute_result"
    }
   ],
   "source": [
    "# разделим пользователей по группам и событиям\n",
    "events_groups = data_filtered.pivot_table(index='event_name', columns='exp_id', values='device_id', aggfunc='nunique', margins=True).reset_index().sort_values('All', ascending=False).reset_index(drop=True)\n",
    "events_groups = events_groups.reindex([1, 2, 3, 4, 5, 0]).reset_index(drop=True)\n",
    "events_groups"
   ]
  },
  {
   "cell_type": "code",
   "execution_count": 33,
   "metadata": {},
   "outputs": [
    {
     "data": {
      "text/html": [
       "<style  type=\"text/css\" >\n",
       "#T_64285_row3_col1{\n",
       "            background-color:  pink;\n",
       "        }</style><table id=\"T_64285_\" ><thead>    <tr>        <th class=\"blank level0\" ></th>        <th class=\"col_heading level0 col0\" >events</th>        <th class=\"col_heading level0 col1\" >246-247</th>    </tr></thead><tbody>\n",
       "                <tr>\n",
       "                        <th id=\"T_64285_level0_row0\" class=\"row_heading level0 row0\" >0</th>\n",
       "                        <td id=\"T_64285_row0_col0\" class=\"data row0 col0\" >MainScreenAppear</td>\n",
       "                        <td id=\"T_64285_row0_col1\" class=\"data row0 col1\" >0.757060</td>\n",
       "            </tr>\n",
       "            <tr>\n",
       "                        <th id=\"T_64285_level0_row1\" class=\"row_heading level0 row1\" >1</th>\n",
       "                        <td id=\"T_64285_row1_col0\" class=\"data row1 col0\" >OffersScreenAppear</td>\n",
       "                        <td id=\"T_64285_row1_col1\" class=\"data row1 col1\" >0.248095</td>\n",
       "            </tr>\n",
       "            <tr>\n",
       "                        <th id=\"T_64285_level0_row2\" class=\"row_heading level0 row2\" >2</th>\n",
       "                        <td id=\"T_64285_row2_col0\" class=\"data row2 col0\" >CartScreenAppear</td>\n",
       "                        <td id=\"T_64285_row2_col1\" class=\"data row2 col1\" >0.228834</td>\n",
       "            </tr>\n",
       "            <tr>\n",
       "                        <th id=\"T_64285_level0_row3\" class=\"row_heading level0 row3\" >3</th>\n",
       "                        <td id=\"T_64285_row3_col0\" class=\"data row3 col0\" >PaymentScreenSuccessful</td>\n",
       "                        <td id=\"T_64285_row3_col1\" class=\"data row3 col1\" >0.114567</td>\n",
       "            </tr>\n",
       "            <tr>\n",
       "                        <th id=\"T_64285_level0_row4\" class=\"row_heading level0 row4\" >4</th>\n",
       "                        <td id=\"T_64285_row4_col0\" class=\"data row4 col0\" >Tutorial</td>\n",
       "                        <td id=\"T_64285_row4_col1\" class=\"data row4 col1\" >0.937700</td>\n",
       "            </tr>\n",
       "    </tbody></table>"
      ],
      "text/plain": [
       "<pandas.io.formats.style.Styler at 0x7fc0b1846a60>"
      ]
     },
     "execution_count": 33,
     "metadata": {},
     "output_type": "execute_result"
    }
   ],
   "source": [
    "# создадим пустой датафрейм для записи результатов - сразу по всем группам\n",
    "groups_stats = pd.DataFrame({'events' : ['MainScreenAppear', 'OffersScreenAppear', 'CartScreenAppear', 'PaymentScreenSuccessful', 'Tutorial'],\n",
    "                             '246-247' : [0, 0, 0, 0, 0],\n",
    "                             '247-248' : [0, 0, 0, 0, 0],\n",
    "                             '248-246' : [0, 0, 0, 0, 0]})\n",
    "\n",
    "# пройдемся циклом по всем событиям и по всем парам групп - сделаем расчёт сразу по всем группам\n",
    "# для каждой пары групп и для каждого события посчитаем вероятности получения таких различий\n",
    "for i in range(0, 5):\n",
    "    for j in range(1, 4):\n",
    "        # для группы 248 парной должна побывать и 246\n",
    "        k = j + 1 if j < 3 else 1\n",
    "        # общее количество пользователей в группе в пятой строке All\n",
    "        groups_stats.iloc[i, j] = hypo_test( events_groups.iloc[5, j], \n",
    "                                            events_groups.iloc[5, k], \n",
    "                                            events_groups.iloc[i, j], \n",
    "                                            events_groups.iloc[i, k])\n",
    "\n",
    "# посмотрим, что получилось\n",
    "groups_stats.iloc[:, [0, 1]].style.highlight_min(color='pink', axis=None)"
   ]
  },
  {
   "cell_type": "markdown",
   "metadata": {},
   "source": [
    "Даже минимальное значение выше выбранного ранее уровня статистической значимости (0.05). Значит, разницы между группами нет по всем событиям (даже по событию Tutorial). \n",
    "\n",
    "Считаем, что разбиение на группы работает корректно."
   ]
  },
  {
   "cell_type": "markdown",
   "metadata": {},
   "source": [
    "Теперь нам предстоит проверить разницу и по группе B - то есть по группе 248, пользователям, для которых меняли шрифт. \n",
    "\n",
    "Введём стандартные гипотезы: \n",
    "H0 - статистически значимой разницы между группами нет \n",
    "H1 - статистически значимая разница есть. \n",
    "\n",
    "То есть эксперимент имел какой-то результат, если удастся опровергнуть нулевую гипотезу. \n",
    "Нам нужно будет сравнить результат с каждой из групп 246 и 247 и с объединённой контрольной группой (собраннной из 246 и 247). \n"
   ]
  },
  {
   "cell_type": "code",
   "execution_count": 34,
   "metadata": {},
   "outputs": [
    {
     "data": {
      "text/html": [
       "<style  type=\"text/css\" >\n",
       "#T_3a506_row2_col2{\n",
       "            background-color:  pink;\n",
       "        }</style><table id=\"T_3a506_\" ><thead>    <tr>        <th class=\"blank level0\" ></th>        <th class=\"col_heading level0 col0\" >events</th>        <th class=\"col_heading level0 col1\" >247-248</th>        <th class=\"col_heading level0 col2\" >248-246</th>    </tr></thead><tbody>\n",
       "                <tr>\n",
       "                        <th id=\"T_3a506_level0_row0\" class=\"row_heading level0 row0\" >0</th>\n",
       "                        <td id=\"T_3a506_row0_col0\" class=\"data row0 col0\" >MainScreenAppear</td>\n",
       "                        <td id=\"T_3a506_row0_col1\" class=\"data row0 col1\" >0.458705</td>\n",
       "                        <td id=\"T_3a506_row0_col2\" class=\"data row0 col2\" >0.294972</td>\n",
       "            </tr>\n",
       "            <tr>\n",
       "                        <th id=\"T_3a506_level0_row1\" class=\"row_heading level0 row1\" >1</th>\n",
       "                        <td id=\"T_3a506_row1_col0\" class=\"data row1 col0\" >OffersScreenAppear</td>\n",
       "                        <td id=\"T_3a506_row1_col1\" class=\"data row1 col1\" >0.919782</td>\n",
       "                        <td id=\"T_3a506_row1_col2\" class=\"data row1 col2\" >0.208362</td>\n",
       "            </tr>\n",
       "            <tr>\n",
       "                        <th id=\"T_3a506_level0_row2\" class=\"row_heading level0 row2\" >2</th>\n",
       "                        <td id=\"T_3a506_row2_col0\" class=\"data row2 col0\" >CartScreenAppear</td>\n",
       "                        <td id=\"T_3a506_row2_col1\" class=\"data row2 col1\" >0.578620</td>\n",
       "                        <td id=\"T_3a506_row2_col2\" class=\"data row2 col2\" >0.078429</td>\n",
       "            </tr>\n",
       "            <tr>\n",
       "                        <th id=\"T_3a506_level0_row3\" class=\"row_heading level0 row3\" >3</th>\n",
       "                        <td id=\"T_3a506_row3_col0\" class=\"data row3 col0\" >PaymentScreenSuccessful</td>\n",
       "                        <td id=\"T_3a506_row3_col1\" class=\"data row3 col1\" >0.737342</td>\n",
       "                        <td id=\"T_3a506_row3_col2\" class=\"data row3 col2\" >0.212255</td>\n",
       "            </tr>\n",
       "            <tr>\n",
       "                        <th id=\"T_3a506_level0_row4\" class=\"row_heading level0 row4\" >4</th>\n",
       "                        <td id=\"T_3a506_row4_col0\" class=\"data row4 col0\" >Tutorial</td>\n",
       "                        <td id=\"T_3a506_row4_col1\" class=\"data row4 col1\" >0.765324</td>\n",
       "                        <td id=\"T_3a506_row4_col2\" class=\"data row4 col2\" >0.826429</td>\n",
       "            </tr>\n",
       "    </tbody></table>"
      ],
      "text/plain": [
       "<pandas.io.formats.style.Styler at 0x7fc0b18967c0>"
      ]
     },
     "execution_count": 34,
     "metadata": {},
     "output_type": "execute_result"
    }
   ],
   "source": [
    "# Расчёты для сравнения групп А с группой 248 мы уже сделали ранее в цикле, покажем их\n",
    "groups_stats.iloc[:, [0, 2, 3]].style.highlight_min(color='pink', axis=None)"
   ]
  },
  {
   "cell_type": "markdown",
   "metadata": {},
   "source": [
    "Видим, что статистически значимой разницы при уровне значимости 0.05 нет - минимальное значение - 0.07, и оно выше выбранного уровня значимости. Сравним результаты группы 248 ещё и с объединённой группой 246+247"
   ]
  },
  {
   "cell_type": "code",
   "execution_count": 35,
   "metadata": {},
   "outputs": [
    {
     "data": {
      "text/html": [
       "<div>\n",
       "<style scoped>\n",
       "    .dataframe tbody tr th:only-of-type {\n",
       "        vertical-align: middle;\n",
       "    }\n",
       "\n",
       "    .dataframe tbody tr th {\n",
       "        vertical-align: top;\n",
       "    }\n",
       "\n",
       "    .dataframe thead th {\n",
       "        text-align: right;\n",
       "    }\n",
       "</style>\n",
       "<table border=\"1\" class=\"dataframe\">\n",
       "  <thead>\n",
       "    <tr style=\"text-align: right;\">\n",
       "      <th>exp_id</th>\n",
       "      <th>event_name</th>\n",
       "      <th>246</th>\n",
       "      <th>247</th>\n",
       "      <th>248</th>\n",
       "      <th>All</th>\n",
       "      <th>246+247</th>\n",
       "    </tr>\n",
       "  </thead>\n",
       "  <tbody>\n",
       "    <tr>\n",
       "      <th>0</th>\n",
       "      <td>MainScreenAppear</td>\n",
       "      <td>2450</td>\n",
       "      <td>2476</td>\n",
       "      <td>2493</td>\n",
       "      <td>7419</td>\n",
       "      <td>4926</td>\n",
       "    </tr>\n",
       "    <tr>\n",
       "      <th>1</th>\n",
       "      <td>OffersScreenAppear</td>\n",
       "      <td>1542</td>\n",
       "      <td>1520</td>\n",
       "      <td>1531</td>\n",
       "      <td>4593</td>\n",
       "      <td>3062</td>\n",
       "    </tr>\n",
       "    <tr>\n",
       "      <th>2</th>\n",
       "      <td>CartScreenAppear</td>\n",
       "      <td>1266</td>\n",
       "      <td>1238</td>\n",
       "      <td>1230</td>\n",
       "      <td>3734</td>\n",
       "      <td>2504</td>\n",
       "    </tr>\n",
       "    <tr>\n",
       "      <th>3</th>\n",
       "      <td>PaymentScreenSuccessful</td>\n",
       "      <td>1200</td>\n",
       "      <td>1158</td>\n",
       "      <td>1181</td>\n",
       "      <td>3539</td>\n",
       "      <td>2358</td>\n",
       "    </tr>\n",
       "    <tr>\n",
       "      <th>4</th>\n",
       "      <td>Tutorial</td>\n",
       "      <td>278</td>\n",
       "      <td>283</td>\n",
       "      <td>279</td>\n",
       "      <td>840</td>\n",
       "      <td>561</td>\n",
       "    </tr>\n",
       "    <tr>\n",
       "      <th>5</th>\n",
       "      <td>All</td>\n",
       "      <td>2484</td>\n",
       "      <td>2513</td>\n",
       "      <td>2537</td>\n",
       "      <td>7534</td>\n",
       "      <td>4997</td>\n",
       "    </tr>\n",
       "  </tbody>\n",
       "</table>\n",
       "</div>"
      ],
      "text/plain": [
       "exp_id               event_name   246   247   248   All  246+247\n",
       "0              MainScreenAppear  2450  2476  2493  7419     4926\n",
       "1            OffersScreenAppear  1542  1520  1531  4593     3062\n",
       "2              CartScreenAppear  1266  1238  1230  3734     2504\n",
       "3       PaymentScreenSuccessful  1200  1158  1181  3539     2358\n",
       "4                      Tutorial   278   283   279   840      561\n",
       "5                           All  2484  2513  2537  7534     4997"
      ]
     },
     "metadata": {},
     "output_type": "display_data"
    }
   ],
   "source": [
    "# добавляем столбец с объединённой группой\n",
    "events_groups['246+247'] = events_groups[246] + events_groups[247]\n",
    "display(events_groups)"
   ]
  },
  {
   "cell_type": "code",
   "execution_count": 36,
   "metadata": {},
   "outputs": [
    {
     "data": {
      "text/html": [
       "<style  type=\"text/css\" >\n",
       "#T_c52ea_row2_col3{\n",
       "            background-color:  pink;\n",
       "        }</style><table id=\"T_c52ea_\" ><thead>    <tr>        <th class=\"blank level0\" ></th>        <th class=\"col_heading level0 col0\" >events</th>        <th class=\"col_heading level0 col1\" >246-247</th>        <th class=\"col_heading level0 col2\" >247-248</th>        <th class=\"col_heading level0 col3\" >248-246</th>        <th class=\"col_heading level0 col4\" >246+247-248</th>    </tr></thead><tbody>\n",
       "                <tr>\n",
       "                        <th id=\"T_c52ea_level0_row0\" class=\"row_heading level0 row0\" >0</th>\n",
       "                        <td id=\"T_c52ea_row0_col0\" class=\"data row0 col0\" >MainScreenAppear</td>\n",
       "                        <td id=\"T_c52ea_row0_col1\" class=\"data row0 col1\" >0.757060</td>\n",
       "                        <td id=\"T_c52ea_row0_col2\" class=\"data row0 col2\" >0.458705</td>\n",
       "                        <td id=\"T_c52ea_row0_col3\" class=\"data row0 col3\" >0.294972</td>\n",
       "                        <td id=\"T_c52ea_row0_col4\" class=\"data row0 col4\" >0.294245</td>\n",
       "            </tr>\n",
       "            <tr>\n",
       "                        <th id=\"T_c52ea_level0_row1\" class=\"row_heading level0 row1\" >1</th>\n",
       "                        <td id=\"T_c52ea_row1_col0\" class=\"data row1 col0\" >OffersScreenAppear</td>\n",
       "                        <td id=\"T_c52ea_row1_col1\" class=\"data row1 col1\" >0.248095</td>\n",
       "                        <td id=\"T_c52ea_row1_col2\" class=\"data row1 col2\" >0.919782</td>\n",
       "                        <td id=\"T_c52ea_row1_col3\" class=\"data row1 col3\" >0.208362</td>\n",
       "                        <td id=\"T_c52ea_row1_col4\" class=\"data row1 col4\" >0.434255</td>\n",
       "            </tr>\n",
       "            <tr>\n",
       "                        <th id=\"T_c52ea_level0_row2\" class=\"row_heading level0 row2\" >2</th>\n",
       "                        <td id=\"T_c52ea_row2_col0\" class=\"data row2 col0\" >CartScreenAppear</td>\n",
       "                        <td id=\"T_c52ea_row2_col1\" class=\"data row2 col1\" >0.228834</td>\n",
       "                        <td id=\"T_c52ea_row2_col2\" class=\"data row2 col2\" >0.578620</td>\n",
       "                        <td id=\"T_c52ea_row2_col3\" class=\"data row2 col3\" >0.078429</td>\n",
       "                        <td id=\"T_c52ea_row2_col4\" class=\"data row2 col4\" >0.181759</td>\n",
       "            </tr>\n",
       "            <tr>\n",
       "                        <th id=\"T_c52ea_level0_row3\" class=\"row_heading level0 row3\" >3</th>\n",
       "                        <td id=\"T_c52ea_row3_col0\" class=\"data row3 col0\" >PaymentScreenSuccessful</td>\n",
       "                        <td id=\"T_c52ea_row3_col1\" class=\"data row3 col1\" >0.114567</td>\n",
       "                        <td id=\"T_c52ea_row3_col2\" class=\"data row3 col2\" >0.737342</td>\n",
       "                        <td id=\"T_c52ea_row3_col3\" class=\"data row3 col3\" >0.212255</td>\n",
       "                        <td id=\"T_c52ea_row3_col4\" class=\"data row3 col4\" >0.600429</td>\n",
       "            </tr>\n",
       "            <tr>\n",
       "                        <th id=\"T_c52ea_level0_row4\" class=\"row_heading level0 row4\" >4</th>\n",
       "                        <td id=\"T_c52ea_row4_col0\" class=\"data row4 col0\" >Tutorial</td>\n",
       "                        <td id=\"T_c52ea_row4_col1\" class=\"data row4 col1\" >0.937700</td>\n",
       "                        <td id=\"T_c52ea_row4_col2\" class=\"data row4 col2\" >0.765324</td>\n",
       "                        <td id=\"T_c52ea_row4_col3\" class=\"data row4 col3\" >0.826429</td>\n",
       "                        <td id=\"T_c52ea_row4_col4\" class=\"data row4 col4\" >0.764862</td>\n",
       "            </tr>\n",
       "    </tbody></table>"
      ],
      "text/plain": [
       "<pandas.io.formats.style.Styler at 0x7fc0ada96ac0>"
      ]
     },
     "execution_count": 36,
     "metadata": {},
     "output_type": "execute_result"
    }
   ],
   "source": [
    " # создаем столбец с отличием от объединённой группы\n",
    "groups_stats['246+247-248'] = 0\n",
    "\n",
    "# заполняем новый столбец в цикле\n",
    "for i in range(0, 5):\n",
    "    groups_stats.iloc[i, 4] = hypo_test(\n",
    "        events_groups.iloc[5, 3], \n",
    "        events_groups.iloc[5, 5], \n",
    "        events_groups.iloc[i, 3],\n",
    "        events_groups.iloc[i, 5])\n",
    "groups_stats.style.highlight_min(color='pink', axis=None)"
   ]
  },
  {
   "cell_type": "markdown",
   "metadata": {},
   "source": [
    "Видим, что минимальное значение у нас осталось 0.07, что выше уровня статистической значимости, а следовательно, отвергнуть нулевую гипотезу нет оснований. Получается, что эксперимент не привёл к изменению поведения пользователей. "
   ]
  },
  {
   "cell_type": "markdown",
   "metadata": {},
   "source": [
    "Мы проверяли 5 событий и делали 4 сравнения - \n",
    "- разница 246-247\n",
    "- разница 246-248\n",
    "- разница 246-248\n",
    "- разница объединённой группы и 248 \n",
    "\n",
    "Итого 5 * 4 = 20 проверок. \n"
   ]
  },
  {
   "cell_type": "code",
   "execution_count": 37,
   "metadata": {},
   "outputs": [
    {
     "name": "stdout",
     "output_type": "stream",
     "text": [
      "Уточненый p-value: 0.0025613787765302876\n"
     ]
    }
   ],
   "source": [
    "# уточним рекомендуемый p_value по методу Шидака pAdjiusted = 1 – (1 – p) m \n",
    "p_value = 1 - (1 - 0.05)**(1 / 20)\n",
    "print('Уточненый p-value:', p_value)"
   ]
  },
  {
   "cell_type": "markdown",
   "metadata": {},
   "source": [
    "Возможно, стоило проверить уточнённый p-value в начале всех проверок, но в нашем случае скорректированное значение ещё меньше, чем взятое изначально 0.05. Все полученные результаты будут выше и скорректированного p-value, а значит, сравнивать заново смысла нет. "
   ]
  },
  {
   "cell_type": "markdown",
   "metadata": {},
   "source": [
    "## Вывод по шагу 5 \n",
    "Сравнили количество пользователей в каждой группе и сравнили поведение пользователей из каждой группы для каждого события. \n",
    "Получили, что \n",
    "- статистически значимой разницы между группами A/A нет \n",
    "- статистически значимой разницы между группами A-1/B нет \n",
    "- статистически значимой разницы между группами A-2/B нет \n",
    "- статистически значимой разницы между группами A-1+A-2/B нет \n",
    "\n",
    "Получается, изменённый шрифт (группа B) никак не повлиял на поведение пользователей. \n",
    "\n",
    "Также проанализировали количество проверенных гипотез и убедились, что при корректировке p_value итог расчётов не меняеется. "
   ]
  },
  {
   "cell_type": "markdown",
   "metadata": {},
   "source": [
    "# Общий вывод\n",
    "Целью исследования было выяснить, какой шрифт лучше - старый или изменённый. \n",
    "В ходе анализа мы загрузили, обработали и изучили данные, проана"
   ]
  },
  {
   "cell_type": "code",
   "execution_count": null,
   "metadata": {},
   "outputs": [],
   "source": []
  }
 ],
 "metadata": {
  "ExecuteTimeLog": [
   {
    "duration": 361,
    "start_time": "2025-03-25T18:24:42.036Z"
   },
   {
    "duration": 2,
    "start_time": "2025-03-25T18:24:55.205Z"
   },
   {
    "duration": 56,
    "start_time": "2025-03-25T18:25:32.189Z"
   },
   {
    "duration": 272,
    "start_time": "2025-03-25T18:25:39.951Z"
   },
   {
    "duration": 61,
    "start_time": "2025-03-26T17:55:32.444Z"
   },
   {
    "duration": 436,
    "start_time": "2025-03-26T17:55:38.209Z"
   },
   {
    "duration": 355,
    "start_time": "2025-03-26T17:55:38.661Z"
   },
   {
    "duration": 188,
    "start_time": "2025-03-26T17:55:39.900Z"
   },
   {
    "duration": 371,
    "start_time": "2025-04-03T17:15:19.113Z"
   },
   {
    "duration": 404,
    "start_time": "2025-04-03T17:15:19.486Z"
   },
   {
    "duration": 185,
    "start_time": "2025-04-03T17:15:22.078Z"
   },
   {
    "duration": 45,
    "start_time": "2025-04-03T17:15:52.919Z"
   },
   {
    "duration": 37,
    "start_time": "2025-04-03T17:16:03.024Z"
   },
   {
    "duration": 43,
    "start_time": "2025-04-03T17:16:10.693Z"
   },
   {
    "duration": 46,
    "start_time": "2025-04-03T17:16:19.768Z"
   },
   {
    "duration": 64,
    "start_time": "2025-04-03T17:16:27.181Z"
   },
   {
    "duration": 50,
    "start_time": "2025-04-03T17:16:34.024Z"
   },
   {
    "duration": 51,
    "start_time": "2025-04-03T17:16:40.583Z"
   },
   {
    "duration": 52,
    "start_time": "2025-04-03T17:16:45.773Z"
   },
   {
    "duration": 7,
    "start_time": "2025-04-03T17:24:03.059Z"
   },
   {
    "duration": 8,
    "start_time": "2025-04-03T17:29:07.875Z"
   },
   {
    "duration": 8,
    "start_time": "2025-04-03T17:29:51.874Z"
   },
   {
    "duration": 58,
    "start_time": "2025-04-03T17:34:17.061Z"
   },
   {
    "duration": 431,
    "start_time": "2025-04-04T19:17:59.077Z"
   },
   {
    "duration": 403,
    "start_time": "2025-04-04T19:17:59.510Z"
   },
   {
    "duration": 197,
    "start_time": "2025-04-04T19:17:59.915Z"
   },
   {
    "duration": 53,
    "start_time": "2025-04-04T19:18:00.114Z"
   },
   {
    "duration": 7,
    "start_time": "2025-04-04T19:18:00.169Z"
   },
   {
    "duration": 57,
    "start_time": "2025-04-04T19:18:03.393Z"
   },
   {
    "duration": 55,
    "start_time": "2025-04-04T19:18:30.091Z"
   },
   {
    "duration": 116,
    "start_time": "2025-04-04T20:01:30.081Z"
   },
   {
    "duration": 19,
    "start_time": "2025-04-04T20:02:03.557Z"
   },
   {
    "duration": 17,
    "start_time": "2025-04-04T20:02:20.394Z"
   },
   {
    "duration": 928,
    "start_time": "2025-04-04T20:10:33.315Z"
   },
   {
    "duration": 1154,
    "start_time": "2025-04-05T08:44:16.744Z"
   },
   {
    "duration": 1079,
    "start_time": "2025-04-05T08:48:17.943Z"
   },
   {
    "duration": 66,
    "start_time": "2025-04-05T09:19:59.631Z"
   },
   {
    "duration": 4,
    "start_time": "2025-04-05T09:20:18.138Z"
   },
   {
    "duration": 6,
    "start_time": "2025-04-05T09:22:49.657Z"
   },
   {
    "duration": 6,
    "start_time": "2025-04-05T09:22:54.856Z"
   },
   {
    "duration": 1452,
    "start_time": "2025-04-05T10:03:28.028Z"
   },
   {
    "duration": 12,
    "start_time": "2025-04-05T10:03:41.038Z"
   },
   {
    "duration": 2305,
    "start_time": "2025-04-05T12:10:56.582Z"
   },
   {
    "duration": 3,
    "start_time": "2025-04-05T12:11:14.893Z"
   },
   {
    "duration": 41,
    "start_time": "2025-04-05T12:11:26.205Z"
   },
   {
    "duration": 15,
    "start_time": "2025-04-05T12:11:42.187Z"
   },
   {
    "duration": 184,
    "start_time": "2025-04-05T12:19:42.109Z"
   },
   {
    "duration": 191,
    "start_time": "2025-04-05T12:21:01.891Z"
   },
   {
    "duration": 393,
    "start_time": "2025-04-05T12:21:31.873Z"
   },
   {
    "duration": 656,
    "start_time": "2025-04-05T12:21:51.590Z"
   },
   {
    "duration": 774,
    "start_time": "2025-04-05T12:22:12.237Z"
   },
   {
    "duration": 1113,
    "start_time": "2025-04-05T12:31:13.700Z"
   },
   {
    "duration": 6,
    "start_time": "2025-04-05T12:31:34.956Z"
   },
   {
    "duration": 1024,
    "start_time": "2025-04-05T12:31:35.710Z"
   },
   {
    "duration": 1190,
    "start_time": "2025-04-05T12:31:49.997Z"
   },
   {
    "duration": 997,
    "start_time": "2025-04-05T12:32:13.240Z"
   },
   {
    "duration": 1097,
    "start_time": "2025-04-05T12:32:37.025Z"
   },
   {
    "duration": 831,
    "start_time": "2025-04-07T18:54:17.588Z"
   },
   {
    "duration": 293,
    "start_time": "2025-04-07T18:54:18.421Z"
   },
   {
    "duration": 181,
    "start_time": "2025-04-07T18:54:18.715Z"
   },
   {
    "duration": 55,
    "start_time": "2025-04-07T18:54:18.898Z"
   },
   {
    "duration": 24,
    "start_time": "2025-04-07T18:54:18.954Z"
   },
   {
    "duration": 57,
    "start_time": "2025-04-07T18:54:18.980Z"
   },
   {
    "duration": 137,
    "start_time": "2025-04-07T18:54:19.038Z"
   },
   {
    "duration": 18,
    "start_time": "2025-04-07T18:54:19.177Z"
   },
   {
    "duration": 1034,
    "start_time": "2025-04-07T18:54:19.196Z"
   },
   {
    "duration": 3,
    "start_time": "2025-04-07T18:54:20.232Z"
   },
   {
    "duration": 16,
    "start_time": "2025-04-07T18:54:20.236Z"
   },
   {
    "duration": 23,
    "start_time": "2025-04-07T18:54:20.254Z"
   },
   {
    "duration": 1123,
    "start_time": "2025-04-07T18:55:04.781Z"
   },
   {
    "duration": 843,
    "start_time": "2025-04-07T18:55:22.970Z"
   },
   {
    "duration": 634,
    "start_time": "2025-04-07T18:55:41.547Z"
   },
   {
    "duration": 6,
    "start_time": "2025-04-07T19:16:32.075Z"
   },
   {
    "duration": 82,
    "start_time": "2025-04-07T19:20:34.976Z"
   },
   {
    "duration": 5,
    "start_time": "2025-04-07T19:20:58.982Z"
   },
   {
    "duration": 209,
    "start_time": "2025-04-07T19:21:03.798Z"
   },
   {
    "duration": 557,
    "start_time": "2025-04-07T19:26:04.614Z"
   },
   {
    "duration": 3,
    "start_time": "2025-04-07T19:26:09.015Z"
   },
   {
    "duration": 240,
    "start_time": "2025-04-07T19:26:24.963Z"
   },
   {
    "duration": 562,
    "start_time": "2025-04-07T19:27:44.878Z"
   },
   {
    "duration": 1772,
    "start_time": "2025-04-07T19:28:46.575Z"
   },
   {
    "duration": 486,
    "start_time": "2025-04-07T19:29:24.139Z"
   },
   {
    "duration": 653,
    "start_time": "2025-04-07T19:30:09.872Z"
   },
   {
    "duration": 688,
    "start_time": "2025-04-07T19:30:27.104Z"
   },
   {
    "duration": 661,
    "start_time": "2025-04-07T19:30:32.029Z"
   },
   {
    "duration": 750,
    "start_time": "2025-04-07T19:30:40.594Z"
   },
   {
    "duration": 629,
    "start_time": "2025-04-07T19:30:49.864Z"
   },
   {
    "duration": 653,
    "start_time": "2025-04-07T19:30:53.007Z"
   },
   {
    "duration": 743,
    "start_time": "2025-04-07T19:30:56.316Z"
   },
   {
    "duration": 640,
    "start_time": "2025-04-07T19:31:02.504Z"
   },
   {
    "duration": 673,
    "start_time": "2025-04-07T19:31:11.534Z"
   },
   {
    "duration": 361,
    "start_time": "2025-04-07T19:36:30.993Z"
   },
   {
    "duration": 190,
    "start_time": "2025-04-07T19:38:03.567Z"
   },
   {
    "duration": 191,
    "start_time": "2025-04-07T19:38:34.411Z"
   },
   {
    "duration": 336,
    "start_time": "2025-04-07T19:38:48.853Z"
   },
   {
    "duration": 509,
    "start_time": "2025-04-07T19:54:09.881Z"
   },
   {
    "duration": 227,
    "start_time": "2025-04-07T19:54:21.868Z"
   },
   {
    "duration": 477,
    "start_time": "2025-04-07T19:54:31.675Z"
   },
   {
    "duration": 416,
    "start_time": "2025-04-07T19:54:35.705Z"
   },
   {
    "duration": 382,
    "start_time": "2025-04-07T19:54:45.332Z"
   },
   {
    "duration": 194,
    "start_time": "2025-04-07T19:55:10.237Z"
   },
   {
    "duration": 415,
    "start_time": "2025-04-07T19:55:27.402Z"
   },
   {
    "duration": 199,
    "start_time": "2025-04-07T19:59:14.239Z"
   },
   {
    "duration": 195,
    "start_time": "2025-04-07T19:59:25.517Z"
   },
   {
    "duration": 201,
    "start_time": "2025-04-07T19:59:40.795Z"
   },
   {
    "duration": 198,
    "start_time": "2025-04-07T19:59:56.922Z"
   },
   {
    "duration": 18,
    "start_time": "2025-04-07T20:00:44.594Z"
   },
   {
    "duration": 1049,
    "start_time": "2025-04-07T20:00:55.414Z"
   },
   {
    "duration": 162,
    "start_time": "2025-04-07T20:04:51.734Z"
   },
   {
    "duration": 475,
    "start_time": "2025-04-07T20:16:57.676Z"
   },
   {
    "duration": 488,
    "start_time": "2025-04-07T20:17:57.371Z"
   },
   {
    "duration": 437,
    "start_time": "2025-04-07T20:21:31.490Z"
   },
   {
    "duration": 1434,
    "start_time": "2025-04-09T18:12:39.162Z"
   },
   {
    "duration": 409,
    "start_time": "2025-04-09T18:12:40.598Z"
   },
   {
    "duration": 206,
    "start_time": "2025-04-09T18:12:41.009Z"
   },
   {
    "duration": 59,
    "start_time": "2025-04-09T18:12:41.216Z"
   },
   {
    "duration": 8,
    "start_time": "2025-04-09T18:12:41.277Z"
   },
   {
    "duration": 77,
    "start_time": "2025-04-09T18:12:41.286Z"
   },
   {
    "duration": 137,
    "start_time": "2025-04-09T18:12:41.364Z"
   },
   {
    "duration": 17,
    "start_time": "2025-04-09T18:12:41.503Z"
   },
   {
    "duration": 1105,
    "start_time": "2025-04-09T18:12:41.522Z"
   },
   {
    "duration": 12,
    "start_time": "2025-04-09T18:12:42.629Z"
   },
   {
    "duration": 10,
    "start_time": "2025-04-09T18:12:42.642Z"
   },
   {
    "duration": 12,
    "start_time": "2025-04-09T18:12:42.653Z"
   },
   {
    "duration": 722,
    "start_time": "2025-04-09T18:12:42.667Z"
   },
   {
    "duration": 6,
    "start_time": "2025-04-09T18:12:43.391Z"
   },
   {
    "duration": 526,
    "start_time": "2025-04-09T18:12:43.399Z"
   },
   {
    "duration": 70,
    "start_time": "2025-04-09T18:24:32.548Z"
   },
   {
    "duration": 132,
    "start_time": "2025-04-09T18:24:39.324Z"
   },
   {
    "duration": 36,
    "start_time": "2025-04-09T18:25:02.079Z"
   },
   {
    "duration": 4,
    "start_time": "2025-04-09T18:25:29.692Z"
   },
   {
    "duration": 35,
    "start_time": "2025-04-09T18:25:35.384Z"
   },
   {
    "duration": 64,
    "start_time": "2025-04-09T18:25:57.565Z"
   },
   {
    "duration": 31,
    "start_time": "2025-04-09T18:26:41.660Z"
   },
   {
    "duration": 51,
    "start_time": "2025-04-09T18:26:46.432Z"
   },
   {
    "duration": 32,
    "start_time": "2025-04-09T18:29:23.931Z"
   },
   {
    "duration": 41,
    "start_time": "2025-04-09T18:29:35.150Z"
   },
   {
    "duration": 17,
    "start_time": "2025-04-09T18:35:53.130Z"
   },
   {
    "duration": 20,
    "start_time": "2025-04-09T18:36:18.192Z"
   },
   {
    "duration": 12,
    "start_time": "2025-04-09T18:36:27.466Z"
   },
   {
    "duration": 19,
    "start_time": "2025-04-09T18:36:45.868Z"
   },
   {
    "duration": 7,
    "start_time": "2025-04-09T18:41:01.186Z"
   },
   {
    "duration": 15,
    "start_time": "2025-04-09T18:41:19.711Z"
   },
   {
    "duration": 11,
    "start_time": "2025-04-09T18:41:25.126Z"
   },
   {
    "duration": 13,
    "start_time": "2025-04-09T18:44:19.287Z"
   },
   {
    "duration": 14,
    "start_time": "2025-04-09T18:44:26.382Z"
   },
   {
    "duration": 12,
    "start_time": "2025-04-09T18:44:31.198Z"
   },
   {
    "duration": 13,
    "start_time": "2025-04-09T18:44:45.490Z"
   },
   {
    "duration": 14,
    "start_time": "2025-04-09T18:49:01.870Z"
   },
   {
    "duration": 16,
    "start_time": "2025-04-09T18:49:31.405Z"
   },
   {
    "duration": 16,
    "start_time": "2025-04-09T18:52:13.779Z"
   },
   {
    "duration": 34,
    "start_time": "2025-04-09T18:52:21.407Z"
   },
   {
    "duration": 15,
    "start_time": "2025-04-09T18:55:00.877Z"
   },
   {
    "duration": 1440,
    "start_time": "2025-04-10T18:04:46.836Z"
   },
   {
    "duration": 316,
    "start_time": "2025-04-10T18:04:48.278Z"
   },
   {
    "duration": 172,
    "start_time": "2025-04-10T18:04:48.595Z"
   },
   {
    "duration": 58,
    "start_time": "2025-04-10T18:04:48.769Z"
   },
   {
    "duration": 30,
    "start_time": "2025-04-10T18:04:48.830Z"
   },
   {
    "duration": 102,
    "start_time": "2025-04-10T18:04:48.862Z"
   },
   {
    "duration": 130,
    "start_time": "2025-04-10T18:04:48.966Z"
   },
   {
    "duration": 16,
    "start_time": "2025-04-10T18:04:49.098Z"
   },
   {
    "duration": 988,
    "start_time": "2025-04-10T18:04:49.116Z"
   },
   {
    "duration": 4,
    "start_time": "2025-04-10T18:04:50.105Z"
   },
   {
    "duration": 137,
    "start_time": "2025-04-10T18:04:50.110Z"
   },
   {
    "duration": 29,
    "start_time": "2025-04-10T18:04:50.249Z"
   },
   {
    "duration": 667,
    "start_time": "2025-04-10T18:04:50.280Z"
   },
   {
    "duration": 14,
    "start_time": "2025-04-10T18:04:50.949Z"
   },
   {
    "duration": 567,
    "start_time": "2025-04-10T18:04:50.966Z"
   },
   {
    "duration": 46,
    "start_time": "2025-04-10T18:04:51.535Z"
   },
   {
    "duration": 82,
    "start_time": "2025-04-10T18:04:51.583Z"
   },
   {
    "duration": 142,
    "start_time": "2025-04-10T18:04:51.667Z"
   },
   {
    "duration": 6,
    "start_time": "2025-04-10T18:05:37.514Z"
   },
   {
    "duration": 4,
    "start_time": "2025-04-10T18:05:48.539Z"
   },
   {
    "duration": 51,
    "start_time": "2025-04-10T18:05:54.353Z"
   },
   {
    "duration": 64,
    "start_time": "2025-04-10T18:05:59.094Z"
   },
   {
    "duration": 105,
    "start_time": "2025-04-10T18:08:09.821Z"
   },
   {
    "duration": 34,
    "start_time": "2025-04-10T18:08:19.253Z"
   },
   {
    "duration": 35,
    "start_time": "2025-04-10T18:08:43.608Z"
   },
   {
    "duration": 23,
    "start_time": "2025-04-10T18:12:35.491Z"
   },
   {
    "duration": 1424,
    "start_time": "2025-04-10T18:21:43.388Z"
   },
   {
    "duration": 60,
    "start_time": "2025-04-10T18:21:57.680Z"
   },
   {
    "duration": 68,
    "start_time": "2025-04-10T18:22:07.826Z"
   },
   {
    "duration": 56,
    "start_time": "2025-04-10T18:23:20.654Z"
   },
   {
    "duration": 57,
    "start_time": "2025-04-10T18:23:30.738Z"
   },
   {
    "duration": 15,
    "start_time": "2025-04-10T18:26:16.289Z"
   },
   {
    "duration": 169,
    "start_time": "2025-04-10T18:26:34.427Z"
   },
   {
    "duration": 263,
    "start_time": "2025-04-10T18:27:06.687Z"
   },
   {
    "duration": 62,
    "start_time": "2025-04-10T18:27:11.191Z"
   },
   {
    "duration": 175,
    "start_time": "2025-04-10T18:27:13.851Z"
   },
   {
    "duration": 178,
    "start_time": "2025-04-10T18:27:28.835Z"
   },
   {
    "duration": 167,
    "start_time": "2025-04-10T18:27:34.043Z"
   },
   {
    "duration": 162,
    "start_time": "2025-04-10T18:27:38.395Z"
   },
   {
    "duration": 67,
    "start_time": "2025-04-10T18:27:48.562Z"
   },
   {
    "duration": 135,
    "start_time": "2025-04-10T18:27:53.806Z"
   },
   {
    "duration": 150,
    "start_time": "2025-04-10T18:28:12.433Z"
   },
   {
    "duration": 163,
    "start_time": "2025-04-10T18:28:21.100Z"
   },
   {
    "duration": 185,
    "start_time": "2025-04-10T18:28:53.342Z"
   },
   {
    "duration": 168,
    "start_time": "2025-04-10T18:29:30.296Z"
   },
   {
    "duration": 1500,
    "start_time": "2025-04-13T14:24:01.682Z"
   },
   {
    "duration": 366,
    "start_time": "2025-04-13T14:24:03.185Z"
   },
   {
    "duration": 202,
    "start_time": "2025-04-13T14:24:03.553Z"
   },
   {
    "duration": 60,
    "start_time": "2025-04-13T14:24:03.757Z"
   },
   {
    "duration": 8,
    "start_time": "2025-04-13T14:24:03.819Z"
   },
   {
    "duration": 76,
    "start_time": "2025-04-13T14:24:03.829Z"
   },
   {
    "duration": 136,
    "start_time": "2025-04-13T14:24:03.907Z"
   },
   {
    "duration": 18,
    "start_time": "2025-04-13T14:24:04.045Z"
   },
   {
    "duration": 1094,
    "start_time": "2025-04-13T14:24:04.065Z"
   },
   {
    "duration": 3,
    "start_time": "2025-04-13T14:24:05.161Z"
   },
   {
    "duration": 23,
    "start_time": "2025-04-13T14:24:05.166Z"
   },
   {
    "duration": 15,
    "start_time": "2025-04-13T14:24:05.191Z"
   },
   {
    "duration": 692,
    "start_time": "2025-04-13T14:24:05.208Z"
   },
   {
    "duration": 6,
    "start_time": "2025-04-13T14:24:05.904Z"
   },
   {
    "duration": 536,
    "start_time": "2025-04-13T14:24:05.912Z"
   },
   {
    "duration": 42,
    "start_time": "2025-04-13T14:24:06.450Z"
   },
   {
    "duration": 26,
    "start_time": "2025-04-13T14:24:06.494Z"
   },
   {
    "duration": 35,
    "start_time": "2025-04-13T14:24:06.522Z"
   },
   {
    "duration": 48,
    "start_time": "2025-04-13T14:24:06.559Z"
   },
   {
    "duration": 60,
    "start_time": "2025-04-13T14:24:06.609Z"
   },
   {
    "duration": 187,
    "start_time": "2025-04-13T14:24:06.670Z"
   },
   {
    "duration": 122,
    "start_time": "2025-04-13T14:44:30.306Z"
   },
   {
    "duration": 63,
    "start_time": "2025-04-13T14:44:33.939Z"
   },
   {
    "duration": 5,
    "start_time": "2025-04-13T14:45:21.326Z"
   },
   {
    "duration": 7,
    "start_time": "2025-04-13T14:45:32.390Z"
   },
   {
    "duration": 65,
    "start_time": "2025-04-13T14:45:43.533Z"
   },
   {
    "duration": 53,
    "start_time": "2025-05-03T15:03:13.396Z"
   },
   {
    "duration": 1441,
    "start_time": "2025-05-03T15:03:52.444Z"
   },
   {
    "duration": 301,
    "start_time": "2025-05-03T15:03:53.887Z"
   },
   {
    "duration": 178,
    "start_time": "2025-05-03T15:03:54.189Z"
   },
   {
    "duration": 58,
    "start_time": "2025-05-03T15:03:54.368Z"
   },
   {
    "duration": 7,
    "start_time": "2025-05-03T15:03:54.428Z"
   },
   {
    "duration": 78,
    "start_time": "2025-05-03T15:03:54.436Z"
   },
   {
    "duration": 128,
    "start_time": "2025-05-03T15:03:54.515Z"
   },
   {
    "duration": 23,
    "start_time": "2025-05-03T15:03:54.644Z"
   },
   {
    "duration": 1049,
    "start_time": "2025-05-03T15:03:54.669Z"
   },
   {
    "duration": 3,
    "start_time": "2025-05-03T15:03:55.720Z"
   },
   {
    "duration": 8,
    "start_time": "2025-05-03T15:03:55.724Z"
   },
   {
    "duration": 31,
    "start_time": "2025-05-03T15:03:55.734Z"
   },
   {
    "duration": 668,
    "start_time": "2025-05-03T15:03:55.767Z"
   },
   {
    "duration": 5,
    "start_time": "2025-05-03T15:03:56.438Z"
   },
   {
    "duration": 497,
    "start_time": "2025-05-03T15:03:56.445Z"
   },
   {
    "duration": 44,
    "start_time": "2025-05-03T15:03:56.944Z"
   },
   {
    "duration": 17,
    "start_time": "2025-05-03T15:03:56.990Z"
   },
   {
    "duration": 53,
    "start_time": "2025-05-03T15:03:57.009Z"
   },
   {
    "duration": 23,
    "start_time": "2025-05-03T15:03:57.064Z"
   },
   {
    "duration": 75,
    "start_time": "2025-05-03T15:03:57.089Z"
   },
   {
    "duration": 213,
    "start_time": "2025-05-03T15:03:57.165Z"
   },
   {
    "duration": 2,
    "start_time": "2025-05-03T15:05:21.544Z"
   },
   {
    "duration": 74,
    "start_time": "2025-05-03T15:13:04.365Z"
   },
   {
    "duration": 12,
    "start_time": "2025-05-03T15:13:19.624Z"
   },
   {
    "duration": 13,
    "start_time": "2025-05-03T15:13:48.284Z"
   },
   {
    "duration": 13,
    "start_time": "2025-05-03T15:15:05.744Z"
   },
   {
    "duration": 22,
    "start_time": "2025-05-03T15:15:11.972Z"
   },
   {
    "duration": 23,
    "start_time": "2025-05-03T15:16:04.564Z"
   },
   {
    "duration": 21,
    "start_time": "2025-05-03T15:16:33.584Z"
   },
   {
    "duration": 20,
    "start_time": "2025-05-03T15:18:45.211Z"
   },
   {
    "duration": 13,
    "start_time": "2025-05-03T15:20:10.771Z"
   },
   {
    "duration": 14,
    "start_time": "2025-05-03T15:21:36.344Z"
   },
   {
    "duration": 22,
    "start_time": "2025-05-03T15:52:51.408Z"
   },
   {
    "duration": 14,
    "start_time": "2025-05-03T15:53:09.856Z"
   },
   {
    "duration": 1331,
    "start_time": "2025-05-03T15:53:20.168Z"
   },
   {
    "duration": 60,
    "start_time": "2025-05-03T15:53:28.437Z"
   },
   {
    "duration": 63,
    "start_time": "2025-05-03T15:53:53.575Z"
   },
   {
    "duration": 62,
    "start_time": "2025-05-03T15:54:24.728Z"
   },
   {
    "duration": 13,
    "start_time": "2025-05-03T16:06:36.420Z"
   },
   {
    "duration": 33,
    "start_time": "2025-05-03T16:08:21.887Z"
   },
   {
    "duration": 60,
    "start_time": "2025-05-03T16:08:35.455Z"
   },
   {
    "duration": 34,
    "start_time": "2025-05-03T16:09:23.067Z"
   },
   {
    "duration": 29,
    "start_time": "2025-05-03T16:09:27.536Z"
   },
   {
    "duration": 30,
    "start_time": "2025-05-03T16:09:38.368Z"
   },
   {
    "duration": 96,
    "start_time": "2025-05-03T16:12:15.176Z"
   },
   {
    "duration": 36,
    "start_time": "2025-05-03T16:12:27.507Z"
   },
   {
    "duration": 37,
    "start_time": "2025-05-03T16:28:59.341Z"
   },
   {
    "duration": 48,
    "start_time": "2025-05-03T16:30:44.349Z"
   },
   {
    "duration": 82,
    "start_time": "2025-05-03T16:30:56.169Z"
   },
   {
    "duration": 95,
    "start_time": "2025-05-03T16:31:35.301Z"
   },
   {
    "duration": 77,
    "start_time": "2025-05-03T16:31:40.689Z"
   },
   {
    "duration": 93,
    "start_time": "2025-05-03T16:32:44.210Z"
   },
   {
    "duration": 82,
    "start_time": "2025-05-03T16:32:55.081Z"
   },
   {
    "duration": 71,
    "start_time": "2025-05-03T16:34:46.630Z"
   },
   {
    "duration": 76,
    "start_time": "2025-05-03T16:35:35.749Z"
   },
   {
    "duration": 387,
    "start_time": "2025-05-03T16:36:38.937Z"
   },
   {
    "duration": 432,
    "start_time": "2025-05-03T16:36:47.789Z"
   },
   {
    "duration": 81,
    "start_time": "2025-05-03T16:37:42.877Z"
   },
   {
    "duration": 75,
    "start_time": "2025-05-03T16:38:34.090Z"
   },
   {
    "duration": 76,
    "start_time": "2025-05-03T16:45:55.689Z"
   },
   {
    "duration": 5,
    "start_time": "2025-05-03T16:48:51.158Z"
   },
   {
    "duration": 5,
    "start_time": "2025-05-03T16:49:27.630Z"
   },
   {
    "duration": 19,
    "start_time": "2025-05-03T16:49:48.068Z"
   },
   {
    "duration": 15,
    "start_time": "2025-05-03T16:51:17.005Z"
   },
   {
    "duration": 79,
    "start_time": "2025-05-03T16:51:56.869Z"
   },
   {
    "duration": 5,
    "start_time": "2025-05-03T16:51:59.392Z"
   },
   {
    "duration": 15,
    "start_time": "2025-05-03T16:52:00.277Z"
   },
   {
    "duration": 5,
    "start_time": "2025-05-03T16:52:40.911Z"
   },
   {
    "duration": 16,
    "start_time": "2025-05-03T16:52:43.129Z"
   },
   {
    "duration": 4,
    "start_time": "2025-05-03T16:52:54.976Z"
   },
   {
    "duration": 6,
    "start_time": "2025-05-03T16:53:02.139Z"
   },
   {
    "duration": 15,
    "start_time": "2025-05-03T16:53:02.769Z"
   },
   {
    "duration": 12,
    "start_time": "2025-05-03T16:53:24.790Z"
   },
   {
    "duration": 17,
    "start_time": "2025-05-03T16:53:30.177Z"
   },
   {
    "duration": 6,
    "start_time": "2025-05-03T16:53:33.657Z"
   },
   {
    "duration": 15,
    "start_time": "2025-05-03T16:53:34.809Z"
   },
   {
    "duration": 3,
    "start_time": "2025-05-03T16:54:10.706Z"
   },
   {
    "duration": 5,
    "start_time": "2025-05-03T16:54:15.679Z"
   },
   {
    "duration": 7,
    "start_time": "2025-05-03T16:54:16.089Z"
   },
   {
    "duration": 8,
    "start_time": "2025-05-03T16:54:43.769Z"
   },
   {
    "duration": 4,
    "start_time": "2025-05-03T16:56:35.489Z"
   },
   {
    "duration": 6,
    "start_time": "2025-05-03T16:56:46.048Z"
   },
   {
    "duration": 6,
    "start_time": "2025-05-03T16:56:54.549Z"
   },
   {
    "duration": 8,
    "start_time": "2025-05-03T16:57:07.396Z"
   },
   {
    "duration": 3,
    "start_time": "2025-05-03T16:59:00.757Z"
   },
   {
    "duration": 7,
    "start_time": "2025-05-03T16:59:02.749Z"
   },
   {
    "duration": 12,
    "start_time": "2025-05-03T17:05:22.638Z"
   },
   {
    "duration": 20,
    "start_time": "2025-05-03T17:06:53.828Z"
   },
   {
    "duration": 20,
    "start_time": "2025-05-03T17:13:58.445Z"
   },
   {
    "duration": 218,
    "start_time": "2025-05-03T17:15:04.303Z"
   },
   {
    "duration": 13,
    "start_time": "2025-05-03T17:15:13.831Z"
   },
   {
    "duration": 16,
    "start_time": "2025-05-03T17:15:26.023Z"
   },
   {
    "duration": 18,
    "start_time": "2025-05-03T17:20:33.883Z"
   },
   {
    "duration": 80,
    "start_time": "2025-05-03T17:22:38.003Z"
   },
   {
    "duration": 17,
    "start_time": "2025-05-03T17:22:51.915Z"
   },
   {
    "duration": 47,
    "start_time": "2025-05-03T17:22:59.039Z"
   },
   {
    "duration": 1199,
    "start_time": "2025-05-03T17:23:14.422Z"
   },
   {
    "duration": 128,
    "start_time": "2025-05-03T17:23:25.650Z"
   },
   {
    "duration": 39,
    "start_time": "2025-05-03T17:23:46.604Z"
   },
   {
    "duration": 15,
    "start_time": "2025-05-03T17:23:50.611Z"
   },
   {
    "duration": 39,
    "start_time": "2025-05-03T17:23:57.452Z"
   },
   {
    "duration": 16,
    "start_time": "2025-05-03T17:24:00.492Z"
   },
   {
    "duration": 40,
    "start_time": "2025-05-03T17:24:03.023Z"
   },
   {
    "duration": 6,
    "start_time": "2025-05-03T17:24:21.131Z"
   },
   {
    "duration": 15,
    "start_time": "2025-05-03T17:24:24.086Z"
   },
   {
    "duration": 15,
    "start_time": "2025-05-03T17:24:28.603Z"
   },
   {
    "duration": 40,
    "start_time": "2025-05-03T17:24:32.151Z"
   },
   {
    "duration": 6,
    "start_time": "2025-05-03T17:24:44.199Z"
   },
   {
    "duration": 5,
    "start_time": "2025-05-03T17:24:54.890Z"
   },
   {
    "duration": 3,
    "start_time": "2025-05-03T17:25:00.343Z"
   },
   {
    "duration": 6,
    "start_time": "2025-05-03T17:25:00.871Z"
   },
   {
    "duration": 220,
    "start_time": "2025-05-03T17:25:02.884Z"
   },
   {
    "duration": 42,
    "start_time": "2025-05-03T17:25:03.815Z"
   },
   {
    "duration": 6,
    "start_time": "2025-05-03T17:25:19.251Z"
   },
   {
    "duration": 6,
    "start_time": "2025-05-03T17:25:23.495Z"
   },
   {
    "duration": 6,
    "start_time": "2025-05-03T17:25:33.963Z"
   },
   {
    "duration": 6,
    "start_time": "2025-05-03T17:26:05.282Z"
   },
   {
    "duration": 2,
    "start_time": "2025-05-03T17:26:06.583Z"
   },
   {
    "duration": 17,
    "start_time": "2025-05-03T17:26:06.970Z"
   },
   {
    "duration": 18,
    "start_time": "2025-05-03T17:26:16.911Z"
   },
   {
    "duration": 6,
    "start_time": "2025-05-03T17:26:24.212Z"
   },
   {
    "duration": 2,
    "start_time": "2025-05-03T17:26:25.271Z"
   },
   {
    "duration": 7,
    "start_time": "2025-05-03T17:26:25.791Z"
   },
   {
    "duration": 208,
    "start_time": "2025-05-03T17:26:31.351Z"
   },
   {
    "duration": 17,
    "start_time": "2025-05-03T17:26:32.471Z"
   },
   {
    "duration": 40,
    "start_time": "2025-05-03T17:26:42.443Z"
   },
   {
    "duration": 5,
    "start_time": "2025-05-03T17:27:38.579Z"
   },
   {
    "duration": 2,
    "start_time": "2025-05-03T17:27:39.723Z"
   },
   {
    "duration": 8,
    "start_time": "2025-05-03T17:27:40.274Z"
   },
   {
    "duration": 4,
    "start_time": "2025-05-03T17:27:46.825Z"
   },
   {
    "duration": 295,
    "start_time": "2025-05-03T17:27:46.832Z"
   },
   {
    "duration": 190,
    "start_time": "2025-05-03T17:27:47.129Z"
   },
   {
    "duration": 76,
    "start_time": "2025-05-03T17:27:47.321Z"
   },
   {
    "duration": 8,
    "start_time": "2025-05-03T17:27:47.399Z"
   },
   {
    "duration": 70,
    "start_time": "2025-05-03T17:27:47.408Z"
   },
   {
    "duration": 113,
    "start_time": "2025-05-03T17:27:47.480Z"
   },
   {
    "duration": 17,
    "start_time": "2025-05-03T17:27:47.595Z"
   },
   {
    "duration": 1033,
    "start_time": "2025-05-03T17:27:47.613Z"
   },
   {
    "duration": 3,
    "start_time": "2025-05-03T17:27:48.648Z"
   },
   {
    "duration": 6,
    "start_time": "2025-05-03T17:27:48.662Z"
   },
   {
    "duration": 10,
    "start_time": "2025-05-03T17:27:48.669Z"
   },
   {
    "duration": 647,
    "start_time": "2025-05-03T17:27:48.681Z"
   },
   {
    "duration": 6,
    "start_time": "2025-05-03T17:27:49.332Z"
   },
   {
    "duration": 453,
    "start_time": "2025-05-03T17:27:49.339Z"
   },
   {
    "duration": 33,
    "start_time": "2025-05-03T17:27:49.794Z"
   },
   {
    "duration": 13,
    "start_time": "2025-05-03T17:27:49.829Z"
   },
   {
    "duration": 32,
    "start_time": "2025-05-03T17:27:49.863Z"
   },
   {
    "duration": 22,
    "start_time": "2025-05-03T17:27:49.897Z"
   },
   {
    "duration": 87,
    "start_time": "2025-05-03T17:27:49.920Z"
   },
   {
    "duration": 269,
    "start_time": "2025-05-03T17:27:50.008Z"
   },
   {
    "duration": 61,
    "start_time": "2025-05-03T17:27:50.278Z"
   },
   {
    "duration": 34,
    "start_time": "2025-05-03T17:27:50.341Z"
   },
   {
    "duration": 17,
    "start_time": "2025-05-03T17:27:50.378Z"
   },
   {
    "duration": 83,
    "start_time": "2025-05-03T17:27:50.397Z"
   },
   {
    "duration": 36,
    "start_time": "2025-05-03T17:27:50.482Z"
   },
   {
    "duration": 105,
    "start_time": "2025-05-03T17:27:50.521Z"
   },
   {
    "duration": 91,
    "start_time": "2025-05-03T17:27:50.628Z"
   },
   {
    "duration": 6,
    "start_time": "2025-05-03T17:27:50.722Z"
   },
   {
    "duration": 51,
    "start_time": "2025-05-03T17:27:50.731Z"
   },
   {
    "duration": 7,
    "start_time": "2025-05-03T17:27:54.491Z"
   },
   {
    "duration": 206,
    "start_time": "2025-05-03T17:28:06.403Z"
   },
   {
    "duration": 15,
    "start_time": "2025-05-03T17:28:11.672Z"
   },
   {
    "duration": 40,
    "start_time": "2025-05-03T17:28:17.803Z"
   },
   {
    "duration": 32,
    "start_time": "2025-05-03T17:28:25.071Z"
   },
   {
    "duration": 39,
    "start_time": "2025-05-03T17:28:29.971Z"
   },
   {
    "duration": 5,
    "start_time": "2025-05-03T17:28:42.685Z"
   },
   {
    "duration": 2,
    "start_time": "2025-05-03T17:28:43.511Z"
   },
   {
    "duration": 8,
    "start_time": "2025-05-03T17:28:44.231Z"
   },
   {
    "duration": 4,
    "start_time": "2025-05-03T17:29:19.426Z"
   },
   {
    "duration": 298,
    "start_time": "2025-05-03T17:29:19.432Z"
   },
   {
    "duration": 170,
    "start_time": "2025-05-03T17:29:19.731Z"
   },
   {
    "duration": 60,
    "start_time": "2025-05-03T17:29:19.903Z"
   },
   {
    "duration": 8,
    "start_time": "2025-05-03T17:29:19.966Z"
   },
   {
    "duration": 53,
    "start_time": "2025-05-03T17:29:19.975Z"
   },
   {
    "duration": 119,
    "start_time": "2025-05-03T17:29:20.030Z"
   },
   {
    "duration": 22,
    "start_time": "2025-05-03T17:29:20.151Z"
   },
   {
    "duration": 1046,
    "start_time": "2025-05-03T17:29:20.175Z"
   },
   {
    "duration": 3,
    "start_time": "2025-05-03T17:29:21.222Z"
   },
   {
    "duration": 6,
    "start_time": "2025-05-03T17:29:21.227Z"
   },
   {
    "duration": 28,
    "start_time": "2025-05-03T17:29:21.235Z"
   },
   {
    "duration": 649,
    "start_time": "2025-05-03T17:29:21.265Z"
   },
   {
    "duration": 5,
    "start_time": "2025-05-03T17:29:21.917Z"
   },
   {
    "duration": 458,
    "start_time": "2025-05-03T17:29:21.924Z"
   },
   {
    "duration": 34,
    "start_time": "2025-05-03T17:29:22.383Z"
   },
   {
    "duration": 14,
    "start_time": "2025-05-03T17:29:22.418Z"
   },
   {
    "duration": 58,
    "start_time": "2025-05-03T17:29:22.434Z"
   },
   {
    "duration": 24,
    "start_time": "2025-05-03T17:29:22.493Z"
   },
   {
    "duration": 80,
    "start_time": "2025-05-03T17:29:22.518Z"
   },
   {
    "duration": 188,
    "start_time": "2025-05-03T17:29:22.600Z"
   },
   {
    "duration": 62,
    "start_time": "2025-05-03T17:29:22.790Z"
   },
   {
    "duration": 19,
    "start_time": "2025-05-03T17:29:22.862Z"
   },
   {
    "duration": 14,
    "start_time": "2025-05-03T17:29:22.883Z"
   },
   {
    "duration": 76,
    "start_time": "2025-05-03T17:29:22.899Z"
   },
   {
    "duration": 36,
    "start_time": "2025-05-03T17:29:22.976Z"
   },
   {
    "duration": 101,
    "start_time": "2025-05-03T17:29:23.013Z"
   },
   {
    "duration": 89,
    "start_time": "2025-05-03T17:29:23.115Z"
   },
   {
    "duration": 5,
    "start_time": "2025-05-03T17:29:23.205Z"
   },
   {
    "duration": 7,
    "start_time": "2025-05-03T17:29:23.212Z"
   },
   {
    "duration": 27,
    "start_time": "2025-05-03T17:29:23.221Z"
   },
   {
    "duration": 213,
    "start_time": "2025-05-03T17:29:23.249Z"
   },
   {
    "duration": 5,
    "start_time": "2025-05-03T17:30:01.947Z"
   },
   {
    "duration": 39,
    "start_time": "2025-05-03T17:30:12.415Z"
   },
   {
    "duration": 4,
    "start_time": "2025-05-03T17:30:28.635Z"
   },
   {
    "duration": 3,
    "start_time": "2025-05-03T17:30:29.366Z"
   },
   {
    "duration": 9,
    "start_time": "2025-05-03T17:30:29.957Z"
   },
   {
    "duration": 212,
    "start_time": "2025-05-03T17:30:33.759Z"
   },
   {
    "duration": 40,
    "start_time": "2025-05-03T17:30:36.307Z"
   },
   {
    "duration": 4,
    "start_time": "2025-05-03T17:30:42.761Z"
   },
   {
    "duration": 2,
    "start_time": "2025-05-03T17:30:43.286Z"
   },
   {
    "duration": 7,
    "start_time": "2025-05-03T17:30:43.658Z"
   },
   {
    "duration": 208,
    "start_time": "2025-05-03T17:30:44.668Z"
   },
   {
    "duration": 42,
    "start_time": "2025-05-03T17:30:46.758Z"
   },
   {
    "duration": 8,
    "start_time": "2025-05-03T17:31:30.494Z"
   },
   {
    "duration": 8,
    "start_time": "2025-05-03T17:31:38.378Z"
   },
   {
    "duration": 5,
    "start_time": "2025-05-03T17:32:23.961Z"
   },
   {
    "duration": 5,
    "start_time": "2025-05-03T17:32:24.453Z"
   },
   {
    "duration": 2,
    "start_time": "2025-05-03T17:32:25.015Z"
   },
   {
    "duration": 7,
    "start_time": "2025-05-03T17:32:25.633Z"
   },
   {
    "duration": 3,
    "start_time": "2025-05-03T17:33:07.080Z"
   },
   {
    "duration": 350,
    "start_time": "2025-05-03T17:33:07.084Z"
   },
   {
    "duration": 170,
    "start_time": "2025-05-03T17:33:07.436Z"
   },
   {
    "duration": 65,
    "start_time": "2025-05-03T17:33:07.607Z"
   },
   {
    "duration": 8,
    "start_time": "2025-05-03T17:33:07.675Z"
   },
   {
    "duration": 50,
    "start_time": "2025-05-03T17:33:07.685Z"
   },
   {
    "duration": 130,
    "start_time": "2025-05-03T17:33:07.737Z"
   },
   {
    "duration": 19,
    "start_time": "2025-05-03T17:33:07.869Z"
   },
   {
    "duration": 1044,
    "start_time": "2025-05-03T17:33:07.890Z"
   },
   {
    "duration": 2,
    "start_time": "2025-05-03T17:33:08.936Z"
   },
   {
    "duration": 22,
    "start_time": "2025-05-03T17:33:08.941Z"
   },
   {
    "duration": 10,
    "start_time": "2025-05-03T17:33:08.965Z"
   },
   {
    "duration": 738,
    "start_time": "2025-05-03T17:33:08.976Z"
   },
   {
    "duration": 5,
    "start_time": "2025-05-03T17:33:09.716Z"
   },
   {
    "duration": 479,
    "start_time": "2025-05-03T17:33:09.723Z"
   },
   {
    "duration": 33,
    "start_time": "2025-05-03T17:33:10.204Z"
   },
   {
    "duration": 30,
    "start_time": "2025-05-03T17:33:10.239Z"
   },
   {
    "duration": 33,
    "start_time": "2025-05-03T17:33:10.270Z"
   },
   {
    "duration": 23,
    "start_time": "2025-05-03T17:33:10.305Z"
   },
   {
    "duration": 81,
    "start_time": "2025-05-03T17:33:10.329Z"
   },
   {
    "duration": 185,
    "start_time": "2025-05-03T17:33:10.412Z"
   },
   {
    "duration": 74,
    "start_time": "2025-05-03T17:33:10.599Z"
   },
   {
    "duration": 19,
    "start_time": "2025-05-03T17:33:10.675Z"
   },
   {
    "duration": 14,
    "start_time": "2025-05-03T17:33:10.695Z"
   },
   {
    "duration": 76,
    "start_time": "2025-05-03T17:33:10.711Z"
   },
   {
    "duration": 35,
    "start_time": "2025-05-03T17:33:10.788Z"
   },
   {
    "duration": 99,
    "start_time": "2025-05-03T17:33:10.825Z"
   },
   {
    "duration": 90,
    "start_time": "2025-05-03T17:33:10.926Z"
   },
   {
    "duration": 5,
    "start_time": "2025-05-03T17:33:11.019Z"
   },
   {
    "duration": 5,
    "start_time": "2025-05-03T17:33:11.026Z"
   },
   {
    "duration": 5,
    "start_time": "2025-05-03T17:33:11.033Z"
   },
   {
    "duration": 26,
    "start_time": "2025-05-03T17:33:11.040Z"
   },
   {
    "duration": 221,
    "start_time": "2025-05-03T17:33:11.067Z"
   },
   {
    "duration": 38,
    "start_time": "2025-05-03T17:33:16.115Z"
   },
   {
    "duration": 4,
    "start_time": "2025-05-03T17:33:46.784Z"
   },
   {
    "duration": 4,
    "start_time": "2025-05-03T17:33:47.354Z"
   },
   {
    "duration": 8,
    "start_time": "2025-05-03T17:33:47.744Z"
   },
   {
    "duration": 221,
    "start_time": "2025-05-03T17:33:50.206Z"
   },
   {
    "duration": 36,
    "start_time": "2025-05-03T17:33:51.435Z"
   },
   {
    "duration": 5,
    "start_time": "2025-05-03T17:34:23.922Z"
   },
   {
    "duration": 5,
    "start_time": "2025-05-03T17:34:24.475Z"
   },
   {
    "duration": 4,
    "start_time": "2025-05-03T17:34:29.806Z"
   },
   {
    "duration": 2,
    "start_time": "2025-05-03T17:34:31.331Z"
   },
   {
    "duration": 7,
    "start_time": "2025-05-03T17:34:31.806Z"
   },
   {
    "duration": 8,
    "start_time": "2025-05-03T17:34:38.374Z"
   },
   {
    "duration": 7,
    "start_time": "2025-05-03T17:34:41.765Z"
   },
   {
    "duration": 8,
    "start_time": "2025-05-03T17:34:48.115Z"
   },
   {
    "duration": 4,
    "start_time": "2025-05-03T17:35:02.915Z"
   },
   {
    "duration": 4,
    "start_time": "2025-05-03T17:35:03.646Z"
   },
   {
    "duration": 3,
    "start_time": "2025-05-03T17:35:04.226Z"
   },
   {
    "duration": 7,
    "start_time": "2025-05-03T17:35:05.115Z"
   },
   {
    "duration": 217,
    "start_time": "2025-05-03T17:35:12.806Z"
   },
   {
    "duration": 36,
    "start_time": "2025-05-03T17:35:19.835Z"
   },
   {
    "duration": 40,
    "start_time": "2025-05-03T17:35:31.056Z"
   },
   {
    "duration": 5,
    "start_time": "2025-05-03T17:36:03.255Z"
   },
   {
    "duration": 5,
    "start_time": "2025-05-03T17:36:04.247Z"
   },
   {
    "duration": 3,
    "start_time": "2025-05-03T17:36:04.794Z"
   },
   {
    "duration": 8,
    "start_time": "2025-05-03T17:36:05.226Z"
   },
   {
    "duration": 225,
    "start_time": "2025-05-03T17:36:15.154Z"
   },
   {
    "duration": 38,
    "start_time": "2025-05-03T17:36:16.254Z"
   },
   {
    "duration": 4,
    "start_time": "2025-05-03T17:36:40.215Z"
   },
   {
    "duration": 4,
    "start_time": "2025-05-03T17:36:42.528Z"
   },
   {
    "duration": 3,
    "start_time": "2025-05-03T17:36:43.174Z"
   },
   {
    "duration": 8,
    "start_time": "2025-05-03T17:36:44.366Z"
   },
   {
    "duration": 6,
    "start_time": "2025-05-03T17:37:07.843Z"
   },
   {
    "duration": 5,
    "start_time": "2025-05-03T17:38:14.886Z"
   },
   {
    "duration": 4,
    "start_time": "2025-05-03T17:38:15.536Z"
   },
   {
    "duration": 2,
    "start_time": "2025-05-03T17:38:16.086Z"
   },
   {
    "duration": 12,
    "start_time": "2025-05-03T17:38:16.545Z"
   },
   {
    "duration": 6,
    "start_time": "2025-05-03T17:38:29.986Z"
   },
   {
    "duration": 5,
    "start_time": "2025-05-03T17:38:38.802Z"
   },
   {
    "duration": 2,
    "start_time": "2025-05-03T17:38:41.695Z"
   },
   {
    "duration": 6,
    "start_time": "2025-05-03T17:38:42.038Z"
   },
   {
    "duration": 5,
    "start_time": "2025-05-03T17:38:55.086Z"
   },
   {
    "duration": 2,
    "start_time": "2025-05-03T17:38:55.514Z"
   },
   {
    "duration": 5,
    "start_time": "2025-05-03T17:38:55.934Z"
   },
   {
    "duration": 6,
    "start_time": "2025-05-03T17:39:05.346Z"
   },
   {
    "duration": 2,
    "start_time": "2025-05-03T17:39:05.827Z"
   },
   {
    "duration": 6,
    "start_time": "2025-05-03T17:39:06.288Z"
   },
   {
    "duration": 211,
    "start_time": "2025-05-03T17:39:11.080Z"
   },
   {
    "duration": 13,
    "start_time": "2025-05-03T17:39:12.998Z"
   },
   {
    "duration": 14,
    "start_time": "2025-05-03T17:39:20.742Z"
   },
   {
    "duration": 37,
    "start_time": "2025-05-03T17:39:35.934Z"
   },
   {
    "duration": 35,
    "start_time": "2025-05-03T17:40:10.006Z"
   },
   {
    "duration": 37,
    "start_time": "2025-05-03T17:40:16.334Z"
   },
   {
    "duration": 10,
    "start_time": "2025-05-03T17:44:38.826Z"
   },
   {
    "duration": 9,
    "start_time": "2025-05-03T17:45:15.514Z"
   },
   {
    "duration": 9,
    "start_time": "2025-05-03T17:45:21.165Z"
   },
   {
    "duration": 11,
    "start_time": "2025-05-03T17:45:37.714Z"
   },
   {
    "duration": 15,
    "start_time": "2025-05-03T17:46:06.694Z"
   },
   {
    "duration": 12,
    "start_time": "2025-05-03T17:46:23.553Z"
   },
   {
    "duration": 22,
    "start_time": "2025-05-03T17:47:03.335Z"
   },
   {
    "duration": 35,
    "start_time": "2025-05-03T17:48:11.354Z"
   },
   {
    "duration": 37,
    "start_time": "2025-05-03T17:48:21.283Z"
   },
   {
    "duration": 11,
    "start_time": "2025-05-03T17:48:27.698Z"
   },
   {
    "duration": 10,
    "start_time": "2025-05-03T17:49:26.234Z"
   },
   {
    "duration": 9,
    "start_time": "2025-05-03T17:50:19.686Z"
   },
   {
    "duration": 4,
    "start_time": "2025-05-03T17:50:24.126Z"
   },
   {
    "duration": 9,
    "start_time": "2025-05-03T17:50:27.978Z"
   },
   {
    "duration": 8,
    "start_time": "2025-05-03T17:50:40.989Z"
   },
   {
    "duration": 23,
    "start_time": "2025-05-03T17:50:44.472Z"
   },
   {
    "duration": 15,
    "start_time": "2025-05-03T17:50:55.366Z"
   },
   {
    "duration": 14,
    "start_time": "2025-05-03T17:50:58.166Z"
   },
   {
    "duration": 23,
    "start_time": "2025-05-03T17:51:01.638Z"
   },
   {
    "duration": 21,
    "start_time": "2025-05-03T17:51:32.767Z"
   },
   {
    "duration": 9,
    "start_time": "2025-05-03T17:58:49.174Z"
   },
   {
    "duration": 3,
    "start_time": "2025-05-03T17:59:02.914Z"
   },
   {
    "duration": 3,
    "start_time": "2025-05-03T17:59:06.934Z"
   },
   {
    "duration": 4,
    "start_time": "2025-05-03T17:59:10.706Z"
   },
   {
    "duration": 4818,
    "start_time": "2025-05-04T07:54:57.259Z"
   },
   {
    "duration": 753,
    "start_time": "2025-05-04T07:55:02.079Z"
   },
   {
    "duration": 440,
    "start_time": "2025-05-04T07:55:02.878Z"
   },
   {
    "duration": 201,
    "start_time": "2025-05-04T07:55:03.320Z"
   },
   {
    "duration": 7,
    "start_time": "2025-05-04T07:55:03.522Z"
   },
   {
    "duration": 122,
    "start_time": "2025-05-04T07:55:03.576Z"
   },
   {
    "duration": 310,
    "start_time": "2025-05-04T07:55:03.699Z"
   },
   {
    "duration": 75,
    "start_time": "2025-05-04T07:55:04.011Z"
   },
   {
    "duration": 519,
    "start_time": "2025-05-04T07:55:04.089Z"
   },
   {
    "duration": 3,
    "start_time": "2025-05-04T07:55:04.610Z"
   },
   {
    "duration": 62,
    "start_time": "2025-05-04T07:55:04.615Z"
   },
   {
    "duration": 111,
    "start_time": "2025-05-04T07:55:04.679Z"
   },
   {
    "duration": 1792,
    "start_time": "2025-05-04T07:55:04.792Z"
   },
   {
    "duration": 7,
    "start_time": "2025-05-04T07:55:06.586Z"
   },
   {
    "duration": 1319,
    "start_time": "2025-05-04T07:55:06.595Z"
   },
   {
    "duration": 105,
    "start_time": "2025-05-04T07:55:07.917Z"
   },
   {
    "duration": 74,
    "start_time": "2025-05-04T07:55:08.024Z"
   },
   {
    "duration": 84,
    "start_time": "2025-05-04T07:55:08.100Z"
   },
   {
    "duration": 28,
    "start_time": "2025-05-04T07:55:08.187Z"
   },
   {
    "duration": 179,
    "start_time": "2025-05-04T07:55:08.217Z"
   },
   {
    "duration": 601,
    "start_time": "2025-05-04T07:55:08.398Z"
   },
   {
    "duration": 108,
    "start_time": "2025-05-04T07:55:09.001Z"
   },
   {
    "duration": 76,
    "start_time": "2025-05-04T07:55:09.111Z"
   },
   {
    "duration": 226,
    "start_time": "2025-05-04T07:55:09.190Z"
   },
   {
    "duration": 174,
    "start_time": "2025-05-04T07:55:09.418Z"
   },
   {
    "duration": 25,
    "start_time": "2025-05-04T07:55:09.594Z"
   },
   {
    "duration": 231,
    "start_time": "2025-05-04T07:55:09.678Z"
   },
   {
    "duration": 180,
    "start_time": "2025-05-04T07:55:09.913Z"
   },
   {
    "duration": 5,
    "start_time": "2025-05-04T07:55:10.094Z"
   },
   {
    "duration": 17,
    "start_time": "2025-05-04T07:55:10.101Z"
   },
   {
    "duration": 130,
    "start_time": "2025-05-04T07:55:10.119Z"
   },
   {
    "duration": 249,
    "start_time": "2025-05-04T07:55:10.251Z"
   },
   {
    "duration": 310,
    "start_time": "2025-05-04T07:55:10.502Z"
   },
   {
    "duration": 77,
    "start_time": "2025-05-04T07:55:10.814Z"
   },
   {
    "duration": 9,
    "start_time": "2025-05-04T07:55:10.893Z"
   },
   {
    "duration": 110,
    "start_time": "2025-05-04T07:55:10.904Z"
   },
   {
    "duration": 3,
    "start_time": "2025-05-04T07:55:11.016Z"
   },
   {
    "duration": 3423,
    "start_time": "2025-05-04T08:34:01.708Z"
   },
   {
    "duration": 342,
    "start_time": "2025-05-04T08:34:05.133Z"
   },
   {
    "duration": 176,
    "start_time": "2025-05-04T08:34:05.480Z"
   },
   {
    "duration": 81,
    "start_time": "2025-05-04T08:34:05.658Z"
   },
   {
    "duration": 7,
    "start_time": "2025-05-04T08:34:05.741Z"
   },
   {
    "duration": 180,
    "start_time": "2025-05-04T08:34:05.750Z"
   },
   {
    "duration": 142,
    "start_time": "2025-05-04T08:34:05.932Z"
   },
   {
    "duration": 23,
    "start_time": "2025-05-04T08:34:06.075Z"
   },
   {
    "duration": 234,
    "start_time": "2025-05-04T08:34:06.100Z"
   },
   {
    "duration": 2,
    "start_time": "2025-05-04T08:34:06.337Z"
   },
   {
    "duration": 51,
    "start_time": "2025-05-04T08:34:06.341Z"
   },
   {
    "duration": 16,
    "start_time": "2025-05-04T08:34:06.394Z"
   },
   {
    "duration": 1111,
    "start_time": "2025-05-04T08:34:06.411Z"
   },
   {
    "duration": 5,
    "start_time": "2025-05-04T08:34:07.523Z"
   },
   {
    "duration": 664,
    "start_time": "2025-05-04T08:34:07.530Z"
   },
   {
    "duration": 39,
    "start_time": "2025-05-04T08:34:08.196Z"
   },
   {
    "duration": 13,
    "start_time": "2025-05-04T08:34:08.237Z"
   },
   {
    "duration": 51,
    "start_time": "2025-05-04T08:34:08.251Z"
   },
   {
    "duration": 84,
    "start_time": "2025-05-04T08:34:08.304Z"
   },
   {
    "duration": 46,
    "start_time": "2025-05-04T08:34:08.391Z"
   },
   {
    "duration": 320,
    "start_time": "2025-05-04T08:34:08.439Z"
   },
   {
    "duration": 60,
    "start_time": "2025-05-04T08:34:08.760Z"
   },
   {
    "duration": 16,
    "start_time": "2025-05-04T08:34:08.822Z"
   },
   {
    "duration": 186,
    "start_time": "2025-05-04T08:34:08.839Z"
   },
   {
    "duration": 59,
    "start_time": "2025-05-04T08:34:09.026Z"
   },
   {
    "duration": 26,
    "start_time": "2025-05-04T08:34:09.087Z"
   },
   {
    "duration": 122,
    "start_time": "2025-05-04T08:34:09.115Z"
   },
   {
    "duration": 61,
    "start_time": "2025-05-04T08:34:09.240Z"
   },
   {
    "duration": 5,
    "start_time": "2025-05-04T08:34:09.302Z"
   },
   {
    "duration": 7,
    "start_time": "2025-05-04T08:34:09.309Z"
   },
   {
    "duration": 19,
    "start_time": "2025-05-04T08:34:09.317Z"
   },
   {
    "duration": 128,
    "start_time": "2025-05-04T08:34:09.337Z"
   },
   {
    "duration": 187,
    "start_time": "2025-05-04T08:34:09.467Z"
   },
   {
    "duration": 19,
    "start_time": "2025-05-04T08:34:09.655Z"
   },
   {
    "duration": 13,
    "start_time": "2025-05-04T08:34:09.676Z"
   },
   {
    "duration": 183,
    "start_time": "2025-05-04T08:34:09.692Z"
   },
   {
    "duration": 115,
    "start_time": "2025-05-04T08:34:09.877Z"
   },
   {
    "duration": 3152,
    "start_time": "2025-05-04T14:06:34.452Z"
   },
   {
    "duration": 369,
    "start_time": "2025-05-04T14:06:37.606Z"
   },
   {
    "duration": 1008,
    "start_time": "2025-05-04T14:06:37.977Z"
   },
   {
    "duration": 195,
    "start_time": "2025-05-04T14:06:38.986Z"
   },
   {
    "duration": 79,
    "start_time": "2025-05-04T14:06:39.184Z"
   },
   {
    "duration": 602,
    "start_time": "2025-05-04T14:06:39.265Z"
   },
   {
    "duration": 330,
    "start_time": "2025-05-04T14:06:39.869Z"
   },
   {
    "duration": 17,
    "start_time": "2025-05-04T14:06:40.262Z"
   },
   {
    "duration": 1645,
    "start_time": "2025-05-04T14:06:40.281Z"
   },
   {
    "duration": 836,
    "start_time": "2025-05-04T14:06:41.928Z"
   },
   {
    "duration": 1076,
    "start_time": "2025-05-04T14:06:42.765Z"
   },
   {
    "duration": 769,
    "start_time": "2025-05-04T14:06:43.842Z"
   },
   {
    "duration": 2405,
    "start_time": "2025-05-04T14:06:44.613Z"
   },
   {
    "duration": 6,
    "start_time": "2025-05-04T14:06:47.021Z"
   },
   {
    "duration": 832,
    "start_time": "2025-05-04T14:06:47.029Z"
   },
   {
    "duration": 303,
    "start_time": "2025-05-04T14:06:47.863Z"
   },
   {
    "duration": 808,
    "start_time": "2025-05-04T14:06:48.168Z"
   },
   {
    "duration": 1620,
    "start_time": "2025-05-04T14:06:48.978Z"
   },
   {
    "duration": 1948,
    "start_time": "2025-05-04T14:06:50.600Z"
   },
   {
    "duration": 1279,
    "start_time": "2025-05-04T14:06:52.550Z"
   },
   {
    "duration": 863,
    "start_time": "2025-05-04T14:06:53.830Z"
   },
   {
    "duration": 209,
    "start_time": "2025-05-04T14:06:54.695Z"
   },
   {
    "duration": 878,
    "start_time": "2025-05-04T14:06:54.906Z"
   },
   {
    "duration": 1250,
    "start_time": "2025-05-04T14:06:55.786Z"
   },
   {
    "duration": 533,
    "start_time": "2025-05-04T14:06:57.038Z"
   },
   {
    "duration": 206,
    "start_time": "2025-05-04T14:06:57.572Z"
   },
   {
    "duration": 283,
    "start_time": "2025-05-04T14:06:57.779Z"
   },
   {
    "duration": 396,
    "start_time": "2025-05-04T14:06:58.064Z"
   },
   {
    "duration": 7,
    "start_time": "2025-05-04T14:06:58.463Z"
   },
   {
    "duration": 1078,
    "start_time": "2025-05-04T14:06:58.471Z"
   },
   {
    "duration": 1320,
    "start_time": "2025-05-04T14:06:59.551Z"
   },
   {
    "duration": 654,
    "start_time": "2025-05-04T14:07:00.873Z"
   },
   {
    "duration": 101,
    "start_time": "2025-05-04T14:07:01.529Z"
   },
   {
    "duration": 1517,
    "start_time": "2025-05-04T14:07:01.632Z"
   },
   {
    "duration": 1040,
    "start_time": "2025-05-04T14:07:03.151Z"
   },
   {
    "duration": 176,
    "start_time": "2025-05-04T14:07:04.193Z"
   },
   {
    "duration": 745,
    "start_time": "2025-05-04T14:07:04.371Z"
   }
  ],
  "kernelspec": {
   "display_name": "Python 3 (ipykernel)",
   "language": "python",
   "name": "python3"
  },
  "language_info": {
   "codemirror_mode": {
    "name": "ipython",
    "version": 3
   },
   "file_extension": ".py",
   "mimetype": "text/x-python",
   "name": "python",
   "nbconvert_exporter": "python",
   "pygments_lexer": "ipython3",
   "version": "3.11.9"
  },
  "toc": {
   "base_numbering": 1,
   "nav_menu": {},
   "number_sections": true,
   "sideBar": true,
   "skip_h1_title": false,
   "title_cell": "Table of Contents",
   "title_sidebar": "Contents",
   "toc_cell": false,
   "toc_position": {
    "height": "calc(100% - 180px)",
    "left": "10px",
    "top": "150px",
    "width": "165px"
   },
   "toc_section_display": true,
   "toc_window_display": true
  }
 },
 "nbformat": 4,
 "nbformat_minor": 4
}
